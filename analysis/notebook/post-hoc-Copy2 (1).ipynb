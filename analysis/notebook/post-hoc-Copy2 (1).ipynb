{
 "cells": [
  {
   "cell_type": "code",
   "execution_count": 18,
   "id": "0fefe8fc-01da-468e-8181-f02b42b6cd7b",
   "metadata": {},
   "outputs": [],
   "source": [
    "import joblib\n",
    "import os\n",
    "import pandas as pd\n",
    "from sklearn.ensemble import RandomForestClassifier\n",
    "import numpy as np\n",
    "from datetime import datetime\n",
    "import matplotlib.pyplot as plt\n",
    "import pickle\n",
    "import time\n",
    "from tkinter import *\n",
    "from tkinter import filedialog\n",
    "from tqdm import tqdm\n",
    "import itertools\n",
    "import math"
   ]
  },
  {
   "cell_type": "code",
   "execution_count": 50,
   "id": "9943bc21-3590-4325-8ffa-b9ef5e05b725",
   "metadata": {},
   "outputs": [],
   "source": [
    "def adp_filt(currdf: object, pose):\n",
    "    lIndex = []\n",
    "    xIndex = []\n",
    "    yIndex = []\n",
    "    currdf = np.array(currdf[1:])\n",
    "    for header in pose:\n",
    "        if currdf[0][header + 1] == \"likelihood\":\n",
    "            lIndex.append(header)\n",
    "        elif currdf[0][header + 1] == \"x\":\n",
    "            xIndex.append(header)\n",
    "        elif currdf[0][header + 1] == \"y\":\n",
    "            yIndex.append(header)\n",
    "    curr_df1 = currdf[:, 1:]\n",
    "    datax = curr_df1[1:, np.array(xIndex)]\n",
    "    datay = curr_df1[1:, np.array(yIndex)]\n",
    "    data_lh = curr_df1[1:, np.array(lIndex)]\n",
    "    currdf_filt = np.zeros((datax.shape[0], (datax.shape[1]) * 2))\n",
    "    perc_rect = []\n",
    "    for i in range(data_lh.shape[1]):\n",
    "        perc_rect.append(0)\n",
    "    for x in tqdm(range(data_lh.shape[1])):\n",
    "        a, b = np.histogram(data_lh[1:, x].astype(np.float))\n",
    "        rise_a = np.where(np.diff(a) >= 0)\n",
    "        if rise_a[0][0] > 1:\n",
    "            llh = b[rise_a[0][0]]\n",
    "        else:\n",
    "            llh = b[rise_a[0][1]]\n",
    "        # llh=0\n",
    "        data_lh_float = data_lh[:, x].astype(np.float)\n",
    "        perc_rect[x] = np.sum(data_lh_float < llh) / data_lh.shape[0]\n",
    "        currdf_filt[0, (2 * x):(2 * x + 2)] = np.hstack([datax[0, x], datay[0, x]])\n",
    "        for i in range(1, data_lh.shape[0]):\n",
    "            if data_lh_float[i] < llh:\n",
    "                currdf_filt[i, (2 * x):(2 * x + 2)] = currdf_filt[i - 1, (2 * x):(2 * x + 2)]\n",
    "            else:\n",
    "                currdf_filt[i, (2 * x):(2 * x + 2)] = np.hstack([datax[i, x], datay[i, x]])\n",
    "    currdf_filt = np.array(currdf_filt)\n",
    "    currdf_filt = currdf_filt.astype(np.float)\n",
    "    return currdf_filt, perc_rect\n",
    "\n",
    "def boxcar_center(a, n):\n",
    "    a1 = pd.Series(a)\n",
    "    moving_avg = np.array(a1.rolling(window=n, min_periods=1, center=True).mean())\n",
    "\n",
    "    return moving_avg"
   ]
  },
  {
   "cell_type": "code",
   "execution_count": 51,
   "id": "d0654256-8c60-480e-b166-b0763c349ec2",
   "metadata": {},
   "outputs": [],
   "source": [
    "# Create Tk root\n",
    "root = Tk()\n",
    "# Hide the main window\n",
    "root.withdraw()\n",
    "root.call('wm', 'attributes', '.', '-topmost', True)\n",
    "infiles = filedialog.askopenfilename(multiple=True, title='load deeplabcut csv')\n",
    "\n",
    "%gui tk"
   ]
  },
  {
   "cell_type": "code",
   "execution_count": 52,
   "id": "17750995-dc6f-4f6c-9bef-19338d5634b4",
   "metadata": {},
   "outputs": [],
   "source": [
    "df = pd.read_csv(infiles[0], low_memory=False)"
   ]
  },
  {
   "cell_type": "code",
   "execution_count": 53,
   "id": "30756419-e99b-43ca-8ff4-301236d4308f",
   "metadata": {},
   "outputs": [
    {
     "data": {
      "text/html": [
       "<div>\n",
       "<style scoped>\n",
       "    .dataframe tbody tr th:only-of-type {\n",
       "        vertical-align: middle;\n",
       "    }\n",
       "\n",
       "    .dataframe tbody tr th {\n",
       "        vertical-align: top;\n",
       "    }\n",
       "\n",
       "    .dataframe thead th {\n",
       "        text-align: right;\n",
       "    }\n",
       "</style>\n",
       "<table border=\"1\" class=\"dataframe\">\n",
       "  <thead>\n",
       "    <tr style=\"text-align: right;\">\n",
       "      <th></th>\n",
       "      <th>scorer</th>\n",
       "      <th>DLC_resnet50_bottomup_clearSep21shuffle1_1030000</th>\n",
       "      <th>DLC_resnet50_bottomup_clearSep21shuffle1_1030000.1</th>\n",
       "      <th>DLC_resnet50_bottomup_clearSep21shuffle1_1030000.2</th>\n",
       "      <th>DLC_resnet50_bottomup_clearSep21shuffle1_1030000.3</th>\n",
       "      <th>DLC_resnet50_bottomup_clearSep21shuffle1_1030000.4</th>\n",
       "      <th>DLC_resnet50_bottomup_clearSep21shuffle1_1030000.5</th>\n",
       "      <th>DLC_resnet50_bottomup_clearSep21shuffle1_1030000.6</th>\n",
       "      <th>DLC_resnet50_bottomup_clearSep21shuffle1_1030000.7</th>\n",
       "      <th>DLC_resnet50_bottomup_clearSep21shuffle1_1030000.8</th>\n",
       "      <th>DLC_resnet50_bottomup_clearSep21shuffle1_1030000.9</th>\n",
       "      <th>DLC_resnet50_bottomup_clearSep21shuffle1_1030000.10</th>\n",
       "      <th>DLC_resnet50_bottomup_clearSep21shuffle1_1030000.11</th>\n",
       "      <th>DLC_resnet50_bottomup_clearSep21shuffle1_1030000.12</th>\n",
       "      <th>DLC_resnet50_bottomup_clearSep21shuffle1_1030000.13</th>\n",
       "      <th>DLC_resnet50_bottomup_clearSep21shuffle1_1030000.14</th>\n",
       "      <th>DLC_resnet50_bottomup_clearSep21shuffle1_1030000.15</th>\n",
       "      <th>DLC_resnet50_bottomup_clearSep21shuffle1_1030000.16</th>\n",
       "      <th>DLC_resnet50_bottomup_clearSep21shuffle1_1030000.17</th>\n",
       "    </tr>\n",
       "  </thead>\n",
       "  <tbody>\n",
       "    <tr>\n",
       "      <th>0</th>\n",
       "      <td>bodyparts</td>\n",
       "      <td>snout</td>\n",
       "      <td>snout</td>\n",
       "      <td>snout</td>\n",
       "      <td>right-forepaw</td>\n",
       "      <td>right-forepaw</td>\n",
       "      <td>right-forepaw</td>\n",
       "      <td>left-forepaw</td>\n",
       "      <td>left-forepaw</td>\n",
       "      <td>left-forepaw</td>\n",
       "      <td>right-hindpaw</td>\n",
       "      <td>right-hindpaw</td>\n",
       "      <td>right-hindpaw</td>\n",
       "      <td>left-hindpaw</td>\n",
       "      <td>left-hindpaw</td>\n",
       "      <td>left-hindpaw</td>\n",
       "      <td>tail-base</td>\n",
       "      <td>tail-base</td>\n",
       "      <td>tail-base</td>\n",
       "    </tr>\n",
       "    <tr>\n",
       "      <th>1</th>\n",
       "      <td>coords</td>\n",
       "      <td>x</td>\n",
       "      <td>y</td>\n",
       "      <td>likelihood</td>\n",
       "      <td>x</td>\n",
       "      <td>y</td>\n",
       "      <td>likelihood</td>\n",
       "      <td>x</td>\n",
       "      <td>y</td>\n",
       "      <td>likelihood</td>\n",
       "      <td>x</td>\n",
       "      <td>y</td>\n",
       "      <td>likelihood</td>\n",
       "      <td>x</td>\n",
       "      <td>y</td>\n",
       "      <td>likelihood</td>\n",
       "      <td>x</td>\n",
       "      <td>y</td>\n",
       "      <td>likelihood</td>\n",
       "    </tr>\n",
       "    <tr>\n",
       "      <th>2</th>\n",
       "      <td>0</td>\n",
       "      <td>770.8351440429688</td>\n",
       "      <td>567.4705810546875</td>\n",
       "      <td>0.9890758991241455</td>\n",
       "      <td>757.4652099609375</td>\n",
       "      <td>567.7769775390625</td>\n",
       "      <td>0.9988705515861511</td>\n",
       "      <td>748.8650512695312</td>\n",
       "      <td>589.75634765625</td>\n",
       "      <td>0.999021053314209</td>\n",
       "      <td>708.3623046875</td>\n",
       "      <td>561.6245727539062</td>\n",
       "      <td>0.9997289776802063</td>\n",
       "      <td>677.396240234375</td>\n",
       "      <td>600.2677001953125</td>\n",
       "      <td>0.9998993873596191</td>\n",
       "      <td>664.3548583984375</td>\n",
       "      <td>574.5863037109375</td>\n",
       "      <td>0.9996558427810669</td>\n",
       "    </tr>\n",
       "    <tr>\n",
       "      <th>3</th>\n",
       "      <td>1</td>\n",
       "      <td>768.6314086914062</td>\n",
       "      <td>564.6966552734375</td>\n",
       "      <td>0.9897860288619995</td>\n",
       "      <td>756.7302856445312</td>\n",
       "      <td>567.3088989257812</td>\n",
       "      <td>0.9984824061393738</td>\n",
       "      <td>749.5425415039062</td>\n",
       "      <td>590.5848999023438</td>\n",
       "      <td>0.9993357062339783</td>\n",
       "      <td>707.1015014648438</td>\n",
       "      <td>561.972900390625</td>\n",
       "      <td>0.9996579885482788</td>\n",
       "      <td>677.739501953125</td>\n",
       "      <td>600.2362060546875</td>\n",
       "      <td>0.9998801946640015</td>\n",
       "      <td>662.8864135742188</td>\n",
       "      <td>573.4024047851562</td>\n",
       "      <td>0.9998563528060913</td>\n",
       "    </tr>\n",
       "    <tr>\n",
       "      <th>4</th>\n",
       "      <td>2</td>\n",
       "      <td>765.8948364257812</td>\n",
       "      <td>562.3164672851562</td>\n",
       "      <td>0.9981891512870789</td>\n",
       "      <td>747.7654418945312</td>\n",
       "      <td>562.8372192382812</td>\n",
       "      <td>0.9993269443511963</td>\n",
       "      <td>750.2341918945312</td>\n",
       "      <td>590.4234008789062</td>\n",
       "      <td>0.9991907477378845</td>\n",
       "      <td>706.387939453125</td>\n",
       "      <td>561.4625244140625</td>\n",
       "      <td>0.9997993111610413</td>\n",
       "      <td>678.2116088867188</td>\n",
       "      <td>600.3167114257812</td>\n",
       "      <td>0.9998658895492554</td>\n",
       "      <td>663.49853515625</td>\n",
       "      <td>574.06005859375</td>\n",
       "      <td>0.9998573064804077</td>\n",
       "    </tr>\n",
       "    <tr>\n",
       "      <th>...</th>\n",
       "      <td>...</td>\n",
       "      <td>...</td>\n",
       "      <td>...</td>\n",
       "      <td>...</td>\n",
       "      <td>...</td>\n",
       "      <td>...</td>\n",
       "      <td>...</td>\n",
       "      <td>...</td>\n",
       "      <td>...</td>\n",
       "      <td>...</td>\n",
       "      <td>...</td>\n",
       "      <td>...</td>\n",
       "      <td>...</td>\n",
       "      <td>...</td>\n",
       "      <td>...</td>\n",
       "      <td>...</td>\n",
       "      <td>...</td>\n",
       "      <td>...</td>\n",
       "      <td>...</td>\n",
       "    </tr>\n",
       "    <tr>\n",
       "      <th>161584</th>\n",
       "      <td>161582</td>\n",
       "      <td>715.0020751953125</td>\n",
       "      <td>179.82601928710938</td>\n",
       "      <td>0.9983914494514465</td>\n",
       "      <td>730.019287109375</td>\n",
       "      <td>197.030029296875</td>\n",
       "      <td>0.9769902229309082</td>\n",
       "      <td>731.938232421875</td>\n",
       "      <td>190.35972595214844</td>\n",
       "      <td>0.8282947540283203</td>\n",
       "      <td>751.6287841796875</td>\n",
       "      <td>211.7681884765625</td>\n",
       "      <td>0.9994458556175232</td>\n",
       "      <td>728.0454711914062</td>\n",
       "      <td>186.34701538085938</td>\n",
       "      <td>0.9560379981994629</td>\n",
       "      <td>767.62744140625</td>\n",
       "      <td>176.62684631347656</td>\n",
       "      <td>0.9996780157089233</td>\n",
       "    </tr>\n",
       "    <tr>\n",
       "      <th>161585</th>\n",
       "      <td>161583</td>\n",
       "      <td>713.2131958007812</td>\n",
       "      <td>181.43710327148438</td>\n",
       "      <td>0.9991058707237244</td>\n",
       "      <td>730.9525756835938</td>\n",
       "      <td>197.39146423339844</td>\n",
       "      <td>0.9629812836647034</td>\n",
       "      <td>731.984375</td>\n",
       "      <td>191.83067321777344</td>\n",
       "      <td>0.9199346303939819</td>\n",
       "      <td>751.5671997070312</td>\n",
       "      <td>211.9090118408203</td>\n",
       "      <td>0.999230146408081</td>\n",
       "      <td>725.4998168945312</td>\n",
       "      <td>186.25791931152344</td>\n",
       "      <td>0.9685111045837402</td>\n",
       "      <td>762.5570678710938</td>\n",
       "      <td>175.86172485351562</td>\n",
       "      <td>0.9994325041770935</td>\n",
       "    </tr>\n",
       "    <tr>\n",
       "      <th>161586</th>\n",
       "      <td>161584</td>\n",
       "      <td>714.2919921875</td>\n",
       "      <td>181.9589080810547</td>\n",
       "      <td>0.999313473701477</td>\n",
       "      <td>731.3096313476562</td>\n",
       "      <td>196.9551239013672</td>\n",
       "      <td>0.9775495529174805</td>\n",
       "      <td>732.817138671875</td>\n",
       "      <td>191.1296844482422</td>\n",
       "      <td>0.9191429615020752</td>\n",
       "      <td>751.6978759765625</td>\n",
       "      <td>211.64785766601562</td>\n",
       "      <td>0.9988784193992615</td>\n",
       "      <td>724.2835693359375</td>\n",
       "      <td>186.49163818359375</td>\n",
       "      <td>0.9296874403953552</td>\n",
       "      <td>761.2387084960938</td>\n",
       "      <td>174.36753845214844</td>\n",
       "      <td>0.9994789958000183</td>\n",
       "    </tr>\n",
       "    <tr>\n",
       "      <th>161587</th>\n",
       "      <td>161585</td>\n",
       "      <td>713.1619262695312</td>\n",
       "      <td>182.71971130371094</td>\n",
       "      <td>0.9991796612739563</td>\n",
       "      <td>731.5374755859375</td>\n",
       "      <td>197.9582977294922</td>\n",
       "      <td>0.9649544954299927</td>\n",
       "      <td>731.781494140625</td>\n",
       "      <td>192.1973114013672</td>\n",
       "      <td>0.9067642092704773</td>\n",
       "      <td>751.6336059570312</td>\n",
       "      <td>211.60379028320312</td>\n",
       "      <td>0.9992129802703857</td>\n",
       "      <td>725.2329711914062</td>\n",
       "      <td>187.26451110839844</td>\n",
       "      <td>0.9660616517066956</td>\n",
       "      <td>759.744384765625</td>\n",
       "      <td>174.40631103515625</td>\n",
       "      <td>0.9998055100440979</td>\n",
       "    </tr>\n",
       "    <tr>\n",
       "      <th>161588</th>\n",
       "      <td>161586</td>\n",
       "      <td>715.9550170898438</td>\n",
       "      <td>183.2774200439453</td>\n",
       "      <td>0.9987608194351196</td>\n",
       "      <td>731.6863403320312</td>\n",
       "      <td>196.6011199951172</td>\n",
       "      <td>0.9731380939483643</td>\n",
       "      <td>732.4202880859375</td>\n",
       "      <td>191.03671264648438</td>\n",
       "      <td>0.8631171584129333</td>\n",
       "      <td>751.6572875976562</td>\n",
       "      <td>211.517822265625</td>\n",
       "      <td>0.9979386925697327</td>\n",
       "      <td>725.5479125976562</td>\n",
       "      <td>186.2080078125</td>\n",
       "      <td>0.9019253253936768</td>\n",
       "      <td>759.3992309570312</td>\n",
       "      <td>173.18331909179688</td>\n",
       "      <td>0.9998540878295898</td>\n",
       "    </tr>\n",
       "  </tbody>\n",
       "</table>\n",
       "<p>161589 rows × 19 columns</p>\n",
       "</div>"
      ],
      "text/plain": [
       "           scorer DLC_resnet50_bottomup_clearSep21shuffle1_1030000  \\\n",
       "0       bodyparts                                            snout   \n",
       "1          coords                                                x   \n",
       "2               0                                770.8351440429688   \n",
       "3               1                                768.6314086914062   \n",
       "4               2                                765.8948364257812   \n",
       "...           ...                                              ...   \n",
       "161584     161582                                715.0020751953125   \n",
       "161585     161583                                713.2131958007812   \n",
       "161586     161584                                   714.2919921875   \n",
       "161587     161585                                713.1619262695312   \n",
       "161588     161586                                715.9550170898438   \n",
       "\n",
       "       DLC_resnet50_bottomup_clearSep21shuffle1_1030000.1  \\\n",
       "0                                                   snout   \n",
       "1                                                       y   \n",
       "2                                       567.4705810546875   \n",
       "3                                       564.6966552734375   \n",
       "4                                       562.3164672851562   \n",
       "...                                                   ...   \n",
       "161584                                 179.82601928710938   \n",
       "161585                                 181.43710327148438   \n",
       "161586                                  181.9589080810547   \n",
       "161587                                 182.71971130371094   \n",
       "161588                                  183.2774200439453   \n",
       "\n",
       "       DLC_resnet50_bottomup_clearSep21shuffle1_1030000.2  \\\n",
       "0                                                   snout   \n",
       "1                                              likelihood   \n",
       "2                                      0.9890758991241455   \n",
       "3                                      0.9897860288619995   \n",
       "4                                      0.9981891512870789   \n",
       "...                                                   ...   \n",
       "161584                                 0.9983914494514465   \n",
       "161585                                 0.9991058707237244   \n",
       "161586                                  0.999313473701477   \n",
       "161587                                 0.9991796612739563   \n",
       "161588                                 0.9987608194351196   \n",
       "\n",
       "       DLC_resnet50_bottomup_clearSep21shuffle1_1030000.3  \\\n",
       "0                                           right-forepaw   \n",
       "1                                                       x   \n",
       "2                                       757.4652099609375   \n",
       "3                                       756.7302856445312   \n",
       "4                                       747.7654418945312   \n",
       "...                                                   ...   \n",
       "161584                                   730.019287109375   \n",
       "161585                                  730.9525756835938   \n",
       "161586                                  731.3096313476562   \n",
       "161587                                  731.5374755859375   \n",
       "161588                                  731.6863403320312   \n",
       "\n",
       "       DLC_resnet50_bottomup_clearSep21shuffle1_1030000.4  \\\n",
       "0                                           right-forepaw   \n",
       "1                                                       y   \n",
       "2                                       567.7769775390625   \n",
       "3                                       567.3088989257812   \n",
       "4                                       562.8372192382812   \n",
       "...                                                   ...   \n",
       "161584                                   197.030029296875   \n",
       "161585                                 197.39146423339844   \n",
       "161586                                  196.9551239013672   \n",
       "161587                                  197.9582977294922   \n",
       "161588                                  196.6011199951172   \n",
       "\n",
       "       DLC_resnet50_bottomup_clearSep21shuffle1_1030000.5  \\\n",
       "0                                           right-forepaw   \n",
       "1                                              likelihood   \n",
       "2                                      0.9988705515861511   \n",
       "3                                      0.9984824061393738   \n",
       "4                                      0.9993269443511963   \n",
       "...                                                   ...   \n",
       "161584                                 0.9769902229309082   \n",
       "161585                                 0.9629812836647034   \n",
       "161586                                 0.9775495529174805   \n",
       "161587                                 0.9649544954299927   \n",
       "161588                                 0.9731380939483643   \n",
       "\n",
       "       DLC_resnet50_bottomup_clearSep21shuffle1_1030000.6  \\\n",
       "0                                            left-forepaw   \n",
       "1                                                       x   \n",
       "2                                       748.8650512695312   \n",
       "3                                       749.5425415039062   \n",
       "4                                       750.2341918945312   \n",
       "...                                                   ...   \n",
       "161584                                   731.938232421875   \n",
       "161585                                         731.984375   \n",
       "161586                                   732.817138671875   \n",
       "161587                                   731.781494140625   \n",
       "161588                                  732.4202880859375   \n",
       "\n",
       "       DLC_resnet50_bottomup_clearSep21shuffle1_1030000.7  \\\n",
       "0                                            left-forepaw   \n",
       "1                                                       y   \n",
       "2                                         589.75634765625   \n",
       "3                                       590.5848999023438   \n",
       "4                                       590.4234008789062   \n",
       "...                                                   ...   \n",
       "161584                                 190.35972595214844   \n",
       "161585                                 191.83067321777344   \n",
       "161586                                  191.1296844482422   \n",
       "161587                                  192.1973114013672   \n",
       "161588                                 191.03671264648438   \n",
       "\n",
       "       DLC_resnet50_bottomup_clearSep21shuffle1_1030000.8  \\\n",
       "0                                            left-forepaw   \n",
       "1                                              likelihood   \n",
       "2                                       0.999021053314209   \n",
       "3                                      0.9993357062339783   \n",
       "4                                      0.9991907477378845   \n",
       "...                                                   ...   \n",
       "161584                                 0.8282947540283203   \n",
       "161585                                 0.9199346303939819   \n",
       "161586                                 0.9191429615020752   \n",
       "161587                                 0.9067642092704773   \n",
       "161588                                 0.8631171584129333   \n",
       "\n",
       "       DLC_resnet50_bottomup_clearSep21shuffle1_1030000.9  \\\n",
       "0                                           right-hindpaw   \n",
       "1                                                       x   \n",
       "2                                          708.3623046875   \n",
       "3                                       707.1015014648438   \n",
       "4                                        706.387939453125   \n",
       "...                                                   ...   \n",
       "161584                                  751.6287841796875   \n",
       "161585                                  751.5671997070312   \n",
       "161586                                  751.6978759765625   \n",
       "161587                                  751.6336059570312   \n",
       "161588                                  751.6572875976562   \n",
       "\n",
       "       DLC_resnet50_bottomup_clearSep21shuffle1_1030000.10  \\\n",
       "0                                           right-hindpaw    \n",
       "1                                                       y    \n",
       "2                                       561.6245727539062    \n",
       "3                                        561.972900390625    \n",
       "4                                       561.4625244140625    \n",
       "...                                                   ...    \n",
       "161584                                  211.7681884765625    \n",
       "161585                                  211.9090118408203    \n",
       "161586                                 211.64785766601562    \n",
       "161587                                 211.60379028320312    \n",
       "161588                                   211.517822265625    \n",
       "\n",
       "       DLC_resnet50_bottomup_clearSep21shuffle1_1030000.11  \\\n",
       "0                                           right-hindpaw    \n",
       "1                                              likelihood    \n",
       "2                                      0.9997289776802063    \n",
       "3                                      0.9996579885482788    \n",
       "4                                      0.9997993111610413    \n",
       "...                                                   ...    \n",
       "161584                                 0.9994458556175232    \n",
       "161585                                  0.999230146408081    \n",
       "161586                                 0.9988784193992615    \n",
       "161587                                 0.9992129802703857    \n",
       "161588                                 0.9979386925697327    \n",
       "\n",
       "       DLC_resnet50_bottomup_clearSep21shuffle1_1030000.12  \\\n",
       "0                                            left-hindpaw    \n",
       "1                                                       x    \n",
       "2                                        677.396240234375    \n",
       "3                                        677.739501953125    \n",
       "4                                       678.2116088867188    \n",
       "...                                                   ...    \n",
       "161584                                  728.0454711914062    \n",
       "161585                                  725.4998168945312    \n",
       "161586                                  724.2835693359375    \n",
       "161587                                  725.2329711914062    \n",
       "161588                                  725.5479125976562    \n",
       "\n",
       "       DLC_resnet50_bottomup_clearSep21shuffle1_1030000.13  \\\n",
       "0                                            left-hindpaw    \n",
       "1                                                       y    \n",
       "2                                       600.2677001953125    \n",
       "3                                       600.2362060546875    \n",
       "4                                       600.3167114257812    \n",
       "...                                                   ...    \n",
       "161584                                 186.34701538085938    \n",
       "161585                                 186.25791931152344    \n",
       "161586                                 186.49163818359375    \n",
       "161587                                 187.26451110839844    \n",
       "161588                                     186.2080078125    \n",
       "\n",
       "       DLC_resnet50_bottomup_clearSep21shuffle1_1030000.14  \\\n",
       "0                                            left-hindpaw    \n",
       "1                                              likelihood    \n",
       "2                                      0.9998993873596191    \n",
       "3                                      0.9998801946640015    \n",
       "4                                      0.9998658895492554    \n",
       "...                                                   ...    \n",
       "161584                                 0.9560379981994629    \n",
       "161585                                 0.9685111045837402    \n",
       "161586                                 0.9296874403953552    \n",
       "161587                                 0.9660616517066956    \n",
       "161588                                 0.9019253253936768    \n",
       "\n",
       "       DLC_resnet50_bottomup_clearSep21shuffle1_1030000.15  \\\n",
       "0                                               tail-base    \n",
       "1                                                       x    \n",
       "2                                       664.3548583984375    \n",
       "3                                       662.8864135742188    \n",
       "4                                         663.49853515625    \n",
       "...                                                   ...    \n",
       "161584                                    767.62744140625    \n",
       "161585                                  762.5570678710938    \n",
       "161586                                  761.2387084960938    \n",
       "161587                                   759.744384765625    \n",
       "161588                                  759.3992309570312    \n",
       "\n",
       "       DLC_resnet50_bottomup_clearSep21shuffle1_1030000.16  \\\n",
       "0                                               tail-base    \n",
       "1                                                       y    \n",
       "2                                       574.5863037109375    \n",
       "3                                       573.4024047851562    \n",
       "4                                         574.06005859375    \n",
       "...                                                   ...    \n",
       "161584                                 176.62684631347656    \n",
       "161585                                 175.86172485351562    \n",
       "161586                                 174.36753845214844    \n",
       "161587                                 174.40631103515625    \n",
       "161588                                 173.18331909179688    \n",
       "\n",
       "       DLC_resnet50_bottomup_clearSep21shuffle1_1030000.17  \n",
       "0                                               tail-base   \n",
       "1                                              likelihood   \n",
       "2                                      0.9996558427810669   \n",
       "3                                      0.9998563528060913   \n",
       "4                                      0.9998573064804077   \n",
       "...                                                   ...   \n",
       "161584                                 0.9996780157089233   \n",
       "161585                                 0.9994325041770935   \n",
       "161586                                 0.9994789958000183   \n",
       "161587                                 0.9998055100440979   \n",
       "161588                                 0.9998540878295898   \n",
       "\n",
       "[161589 rows x 19 columns]"
      ]
     },
     "execution_count": 53,
     "metadata": {},
     "output_type": "execute_result"
    }
   ],
   "source": [
    "df"
   ]
  },
  {
   "cell_type": "code",
   "execution_count": 54,
   "id": "97511948-173c-411d-9a61-ecac80858c8d",
   "metadata": {},
   "outputs": [],
   "source": [
    "# Create Tk root\n",
    "root = Tk()\n",
    "# Hide the main window\n",
    "root.withdraw()\n",
    "root.call('wm', 'attributes', '.', '-topmost', True)\n",
    "infiles_clf = filedialog.askopenfilename(multiple=False, title='load classifier file .sav')\n",
    "\n",
    "%gui tk"
   ]
  },
  {
   "cell_type": "code",
   "execution_count": 55,
   "id": "1abdce09-c560-440d-a3a5-ac4d98fabd41",
   "metadata": {},
   "outputs": [
    {
     "data": {
      "text/plain": [
       "'D:/DeepLabStream/Sep-07-2022_randomforest.sav'"
      ]
     },
     "execution_count": 55,
     "metadata": {},
     "output_type": "execute_result"
    }
   ],
   "source": [
    "infiles_clf"
   ]
  },
  {
   "cell_type": "code",
   "execution_count": 56,
   "id": "24d14c1e-b1f3-44e4-8ac4-4e2d2aa64ed6",
   "metadata": {},
   "outputs": [
    {
     "name": "stderr",
     "output_type": "stream",
     "text": [
      "C:\\Users\\jimi\\anaconda3\\envs\\closed-loop\\lib\\site-packages\\sklearn\\base.py:329: UserWarning: Trying to unpickle estimator DecisionTreeClassifier from version 0.23.2 when using version 1.1.2. This might lead to breaking code or invalid results. Use at your own risk. For more info please refer to:\n",
      "https://scikit-learn.org/stable/model_persistence.html#security-maintainability-limitations\n",
      "  warnings.warn(\n",
      "C:\\Users\\jimi\\anaconda3\\envs\\closed-loop\\lib\\site-packages\\sklearn\\base.py:329: UserWarning: Trying to unpickle estimator RandomForestClassifier from version 0.23.2 when using version 1.1.2. This might lead to breaking code or invalid results. Use at your own risk. For more info please refer to:\n",
      "https://scikit-learn.org/stable/model_persistence.html#security-maintainability-limitations\n",
      "  warnings.warn(\n"
     ]
    }
   ],
   "source": [
    "with open(infiles_clf, 'rb') as fr:\n",
    "    random_forest_sav = joblib.load(fr)"
   ]
  },
  {
   "cell_type": "code",
   "execution_count": 57,
   "id": "0e356ed1-bf30-4651-9f75-b91a90fd2052",
   "metadata": {},
   "outputs": [
    {
     "data": {
      "text/html": [
       "<style>#sk-container-id-4 {color: black;background-color: white;}#sk-container-id-4 pre{padding: 0;}#sk-container-id-4 div.sk-toggleable {background-color: white;}#sk-container-id-4 label.sk-toggleable__label {cursor: pointer;display: block;width: 100%;margin-bottom: 0;padding: 0.3em;box-sizing: border-box;text-align: center;}#sk-container-id-4 label.sk-toggleable__label-arrow:before {content: \"▸\";float: left;margin-right: 0.25em;color: #696969;}#sk-container-id-4 label.sk-toggleable__label-arrow:hover:before {color: black;}#sk-container-id-4 div.sk-estimator:hover label.sk-toggleable__label-arrow:before {color: black;}#sk-container-id-4 div.sk-toggleable__content {max-height: 0;max-width: 0;overflow: hidden;text-align: left;background-color: #f0f8ff;}#sk-container-id-4 div.sk-toggleable__content pre {margin: 0.2em;color: black;border-radius: 0.25em;background-color: #f0f8ff;}#sk-container-id-4 input.sk-toggleable__control:checked~div.sk-toggleable__content {max-height: 200px;max-width: 100%;overflow: auto;}#sk-container-id-4 input.sk-toggleable__control:checked~label.sk-toggleable__label-arrow:before {content: \"▾\";}#sk-container-id-4 div.sk-estimator input.sk-toggleable__control:checked~label.sk-toggleable__label {background-color: #d4ebff;}#sk-container-id-4 div.sk-label input.sk-toggleable__control:checked~label.sk-toggleable__label {background-color: #d4ebff;}#sk-container-id-4 input.sk-hidden--visually {border: 0;clip: rect(1px 1px 1px 1px);clip: rect(1px, 1px, 1px, 1px);height: 1px;margin: -1px;overflow: hidden;padding: 0;position: absolute;width: 1px;}#sk-container-id-4 div.sk-estimator {font-family: monospace;background-color: #f0f8ff;border: 1px dotted black;border-radius: 0.25em;box-sizing: border-box;margin-bottom: 0.5em;}#sk-container-id-4 div.sk-estimator:hover {background-color: #d4ebff;}#sk-container-id-4 div.sk-parallel-item::after {content: \"\";width: 100%;border-bottom: 1px solid gray;flex-grow: 1;}#sk-container-id-4 div.sk-label:hover label.sk-toggleable__label {background-color: #d4ebff;}#sk-container-id-4 div.sk-serial::before {content: \"\";position: absolute;border-left: 1px solid gray;box-sizing: border-box;top: 0;bottom: 0;left: 50%;z-index: 0;}#sk-container-id-4 div.sk-serial {display: flex;flex-direction: column;align-items: center;background-color: white;padding-right: 0.2em;padding-left: 0.2em;position: relative;}#sk-container-id-4 div.sk-item {position: relative;z-index: 1;}#sk-container-id-4 div.sk-parallel {display: flex;align-items: stretch;justify-content: center;background-color: white;position: relative;}#sk-container-id-4 div.sk-item::before, #sk-container-id-4 div.sk-parallel-item::before {content: \"\";position: absolute;border-left: 1px solid gray;box-sizing: border-box;top: 0;bottom: 0;left: 50%;z-index: -1;}#sk-container-id-4 div.sk-parallel-item {display: flex;flex-direction: column;z-index: 1;position: relative;background-color: white;}#sk-container-id-4 div.sk-parallel-item:first-child::after {align-self: flex-end;width: 50%;}#sk-container-id-4 div.sk-parallel-item:last-child::after {align-self: flex-start;width: 50%;}#sk-container-id-4 div.sk-parallel-item:only-child::after {width: 0;}#sk-container-id-4 div.sk-dashed-wrapped {border: 1px dashed gray;margin: 0 0.4em 0.5em 0.4em;box-sizing: border-box;padding-bottom: 0.4em;background-color: white;}#sk-container-id-4 div.sk-label label {font-family: monospace;font-weight: bold;display: inline-block;line-height: 1.2em;}#sk-container-id-4 div.sk-label-container {text-align: center;}#sk-container-id-4 div.sk-container {/* jupyter's `normalize.less` sets `[hidden] { display: none; }` but bootstrap.min.css set `[hidden] { display: none !important; }` so we also need the `!important` here to be able to override the default hidden behavior on the sphinx rendered scikit-learn.org. See: https://github.com/scikit-learn/scikit-learn/issues/21755 */display: inline-block !important;position: relative;}#sk-container-id-4 div.sk-text-repr-fallback {display: none;}</style><div id=\"sk-container-id-4\" class=\"sk-top-container\"><div class=\"sk-text-repr-fallback\"><pre>RandomForestClassifier(max_features=&#x27;auto&#x27;, random_state=42)</pre><b>In a Jupyter environment, please rerun this cell to show the HTML representation or trust the notebook. <br />On GitHub, the HTML representation is unable to render, please try loading this page with nbviewer.org.</b></div><div class=\"sk-container\" hidden><div class=\"sk-item\"><div class=\"sk-estimator sk-toggleable\"><input class=\"sk-toggleable__control sk-hidden--visually\" id=\"sk-estimator-id-4\" type=\"checkbox\" checked><label for=\"sk-estimator-id-4\" class=\"sk-toggleable__label sk-toggleable__label-arrow\">RandomForestClassifier</label><div class=\"sk-toggleable__content\"><pre>RandomForestClassifier(max_features=&#x27;auto&#x27;, random_state=42)</pre></div></div></div></div></div>"
      ],
      "text/plain": [
       "RandomForestClassifier(max_features='auto', random_state=42)"
      ]
     },
     "execution_count": 57,
     "metadata": {},
     "output_type": "execute_result"
    }
   ],
   "source": [
    "clf = random_forest_sav[3]\n",
    "clf"
   ]
  },
  {
   "cell_type": "code",
   "execution_count": 58,
   "id": "098569da-9ba9-4596-b783-4889d6f4acc6",
   "metadata": {},
   "outputs": [
    {
     "name": "stderr",
     "output_type": "stream",
     "text": [
      "  0%|                                                                                            | 0/6 [00:00<?, ?it/s]C:\\Users\\jimi\\AppData\\Local\\Temp\\ipykernel_21944\\3076676940.py:22: DeprecationWarning: `np.float` is a deprecated alias for the builtin `float`. To silence this warning, use `float` by itself. Doing this will not modify any behavior and is safe. If you specifically wanted the numpy scalar type, use `np.float64` here.\n",
      "Deprecated in NumPy 1.20; for more details and guidance: https://numpy.org/devdocs/release/1.20.0-notes.html#deprecations\n",
      "  a, b = np.histogram(data_lh[1:, x].astype(np.float))\n",
      "C:\\Users\\jimi\\AppData\\Local\\Temp\\ipykernel_21944\\3076676940.py:29: DeprecationWarning: `np.float` is a deprecated alias for the builtin `float`. To silence this warning, use `float` by itself. Doing this will not modify any behavior and is safe. If you specifically wanted the numpy scalar type, use `np.float64` here.\n",
      "Deprecated in NumPy 1.20; for more details and guidance: https://numpy.org/devdocs/release/1.20.0-notes.html#deprecations\n",
      "  data_lh_float = data_lh[:, x].astype(np.float)\n",
      "100%|████████████████████████████████████████████████████████████████████████████████████| 6/6 [00:05<00:00,  1.07it/s]\n",
      "C:\\Users\\jimi\\AppData\\Local\\Temp\\ipykernel_21944\\3076676940.py:38: DeprecationWarning: `np.float` is a deprecated alias for the builtin `float`. To silence this warning, use `float` by itself. Doing this will not modify any behavior and is safe. If you specifically wanted the numpy scalar type, use `np.float64` here.\n",
      "Deprecated in NumPy 1.20; for more details and guidance: https://numpy.org/devdocs/release/1.20.0-notes.html#deprecations\n",
      "  currdf_filt = currdf_filt.astype(np.float)\n"
     ]
    }
   ],
   "source": [
    "csv_array_filtered, perc_filtered = adp_filt(df, np.arange(18))"
   ]
  },
  {
   "cell_type": "code",
   "execution_count": 59,
   "id": "66b8c6db-020c-416c-88b6-2f0b7b13d065",
   "metadata": {},
   "outputs": [
    {
     "data": {
      "text/plain": [
       "(161587, 12)"
      ]
     },
     "execution_count": 59,
     "metadata": {},
     "output_type": "execute_result"
    }
   ],
   "source": [
    "csv_array_filtered.shape"
   ]
  },
  {
   "cell_type": "code",
   "execution_count": 60,
   "id": "a262bfc4-e83a-4cc4-a696-3e6ea008fb06",
   "metadata": {},
   "outputs": [],
   "source": [
    "# csv_array.shape\n",
    "processed_input_data = [csv_array_filtered.copy()]"
   ]
  },
  {
   "cell_type": "code",
   "execution_count": 61,
   "id": "09b57a3e-2372-4e8e-ba5b-1dcd50e6f24a",
   "metadata": {},
   "outputs": [
    {
     "name": "stderr",
     "output_type": "stream",
     "text": [
      "C:\\Users\\jimi\\AppData\\Local\\Temp\\ipykernel_21944\\1596035890.py:2: DeprecationWarning: `np.int` is a deprecated alias for the builtin `int`. To silence this warning, use `int` by itself. Doing this will not modify any behavior and is safe. When replacing `np.int`, you may wish to use e.g. `np.int64` or `np.int32` to specify the precision. If you wish to review your current use, check the release note link for additional information.\n",
      "Deprecated in NumPy 1.20; for more details and guidance: https://numpy.org/devdocs/release/1.20.0-notes.html#deprecations\n",
      "  window = np.int(np.round(0.05 / (1 / framerate)) * 2 - 1)\n"
     ]
    }
   ],
   "source": [
    "framerate = 30\n",
    "window = np.int(np.round(0.05 / (1 / framerate)) * 2 - 1)\n",
    "f = []\n",
    "for n in range(len(processed_input_data)):\n",
    "    data_n_len = len(processed_input_data[n])\n",
    "    dxy_list = []\n",
    "    disp_list = []\n",
    "    for r in range(data_n_len):\n",
    "        if r < data_n_len - 1:\n",
    "            disp = []\n",
    "            for c in range(0, processed_input_data[n].shape[1], 2):\n",
    "                disp.append(\n",
    "                    np.linalg.norm(processed_input_data[n][r + 1, c:c + 2] -\n",
    "                                   processed_input_data[n][r, c:c + 2]))\n",
    "            disp_list.append(disp)\n",
    "        dxy = []\n",
    "        for i, j in itertools.combinations(range(0, processed_input_data[n].shape[1], 2), 2):\n",
    "            dxy.append(processed_input_data[n][r, i:i + 2] -\n",
    "                       processed_input_data[n][r, j:j + 2])\n",
    "        dxy_list.append(dxy)\n",
    "    disp_r = np.array(disp_list)\n",
    "    dxy_r = np.array(dxy_list)\n",
    "    disp_boxcar = []\n",
    "    dxy_eu = np.zeros([data_n_len, dxy_r.shape[1]])\n",
    "    ang = np.zeros([data_n_len - 1, dxy_r.shape[1]])\n",
    "    dxy_boxcar = []\n",
    "    ang_boxcar = []\n",
    "    for l in range(disp_r.shape[1]):\n",
    "        disp_boxcar.append(boxcar_center(disp_r[:, l], window))\n",
    "        # disp_boxcar.append(disp_r[:, l])\n",
    "    for k in range(dxy_r.shape[1]):\n",
    "        for kk in range(data_n_len):\n",
    "            dxy_eu[kk, k] = np.linalg.norm(dxy_r[kk, k, :])\n",
    "            if kk < data_n_len - 1:\n",
    "                b_3d = np.hstack([dxy_r[kk + 1, k, :], 0])\n",
    "                a_3d = np.hstack([dxy_r[kk, k, :], 0])\n",
    "                c = np.cross(b_3d, a_3d)\n",
    "                ang[kk, k] = np.dot(np.dot(np.sign(c[2]), 180) / np.pi,\n",
    "                                    math.atan2(np.linalg.norm(c),\n",
    "                                               np.dot(dxy_r[kk, k, :], dxy_r[kk + 1, k, :])))\n",
    "        dxy_boxcar.append(boxcar_center(dxy_eu[:, k], window))\n",
    "        ang_boxcar.append(boxcar_center(ang[:, k], window))\n",
    "        # dxy_boxcar.append(dxy_eu[:, k])\n",
    "        # ang_boxcar.append(ang[:, k])\n",
    "    disp_feat = np.array(disp_boxcar)\n",
    "    dxy_feat = np.array(dxy_boxcar)\n",
    "    ang_feat = np.array(ang_boxcar)\n",
    "    f.append(np.vstack((dxy_feat[:, 1:], ang_feat, disp_feat)))\n",
    "\n",
    "for m in range(0, len(f)):\n",
    "    f_integrated = np.zeros(len(processed_input_data[m]))\n",
    "    for k in range(round(framerate / 10), len(f[m][0]), round(framerate / 10)):\n",
    "        if k > round(framerate / 10):\n",
    "            f_integrated = np.concatenate(\n",
    "                (f_integrated.reshape(f_integrated.shape[0], f_integrated.shape[1]),\n",
    "                 np.hstack((np.mean((f[m][0:dxy_feat.shape[0],\n",
    "                                     range(k - round(framerate / 10), k)]), axis=1),\n",
    "                            np.sum((f[m][dxy_feat.shape[0]:f[m].shape[0],\n",
    "                                    range(k - round(framerate / 10), k)]), axis=1)\n",
    "                            )).reshape(len(f[0]), 1)), axis=1\n",
    "            )\n",
    "        else:\n",
    "            f_integrated = np.hstack(\n",
    "                (np.mean((f[m][0:dxy_feat.shape[0], range(k - round(framerate / 10), k)]), axis=1),\n",
    "                 np.sum((f[m][dxy_feat.shape[0]:f[m].shape[0],\n",
    "                         range(k - round(framerate / 10), k)]), axis=1))).reshape(len(f[0]), 1)\n",
    "    if m > 0:\n",
    "        features = np.concatenate((features, f_integrated), axis=1)\n",
    "    else:\n",
    "        features = f_integrated"
   ]
  },
  {
   "cell_type": "code",
   "execution_count": 62,
   "id": "f042c0dc-4e71-4b35-b427-3cf53f477808",
   "metadata": {},
   "outputs": [
    {
     "data": {
      "text/plain": [
       "(53861, 36)"
      ]
     },
     "execution_count": 62,
     "metadata": {},
     "output_type": "execute_result"
    }
   ],
   "source": [
    "f_integrated.T.shape"
   ]
  },
  {
   "cell_type": "code",
   "execution_count": 63,
   "id": "dd27ae03-eb80-4d9b-971b-d3a299e95b09",
   "metadata": {},
   "outputs": [],
   "source": [
    "X = features.T.copy()\n",
    "predictions = clf.predict(X)"
   ]
  },
  {
   "cell_type": "code",
   "execution_count": 64,
   "id": "e71b4202-eb65-4295-b8e1-6f0d18051bd5",
   "metadata": {},
   "outputs": [
    {
     "data": {
      "text/plain": [
       "Text(0.5, 0, 'time (s)')"
      ]
     },
     "execution_count": 64,
     "metadata": {},
     "output_type": "execute_result"
    },
    {
     "data": {
      "image/png": "[encoded data removed]",
      "text/plain": [
       "<Figure size 600x400 with 1 Axes>"
      ]
     },
     "metadata": {},
     "output_type": "display_data"
    }
   ],
   "source": [
    "class_of_interest=17\n",
    "jitter=0.5\n",
    "fig, ax = plt.subplots(1, 1, figsize=(6, 4))\n",
    "ax.hlines(class_of_interest-jitter, 0, len(predictions), 'r', alpha=0.7)\n",
    "ax.hlines(class_of_interest+jitter, 0, len(predictions), 'r', alpha=0.7)\n",
    "ax.vlines(0-jitter, class_of_interest-jitter, class_of_interest+jitter, 'r', alpha=0.7)\n",
    "ax.vlines(len(predictions)+jitter, class_of_interest-jitter, class_of_interest+jitter, 'r', alpha=0.7)\n",
    "ax.scatter(np.arange(len(predictions)), predictions, s=0.5, color='k', alpha=0.3)\n",
    "ax.set_xticks(np.arange(0, len(predictions), 300))\n",
    "ax.set_xticklabels(np.arange(0, len(predictions)/10, 30))\n",
    "ax.set_ylabel('behavior ID')\n",
    "ax.set_xlabel('time (s)')\n",
    "# fig.savefig('./test.png', dpi=600)"
   ]
  },
  {
   "cell_type": "code",
   "execution_count": 65,
   "id": "04d98724-98e9-481e-87c2-e40770c2b4f6",
   "metadata": {},
   "outputs": [],
   "source": [
    "fileoutname = str.join('', (infiles[0].rpartition('DLC')[0], '_posthoc-predictions.npy'))\n",
    "np.save(fileoutname, predictions)"
   ]
  },
  {
   "cell_type": "markdown",
   "id": "c5453d50-6fe0-4af2-bfb0-be19b341e41e",
   "metadata": {
    "jp-MarkdownHeadingCollapsed": true,
    "tags": []
   },
   "source": [
    "## put the below code in another notebook \n",
    "#### loop through all .npy files once analyzed"
   ]
  },
  {
   "cell_type": "code",
   "execution_count": 63,
   "id": "d3548802-88b3-4041-8bd8-b37cc43a157a",
   "metadata": {},
   "outputs": [],
   "source": [
    "all_predictions = []\n",
    "for _ in range(6):\n",
    "    # join duplicates of the same array\n",
    "    predictions = np.load(fileoutname)\n",
    "    all_predictions.append(predictions)\n",
    "# all_predictions\n",
    "all_predictions_arr = np.hstack(all_predictions)"
   ]
  },
  {
   "cell_type": "code",
   "execution_count": 79,
   "id": "87fd5899-1afd-4852-ba84-85a80e99d3fa",
   "metadata": {},
   "outputs": [
    {
     "data": {
      "image/png": "[encoded data removed]",
      "text/plain": [
       "<Figure size 600x400 with 1 Axes>"
      ]
     },
     "metadata": {},
     "output_type": "display_data"
    }
   ],
   "source": [
    "class_of_interest=17\n",
    "jitter=0.5\n",
    "fig, ax = plt.subplots(1, 1, figsize=(6, 4))\n",
    "ax.hlines(class_of_interest-jitter, 0, len(all_predictions_arr), 'r', alpha=0.7)\n",
    "ax.hlines(class_of_interest+jitter, 0, len(all_predictions_arr), 'r', alpha=0.7)\n",
    "ax.vlines(0-jitter, class_of_interest-jitter, class_of_interest+jitter, 'r', alpha=0.7)\n",
    "ax.vlines(len(all_predictions_arr)+jitter, class_of_interest-jitter, class_of_interest+jitter, 'r', alpha=0.7)\n",
    "ax.scatter(np.arange(len(all_predictions_arr)), all_predictions_arr, s=0.5, color='k', alpha=0.3)\n",
    "ax.set_xticks(np.arange(0, len(all_predictions_arr), 300))\n",
    "ax.set_xticklabels(np.arange(0, len(all_predictions_arr)/10, 30))\n",
    "ax.set_ylabel('behavior ID')\n",
    "ax.set_xlabel('time (s)')\n",
    "fig.savefig('./test.png', dpi=600)"
   ]
  },
  {
   "cell_type": "code",
   "execution_count": 67,
   "id": "ac61090d-8db0-4c89-9d06-5d3766e372fc",
   "metadata": {},
   "outputs": [
    {
     "data": {
      "text/plain": [
       "(14826,)"
      ]
     },
     "execution_count": 67,
     "metadata": {},
     "output_type": "execute_result"
    }
   ],
   "source": [
    "all_predictions_arr.shape"
   ]
  },
  {
   "cell_type": "code",
   "execution_count": 70,
   "id": "1c96594e-41e1-46e8-9ace-fb526ed31fed",
   "metadata": {},
   "outputs": [
    {
     "name": "stdout",
     "output_type": "stream",
     "text": [
      "[    0   600  1200  1800  2400  3000  3600  4200  4800  5400  6000  6600\n",
      "  7200  7800  8400  9000  9600 10200 10800 11400 12000 12600 13200 13800\n",
      " 14400] [  600  1200  1800  2400  3000  3600  4200  4800  5400  6000  6600  7200\n",
      "  7800  8400  9000  9600 10200 10800 11400 12000 12600 13200 13800 14400\n",
      " 15000]\n"
     ]
    }
   ],
   "source": [
    "bin_start = np.arange(0, np.max(len(all_predictions_arr)), 600)\n",
    "bin_end = np.arange(600, np.max(len(all_predictions_arr))+600, 600)\n",
    "print(bin_start, bin_end)\n",
    "binned_predictions = []\n",
    "for b in range(len(bin_start)):\n",
    "    binned_predictions.append(all_predictions_arr[bin_start[b]:bin_end[b]])\n"
   ]
  },
  {
   "cell_type": "code",
   "execution_count": 80,
   "id": "f9bbbf41-5715-49c2-bf5d-f5815e67f06e",
   "metadata": {},
   "outputs": [
    {
     "data": {
      "text/plain": [
       "<BarContainer object of 25 artists>"
      ]
     },
     "execution_count": 80,
     "metadata": {},
     "output_type": "execute_result"
    },
    {
     "data": {
      "image/png": "[encoded data removed]",
      "text/plain": [
       "<Figure size 640x480 with 1 Axes>"
      ]
     },
     "metadata": {},
     "output_type": "display_data"
    }
   ],
   "source": [
    "class_interest_binned = [len(np.where(binned_predictions[b] == class_of_interest)[0]) for b in range(len(binned_predictions))]\n",
    "\n",
    "plt.bar(np.arange(len(class_interest_binned)), class_interest_binned)"
   ]
  },
  {
   "cell_type": "code",
   "execution_count": 42,
   "id": "545bc226-eea5-4eab-8360-f2961597b992",
   "metadata": {},
   "outputs": [
    {
     "data": {
      "text/plain": [
       "(array([   0,  300,  600,  900, 1200, 1500, 1800, 2100, 2400]),\n",
       " array([  0.,  30.,  60.,  90., 120., 150., 180., 210., 240.]))"
      ]
     },
     "execution_count": 42,
     "metadata": {},
     "output_type": "execute_result"
    }
   ],
   "source": [
    "np.arange(0, len(predictions), 300), np.arange(0, len(predictions)/10, 30)"
   ]
  }
 ],
 "metadata": {
  "kernelspec": {
   "display_name": "Python 3 (ipykernel)",
   "language": "python",
   "name": "python3"
  },
  "language_info": {
   "codemirror_mode": {
    "name": "ipython",
    "version": 3
   },
   "file_extension": ".py",
   "mimetype": "text/x-python",
   "name": "python",
   "nbconvert_exporter": "python",
   "pygments_lexer": "ipython3",
   "version": "3.8.0"
  }
 },
 "nbformat": 4,
 "nbformat_minor": 5
}
