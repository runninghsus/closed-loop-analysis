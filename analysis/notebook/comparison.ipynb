{
 "cells": [
  {
   "cell_type": "code",
   "execution_count": 37,
   "id": "42e40483-9f03-40fa-a6a9-508616f54f4a",
   "metadata": {},
   "outputs": [],
   "source": [
    "import joblib\n",
    "import os\n",
    "import pandas as pd\n",
    "import seaborn as sns\n",
    "from sklearn.ensemble import RandomForestClassifier\n",
    "import numpy as np\n",
    "from datetime import datetime\n",
    "import matplotlib.pyplot as plt\n",
    "import pickle\n",
    "import time\n",
    "from tkinter import *\n",
    "from tkinter import filedialog\n",
    "from tqdm import tqdm\n",
    "import itertools\n",
    "import math"
   ]
  },
  {
   "cell_type": "markdown",
   "id": "85cb7124-a74f-4535-8815-82ec4aa746d5",
   "metadata": {
    "tags": []
   },
   "source": [
    "## load up CONTROL predictions"
   ]
  },
  {
   "cell_type": "code",
   "execution_count": 38,
   "id": "2d6aaa03-97c9-4852-9ecb-3bdd9b74c22e",
   "metadata": {},
   "outputs": [],
   "source": [
    "# Create Tk root\n",
    "root = Tk()\n",
    "# Hide the main window\n",
    "root.withdraw()\n",
    "root.call('wm', 'attributes', '.', '-topmost', True)\n",
    "infiles = filedialog.askopenfilename(multiple=True, title='load 1ST predictions npy')\n",
    "\n",
    "%gui tk"
   ]
  },
  {
   "cell_type": "code",
   "execution_count": 39,
   "id": "073dec15-f82a-4089-9553-5662d5077e67",
   "metadata": {},
   "outputs": [
    {
     "data": {
      "text/plain": [
       "'D:/Jack/Project/P16/091222/VideoOutputCamera 0-12092022-133159_posthoc-predictions.npy'"
      ]
     },
     "execution_count": 39,
     "metadata": {},
     "output_type": "execute_result"
    }
   ],
   "source": [
    "infiles[0]"
   ]
  },
  {
   "cell_type": "code",
   "execution_count": 40,
   "id": "ed281075-bd94-4b33-b7ac-1e7480de6822",
   "metadata": {},
   "outputs": [],
   "source": [
    "predictions_control = np.load(infiles[0])"
   ]
  },
  {
   "cell_type": "code",
   "execution_count": 41,
   "id": "72e6124f-2dd2-418f-acfc-47ac376e32ad",
   "metadata": {},
   "outputs": [
    {
     "name": "stdout",
     "output_type": "stream",
     "text": [
      "the first prediction array contained 41916 rows\n"
     ]
    }
   ],
   "source": [
    "print(f'the first prediction array contained {predictions_control.shape[0]} rows')"
   ]
  },
  {
   "cell_type": "markdown",
   "id": "03b12739-a584-4317-9be3-aab2c61dcf1f",
   "metadata": {
    "tags": []
   },
   "source": [
    "## LOAD UP EXPERIMENTAL PREDICTIONS"
   ]
  },
  {
   "cell_type": "code",
   "execution_count": 42,
   "id": "a7d3cb13-c8dc-4be2-b787-18446b5bd816",
   "metadata": {},
   "outputs": [],
   "source": [
    "# Create Tk root\n",
    "root = Tk()\n",
    "# Hide the main window\n",
    "root.withdraw()\n",
    "root.call('wm', 'attributes', '.', '-topmost', True)\n",
    "infiles2 = filedialog.askopenfilename(multiple=True, title='load 2ND predictions npy')\n",
    "\n",
    "%gui tk"
   ]
  },
  {
   "cell_type": "code",
   "execution_count": 43,
   "id": "1765947d-85bb-483d-9227-a420e71053d9",
   "metadata": {},
   "outputs": [
    {
     "data": {
      "text/plain": [
       "'D:/Jack/Project/P16/090922/VideoOutputCamera 0-09092022-151651_3_posthoc-predictions.npy'"
      ]
     },
     "execution_count": 43,
     "metadata": {},
     "output_type": "execute_result"
    }
   ],
   "source": [
    "infiles2[0]"
   ]
  },
  {
   "cell_type": "code",
   "execution_count": 44,
   "id": "51cfeebc-2f9e-487d-a4b1-fbf75b612b19",
   "metadata": {},
   "outputs": [],
   "source": [
    "predictions_exp = np.load(infiles2[0])"
   ]
  },
  {
   "cell_type": "code",
   "execution_count": 45,
   "id": "9ace0923-a238-49d2-b820-c04e29f54557",
   "metadata": {},
   "outputs": [
    {
     "name": "stdout",
     "output_type": "stream",
     "text": [
      "the second prediction array contained 14666 rows\n"
     ]
    }
   ],
   "source": [
    "print(f'the second prediction array contained {predictions_exp.shape[0]} rows')"
   ]
  },
  {
   "cell_type": "markdown",
   "id": "d4bea3d2-f178-4064-b408-45ce77436d9c",
   "metadata": {},
   "source": [
    "## COMPARE"
   ]
  },
  {
   "cell_type": "markdown",
   "id": "3eea4efa-57b4-4b6e-9eb1-9a193c71daf3",
   "metadata": {
    "tags": []
   },
   "source": [
    "### compare frequency"
   ]
  },
  {
   "cell_type": "code",
   "execution_count": 48,
   "id": "ea48f038-0689-485b-9818-7be75de543a9",
   "metadata": {},
   "outputs": [],
   "source": [
    "target_of_interests = [0, 5, 8, 11, 14, 16, 17, 18]"
   ]
  },
  {
   "cell_type": "code",
   "execution_count": 52,
   "id": "18f8b685-0ba2-412e-90c6-6eb25d02cba7",
   "metadata": {},
   "outputs": [
    {
     "data": {
      "image/png": "[encoded data removed]",
      "text/plain": [
       "<Figure size 600x600 with 8 Axes>"
      ]
     },
     "metadata": {},
     "output_type": "display_data"
    }
   ],
   "source": [
    "rows = 4\n",
    "cols = 2\n",
    "count = 0\n",
    "fig, ax = plt.subplots(rows, cols, figsize=(6, 6), sharey=False, sharex=True)\n",
    "for row in range(rows):\n",
    "    for col in range(cols):\n",
    "        freq_control = len(np.where(predictions_control == target_of_interests[count])[0])/len(predictions_control)\n",
    "        freq_exp = len(np.where(predictions_exp == target_of_interests[count])[0])/len(predictions_exp)\n",
    "\n",
    "        ax[row, col].bar(np.arange(2), [freq_control, freq_exp], color = ['orange', 'dodgerblue'])\n",
    "        if row == rows-1:\n",
    "            ax[row, col].set_xlabel('Condition')\n",
    "        \n",
    "        ax[row, col].set_title(f'Frequency of beh {target_of_interests[count]}', fontsize=8)\n",
    "        ax[row, col].set_xticks(np.arange(2))\n",
    "        ax[row, col].set_xticklabels(['control', 'exp'])\n",
    "        count += 1\n",
    "# for target in target_of_interest:\n",
    "    \n",
    "    "
   ]
  },
  {
   "cell_type": "markdown",
   "id": "a1e46f23-aa3c-4b05-a6ba-51b5bfd70cc5",
   "metadata": {},
   "source": [
    "### single behavior"
   ]
  },
  {
   "cell_type": "code",
   "execution_count": 10,
   "id": "fb1550e1-7444-4851-a403-d5f43374e522",
   "metadata": {},
   "outputs": [],
   "source": [
    "target_of_interest = 17"
   ]
  },
  {
   "cell_type": "code",
   "execution_count": 11,
   "id": "7a56cab7-5e21-4def-a468-a5dbcb8f2991",
   "metadata": {},
   "outputs": [],
   "source": [
    "freq_control = len(np.where(predictions_control == target_of_interest)[0])/len(predictions_control)\n",
    "freq_exp = len(np.where(predictions_exp == target_of_interest)[0])/len(predictions_exp)"
   ]
  },
  {
   "cell_type": "code",
   "execution_count": 12,
   "id": "65bb1b91-a256-47b7-967a-a2e4099dd5bf",
   "metadata": {},
   "outputs": [
    {
     "data": {
      "text/plain": [
       "[Text(0, 0, 'control'), Text(1, 0, 'exp')]"
      ]
     },
     "execution_count": 12,
     "metadata": {},
     "output_type": "execute_result"
    },
    {
     "data": {
      "image/png": "[encoded data removed]",
      "text/plain": [
       "<Figure size 300x400 with 1 Axes>"
      ]
     },
     "metadata": {},
     "output_type": "display_data"
    }
   ],
   "source": [
    "fig, ax = plt.subplots(1, 1, figsize=(3, 4))\n",
    "ax.bar(np.arange(2), [freq_control, freq_exp], color = ['orange', 'dodgerblue'])\n",
    "ax.set_xlabel('Condition')\n",
    "ax.set_ylabel(f'Frequency of beh {target_of_interest}')\n",
    "ax.set_xticks(np.arange(2))\n",
    "ax.set_xticklabels(['control', 'exp'])"
   ]
  },
  {
   "cell_type": "markdown",
   "id": "26278cce-718e-45df-b98d-2334ca3723be",
   "metadata": {
    "tags": []
   },
   "source": [
    "### compare duration"
   ]
  },
  {
   "cell_type": "code",
   "execution_count": 53,
   "id": "76bf6655-f9d6-4295-960f-ed94e28c77cf",
   "metadata": {},
   "outputs": [
    {
     "data": {
      "text/plain": [
       "<matplotlib.collections.PathCollection at 0x1e5060ead60>"
      ]
     },
     "execution_count": 53,
     "metadata": {},
     "output_type": "execute_result"
    },
    {
     "data": {
      "image/png": "[encoded data removed]",
      "text/plain": [
       "<Figure size 640x480 with 1 Axes>"
      ]
     },
     "metadata": {},
     "output_type": "display_data"
    }
   ],
   "source": [
    "plt.scatter(np.arange(len(predictions_control[:100])), predictions_control[:100], s=0.6)"
   ]
  },
  {
   "cell_type": "code",
   "execution_count": 54,
   "id": "70a64323-c198-4237-b037-6d8c3ecbc0f4",
   "metadata": {},
   "outputs": [
    {
     "data": {
      "text/plain": [
       "array([ 11,   0, -11,   0,   0,   0,   0,   0,   0,   0,   0,   0,   0,\n",
       "         0,   0,   0,   0,   0,   0,   0,   0,   0,   0,   0,   0,   0,\n",
       "         0,   0,   0,   0,  11,   0,   0,   0,   0,   0,   0,   0,   0,\n",
       "         0,   0,   0,   0,   0,   6, -11,   5,   1,   5,   0, -11,  11,\n",
       "        -4,   0,   0,   0,  -3,   0,  -9,  10,   0,   0,   0,   0,   0,\n",
       "         0,   0,  -7,   0,   0,   0,   0,   0,   0,   0,   0,   0,   7,\n",
       "         0,   0,   0,  -2,  -9,   0,   1,   0,   0,   0,   0,   0,   0,\n",
       "         0,   0,   0,   0,  -1,  17, -17,   0], dtype=int64)"
      ]
     },
     "execution_count": 54,
     "metadata": {},
     "output_type": "execute_result"
    }
   ],
   "source": [
    "np.diff(predictions_control[:100])"
   ]
  },
  {
   "cell_type": "code",
   "execution_count": 55,
   "id": "845ed900-ec9f-4f7d-a299-232d38d19a95",
   "metadata": {},
   "outputs": [
    {
     "data": {
      "text/plain": [
       "array([ 0,  0,  2, 30, 44, 45, 46, 47, 48, 50, 51, 52, 56, 58, 59, 67, 77,\n",
       "       81, 82, 84, 95, 96, 97], dtype=int64)"
      ]
     },
     "execution_count": 55,
     "metadata": {},
     "output_type": "execute_result"
    }
   ],
   "source": [
    "np.hstack((0, np.where(np.diff(predictions_control[:100]) != 0)[0]))"
   ]
  },
  {
   "cell_type": "code",
   "execution_count": 56,
   "id": "c98118d1-034d-46aa-a9b1-5c1376d0c1d1",
   "metadata": {},
   "outputs": [
    {
     "data": {
      "text/plain": [
       "array([ 0,  2, 28, 14,  1,  1,  1,  1,  2,  1,  1,  4,  2,  1,  8, 10,  4,\n",
       "        1,  2, 11,  1,  1], dtype=int64)"
      ]
     },
     "execution_count": 56,
     "metadata": {},
     "output_type": "execute_result"
    }
   ],
   "source": [
    "np.diff(np.hstack((0, np.where(np.diff(predictions_control[:100]) != 0)[0])))"
   ]
  },
  {
   "cell_type": "code",
   "execution_count": 16,
   "id": "5f5a8186-5631-4cb6-a42e-e7f1322139b6",
   "metadata": {},
   "outputs": [
    {
     "data": {
      "text/plain": [
       "array([ 0, 11,  0, 11, 17,  6, 11, 12, 17,  6, 17, 13, 10,  1, 11,  4, 11,\n",
       "        9,  0,  1,  0, 17], dtype=int64)"
      ]
     },
     "execution_count": 16,
     "metadata": {},
     "output_type": "execute_result"
    }
   ],
   "source": [
    "predictions_control[np.where(np.diff(predictions_control[:100]) != 0)[0]]"
   ]
  },
  {
   "cell_type": "markdown",
   "id": "f3931cd7-b5d2-4790-b110-483331397ee3",
   "metadata": {},
   "source": [
    "#### putting length with corresponding behavior together"
   ]
  },
  {
   "cell_type": "code",
   "execution_count": 57,
   "id": "dd5adc02-e5eb-403b-b7ec-997606df9367",
   "metadata": {},
   "outputs": [],
   "source": [
    "# control\n",
    "idx_of_interest_control = np.where(predictions_control[np.where(np.diff(predictions_control[:]) != 0)[0]] == 17)[0]\n",
    "durations_all_control = np.diff(np.hstack((0, np.where(np.diff(predictions_control[:]) != 0)[0])))\n",
    "# exp\n",
    "idx_of_interest_exp = np.where(predictions_exp[np.where(np.diff(predictions_exp[:]) != 0)[0]] == 17)[0]\n",
    "durations_all_exp = np.diff(np.hstack((0, np.where(np.diff(predictions_exp[:]) != 0)[0])))"
   ]
  },
  {
   "cell_type": "code",
   "execution_count": 58,
   "id": "d09fb900-1d3c-4abb-bb49-f93070da65e2",
   "metadata": {},
   "outputs": [],
   "source": [
    "duration_control = durations_all_control[idx_of_interest_control]\n",
    "duration_exp = durations_all_exp[idx_of_interest_exp]"
   ]
  },
  {
   "cell_type": "code",
   "execution_count": 59,
   "id": "b4ee9c94-d644-4cfa-af55-104ea67eec74",
   "metadata": {},
   "outputs": [
    {
     "data": {
      "text/plain": [
       "((430,), (149,))"
      ]
     },
     "execution_count": 59,
     "metadata": {},
     "output_type": "execute_result"
    }
   ],
   "source": [
    "duration_control[duration_control > 1].shape, duration_exp[duration_exp > 1].shape"
   ]
  },
  {
   "cell_type": "code",
   "execution_count": 60,
   "id": "4cd385c0-55e1-411a-a71f-c66d0b2cc73d",
   "metadata": {},
   "outputs": [
    {
     "data": {
      "text/plain": [
       "{'bodies': [<matplotlib.collections.PolyCollection at 0x1e505ed6e80>,\n",
       "  <matplotlib.collections.PolyCollection at 0x1e505ed68b0>]}"
      ]
     },
     "execution_count": 60,
     "metadata": {},
     "output_type": "execute_result"
    },
    {
     "data": {
      "image/png": "[encoded data removed]",
      "text/plain": [
       "<Figure size 300x400 with 1 Axes>"
      ]
     },
     "metadata": {},
     "output_type": "display_data"
    }
   ],
   "source": [
    "fig, ax = plt.subplots(1, 1, figsize=(3, 4))\n",
    "ax.violinplot([duration_control[duration_control > 1], duration_exp[duration_exp > 1]], \n",
    "              showmeans=False, showextrema=False, showmedians=False)"
   ]
  },
  {
   "cell_type": "code",
   "execution_count": 61,
   "id": "8e75289a-9afc-41fd-8a12-db8742244c55",
   "metadata": {},
   "outputs": [
    {
     "data": {
      "text/plain": [
       "<AxesSubplot:ylabel='Proportion'>"
      ]
     },
     "execution_count": 61,
     "metadata": {},
     "output_type": "execute_result"
    },
    {
     "data": {
      "image/png": "[encoded data removed]",
      "text/plain": [
       "<Figure size 300x400 with 2 Axes>"
      ]
     },
     "metadata": {},
     "output_type": "display_data"
    }
   ],
   "source": [
    "fig, ax = plt.subplots(2, 1, figsize=(3, 4))\n",
    "sns.ecdfplot([duration_control[duration_control > 1], duration_exp[duration_exp > 1]], ax=ax[0])"
   ]
  },
  {
   "cell_type": "code",
   "execution_count": null,
   "id": "7468ec8d-529a-4609-8e99-4b4d9426a4ba",
   "metadata": {},
   "outputs": [],
   "source": []
  }
 ],
 "metadata": {
  "kernelspec": {
   "display_name": "Python 3 (ipykernel)",
   "language": "python",
   "name": "python3"
  },
  "language_info": {
   "codemirror_mode": {
    "name": "ipython",
    "version": 3
   },
   "file_extension": ".py",
   "mimetype": "text/x-python",
   "name": "python",
   "nbconvert_exporter": "python",
   "pygments_lexer": "ipython3",
   "version": "3.8.0"
  }
 },
 "nbformat": 4,
 "nbformat_minor": 5
}
