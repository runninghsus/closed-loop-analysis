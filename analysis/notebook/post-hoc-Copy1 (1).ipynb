{
 "cells": [
  {
   "cell_type": "code",
   "execution_count": 2,
   "id": "0fefe8fc-01da-468e-8181-f02b42b6cd7b",
   "metadata": {},
   "outputs": [],
   "source": [
    "import joblib\n",
    "import os\n",
    "import pandas as pd\n",
    "from sklearn.ensemble import RandomForestClassifier\n",
    "import numpy as np\n",
    "from datetime import datetime\n",
    "import matplotlib.pyplot as plt\n",
    "import pickle\n",
    "import time\n",
    "from tkinter import *\n",
    "from tkinter import filedialog\n",
    "from tqdm import tqdm\n",
    "import itertools\n",
    "import math"
   ]
  },
  {
   "cell_type": "code",
   "execution_count": 12,
   "id": "9943bc21-3590-4325-8ffa-b9ef5e05b725",
   "metadata": {},
   "outputs": [],
   "source": [
    "def adp_filt(currdf: object, pose):\n",
    "    lIndex = []\n",
    "    xIndex = []\n",
    "    yIndex = []\n",
    "    currdf = np.array(currdf[1:])\n",
    "    for header in pose:\n",
    "        if currdf[0][header + 1] == \"likelihood\":\n",
    "            lIndex.append(header)\n",
    "        elif currdf[0][header + 1] == \"x\":\n",
    "            xIndex.append(header)\n",
    "        elif currdf[0][header + 1] == \"y\":\n",
    "            yIndex.append(header)\n",
    "    curr_df1 = currdf[:, 1:]\n",
    "    datax = curr_df1[1:, np.array(xIndex)]\n",
    "    datay = curr_df1[1:, np.array(yIndex)]\n",
    "    data_lh = curr_df1[1:, np.array(lIndex)]\n",
    "    currdf_filt = np.zeros((datax.shape[0], (datax.shape[1]) * 2))\n",
    "    perc_rect = []\n",
    "    for i in range(data_lh.shape[1]):\n",
    "        perc_rect.append(0)\n",
    "    for x in tqdm(range(data_lh.shape[1])):\n",
    "        a, b = np.histogram(data_lh[1:, x].astype(np.float))\n",
    "        rise_a = np.where(np.diff(a) >= 0)\n",
    "        if rise_a[0][0] > 1:\n",
    "            llh = b[rise_a[0][0]]\n",
    "        else:\n",
    "            llh = b[rise_a[0][1]]\n",
    "        # llh=0\n",
    "        data_lh_float = data_lh[:, x].astype(np.float)\n",
    "        perc_rect[x] = np.sum(data_lh_float < llh) / data_lh.shape[0]\n",
    "        currdf_filt[0, (2 * x):(2 * x + 2)] = np.hstack([datax[0, x], datay[0, x]])\n",
    "        for i in range(1, data_lh.shape[0]):\n",
    "            if data_lh_float[i] < llh:\n",
    "                currdf_filt[i, (2 * x):(2 * x + 2)] = currdf_filt[i - 1, (2 * x):(2 * x + 2)]\n",
    "            else:\n",
    "                currdf_filt[i, (2 * x):(2 * x + 2)] = np.hstack([datax[i, x], datay[i, x]])\n",
    "    currdf_filt = np.array(currdf_filt)\n",
    "    currdf_filt = currdf_filt.astype(np.float)\n",
    "    return currdf_filt, perc_rect\n",
    "\n",
    "def boxcar_center(a, n):\n",
    "    a1 = pd.Series(a)\n",
    "    moving_avg = np.array(a1.rolling(window=n, min_periods=1, center=True).mean())\n",
    "\n",
    "    return moving_avg"
   ]
  },
  {
   "cell_type": "code",
   "execution_count": 13,
   "id": "d0654256-8c60-480e-b166-b0763c349ec2",
   "metadata": {},
   "outputs": [],
   "source": [
    "# Create Tk root\n",
    "root = Tk()\n",
    "# Hide the main window\n",
    "root.withdraw()\n",
    "root.call('wm', 'attributes', '.', '-topmost', True)\n",
    "infiles = filedialog.askopenfilename(multiple=True, title='load deeplabcut csv')\n",
    "\n",
    "%gui tk"
   ]
  },
  {
   "cell_type": "code",
   "execution_count": 14,
   "id": "17750995-dc6f-4f6c-9bef-19338d5634b4",
   "metadata": {},
   "outputs": [],
   "source": [
    "df = pd.read_csv(infiles[0], low_memory=False)"
   ]
  },
  {
   "cell_type": "code",
   "execution_count": 15,
   "id": "30756419-e99b-43ca-8ff4-301236d4308f",
   "metadata": {},
   "outputs": [
    {
     "data": {
      "text/html": [
       "<div>\n",
       "<style scoped>\n",
       "    .dataframe tbody tr th:only-of-type {\n",
       "        vertical-align: middle;\n",
       "    }\n",
       "\n",
       "    .dataframe tbody tr th {\n",
       "        vertical-align: top;\n",
       "    }\n",
       "\n",
       "    .dataframe thead th {\n",
       "        text-align: right;\n",
       "    }\n",
       "</style>\n",
       "<table border=\"1\" class=\"dataframe\">\n",
       "  <thead>\n",
       "    <tr style=\"text-align: right;\">\n",
       "      <th></th>\n",
       "      <th>scorer</th>\n",
       "      <th>DLC_resnet50_bottomup_clearSep21shuffle1_1030000</th>\n",
       "      <th>DLC_resnet50_bottomup_clearSep21shuffle1_1030000.1</th>\n",
       "      <th>DLC_resnet50_bottomup_clearSep21shuffle1_1030000.2</th>\n",
       "      <th>DLC_resnet50_bottomup_clearSep21shuffle1_1030000.3</th>\n",
       "      <th>DLC_resnet50_bottomup_clearSep21shuffle1_1030000.4</th>\n",
       "      <th>DLC_resnet50_bottomup_clearSep21shuffle1_1030000.5</th>\n",
       "      <th>DLC_resnet50_bottomup_clearSep21shuffle1_1030000.6</th>\n",
       "      <th>DLC_resnet50_bottomup_clearSep21shuffle1_1030000.7</th>\n",
       "      <th>DLC_resnet50_bottomup_clearSep21shuffle1_1030000.8</th>\n",
       "      <th>DLC_resnet50_bottomup_clearSep21shuffle1_1030000.9</th>\n",
       "      <th>DLC_resnet50_bottomup_clearSep21shuffle1_1030000.10</th>\n",
       "      <th>DLC_resnet50_bottomup_clearSep21shuffle1_1030000.11</th>\n",
       "      <th>DLC_resnet50_bottomup_clearSep21shuffle1_1030000.12</th>\n",
       "      <th>DLC_resnet50_bottomup_clearSep21shuffle1_1030000.13</th>\n",
       "      <th>DLC_resnet50_bottomup_clearSep21shuffle1_1030000.14</th>\n",
       "      <th>DLC_resnet50_bottomup_clearSep21shuffle1_1030000.15</th>\n",
       "      <th>DLC_resnet50_bottomup_clearSep21shuffle1_1030000.16</th>\n",
       "      <th>DLC_resnet50_bottomup_clearSep21shuffle1_1030000.17</th>\n",
       "    </tr>\n",
       "  </thead>\n",
       "  <tbody>\n",
       "    <tr>\n",
       "      <th>0</th>\n",
       "      <td>bodyparts</td>\n",
       "      <td>snout</td>\n",
       "      <td>snout</td>\n",
       "      <td>snout</td>\n",
       "      <td>right-forepaw</td>\n",
       "      <td>right-forepaw</td>\n",
       "      <td>right-forepaw</td>\n",
       "      <td>left-forepaw</td>\n",
       "      <td>left-forepaw</td>\n",
       "      <td>left-forepaw</td>\n",
       "      <td>right-hindpaw</td>\n",
       "      <td>right-hindpaw</td>\n",
       "      <td>right-hindpaw</td>\n",
       "      <td>left-hindpaw</td>\n",
       "      <td>left-hindpaw</td>\n",
       "      <td>left-hindpaw</td>\n",
       "      <td>tail-base</td>\n",
       "      <td>tail-base</td>\n",
       "      <td>tail-base</td>\n",
       "    </tr>\n",
       "    <tr>\n",
       "      <th>1</th>\n",
       "      <td>coords</td>\n",
       "      <td>x</td>\n",
       "      <td>y</td>\n",
       "      <td>likelihood</td>\n",
       "      <td>x</td>\n",
       "      <td>y</td>\n",
       "      <td>likelihood</td>\n",
       "      <td>x</td>\n",
       "      <td>y</td>\n",
       "      <td>likelihood</td>\n",
       "      <td>x</td>\n",
       "      <td>y</td>\n",
       "      <td>likelihood</td>\n",
       "      <td>x</td>\n",
       "      <td>y</td>\n",
       "      <td>likelihood</td>\n",
       "      <td>x</td>\n",
       "      <td>y</td>\n",
       "      <td>likelihood</td>\n",
       "    </tr>\n",
       "    <tr>\n",
       "      <th>2</th>\n",
       "      <td>0</td>\n",
       "      <td>433.7218933105469</td>\n",
       "      <td>481.93359375</td>\n",
       "      <td>0.9994862079620361</td>\n",
       "      <td>398.1558837890625</td>\n",
       "      <td>488.0100402832031</td>\n",
       "      <td>0.9962955117225647</td>\n",
       "      <td>412.28070068359375</td>\n",
       "      <td>509.15435791015625</td>\n",
       "      <td>0.9994186162948608</td>\n",
       "      <td>364.80816650390625</td>\n",
       "      <td>521.5546264648438</td>\n",
       "      <td>0.9984946250915527</td>\n",
       "      <td>401.217041015625</td>\n",
       "      <td>533.2017211914062</td>\n",
       "      <td>0.9998083710670471</td>\n",
       "      <td>367.8746337890625</td>\n",
       "      <td>553.4801025390625</td>\n",
       "      <td>0.9995847344398499</td>\n",
       "    </tr>\n",
       "    <tr>\n",
       "      <th>3</th>\n",
       "      <td>1</td>\n",
       "      <td>438.2349853515625</td>\n",
       "      <td>485.09356689453125</td>\n",
       "      <td>0.9995527863502502</td>\n",
       "      <td>398.750732421875</td>\n",
       "      <td>488.8730773925781</td>\n",
       "      <td>0.9937505125999451</td>\n",
       "      <td>412.0513916015625</td>\n",
       "      <td>509.1146545410156</td>\n",
       "      <td>0.9992316961288452</td>\n",
       "      <td>365.515380859375</td>\n",
       "      <td>523.0096435546875</td>\n",
       "      <td>0.9987745881080627</td>\n",
       "      <td>400.0931701660156</td>\n",
       "      <td>533.0562133789062</td>\n",
       "      <td>0.9997743964195251</td>\n",
       "      <td>366.3837890625</td>\n",
       "      <td>554.027587890625</td>\n",
       "      <td>0.9995580315589905</td>\n",
       "    </tr>\n",
       "    <tr>\n",
       "      <th>4</th>\n",
       "      <td>2</td>\n",
       "      <td>440.2109680175781</td>\n",
       "      <td>490.8921813964844</td>\n",
       "      <td>0.9991874098777771</td>\n",
       "      <td>399.5596618652344</td>\n",
       "      <td>488.184326171875</td>\n",
       "      <td>0.9927864670753479</td>\n",
       "      <td>412.1019592285156</td>\n",
       "      <td>509.456298828125</td>\n",
       "      <td>0.998907208442688</td>\n",
       "      <td>365.57305908203125</td>\n",
       "      <td>523.4133911132812</td>\n",
       "      <td>0.9988771080970764</td>\n",
       "      <td>400.46173095703125</td>\n",
       "      <td>533.9353637695312</td>\n",
       "      <td>0.9997209906578064</td>\n",
       "      <td>365.8555603027344</td>\n",
       "      <td>553.937744140625</td>\n",
       "      <td>0.999545156955719</td>\n",
       "    </tr>\n",
       "    <tr>\n",
       "      <th>...</th>\n",
       "      <td>...</td>\n",
       "      <td>...</td>\n",
       "      <td>...</td>\n",
       "      <td>...</td>\n",
       "      <td>...</td>\n",
       "      <td>...</td>\n",
       "      <td>...</td>\n",
       "      <td>...</td>\n",
       "      <td>...</td>\n",
       "      <td>...</td>\n",
       "      <td>...</td>\n",
       "      <td>...</td>\n",
       "      <td>...</td>\n",
       "      <td>...</td>\n",
       "      <td>...</td>\n",
       "      <td>...</td>\n",
       "      <td>...</td>\n",
       "      <td>...</td>\n",
       "      <td>...</td>\n",
       "    </tr>\n",
       "    <tr>\n",
       "      <th>163012</th>\n",
       "      <td>163010</td>\n",
       "      <td>846.5376586914062</td>\n",
       "      <td>582.6831665039062</td>\n",
       "      <td>0.0012195650488138199</td>\n",
       "      <td>902.3479614257812</td>\n",
       "      <td>338.13232421875</td>\n",
       "      <td>4.539838482742198e-05</td>\n",
       "      <td>4.241046905517578</td>\n",
       "      <td>0.6390986442565918</td>\n",
       "      <td>3.0465716918115504e-05</td>\n",
       "      <td>501.151611328125</td>\n",
       "      <td>39.437591552734375</td>\n",
       "      <td>0.0034240898676216602</td>\n",
       "      <td>1.0022649765014648</td>\n",
       "      <td>-0.065673828125</td>\n",
       "      <td>1.928767960635014e-05</td>\n",
       "      <td>496.8975830078125</td>\n",
       "      <td>62.91470718383789</td>\n",
       "      <td>0.004334553144872189</td>\n",
       "    </tr>\n",
       "    <tr>\n",
       "      <th>163013</th>\n",
       "      <td>163011</td>\n",
       "      <td>847.4208984375</td>\n",
       "      <td>582.2416381835938</td>\n",
       "      <td>0.0005238725570961833</td>\n",
       "      <td>902.0457153320312</td>\n",
       "      <td>336.6177978515625</td>\n",
       "      <td>0.00017642724560573697</td>\n",
       "      <td>865.1449584960938</td>\n",
       "      <td>265.9806213378906</td>\n",
       "      <td>3.9765120163792744e-05</td>\n",
       "      <td>501.8307800292969</td>\n",
       "      <td>39.87351989746094</td>\n",
       "      <td>0.0007668870384804904</td>\n",
       "      <td>1.040207862854004</td>\n",
       "      <td>0.011960506439208984</td>\n",
       "      <td>2.178665999963414e-05</td>\n",
       "      <td>496.4051208496094</td>\n",
       "      <td>63.29104995727539</td>\n",
       "      <td>0.0026469281874597073</td>\n",
       "    </tr>\n",
       "    <tr>\n",
       "      <th>163014</th>\n",
       "      <td>163012</td>\n",
       "      <td>847.3697509765625</td>\n",
       "      <td>582.2019653320312</td>\n",
       "      <td>0.0004809517413377762</td>\n",
       "      <td>902.1434326171875</td>\n",
       "      <td>336.8197021484375</td>\n",
       "      <td>0.00021731905872002244</td>\n",
       "      <td>865.2023315429688</td>\n",
       "      <td>265.9165344238281</td>\n",
       "      <td>3.3894564694492146e-05</td>\n",
       "      <td>501.6358337402344</td>\n",
       "      <td>40.3604850769043</td>\n",
       "      <td>0.0016281604766845703</td>\n",
       "      <td>1.1250526905059814</td>\n",
       "      <td>0.4061286449432373</td>\n",
       "      <td>3.153323268634267e-05</td>\n",
       "      <td>496.4085998535156</td>\n",
       "      <td>62.95435333251953</td>\n",
       "      <td>0.0076792859472334385</td>\n",
       "    </tr>\n",
       "    <tr>\n",
       "      <th>163015</th>\n",
       "      <td>163013</td>\n",
       "      <td>847.9351196289062</td>\n",
       "      <td>583.5549926757812</td>\n",
       "      <td>0.0007726519834250212</td>\n",
       "      <td>902.3949584960938</td>\n",
       "      <td>337.73614501953125</td>\n",
       "      <td>7.058735354803503e-05</td>\n",
       "      <td>4.381392955780029</td>\n",
       "      <td>0.6859257221221924</td>\n",
       "      <td>2.679413228179328e-05</td>\n",
       "      <td>500.1901550292969</td>\n",
       "      <td>40.660884857177734</td>\n",
       "      <td>0.0048300037160515785</td>\n",
       "      <td>498.489013671875</td>\n",
       "      <td>42.8333740234375</td>\n",
       "      <td>2.133642374246847e-05</td>\n",
       "      <td>497.0765075683594</td>\n",
       "      <td>63.12519073486328</td>\n",
       "      <td>0.04391193389892578</td>\n",
       "    </tr>\n",
       "    <tr>\n",
       "      <th>163016</th>\n",
       "      <td>163014</td>\n",
       "      <td>846.8485717773438</td>\n",
       "      <td>582.7102661132812</td>\n",
       "      <td>0.0009416590910404921</td>\n",
       "      <td>902.0289306640625</td>\n",
       "      <td>337.4149475097656</td>\n",
       "      <td>7.158068183343858e-05</td>\n",
       "      <td>4.349684715270996</td>\n",
       "      <td>0.4960048198699951</td>\n",
       "      <td>3.146768358419649e-05</td>\n",
       "      <td>500.8898620605469</td>\n",
       "      <td>40.44952392578125</td>\n",
       "      <td>0.001603596843779087</td>\n",
       "      <td>1.1768743991851807</td>\n",
       "      <td>0.1540062427520752</td>\n",
       "      <td>2.811815829772968e-05</td>\n",
       "      <td>496.0508728027344</td>\n",
       "      <td>63.007911682128906</td>\n",
       "      <td>0.021512571722269058</td>\n",
       "    </tr>\n",
       "  </tbody>\n",
       "</table>\n",
       "<p>163017 rows × 19 columns</p>\n",
       "</div>"
      ],
      "text/plain": [
       "           scorer DLC_resnet50_bottomup_clearSep21shuffle1_1030000  \\\n",
       "0       bodyparts                                            snout   \n",
       "1          coords                                                x   \n",
       "2               0                                433.7218933105469   \n",
       "3               1                                438.2349853515625   \n",
       "4               2                                440.2109680175781   \n",
       "...           ...                                              ...   \n",
       "163012     163010                                846.5376586914062   \n",
       "163013     163011                                   847.4208984375   \n",
       "163014     163012                                847.3697509765625   \n",
       "163015     163013                                847.9351196289062   \n",
       "163016     163014                                846.8485717773438   \n",
       "\n",
       "       DLC_resnet50_bottomup_clearSep21shuffle1_1030000.1  \\\n",
       "0                                                   snout   \n",
       "1                                                       y   \n",
       "2                                            481.93359375   \n",
       "3                                      485.09356689453125   \n",
       "4                                       490.8921813964844   \n",
       "...                                                   ...   \n",
       "163012                                  582.6831665039062   \n",
       "163013                                  582.2416381835938   \n",
       "163014                                  582.2019653320312   \n",
       "163015                                  583.5549926757812   \n",
       "163016                                  582.7102661132812   \n",
       "\n",
       "       DLC_resnet50_bottomup_clearSep21shuffle1_1030000.2  \\\n",
       "0                                                   snout   \n",
       "1                                              likelihood   \n",
       "2                                      0.9994862079620361   \n",
       "3                                      0.9995527863502502   \n",
       "4                                      0.9991874098777771   \n",
       "...                                                   ...   \n",
       "163012                              0.0012195650488138199   \n",
       "163013                              0.0005238725570961833   \n",
       "163014                              0.0004809517413377762   \n",
       "163015                              0.0007726519834250212   \n",
       "163016                              0.0009416590910404921   \n",
       "\n",
       "       DLC_resnet50_bottomup_clearSep21shuffle1_1030000.3  \\\n",
       "0                                           right-forepaw   \n",
       "1                                                       x   \n",
       "2                                       398.1558837890625   \n",
       "3                                        398.750732421875   \n",
       "4                                       399.5596618652344   \n",
       "...                                                   ...   \n",
       "163012                                  902.3479614257812   \n",
       "163013                                  902.0457153320312   \n",
       "163014                                  902.1434326171875   \n",
       "163015                                  902.3949584960938   \n",
       "163016                                  902.0289306640625   \n",
       "\n",
       "       DLC_resnet50_bottomup_clearSep21shuffle1_1030000.4  \\\n",
       "0                                           right-forepaw   \n",
       "1                                                       y   \n",
       "2                                       488.0100402832031   \n",
       "3                                       488.8730773925781   \n",
       "4                                        488.184326171875   \n",
       "...                                                   ...   \n",
       "163012                                    338.13232421875   \n",
       "163013                                  336.6177978515625   \n",
       "163014                                  336.8197021484375   \n",
       "163015                                 337.73614501953125   \n",
       "163016                                  337.4149475097656   \n",
       "\n",
       "       DLC_resnet50_bottomup_clearSep21shuffle1_1030000.5  \\\n",
       "0                                           right-forepaw   \n",
       "1                                              likelihood   \n",
       "2                                      0.9962955117225647   \n",
       "3                                      0.9937505125999451   \n",
       "4                                      0.9927864670753479   \n",
       "...                                                   ...   \n",
       "163012                              4.539838482742198e-05   \n",
       "163013                             0.00017642724560573697   \n",
       "163014                             0.00021731905872002244   \n",
       "163015                              7.058735354803503e-05   \n",
       "163016                              7.158068183343858e-05   \n",
       "\n",
       "       DLC_resnet50_bottomup_clearSep21shuffle1_1030000.6  \\\n",
       "0                                            left-forepaw   \n",
       "1                                                       x   \n",
       "2                                      412.28070068359375   \n",
       "3                                       412.0513916015625   \n",
       "4                                       412.1019592285156   \n",
       "...                                                   ...   \n",
       "163012                                  4.241046905517578   \n",
       "163013                                  865.1449584960938   \n",
       "163014                                  865.2023315429688   \n",
       "163015                                  4.381392955780029   \n",
       "163016                                  4.349684715270996   \n",
       "\n",
       "       DLC_resnet50_bottomup_clearSep21shuffle1_1030000.7  \\\n",
       "0                                            left-forepaw   \n",
       "1                                                       y   \n",
       "2                                      509.15435791015625   \n",
       "3                                       509.1146545410156   \n",
       "4                                        509.456298828125   \n",
       "...                                                   ...   \n",
       "163012                                 0.6390986442565918   \n",
       "163013                                  265.9806213378906   \n",
       "163014                                  265.9165344238281   \n",
       "163015                                 0.6859257221221924   \n",
       "163016                                 0.4960048198699951   \n",
       "\n",
       "       DLC_resnet50_bottomup_clearSep21shuffle1_1030000.8  \\\n",
       "0                                            left-forepaw   \n",
       "1                                              likelihood   \n",
       "2                                      0.9994186162948608   \n",
       "3                                      0.9992316961288452   \n",
       "4                                       0.998907208442688   \n",
       "...                                                   ...   \n",
       "163012                             3.0465716918115504e-05   \n",
       "163013                             3.9765120163792744e-05   \n",
       "163014                             3.3894564694492146e-05   \n",
       "163015                              2.679413228179328e-05   \n",
       "163016                              3.146768358419649e-05   \n",
       "\n",
       "       DLC_resnet50_bottomup_clearSep21shuffle1_1030000.9  \\\n",
       "0                                           right-hindpaw   \n",
       "1                                                       x   \n",
       "2                                      364.80816650390625   \n",
       "3                                        365.515380859375   \n",
       "4                                      365.57305908203125   \n",
       "...                                                   ...   \n",
       "163012                                   501.151611328125   \n",
       "163013                                  501.8307800292969   \n",
       "163014                                  501.6358337402344   \n",
       "163015                                  500.1901550292969   \n",
       "163016                                  500.8898620605469   \n",
       "\n",
       "       DLC_resnet50_bottomup_clearSep21shuffle1_1030000.10  \\\n",
       "0                                           right-hindpaw    \n",
       "1                                                       y    \n",
       "2                                       521.5546264648438    \n",
       "3                                       523.0096435546875    \n",
       "4                                       523.4133911132812    \n",
       "...                                                   ...    \n",
       "163012                                 39.437591552734375    \n",
       "163013                                  39.87351989746094    \n",
       "163014                                   40.3604850769043    \n",
       "163015                                 40.660884857177734    \n",
       "163016                                  40.44952392578125    \n",
       "\n",
       "       DLC_resnet50_bottomup_clearSep21shuffle1_1030000.11  \\\n",
       "0                                           right-hindpaw    \n",
       "1                                              likelihood    \n",
       "2                                      0.9984946250915527    \n",
       "3                                      0.9987745881080627    \n",
       "4                                      0.9988771080970764    \n",
       "...                                                   ...    \n",
       "163012                              0.0034240898676216602    \n",
       "163013                              0.0007668870384804904    \n",
       "163014                              0.0016281604766845703    \n",
       "163015                              0.0048300037160515785    \n",
       "163016                               0.001603596843779087    \n",
       "\n",
       "       DLC_resnet50_bottomup_clearSep21shuffle1_1030000.12  \\\n",
       "0                                            left-hindpaw    \n",
       "1                                                       x    \n",
       "2                                        401.217041015625    \n",
       "3                                       400.0931701660156    \n",
       "4                                      400.46173095703125    \n",
       "...                                                   ...    \n",
       "163012                                 1.0022649765014648    \n",
       "163013                                  1.040207862854004    \n",
       "163014                                 1.1250526905059814    \n",
       "163015                                   498.489013671875    \n",
       "163016                                 1.1768743991851807    \n",
       "\n",
       "       DLC_resnet50_bottomup_clearSep21shuffle1_1030000.13  \\\n",
       "0                                            left-hindpaw    \n",
       "1                                                       y    \n",
       "2                                       533.2017211914062    \n",
       "3                                       533.0562133789062    \n",
       "4                                       533.9353637695312    \n",
       "...                                                   ...    \n",
       "163012                                    -0.065673828125    \n",
       "163013                               0.011960506439208984    \n",
       "163014                                 0.4061286449432373    \n",
       "163015                                   42.8333740234375    \n",
       "163016                                 0.1540062427520752    \n",
       "\n",
       "       DLC_resnet50_bottomup_clearSep21shuffle1_1030000.14  \\\n",
       "0                                            left-hindpaw    \n",
       "1                                              likelihood    \n",
       "2                                      0.9998083710670471    \n",
       "3                                      0.9997743964195251    \n",
       "4                                      0.9997209906578064    \n",
       "...                                                   ...    \n",
       "163012                              1.928767960635014e-05    \n",
       "163013                              2.178665999963414e-05    \n",
       "163014                              3.153323268634267e-05    \n",
       "163015                              2.133642374246847e-05    \n",
       "163016                              2.811815829772968e-05    \n",
       "\n",
       "       DLC_resnet50_bottomup_clearSep21shuffle1_1030000.15  \\\n",
       "0                                               tail-base    \n",
       "1                                                       x    \n",
       "2                                       367.8746337890625    \n",
       "3                                          366.3837890625    \n",
       "4                                       365.8555603027344    \n",
       "...                                                   ...    \n",
       "163012                                  496.8975830078125    \n",
       "163013                                  496.4051208496094    \n",
       "163014                                  496.4085998535156    \n",
       "163015                                  497.0765075683594    \n",
       "163016                                  496.0508728027344    \n",
       "\n",
       "       DLC_resnet50_bottomup_clearSep21shuffle1_1030000.16  \\\n",
       "0                                               tail-base    \n",
       "1                                                       y    \n",
       "2                                       553.4801025390625    \n",
       "3                                        554.027587890625    \n",
       "4                                        553.937744140625    \n",
       "...                                                   ...    \n",
       "163012                                  62.91470718383789    \n",
       "163013                                  63.29104995727539    \n",
       "163014                                  62.95435333251953    \n",
       "163015                                  63.12519073486328    \n",
       "163016                                 63.007911682128906    \n",
       "\n",
       "       DLC_resnet50_bottomup_clearSep21shuffle1_1030000.17  \n",
       "0                                               tail-base   \n",
       "1                                              likelihood   \n",
       "2                                      0.9995847344398499   \n",
       "3                                      0.9995580315589905   \n",
       "4                                       0.999545156955719   \n",
       "...                                                   ...   \n",
       "163012                               0.004334553144872189   \n",
       "163013                              0.0026469281874597073   \n",
       "163014                              0.0076792859472334385   \n",
       "163015                                0.04391193389892578   \n",
       "163016                               0.021512571722269058   \n",
       "\n",
       "[163017 rows x 19 columns]"
      ]
     },
     "execution_count": 15,
     "metadata": {},
     "output_type": "execute_result"
    }
   ],
   "source": [
    "df"
   ]
  },
  {
   "cell_type": "code",
   "execution_count": 16,
   "id": "97511948-173c-411d-9a61-ecac80858c8d",
   "metadata": {},
   "outputs": [],
   "source": [
    "# Create Tk root\n",
    "root = Tk()\n",
    "# Hide the main window\n",
    "root.withdraw()\n",
    "root.call('wm', 'attributes', '.', '-topmost', True)\n",
    "infiles_clf = filedialog.askopenfilename(multiple=False, title='load classifier file .sav')\n",
    "\n",
    "%gui tk"
   ]
  },
  {
   "cell_type": "code",
   "execution_count": 17,
   "id": "1abdce09-c560-440d-a3a5-ac4d98fabd41",
   "metadata": {},
   "outputs": [
    {
     "data": {
      "text/plain": [
       "'D:/DeepLabStream/Sep-07-2022_randomforest.sav'"
      ]
     },
     "execution_count": 17,
     "metadata": {},
     "output_type": "execute_result"
    }
   ],
   "source": [
    "infiles_clf"
   ]
  },
  {
   "cell_type": "code",
   "execution_count": 18,
   "id": "24d14c1e-b1f3-44e4-8ac4-4e2d2aa64ed6",
   "metadata": {},
   "outputs": [
    {
     "name": "stderr",
     "output_type": "stream",
     "text": [
      "C:\\Users\\jimi\\anaconda3\\envs\\closed-loop\\lib\\site-packages\\sklearn\\base.py:329: UserWarning: Trying to unpickle estimator DecisionTreeClassifier from version 0.23.2 when using version 1.1.2. This might lead to breaking code or invalid results. Use at your own risk. For more info please refer to:\n",
      "https://scikit-learn.org/stable/model_persistence.html#security-maintainability-limitations\n",
      "  warnings.warn(\n",
      "C:\\Users\\jimi\\anaconda3\\envs\\closed-loop\\lib\\site-packages\\sklearn\\base.py:329: UserWarning: Trying to unpickle estimator RandomForestClassifier from version 0.23.2 when using version 1.1.2. This might lead to breaking code or invalid results. Use at your own risk. For more info please refer to:\n",
      "https://scikit-learn.org/stable/model_persistence.html#security-maintainability-limitations\n",
      "  warnings.warn(\n"
     ]
    }
   ],
   "source": [
    "with open(infiles_clf, 'rb') as fr:\n",
    "    random_forest_sav = joblib.load(fr)"
   ]
  },
  {
   "cell_type": "code",
   "execution_count": 19,
   "id": "0e356ed1-bf30-4651-9f75-b91a90fd2052",
   "metadata": {},
   "outputs": [
    {
     "data": {
      "text/html": [
       "<style>#sk-container-id-2 {color: black;background-color: white;}#sk-container-id-2 pre{padding: 0;}#sk-container-id-2 div.sk-toggleable {background-color: white;}#sk-container-id-2 label.sk-toggleable__label {cursor: pointer;display: block;width: 100%;margin-bottom: 0;padding: 0.3em;box-sizing: border-box;text-align: center;}#sk-container-id-2 label.sk-toggleable__label-arrow:before {content: \"▸\";float: left;margin-right: 0.25em;color: #696969;}#sk-container-id-2 label.sk-toggleable__label-arrow:hover:before {color: black;}#sk-container-id-2 div.sk-estimator:hover label.sk-toggleable__label-arrow:before {color: black;}#sk-container-id-2 div.sk-toggleable__content {max-height: 0;max-width: 0;overflow: hidden;text-align: left;background-color: #f0f8ff;}#sk-container-id-2 div.sk-toggleable__content pre {margin: 0.2em;color: black;border-radius: 0.25em;background-color: #f0f8ff;}#sk-container-id-2 input.sk-toggleable__control:checked~div.sk-toggleable__content {max-height: 200px;max-width: 100%;overflow: auto;}#sk-container-id-2 input.sk-toggleable__control:checked~label.sk-toggleable__label-arrow:before {content: \"▾\";}#sk-container-id-2 div.sk-estimator input.sk-toggleable__control:checked~label.sk-toggleable__label {background-color: #d4ebff;}#sk-container-id-2 div.sk-label input.sk-toggleable__control:checked~label.sk-toggleable__label {background-color: #d4ebff;}#sk-container-id-2 input.sk-hidden--visually {border: 0;clip: rect(1px 1px 1px 1px);clip: rect(1px, 1px, 1px, 1px);height: 1px;margin: -1px;overflow: hidden;padding: 0;position: absolute;width: 1px;}#sk-container-id-2 div.sk-estimator {font-family: monospace;background-color: #f0f8ff;border: 1px dotted black;border-radius: 0.25em;box-sizing: border-box;margin-bottom: 0.5em;}#sk-container-id-2 div.sk-estimator:hover {background-color: #d4ebff;}#sk-container-id-2 div.sk-parallel-item::after {content: \"\";width: 100%;border-bottom: 1px solid gray;flex-grow: 1;}#sk-container-id-2 div.sk-label:hover label.sk-toggleable__label {background-color: #d4ebff;}#sk-container-id-2 div.sk-serial::before {content: \"\";position: absolute;border-left: 1px solid gray;box-sizing: border-box;top: 0;bottom: 0;left: 50%;z-index: 0;}#sk-container-id-2 div.sk-serial {display: flex;flex-direction: column;align-items: center;background-color: white;padding-right: 0.2em;padding-left: 0.2em;position: relative;}#sk-container-id-2 div.sk-item {position: relative;z-index: 1;}#sk-container-id-2 div.sk-parallel {display: flex;align-items: stretch;justify-content: center;background-color: white;position: relative;}#sk-container-id-2 div.sk-item::before, #sk-container-id-2 div.sk-parallel-item::before {content: \"\";position: absolute;border-left: 1px solid gray;box-sizing: border-box;top: 0;bottom: 0;left: 50%;z-index: -1;}#sk-container-id-2 div.sk-parallel-item {display: flex;flex-direction: column;z-index: 1;position: relative;background-color: white;}#sk-container-id-2 div.sk-parallel-item:first-child::after {align-self: flex-end;width: 50%;}#sk-container-id-2 div.sk-parallel-item:last-child::after {align-self: flex-start;width: 50%;}#sk-container-id-2 div.sk-parallel-item:only-child::after {width: 0;}#sk-container-id-2 div.sk-dashed-wrapped {border: 1px dashed gray;margin: 0 0.4em 0.5em 0.4em;box-sizing: border-box;padding-bottom: 0.4em;background-color: white;}#sk-container-id-2 div.sk-label label {font-family: monospace;font-weight: bold;display: inline-block;line-height: 1.2em;}#sk-container-id-2 div.sk-label-container {text-align: center;}#sk-container-id-2 div.sk-container {/* jupyter's `normalize.less` sets `[hidden] { display: none; }` but bootstrap.min.css set `[hidden] { display: none !important; }` so we also need the `!important` here to be able to override the default hidden behavior on the sphinx rendered scikit-learn.org. See: https://github.com/scikit-learn/scikit-learn/issues/21755 */display: inline-block !important;position: relative;}#sk-container-id-2 div.sk-text-repr-fallback {display: none;}</style><div id=\"sk-container-id-2\" class=\"sk-top-container\"><div class=\"sk-text-repr-fallback\"><pre>RandomForestClassifier(max_features=&#x27;auto&#x27;, random_state=42)</pre><b>In a Jupyter environment, please rerun this cell to show the HTML representation or trust the notebook. <br />On GitHub, the HTML representation is unable to render, please try loading this page with nbviewer.org.</b></div><div class=\"sk-container\" hidden><div class=\"sk-item\"><div class=\"sk-estimator sk-toggleable\"><input class=\"sk-toggleable__control sk-hidden--visually\" id=\"sk-estimator-id-2\" type=\"checkbox\" checked><label for=\"sk-estimator-id-2\" class=\"sk-toggleable__label sk-toggleable__label-arrow\">RandomForestClassifier</label><div class=\"sk-toggleable__content\"><pre>RandomForestClassifier(max_features=&#x27;auto&#x27;, random_state=42)</pre></div></div></div></div></div>"
      ],
      "text/plain": [
       "RandomForestClassifier(max_features='auto', random_state=42)"
      ]
     },
     "execution_count": 19,
     "metadata": {},
     "output_type": "execute_result"
    }
   ],
   "source": [
    "clf = random_forest_sav[3]\n",
    "clf"
   ]
  },
  {
   "cell_type": "code",
   "execution_count": 20,
   "id": "098569da-9ba9-4596-b783-4889d6f4acc6",
   "metadata": {},
   "outputs": [
    {
     "name": "stderr",
     "output_type": "stream",
     "text": [
      "  0%|                                                                                            | 0/6 [00:00<?, ?it/s]C:\\Users\\jimi\\AppData\\Local\\Temp\\ipykernel_10448\\3076676940.py:22: DeprecationWarning: `np.float` is a deprecated alias for the builtin `float`. To silence this warning, use `float` by itself. Doing this will not modify any behavior and is safe. If you specifically wanted the numpy scalar type, use `np.float64` here.\n",
      "Deprecated in NumPy 1.20; for more details and guidance: https://numpy.org/devdocs/release/1.20.0-notes.html#deprecations\n",
      "  a, b = np.histogram(data_lh[1:, x].astype(np.float))\n",
      "C:\\Users\\jimi\\AppData\\Local\\Temp\\ipykernel_10448\\3076676940.py:29: DeprecationWarning: `np.float` is a deprecated alias for the builtin `float`. To silence this warning, use `float` by itself. Doing this will not modify any behavior and is safe. If you specifically wanted the numpy scalar type, use `np.float64` here.\n",
      "Deprecated in NumPy 1.20; for more details and guidance: https://numpy.org/devdocs/release/1.20.0-notes.html#deprecations\n",
      "  data_lh_float = data_lh[:, x].astype(np.float)\n",
      "100%|████████████████████████████████████████████████████████████████████████████████████| 6/6 [00:05<00:00,  1.09it/s]\n",
      "C:\\Users\\jimi\\AppData\\Local\\Temp\\ipykernel_10448\\3076676940.py:38: DeprecationWarning: `np.float` is a deprecated alias for the builtin `float`. To silence this warning, use `float` by itself. Doing this will not modify any behavior and is safe. If you specifically wanted the numpy scalar type, use `np.float64` here.\n",
      "Deprecated in NumPy 1.20; for more details and guidance: https://numpy.org/devdocs/release/1.20.0-notes.html#deprecations\n",
      "  currdf_filt = currdf_filt.astype(np.float)\n"
     ]
    }
   ],
   "source": [
    "csv_array_filtered, perc_filtered = adp_filt(df, np.arange(18))"
   ]
  },
  {
   "cell_type": "code",
   "execution_count": 21,
   "id": "66b8c6db-020c-416c-88b6-2f0b7b13d065",
   "metadata": {},
   "outputs": [
    {
     "data": {
      "text/plain": [
       "(163015, 12)"
      ]
     },
     "execution_count": 21,
     "metadata": {},
     "output_type": "execute_result"
    }
   ],
   "source": [
    "csv_array_filtered.shape"
   ]
  },
  {
   "cell_type": "code",
   "execution_count": 22,
   "id": "a262bfc4-e83a-4cc4-a696-3e6ea008fb06",
   "metadata": {},
   "outputs": [],
   "source": [
    "# csv_array.shape\n",
    "processed_input_data = [csv_array_filtered.copy()]"
   ]
  },
  {
   "cell_type": "code",
   "execution_count": 23,
   "id": "09b57a3e-2372-4e8e-ba5b-1dcd50e6f24a",
   "metadata": {},
   "outputs": [
    {
     "name": "stderr",
     "output_type": "stream",
     "text": [
      "C:\\Users\\jimi\\AppData\\Local\\Temp\\ipykernel_10448\\1596035890.py:2: DeprecationWarning: `np.int` is a deprecated alias for the builtin `int`. To silence this warning, use `int` by itself. Doing this will not modify any behavior and is safe. When replacing `np.int`, you may wish to use e.g. `np.int64` or `np.int32` to specify the precision. If you wish to review your current use, check the release note link for additional information.\n",
      "Deprecated in NumPy 1.20; for more details and guidance: https://numpy.org/devdocs/release/1.20.0-notes.html#deprecations\n",
      "  window = np.int(np.round(0.05 / (1 / framerate)) * 2 - 1)\n"
     ]
    }
   ],
   "source": [
    "framerate = 30\n",
    "window = np.int(np.round(0.05 / (1 / framerate)) * 2 - 1)\n",
    "f = []\n",
    "for n in range(len(processed_input_data)):\n",
    "    data_n_len = len(processed_input_data[n])\n",
    "    dxy_list = []\n",
    "    disp_list = []\n",
    "    for r in range(data_n_len):\n",
    "        if r < data_n_len - 1:\n",
    "            disp = []\n",
    "            for c in range(0, processed_input_data[n].shape[1], 2):\n",
    "                disp.append(\n",
    "                    np.linalg.norm(processed_input_data[n][r + 1, c:c + 2] -\n",
    "                                   processed_input_data[n][r, c:c + 2]))\n",
    "            disp_list.append(disp)\n",
    "        dxy = []\n",
    "        for i, j in itertools.combinations(range(0, processed_input_data[n].shape[1], 2), 2):\n",
    "            dxy.append(processed_input_data[n][r, i:i + 2] -\n",
    "                       processed_input_data[n][r, j:j + 2])\n",
    "        dxy_list.append(dxy)\n",
    "    disp_r = np.array(disp_list)\n",
    "    dxy_r = np.array(dxy_list)\n",
    "    disp_boxcar = []\n",
    "    dxy_eu = np.zeros([data_n_len, dxy_r.shape[1]])\n",
    "    ang = np.zeros([data_n_len - 1, dxy_r.shape[1]])\n",
    "    dxy_boxcar = []\n",
    "    ang_boxcar = []\n",
    "    for l in range(disp_r.shape[1]):\n",
    "        disp_boxcar.append(boxcar_center(disp_r[:, l], window))\n",
    "        # disp_boxcar.append(disp_r[:, l])\n",
    "    for k in range(dxy_r.shape[1]):\n",
    "        for kk in range(data_n_len):\n",
    "            dxy_eu[kk, k] = np.linalg.norm(dxy_r[kk, k, :])\n",
    "            if kk < data_n_len - 1:\n",
    "                b_3d = np.hstack([dxy_r[kk + 1, k, :], 0])\n",
    "                a_3d = np.hstack([dxy_r[kk, k, :], 0])\n",
    "                c = np.cross(b_3d, a_3d)\n",
    "                ang[kk, k] = np.dot(np.dot(np.sign(c[2]), 180) / np.pi,\n",
    "                                    math.atan2(np.linalg.norm(c),\n",
    "                                               np.dot(dxy_r[kk, k, :], dxy_r[kk + 1, k, :])))\n",
    "        dxy_boxcar.append(boxcar_center(dxy_eu[:, k], window))\n",
    "        ang_boxcar.append(boxcar_center(ang[:, k], window))\n",
    "        # dxy_boxcar.append(dxy_eu[:, k])\n",
    "        # ang_boxcar.append(ang[:, k])\n",
    "    disp_feat = np.array(disp_boxcar)\n",
    "    dxy_feat = np.array(dxy_boxcar)\n",
    "    ang_feat = np.array(ang_boxcar)\n",
    "    f.append(np.vstack((dxy_feat[:, 1:], ang_feat, disp_feat)))\n",
    "\n",
    "for m in range(0, len(f)):\n",
    "    f_integrated = np.zeros(len(processed_input_data[m]))\n",
    "    for k in range(round(framerate / 10), len(f[m][0]), round(framerate / 10)):\n",
    "        if k > round(framerate / 10):\n",
    "            f_integrated = np.concatenate(\n",
    "                (f_integrated.reshape(f_integrated.shape[0], f_integrated.shape[1]),\n",
    "                 np.hstack((np.mean((f[m][0:dxy_feat.shape[0],\n",
    "                                     range(k - round(framerate / 10), k)]), axis=1),\n",
    "                            np.sum((f[m][dxy_feat.shape[0]:f[m].shape[0],\n",
    "                                    range(k - round(framerate / 10), k)]), axis=1)\n",
    "                            )).reshape(len(f[0]), 1)), axis=1\n",
    "            )\n",
    "        else:\n",
    "            f_integrated = np.hstack(\n",
    "                (np.mean((f[m][0:dxy_feat.shape[0], range(k - round(framerate / 10), k)]), axis=1),\n",
    "                 np.sum((f[m][dxy_feat.shape[0]:f[m].shape[0],\n",
    "                         range(k - round(framerate / 10), k)]), axis=1))).reshape(len(f[0]), 1)\n",
    "    if m > 0:\n",
    "        features = np.concatenate((features, f_integrated), axis=1)\n",
    "    else:\n",
    "        features = f_integrated"
   ]
  },
  {
   "cell_type": "code",
   "execution_count": 24,
   "id": "f042c0dc-4e71-4b35-b427-3cf53f477808",
   "metadata": {},
   "outputs": [
    {
     "data": {
      "text/plain": [
       "(54337, 36)"
      ]
     },
     "execution_count": 24,
     "metadata": {},
     "output_type": "execute_result"
    }
   ],
   "source": [
    "f_integrated.T.shape"
   ]
  },
  {
   "cell_type": "code",
   "execution_count": 96,
   "id": "dd27ae03-eb80-4d9b-971b-d3a299e95b09",
   "metadata": {},
   "outputs": [],
   "source": [
    "X = features.T.copy()\n",
    "predictions = clf.predict(X)"
   ]
  },
  {
   "cell_type": "code",
   "execution_count": 97,
   "id": "e71b4202-eb65-4295-b8e1-6f0d18051bd5",
   "metadata": {},
   "outputs": [
    {
     "data": {
      "text/plain": [
       "Text(0.5, 0, 'time (s)')"
      ]
     },
     "execution_count": 97,
     "metadata": {},
     "output_type": "execute_result"
    },
    {
     "data": {
      "image/png": "[encoded data removed]",
      "text/plain": [
       "<Figure size 600x400 with 1 Axes>"
      ]
     },
     "metadata": {},
     "output_type": "display_data"
    }
   ],
   "source": [
    "class_of_interest=17\n",
    "jitter=0.5\n",
    "fig, ax = plt.subplots(1, 1, figsize=(6, 4))\n",
    "ax.hlines(class_of_interest-jitter, 0, len(predictions), 'r', alpha=0.7)\n",
    "ax.hlines(class_of_interest+jitter, 0, len(predictions), 'r', alpha=0.7)\n",
    "ax.vlines(0-jitter, class_of_interest-jitter, class_of_interest+jitter, 'r', alpha=0.7)\n",
    "ax.vlines(len(predictions)+jitter, class_of_interest-jitter, class_of_interest+jitter, 'r', alpha=0.7)\n",
    "ax.scatter(np.arange(len(predictions)), predictions, s=0.5, color='k', alpha=0.3)\n",
    "ax.set_xticks(np.arange(0, len(predictions), 300))\n",
    "ax.set_xticklabels(np.arange(0, len(predictions)/10, 30))\n",
    "ax.set_ylabel('behavior ID')\n",
    "ax.set_xlabel('time (s)')\n",
    "# fig.savefig('./test.png', dpi=600)"
   ]
  },
  {
   "cell_type": "code",
   "execution_count": 98,
   "id": "04d98724-98e9-481e-87c2-e40770c2b4f6",
   "metadata": {},
   "outputs": [],
   "source": [
    "fileoutname = str.join('', (infiles[0].rpartition('DLC')[0], '_posthoc-predictions.npy'))\n",
    "np.save(fileoutname, predictions)"
   ]
  },
  {
   "cell_type": "markdown",
   "id": "c5453d50-6fe0-4af2-bfb0-be19b341e41e",
   "metadata": {
    "jp-MarkdownHeadingCollapsed": true,
    "tags": []
   },
   "source": [
    "## put the below code in another notebook \n",
    "#### loop through all .npy files once analyzed"
   ]
  },
  {
   "cell_type": "code",
   "execution_count": 63,
   "id": "d3548802-88b3-4041-8bd8-b37cc43a157a",
   "metadata": {},
   "outputs": [],
   "source": [
    "all_predictions = []\n",
    "for _ in range(6):\n",
    "    # join duplicates of the same array\n",
    "    predictions = np.load(fileoutname)\n",
    "    all_predictions.append(predictions)\n",
    "# all_predictions\n",
    "all_predictions_arr = np.hstack(all_predictions)"
   ]
  },
  {
   "cell_type": "code",
   "execution_count": 79,
   "id": "87fd5899-1afd-4852-ba84-85a80e99d3fa",
   "metadata": {},
   "outputs": [
    {
     "data": {
      "image/png": "[encoded data removed]",
      "text/plain": [
       "<Figure size 600x400 with 1 Axes>"
      ]
     },
     "metadata": {},
     "output_type": "display_data"
    }
   ],
   "source": [
    "class_of_interest=17\n",
    "jitter=0.5\n",
    "fig, ax = plt.subplots(1, 1, figsize=(6, 4))\n",
    "ax.hlines(class_of_interest-jitter, 0, len(all_predictions_arr), 'r', alpha=0.7)\n",
    "ax.hlines(class_of_interest+jitter, 0, len(all_predictions_arr), 'r', alpha=0.7)\n",
    "ax.vlines(0-jitter, class_of_interest-jitter, class_of_interest+jitter, 'r', alpha=0.7)\n",
    "ax.vlines(len(all_predictions_arr)+jitter, class_of_interest-jitter, class_of_interest+jitter, 'r', alpha=0.7)\n",
    "ax.scatter(np.arange(len(all_predictions_arr)), all_predictions_arr, s=0.5, color='k', alpha=0.3)\n",
    "ax.set_xticks(np.arange(0, len(all_predictions_arr), 300))\n",
    "ax.set_xticklabels(np.arange(0, len(all_predictions_arr)/10, 30))\n",
    "ax.set_ylabel('behavior ID')\n",
    "ax.set_xlabel('time (s)')\n",
    "fig.savefig('./test.png', dpi=600)"
   ]
  },
  {
   "cell_type": "code",
   "execution_count": 67,
   "id": "ac61090d-8db0-4c89-9d06-5d3766e372fc",
   "metadata": {},
   "outputs": [
    {
     "data": {
      "text/plain": [
       "(14826,)"
      ]
     },
     "execution_count": 67,
     "metadata": {},
     "output_type": "execute_result"
    }
   ],
   "source": [
    "all_predictions_arr.shape"
   ]
  },
  {
   "cell_type": "code",
   "execution_count": 70,
   "id": "1c96594e-41e1-46e8-9ace-fb526ed31fed",
   "metadata": {},
   "outputs": [
    {
     "name": "stdout",
     "output_type": "stream",
     "text": [
      "[    0   600  1200  1800  2400  3000  3600  4200  4800  5400  6000  6600\n",
      "  7200  7800  8400  9000  9600 10200 10800 11400 12000 12600 13200 13800\n",
      " 14400] [  600  1200  1800  2400  3000  3600  4200  4800  5400  6000  6600  7200\n",
      "  7800  8400  9000  9600 10200 10800 11400 12000 12600 13200 13800 14400\n",
      " 15000]\n"
     ]
    }
   ],
   "source": [
    "bin_start = np.arange(0, np.max(len(all_predictions_arr)), 600)\n",
    "bin_end = np.arange(600, np.max(len(all_predictions_arr))+600, 600)\n",
    "print(bin_start, bin_end)\n",
    "binned_predictions = []\n",
    "for b in range(len(bin_start)):\n",
    "    binned_predictions.append(all_predictions_arr[bin_start[b]:bin_end[b]])\n"
   ]
  },
  {
   "cell_type": "code",
   "execution_count": 80,
   "id": "f9bbbf41-5715-49c2-bf5d-f5815e67f06e",
   "metadata": {},
   "outputs": [
    {
     "data": {
      "text/plain": [
       "<BarContainer object of 25 artists>"
      ]
     },
     "execution_count": 80,
     "metadata": {},
     "output_type": "execute_result"
    },
    {
     "data": {
      "image/png": "[encoded data removed]",
      "text/plain": [
       "<Figure size 640x480 with 1 Axes>"
      ]
     },
     "metadata": {},
     "output_type": "display_data"
    }
   ],
   "source": [
    "class_interest_binned = [len(np.where(binned_predictions[b] == class_of_interest)[0]) for b in range(len(binned_predictions))]\n",
    "\n",
    "plt.bar(np.arange(len(class_interest_binned)), class_interest_binned)"
   ]
  },
  {
   "cell_type": "code",
   "execution_count": 42,
   "id": "545bc226-eea5-4eab-8360-f2961597b992",
   "metadata": {},
   "outputs": [
    {
     "data": {
      "text/plain": [
       "(array([   0,  300,  600,  900, 1200, 1500, 1800, 2100, 2400]),\n",
       " array([  0.,  30.,  60.,  90., 120., 150., 180., 210., 240.]))"
      ]
     },
     "execution_count": 42,
     "metadata": {},
     "output_type": "execute_result"
    }
   ],
   "source": [
    "np.arange(0, len(predictions), 300), np.arange(0, len(predictions)/10, 30)"
   ]
  }
 ],
 "metadata": {
  "kernelspec": {
   "display_name": "Python 3 (ipykernel)",
   "language": "python",
   "name": "python3"
  },
  "language_info": {
   "codemirror_mode": {
    "name": "ipython",
    "version": 3
   },
   "file_extension": ".py",
   "mimetype": "text/x-python",
   "name": "python",
   "nbconvert_exporter": "python",
   "pygments_lexer": "ipython3",
   "version": "3.8.0"
  }
 },
 "nbformat": 4,
 "nbformat_minor": 5
}
