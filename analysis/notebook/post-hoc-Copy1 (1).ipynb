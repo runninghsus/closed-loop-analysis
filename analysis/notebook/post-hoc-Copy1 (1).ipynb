{
 "cells": [
  {
   "cell_type": "code",
   "execution_count": 1,
   "id": "0fefe8fc-01da-468e-8181-f02b42b6cd7b",
   "metadata": {},
   "outputs": [],
   "source": [
    "import joblib\n",
    "import os\n",
    "import pandas as pd\n",
    "from sklearn.ensemble import RandomForestClassifier\n",
    "import numpy as np\n",
    "from datetime import datetime\n",
    "import matplotlib.pyplot as plt\n",
    "import pickle\n",
    "import time\n",
    "from tkinter import *\n",
    "from tkinter import filedialog\n",
    "from tqdm import tqdm\n",
    "import itertools\n",
    "import math"
   ]
  },
  {
   "cell_type": "code",
   "execution_count": 2,
   "id": "9943bc21-3590-4325-8ffa-b9ef5e05b725",
   "metadata": {},
   "outputs": [],
   "source": [
    "def adp_filt(currdf: object, pose):\n",
    "    lIndex = []\n",
    "    xIndex = []\n",
    "    yIndex = []\n",
    "    currdf = np.array(currdf[1:])\n",
    "    for header in pose:\n",
    "        if currdf[0][header + 1] == \"likelihood\":\n",
    "            lIndex.append(header)\n",
    "        elif currdf[0][header + 1] == \"x\":\n",
    "            xIndex.append(header)\n",
    "        elif currdf[0][header + 1] == \"y\":\n",
    "            yIndex.append(header)\n",
    "    curr_df1 = currdf[:, 1:]\n",
    "    datax = curr_df1[1:, np.array(xIndex)]\n",
    "    datay = curr_df1[1:, np.array(yIndex)]\n",
    "    data_lh = curr_df1[1:, np.array(lIndex)]\n",
    "    currdf_filt = np.zeros((datax.shape[0], (datax.shape[1]) * 2))\n",
    "    perc_rect = []\n",
    "    for i in range(data_lh.shape[1]):\n",
    "        perc_rect.append(0)\n",
    "    for x in tqdm(range(data_lh.shape[1])):\n",
    "        a, b = np.histogram(data_lh[1:, x].astype(np.float))\n",
    "        rise_a = np.where(np.diff(a) >= 0)\n",
    "        if rise_a[0][0] > 1:\n",
    "            llh = b[rise_a[0][0]]\n",
    "        else:\n",
    "            llh = b[rise_a[0][1]]\n",
    "        # llh=0\n",
    "        data_lh_float = data_lh[:, x].astype(np.float)\n",
    "        perc_rect[x] = np.sum(data_lh_float < llh) / data_lh.shape[0]\n",
    "        currdf_filt[0, (2 * x):(2 * x + 2)] = np.hstack([datax[0, x], datay[0, x]])\n",
    "        for i in range(1, data_lh.shape[0]):\n",
    "            if data_lh_float[i] < llh:\n",
    "                currdf_filt[i, (2 * x):(2 * x + 2)] = currdf_filt[i - 1, (2 * x):(2 * x + 2)]\n",
    "            else:\n",
    "                currdf_filt[i, (2 * x):(2 * x + 2)] = np.hstack([datax[i, x], datay[i, x]])\n",
    "    currdf_filt = np.array(currdf_filt)\n",
    "    currdf_filt = currdf_filt.astype(np.float)\n",
    "    return currdf_filt, perc_rect\n",
    "\n",
    "def boxcar_center(a, n):\n",
    "    a1 = pd.Series(a)\n",
    "    moving_avg = np.array(a1.rolling(window=n, min_periods=1, center=True).mean())\n",
    "\n",
    "    return moving_avg"
   ]
  },
  {
   "cell_type": "code",
   "execution_count": 4,
   "id": "d0654256-8c60-480e-b166-b0763c349ec2",
   "metadata": {},
   "outputs": [],
   "source": [
    "# Create Tk root\n",
    "root = Tk()\n",
    "# Hide the main window\n",
    "root.withdraw()\n",
    "root.call('wm', 'attributes', '.', '-topmost', True)\n",
    "infiles = filedialog.askopenfilename(multiple=True, title='load deeplabcut csv')\n",
    "\n",
    "%gui tk"
   ]
  },
  {
   "cell_type": "code",
   "execution_count": 5,
   "id": "17750995-dc6f-4f6c-9bef-19338d5634b4",
   "metadata": {},
   "outputs": [],
   "source": [
    "df = pd.read_csv(infiles[0], low_memory=False)"
   ]
  },
  {
   "cell_type": "code",
   "execution_count": 6,
   "id": "30756419-e99b-43ca-8ff4-301236d4308f",
   "metadata": {},
   "outputs": [
    {
     "data": {
      "text/html": [
       "<div>\n",
       "<style scoped>\n",
       "    .dataframe tbody tr th:only-of-type {\n",
       "        vertical-align: middle;\n",
       "    }\n",
       "\n",
       "    .dataframe tbody tr th {\n",
       "        vertical-align: top;\n",
       "    }\n",
       "\n",
       "    .dataframe thead th {\n",
       "        text-align: right;\n",
       "    }\n",
       "</style>\n",
       "<table border=\"1\" class=\"dataframe\">\n",
       "  <thead>\n",
       "    <tr style=\"text-align: right;\">\n",
       "      <th></th>\n",
       "      <th>scorer</th>\n",
       "      <th>DLC_resnet50_bottomup_clearSep21shuffle1_1030000</th>\n",
       "      <th>DLC_resnet50_bottomup_clearSep21shuffle1_1030000.1</th>\n",
       "      <th>DLC_resnet50_bottomup_clearSep21shuffle1_1030000.2</th>\n",
       "      <th>DLC_resnet50_bottomup_clearSep21shuffle1_1030000.3</th>\n",
       "      <th>DLC_resnet50_bottomup_clearSep21shuffle1_1030000.4</th>\n",
       "      <th>DLC_resnet50_bottomup_clearSep21shuffle1_1030000.5</th>\n",
       "      <th>DLC_resnet50_bottomup_clearSep21shuffle1_1030000.6</th>\n",
       "      <th>DLC_resnet50_bottomup_clearSep21shuffle1_1030000.7</th>\n",
       "      <th>DLC_resnet50_bottomup_clearSep21shuffle1_1030000.8</th>\n",
       "      <th>DLC_resnet50_bottomup_clearSep21shuffle1_1030000.9</th>\n",
       "      <th>DLC_resnet50_bottomup_clearSep21shuffle1_1030000.10</th>\n",
       "      <th>DLC_resnet50_bottomup_clearSep21shuffle1_1030000.11</th>\n",
       "      <th>DLC_resnet50_bottomup_clearSep21shuffle1_1030000.12</th>\n",
       "      <th>DLC_resnet50_bottomup_clearSep21shuffle1_1030000.13</th>\n",
       "      <th>DLC_resnet50_bottomup_clearSep21shuffle1_1030000.14</th>\n",
       "      <th>DLC_resnet50_bottomup_clearSep21shuffle1_1030000.15</th>\n",
       "      <th>DLC_resnet50_bottomup_clearSep21shuffle1_1030000.16</th>\n",
       "      <th>DLC_resnet50_bottomup_clearSep21shuffle1_1030000.17</th>\n",
       "    </tr>\n",
       "  </thead>\n",
       "  <tbody>\n",
       "    <tr>\n",
       "      <th>0</th>\n",
       "      <td>bodyparts</td>\n",
       "      <td>snout</td>\n",
       "      <td>snout</td>\n",
       "      <td>snout</td>\n",
       "      <td>right-forepaw</td>\n",
       "      <td>right-forepaw</td>\n",
       "      <td>right-forepaw</td>\n",
       "      <td>left-forepaw</td>\n",
       "      <td>left-forepaw</td>\n",
       "      <td>left-forepaw</td>\n",
       "      <td>right-hindpaw</td>\n",
       "      <td>right-hindpaw</td>\n",
       "      <td>right-hindpaw</td>\n",
       "      <td>left-hindpaw</td>\n",
       "      <td>left-hindpaw</td>\n",
       "      <td>left-hindpaw</td>\n",
       "      <td>tail-base</td>\n",
       "      <td>tail-base</td>\n",
       "      <td>tail-base</td>\n",
       "    </tr>\n",
       "    <tr>\n",
       "      <th>1</th>\n",
       "      <td>coords</td>\n",
       "      <td>x</td>\n",
       "      <td>y</td>\n",
       "      <td>likelihood</td>\n",
       "      <td>x</td>\n",
       "      <td>y</td>\n",
       "      <td>likelihood</td>\n",
       "      <td>x</td>\n",
       "      <td>y</td>\n",
       "      <td>likelihood</td>\n",
       "      <td>x</td>\n",
       "      <td>y</td>\n",
       "      <td>likelihood</td>\n",
       "      <td>x</td>\n",
       "      <td>y</td>\n",
       "      <td>likelihood</td>\n",
       "      <td>x</td>\n",
       "      <td>y</td>\n",
       "      <td>likelihood</td>\n",
       "    </tr>\n",
       "    <tr>\n",
       "      <th>2</th>\n",
       "      <td>0</td>\n",
       "      <td>440.7322998046875</td>\n",
       "      <td>723.5724487304688</td>\n",
       "      <td>0.5962904691696167</td>\n",
       "      <td>457.8570861816406</td>\n",
       "      <td>715.7238159179688</td>\n",
       "      <td>0.5603581666946411</td>\n",
       "      <td>445.744873046875</td>\n",
       "      <td>708.273193359375</td>\n",
       "      <td>0.041418176144361496</td>\n",
       "      <td>747.1613159179688</td>\n",
       "      <td>556.4971313476562</td>\n",
       "      <td>0.040747180581092834</td>\n",
       "      <td>740.8277587890625</td>\n",
       "      <td>553.5988159179688</td>\n",
       "      <td>0.002985704457387328</td>\n",
       "      <td>754.2137451171875</td>\n",
       "      <td>517.7739868164062</td>\n",
       "      <td>0.054708972573280334</td>\n",
       "    </tr>\n",
       "    <tr>\n",
       "      <th>3</th>\n",
       "      <td>1</td>\n",
       "      <td>439.98876953125</td>\n",
       "      <td>722.3282470703125</td>\n",
       "      <td>0.3916800320148468</td>\n",
       "      <td>457.4877014160156</td>\n",
       "      <td>716.0532836914062</td>\n",
       "      <td>0.27295953035354614</td>\n",
       "      <td>456.82525634765625</td>\n",
       "      <td>717.5255126953125</td>\n",
       "      <td>0.016878074035048485</td>\n",
       "      <td>225.35238647460938</td>\n",
       "      <td>593.78515625</td>\n",
       "      <td>0.015411080792546272</td>\n",
       "      <td>745.6793212890625</td>\n",
       "      <td>555.7156372070312</td>\n",
       "      <td>0.00046259257942438126</td>\n",
       "      <td>757.3475952148438</td>\n",
       "      <td>519.4046630859375</td>\n",
       "      <td>0.5504105091094971</td>\n",
       "    </tr>\n",
       "    <tr>\n",
       "      <th>4</th>\n",
       "      <td>2</td>\n",
       "      <td>440.06060791015625</td>\n",
       "      <td>722.3729858398438</td>\n",
       "      <td>0.38693955540657043</td>\n",
       "      <td>458.26580810546875</td>\n",
       "      <td>716.75439453125</td>\n",
       "      <td>0.11501052230596542</td>\n",
       "      <td>458.0437927246094</td>\n",
       "      <td>717.4478759765625</td>\n",
       "      <td>0.02042020484805107</td>\n",
       "      <td>224.93838500976562</td>\n",
       "      <td>593.9447021484375</td>\n",
       "      <td>0.0007043854566290975</td>\n",
       "      <td>766.654296875</td>\n",
       "      <td>525.6358032226562</td>\n",
       "      <td>9.175471495836973e-05</td>\n",
       "      <td>758.2908935546875</td>\n",
       "      <td>518.9340209960938</td>\n",
       "      <td>0.18391411006450653</td>\n",
       "    </tr>\n",
       "    <tr>\n",
       "      <th>...</th>\n",
       "      <td>...</td>\n",
       "      <td>...</td>\n",
       "      <td>...</td>\n",
       "      <td>...</td>\n",
       "      <td>...</td>\n",
       "      <td>...</td>\n",
       "      <td>...</td>\n",
       "      <td>...</td>\n",
       "      <td>...</td>\n",
       "      <td>...</td>\n",
       "      <td>...</td>\n",
       "      <td>...</td>\n",
       "      <td>...</td>\n",
       "      <td>...</td>\n",
       "      <td>...</td>\n",
       "      <td>...</td>\n",
       "      <td>...</td>\n",
       "      <td>...</td>\n",
       "      <td>...</td>\n",
       "    </tr>\n",
       "    <tr>\n",
       "      <th>165007</th>\n",
       "      <td>165005</td>\n",
       "      <td>598.0328369140625</td>\n",
       "      <td>352.4455871582031</td>\n",
       "      <td>0.9999011754989624</td>\n",
       "      <td>559.698974609375</td>\n",
       "      <td>348.756103515625</td>\n",
       "      <td>0.9975149631500244</td>\n",
       "      <td>551.2158203125</td>\n",
       "      <td>366.0517883300781</td>\n",
       "      <td>0.9956207871437073</td>\n",
       "      <td>501.36181640625</td>\n",
       "      <td>339.83526611328125</td>\n",
       "      <td>0.9994139671325684</td>\n",
       "      <td>512.5015258789062</td>\n",
       "      <td>392.9075622558594</td>\n",
       "      <td>0.9988604784011841</td>\n",
       "      <td>485.09320068359375</td>\n",
       "      <td>367.5165100097656</td>\n",
       "      <td>0.9999237060546875</td>\n",
       "    </tr>\n",
       "    <tr>\n",
       "      <th>165008</th>\n",
       "      <td>165006</td>\n",
       "      <td>597.9872436523438</td>\n",
       "      <td>352.371826171875</td>\n",
       "      <td>0.9998793601989746</td>\n",
       "      <td>559.7194213867188</td>\n",
       "      <td>348.92779541015625</td>\n",
       "      <td>0.9966456294059753</td>\n",
       "      <td>551.6812133789062</td>\n",
       "      <td>366.38372802734375</td>\n",
       "      <td>0.9886990189552307</td>\n",
       "      <td>501.0723876953125</td>\n",
       "      <td>339.069091796875</td>\n",
       "      <td>0.9994440674781799</td>\n",
       "      <td>512.3145751953125</td>\n",
       "      <td>393.1427001953125</td>\n",
       "      <td>0.9988082647323608</td>\n",
       "      <td>485.263916015625</td>\n",
       "      <td>366.80712890625</td>\n",
       "      <td>0.9999305009841919</td>\n",
       "    </tr>\n",
       "    <tr>\n",
       "      <th>165009</th>\n",
       "      <td>165007</td>\n",
       "      <td>598.05615234375</td>\n",
       "      <td>352.3696594238281</td>\n",
       "      <td>0.9998700618743896</td>\n",
       "      <td>559.7549438476562</td>\n",
       "      <td>348.844970703125</td>\n",
       "      <td>0.9969407320022583</td>\n",
       "      <td>551.7467041015625</td>\n",
       "      <td>366.41937255859375</td>\n",
       "      <td>0.9899147748947144</td>\n",
       "      <td>501.2483215332031</td>\n",
       "      <td>338.9047546386719</td>\n",
       "      <td>0.9994933605194092</td>\n",
       "      <td>512.4095458984375</td>\n",
       "      <td>393.30303955078125</td>\n",
       "      <td>0.9987494945526123</td>\n",
       "      <td>485.2169189453125</td>\n",
       "      <td>366.7394714355469</td>\n",
       "      <td>0.9999303817749023</td>\n",
       "    </tr>\n",
       "    <tr>\n",
       "      <th>165010</th>\n",
       "      <td>165008</td>\n",
       "      <td>597.9944458007812</td>\n",
       "      <td>352.2458801269531</td>\n",
       "      <td>0.999886155128479</td>\n",
       "      <td>559.88916015625</td>\n",
       "      <td>348.7027282714844</td>\n",
       "      <td>0.9972986578941345</td>\n",
       "      <td>551.4105834960938</td>\n",
       "      <td>366.5176696777344</td>\n",
       "      <td>0.9923087358474731</td>\n",
       "      <td>501.47113037109375</td>\n",
       "      <td>339.25994873046875</td>\n",
       "      <td>0.9994687438011169</td>\n",
       "      <td>512.5933837890625</td>\n",
       "      <td>393.17022705078125</td>\n",
       "      <td>0.9987702965736389</td>\n",
       "      <td>485.2345275878906</td>\n",
       "      <td>366.7326354980469</td>\n",
       "      <td>0.9999262094497681</td>\n",
       "    </tr>\n",
       "    <tr>\n",
       "      <th>165011</th>\n",
       "      <td>165009</td>\n",
       "      <td>597.418701171875</td>\n",
       "      <td>351.9632263183594</td>\n",
       "      <td>0.9999078512191772</td>\n",
       "      <td>559.8495483398438</td>\n",
       "      <td>348.8033142089844</td>\n",
       "      <td>0.9979324340820312</td>\n",
       "      <td>551.0629272460938</td>\n",
       "      <td>366.2147216796875</td>\n",
       "      <td>0.9960829019546509</td>\n",
       "      <td>501.60260009765625</td>\n",
       "      <td>339.13916015625</td>\n",
       "      <td>0.9994526505470276</td>\n",
       "      <td>512.2985229492188</td>\n",
       "      <td>392.8444519042969</td>\n",
       "      <td>0.9990072846412659</td>\n",
       "      <td>484.8235778808594</td>\n",
       "      <td>367.510498046875</td>\n",
       "      <td>0.9999226331710815</td>\n",
       "    </tr>\n",
       "  </tbody>\n",
       "</table>\n",
       "<p>165012 rows × 19 columns</p>\n",
       "</div>"
      ],
      "text/plain": [
       "           scorer DLC_resnet50_bottomup_clearSep21shuffle1_1030000  \\\n",
       "0       bodyparts                                            snout   \n",
       "1          coords                                                x   \n",
       "2               0                                440.7322998046875   \n",
       "3               1                                  439.98876953125   \n",
       "4               2                               440.06060791015625   \n",
       "...           ...                                              ...   \n",
       "165007     165005                                598.0328369140625   \n",
       "165008     165006                                597.9872436523438   \n",
       "165009     165007                                  598.05615234375   \n",
       "165010     165008                                597.9944458007812   \n",
       "165011     165009                                 597.418701171875   \n",
       "\n",
       "       DLC_resnet50_bottomup_clearSep21shuffle1_1030000.1  \\\n",
       "0                                                   snout   \n",
       "1                                                       y   \n",
       "2                                       723.5724487304688   \n",
       "3                                       722.3282470703125   \n",
       "4                                       722.3729858398438   \n",
       "...                                                   ...   \n",
       "165007                                  352.4455871582031   \n",
       "165008                                   352.371826171875   \n",
       "165009                                  352.3696594238281   \n",
       "165010                                  352.2458801269531   \n",
       "165011                                  351.9632263183594   \n",
       "\n",
       "       DLC_resnet50_bottomup_clearSep21shuffle1_1030000.2  \\\n",
       "0                                                   snout   \n",
       "1                                              likelihood   \n",
       "2                                      0.5962904691696167   \n",
       "3                                      0.3916800320148468   \n",
       "4                                     0.38693955540657043   \n",
       "...                                                   ...   \n",
       "165007                                 0.9999011754989624   \n",
       "165008                                 0.9998793601989746   \n",
       "165009                                 0.9998700618743896   \n",
       "165010                                  0.999886155128479   \n",
       "165011                                 0.9999078512191772   \n",
       "\n",
       "       DLC_resnet50_bottomup_clearSep21shuffle1_1030000.3  \\\n",
       "0                                           right-forepaw   \n",
       "1                                                       x   \n",
       "2                                       457.8570861816406   \n",
       "3                                       457.4877014160156   \n",
       "4                                      458.26580810546875   \n",
       "...                                                   ...   \n",
       "165007                                   559.698974609375   \n",
       "165008                                  559.7194213867188   \n",
       "165009                                  559.7549438476562   \n",
       "165010                                    559.88916015625   \n",
       "165011                                  559.8495483398438   \n",
       "\n",
       "       DLC_resnet50_bottomup_clearSep21shuffle1_1030000.4  \\\n",
       "0                                           right-forepaw   \n",
       "1                                                       y   \n",
       "2                                       715.7238159179688   \n",
       "3                                       716.0532836914062   \n",
       "4                                         716.75439453125   \n",
       "...                                                   ...   \n",
       "165007                                   348.756103515625   \n",
       "165008                                 348.92779541015625   \n",
       "165009                                   348.844970703125   \n",
       "165010                                  348.7027282714844   \n",
       "165011                                  348.8033142089844   \n",
       "\n",
       "       DLC_resnet50_bottomup_clearSep21shuffle1_1030000.5  \\\n",
       "0                                           right-forepaw   \n",
       "1                                              likelihood   \n",
       "2                                      0.5603581666946411   \n",
       "3                                     0.27295953035354614   \n",
       "4                                     0.11501052230596542   \n",
       "...                                                   ...   \n",
       "165007                                 0.9975149631500244   \n",
       "165008                                 0.9966456294059753   \n",
       "165009                                 0.9969407320022583   \n",
       "165010                                 0.9972986578941345   \n",
       "165011                                 0.9979324340820312   \n",
       "\n",
       "       DLC_resnet50_bottomup_clearSep21shuffle1_1030000.6  \\\n",
       "0                                            left-forepaw   \n",
       "1                                                       x   \n",
       "2                                        445.744873046875   \n",
       "3                                      456.82525634765625   \n",
       "4                                       458.0437927246094   \n",
       "...                                                   ...   \n",
       "165007                                     551.2158203125   \n",
       "165008                                  551.6812133789062   \n",
       "165009                                  551.7467041015625   \n",
       "165010                                  551.4105834960938   \n",
       "165011                                  551.0629272460938   \n",
       "\n",
       "       DLC_resnet50_bottomup_clearSep21shuffle1_1030000.7  \\\n",
       "0                                            left-forepaw   \n",
       "1                                                       y   \n",
       "2                                        708.273193359375   \n",
       "3                                       717.5255126953125   \n",
       "4                                       717.4478759765625   \n",
       "...                                                   ...   \n",
       "165007                                  366.0517883300781   \n",
       "165008                                 366.38372802734375   \n",
       "165009                                 366.41937255859375   \n",
       "165010                                  366.5176696777344   \n",
       "165011                                  366.2147216796875   \n",
       "\n",
       "       DLC_resnet50_bottomup_clearSep21shuffle1_1030000.8  \\\n",
       "0                                            left-forepaw   \n",
       "1                                              likelihood   \n",
       "2                                    0.041418176144361496   \n",
       "3                                    0.016878074035048485   \n",
       "4                                     0.02042020484805107   \n",
       "...                                                   ...   \n",
       "165007                                 0.9956207871437073   \n",
       "165008                                 0.9886990189552307   \n",
       "165009                                 0.9899147748947144   \n",
       "165010                                 0.9923087358474731   \n",
       "165011                                 0.9960829019546509   \n",
       "\n",
       "       DLC_resnet50_bottomup_clearSep21shuffle1_1030000.9  \\\n",
       "0                                           right-hindpaw   \n",
       "1                                                       x   \n",
       "2                                       747.1613159179688   \n",
       "3                                      225.35238647460938   \n",
       "4                                      224.93838500976562   \n",
       "...                                                   ...   \n",
       "165007                                    501.36181640625   \n",
       "165008                                  501.0723876953125   \n",
       "165009                                  501.2483215332031   \n",
       "165010                                 501.47113037109375   \n",
       "165011                                 501.60260009765625   \n",
       "\n",
       "       DLC_resnet50_bottomup_clearSep21shuffle1_1030000.10  \\\n",
       "0                                           right-hindpaw    \n",
       "1                                                       y    \n",
       "2                                       556.4971313476562    \n",
       "3                                            593.78515625    \n",
       "4                                       593.9447021484375    \n",
       "...                                                   ...    \n",
       "165007                                 339.83526611328125    \n",
       "165008                                   339.069091796875    \n",
       "165009                                  338.9047546386719    \n",
       "165010                                 339.25994873046875    \n",
       "165011                                    339.13916015625    \n",
       "\n",
       "       DLC_resnet50_bottomup_clearSep21shuffle1_1030000.11  \\\n",
       "0                                           right-hindpaw    \n",
       "1                                              likelihood    \n",
       "2                                    0.040747180581092834    \n",
       "3                                    0.015411080792546272    \n",
       "4                                   0.0007043854566290975    \n",
       "...                                                   ...    \n",
       "165007                                 0.9994139671325684    \n",
       "165008                                 0.9994440674781799    \n",
       "165009                                 0.9994933605194092    \n",
       "165010                                 0.9994687438011169    \n",
       "165011                                 0.9994526505470276    \n",
       "\n",
       "       DLC_resnet50_bottomup_clearSep21shuffle1_1030000.12  \\\n",
       "0                                            left-hindpaw    \n",
       "1                                                       x    \n",
       "2                                       740.8277587890625    \n",
       "3                                       745.6793212890625    \n",
       "4                                           766.654296875    \n",
       "...                                                   ...    \n",
       "165007                                  512.5015258789062    \n",
       "165008                                  512.3145751953125    \n",
       "165009                                  512.4095458984375    \n",
       "165010                                  512.5933837890625    \n",
       "165011                                  512.2985229492188    \n",
       "\n",
       "       DLC_resnet50_bottomup_clearSep21shuffle1_1030000.13  \\\n",
       "0                                            left-hindpaw    \n",
       "1                                                       y    \n",
       "2                                       553.5988159179688    \n",
       "3                                       555.7156372070312    \n",
       "4                                       525.6358032226562    \n",
       "...                                                   ...    \n",
       "165007                                  392.9075622558594    \n",
       "165008                                  393.1427001953125    \n",
       "165009                                 393.30303955078125    \n",
       "165010                                 393.17022705078125    \n",
       "165011                                  392.8444519042969    \n",
       "\n",
       "       DLC_resnet50_bottomup_clearSep21shuffle1_1030000.14  \\\n",
       "0                                            left-hindpaw    \n",
       "1                                              likelihood    \n",
       "2                                    0.002985704457387328    \n",
       "3                                  0.00046259257942438126    \n",
       "4                                   9.175471495836973e-05    \n",
       "...                                                   ...    \n",
       "165007                                 0.9988604784011841    \n",
       "165008                                 0.9988082647323608    \n",
       "165009                                 0.9987494945526123    \n",
       "165010                                 0.9987702965736389    \n",
       "165011                                 0.9990072846412659    \n",
       "\n",
       "       DLC_resnet50_bottomup_clearSep21shuffle1_1030000.15  \\\n",
       "0                                               tail-base    \n",
       "1                                                       x    \n",
       "2                                       754.2137451171875    \n",
       "3                                       757.3475952148438    \n",
       "4                                       758.2908935546875    \n",
       "...                                                   ...    \n",
       "165007                                 485.09320068359375    \n",
       "165008                                   485.263916015625    \n",
       "165009                                  485.2169189453125    \n",
       "165010                                  485.2345275878906    \n",
       "165011                                  484.8235778808594    \n",
       "\n",
       "       DLC_resnet50_bottomup_clearSep21shuffle1_1030000.16  \\\n",
       "0                                               tail-base    \n",
       "1                                                       y    \n",
       "2                                       517.7739868164062    \n",
       "3                                       519.4046630859375    \n",
       "4                                       518.9340209960938    \n",
       "...                                                   ...    \n",
       "165007                                  367.5165100097656    \n",
       "165008                                    366.80712890625    \n",
       "165009                                  366.7394714355469    \n",
       "165010                                  366.7326354980469    \n",
       "165011                                   367.510498046875    \n",
       "\n",
       "       DLC_resnet50_bottomup_clearSep21shuffle1_1030000.17  \n",
       "0                                               tail-base   \n",
       "1                                              likelihood   \n",
       "2                                    0.054708972573280334   \n",
       "3                                      0.5504105091094971   \n",
       "4                                     0.18391411006450653   \n",
       "...                                                   ...   \n",
       "165007                                 0.9999237060546875   \n",
       "165008                                 0.9999305009841919   \n",
       "165009                                 0.9999303817749023   \n",
       "165010                                 0.9999262094497681   \n",
       "165011                                 0.9999226331710815   \n",
       "\n",
       "[165012 rows x 19 columns]"
      ]
     },
     "execution_count": 6,
     "metadata": {},
     "output_type": "execute_result"
    }
   ],
   "source": [
    "df"
   ]
  },
  {
   "cell_type": "code",
   "execution_count": 7,
   "id": "97511948-173c-411d-9a61-ecac80858c8d",
   "metadata": {},
   "outputs": [],
   "source": [
    "# Create Tk root\n",
    "root = Tk()\n",
    "# Hide the main window\n",
    "root.withdraw()\n",
    "root.call('wm', 'attributes', '.', '-topmost', True)\n",
    "infiles_clf = filedialog.askopenfilename(multiple=False, title='load classifier file .sav')\n",
    "\n",
    "%gui tk"
   ]
  },
  {
   "cell_type": "code",
   "execution_count": 8,
   "id": "1abdce09-c560-440d-a3a5-ac4d98fabd41",
   "metadata": {},
   "outputs": [
    {
     "data": {
      "text/plain": [
       "'D:/DeepLabStream/iterX_usable.sav'"
      ]
     },
     "execution_count": 8,
     "metadata": {},
     "output_type": "execute_result"
    }
   ],
   "source": [
    "infiles_clf"
   ]
  },
  {
   "cell_type": "code",
   "execution_count": 9,
   "id": "24d14c1e-b1f3-44e4-8ac4-4e2d2aa64ed6",
   "metadata": {},
   "outputs": [
    {
     "name": "stderr",
     "output_type": "stream",
     "text": [
      "C:\\Users\\jimi\\AppData\\Roaming\\Python\\Python38\\site-packages\\sklearn\\base.py:329: UserWarning: Trying to unpickle estimator DecisionTreeClassifier from version 0.24.1 when using version 1.1.3. This might lead to breaking code or invalid results. Use at your own risk. For more info please refer to:\n",
      "https://scikit-learn.org/stable/model_persistence.html#security-maintainability-limitations\n",
      "  warnings.warn(\n",
      "C:\\Users\\jimi\\AppData\\Roaming\\Python\\Python38\\site-packages\\sklearn\\base.py:329: UserWarning: Trying to unpickle estimator RandomForestClassifier from version 0.24.1 when using version 1.1.3. This might lead to breaking code or invalid results. Use at your own risk. For more info please refer to:\n",
      "https://scikit-learn.org/stable/model_persistence.html#security-maintainability-limitations\n",
      "  warnings.warn(\n"
     ]
    }
   ],
   "source": [
    "with open(infiles_clf, 'rb') as fr:\n",
    "    random_forest_sav = joblib.load(fr)"
   ]
  },
  {
   "cell_type": "code",
   "execution_count": 11,
   "id": "0e356ed1-bf30-4651-9f75-b91a90fd2052",
   "metadata": {},
   "outputs": [
    {
     "data": {
      "text/html": [
       "<style>#sk-container-id-1 {color: black;background-color: white;}#sk-container-id-1 pre{padding: 0;}#sk-container-id-1 div.sk-toggleable {background-color: white;}#sk-container-id-1 label.sk-toggleable__label {cursor: pointer;display: block;width: 100%;margin-bottom: 0;padding: 0.3em;box-sizing: border-box;text-align: center;}#sk-container-id-1 label.sk-toggleable__label-arrow:before {content: \"▸\";float: left;margin-right: 0.25em;color: #696969;}#sk-container-id-1 label.sk-toggleable__label-arrow:hover:before {color: black;}#sk-container-id-1 div.sk-estimator:hover label.sk-toggleable__label-arrow:before {color: black;}#sk-container-id-1 div.sk-toggleable__content {max-height: 0;max-width: 0;overflow: hidden;text-align: left;background-color: #f0f8ff;}#sk-container-id-1 div.sk-toggleable__content pre {margin: 0.2em;color: black;border-radius: 0.25em;background-color: #f0f8ff;}#sk-container-id-1 input.sk-toggleable__control:checked~div.sk-toggleable__content {max-height: 200px;max-width: 100%;overflow: auto;}#sk-container-id-1 input.sk-toggleable__control:checked~label.sk-toggleable__label-arrow:before {content: \"▾\";}#sk-container-id-1 div.sk-estimator input.sk-toggleable__control:checked~label.sk-toggleable__label {background-color: #d4ebff;}#sk-container-id-1 div.sk-label input.sk-toggleable__control:checked~label.sk-toggleable__label {background-color: #d4ebff;}#sk-container-id-1 input.sk-hidden--visually {border: 0;clip: rect(1px 1px 1px 1px);clip: rect(1px, 1px, 1px, 1px);height: 1px;margin: -1px;overflow: hidden;padding: 0;position: absolute;width: 1px;}#sk-container-id-1 div.sk-estimator {font-family: monospace;background-color: #f0f8ff;border: 1px dotted black;border-radius: 0.25em;box-sizing: border-box;margin-bottom: 0.5em;}#sk-container-id-1 div.sk-estimator:hover {background-color: #d4ebff;}#sk-container-id-1 div.sk-parallel-item::after {content: \"\";width: 100%;border-bottom: 1px solid gray;flex-grow: 1;}#sk-container-id-1 div.sk-label:hover label.sk-toggleable__label {background-color: #d4ebff;}#sk-container-id-1 div.sk-serial::before {content: \"\";position: absolute;border-left: 1px solid gray;box-sizing: border-box;top: 0;bottom: 0;left: 50%;z-index: 0;}#sk-container-id-1 div.sk-serial {display: flex;flex-direction: column;align-items: center;background-color: white;padding-right: 0.2em;padding-left: 0.2em;position: relative;}#sk-container-id-1 div.sk-item {position: relative;z-index: 1;}#sk-container-id-1 div.sk-parallel {display: flex;align-items: stretch;justify-content: center;background-color: white;position: relative;}#sk-container-id-1 div.sk-item::before, #sk-container-id-1 div.sk-parallel-item::before {content: \"\";position: absolute;border-left: 1px solid gray;box-sizing: border-box;top: 0;bottom: 0;left: 50%;z-index: -1;}#sk-container-id-1 div.sk-parallel-item {display: flex;flex-direction: column;z-index: 1;position: relative;background-color: white;}#sk-container-id-1 div.sk-parallel-item:first-child::after {align-self: flex-end;width: 50%;}#sk-container-id-1 div.sk-parallel-item:last-child::after {align-self: flex-start;width: 50%;}#sk-container-id-1 div.sk-parallel-item:only-child::after {width: 0;}#sk-container-id-1 div.sk-dashed-wrapped {border: 1px dashed gray;margin: 0 0.4em 0.5em 0.4em;box-sizing: border-box;padding-bottom: 0.4em;background-color: white;}#sk-container-id-1 div.sk-label label {font-family: monospace;font-weight: bold;display: inline-block;line-height: 1.2em;}#sk-container-id-1 div.sk-label-container {text-align: center;}#sk-container-id-1 div.sk-container {/* jupyter's `normalize.less` sets `[hidden] { display: none; }` but bootstrap.min.css set `[hidden] { display: none !important; }` so we also need the `!important` here to be able to override the default hidden behavior on the sphinx rendered scikit-learn.org. See: https://github.com/scikit-learn/scikit-learn/issues/21755 */display: inline-block !important;position: relative;}#sk-container-id-1 div.sk-text-repr-fallback {display: none;}</style><div id=\"sk-container-id-1\" class=\"sk-top-container\"><div class=\"sk-text-repr-fallback\"><pre>RandomForestClassifier(class_weight=&#x27;balanced_subsample&#x27;, max_features=&#x27;auto&#x27;,\n",
       "                       n_estimators=200, n_jobs=-1, random_state=42)</pre><b>In a Jupyter environment, please rerun this cell to show the HTML representation or trust the notebook. <br />On GitHub, the HTML representation is unable to render, please try loading this page with nbviewer.org.</b></div><div class=\"sk-container\" hidden><div class=\"sk-item\"><div class=\"sk-estimator sk-toggleable\"><input class=\"sk-toggleable__control sk-hidden--visually\" id=\"sk-estimator-id-1\" type=\"checkbox\" checked><label for=\"sk-estimator-id-1\" class=\"sk-toggleable__label sk-toggleable__label-arrow\">RandomForestClassifier</label><div class=\"sk-toggleable__content\"><pre>RandomForestClassifier(class_weight=&#x27;balanced_subsample&#x27;, max_features=&#x27;auto&#x27;,\n",
       "                       n_estimators=200, n_jobs=-1, random_state=42)</pre></div></div></div></div></div>"
      ],
      "text/plain": [
       "RandomForestClassifier(class_weight='balanced_subsample', max_features='auto',\n",
       "                       n_estimators=200, n_jobs=-1, random_state=42)"
      ]
     },
     "execution_count": 11,
     "metadata": {},
     "output_type": "execute_result"
    }
   ],
   "source": [
    "clf = random_forest_sav[0]\n",
    "clf"
   ]
  },
  {
   "cell_type": "code",
   "execution_count": 12,
   "id": "098569da-9ba9-4596-b783-4889d6f4acc6",
   "metadata": {},
   "outputs": [
    {
     "name": "stderr",
     "output_type": "stream",
     "text": [
      "  0%|                                                                                            | 0/6 [00:00<?, ?it/s]C:\\Users\\jimi\\AppData\\Local\\Temp\\ipykernel_10892\\3076676940.py:22: DeprecationWarning: `np.float` is a deprecated alias for the builtin `float`. To silence this warning, use `float` by itself. Doing this will not modify any behavior and is safe. If you specifically wanted the numpy scalar type, use `np.float64` here.\n",
      "Deprecated in NumPy 1.20; for more details and guidance: https://numpy.org/devdocs/release/1.20.0-notes.html#deprecations\n",
      "  a, b = np.histogram(data_lh[1:, x].astype(np.float))\n",
      "C:\\Users\\jimi\\AppData\\Local\\Temp\\ipykernel_10892\\3076676940.py:29: DeprecationWarning: `np.float` is a deprecated alias for the builtin `float`. To silence this warning, use `float` by itself. Doing this will not modify any behavior and is safe. If you specifically wanted the numpy scalar type, use `np.float64` here.\n",
      "Deprecated in NumPy 1.20; for more details and guidance: https://numpy.org/devdocs/release/1.20.0-notes.html#deprecations\n",
      "  data_lh_float = data_lh[:, x].astype(np.float)\n",
      "100%|████████████████████████████████████████████████████████████████████████████████████| 6/6 [00:06<00:00,  1.10s/it]\n",
      "C:\\Users\\jimi\\AppData\\Local\\Temp\\ipykernel_10892\\3076676940.py:38: DeprecationWarning: `np.float` is a deprecated alias for the builtin `float`. To silence this warning, use `float` by itself. Doing this will not modify any behavior and is safe. If you specifically wanted the numpy scalar type, use `np.float64` here.\n",
      "Deprecated in NumPy 1.20; for more details and guidance: https://numpy.org/devdocs/release/1.20.0-notes.html#deprecations\n",
      "  currdf_filt = currdf_filt.astype(np.float)\n"
     ]
    }
   ],
   "source": [
    "csv_array_filtered, perc_filtered = adp_filt(df, np.arange(18))"
   ]
  },
  {
   "cell_type": "code",
   "execution_count": 13,
   "id": "66b8c6db-020c-416c-88b6-2f0b7b13d065",
   "metadata": {},
   "outputs": [
    {
     "data": {
      "text/plain": [
       "(165010, 12)"
      ]
     },
     "execution_count": 13,
     "metadata": {},
     "output_type": "execute_result"
    }
   ],
   "source": [
    "csv_array_filtered.shape"
   ]
  },
  {
   "cell_type": "code",
   "execution_count": 14,
   "id": "a262bfc4-e83a-4cc4-a696-3e6ea008fb06",
   "metadata": {},
   "outputs": [],
   "source": [
    "# csv_array.shape\n",
    "processed_input_data = [csv_array_filtered.copy()]"
   ]
  },
  {
   "cell_type": "code",
   "execution_count": 15,
   "id": "09b57a3e-2372-4e8e-ba5b-1dcd50e6f24a",
   "metadata": {},
   "outputs": [
    {
     "name": "stderr",
     "output_type": "stream",
     "text": [
      "C:\\Users\\jimi\\AppData\\Local\\Temp\\ipykernel_10892\\1596035890.py:2: DeprecationWarning: `np.int` is a deprecated alias for the builtin `int`. To silence this warning, use `int` by itself. Doing this will not modify any behavior and is safe. When replacing `np.int`, you may wish to use e.g. `np.int64` or `np.int32` to specify the precision. If you wish to review your current use, check the release note link for additional information.\n",
      "Deprecated in NumPy 1.20; for more details and guidance: https://numpy.org/devdocs/release/1.20.0-notes.html#deprecations\n",
      "  window = np.int(np.round(0.05 / (1 / framerate)) * 2 - 1)\n"
     ]
    }
   ],
   "source": [
    "framerate = 30\n",
    "window = np.int(np.round(0.05 / (1 / framerate)) * 2 - 1)\n",
    "f = []\n",
    "for n in range(len(processed_input_data)):\n",
    "    data_n_len = len(processed_input_data[n])\n",
    "    dxy_list = []\n",
    "    disp_list = []\n",
    "    for r in range(data_n_len):\n",
    "        if r < data_n_len - 1:\n",
    "            disp = []\n",
    "            for c in range(0, processed_input_data[n].shape[1], 2):\n",
    "                disp.append(\n",
    "                    np.linalg.norm(processed_input_data[n][r + 1, c:c + 2] -\n",
    "                                   processed_input_data[n][r, c:c + 2]))\n",
    "            disp_list.append(disp)\n",
    "        dxy = []\n",
    "        for i, j in itertools.combinations(range(0, processed_input_data[n].shape[1], 2), 2):\n",
    "            dxy.append(processed_input_data[n][r, i:i + 2] -\n",
    "                       processed_input_data[n][r, j:j + 2])\n",
    "        dxy_list.append(dxy)\n",
    "    disp_r = np.array(disp_list)\n",
    "    dxy_r = np.array(dxy_list)\n",
    "    disp_boxcar = []\n",
    "    dxy_eu = np.zeros([data_n_len, dxy_r.shape[1]])\n",
    "    ang = np.zeros([data_n_len - 1, dxy_r.shape[1]])\n",
    "    dxy_boxcar = []\n",
    "    ang_boxcar = []\n",
    "    for l in range(disp_r.shape[1]):\n",
    "        disp_boxcar.append(boxcar_center(disp_r[:, l], window))\n",
    "        # disp_boxcar.append(disp_r[:, l])\n",
    "    for k in range(dxy_r.shape[1]):\n",
    "        for kk in range(data_n_len):\n",
    "            dxy_eu[kk, k] = np.linalg.norm(dxy_r[kk, k, :])\n",
    "            if kk < data_n_len - 1:\n",
    "                b_3d = np.hstack([dxy_r[kk + 1, k, :], 0])\n",
    "                a_3d = np.hstack([dxy_r[kk, k, :], 0])\n",
    "                c = np.cross(b_3d, a_3d)\n",
    "                ang[kk, k] = np.dot(np.dot(np.sign(c[2]), 180) / np.pi,\n",
    "                                    math.atan2(np.linalg.norm(c),\n",
    "                                               np.dot(dxy_r[kk, k, :], dxy_r[kk + 1, k, :])))\n",
    "        dxy_boxcar.append(boxcar_center(dxy_eu[:, k], window))\n",
    "        ang_boxcar.append(boxcar_center(ang[:, k], window))\n",
    "        # dxy_boxcar.append(dxy_eu[:, k])\n",
    "        # ang_boxcar.append(ang[:, k])\n",
    "    disp_feat = np.array(disp_boxcar)\n",
    "    dxy_feat = np.array(dxy_boxcar)\n",
    "    ang_feat = np.array(ang_boxcar)\n",
    "    f.append(np.vstack((dxy_feat[:, 1:], ang_feat, disp_feat)))\n",
    "\n",
    "for m in range(0, len(f)):\n",
    "    f_integrated = np.zeros(len(processed_input_data[m]))\n",
    "    for k in range(round(framerate / 10), len(f[m][0]), round(framerate / 10)):\n",
    "        if k > round(framerate / 10):\n",
    "            f_integrated = np.concatenate(\n",
    "                (f_integrated.reshape(f_integrated.shape[0], f_integrated.shape[1]),\n",
    "                 np.hstack((np.mean((f[m][0:dxy_feat.shape[0],\n",
    "                                     range(k - round(framerate / 10), k)]), axis=1),\n",
    "                            np.sum((f[m][dxy_feat.shape[0]:f[m].shape[0],\n",
    "                                    range(k - round(framerate / 10), k)]), axis=1)\n",
    "                            )).reshape(len(f[0]), 1)), axis=1\n",
    "            )\n",
    "        else:\n",
    "            f_integrated = np.hstack(\n",
    "                (np.mean((f[m][0:dxy_feat.shape[0], range(k - round(framerate / 10), k)]), axis=1),\n",
    "                 np.sum((f[m][dxy_feat.shape[0]:f[m].shape[0],\n",
    "                         range(k - round(framerate / 10), k)]), axis=1))).reshape(len(f[0]), 1)\n",
    "    if m > 0:\n",
    "        features = np.concatenate((features, f_integrated), axis=1)\n",
    "    else:\n",
    "        features = f_integrated"
   ]
  },
  {
   "cell_type": "code",
   "execution_count": 16,
   "id": "f042c0dc-4e71-4b35-b427-3cf53f477808",
   "metadata": {},
   "outputs": [
    {
     "data": {
      "text/plain": [
       "(55002, 36)"
      ]
     },
     "execution_count": 16,
     "metadata": {},
     "output_type": "execute_result"
    }
   ],
   "source": [
    "f_integrated.T.shape"
   ]
  },
  {
   "cell_type": "code",
   "execution_count": 17,
   "id": "dd27ae03-eb80-4d9b-971b-d3a299e95b09",
   "metadata": {},
   "outputs": [],
   "source": [
    "X = features.T.copy()\n",
    "predictions = clf.predict(X)"
   ]
  },
  {
   "cell_type": "code",
   "execution_count": 18,
   "id": "edfc7633-f7c3-42ea-8c28-5acc8d77c364",
   "metadata": {},
   "outputs": [
    {
     "data": {
      "text/plain": [
       "5"
      ]
     },
     "execution_count": 18,
     "metadata": {},
     "output_type": "execute_result"
    }
   ],
   "source": [
    "clf.n_classes_"
   ]
  },
  {
   "cell_type": "code",
   "execution_count": 20,
   "id": "e71b4202-eb65-4295-b8e1-6f0d18051bd5",
   "metadata": {},
   "outputs": [
    {
     "data": {
      "image/png": "[encoded data removed]",
      "text/plain": [
       "<Figure size 600x400 with 1 Axes>"
      ]
     },
     "metadata": {},
     "output_type": "display_data"
    }
   ],
   "source": [
    "# class 1 and 2 are turns\n",
    "class_of_interest=1\n",
    "jitter=0.5\n",
    "fig, ax = plt.subplots(1, 1, figsize=(6, 4))\n",
    "ax.hlines(class_of_interest-jitter, 0, len(predictions), 'r', alpha=0.7)\n",
    "ax.hlines(class_of_interest+jitter, 0, len(predictions), 'r', alpha=0.7)\n",
    "ax.vlines(0-jitter, class_of_interest-jitter, class_of_interest+jitter, 'r', alpha=0.7)\n",
    "ax.vlines(len(predictions)+jitter, class_of_interest-jitter, class_of_interest+jitter, 'r', alpha=0.7)\n",
    "ax.scatter(np.arange(len(predictions)), predictions, s=0.5, color='k', alpha=0.3)\n",
    "ax.set_xticks(np.arange(0, len(predictions), 6000))\n",
    "ax.set_xticklabels(np.arange(0, len(predictions)/10, 600))\n",
    "ax.set_ylabel('behavior ID')\n",
    "ax.set_xlabel('time (s)')\n",
    "fig.savefig('./test.svg', dpi=600)"
   ]
  },
  {
   "cell_type": "code",
   "execution_count": 21,
   "id": "04d98724-98e9-481e-87c2-e40770c2b4f6",
   "metadata": {},
   "outputs": [],
   "source": [
    "fileoutname = str.join('', (infiles[0].rpartition('DLC')[0], '_posthoc-predictions.npy'))\n",
    "np.save(fileoutname, predictions)"
   ]
  },
  {
   "cell_type": "markdown",
   "id": "05d89b5a-6841-40fa-88f4-98e1f750525e",
   "metadata": {},
   "source": [
    "## load previous npy files"
   ]
  },
  {
   "cell_type": "code",
   "execution_count": 22,
   "id": "fc841305-cfd2-41d9-a38e-e990114a99b4",
   "metadata": {},
   "outputs": [],
   "source": [
    "# Create Tk root\n",
    "root = Tk()\n",
    "# Hide the main window\n",
    "root.withdraw()\n",
    "root.call('wm', 'attributes', '.', '-topmost', True)\n",
    "infiles = filedialog.askopenfilename(multiple=True, title='load posthoc-predictions.npy')\n",
    "\n",
    "%gui tk"
   ]
  },
  {
   "cell_type": "code",
   "execution_count": 24,
   "id": "cf468a0b-15ed-4bf9-896d-29d12bae1cd6",
   "metadata": {},
   "outputs": [
    {
     "data": {
      "text/plain": [
       "array([4., 4., 4., ..., 4., 4., 4.])"
      ]
     },
     "execution_count": 24,
     "metadata": {},
     "output_type": "execute_result"
    }
   ],
   "source": [
    "predictions = np.load(infiles[0])\n",
    "predictions"
   ]
  },
  {
   "cell_type": "code",
   "execution_count": 26,
   "id": "f907f21e-7074-40f0-8864-80f00c8f2606",
   "metadata": {},
   "outputs": [
    {
     "data": {
      "image/png": "[encoded data removed]",
      "text/plain": [
       "<Figure size 600x400 with 1 Axes>"
      ]
     },
     "metadata": {},
     "output_type": "display_data"
    }
   ],
   "source": [
    "# class 1 and 2 are turns\n",
    "class_of_interest=1\n",
    "jitter=0.5\n",
    "fig, ax = plt.subplots(1, 1, figsize=(6, 4))\n",
    "ax.hlines(class_of_interest-jitter, 0, len(predictions), 'r', alpha=0.7)\n",
    "ax.hlines(class_of_interest+jitter, 0, len(predictions), 'r', alpha=0.7)\n",
    "ax.vlines(0-jitter, class_of_interest-jitter, class_of_interest+jitter, 'r', alpha=0.7)\n",
    "ax.vlines(len(predictions)+jitter, class_of_interest-jitter, class_of_interest+jitter, 'r', alpha=0.7)\n",
    "ax.scatter(np.arange(len(predictions)), predictions, s=0.5, color='k', alpha=0.3)\n",
    "ax.set_xticks(np.arange(0, len(predictions), 6000))\n",
    "ax.set_xticklabels(np.arange(0, len(predictions)/10, 600))\n",
    "ax.set_ylabel('behavior ID')\n",
    "ax.set_xlabel('time (s)')\n",
    "fig.savefig('./test2.svg', dpi=600)"
   ]
  },
  {
   "cell_type": "markdown",
   "id": "c5453d50-6fe0-4af2-bfb0-be19b341e41e",
   "metadata": {
    "tags": []
   },
   "source": [
    "## put the below code in another notebook \n",
    "#### loop through all .npy files once analyzed"
   ]
  },
  {
   "cell_type": "code",
   "execution_count": 63,
   "id": "d3548802-88b3-4041-8bd8-b37cc43a157a",
   "metadata": {},
   "outputs": [],
   "source": [
    "all_predictions = []\n",
    "for _ in range(6):\n",
    "    # join duplicates of the same array\n",
    "    predictions = np.load(fileoutname)\n",
    "    all_predictions.append(predictions)\n",
    "# all_predictions\n",
    "all_predictions_arr = np.hstack(all_predictions)"
   ]
  },
  {
   "cell_type": "code",
   "execution_count": 79,
   "id": "87fd5899-1afd-4852-ba84-85a80e99d3fa",
   "metadata": {},
   "outputs": [
    {
     "data": {
      "image/png": "[encoded data removed]",
      "text/plain": [
       "<Figure size 600x400 with 1 Axes>"
      ]
     },
     "metadata": {},
     "output_type": "display_data"
    }
   ],
   "source": [
    "class_of_interest=17\n",
    "jitter=0.5\n",
    "fig, ax = plt.subplots(1, 1, figsize=(6, 4))\n",
    "ax.hlines(class_of_interest-jitter, 0, len(all_predictions_arr), 'r', alpha=0.7)\n",
    "ax.hlines(class_of_interest+jitter, 0, len(all_predictions_arr), 'r', alpha=0.7)\n",
    "ax.vlines(0-jitter, class_of_interest-jitter, class_of_interest+jitter, 'r', alpha=0.7)\n",
    "ax.vlines(len(all_predictions_arr)+jitter, class_of_interest-jitter, class_of_interest+jitter, 'r', alpha=0.7)\n",
    "ax.scatter(np.arange(len(all_predictions_arr)), all_predictions_arr, s=0.5, color='k', alpha=0.3)\n",
    "ax.set_xticks(np.arange(0, len(all_predictions_arr), 300))\n",
    "ax.set_xticklabels(np.arange(0, len(all_predictions_arr)/10, 30))\n",
    "ax.set_ylabel('behavior ID')\n",
    "ax.set_xlabel('time (s)')\n",
    "fig.savefig('./test.png', dpi=600)"
   ]
  },
  {
   "cell_type": "code",
   "execution_count": 67,
   "id": "ac61090d-8db0-4c89-9d06-5d3766e372fc",
   "metadata": {},
   "outputs": [
    {
     "data": {
      "text/plain": [
       "(14826,)"
      ]
     },
     "execution_count": 67,
     "metadata": {},
     "output_type": "execute_result"
    }
   ],
   "source": [
    "all_predictions_arr.shape"
   ]
  },
  {
   "cell_type": "code",
   "execution_count": 70,
   "id": "1c96594e-41e1-46e8-9ace-fb526ed31fed",
   "metadata": {},
   "outputs": [
    {
     "name": "stdout",
     "output_type": "stream",
     "text": [
      "[    0   600  1200  1800  2400  3000  3600  4200  4800  5400  6000  6600\n",
      "  7200  7800  8400  9000  9600 10200 10800 11400 12000 12600 13200 13800\n",
      " 14400] [  600  1200  1800  2400  3000  3600  4200  4800  5400  6000  6600  7200\n",
      "  7800  8400  9000  9600 10200 10800 11400 12000 12600 13200 13800 14400\n",
      " 15000]\n"
     ]
    }
   ],
   "source": [
    "bin_start = np.arange(0, np.max(len(all_predictions_arr)), 600)\n",
    "bin_end = np.arange(600, np.max(len(all_predictions_arr))+600, 600)\n",
    "print(bin_start, bin_end)\n",
    "binned_predictions = []\n",
    "for b in range(len(bin_start)):\n",
    "    binned_predictions.append(all_predictions_arr[bin_start[b]:bin_end[b]])\n"
   ]
  },
  {
   "cell_type": "code",
   "execution_count": 80,
   "id": "f9bbbf41-5715-49c2-bf5d-f5815e67f06e",
   "metadata": {},
   "outputs": [
    {
     "data": {
      "text/plain": [
       "<BarContainer object of 25 artists>"
      ]
     },
     "execution_count": 80,
     "metadata": {},
     "output_type": "execute_result"
    },
    {
     "data": {
      "image/png": "[encoded data removed]",
      "text/plain": [
       "<Figure size 640x480 with 1 Axes>"
      ]
     },
     "metadata": {},
     "output_type": "display_data"
    }
   ],
   "source": [
    "class_interest_binned = [len(np.where(binned_predictions[b] == class_of_interest)[0]) for b in range(len(binned_predictions))]\n",
    "\n",
    "plt.bar(np.arange(len(class_interest_binned)), class_interest_binned)"
   ]
  },
  {
   "cell_type": "code",
   "execution_count": 42,
   "id": "545bc226-eea5-4eab-8360-f2961597b992",
   "metadata": {},
   "outputs": [
    {
     "data": {
      "text/plain": [
       "(array([   0,  300,  600,  900, 1200, 1500, 1800, 2100, 2400]),\n",
       " array([  0.,  30.,  60.,  90., 120., 150., 180., 210., 240.]))"
      ]
     },
     "execution_count": 42,
     "metadata": {},
     "output_type": "execute_result"
    }
   ],
   "source": [
    "np.arange(0, len(predictions), 300), np.arange(0, len(predictions)/10, 30)"
   ]
  }
 ],
 "metadata": {
  "kernelspec": {
   "display_name": "Python 3 (ipykernel)",
   "language": "python",
   "name": "python3"
  },
  "language_info": {
   "codemirror_mode": {
    "name": "ipython",
    "version": 3
   },
   "file_extension": ".py",
   "mimetype": "text/x-python",
   "name": "python",
   "nbconvert_exporter": "python",
   "pygments_lexer": "ipython3",
   "version": "3.8.0"
  }
 },
 "nbformat": 4,
 "nbformat_minor": 5
}
