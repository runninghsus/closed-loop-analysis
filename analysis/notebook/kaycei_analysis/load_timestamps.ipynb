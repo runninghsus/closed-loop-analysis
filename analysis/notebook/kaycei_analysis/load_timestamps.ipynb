{
 "cells": [
  {
   "cell_type": "markdown",
   "metadata": {
    "tags": []
   },
   "source": [
    "## import dependencies"
   ]
  },
  {
   "cell_type": "code",
   "execution_count": 1,
   "metadata": {},
   "outputs": [],
   "source": [
    "import pandas as pd\n",
    "import numpy as np\n",
    "from datetime import datetime\n",
    "import matplotlib.pyplot as plt\n",
    "import pickle\n",
    "import time\n",
    "from tkinter import *\n",
    "from tkinter import filedialog"
   ]
  },
  {
   "cell_type": "markdown",
   "metadata": {
    "tags": []
   },
   "source": [
    "## load file using the gui popup"
   ]
  },
  {
   "cell_type": "code",
   "execution_count": 2,
   "metadata": {},
   "outputs": [],
   "source": [
    "# Create Tk root\n",
    "root = Tk()\n",
    "# Hide the main window\n",
    "root.withdraw()\n",
    "root.call('wm', 'attributes', '.', '-topmost', True)\n",
    "infiles = filedialog.askopenfilename(multiple=True, title='load timestamp csv')\n",
    "\n",
    "%gui tk"
   ]
  },
  {
   "cell_type": "code",
   "execution_count": 3,
   "metadata": {},
   "outputs": [
    {
     "data": {
      "text/html": [
       "<div>\n",
       "<style scoped>\n",
       "    .dataframe tbody tr th:only-of-type {\n",
       "        vertical-align: middle;\n",
       "    }\n",
       "\n",
       "    .dataframe tbody tr th {\n",
       "        vertical-align: top;\n",
       "    }\n",
       "\n",
       "    .dataframe thead th {\n",
       "        text-align: right;\n",
       "    }\n",
       "</style>\n",
       "<table border=\"1\" class=\"dataframe\">\n",
       "  <thead>\n",
       "    <tr style=\"text-align: right;\">\n",
       "      <th></th>\n",
       "      <th>Experiment_Start</th>\n",
       "      <th>(6, 'Stim_Start')</th>\n",
       "      <th>(7, 'Stim_Start')</th>\n",
       "      <th>(8, 'Stim_Start')</th>\n",
       "      <th>(9, 'Stim_Start')</th>\n",
       "      <th>(10, 'Stim_Start')</th>\n",
       "      <th>(11, 'Stim_Start')</th>\n",
       "      <th>(12, 'Stim_Start')</th>\n",
       "      <th>(13, 'Stim_Start')</th>\n",
       "      <th>(14, 'Stim_Start')</th>\n",
       "      <th>...</th>\n",
       "      <th>(91, 'Stim_Start')</th>\n",
       "      <th>(92, 'Stim_Start')</th>\n",
       "      <th>(93, 'Stim_Start')</th>\n",
       "      <th>(94, 'Stim_Start')</th>\n",
       "      <th>(95, 'Stim_Start')</th>\n",
       "      <th>(96, 'Stim_Start')</th>\n",
       "      <th>(97, 'Stim_Start')</th>\n",
       "      <th>(98, 'Stim_Start')</th>\n",
       "      <th>(99, 'Stim_Start')</th>\n",
       "      <th>(100, 'Stim_Start')</th>\n",
       "    </tr>\n",
       "  </thead>\n",
       "  <tbody>\n",
       "    <tr>\n",
       "      <th>0</th>\n",
       "      <td>1.686844e+09</td>\n",
       "      <td>1.686844e+09</td>\n",
       "      <td>1.686844e+09</td>\n",
       "      <td>1.686844e+09</td>\n",
       "      <td>1.686844e+09</td>\n",
       "      <td>1.686844e+09</td>\n",
       "      <td>1.686844e+09</td>\n",
       "      <td>1.686844e+09</td>\n",
       "      <td>1.686844e+09</td>\n",
       "      <td>1.686844e+09</td>\n",
       "      <td>...</td>\n",
       "      <td>1.686846e+09</td>\n",
       "      <td>1.686846e+09</td>\n",
       "      <td>1.686846e+09</td>\n",
       "      <td>1.686846e+09</td>\n",
       "      <td>1.686846e+09</td>\n",
       "      <td>1.686846e+09</td>\n",
       "      <td>1.686846e+09</td>\n",
       "      <td>1.686846e+09</td>\n",
       "      <td>1.686846e+09</td>\n",
       "      <td>1.686846e+09</td>\n",
       "    </tr>\n",
       "  </tbody>\n",
       "</table>\n",
       "<p>1 rows × 96 columns</p>\n",
       "</div>"
      ],
      "text/plain": [
       "   Experiment_Start  (6, 'Stim_Start')  (7, 'Stim_Start')  (8, 'Stim_Start')  \\\n",
       "0      1.686844e+09       1.686844e+09       1.686844e+09       1.686844e+09   \n",
       "\n",
       "   (9, 'Stim_Start')  (10, 'Stim_Start')  (11, 'Stim_Start')  \\\n",
       "0       1.686844e+09        1.686844e+09        1.686844e+09   \n",
       "\n",
       "   (12, 'Stim_Start')  (13, 'Stim_Start')  (14, 'Stim_Start')  ...  \\\n",
       "0        1.686844e+09        1.686844e+09        1.686844e+09  ...   \n",
       "\n",
       "   (91, 'Stim_Start')  (92, 'Stim_Start')  (93, 'Stim_Start')  \\\n",
       "0        1.686846e+09        1.686846e+09        1.686846e+09   \n",
       "\n",
       "   (94, 'Stim_Start')  (95, 'Stim_Start')  (96, 'Stim_Start')  \\\n",
       "0        1.686846e+09        1.686846e+09        1.686846e+09   \n",
       "\n",
       "   (97, 'Stim_Start')  (98, 'Stim_Start')  (99, 'Stim_Start')  \\\n",
       "0        1.686846e+09        1.686846e+09        1.686846e+09   \n",
       "\n",
       "   (100, 'Stim_Start')  \n",
       "0         1.686846e+09  \n",
       "\n",
       "[1 rows x 96 columns]"
      ]
     },
     "execution_count": 3,
     "metadata": {},
     "output_type": "execute_result"
    }
   ],
   "source": [
    "df = pd.read_csv(infiles[0])\n",
    "df.tail(50)"
   ]
  },
  {
   "cell_type": "markdown",
   "metadata": {
    "tags": []
   },
   "source": [
    "## compute time elapsed (detectable behavior start times)"
   ]
  },
  {
   "cell_type": "code",
   "execution_count": 4,
   "metadata": {},
   "outputs": [
    {
     "name": "stdout",
     "output_type": "stream",
     "text": [
      "1686843636.0932145\n",
      "[55.70617151260376, 59.817254066467285, 85.19313263893127, 114.91940999031067, 179.07543325424194, 187.7153160572052, 207.4957926273346, 213.1920928955078, 226.4718050956726, 232.56622290611267, 252.1308352947235, 254.61587977409363, 332.58309507369995, 422.2147207260132, 584.6639320850372, 608.5982666015625, 652.8703603744507, 653.2064561843872, 660.1478800773621, 678.0393443107605, 683.9093289375305, 699.6218800544739, 703.2541444301605, 737.9737637042999, 764.2137286663055, 775.6382961273193, 777.1891462802887, 784.5684535503387, 819.3178720474243, 826.9983057975769, 879.4622488021851, 940.2424695491791, 985.6990211009979, 1004.1981229782104, 1019.6066462993622, 1028.358310699463, 1037.1750273704529, 1041.0955328941345, 1043.2647306919098, 1056.0526356697083, 1082.2299828529358, 1084.8360443115234, 1089.7339012622833, 1092.9496047496796, 1102.5347220897675, 1126.8713932037354, 1127.908834695816, 1128.133234500885, 1146.1335279941559, 1168.053038597107, 1174.0501370429993, 1177.7491629123688, 1184.3087480068207, 1189.7165987491608, 1199.7649478912354, 1212.1647644042969, 1235.1567633152008, 1256.2085928916931, 1256.5187621116638, 1268.911597251892, 1305.5728251934052, 1306.112386226654, 1369.8283586502075, 1382.13254404068, 1407.236496925354, 1408.0962541103363, 1428.517859697342, 1435.24911570549, 1441.1268405914307, 1442.6288168430328, 1457.1087124347687, 1514.115965604782, 1561.5830941200256, 1693.1303942203522, 1714.7190515995026, 1864.9807748794556, 1865.875384569168, 1906.642510175705, 1910.6889762878418, 1916.0826580524445, 1928.29003572464, 1939.682874917984, 1973.540764093399, 1975.1833679676056, 1978.6251637935638, 1981.8904190063477, 1992.51429438591, 2075.9696786403656, 2092.8200800418854, 2114.4789428710938, 2116.5942842960358, 2124.2257232666016, 2155.390914440155, 2158.717500925064, 2419.138204097748]\n"
     ]
    }
   ],
   "source": [
    "# fmt = '%Y%m%d_%H:%M:%S:%f'\n",
    "stim_time = []\n",
    "tstamp_0 = df.iloc[0, 0]\n",
    "print(tstamp_0)\n",
    "for i in range(1, np.array(df).shape[1]):\n",
    "#     print(i)\n",
    "    try:\n",
    "        \n",
    "#         tstamp2 = datetime.strptime(np.array(df)[0, i], fmt)\n",
    "        tstamp2 = np.array(df)[0, i]\n",
    "        time_elapsed = tstamp2-tstamp_0\n",
    "        stim_time.append(time_elapsed)\n",
    "    except:\n",
    "        pass\n",
    "print(stim_time)"
   ]
  },
  {
   "cell_type": "code",
   "execution_count": 5,
   "metadata": {},
   "outputs": [
    {
     "data": {
      "text/plain": [
       "(0.0, 2419.138204097748)"
      ]
     },
     "execution_count": 5,
     "metadata": {},
     "output_type": "execute_result"
    },
    {
     "data": {
      "image/png": "[encoded data removed]",
      "text/plain": [
       "<Figure size 432x288 with 1 Axes>"
      ]
     },
     "metadata": {
      "needs_background": "light"
     },
     "output_type": "display_data"
    }
   ],
   "source": [
    "fig, ax = plt.subplots(1, 1)\n",
    "ax.plot(np.array(stim_time), np.arange(len(stim_time)))\n",
    "ax.set_ylabel('stim counts')\n",
    "ax.set_xlabel('second since start')\n",
    "# ax.vlines(np.where(np.array(stim_time) > 300)[0][0], 0, (np.array(stim_time)).max())\n",
    "ax.set_xlim([0, (np.array(stim_time)).max()])"
   ]
  },
  {
   "cell_type": "markdown",
   "metadata": {
    "tags": []
   },
   "source": [
    "### plot, and save"
   ]
  },
  {
   "cell_type": "code",
   "execution_count": 6,
   "metadata": {},
   "outputs": [
    {
     "ename": "PermissionError",
     "evalue": "[Errno 13] Permission denied: 'D:\\\\Jack\\\\Project\\\\P16/102422/realtime_trial1_orientL.npy'",
     "output_type": "error",
     "traceback": [
      "\u001b[1;31m---------------------------------------------------------------------------\u001b[0m",
      "\u001b[1;31mPermissionError\u001b[0m                           Traceback (most recent call last)",
      "Input \u001b[1;32mIn [6]\u001b[0m, in \u001b[0;36m<cell line: 2>\u001b[1;34m()\u001b[0m\n\u001b[0;32m      1\u001b[0m \u001b[38;5;66;03m# optional\u001b[39;00m\n\u001b[1;32m----> 2\u001b[0m \u001b[43mnp\u001b[49m\u001b[38;5;241;43m.\u001b[39;49m\u001b[43msave\u001b[49m\u001b[43m(\u001b[49m\u001b[38;5;124;43m'\u001b[39;49m\u001b[38;5;124;43mD:\u001b[39;49m\u001b[38;5;124;43m\\\u001b[39;49m\u001b[38;5;124;43mJack\u001b[39;49m\u001b[38;5;124;43m\\\u001b[39;49m\u001b[38;5;124;43mProject\u001b[39;49m\u001b[38;5;124;43m\\\u001b[39;49m\u001b[38;5;124;43mP16/102422/realtime_trial1_orientL.npy\u001b[39;49m\u001b[38;5;124;43m'\u001b[39;49m\u001b[43m,\u001b[49m\u001b[43m \u001b[49m\u001b[43mnp\u001b[49m\u001b[38;5;241;43m.\u001b[39;49m\u001b[43marray\u001b[49m\u001b[43m(\u001b[49m\u001b[43mstim_time\u001b[49m\u001b[43m)\u001b[49m\u001b[43m)\u001b[49m\n",
      "File \u001b[1;32m<__array_function__ internals>:5\u001b[0m, in \u001b[0;36msave\u001b[1;34m(*args, **kwargs)\u001b[0m\n",
      "File \u001b[1;32m~\\anaconda3\\lib\\site-packages\\numpy\\lib\\npyio.py:525\u001b[0m, in \u001b[0;36msave\u001b[1;34m(file, arr, allow_pickle, fix_imports)\u001b[0m\n\u001b[0;32m    523\u001b[0m     \u001b[38;5;28;01mif\u001b[39;00m \u001b[38;5;129;01mnot\u001b[39;00m file\u001b[38;5;241m.\u001b[39mendswith(\u001b[38;5;124m'\u001b[39m\u001b[38;5;124m.npy\u001b[39m\u001b[38;5;124m'\u001b[39m):\n\u001b[0;32m    524\u001b[0m         file \u001b[38;5;241m=\u001b[39m file \u001b[38;5;241m+\u001b[39m \u001b[38;5;124m'\u001b[39m\u001b[38;5;124m.npy\u001b[39m\u001b[38;5;124m'\u001b[39m\n\u001b[1;32m--> 525\u001b[0m     file_ctx \u001b[38;5;241m=\u001b[39m \u001b[38;5;28;43mopen\u001b[39;49m\u001b[43m(\u001b[49m\u001b[43mfile\u001b[49m\u001b[43m,\u001b[49m\u001b[43m \u001b[49m\u001b[38;5;124;43m\"\u001b[39;49m\u001b[38;5;124;43mwb\u001b[39;49m\u001b[38;5;124;43m\"\u001b[39;49m\u001b[43m)\u001b[49m\n\u001b[0;32m    527\u001b[0m \u001b[38;5;28;01mwith\u001b[39;00m file_ctx \u001b[38;5;28;01mas\u001b[39;00m fid:\n\u001b[0;32m    528\u001b[0m     arr \u001b[38;5;241m=\u001b[39m np\u001b[38;5;241m.\u001b[39masanyarray(arr)\n",
      "\u001b[1;31mPermissionError\u001b[0m: [Errno 13] Permission denied: 'D:\\\\Jack\\\\Project\\\\P16/102422/realtime_trial1_orientL.npy'"
     ]
    }
   ],
   "source": [
    "# optional\n",
    "np.save('D:\\Jack\\Project\\P16/102422/realtime_trial1_orientL.npy', np.array(stim_time))"
   ]
  },
  {
   "cell_type": "code",
   "execution_count": 19,
   "metadata": {},
   "outputs": [
    {
     "data": {
      "text/plain": [
       "<matplotlib.collections.PathCollection at 0x2a3534c31f0>"
      ]
     },
     "execution_count": 19,
     "metadata": {},
     "output_type": "execute_result"
    },
    {
     "data": {
      "image/png": "[encoded data removed]",
      "text/plain": [
       "<Figure size 640x480 with 1 Axes>"
      ]
     },
     "metadata": {},
     "output_type": "display_data"
    }
   ],
   "source": [
    "plt.scatter(stim_time, np.arange(len(stim_time)), c='k', s=0.3, alpha=0.3)"
   ]
  },
  {
   "cell_type": "code",
   "execution_count": 20,
   "metadata": {},
   "outputs": [
    {
     "name": "stdout",
     "output_type": "stream",
     "text": [
      "[   0.  900. 1800. 2700.] [ 900. 1800. 2700. 3600.]\n"
     ]
    }
   ],
   "source": [
    "# bin by bin_size seconds\n",
    "bin_size = 900\n",
    "bin_start = np.arange(0, np.max(stim_time), bin_size)\n",
    "bin_end = np.arange(bin_size, np.max(stim_time)+bin_size, bin_size)\n",
    "print(bin_start, bin_end)\n",
    "stim_binned_counts = []\n",
    "for b in range(len(bin_start)):\n",
    "    stim_binned_counts.append(len(np.where((stim_time >= bin_start[b]) & (stim_time < bin_end[b]))[0]))"
   ]
  },
  {
   "cell_type": "markdown",
   "metadata": {},
   "source": [
    "## generating a figure and saving it"
   ]
  },
  {
   "cell_type": "code",
   "execution_count": 39,
   "metadata": {},
   "outputs": [
    {
     "data": {
      "image/png": "[encoded data removed]",
      "text/plain": [
       "<Figure size 600x400 with 1 Axes>"
      ]
     },
     "metadata": {},
     "output_type": "display_data"
    }
   ],
   "source": [
    "fig, ax = plt.subplots(1, 1, figsize=(6, 4))\n",
    "exp_paradigm = ['pre', 'stim', 'post', 'post-']\n",
    "paradigm_colors = ['khaki', 'dodgerblue', 'firebrick', 'firebrick']\n",
    "# bar(x, y)\n",
    "ax.bar(np.arange(len(stim_binned_counts)),\n",
    "       stim_binned_counts, color=paradigm_colors, width=0.5)\n",
    "ax.set_title('P16 bilateral stim on all turns')\n",
    "ax.set_ylabel('# of turns')\n",
    "# ax.xlabel(f'bin number ({bin_size} sec)')\n",
    "ax.set_xticks(np.arange(0, 4))\n",
    "ax.set_xticklabels(exp_paradigm)\n",
    "ax.set_yticks(np.arange(0, 301, 100))\n",
    "ax.spines[['right', 'top']].set_visible(False)"
   ]
  },
  {
   "cell_type": "code",
   "execution_count": 34,
   "metadata": {},
   "outputs": [],
   "source": [
    "fig.savefig('../temp_figures/p16_011223_realtime.png', dpi=600)"
   ]
  },
  {
   "cell_type": "code",
   "execution_count": 13,
   "metadata": {},
   "outputs": [
    {
     "name": "stdout",
     "output_type": "stream",
     "text": [
      "animal performs this behavior around 0.24944444444444444Hz\n"
     ]
    }
   ],
   "source": [
    "print(f'animal performs this behavior around {np.mean(stim_binned_counts)/bin_size}Hz')"
   ]
  },
  {
   "cell_type": "code",
   "execution_count": null,
   "metadata": {},
   "outputs": [],
   "source": []
  },
  {
   "cell_type": "code",
   "execution_count": null,
   "metadata": {},
   "outputs": [],
   "source": []
  },
  {
   "cell_type": "code",
   "execution_count": null,
   "metadata": {},
   "outputs": [],
   "source": []
  }
 ],
 "metadata": {
  "kernelspec": {
   "display_name": "Python 3 (ipykernel)",
   "language": "python",
   "name": "python3"
  },
  "language_info": {
   "codemirror_mode": {
    "name": "ipython",
    "version": 3
   },
   "file_extension": ".py",
   "mimetype": "text/x-python",
   "name": "python",
   "nbconvert_exporter": "python",
   "pygments_lexer": "ipython3",
   "version": "3.8.5"
  }
 },
 "nbformat": 4,
 "nbformat_minor": 4
}
