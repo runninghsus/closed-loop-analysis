{
 "cells": [
  {
   "cell_type": "markdown",
   "metadata": {
    "tags": []
   },
   "source": [
    "## import dependencies"
   ]
  },
  {
   "cell_type": "code",
   "execution_count": 5,
   "metadata": {},
   "outputs": [],
   "source": [
    "import pandas as pd\n",
    "import numpy as np\n",
    "from datetime import datetime\n",
    "import matplotlib.pyplot as plt\n",
    "import pickle\n",
    "import time\n",
    "from tkinter import *\n",
    "from tkinter import filedialog"
   ]
  },
  {
   "cell_type": "markdown",
   "metadata": {
    "tags": []
   },
   "source": [
    "## load file using the gui popup"
   ]
  },
  {
   "cell_type": "code",
   "execution_count": 6,
   "metadata": {},
   "outputs": [],
   "source": [
    "# Create Tk root\n",
    "root = Tk()\n",
    "# Hide the main window\n",
    "root.withdraw()\n",
    "root.call('wm', 'attributes', '.', '-topmost', True)\n",
    "infiles = filedialog.askopenfilename(multiple=True, title='load timestamp csv')\n",
    "\n",
    "%gui tk"
   ]
  },
  {
   "cell_type": "code",
   "execution_count": 7,
   "metadata": {},
   "outputs": [
    {
     "data": {
      "text/html": [
       "<div>\n",
       "<style scoped>\n",
       "    .dataframe tbody tr th:only-of-type {\n",
       "        vertical-align: middle;\n",
       "    }\n",
       "\n",
       "    .dataframe tbody tr th {\n",
       "        vertical-align: top;\n",
       "    }\n",
       "\n",
       "    .dataframe thead th {\n",
       "        text-align: right;\n",
       "    }\n",
       "</style>\n",
       "<table border=\"1\" class=\"dataframe\">\n",
       "  <thead>\n",
       "    <tr style=\"text-align: right;\">\n",
       "      <th></th>\n",
       "      <th>Experiment_Start</th>\n",
       "      <th>(6, 'Stim_Start')</th>\n",
       "      <th>(7, 'Stim_Start')</th>\n",
       "      <th>(8, 'Stim_Start')</th>\n",
       "      <th>(9, 'Stim_Start')</th>\n",
       "      <th>(10, 'Stim_Start')</th>\n",
       "      <th>(11, 'Stim_Start')</th>\n",
       "      <th>(12, 'Stim_Start')</th>\n",
       "      <th>(13, 'Stim_Start')</th>\n",
       "      <th>(14, 'Stim_Start')</th>\n",
       "      <th>...</th>\n",
       "      <th>(212, 'Stim_Start')</th>\n",
       "      <th>(213, 'Stim_Start')</th>\n",
       "      <th>(214, 'Stim_Start')</th>\n",
       "      <th>(215, 'Stim_Start')</th>\n",
       "      <th>(216, 'Stim_Start')</th>\n",
       "      <th>(217, 'Stim_Start')</th>\n",
       "      <th>(218, 'Stim_Start')</th>\n",
       "      <th>(219, 'Stim_Start')</th>\n",
       "      <th>(220, 'Stim_Start')</th>\n",
       "      <th>(221, 'Stim_Start')</th>\n",
       "    </tr>\n",
       "  </thead>\n",
       "  <tbody>\n",
       "    <tr>\n",
       "      <th>0</th>\n",
       "      <td>1.687872e+09</td>\n",
       "      <td>1.687873e+09</td>\n",
       "      <td>1.687873e+09</td>\n",
       "      <td>1.687873e+09</td>\n",
       "      <td>1.687873e+09</td>\n",
       "      <td>1.687873e+09</td>\n",
       "      <td>1.687873e+09</td>\n",
       "      <td>1.687873e+09</td>\n",
       "      <td>1.687873e+09</td>\n",
       "      <td>1.687873e+09</td>\n",
       "      <td>...</td>\n",
       "      <td>1.687874e+09</td>\n",
       "      <td>1.687874e+09</td>\n",
       "      <td>1.687874e+09</td>\n",
       "      <td>1.687874e+09</td>\n",
       "      <td>1.687874e+09</td>\n",
       "      <td>1.687874e+09</td>\n",
       "      <td>1.687874e+09</td>\n",
       "      <td>1.687874e+09</td>\n",
       "      <td>1.687874e+09</td>\n",
       "      <td>1.687874e+09</td>\n",
       "    </tr>\n",
       "  </tbody>\n",
       "</table>\n",
       "<p>1 rows × 217 columns</p>\n",
       "</div>"
      ],
      "text/plain": [
       "   Experiment_Start  (6, 'Stim_Start')  (7, 'Stim_Start')  (8, 'Stim_Start')  \\\n",
       "0      1.687872e+09       1.687873e+09       1.687873e+09       1.687873e+09   \n",
       "\n",
       "   (9, 'Stim_Start')  (10, 'Stim_Start')  (11, 'Stim_Start')  \\\n",
       "0       1.687873e+09        1.687873e+09        1.687873e+09   \n",
       "\n",
       "   (12, 'Stim_Start')  (13, 'Stim_Start')  (14, 'Stim_Start')  ...  \\\n",
       "0        1.687873e+09        1.687873e+09        1.687873e+09  ...   \n",
       "\n",
       "   (212, 'Stim_Start')  (213, 'Stim_Start')  (214, 'Stim_Start')  \\\n",
       "0         1.687874e+09         1.687874e+09         1.687874e+09   \n",
       "\n",
       "   (215, 'Stim_Start')  (216, 'Stim_Start')  (217, 'Stim_Start')  \\\n",
       "0         1.687874e+09         1.687874e+09         1.687874e+09   \n",
       "\n",
       "   (218, 'Stim_Start')  (219, 'Stim_Start')  (220, 'Stim_Start')  \\\n",
       "0         1.687874e+09         1.687874e+09         1.687874e+09   \n",
       "\n",
       "   (221, 'Stim_Start')  \n",
       "0         1.687874e+09  \n",
       "\n",
       "[1 rows x 217 columns]"
      ]
     },
     "execution_count": 7,
     "metadata": {},
     "output_type": "execute_result"
    }
   ],
   "source": [
    "df = pd.read_csv(infiles[0])\n",
    "df.tail(50)"
   ]
  },
  {
   "cell_type": "markdown",
   "metadata": {
    "tags": []
   },
   "source": [
    "## compute time elapsed (detectable behavior start times)"
   ]
  },
  {
   "cell_type": "code",
   "execution_count": 16,
   "metadata": {
    "scrolled": true
   },
   "outputs": [
    {
     "name": "stdout",
     "output_type": "stream",
     "text": [
      "1687872490.4699724\n",
      "[114.86268472671509, 115.296058177948, 177.70637321472168, 178.94257402420044, 357.8850119113922, 425.6296241283417, 426.05851793289185, 426.3329439163208, 438.49066042900085, 439.1642644405365, 440.5726890563965, 441.3097188472748, 441.7414770126343, 717.8214111328125, 718.9688091278076, 719.2290871143341, 719.901335477829, 722.0458045005798, 722.4601528644562, 723.7895982265472, 730.5569040775299, 732.3816726207733, 736.2682020664215, 737.1931350231171, 757.7129402160645, 759.8206875324249, 763.5811331272125, 949.358261346817, 956.2332081794739, 959.2488980293274, 986.2028775215149, 1017.4080069065094, 1017.9008328914642, 1018.878231048584, 1020.9563286304474, 1022.7011353969574, 1023.5604810714722, 1023.869811296463, 1076.7461850643158, 1077.6293361186981, 1079.9496302604675, 1090.9732027053833, 1098.6834313869476, 1103.0710394382477, 1104.2071416378021, 1105.917504310608, 1107.9323108196259, 1108.827590227127, 1109.8040144443512, 1114.3005421161652, 1117.0874531269073, 1118.349825143814, 1118.8943231105804, 1123.1183001995087, 1123.6808879375458, 1124.5895607471466, 1125.7884998321533, 1127.4055099487305, 1136.4308054447174, 1138.8299939632416, 1139.2787079811096, 1139.769395828247, 1141.5173490047455, 1144.4296028614044, 1146.2368423938751, 1147.3856666088104, 1147.9134063720703, 1148.6560988426208, 1149.2627122402191, 1166.3188259601593, 1169.166076183319, 1170.9723625183105, 1172.6538970470428, 1174.8321681022644, 1185.1167759895325, 1185.9665830135345, 1186.5884170532227, 1187.468662261963, 1193.4692606925964, 1193.8065321445465, 1194.0782995224, 1196.9857335090637, 1197.2799227237701, 1197.5977590084076, 1198.353039264679, 1199.0367193222046, 1200.0290973186493, 1200.4459302425385, 1201.7734544277191, 1202.0746505260468, 1202.3498055934906, 1202.7836151123047, 1204.0613532066345, 1205.4662399291992, 1206.1729984283447, 1206.6712894439697, 1209.0859687328339, 1235.6293017864227, 1246.8640542030334, 1248.204468011856, 1249.1649024486542, 1249.4382767677307, 1250.2837584018707, 1251.279098033905, 1256.4747281074524, 1257.5190963745117, 1258.3202900886536, 1266.9419207572937, 1275.6464757919312, 1289.965626001358, 1332.8305079936981, 1334.142276763916, 1334.541256427765, 1575.5921721458435, 1628.0730323791504, 1628.439203262329, 1631.2544586658478, 1673.1612055301666, 1674.2320597171783, 1674.9995603561401, 1676.1677939891815, 1676.407603263855, 1680.568121433258, 1680.9689996242523, 1691.0557141304016, 1691.4386892318726, 1694.206439256668, 1694.9415204524994, 1695.5490760803223, 1697.4687445163727, 1698.0627410411835, 1701.1823983192444, 1702.7622623443604, 1703.1514723300934, 1703.9985086917877, 1704.3672032356262, 1705.6464598178864, 1706.6542990207672, 1708.2556145191193, 1708.6229872703552, 1709.2264051437378, 1709.469749212265, 1714.3833253383636, 1716.0965750217438, 1717.194435119629, 1717.98232960701, 1719.0844247341156, 1719.7866196632385, 1722.3664758205414, 1722.9433045387268, 1723.3105285167694, 1723.6785805225372, 1723.9024999141693, 1725.3898031711578, 1726.3504087924957, 1726.7499034404755, 1727.2607927322388, 1728.1265292167664, 1729.2298493385315, 1729.742529630661, 1731.6147339344025, 1732.0475931167603, 1733.3247883319855, 1734.8935165405273, 1735.836947441101, 1736.1077497005463, 1736.7162001132965, 1737.9811427593231, 1738.589476108551, 1739.578593969345, 1740.3340923786163, 1740.6023252010345, 1741.1341741085052, 1741.5956590175629, 1742.575035572052, 1743.3409247398376, 1744.9909086227417, 1745.6626455783844, 1747.1665139198303, 1747.5987939834595, 1748.751009941101, 1750.2856557369232, 1750.7833263874054, 1751.08739900589, 1752.9695241451263, 1753.8383259773254, 1754.607269525528, 1755.3414170742035, 1757.9985616207123, 1759.1337261199951, 1759.534725189209, 1760.8134570121765, 1761.0857465267181, 1761.374018907547, 1761.9503645896912, 1762.9890267848969, 1763.4227514266968, 1765.006499528885, 1765.7105810642242, 1768.5919270515442, 1768.8622057437897, 1769.4544088840485, 1769.934128522873, 1770.4645655155182, 1771.1674945354462, 1792.1415140628815, 1792.508533000946, 1898.2712607383728, 1917.8064785003662, 1921.6963970661163, 1923.0063445568085, 1928.1267175674438, 1949.342899799347, 1949.7747917175293, 1950.3492875099182, 1955.983157634735]\n"
     ]
    }
   ],
   "source": [
    "# fmt = '%Y%m%d_%H:%M:%S:%f'\n",
    "stim_time = []\n",
    "tstamp_0 = df.iloc[0, 0]\n",
    "print(tstamp_0)\n",
    "for i in range(1, np.array(df).shape[1]):\n",
    "#     print(i)\n",
    "    try:\n",
    "        \n",
    "#         tstamp2 = datetime.strptime(np.array(df)[0, i], fmt)\n",
    "        tstamp2 = np.array(df)[0, i]\n",
    "        time_elapsed = tstamp2-tstamp_0\n",
    "        stim_time.append(time_elapsed)\n",
    "    except:\n",
    "        pass\n",
    "print(stim_time)"
   ]
  },
  {
   "cell_type": "markdown",
   "metadata": {},
   "source": [
    "## compute number of bouts from stim_time"
   ]
  },
  {
   "cell_type": "code",
   "execution_count": 15,
   "metadata": {},
   "outputs": [
    {
     "name": "stdout",
     "output_type": "stream",
     "text": [
      "[(114.86268472671509, 4), (357.8850119113922, 1), (425.6296241283417, 1), (426.05851793289185, 1), (426.3329439163208, 1), (438.49066042900085, 1), (439.1642644405365, 1), (440.5726890563965, 1), (441.3097188472748, 1), (441.7414770126343, 1), (717.8214111328125, 1), (718.9688091278076, 1), (719.2290871143341, 1), (719.901335477829, 1), (722.0458045005798, 1), (722.4601528644562, 1), (723.7895982265472, 1), (730.5569040775299, 1), (732.3816726207733, 1), (736.2682020664215, 1), (737.1931350231171, 1), (757.7129402160645, 1), (759.8206875324249, 1), (763.5811331272125, 1), (949.358261346817, 1), (956.2332081794739, 1), (959.2488980293274, 1), (986.2028775215149, 1), (1017.4080069065094, 1), (1017.9008328914642, 1), (1018.878231048584, 1), (1020.9563286304474, 1), (1022.7011353969574, 1), (1023.5604810714722, 1), (1023.869811296463, 1), (1076.7461850643158, 1), (1077.6293361186981, 1), (1079.9496302604675, 1), (1090.9732027053833, 1), (1098.6834313869476, 1), (1103.0710394382477, 1), (1104.2071416378021, 1), (1105.917504310608, 1), (1107.9323108196259, 1), (1108.827590227127, 1), (1109.8040144443512, 1), (1114.3005421161652, 1), (1117.0874531269073, 1), (1118.349825143814, 1), (1118.8943231105804, 1), (1123.1183001995087, 1), (1123.6808879375458, 1), (1124.5895607471466, 1), (1125.7884998321533, 1), (1127.4055099487305, 1), (1136.4308054447174, 1), (1138.8299939632416, 1), (1139.2787079811096, 1), (1139.769395828247, 1), (1141.5173490047455, 1), (1144.4296028614044, 1), (1146.2368423938751, 1), (1147.3856666088104, 1), (1147.9134063720703, 1), (1148.6560988426208, 1), (1149.2627122402191, 1), (1166.3188259601593, 1), (1169.166076183319, 1), (1170.9723625183105, 1), (1172.6538970470428, 1), (1174.8321681022644, 1), (1185.1167759895325, 1), (1185.9665830135345, 1), (1186.5884170532227, 1), (1187.468662261963, 1), (1193.4692606925964, 1), (1193.8065321445465, 1), (1194.0782995224, 1), (1196.9857335090637, 1), (1197.2799227237701, 1), (1197.5977590084076, 1), (1198.353039264679, 1), (1199.0367193222046, 1), (1200.0290973186493, 1), (1200.4459302425385, 1), (1201.7734544277191, 1), (1202.0746505260468, 1), (1202.3498055934906, 1), (1202.7836151123047, 1), (1204.0613532066345, 1), (1205.4662399291992, 1), (1206.1729984283447, 1), (1206.6712894439697, 1), (1209.0859687328339, 1), (1235.6293017864227, 1), (1246.8640542030334, 1), (1248.204468011856, 1), (1249.1649024486542, 1), (1249.4382767677307, 1), (1250.2837584018707, 1), (1251.279098033905, 1), (1256.4747281074524, 1), (1257.5190963745117, 1), (1258.3202900886536, 1), (1266.9419207572937, 1), (1275.6464757919312, 1), (1289.965626001358, 1), (1332.8305079936981, 1), (1334.142276763916, 1), (1334.541256427765, 1), (1575.5921721458435, 1), (1628.0730323791504, 1), (1628.439203262329, 1), (1631.2544586658478, 1), (1673.1612055301666, 1), (1674.2320597171783, 1), (1674.9995603561401, 1), (1676.1677939891815, 1), (1676.407603263855, 1), (1680.568121433258, 1), (1680.9689996242523, 1), (1691.0557141304016, 1), (1691.4386892318726, 1), (1694.206439256668, 1), (1694.9415204524994, 1), (1695.5490760803223, 1), (1697.4687445163727, 1), (1698.0627410411835, 1), (1701.1823983192444, 1), (1702.7622623443604, 1), (1703.1514723300934, 1), (1703.9985086917877, 1), (1704.3672032356262, 1), (1705.6464598178864, 1), (1706.6542990207672, 1), (1708.2556145191193, 1), (1708.6229872703552, 1), (1709.2264051437378, 1), (1709.469749212265, 1), (1714.3833253383636, 1), (1716.0965750217438, 1), (1717.194435119629, 1), (1717.98232960701, 1), (1719.0844247341156, 1), (1719.7866196632385, 1), (1722.3664758205414, 1), (1722.9433045387268, 1), (1723.3105285167694, 1), (1723.6785805225372, 1), (1723.9024999141693, 1), (1725.3898031711578, 1), (1726.3504087924957, 1), (1726.7499034404755, 1), (1727.2607927322388, 1), (1728.1265292167664, 1), (1729.2298493385315, 1), (1729.742529630661, 1), (1731.6147339344025, 1), (1732.0475931167603, 1), (1733.3247883319855, 1), (1734.8935165405273, 1), (1735.836947441101, 1), (1736.1077497005463, 1), (1736.7162001132965, 1), (1737.9811427593231, 1), (1738.589476108551, 1), (1739.578593969345, 1), (1740.3340923786163, 1), (1740.6023252010345, 1), (1741.1341741085052, 1), (1741.5956590175629, 1), (1742.575035572052, 1), (1743.3409247398376, 1), (1744.9909086227417, 1), (1745.6626455783844, 1), (1747.1665139198303, 1), (1747.5987939834595, 1), (1748.751009941101, 1), (1750.2856557369232, 1), (1750.7833263874054, 1), (1751.08739900589, 1), (1752.9695241451263, 1), (1753.8383259773254, 1), (1754.607269525528, 1), (1755.3414170742035, 1), (1757.9985616207123, 1), (1759.1337261199951, 1), (1759.534725189209, 1), (1760.8134570121765, 1), (1761.0857465267181, 1), (1761.374018907547, 1), (1761.9503645896912, 1), (1762.9890267848969, 1), (1763.4227514266968, 1), (1765.006499528885, 1), (1765.7105810642242, 1), (1768.5919270515442, 1), (1768.8622057437897, 1), (1769.4544088840485, 1), (1769.934128522873, 1), (1770.4645655155182, 1), (1771.1674945354462, 1), (1792.1415140628815, 1), (1792.508533000946, 1), (1898.2712607383728, 1), (1917.8064785003662, 1), (1921.6963970661163, 1), (1923.0063445568085, 1), (1928.1267175674438, 1), (1949.342899799347, 1), (1949.7747917175293, 1), (1950.3492875099182, 1), (1955.983157634735, 1)]\n",
      "There are 213 total bouts\n"
     ]
    }
   ],
   "source": [
    "# transforming stim_time into array of bouts\n",
    "# (bout start time, duration of bout (number of stims)) len(bout_times) == bout count total \n",
    "bout_times = []\n",
    "\n",
    "curr_index = 0 # current index of stim_time\n",
    "stim_count = 0 # tracks stim count per bout\n",
    "start_time = stim_time[0] # sets first value (can't compare 0th index to prev)\n",
    "while (curr_index < len(stim_time)-1):\n",
    "    curr_index += 1 \n",
    "    stim_count += 1\n",
    "    if (stim_time[curr_index] >= 300) and (stim_time[curr_index] <= 2100):\n",
    "        bout = (start_time, stim_count)\n",
    "        if (stim_time[curr_index] - stim_time[curr_index-1]) > 0.01: # if the difference is greater than 1/100 of a sec, new bout\n",
    "            bout_times.append(bout)\n",
    "            start_time = stim_time[curr_index]\n",
    "            stim_count = 0\n",
    "        if (curr_index == len(stim_time)-1): # accounts for the last value\n",
    "            stim_count += 1\n",
    "            bout = (start_time, stim_count)\n",
    "            bout_times.append(bout)\n",
    "print(bout_times)            \n",
    "print(\"There are\", len(bout_times), \"total bouts\")"
   ]
  },
  {
   "cell_type": "code",
   "execution_count": 10,
   "metadata": {},
   "outputs": [
    {
     "name": "stdout",
     "output_type": "stream",
     "text": [
      "Total number of stimulations: 216\n"
     ]
    },
    {
     "data": {
      "image/png": "[encoded data removed]",
      "text/plain": [
       "<Figure size 432x288 with 1 Axes>"
      ]
     },
     "metadata": {
      "needs_background": "light"
     },
     "output_type": "display_data"
    }
   ],
   "source": [
    "fig, ax = plt.subplots(1, 1)\n",
    "ax.plot(np.array(stim_time), np.arange(len(stim_time)))\n",
    "ax.set_ylabel('stim counts')\n",
    "ax.set_xlabel('second since start')\n",
    "ax.set_xlim([0, 4000])\n",
    "\n",
    "total_stims = len(stim_time)\n",
    "print(\"Total number of stimulations:\", total_stims)"
   ]
  },
  {
   "cell_type": "markdown",
   "metadata": {},
   "source": [
    "# Calculates number of stims during the stim portion of the trial"
   ]
  },
  {
   "cell_type": "code",
   "execution_count": 11,
   "metadata": {},
   "outputs": [
    {
     "name": "stdout",
     "output_type": "stream",
     "text": [
      "1687872490.4699724\n",
      "212\n"
     ]
    }
   ],
   "source": [
    "filtered_stim_time = []\n",
    "tstamp_0 = df.iloc[0, 0]\n",
    "print(tstamp_0)\n",
    "\n",
    "for i in range(1, np.array(df).shape[1]):\n",
    "    try:\n",
    "        tstamp2 = np.array(df)[0, i]\n",
    "        time_elapsed = tstamp2 - tstamp_0\n",
    "        if 300 <= time_elapsed < 2100:\n",
    "            filtered_stim_time.append(time_elapsed)\n",
    "    except:\n",
    "        pass\n",
    "\n",
    "print(len(filtered_stim_time))\n"
   ]
  },
  {
   "cell_type": "code",
   "execution_count": 12,
   "metadata": {},
   "outputs": [
    {
     "name": "stdout",
     "output_type": "stream",
     "text": [
      "Total number of stimulations while light source is on: 212\n"
     ]
    },
    {
     "data": {
      "image/png": "[encoded data removed]",
      "text/plain": [
       "<Figure size 432x288 with 1 Axes>"
      ]
     },
     "metadata": {
      "needs_background": "light"
     },
     "output_type": "display_data"
    }
   ],
   "source": [
    "fig, ax = plt.subplots(1, 1)\n",
    "ax.plot(np.array(filtered_stim_time), np.arange(len(filtered_stim_time)))\n",
    "ax.set_ylabel('stim counts')\n",
    "ax.set_xlabel('second since start')\n",
    "ax.set_xlim([0, 4000])\n",
    "\n",
    "total_filtered_stims = len(filtered_stim_time)\n",
    "print(\"Total number of stimulations while light source is on:\", total_filtered_stims)"
   ]
  },
  {
   "cell_type": "markdown",
   "metadata": {},
   "source": [
    "##### fig, ax = plt.subplots(1, 1)\n",
    "ax.plot(np.array(stim_time), np.arange(len(stim_time)))\n",
    "ax.set_ylabel('stim counts')\n",
    "ax.set_xlabel('second since start')\n",
    "# ax.vlines(np.where(np.array(stim_time) > 300)[0][0], 0, (np.array(stim_time)).max())\n",
    "ax.set_xlim([0, (np.array(stim_time)).max()])"
   ]
  },
  {
   "cell_type": "markdown",
   "metadata": {
    "tags": []
   },
   "source": [
    "### plot, and save"
   ]
  },
  {
   "cell_type": "code",
   "execution_count": 9,
   "metadata": {},
   "outputs": [],
   "source": [
    "# optional\n",
    "#np.save('D:\\Jack\\Project\\P16/102422/realtime_trial1_orientL.npy', np.array(stim_time))"
   ]
  },
  {
   "cell_type": "code",
   "execution_count": 10,
   "metadata": {},
   "outputs": [
    {
     "data": {
      "text/plain": [
       "<matplotlib.collections.PathCollection at 0x278b4145fd0>"
      ]
     },
     "execution_count": 10,
     "metadata": {},
     "output_type": "execute_result"
    },
    {
     "data": {
      "image/png": "[encoded data removed]",
      "text/plain": [
       "<Figure size 432x288 with 1 Axes>"
      ]
     },
     "metadata": {
      "needs_background": "light"
     },
     "output_type": "display_data"
    }
   ],
   "source": [
    "plt.scatter(stim_time, np.arange(len(stim_time)), c='k', s=0.3, alpha=0.3)"
   ]
  },
  {
   "cell_type": "code",
   "execution_count": 11,
   "metadata": {},
   "outputs": [
    {
     "name": "stdout",
     "output_type": "stream",
     "text": [
      "[   0.  300.  600.  900. 1200. 1500. 1800.] [ 300.  600.  900. 1200. 1500. 1800. 2100.]\n"
     ]
    }
   ],
   "source": [
    "# bin by bin_size seconds\n",
    "bin_size = 300\n",
    "bin_start = np.arange(0, np.max(filtered_stim_time), bin_size)\n",
    "bin_end = np.arange(bin_size, np.max(filtered_stim_time)+bin_size, bin_size)\n",
    "print(bin_start, bin_end)\n",
    "stim_binned_counts = []\n",
    "for b in range(len(bin_start)):\n",
    "    stim_binned_counts.append(len(np.where((filtered_stim_time >= bin_start[b]) & (filtered_stim_time < bin_end[b]))[0]))"
   ]
  },
  {
   "cell_type": "markdown",
   "metadata": {},
   "source": [
    "## generating a figure and saving it"
   ]
  },
  {
   "cell_type": "code",
   "execution_count": 12,
   "metadata": {},
   "outputs": [
    {
     "name": "stderr",
     "output_type": "stream",
     "text": [
      "C:\\Users\\Yttri-Lab\\AppData\\Local\\Temp\\ipykernel_272620\\647735799.py:12: UserWarning: FixedFormatter should only be used together with FixedLocator\n",
      "  ax.set_xticklabels(exp_paradigm)\n"
     ]
    },
    {
     "data": {
      "image/png": "[encoded data removed]",
      "text/plain": [
       "<Figure size 432x288 with 1 Axes>"
      ]
     },
     "metadata": {
      "needs_background": "light"
     },
     "output_type": "display_data"
    }
   ],
   "source": [
    "fig, ax = plt.subplots(1, 1, figsize=(6, 4))\n",
    "exp_paradigm = ['0','5','10','15','20','25','30','35']\n",
    "paradigm_colors = ['khaki', 'dodgerblue', 'dodgerblue', 'dodgerblue', 'dodgerblue', 'dodgerblue', 'dodgerblue']\n",
    "# bar(x, y)\n",
    "ax.bar(np.arange(len(stim_binned_counts)),\n",
    "       stim_binned_counts, color=paradigm_colors, width=0.5)\n",
    "ax.set_title('AD10 Face Groom Stim Count')\n",
    "ax.set_ylabel('# of stims')\n",
    "ax.set_xlabel('Minutes')\n",
    "# ax.xlabel(f'bin number ({bin_size} sec)')\n",
    "#ax.set_xticks(np.arange(0, 35,5))\n",
    "ax.set_xticklabels(exp_paradigm)\n",
    "ax.set_yticks(np.arange(0, 150, 25))\n",
    "ax.spines[['right', 'top']].set_visible(False)"
   ]
  },
  {
   "cell_type": "code",
   "execution_count": 14,
   "metadata": {},
   "outputs": [],
   "source": [
    "fig.savefig('../temp_figures/p16_011223_realtime.png', dpi=600)"
   ]
  },
  {
   "cell_type": "code",
   "execution_count": 15,
   "metadata": {},
   "outputs": [
    {
     "name": "stdout",
     "output_type": "stream",
     "text": [
      "animal performs this behavior around 0.10095238095238095Hz\n"
     ]
    }
   ],
   "source": [
    "print(f'animal performs this behavior around {np.mean(stim_binned_counts)/bin_size}Hz')"
   ]
  },
  {
   "cell_type": "code",
   "execution_count": null,
   "metadata": {},
   "outputs": [],
   "source": []
  },
  {
   "cell_type": "code",
   "execution_count": null,
   "metadata": {},
   "outputs": [],
   "source": []
  },
  {
   "cell_type": "code",
   "execution_count": null,
   "metadata": {},
   "outputs": [],
   "source": []
  }
 ],
 "metadata": {
  "kernelspec": {
   "display_name": "Python 3 (ipykernel)",
   "language": "python",
   "name": "python3"
  },
  "language_info": {
   "codemirror_mode": {
    "name": "ipython",
    "version": 3
   },
   "file_extension": ".py",
   "mimetype": "text/x-python",
   "name": "python",
   "nbconvert_exporter": "python",
   "pygments_lexer": "ipython3",
   "version": "3.8.5"
  }
 },
 "nbformat": 4,
 "nbformat_minor": 4
}
