{
 "cells": [
  {
   "cell_type": "code",
   "execution_count": 20,
   "metadata": {},
   "outputs": [],
   "source": [
    "import numpy as np\n",
    "from io import StringIO\n",
    "import io "
   ]
  },
  {
   "cell_type": "code",
   "execution_count": 24,
   "metadata": {},
   "outputs": [],
   "source": [
    "with io.open(\"behav.csv\")as f1: \n",
    "    data=f1.read()\n",
    "    f1.close()\n"
   ]
  },
  {
   "cell_type": "code",
   "execution_count": 25,
   "metadata": {},
   "outputs": [
    {
     "data": {
      "text/plain": [
       "'5,5,5,2,2,2,3,3,3,4,4,4,4,4,4,4,4,1,3,3,3,3,3,5,2,2,5,3,3,3,3,3,3,3,5,5,5,2,2,4,4,2,2,3,3,3,3,3,3,3,5,5,5,4,4,4,4,4,2,2,5,1,5,5,3,3,3,2,2,3,3,3,4,4,2,2,2,2,3,3,3,4,4,4,4,4,4,4,4,4,1,1,1,1,3,1,1,3,3,3,3,3,1,2,2,2,1,4,2,2,2,2,4,4,4,4,4,4,2,2,2,2,2,2,2,1,4,4,4,4,4,4,4,1,3,3,4,4,4,4,5,5,3,3,4,4,4,4,1,5,1,3,3,3,1,2,2,2,2,4,2,2,2,2,2,2,3,2,2,5,5,1,2,2,5,5,1,2,2,5,5,1,2,2,2,2,2,2,2,2,3,3,3,5,1,4,4,4,4,2,2,2,2,2,2,3,3,3,3,1,5,5,5,5,5,4,4,4,3,3,3,3,3,3,4,4,4,4,4,4,4,4,4,5,2,2,2,2,2,2,2,2,4,4,4,4,4,4,2,2,2,1,2,2,2,2,2,2,2,5,1,4,4,4,4,4,3,3,3,1,5,5,5,5,1,4,4,4,2,2,5,5,4,4,4,4,2,2,2,3,3,3,3,3,3,3,2,2,2,2,1,4,4,4,4,4,4,4,4,4,4,4,4,4,4,4,4,3,4,4,1,4,4,4,4,4,4,1,2,2,2,2,1,1,2,2,5,5,1,3,1,3,3,3,3,3,3,4,4,4,4,2,2,2,2,2,3,1,1,1,5,5,5,2,2,5,4,4,4,3,3,3,3,2,2,4,4,4,4,4,4,4,4,2,2,3,3,3,3,3,1,1,3,3,3,2,2,2,5,5,5,5,5,2,2,3,3,3,3,3,4,4,4,3,2,2,2,1,3,1,1,3,4,4,4,4,4,4,4,4,4,2,2,3,3,3,3,3,3,3,3,5,5,5,1,1,1,4,4,4,4,4,4,4,4,4,4,4,4,4,2,2,2,1,4,4,4,4,4,4,1,3,3,3,3,3,3,4,4,4,4,4,2,2,2,3,3,4,4,4,4,4,4,4,4,4,4,4,4,4,4,3,5,1,2,2,5,5,4,4,4,4,4,3,3,3,3,1,3,3,3,3,2,2,2,3,4,4,4,4,4,4,4,5,5,2,2,2,2,2,2,1,5,2,2,1,2,2,4,4,4,4,4,4,3,3,3,3,1,1,5,5,5,5,5,4,5,5,4,4,1,4,4,4,4,4,5,5,5,5,4,4,4,4,4,4,4,4,4,4,4,2,2,2,2,2,2,2,2,5,5,2,2,2,2,2,2,2,2,4,3,5,1,1,4,4,4,4,4,4,4,4,2,2,2,2,2,3,3,3,3,1,1,2,2,2,2,2,1,5,5,4,4,3,4,4,4,4,4,4,4,4,4,4,4,4,4,4,4,4,4,4,1,5,5,5,5,5,5,5,5,5,5,4,4,4,4,4,4,4,4,4,4,5,5,5,1,2,2,5,5,1,4,4,4,4,4,4,4,4,2,2,2,2,2,3,3,3,3,3,4,4,4,2,2,5,1,4,4,4,4,4,3,3,3,5,3,5,1,2,2,4,4,4,4,4,4,4,4,4,4,3,5,5,5,4,4,4,4,4,5,5,5,5,2,2,4,4,4,4,4,4,4,4,5,5,3,3,5,5,5,2,2,5,5,5,5,2,2,1,2,2,2,2,4,4,4,4,4,4,4,4,2,2,2,2,2,3,3,2,2,2,2,2,4,4,4,4,4,4,4,4,4,4,4,4,4,4,4,4,3,3,2,2,3,3,2,2,2,1,1,2,2,2,4,4,4,4,4,2,2,2,5,3,3,3,3,3,3,3,3,3,3,3,3,5,4,4,2,2,2,5,5,2,2,2,2,4,4,4,4,5,3,1,5,5,5,2,2,2,2,4,4,4,4,3,2,2,2,2,2,4,3,3,3,3,3,4,4,4,4,5,3,3,2,2,2,1,2,2,2,4,4,4,5,5,4,4,4,4,4,4,4,4,4,2,2,2,2,4,4,1,2,2,5,5,2,2,1,5,5,4,4,4,4,4,4,4,4,4,4,4,2,2,2,2,4,3,2,2,2,2,2,2,4,4,4,4,4,4,4,3,3,3,3,5,5,5,3,4,4,2,2,2,2,2,2,4,4,4,4,4,4,2,2,2,2,2,2,2,1,4,4,4,2,2,2,2,2,2,4,4,4,4,4,4,4,4,4,4,1,1,4,4,4,2,2,2,2,5,2,2,2,2,2,2,5,3,3,3,4,4,4,4,4,4,4,4,3,3,4,4,4,4,4,4,4,4,4,4,4,4,4,4,4,4,4,4,5,5,5,5,5,5,4,5,5,5,5,5,4,4,4,4,4,4,4,1,2,2,2,2,2,2,2,2,2,2,4,4,4,4,4,5,2,2,1,1,5,5,4,4,4,4,3,2,2,2,2,4,2,2,1,4,4,1,3,3,3,1,5,5,5,2,2,2,2,1,2,2,5,5,2,2,2,1,1,1,1,2,2,1,2,2,5,4,4,4,4,3,3,3,3,2,2,1,1,1,5,5,5,2,2,2,2,2,5,5,2,2,4,4,4,4,1,1,1,3,3,3,1,1,1,1,2,2,1,5,3,3,3,3,3,3,3,3,3,3,3,3,3,4,4,4,4,4,4,4,4,4,1,3,3,3,3,1,1,4,4,4,1,4,4,4,4,4,4,4,1,5,3,3,3,3,3,1,3,3,3,3,3,1,2,2,2,2,3,3,3,3,3,1,4,4,3,4,4,3,3,3,3,3,3,5,5,4,3,3,3,2,2,2,2,5,3,3,3,3,4,4,4,4,4,4,4,4,4,3,3,3,3,3,2,2,5,5,5,2,2,3,3,5,1,4,4,4,4,4,4,4,4,4,3,3,3,2,2,2,2,2,2,2,2,2,4,4,4,4,4,5,5,5,5,5,1,4,4,4,4,4,4,1,4,4,4,4,4,4,4,4,1,2,2,2,2,3,3,3,3,4,2,2,1,1,2,2,5,3,3,3,2,2,2,2,1,5,3,3,3,4,4,4,5,5,5,5,5,5,5,2,2,2,2,2,2,2,2,2,1,4,4,4,4,4,1,3,1,3,3,2,2,3,3,3,5,2,2,2,2,2,5,5,3,3,3,3,3,2,2,1,2,2,2,2,2,4,4,4,4,4,4,4,4,4,4,5,5,1,1,1,2,2,2,2,2,2,2,5,5,2,2,5,1,1,1,1,1,3,1,5,4,4,4,4,5,3,3,4,4,4,2,2,2,5,2,2,1,4,4,4,4,3,3,2,2,3,3,3,3,3,3,3,3,3,3,3,3,3,3,5,1,5,2,2,1,1,3,5,4,1,4,2,2,2,1,3,5,4,4,4,4,4,4,4,4,4,4,4,3,4,4,4,4,1,2,2,2,2,1,4,4,4,4,4,4,4,4,4,4,4,4,5,2,2,3,5,5,5,5,5,5,5,2,2,1,4,4,4,4,4,4,4,1,5,2,2,2,4,4,4,4,4,4,4,4,4,4,4,4,4,3,3,3,3,3,3,1,1,1,2,2,2,2,2,2,1,5,4,4,4,4,4,4,4,4,1,4,4,4,4,4,4,4,4,4,3,3,4,4,4,4,4,4,4,4,2,2,2,2,1,4,4,4,4,4,4,1,3,3,3,3,3,3,1,4,4,4,4,4,4,4,4,3,3,3,4,4,4,4,2,2,2,2,2,2,4,3,3,2,2,4,4,2,2,2,2,2,2,1,5,3,3,3,3,3,3,3,3,3,3,3,1,4,4,4,4,4,4,4,4,4,4,4,4,4,4,4,4,4,4,4,4,4,4,4,1,2,2,4,4,4,4,1,1,1,1,1,3,2,2,2,1,1,4,4,1,1,5,5,4,4,3,3,3,3,5,1,2,2,2,2,4,4,4,4,4,5,5,3,3,4,4,4,4,4,4,4,4,4,1,1,1,1,1,3,3,3,3,3,5,5,2,2,2,2,5,5,5,1,1,3,3,3,5,5,5,5,5,1,5,1,2,2,4,4,4,4,4,4,4,5,2,2,2,2,2,2,2,1,1,5,5,5,5,5,5,5,5,5,4,4,3,3,5,5,5,5,5,5,3,1,1,1,2,2,2,2,4,4,4,4,4,4,4,4,4,4,4,5,5,5,2,2,3,3,3,2,2,2,2,2,2,2,5,5,5,5,5,5,5,2,2,4,4,4,3,3,3,5,3,3,3,5,5,2,2,2,5,2,2,2,1,1,4,4,4,4,4,4,4,4,1,3,3,3,3,3,2,2,2,3,3,3,3,3,1,4,4,4,4,4,4,4,4,4,4,4,4,2,2,1,1,2,2,2,2,5,5,5,2,2,4,4,4,4,4,4,4,4,5,5,5,5,5,4,4,4,4,4,4,4,4,3,3,4,3,2,2,2,3,3,3,2,2,2,2,2,2,2,2,3,4,5,5,5,4,4,4,4,4,4,4,4,4,4,4,4,4,4,5,3,3,3,3,4,4,3,3,3,3,3,3,1,3,3,1,2,2,5,5,3,3,3,3,3,3,2,2,2,2,2,3,3,3,3,2,2,4,4,4,4,4,4,4,4,4,4,3,3,3,4,4,4,4,4,3,3,3,3,3,2,2,4,4,4,4,4,4,4,4,2,2,2,3,2,2,4,4,4,2,2,2,2,3,4,4,4,4,4,1,1,4,4,5,5,5,4,4,4,3,3,5,5,5,5,5,5,3,3,3,4,4,4,4,4,1,5,2,2,4,1,1,5,5,4,4,5,5,5,2,2,3,3,5,5,5,5,5,5,5,1,3,3,3,2,2,2,2,2,2,3,3,4,4,4,4,3,3,3,3,2,2,2,5,1,1,2,2,5,5,5,1,5,5,2,2,3,4,4,4,4,2,2,2,2,2,2,2,2,2,1,1,4,4,4,4,4,4,5,1,2,2,2,4,4,4,4,4,4,4,4,4,4,4,4,4,4,4,4,4,4,4,4,4,4,1,3,3,3,1,4,2,2,5,5,5,5,1,1,5,4,4,4,4,4,4,5,5,3,3,3,3,3,2,2,2,5,5,2,2,2,2,2,2,2,2,2,3,3,3,3,1,4,4,3,4,4,4,4,4,2,2,2,4,4,4,4,4,4,4,4,4,4,4,4,4,4,4,4,4,4,4,4,4,4,4,1,1,2,2,2,2,2,5,2,2,2,2,2,3,3,3,3,3,3,3,3,3,5,5,2,2,2,2,3,3,5,2,2,2,2,1,4,4,4,4,3,3,3,3,3,3,3,3,3,3,2,2,2,2,2,2,4,4,2,2,2,1,1,4,4,4,2,2,3,3,3,3,3,2,2,4,4,4,4,4,4,4,4,4,4,4,3,1,1,5,2,2,2,2,2,2,2,4,4,4,4,3,3,3,3,3,3,1,4,4,4,4,4,4,5,1,1,1,2,2,5,5,1,1,1,1,1,1,1,3,3,3,3,1,3,3,3,3,3,3,3,3,1,5,4,4,4,4,4,4,4,4,4,4,3,3,3,1,4,4,4,5,3,3,1,2,2,2,2,3,3,3,3,1,1,5,5,4,4,4,4,4,4,4,4,4,4,4,4,4,4,4,4,4,4,4,2,2,2,3,3,3,3,3,1,4,4,2,2,2,2,1,2,2,4,4,4,4,4,4,5,3,5,1,5,5,4,4,3,3,4,4,1,1,2,2,2,2,2,2,3,3,4,4,4,4,4,4,4,4,4,4,4,4,4,4,2,2,1,4,4,4,4,2,2,4,4,4,4,2,2,2,2,4,4,2,2,2,2,2,4,4,4,4,4,4,4,4,4,4,4,4,5,3,3,1,2,2,2,3,3,3,3,2,2,2,5,5,2,2,4,4,4,4,1,2,2,2,2,2,2,2,4,4,4,4,4,4,4,4,4,4,4,4,4,4,4,4,4,4,4,4,4,4,4,4,4,4,4,4,4,4,4,5,5,5,5,3,3,3,3,3,3,3,3,3,3,3,3,5,4,4,4,5,5,5,5,1,3,3,3,5,5,5,5,5,1,5,5,5,5,1,1,5,2,2,2,2,1,1,2,2,2,2,2,1,1,3,5,5,5,5,5,5,2,2,5,4,4,4,4,4,4,4,4,4,1,4,4,4,4,4,4,4,3,5,5,5,4,4,4,4,4,5,5,5,5,1,1,5,3,3,3,2,2,4,4,5,5,3,3,2,2,5,5,1,5,5,5,5,5,5,2,2,5,1,4,4,4,4,4,4,3,3,3,4,4,4,4,4,4,4,2,2,2,1,1,1,2,2,1,1,1,1,5,5,5,5,2,2,1,5,5,5,5,4,4,4,4,3,1,1,4,4,4,4,4,4,4,4,4,4,4,4,2,2,5,2,2,2,2,2,5,5,5,1,2,2,2,2,4,4,4,4,4,4,4,3,3,3,3,3,5,5,5,5,5,5,3,3,3,5,5,5,3,4,1,2,2,2,4,4,4,4,4,4,4,4,4,3,3,3,5,5,2,2,4,4,4,4,4,4,4,4,4,4,4,4,4,3,5,4,4,4,4,4,3,1,5,5,4,4,4,4,4,4,4,4,4,4,3,3,3,3,3,3,2,2,1,2,2,5,5,5,5,5,5,4,4,4,4,2,2,2,4,4,4,5,5,2,2,2,2,2,2,3,3,3,3,4,4,2,2,1,3,3,3,1,5,3,3,3,1,2,2,3,3,2,2,1,1,1,1,1,3,3,3,4,4,4,4,3,3,4,5,3,1,2,2,3,2,2,2,2,1,3,1,1,1,3,3,1,2,2,3,3,3,1,2,2,2,2,4,4,4,4,4,4,4,4,4,4,4,1,3,3,3,3,4,4,2,2,2,1,1,2,2,2,2,3,3,3,4,4,4,4,4,1,3,2,2,2,4,4,4,3,3,3,3,3,3,2,2,2,2,4,4,5,1,1,1,1,3,1,5,5,5,5,5,5,5,5,5,5,5,5,5,2,2,2,2,3,3,3,3,3,3,5,2,2,1,1,3,3,3,4,4,4,4,4,2,2,5,1,4,2,2,5,5,4,4,4,2,2,1,5,4,4,4,4,4,1,4,4,4,4,4,4,4,4,4,4,4,4,4,4,4,4,4,4,4,5,5,5,5,4,2,2,1,3,3,3,3,3,1,1,4,4,3,3,3,5,5,5,5,5,5,5,5,5,2,2,2,1,4,1,2,2,2,2,1,1,5,5,5,4,4,4,4,5,5,5,5,5,5,5,1,3,3,4,4,4,2,2,2,2,1,4,4,4,3,3,1,4,4,4,4,4,4,4,4,2,2,2,4,3,3,2,2,5,5,5,3,3,2,2,3,3,4,4,5,5,1,5,5,5,5,5,2,2,1,5,5,5,5,4,4,2,2,2,4,3,4,4,3,5,3,4,4,3,2,2,2,2,3,5,5,3,1,1,2,2,4,4,4,4,4,5,5,5,2,2,5,2,2,2,2,4,4,4,4,4,4,4,4,4,2,2,2,2,2,1,1,1,1,3,3,3,3,2,2,3,3,3,3,3,3,3,4,4,4,1,4,4,4,2,2,2,3,3,3,3,3,3,3,3,1,4,4,4,4,4,4,4,4,4,4,4,4,1,5,2,2,4,2,2,2,2,1,1,1,3,3,3,4,4,4,4,4,3,2,2,2,2,2,2,5,4,2,2,4,4,4,4,4,4,4,4,4,4,4,4,4,4,4,4,4,4,2,2,1,1,2,2,2,1,4,4,5,3,4,4,4,4,4,4,4,4,4,4,4,4,4,3,3,3,2,2,2,2,2,2,5,5,3,3,2,2,2,5,5,5,5,1,1,1,2,2,2,5,3,4,4,4,4,4,4,4,3,3,2,2,5,5,5,1,2,2,2,2,2,1,4,4,4,5,5,3,1,4,4,4,4,4,4,4,4,4,4,4,4,4,4,4,4,4,4,4,3,3,3,3,3,3,1,4,4,1,4,4,4,4,4,4,4,4,4,4,4,4,4,4,4,4,4,1,3,3,2,2,2,2,4,4,2,2,2,4,4,4,4,4,4,2,2,2,2,2,2,2,2,2,2,2,2,2,2,2,2,2,2,5,1,1,5,5,5,2,2,5,2,2,2,2,2,4,4,2,2,3,3,1,4,4,4,4,4,4,4,4,4,4,1,4,4,4,4,3,3,3,3,3,3,2,2,5,3,3,2,2,2,2,2,2,2,5,3,4,4,4,4,4,4,3,3,3,5,5,5,4,4,4,4,3,3,3,3,3,3,3,3,3,3,3,3,3,3,1,2,2,1,1,5,5,5,5,5,4,4,4,4,4,4,5,3,3,3,3,5,5,5,1,1,5,5,5,5,5,5,3,3,3,3,3,3,3,3,4,4,4,4,4,4,4,4,4,2,2,2,2,2,2,2,1,1,1,1,1,4,4,4,4,4,4,4,4,4,4,4,4,4,2,2,3,3,3,3,3,3,3,2,2,5,1,3,3,3,3,5,5,5,5,5,3,3,4,4,4,4,3,3,3,5,5,5,5,1,1,5,5,5,5,5,5,2,2,1,5,1,1,1,2,2,2,2,2,2,2,1,1,5,5,5,2,2,3,4,5,5,5,4,4,4,4,4,4,4,4,4,4,4,4,4,4,4,3,3,2,2,4,3,3,3,5,5,1,1,1,2,2,2,2,2,3,3,3,3,3,3,4,4,4,4,5,5,4,4,4,3,1,1,1,2,2,2,2,2,4,4,3,3,1,5,3,3,1,4,4,4,2,2,2,2,2,2,2,4,4,1,1,4,4,4,4,4,4,4,4,4,4,3,3,3,3,3,5,5,2,2,3,3,4,3,3,3,3,1,2,2,1,2,2,4,4,4,4,4,4,4,4,4,4,4,4,4,4,4,4,3,3,3,3,3,3,3,3,3,3,3,4,4,4,4,4,4,4,1,1,1,5,5,5,3,3,3,3,4,4,4,4,4,4,4,4,4,4,4,4,2,2,5,2,2,5,1,1,1,4,1,3,3,3,3,1,5,5,5,5,4,4,4,4,3,5,2,2,2,1,3,3,3,4,4,4,1,3,3,3,3,3,3,3,3,3,3,3,3,3,3,1,2,2,2,2,3,3,3,3,3,3,3,1,1,2,2,2,2,1,3,5,5,5,5,2,2,3,3,3,3,3,3,3,3,3,5,5,5,1,5,2,2,2,5,5,5,5,5,5,5,5,5,5,5,3,3,3,3,3,3,3,3,2,2,2,2,2,2,4,4,4,4,4,4,4,4,4,4,4,4,4,4,4,4,4,4,5,5,4,4,4,4,4,4,4,4,4,2,2,2,4,4,4,4,1,1,2,2,2,2,2,2,2,2,2,3,2,2,5,5,5,3,3,5,5,5,5,4,4,4,4,4,4,4,4,4,1,3,1,1,1,5,5,5,5,5,5,5,3,3,2,2,2,2,2,2,2,2,2,2,3,1,1,2,2,2,1,2,2,2,2,4,4,4,3,3,3,3,3,3,3,3,3,3,3,5,3,2,2,5,5,5,3,3,3,3,1,3,3,3,3,3,3,5,2,2,5,3,3,3,1,3,3,5,5,5,5,1,4,4,4,4,4,4,4,4,4,4,4,4,4,4,3,3,1,4,4,4,4,4,2,2,2,2,2,2,2,2,1,3,3,3,2,2,2,2,5,5,1,2,2,2,2,1,5,5,5,5,5,5,5,3,5,4,4,4,4,4,4,2,2,2,5,5,5,5,3,4,1,1,1,2,2,4,4,4,4,4,4,4,4,2,2,2,2,2,2,1,1,4,4,4,2,2,2,3,3,3,3,3,3,3,3,5,5,1,1,1,3,4,4,4,4,4,4,4,4,4,4,4,4,2,2,1,4,4,4,3,5,5,5,5,2,2,2,2,3,3,3,3,3,3,3,3,5,2,2,2,3,3,3,3,5,5,5,5,5,4,4,4,4,4,4,4,4,4,4,4,4,4,4,4,4,4,3,3,3,1,3,3,4,4,4,4,5,5,5,5,5,4,4,4,4,4,4,4,4,4,4,4,4,4,4,4,4,4,4,4,4,4,4,4,4,4,4,4,4,4,4,2,2,2,2,2,4,4,4,4,1,1,1,3,3,3,3,3,5,1,5,5,2,2,2,1,4,5,2,2,5,5,5,2,2,2,4,4,4,4,4,4,4,4,4,4,4,4,4,4,4,1,5,5,5,3,3,3,4,4,3,2,2,1,3,5,5,3,1,1,1,2,2,3,3,3,3,3,2,2,5,5,5,3,1,1,1,1,5,4,4,4,2,2,2,2,5,2,2,2,2,3,3,3,3,3,3,1,3,4,4,3,3,3,5,1,4,4,4,4,4,4,4,4,4,4,4,4,4,4,4,4,4,4,4,4,4,3,3,3,3,4,4,4,5,5,5,5,5,3,3,3,2,2,2,5,4,4,2,2,2,2,1,1,2,2,3,3,3,3,3,1,1,5,1,1,2,2,2,2,2,2,2,1,1,2,2,2,2,2,2,4,4,4,2,2,4,5,5,1,4,4,4,4,4,4,4,4,2,2,3,3,4,4,4,3,5,5,1,1,3,3,3,3,3,3,3,3,3,3,3,3,4,4,4,4,3,2,2,2,2,2,2,2,2,1,5,1,1,2,2,4,4,4,4,4,4,4,4,4,4,4,1,3,1,3,1,3,2,2,5,5,3,3,3,3,3,3,3,3,5,5,3,5,3,3,3,3,3,3,1,3,4,4,4,4,4,4,4,4,4,4,4,4,4,4,4,4,4,1,1,4,3,3,2,2,2,1,3,3,3,3,3,3,3,3,3,2,2,2,2,2,3,3,3,3,3,4,4,4,4,4,4,4,4,4,4,4,4,4,4,1,4,4,4,1,1,4,4,4,3,3,3,3,5,5,5,5,5,5,1,2,2,4,4,4,4,5,5,3,3,3,1,1,1,4,2,2,4,5,5,5,5,5,1,3,3,1,2,2,4,2,2,2,2,2,2,2,2,2,2,4,4,4,2,2,2,2,1,3,1,3,3,3,3,5,5,3,3,3,3,3,3,1,2,2,3,3,3,1,2,2,2,2,2,2,2,2,2,2,2,2,5,5,2,2,4,1,2,2,2,2,1,3,3,1,1,4,4,4,4,4,4,4,4,4,3,4,4,2,2,2,4,4,4,4,4,4,4,4,4,4,2,2,2,2,2,2,5,5,5,2,2,2,2,2,3,5,3,5,5,5,3,3,3,3,3,4,4,4,4,4,4,4,4,4,3,3,3,4,4,2,2,3,1,1,5,5,4,4,4,2,2,4,4,4,4,4,4,4,4,4,1,1,1,3,2,2,2,4,4,4,4,4,4,5,5,1,2,2,2,1,3,4,4,4,4,4,4,4,4,4,4,4,4,4,1,1,1,5,5,5,5,5,5,3,3,1,4,4,4,4,4,4,4,4,4,4,4,4,4,5,5,5,3,3,3,3,3,3,4,4,1,1,2,2,2,2,2,2,2,3,3,3,3,2,2,3,1,1,1,1,1,1,5,2,2,2,3,3,4,4,4,4,4,3,3,3,2,2,4,4,4,4,4,4,4,1,2,2,2,2,1,4,4,4,4,4,4,4,4,4,2,2,5,1,4,4,4,4,4,4,4,4,4,4,4,4,4,4,4,4,4,4,3,3,3,5,1,1,2,2,2,3,4,4,4,4,4,4,1,1,2,2,2,2,2,2,1,3,3,4,4,4,4,4,5,4,4,4,4,4,4,4,4,4,4,2,2,2,2,2,1,5,3,1,5,5,1,4,4,4,4,4,4,4,4,4,4,4,4,4,4,4,4,4,4,4,4,4,4,4,4,3,3,3,3,3,3,3,3,4,4,4,4,4,4,4,4,4,4,4,4,4,4,4,4,4,4,4,4,4,4,4,2,2,4,4,4,4,4,4,4,4,4,4,1,3,3,3,5,5,5,5,5,1,1,1,2,2,2,2,2,3,3,3,3,3,3,2,2,4,4,4,4,4,2,2,1,3,3,2,2,4,4,4,4,4,4,4,4,3,3,3,4,4,4,4,4,4,4,5,5,5,4,4,1,2,2,2,1,3,3,4,4,3,3,3,3,3,3,4,4,4,4,4,4,4,4,4,1,4,4,4,4,4,4,4,2,2,4,4,4,4,4,4,4,4,4,5,5,5,4,4,4,2,2,2,2,2,3,3,3,3,3,1,1,4,4,4,4,4,4,4,4,4,4,4,4,4,3,3,3,3,2,2,2,2,2,4,4,4,4,4,4,4,4,4,4,5,5,2,2,2,2,2,2,1,5,5,1,2,2,3,3,3,3,3,3,3,1,1,1,2,2,2,2,2,2,2,2,3,3,1,3,1,3,2,2,2,1,2,2,2,1,1,1,4,1,1,4,4,4,2,2,2,2,4,4,4,4,4,4,4,4,4,5,3,3,3,3,3,3,5,5,5,4,4,4,4,4,4,4,5,5,1,3,3,1,2,2,5,3,1,2,2,5,1,1,1,4,4,4,4,4,4,4,4,4,4,4,4,4,4,4,4,2,2,5,5,4,4,4,4,2,2,4,4,4,4,4,4,4,4,4,4,4,5,5,4,4,4,4,4,4,2,2,2,3,3,3,1,3,3,5,3,4,4,3,5,5,1,4,4,4,4,4,5,3,3,3,3,5,5,5,5,5,5,5,4,4,3,3,4,4,1,3,2,2,1,4,4,4,4,4,4,4,4,4,4,4,4,4,4,4,4,4,4,4,4,4,4,3,3,3,3,4,5,5,3,3,1,2,2,2,4,4,3,3,5,5,1,4,5,5,3,3,3,1,4,4,4,4,4,4,4,4,4,4,4,4,4,4,4,4,4,4,4,4,4,4,4,4,4,4,4,4,4,5,2,2,2,2,4,4,4,4,4,4,1,3,3,3,3,5,5,5,5,5,4,4,4,4,4,4,1,4,2,2,2,1,1,1,1,3,3,3,3,3,3,3,3,1,1,2,2,2,1,1,5,5,5,5,4,4,4,4,4,4,4,4,2,2,2,1,1,1,2,2,2,2,5,4,4,3,3,3,4,4,4,3,4,5,5,2,2,2,2,2,2,2,2,3,3,2,2,2,2,1,1,2,2,2,5,5,1,5,5,5,5,5,4,4,4,2,2,1,1,3,2,2,1,5,5,2,2,5,5,5,5,5,1,4,4,4,3,3,2,2,2,5,5,3,3,4,4,4,4,4,4,4,4,4,4,4,4,4,4,4,3,5,3,1,3,3,3,3,2,2,2,2,2,2,2,2,2,3,3,3,3,3,3,3,3,3,1,5,5,4,5,5,4,4,4,4,4,1,5,5,3,2,2,1,5,3,4,4,4,4,4,4,4,4,3,3,3,3,3,3,3,3,1,1,3,4,4,4,4,4,5,4,4,4,4,1,4,4,5,5,5,4,4,4,4,4,2,2,2,1,3,2,2,3,5,4,4,4,5,5,3,2,2,4,1,2,2,2,2,2,2,2,2,2,3,4,3,3,3,3,2,2,2,1,1,1,3,5,5,5,5,2,2,5,5,5,3,3,3,3,3,3,3,3,3,2,2,5,5,5,5,5,5,5,4,4,4,4,4,4,4,4,4,3,1,3,3,3,4,4,4,4,4,4,4,4,4,4,4,4,4,4,4,1,1,1,1,1,2,2,2,4,2,2,2,2,3,3,1,2,2,3,3,1,3,3,3,5,5,5,5,4,4,1,1,2,2,5,5,5,4,5,5,5,5,1,1,2,2,4,4,4,4,4,3,5,4,4,4,4,4,5,4,2,2,1,3,5,4,5,5,1,2,2,2,2,2,5,2,2,2,3,3,3,3,2,2,2,2,5,5,3,3,3,4,4,4,4,4,4,5,5,2,2,2,2,2,2,5,4,4,4,4,4,3,3,5,5,5,5,5,5,5,5,5,5,1,1,2,2,2,2,2,2,2,1,4,4,4,4,4,4,4,4,3,4,4,4,4,4,2,2,2,2,2,4,4,4,4,4,4,1,2,2,4,4,4,4,4,1,1,5,3,3,3,3,3,3,2,2,1,2,2,4,4,4,4,4,4,4,4,4,4,4,4,5,5,5,4,4,4,2,2,2,2,2,2,2,3,3,4,4,4,4,4,4,4,4,4,2,2,1,3,3,3,1,3,3,3,3,2,2,2,2,5,5,5,2,2,2,3,3,3,2,2,2,1,2,2,2,2,1,2,2,3,4,4,4,4,4,3,5,3,2,2,2,2,2,1,4,4,4,4,3,2,2,5,5,5,5,5,3,1,5,5,5,2,2,1,4,4,1,1,3,3,3,3,3,4,4,4,4,4,4,4,4,4,4,4,4,4,4,3,4,1,4,5,5,4,4,4,4,4,4,1,4,4,4,1,1,3,3,2,2,2,2,2,2,3,4,4,1,1,3,3,2,2,3,3,3,2,2,2,5,1,2,2,2,1,4,4,4,3,3,3,3,3,3,3,3,3,3,3,4,4,4,2,2,2,2,2,4,4,4,2,2,1,1,2,2,2,3,3,3,3,2,2,2,2,2,5,5,5,5,5,5,5,5,3,3,5,5,5,4,4,4,4,4,4,4,4,2,2,4,4,4,4,5,2,2,2,2,2,1,1,3,3,2,2,2,2,1,3,5,5,1,1,2,2,2,2,1,2,2,2,2,2,3,3,3,4,4,5,5,4,4,1,2,2,1,2,2,2,2,1,5,5,5,5,5,1,1,5,5,3,3,1,4,4,1,1,4,4,4,4,4,2,2,2,2,2,2,2,2,2,4,4,4,4,4,4,4,4,4,4,4,4,4,4,4,4,4,4,4,4,4,4,4,4,4,4,4,4,4,4,4,4,4,4,4,4,4,1,5,4,4,4,4,4,4,4,4,4,4,4,4,4,4,4,4,5,5,4,4,4,4,4,4,4,4,4,4,4,4,4,3,2,2,2,2,2,2,5,5,5,4,4,2,2,2,4,4,4,1,5,5,5,5,5,5,5,2,2,2,2,1,2,2,4,4,4,4,4,4,4,4,4,4,4,4,4,4,4,4,4,4,5,4,4,4,4,4,4,4,4,4,4,3,3,3,2,2,5,5,5,5,1,2,2,5,3,3,4,4,4,4,4,4,4,4,4,4,5,3,3,3,3,5,5,5,5,5,4,4,1,5,4,4,4,4,4,2,2,2,4,4,4,4,4,4,4,4,4,4,4,5,4,4,4,4,3,2,2,4,4,1,1,1,3,5,3,2,2,4,4,4,4,4,4,4,1,4,4,4,5,3,2,2,1,5,3,5,4,4,4,4,4,3,3,3,3,3,3,3,3,3,4,4,4,4,4,4,4,4,4,4,4,4,4,4,4,3,3,2,2,5,3,3,1,5,5,5,5,4,4,4,4,4,4,3,3,3,3,4,4,5,5,5,2,2,5,2,2,4,4,4,4,4,4,5,2,2,4,4,4,4,1,4,4,4,4,4,4,4,4,4,4,4,4,4,4,4,2,2,2,2,2,2,4,4,5,5,5,5,5,3,2,2,5,2,2,1,1,5,5,5,5,5,2,2,2,2,2,5,3,3,5,5,2,2,2,2,4,4,4,4,4,4,4,4,4,3,3,3,3,3,3,3,1,2,2,1,2,2,2,1,3,3,1,5,2,2,5,5,4,4,4,4,4,1,5,5,5,5,1,1,3,3,3,3,4,4,3,3,3,2,2,2,4,3,5,5,2,2,5,3,3,3,3,2,2,4,4,4,4,4,4,4,4,4,3,3,5,5,4,4,4,4,4,4,4,4,4,4,5,3,3,3,4,4,4,4,4,5,5,4,4,4,4,4,1,1,1,1,3,3,3,3,3,3,3,3,3,3,3,3,3,3,3,5,2,2,1,4,4,5,5,5,5,3,3,4,4,4,4,4,4,4,4,4,2,2,2,2,2,2,5,5,5,5,5,5,5,5,5,4,4,4,4,4,4,4,4,4,4,4,4,3,3,3,3,2,2,1,1,2,2,4,4,4,4,4,5,5,4,4,4,4,4,4,4,4,4,4,4,4,2,2,2,2,2,5,4,4,4,4,4,4,4,4,2,2,2,2,2,2,2,2,3,4,4,4,4,4,4,4,4,4,4,4,4,4,4,4,4,1,5,5,4,4,5,4,4,4,4,2,2,2,1,1,5,3,3,5,1,5,5,5,5,2,2,2,1,3,3,3,3,3,3,3,3,3,3,3,3,1,2,2,2,2,2,4,4,4,4,4,4,4,4,4,4,4,4,3,3,2,2,2,3,3,5,5,5,5,5,4,4,4,4,4,4,4,4,4,4,4,4,4,3,2,2,2,2,2,2,2,2,3,3,5,1,4,4,4,4,4,4,4,4,4,4,4,4,4,4,4,4,4,4,4,3,3,3,3,3,3,3,3,3,3,3,3,5,4,4,4,4,4,3,3,3,3,3,5,5,3,2,2,2,3,3,3,3,3,3,3,3,5,2,2,2,4,4,4,4,4,4,3,3,3,3,3,3,1,1,1,4,4,1,1,1,2,2,2,3,1,4,4,4,4,4,4,5,5,3,2,2,4,4,4,4,4,2,2,5,1,1,1,2,2,2,3,4,3,3,3,2,2,3,3,3,5,4,4,4,4,4,4,4,4,4,4,4,2,2,4,4,4,3,3,3,5,5,5,2,2,2,1,3,3,1,1,4,4,4,4,4,4,4,4,4,4,4,4,4,4,4,1,5,3,3,3,3,3,3,3,5,5,5,5,5,3,3,3,4,4,4,4,4,4,5,5,3,3,3,3,3,3,3,3,3,3,4,1,4,4,3,3,1,5,2,2,2,5,5,1,1,3,3,3,3,3,1,1,1,3,5,5,4,4,4,4,4,4,4,3,3,3,3,2,2,2,1,1,1,5,1,1,5,5,5,5,4,4,4,5,5,5,4,2,2,2,2,1,4,4,4,4,4,4,4,4,4,4,4,4,4,4,1,2,2,2,3,4,4,4,4,4,4,4,4,4,3,3,3,1,5,5,5,5,2,2,2,2,3,3,3,3,1,4,4,4,4,4,4,4,4,4,1,5,5,5,5,5,5,4,4,4,4,4,3,3,3,3,3,3,3,3,1,4,1,1,1,1,1,4,4,4,4,4,4,5,5,5,5,5,5,3,2,2,2,1,1,3,3,3,3,2,2,2,4,4,4,4,4,5,4,4,4,4,4,4,4,4,2,2,2,2,3,3,4,4,4,4,4,4,4,4,4,4,4,4,4,4,4,4,4,2,2,4,5,5,5,5,1,5,5,3,3,3,3,2,2,2,4,4,4,4,4,4,4,1,4,4,4,4,5,4,4,4,4,4,4,4,4,4,4,4,2,2,2,1,1,3,4,4,5,3,1,5,5,2,2,3,3,3,3,3,3,3,3,3,3,3,3,3,3,5,3,5,2,2,4,4,4,4,4,3,3,3,2,2,4,4,4,4,4,4,4,4,4,2,2,4,4,4,4,4,4,4,4,4,4,1,2,2,3,3,5,2,2,2,2,2,1,1,2,2,4,4,4,4,4,4,4,4,4,4,1,2,2,2,3,3,1,5,5,1,2,2,5,5,4,4,4,4,4,4,4,4,4,4,4,4,4,4,4,4,4,4,4,1,2,2,2,1,5,5,5,2,2,2,4,5,5,5,2,2,5,5,5,5,3,3,3,5,5,5,2,2,3,4,4,4,5,5,5,4,4,4,4,4,4,1,1,1,1,4,4,4,4,4,4,4,4,5,4,4,4,4,4,4,4,5,3,3,3,3,1,2,2,3,2,2,3,1,1,4,4,4,4,4,4,4,4,4,4,4,4,4,4,1,4,4,4,4,4,4,1,4,4,4,5,5,5,5,2,2,2,5,5,5,1,4,4,4,5,5,5,5,5,5,5,5,1,3,3,3,2,2,2,2,2,2,4,4,4,4,5,5,2,2,3,3,3,3,3,3,3,1,5,5,4,4,4,3,3,3,3,4,4,4,4,4,5,5,5,5,5,1,4,4,4,4,4,4,4,4,4,4,4,4,4,4,4,4,4,4,4,4,4,4,4,4,4,4,4,4,4,4,4,4,4,4,4,4,4,4,4,4,4,4,4,4,4,3,3,2,2,3,3,4,4,4,2,2,2,2,2,2,3,3,3,1,4,4,4,4,4,5,5,5,1,2,2,4,4,4,4,5,5,4,4,4,4,4,4,4,4,5,5,5,5,1,1,4,4,4,2,2,2,4,4,4,4,4,4,4,4,4,4,3,3,2,2,3,3,5,5,1,1,1,1,5,5,5,5,5,5,5,5,3,3,3,3,1,4,4,4,4,4,4,4,4,4,4,4,2,2,2,5,5,5,5,3,3,3,4,4,3,5,3,3,5,5,1,1,5,5,5,5,5,5,4,4,4,4,4,4,2,2,2,2,3,5,5,5,3,3,3,3,4,4,5,2,2,2,2,2,2,4,4,4,4,4,4,4,4,2,2,2,5,5,5,5,5,2,2,1,1,4,4,4,4,4,4,4,4,4,4,4,4,4,4,4,4,5,5,2,2,1,1,2,2,2,2,2,2,2,1,4,4,4,4,4,4,4,4,4,4,4,4,4,4,4,4,2,2,2,5,1,4,3,3,5,5,5,5,4,4,4,5,5,1,2,2,2,2,2,1,3,3,3,3,4,4,4,3,3,3,5,5,4,4,4,4,4,1,3,3,3,3,3,2,2,2,5,5,1,3,3,5,2,2,2,2,5,5,5,4,4,4,4,2,2,2,3,1,5,3,3,3,3,3,3,5,5,1,1,3,3,3,2,2,5,5,5,5,5,5,2,2,1,4,4,3,1,1,4,4,4,4,4,4,3,1,5,5,5,3,3,3,3,3,3,3,4,4,2,2,2,4,4,4,4,4,4,4,4,4,4,4,4,4,4,4,4,4,4,4,4,4,4,4,4,4,4,3,1,5,5,1,1,2,2,4,4,4,4,4,1,5,5,5,3,5,4,4,4,4,4,4,4,4,5,5,3,3,4,4,4,4,4,4,4,4,4,1,1,5,4,4,4,4,4,4,5,5,5,5,5,5,1,1,4,4,4,4,1,2,2,2,5,5,5,5,4,4,5,5,1,1,1,4,2,2,2,2,4,4,4,4,4,4,3,3,3,3,3,3,3,3,3,3,3,3,1,3,3,3,3,3,3,2,2,5,3,1,4,2,2,1,1,1,1,1,5,1,4,4,4,4,2,2,2,2,2,5,5,5,5,4,4,5,1,2,2,2,1,4,4,4,4,4,4,4,4,4,4,4,4,4,4,4,1,1,4,4,4,4,4,4,4,1,2,2,1,1,3,3,4,4,4,4,4,4,4,4,4,4,4,5,5,3,1,1,3,3,3,3,3,3,1,1,1,5,2,2,5,5,2,2,2,2,2,1,2,2,3,3,3,3,3,2,2,2,3,3,2,2,3,4,4,4,4,4,4,4,5,1,4,4,4,1,4,4,4,5,4,4,4,4,4,4,2,2,2,2,5,1,2,2,3,4,4,4,4,4,1,2,2,5,3,3,3,1,5,5,5,5,4,4,1,4,4,4,2,2,4,4,1,5,5,4,4,4,4,4,4,4,4,4,4,4,4,4,5,2,2,2,2,2,2,2,3,1,1,5,5,5,2,2,4,4,4,4,4,4,4,4,4,1,3,5,5,2,2,2,3,3,3,3,3,3,2,2,2,2,5,5,5,2,2,2,2,2,3,3,5,5,4,4,4,1,4,2,2,2,3,3,5,5,5,4,4,4,4,4,3,2,2,5,4,4,4,4,4,1,2,2,2,4,2,2,2,2,3,5,5,5,5,3,3,3,3,3,1,4,4,4,4,4,3,1,4,1,3,3,5,3,3,4,4,4,5,1,1,1,3,5,5,5,5,4,4,4,4,4,4,4,4,2,2,3,3,3,3,3,3,3,3,1,3,3,3,3,5,3,3,3,3,5,3,3,3,3,3,3,3,3,3,2,2,2,2,2,1,1,4,4,4,4,4,4,4,2,2,4,4,4,4,4,4,4,4,4,4,4,4,4,4,4,4,1,1,5,4,4,4,4,4,4,4,2,2,5,5,1,5,5,5,2,2,2,2,2,2,2,2,2,5,4,4,5,5,5,5,5,5,5,5,5,5,1,1,2,2,5,4,4,4,4,4,4,4,4,4,4,4,4,4,4,4,4,3,3,3,3,3,5,5,5,4,4,4,4,4,4,4,4,4,4,5,5,5,5,1,5,5,5,5,5,2,2,4,4,3,3,2,2,2,2,3,4,3,4,4,3,4,4,4,4,1,5,5,5,4,4,4,4,4,4,4,4,4,5,3,3,3,3,1,5,2,2,2,2,2,3,4,3,3,3,3,2,2,1,1,2,2,2,2,2,3,3,3,3,3,3,3,3,3,2,2,2,2,2,5,5,5,5,5,4,4,4,4,5,4,3,4,4,4,4,4,4,4,4,4,4,4,4,2,2,2,3,3,2,2,4,2,2,2,1,3,3,3,3,4,1,3,2,2,2,5,5,5,5,3,3,4,4,4,5,5,5,2,2,4,4,4,4,4,4,1,1,5,4,4,4,4,4,4,4,4,2,2,1,2,2,2,2,1,5,1,1,4,4,4,4,4,4,4,4,4,4,4,4,4,4,4,4,4,2,2,2,1,4,4,4,4,4,4,4,4,4,4,4,4,4,3,3,3,3,3,3,1,5,4,4,1,2,2,2,2,2,4,4,4,4,5,5,5,2,2,3,3,1,4,4,4,4,4,4,4,4,4,1,3,3,3,2,2,4,4,4,4,4,4,4,4,4,4,4,3,2,2,1,1,2,2,5,5,4,3,5,5,5,5,5,4,4,4,4,4,4,4,4,4,4,4,3,3,3,4,4,4,4,4,4,4,5,3,5,2,2,2,2,2,4,3,5,4,4,1,2,2,2,4,4,4,1,5,5,4,4,4,4,5,3,1,1,1,3,3,3,3,3,3,1,4,4,4,4,4,4,4,4,4,4,5,1,4,4,1,3,3,3,3,3,3,5,4,4,4,4,4,4,4,4,4,4,4,4,4,4,4,4,4,4,4,4,2,2,4,4,4,4,4,4,4,5,1,5,2,2,4,4,4,3,1,1,4,4,4,4,4,4,4,4,4,4,5,1,1,1,1,1,2,2,2,4,4,4,4,4,4,4,4,4,4,4,1,1,4,4,4,4,2,2,2,2,2,2,2,2,2,2,2,2,3,5,1,1,4,4,1,1,3,4,4,4,4,4,4,4,4,4,4,4,4,4,1,1,4,4,4,4,4,4,4,4,4,4,4,4,4,4,4,4,4,3,3,3,3,4,4,4,4,4,1,1,4,4,4,4,4,4,3,3,2,2,4,4,4,4,4,4,4,4,4,5,5,5,5,5,2,2,2,2,5,5,5,2,2,2,4,4,4,4,4,4,4,4,4,4,4,4,4,4,4,4,4,5,5,3,3,3,3,3,2,2,2,2,3,3,3,3,3,3,3,3,3,3,3,1,2,2,2,2,5,2,2,1,3,3,3,1,1,5,1,2,2,2,2,2,5,4,4,4,2,2,2,2,2,2,2,3,3,3,1,2,2,2,5,5,4,4,4,4,3,3,3,4,4,4,4,4,4,1,5,3,3,3,4,4,4,4,5,5,5,3,3,3,1,3,2,2,5,5,1,4,1,2,2,2,2,2,5,5,2,2,2,3,3,3,3,3,2,2,4,4,4,4,4,4,4,4,4,4,4,4,4,4,4,4,4,4,4,4,4,4,4,4,4,4,4,2,2,2,2,2,2,5,5,3,3,1,1,5,2,2,5,2,2,1,4,4,4,5,2,2,1,1,3,3,3,5,1,1,1,5,5,4,4,4,5,5,5,2,2,2,2,2,2,2,2,2,2,3,4,4,4,4,4,4,4,4,4,1,4,4,4,4,4,4,3,3,3,3,3,3,4,4,4,4,4,4,4,4,4,4,2,2,2,1,3,2,2,2,5,4,4,4,4,4,4,4,4,4,4,3,4,4,4,3,2,2,2,2,2,5,1,4,4,4,4,4,4,4,4,3,3,2,2,3,1,4,4,4,4,4,4,1,1,1,1,1,1,1,2,2,2,2,3,5,2,2,2,5,4,4,4,4,4,4,4,4,2,2,1,1,1,3,4,4,4,3,3,3,3,3,3,1,1,1,5,5,5,5,5,1,1,3,3,1,1,2,2,2,2,2,1,1,3,3,3,3,3,4,5,3,3,3,2,2,2,3,5,5,5,1,1,2,2,5,5,5,5,4,4,5,2,2,2,2,2,4,4,4,4,4,4,2,2,2,2,4,1,1,1,3,3,1,1,1,5,3,2,2,2\\n'"
      ]
     },
     "execution_count": 25,
     "metadata": {},
     "output_type": "execute_result"
    }
   ],
   "source": [
    "data"
   ]
  },
  {
   "cell_type": "code",
   "execution_count": 28,
   "metadata": {},
   "outputs": [],
   "source": [
    "a=np.genfromtxt(StringIO(data),delimiter=\",\")"
   ]
  },
  {
   "cell_type": "code",
   "execution_count": 29,
   "metadata": {},
   "outputs": [
    {
     "data": {
      "text/plain": [
       "array([5., 5., 5., ..., 2., 2., 2.])"
      ]
     },
     "execution_count": 29,
     "metadata": {},
     "output_type": "execute_result"
    }
   ],
   "source": [
    "a"
   ]
  },
  {
   "cell_type": "code",
   "execution_count": 34,
   "metadata": {},
   "outputs": [],
   "source": [
    "np.save(\"posttalk\", a,)"
   ]
  },
  {
   "cell_type": "code",
   "execution_count": 35,
   "metadata": {},
   "outputs": [],
   "source": [
    "import joblib\n",
    "import os\n",
    "import pandas as pd\n",
    "from sklearn.ensemble import RandomForestClassifier\n",
    "import numpy as np\n",
    "from datetime import datetime\n",
    "import matplotlib.pyplot as plt\n",
    "import pickle\n",
    "import time\n",
    "from tkinter import *\n",
    "from tkinter import filedialog\n",
    "from tqdm import tqdm\n",
    "from tqdm import notebook\n",
    "import itertools\n",
    "import math\n",
    "import seaborn as sns"
   ]
  },
  {
   "cell_type": "code",
   "execution_count": null,
   "metadata": {},
   "outputs": [],
   "source": []
  },
  {
   "cell_type": "code",
   "execution_count": 36,
   "metadata": {},
   "outputs": [],
   "source": [
    "# Create Tk root\n",
    "root = Tk()\n",
    "# Hide the main window\n",
    "root.withdraw()\n",
    "root.call('wm', 'attributes', '.', '-topmost', True)\n",
    "infiles = filedialog.askopenfilename(multiple=True, title='load posthoc-predictions.npy')\n",
    "\n",
    "%gui tk"
   ]
  },
  {
   "cell_type": "code",
   "execution_count": 37,
   "metadata": {},
   "outputs": [
    {
     "data": {
      "text/plain": [
       "('C:/Users/Yttri-Lab/Desktop/DURATIONPRACTICE/posttalk.npy',)"
      ]
     },
     "execution_count": 37,
     "metadata": {},
     "output_type": "execute_result"
    }
   ],
   "source": [
    "infiles"
   ]
  },
  {
   "cell_type": "code",
   "execution_count": 38,
   "metadata": {},
   "outputs": [
    {
     "data": {
      "image/png": "[encoded data removed]",
      "text/plain": [
       "<Figure size 432x288 with 1 Axes>"
      ]
     },
     "metadata": {
      "needs_background": "light"
     },
     "output_type": "display_data"
    },
    {
     "ename": "NameError",
     "evalue": "name 'num_intervals' is not defined",
     "output_type": "error",
     "traceback": [
      "\u001b[1;31m---------------------------------------------------------------------------\u001b[0m",
      "\u001b[1;31mNameError\u001b[0m                                 Traceback (most recent call last)",
      "Input \u001b[1;32mIn [38]\u001b[0m, in \u001b[0;36m<cell line: 67>\u001b[1;34m()\u001b[0m\n\u001b[0;32m     65\u001b[0m duration_intervals \u001b[38;5;241m=\u001b[39m []\n\u001b[0;32m     66\u001b[0m count_intervals \u001b[38;5;241m=\u001b[39m []\n\u001b[1;32m---> 67\u001b[0m \u001b[38;5;28;01mfor\u001b[39;00m i \u001b[38;5;129;01min\u001b[39;00m \u001b[38;5;28mrange\u001b[39m(\u001b[43mnum_intervals\u001b[49m):\n\u001b[0;32m     68\u001b[0m     start_idx \u001b[38;5;241m=\u001b[39m i \u001b[38;5;241m*\u001b[39m interval_length\n\u001b[0;32m     69\u001b[0m     end_idx \u001b[38;5;241m=\u001b[39m (i \u001b[38;5;241m+\u001b[39m \u001b[38;5;241m1\u001b[39m) \u001b[38;5;241m*\u001b[39m interval_length\n",
      "\u001b[1;31mNameError\u001b[0m: name 'num_intervals' is not defined"
     ]
    }
   ],
   "source": [
    "# Create Tk root\n",
    "root = Tk()\n",
    "# Hide the main window\n",
    "root.withdraw()\n",
    "root.call('wm', 'attributes', '.', '-topmost', True)\n",
    "infiles = filedialog.askopenfilename(multiple=True, title='load posthoc-predictions.npy')\n",
    "\n",
    "# Load the np file containing predictions\n",
    "predictions = np.load(infiles[0])\n",
    "\n",
    "# Define the behavior of interest\n",
    "behavior_of_interest = 2\n",
    "\n",
    "# Calculate the bouts of the behavior of interest\n",
    "bouts = []\n",
    "current_bout = []\n",
    "for i, value in enumerate(predictions):\n",
    "    if value == behavior_of_interest:\n",
    "        current_bout.append(i)\n",
    "    elif current_bout:\n",
    "        bouts.append(current_bout)\n",
    "        current_bout = []\n",
    "if current_bout:\n",
    "    bouts.append(current_bout)\n",
    "\n",
    "# Calculate the number of bouts\n",
    "num_bouts = len(bouts)\n",
    "\n",
    "# Separate bouts into 2.5 minute intervals (baseline, stim, post)\n",
    "interval_duration = 2.5 * 60  # Convert 2.5 minutes to seconds\n",
    "baseline_duration = 5 * 60  # 5 minutes\n",
    "stim_duration = 30 * 60  # 30 minutes\n",
    "post_duration = 30 * 60  # 30 minutes\n",
    "\n",
    "baseline_bouts = []\n",
    "stim_bouts = []\n",
    "post_bouts = []\n",
    "\n",
    "for bout in bouts:\n",
    "    bout_start = bout[0]\n",
    "    bout_end = bout[-1]\n",
    "    if bout_start < baseline_duration:\n",
    "        baseline_bouts.append(bout)\n",
    "    elif baseline_duration <= bout_start < baseline_duration + stim_duration:\n",
    "        stim_bouts.append(bout)\n",
    "    else:\n",
    "        post_bouts.append(bout)\n",
    "\n",
    "# Calculate the number of bouts in each interval\n",
    "num_baseline_bouts = len(baseline_bouts)\n",
    "num_stim_bouts = len(stim_bouts)\n",
    "num_post_bouts = len(post_bouts)\n",
    "\n",
    "# Create a bar plot to display the number of bouts in each interval\n",
    "labels = ['Baseline', 'Stim', 'Post']\n",
    "counts = [num_baseline_bouts, num_stim_bouts, num_post_bouts]\n",
    "\n",
    "plt.bar(labels, counts)\n",
    "plt.xlabel('Intervals')\n",
    "plt.ylabel('Number of Bouts')\n",
    "plt.title('Number of Bouts of Behavior {}'.format(behavior_of_interest))\n",
    "plt.show()\n",
    "\n",
    "# Calculate the duration and count for each time interval\n",
    "duration_intervals = []\n",
    "count_intervals = []\n",
    "for i in range(num_intervals):\n",
    "    start_idx = i * interval_length\n",
    "    end_idx = (i + 1) * interval_length\n",
    "    \n",
    "    interval_predictions = predictions[start_idx:end_idx]\n",
    "    \n",
    "    duration_interval = np.sum(interval_predictions == behavior_of_interest)\n",
    "    count_interval = np.sum(np.diff(np.where(interval_predictions == behavior_of_interest)[0]) > 1)\n",
    "    \n",
    "    duration_intervals.append(duration_interval)\n",
    "    count_intervals.append(count_interval)\n",
    "\n",
    "# Create separate plots for duration and count\n",
    "plt.figure(figsize=(12, 6))\n",
    "\n",
    "# Plot for duration\n",
    "plt.subplot(1, 2, 1)\n",
    "plt.bar(range(num_intervals), duration_intervals)\n",
    "plt.title(\"Duration of Behavior {}\".format(behavior_of_interest))\n",
    "plt.xlabel(\"Time Interval\")\n",
    "plt.ylabel(\"Duration\")\n",
    "plt.xticks(range(num_intervals), [\"Interval {}\".format(i+1) for i in range(num_intervals)], rotation=45)\n",
    "\n",
    "# Plot for count\n",
    "plt.subplot(1, 2, 2)\n",
    "plt.bar(range(num_intervals), count_intervals)\n",
    "plt.title(\"Count of Behavior {}\".format(behavior_of_interest))\n",
    "plt.xlabel(\"Time Interval\")\n",
    "plt.ylabel(\"Count\")\n",
    "plt.xticks(range(num_intervals), [\"Interval {}\".format(i+1) for i in range(num_intervals)], rotation=45)\n",
    "\n",
    "# Adjust the spacing between subplots\n",
    "plt.tight_layout()\n",
    "\n",
    "# Show the plots\n",
    "plt.show()\n"
   ]
  },
  {
   "cell_type": "code",
   "execution_count": 48,
   "metadata": {},
   "outputs": [
    {
     "name": "stdout",
     "output_type": "stream",
     "text": [
      "Duration and Count of Behavior 6 for Different Time Periods:\n",
      "First 5 minutes - Duration: 0 Count: 0\n",
      "5 minutes to 30 minutes - Duration: 0 Count: 0\n",
      "30 minutes to 65 minutes - Duration: 0 Count: 0\n"
     ]
    },
    {
     "data": {
      "image/png": "[encoded data removed]",
      "text/plain": [
       "<Figure size 864x432 with 2 Axes>"
      ]
     },
     "metadata": {
      "needs_background": "light"
     },
     "output_type": "display_data"
    }
   ],
   "source": [
    "# Load the np file containing predictions\n",
    "predictions = np.load(infiles[0])\n",
    "\n",
    "# Define the behavior of interest\n",
    "behavior_of_interest = 6\n",
    "\n",
    "# Define the time intervals in tenths of a second\n",
    "first_5_min_end = 3000\n",
    "five_to_30_min_start = 3000\n",
    "five_to_30_min_end = 18000\n",
    "thirty_to_65_min_start = 18000\n",
    "thirty_to_65_min_end = 39000\n",
    "\n",
    "# Filter predictions for the first 5 minutes\n",
    "first_5_min_predictions = predictions[:first_5_min_end]\n",
    "\n",
    "# Filter predictions for the time frame from 5 minutes to 30 minutes\n",
    "five_to_30_min_predictions = predictions[five_to_30_min_start:five_to_30_min_end]\n",
    "\n",
    "# Filter predictions for the time frame from 30 minutes to 65 minutes\n",
    "thirty_to_65_min_predictions = predictions[thirty_to_65_min_start:thirty_to_65_min_end]\n",
    "\n",
    "# Calculate the duration and count of the behavior of interest for each time period\n",
    "duration_first_5_min = np.sum(first_5_min_predictions == behavior_of_interest)\n",
    "count_first_5_min = np.sum(np.diff(np.where(first_5_min_predictions == behavior_of_interest)[0]) > 1)\n",
    "\n",
    "duration_five_to_30_min = np.sum(five_to_30_min_predictions == behavior_of_interest)\n",
    "count_five_to_30_min = np.sum(np.diff(np.where(five_to_30_min_predictions == behavior_of_interest)[0]) > 1)\n",
    "\n",
    "duration_thirty_to_65_min = np.sum(thirty_to_65_min_predictions == behavior_of_interest)\n",
    "count_thirty_to_65_min = np.sum(np.diff(np.where(thirty_to_65_min_predictions == behavior_of_interest)[0]) > 1)\n",
    "\n",
    "# Print the duration and count for each time period\n",
    "print(\"Duration and Count of Behavior\", behavior_of_interest, \"for Different Time Periods:\")\n",
    "print(\"First 5 minutes - Duration:\", duration_first_5_min, \"Count:\", count_first_5_min)\n",
    "print(\"5 minutes to 30 minutes - Duration:\", duration_five_to_30_min, \"Count:\", count_five_to_30_min)\n",
    "print(\"30 minutes to 65 minutes - Duration:\", duration_thirty_to_65_min, \"Count:\", count_thirty_to_65_min)\n",
    "\n",
    "# Create separate plots for duration and count\n",
    "plt.figure(figsize=(12, 6))\n",
    "\n",
    "# Plot for duration\n",
    "plt.subplot(1, 2, 1)\n",
    "plt.bar([\"First 5 min\", \"5 min to 30 min\", \"30 min to 65 min\"], [duration_first_5_min, duration_five_to_30_min, duration_thirty_to_65_min])\n",
    "plt.title(\"Duration of Behavior {}\".format(behavior_of_interest))\n",
    "plt.xlabel(\"Time Period\")\n",
    "plt.ylabel(\"Duration\")\n",
    "\n",
    "# Plot for count\n",
    "plt.subplot(1, 2, 2)\n",
    "plt.bar([\"First 5 min\", \"5 min to 30 min\", \"30 min to 65 min\"], [count_first_5_min, count_five_to_30_min, count_thirty_to_65_min])\n",
    "plt.title(\"Count of Behavior {}\".format(behavior_of_interest))\n",
    "plt.xlabel(\"Time Period\")\n",
    "plt.ylabel(\"Count\")\n",
    "\n",
    "# Adjust the spacing between subplots\n",
    "plt.tight_layout()\n",
    "\n",
    "# Show the plots\n",
    "plt.show()"
   ]
  },
  {
   "cell_type": "code",
   "execution_count": null,
   "metadata": {},
   "outputs": [],
   "source": []
  },
  {
   "cell_type": "code",
   "execution_count": null,
   "metadata": {},
   "outputs": [],
   "source": []
  }
 ],
 "metadata": {
  "kernelspec": {
   "display_name": "Python 3 (ipykernel)",
   "language": "python",
   "name": "python3"
  },
  "language_info": {
   "codemirror_mode": {
    "name": "ipython",
    "version": 3
   },
   "file_extension": ".py",
   "mimetype": "text/x-python",
   "name": "python",
   "nbconvert_exporter": "python",
   "pygments_lexer": "ipython3",
   "version": "3.8.5"
  }
 },
 "nbformat": 4,
 "nbformat_minor": 4
}
