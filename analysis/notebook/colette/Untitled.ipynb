{
 "cells": [
  {
   "cell_type": "code",
   "execution_count": 1,
   "metadata": {},
   "outputs": [],
   "source": [
    "import pandas as pd\n",
    "import numpy as np\n",
    "from datetime import datetime\n",
    "import matplotlib.pyplot as plt\n",
    "import pickle\n",
    "import time\n",
    "from tkinter import *\n",
    "from tkinter import filedialog"
   ]
  },
  {
   "cell_type": "code",
   "execution_count": 2,
   "metadata": {},
   "outputs": [],
   "source": [
    "# Create Tk root\n",
    "root = Tk()\n",
    "# Hide the main window\n",
    "root.withdraw()\n",
    "root.call('wm', 'attributes', '.', '-topmost', True)\n",
    "infiles = filedialog.askopenfilename(multiple=True, title='load timestamp csv')\n",
    "\n",
    "%gui tk"
   ]
  },
  {
   "cell_type": "code",
   "execution_count": 3,
   "metadata": {},
   "outputs": [],
   "source": [
    "df = pd.read_csv(infiles[0])"
   ]
  },
  {
   "cell_type": "code",
   "execution_count": 4,
   "metadata": {},
   "outputs": [
    {
     "data": {
      "text/html": [
       "<div>\n",
       "<style scoped>\n",
       "    .dataframe tbody tr th:only-of-type {\n",
       "        vertical-align: middle;\n",
       "    }\n",
       "\n",
       "    .dataframe tbody tr th {\n",
       "        vertical-align: top;\n",
       "    }\n",
       "\n",
       "    .dataframe thead th {\n",
       "        text-align: right;\n",
       "    }\n",
       "</style>\n",
       "<table border=\"1\" class=\"dataframe\">\n",
       "  <thead>\n",
       "    <tr style=\"text-align: right;\">\n",
       "      <th></th>\n",
       "      <th>Experiment_Start</th>\n",
       "      <th>(6, 'Stim_Start')</th>\n",
       "      <th>(7, 'Stim_Start')</th>\n",
       "      <th>(8, 'Stim_Start')</th>\n",
       "      <th>(9, 'Stim_Start')</th>\n",
       "      <th>(10, 'Stim_Start')</th>\n",
       "      <th>(11, 'Stim_Start')</th>\n",
       "      <th>(12, 'Stim_Start')</th>\n",
       "      <th>(13, 'Stim_Start')</th>\n",
       "      <th>(14, 'Stim_Start')</th>\n",
       "      <th>...</th>\n",
       "      <th>(212, 'Stim_Start')</th>\n",
       "      <th>(213, 'Stim_Start')</th>\n",
       "      <th>(214, 'Stim_Start')</th>\n",
       "      <th>(215, 'Stim_Start')</th>\n",
       "      <th>(216, 'Stim_Start')</th>\n",
       "      <th>(217, 'Stim_Start')</th>\n",
       "      <th>(218, 'Stim_Start')</th>\n",
       "      <th>(219, 'Stim_Start')</th>\n",
       "      <th>(220, 'Stim_Start')</th>\n",
       "      <th>(221, 'Stim_Start')</th>\n",
       "    </tr>\n",
       "  </thead>\n",
       "  <tbody>\n",
       "    <tr>\n",
       "      <th>0</th>\n",
       "      <td>1.687872e+09</td>\n",
       "      <td>1.687873e+09</td>\n",
       "      <td>1.687873e+09</td>\n",
       "      <td>1.687873e+09</td>\n",
       "      <td>1.687873e+09</td>\n",
       "      <td>1.687873e+09</td>\n",
       "      <td>1.687873e+09</td>\n",
       "      <td>1.687873e+09</td>\n",
       "      <td>1.687873e+09</td>\n",
       "      <td>1.687873e+09</td>\n",
       "      <td>...</td>\n",
       "      <td>1.687874e+09</td>\n",
       "      <td>1.687874e+09</td>\n",
       "      <td>1.687874e+09</td>\n",
       "      <td>1.687874e+09</td>\n",
       "      <td>1.687874e+09</td>\n",
       "      <td>1.687874e+09</td>\n",
       "      <td>1.687874e+09</td>\n",
       "      <td>1.687874e+09</td>\n",
       "      <td>1.687874e+09</td>\n",
       "      <td>1.687874e+09</td>\n",
       "    </tr>\n",
       "  </tbody>\n",
       "</table>\n",
       "<p>1 rows × 217 columns</p>\n",
       "</div>"
      ],
      "text/plain": [
       "   Experiment_Start  (6, 'Stim_Start')  (7, 'Stim_Start')  (8, 'Stim_Start')  \\\n",
       "0      1.687872e+09       1.687873e+09       1.687873e+09       1.687873e+09   \n",
       "\n",
       "   (9, 'Stim_Start')  (10, 'Stim_Start')  (11, 'Stim_Start')  \\\n",
       "0       1.687873e+09        1.687873e+09        1.687873e+09   \n",
       "\n",
       "   (12, 'Stim_Start')  (13, 'Stim_Start')  (14, 'Stim_Start')  ...  \\\n",
       "0        1.687873e+09        1.687873e+09        1.687873e+09  ...   \n",
       "\n",
       "   (212, 'Stim_Start')  (213, 'Stim_Start')  (214, 'Stim_Start')  \\\n",
       "0         1.687874e+09         1.687874e+09         1.687874e+09   \n",
       "\n",
       "   (215, 'Stim_Start')  (216, 'Stim_Start')  (217, 'Stim_Start')  \\\n",
       "0         1.687874e+09         1.687874e+09         1.687874e+09   \n",
       "\n",
       "   (218, 'Stim_Start')  (219, 'Stim_Start')  (220, 'Stim_Start')  \\\n",
       "0         1.687874e+09         1.687874e+09         1.687874e+09   \n",
       "\n",
       "   (221, 'Stim_Start')  \n",
       "0         1.687874e+09  \n",
       "\n",
       "[1 rows x 217 columns]"
      ]
     },
     "execution_count": 4,
     "metadata": {},
     "output_type": "execute_result"
    }
   ],
   "source": [
    "df"
   ]
  },
  {
   "cell_type": "code",
   "execution_count": 5,
   "metadata": {},
   "outputs": [
    {
     "data": {
      "text/plain": [
       "114.86268472671509"
      ]
     },
     "execution_count": 5,
     "metadata": {},
     "output_type": "execute_result"
    }
   ],
   "source": [
    "df.iloc[0, 1] - df.iloc[0, 0]"
   ]
  },
  {
   "cell_type": "code",
   "execution_count": 6,
   "metadata": {},
   "outputs": [
    {
     "name": "stdout",
     "output_type": "stream",
     "text": [
      "[[1.14862685e+02 4.33373451e-01 6.24103150e+01 1.23620081e+00\n",
      "  1.78942438e+02 6.77446122e+01 4.28893805e-01 2.74425983e-01\n",
      "  1.21577165e+01 6.73604012e-01 1.40842462e+00 7.37029791e-01\n",
      "  4.31758165e-01 2.76079934e+02 1.14739799e+00 2.60277987e-01\n",
      "  6.72248363e-01 2.14446902e+00 4.14348364e-01 1.32944536e+00\n",
      "  6.76730585e+00 1.82476854e+00 3.88652945e+00 9.24932957e-01\n",
      "  2.05198052e+01 2.10774732e+00 3.76044559e+00 1.85777128e+02\n",
      "  6.87494683e+00 3.01568985e+00 2.69539795e+01 3.12051294e+01\n",
      "  4.92825985e-01 9.77398157e-01 2.07809758e+00 1.74480677e+00\n",
      "  8.59345675e-01 3.09330225e-01 5.28763738e+01 8.83151054e-01\n",
      "  2.32029414e+00 1.10235724e+01 7.71022868e+00 4.38760805e+00\n",
      "  1.13610220e+00 1.71036267e+00 2.01480651e+00 8.95279408e-01\n",
      "  9.76424217e-01 4.49652767e+00 2.78691101e+00 1.26237202e+00\n",
      "  5.44497967e-01 4.22397709e+00 5.62587738e-01 9.08672810e-01\n",
      "  1.19893909e+00 1.61701012e+00 9.02529550e+00 2.39918852e+00\n",
      "  4.48714018e-01 4.90687847e-01 1.74795318e+00 2.91225386e+00\n",
      "  1.80723953e+00 1.14882421e+00 5.27739763e-01 7.42692471e-01\n",
      "  6.06613398e-01 1.70561137e+01 2.84725022e+00 1.80628633e+00\n",
      "  1.68153453e+00 2.17827106e+00 1.02846079e+01 8.49807024e-01\n",
      "  6.21834040e-01 8.80245209e-01 6.00059843e+00 3.37271452e-01\n",
      "  2.71767378e-01 2.90743399e+00 2.94189215e-01 3.17836285e-01\n",
      "  7.55280256e-01 6.83680058e-01 9.92377996e-01 4.16832924e-01\n",
      "  1.32752419e+00 3.01196098e-01 2.75155067e-01 4.33809519e-01\n",
      "  1.27773809e+00 1.40488672e+00 7.06758499e-01 4.98291016e-01\n",
      "  2.41467929e+00 2.65433331e+01 1.12347524e+01 1.34041381e+00\n",
      "  9.60434437e-01 2.73374319e-01 8.45481634e-01 9.95339632e-01\n",
      "  5.19563007e+00 1.04436827e+00 8.01193714e-01 8.62163067e+00\n",
      "  8.70455503e+00 1.43191502e+01 4.28648820e+01 1.31176877e+00\n",
      "  3.98979664e-01 2.41050916e+02 5.24808602e+01 3.66170883e-01\n",
      "  2.81525540e+00 4.19067469e+01 1.07085419e+00 7.67500639e-01\n",
      "  1.16823363e+00 2.39809275e-01 4.16051817e+00 4.00878191e-01\n",
      "  1.00867145e+01 3.82975101e-01 2.76775002e+00 7.35081196e-01\n",
      "  6.07555628e-01 1.91966844e+00 5.93996525e-01 3.11965728e+00\n",
      "  1.57986403e+00 3.89209986e-01 8.47036362e-01 3.68694544e-01\n",
      "  1.27925658e+00 1.00783920e+00 1.60131550e+00 3.67372751e-01\n",
      "  6.03417873e-01 2.43344069e-01 4.91357613e+00 1.71324968e+00\n",
      "  1.09786010e+00 7.87894487e-01 1.10209513e+00 7.02194929e-01\n",
      "  2.57985616e+00 5.76828718e-01 3.67223978e-01 3.68052006e-01\n",
      "  2.23919392e-01 1.48730326e+00 9.60605621e-01 3.99494648e-01\n",
      "  5.10889292e-01 8.65736485e-01 1.10332012e+00 5.12680292e-01\n",
      "  1.87220430e+00 4.32859182e-01 1.27719522e+00 1.56872821e+00\n",
      "  9.43430901e-01 2.70802259e-01 6.08450413e-01 1.26494265e+00\n",
      "  6.08333349e-01 9.89117861e-01 7.55498409e-01 2.68232822e-01\n",
      "  5.31848907e-01 4.61484909e-01 9.79376554e-01 7.65889168e-01\n",
      "  1.64998388e+00 6.71736956e-01 1.50386834e+00 4.32280064e-01\n",
      "  1.15221596e+00 1.53464580e+00 4.97670650e-01 3.04072618e-01\n",
      "  1.88212514e+00 8.68801832e-01 7.68943548e-01 7.34147549e-01\n",
      "  2.65714455e+00 1.13516450e+00 4.00999069e-01 1.27873182e+00\n",
      "  2.72289515e-01 2.88272381e-01 5.76345682e-01 1.03866220e+00\n",
      "  4.33724642e-01 1.58374810e+00 7.04081535e-01 2.88134599e+00\n",
      "  2.70278692e-01 5.92203140e-01 4.79719639e-01 5.30436993e-01\n",
      "  7.02929020e-01 2.09740195e+01 3.67018938e-01 1.05762728e+02\n",
      "  1.95352178e+01 3.88991857e+00 1.30994749e+00 5.12037301e+00\n",
      "  2.12161822e+01 4.31891918e-01 5.74495792e-01 5.63387012e+00]]\n"
     ]
    }
   ],
   "source": [
    "time_diff = np.diff(np.array(df))\n",
    "print(time_diff)"
   ]
  },
  {
   "cell_type": "code",
   "execution_count": 7,
   "metadata": {},
   "outputs": [
    {
     "name": "stdout",
     "output_type": "stream",
     "text": [
      "216\n"
     ]
    }
   ],
   "source": [
    "time_since = np.cumsum(np.diff(np.array(df)))\n",
    "print(len(time_since))"
   ]
  },
  {
   "cell_type": "code",
   "execution_count": null,
   "metadata": {},
   "outputs": [],
   "source": [
    "np.max(time_since)/60"
   ]
  },
  {
   "cell_type": "code",
   "execution_count": null,
   "metadata": {},
   "outputs": [],
   "source": [
    "fig, ax = plt.subplots(1, 1, figsize=(4, 3))\n",
    "\n",
    "ax.plot(np.arange(len(time_since)), time_since)\n",
    "ax.set_xlabel('count')\n",
    "ax.set_ylabel('time since start (s)')"
   ]
  },
  {
   "cell_type": "code",
   "execution_count": null,
   "metadata": {},
   "outputs": [],
   "source": [
    "time_since[(time_since > 1500) & (time_since < 1800)].shape"
   ]
  },
  {
   "cell_type": "code",
   "execution_count": null,
   "metadata": {},
   "outputs": [],
   "source": []
  },
  {
   "cell_type": "code",
   "execution_count": null,
   "metadata": {},
   "outputs": [],
   "source": []
  }
 ],
 "metadata": {
  "kernelspec": {
   "display_name": "Python 3 (ipykernel)",
   "language": "python",
   "name": "python3"
  },
  "language_info": {
   "codemirror_mode": {
    "name": "ipython",
    "version": 3
   },
   "file_extension": ".py",
   "mimetype": "text/x-python",
   "name": "python",
   "nbconvert_exporter": "python",
   "pygments_lexer": "ipython3",
   "version": "3.8.5"
  }
 },
 "nbformat": 4,
 "nbformat_minor": 4
}
