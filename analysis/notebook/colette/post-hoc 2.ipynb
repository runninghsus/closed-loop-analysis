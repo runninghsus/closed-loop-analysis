{
 "cells": [
  {
   "cell_type": "code",
   "execution_count": 4,
   "metadata": {
    "is_executing": true
   },
   "outputs": [],
   "source": [
    "import itertools\n",
    "import math\n",
    "from tkinter import *\n",
    "from tkinter import filedialog\n",
    "\n",
    "import joblib\n",
    "import matplotlib.pyplot as plt\n",
    "import numpy as np\n",
    "import pandas as pd\n",
    "from tqdm import tqdm\n",
    "import pickle"
   ]
  },
  {
   "cell_type": "code",
   "execution_count": 5,
   "metadata": {},
   "outputs": [],
   "source": [
    "def adp_filt(currdf: object, pose):\n",
    "    lIndex = []\n",
    "    xIndex = []\n",
    "    yIndex = []\n",
    "    currdf = np.array(currdf[1:])\n",
    "    for header in pose:\n",
    "        if currdf[0][header + 1] == \"likelihood\":\n",
    "            lIndex.append(header)\n",
    "        elif currdf[0][header + 1] == \"x\":\n",
    "            xIndex.append(header)\n",
    "        elif currdf[0][header + 1] == \"y\":\n",
    "            yIndex.append(header)\n",
    "    curr_df1 = currdf[:, 1:]\n",
    "    datax = curr_df1[1:, np.array(xIndex)]\n",
    "    datay = curr_df1[1:, np.array(yIndex)]\n",
    "    data_lh = curr_df1[1:, np.array(lIndex)]\n",
    "    currdf_filt = np.zeros((datax.shape[0], (datax.shape[1]) * 2))\n",
    "    perc_rect = []\n",
    "    for i in range(data_lh.shape[1]):\n",
    "        perc_rect.append(0)\n",
    "    for x in tqdm(range(data_lh.shape[1])):\n",
    "        a, b = np.histogram(data_lh[1:, x].astype(np.float64))\n",
    "        rise_a = np.where(np.diff(a) >= 0)\n",
    "        if rise_a[0][0] > 1:\n",
    "            llh = b[rise_a[0][0]]\n",
    "        else:\n",
    "            llh = b[rise_a[0][1]]\n",
    "        # llh=0\n",
    "        data_lh_float = data_lh[:, x].astype(np.float64)\n",
    "        perc_rect[x] = np.sum(data_lh_float < llh) / data_lh.shape[0]\n",
    "        currdf_filt[0, (2 * x):(2 * x + 2)] = np.hstack([datax[0, x], datay[0, x]])\n",
    "        for i in range(1, data_lh.shape[0]):\n",
    "            if data_lh_float[i] < llh:\n",
    "                currdf_filt[i, (2 * x):(2 * x + 2)] = currdf_filt[i - 1, (2 * x):(2 * x + 2)]\n",
    "            else:\n",
    "                currdf_filt[i, (2 * x):(2 * x + 2)] = np.hstack([datax[i, x], datay[i, x]])\n",
    "    currdf_filt = np.array(currdf_filt)\n",
    "    currdf_filt = currdf_filt.astype(np.float64)\n",
    "    return currdf_filt, perc_rect\n",
    "\n",
    "def boxcar_center(a, n):\n",
    "    a1 = pd.Series(a)\n",
    "    moving_avg = np.array(a1.rolling(window=n, min_periods=1, center=True).mean())\n",
    "\n",
    "    return moving_avg\n",
    "\n",
    "\n",
    "def feature_extraction(processed_input_data, framerate = 30):\n",
    "    window = np.int64(np.round(0.05 / (1 / framerate)) * 2 - 1)\n",
    "    f = []\n",
    "    for n in range(len(processed_input_data)):\n",
    "        data_n_len = len(processed_input_data[n])\n",
    "        dxy_list = []\n",
    "        disp_list = []\n",
    "        for r in range(data_n_len):\n",
    "            if r < data_n_len - 1:\n",
    "                disp = []\n",
    "                for c in range(0, processed_input_data[n].shape[1], 2):\n",
    "                    disp.append(\n",
    "                        np.linalg.norm(processed_input_data[n][r + 1, c:c + 2] -\n",
    "                                       processed_input_data[n][r, c:c + 2]))\n",
    "                disp_list.append(disp)\n",
    "            dxy = []\n",
    "            for i, j in itertools.combinations(range(0, processed_input_data[n].shape[1], 2), 2):\n",
    "                dxy.append(processed_input_data[n][r, i:i + 2] -\n",
    "                           processed_input_data[n][r, j:j + 2])\n",
    "            dxy_list.append(dxy)\n",
    "        disp_r = np.array(disp_list)\n",
    "        dxy_r = np.array(dxy_list)\n",
    "        disp_boxcar = []\n",
    "        dxy_eu = np.zeros([data_n_len, dxy_r.shape[1]])\n",
    "        ang = np.zeros([data_n_len - 1, dxy_r.shape[1]])\n",
    "        dxy_boxcar = []\n",
    "        ang_boxcar = []\n",
    "        for l in range(disp_r.shape[1]):\n",
    "            disp_boxcar.append(boxcar_center(disp_r[:, l], window))\n",
    "            # disp_boxcar.append(disp_r[:, l])\n",
    "        for k in range(dxy_r.shape[1]):\n",
    "            for kk in range(data_n_len):\n",
    "                dxy_eu[kk, k] = np.linalg.norm(dxy_r[kk, k, :])\n",
    "                if kk < data_n_len - 1:\n",
    "                    b_3d = np.hstack([dxy_r[kk + 1, k, :], 0])\n",
    "                    a_3d = np.hstack([dxy_r[kk, k, :], 0])\n",
    "                    c = np.cross(b_3d, a_3d)\n",
    "                    ang[kk, k] = np.dot(np.dot(np.sign(c[2]), 180) / np.pi,\n",
    "                                        math.atan2(np.linalg.norm(c),\n",
    "                                                   np.dot(dxy_r[kk, k, :], dxy_r[kk + 1, k, :])))\n",
    "            dxy_boxcar.append(boxcar_center(dxy_eu[:, k], window))\n",
    "            ang_boxcar.append(boxcar_center(ang[:, k], window))\n",
    "            # dxy_boxcar.append(dxy_eu[:, k])\n",
    "            # ang_boxcar.append(ang[:, k])\n",
    "        disp_feat = np.array(disp_boxcar)\n",
    "        dxy_feat = np.array(dxy_boxcar)\n",
    "        ang_feat = np.array(ang_boxcar)\n",
    "        f.append(np.vstack((dxy_feat[:, 1:], ang_feat, disp_feat)))\n",
    "\n",
    "    for m in range(0, len(f)):\n",
    "        f_integrated = np.zeros(len(processed_input_data[m]))\n",
    "        for k in range(round(framerate / 10), len(f[m][0]), round(framerate / 10)):\n",
    "            if k > round(framerate / 10):\n",
    "                f_integrated = np.concatenate(\n",
    "                    (f_integrated.reshape(f_integrated.shape[0], f_integrated.shape[1]),\n",
    "                     np.hstack((np.mean((f[m][0:dxy_feat.shape[0],\n",
    "                                         range(k - round(framerate / 10), k)]), axis=1),\n",
    "                                np.sum((f[m][dxy_feat.shape[0]:f[m].shape[0],\n",
    "                                        range(k - round(framerate / 10), k)]), axis=1)\n",
    "                                )).reshape(len(f[0]), 1)), axis=1\n",
    "                )\n",
    "            else:\n",
    "                f_integrated = np.hstack(\n",
    "                    (np.mean((f[m][0:dxy_feat.shape[0], range(k - round(framerate / 10), k)]), axis=1),\n",
    "                     np.sum((f[m][dxy_feat.shape[0]:f[m].shape[0],\n",
    "                             range(k - round(framerate / 10), k)]), axis=1))).reshape(len(f[0]), 1)\n",
    "        if m > 0:\n",
    "            features = np.concatenate((features, f_integrated), axis=1)\n",
    "        else:\n",
    "            features = f_integrated\n",
    "    return f_integrated"
   ]
  },
  {
   "cell_type": "code",
   "execution_count": 9,
   "metadata": {},
   "outputs": [
    {
     "name": "stderr",
     "output_type": "stream",
     "text": [
      "C:\\Users\\Yttri-Lab\\AppData\\Local\\Temp\\ipykernel_18544\\3720120552.py:2: DtypeWarning: Columns (0,1,2,3,4,5,6,7,8,9,10,11,12,13,14,15,16,17,18) have mixed types. Specify dtype option on import or set low_memory=False.\n",
      "  df = pd.read_csv(infile)\n"
     ]
    }
   ],
   "source": [
    "infile = 'Z:\\KayCei\\VideoOutputCamera 0-27062023-092810DLC_resnet50_bottomup_clearSep21shuffle1_1030000.csv'\n",
    "df = pd.read_csv(infile)"
   ]
  },
  {
   "cell_type": "code",
   "execution_count": 10,
   "metadata": {},
   "outputs": [
    {
     "data": {
      "text/html": [
       "<div>\n",
       "<style scoped>\n",
       "    .dataframe tbody tr th:only-of-type {\n",
       "        vertical-align: middle;\n",
       "    }\n",
       "\n",
       "    .dataframe tbody tr th {\n",
       "        vertical-align: top;\n",
       "    }\n",
       "\n",
       "    .dataframe thead th {\n",
       "        text-align: right;\n",
       "    }\n",
       "</style>\n",
       "<table border=\"1\" class=\"dataframe\">\n",
       "  <thead>\n",
       "    <tr style=\"text-align: right;\">\n",
       "      <th></th>\n",
       "      <th>scorer</th>\n",
       "      <th>DLC_resnet50_bottomup_clearSep21shuffle1_1030000</th>\n",
       "      <th>DLC_resnet50_bottomup_clearSep21shuffle1_1030000.1</th>\n",
       "      <th>DLC_resnet50_bottomup_clearSep21shuffle1_1030000.2</th>\n",
       "      <th>DLC_resnet50_bottomup_clearSep21shuffle1_1030000.3</th>\n",
       "      <th>DLC_resnet50_bottomup_clearSep21shuffle1_1030000.4</th>\n",
       "      <th>DLC_resnet50_bottomup_clearSep21shuffle1_1030000.5</th>\n",
       "      <th>DLC_resnet50_bottomup_clearSep21shuffle1_1030000.6</th>\n",
       "      <th>DLC_resnet50_bottomup_clearSep21shuffle1_1030000.7</th>\n",
       "      <th>DLC_resnet50_bottomup_clearSep21shuffle1_1030000.8</th>\n",
       "      <th>DLC_resnet50_bottomup_clearSep21shuffle1_1030000.9</th>\n",
       "      <th>DLC_resnet50_bottomup_clearSep21shuffle1_1030000.10</th>\n",
       "      <th>DLC_resnet50_bottomup_clearSep21shuffle1_1030000.11</th>\n",
       "      <th>DLC_resnet50_bottomup_clearSep21shuffle1_1030000.12</th>\n",
       "      <th>DLC_resnet50_bottomup_clearSep21shuffle1_1030000.13</th>\n",
       "      <th>DLC_resnet50_bottomup_clearSep21shuffle1_1030000.14</th>\n",
       "      <th>DLC_resnet50_bottomup_clearSep21shuffle1_1030000.15</th>\n",
       "      <th>DLC_resnet50_bottomup_clearSep21shuffle1_1030000.16</th>\n",
       "      <th>DLC_resnet50_bottomup_clearSep21shuffle1_1030000.17</th>\n",
       "    </tr>\n",
       "  </thead>\n",
       "  <tbody>\n",
       "    <tr>\n",
       "      <th>0</th>\n",
       "      <td>bodyparts</td>\n",
       "      <td>snout</td>\n",
       "      <td>snout</td>\n",
       "      <td>snout</td>\n",
       "      <td>right-forepaw</td>\n",
       "      <td>right-forepaw</td>\n",
       "      <td>right-forepaw</td>\n",
       "      <td>left-forepaw</td>\n",
       "      <td>left-forepaw</td>\n",
       "      <td>left-forepaw</td>\n",
       "      <td>right-hindpaw</td>\n",
       "      <td>right-hindpaw</td>\n",
       "      <td>right-hindpaw</td>\n",
       "      <td>left-hindpaw</td>\n",
       "      <td>left-hindpaw</td>\n",
       "      <td>left-hindpaw</td>\n",
       "      <td>tail-base</td>\n",
       "      <td>tail-base</td>\n",
       "      <td>tail-base</td>\n",
       "    </tr>\n",
       "    <tr>\n",
       "      <th>1</th>\n",
       "      <td>coords</td>\n",
       "      <td>x</td>\n",
       "      <td>y</td>\n",
       "      <td>likelihood</td>\n",
       "      <td>x</td>\n",
       "      <td>y</td>\n",
       "      <td>likelihood</td>\n",
       "      <td>x</td>\n",
       "      <td>y</td>\n",
       "      <td>likelihood</td>\n",
       "      <td>x</td>\n",
       "      <td>y</td>\n",
       "      <td>likelihood</td>\n",
       "      <td>x</td>\n",
       "      <td>y</td>\n",
       "      <td>likelihood</td>\n",
       "      <td>x</td>\n",
       "      <td>y</td>\n",
       "      <td>likelihood</td>\n",
       "    </tr>\n",
       "    <tr>\n",
       "      <th>2</th>\n",
       "      <td>0</td>\n",
       "      <td>683.7763061523438</td>\n",
       "      <td>500.68756103515625</td>\n",
       "      <td>0.9999992847442627</td>\n",
       "      <td>682.2798461914062</td>\n",
       "      <td>543.3304443359375</td>\n",
       "      <td>0.9999940395355225</td>\n",
       "      <td>700.0860595703125</td>\n",
       "      <td>561.3426513671875</td>\n",
       "      <td>0.9998348951339722</td>\n",
       "      <td>663.5510864257812</td>\n",
       "      <td>557.3751220703125</td>\n",
       "      <td>0.9999860525131226</td>\n",
       "      <td>664.8436279296875</td>\n",
       "      <td>601.7637329101562</td>\n",
       "      <td>0.9999971389770508</td>\n",
       "      <td>631.6176147460938</td>\n",
       "      <td>589.6014404296875</td>\n",
       "      <td>0.9999939203262329</td>\n",
       "    </tr>\n",
       "    <tr>\n",
       "      <th>3</th>\n",
       "      <td>1</td>\n",
       "      <td>684.24560546875</td>\n",
       "      <td>500.392578125</td>\n",
       "      <td>0.999998927116394</td>\n",
       "      <td>683.3619384765625</td>\n",
       "      <td>542.7285766601562</td>\n",
       "      <td>0.9999885559082031</td>\n",
       "      <td>702.4534912109375</td>\n",
       "      <td>558.818603515625</td>\n",
       "      <td>0.9999836683273315</td>\n",
       "      <td>664.4501953125</td>\n",
       "      <td>557.2879028320312</td>\n",
       "      <td>0.9999616146087646</td>\n",
       "      <td>665.45849609375</td>\n",
       "      <td>602.2630004882812</td>\n",
       "      <td>0.9999973773956299</td>\n",
       "      <td>631.0234985351562</td>\n",
       "      <td>589.3690185546875</td>\n",
       "      <td>0.9999988079071045</td>\n",
       "    </tr>\n",
       "    <tr>\n",
       "      <th>4</th>\n",
       "      <td>2</td>\n",
       "      <td>684.6790161132812</td>\n",
       "      <td>500.3468933105469</td>\n",
       "      <td>0.9999992847442627</td>\n",
       "      <td>683.275634765625</td>\n",
       "      <td>543.0970458984375</td>\n",
       "      <td>0.9999860525131226</td>\n",
       "      <td>702.44580078125</td>\n",
       "      <td>558.0687866210938</td>\n",
       "      <td>0.9999896287918091</td>\n",
       "      <td>664.5399169921875</td>\n",
       "      <td>557.9651489257812</td>\n",
       "      <td>0.9999501705169678</td>\n",
       "      <td>665.2615356445312</td>\n",
       "      <td>602.9714965820312</td>\n",
       "      <td>0.9999967813491821</td>\n",
       "      <td>631.1380004882812</td>\n",
       "      <td>589.1498413085938</td>\n",
       "      <td>0.999998927116394</td>\n",
       "    </tr>\n",
       "    <tr>\n",
       "      <th>...</th>\n",
       "      <td>...</td>\n",
       "      <td>...</td>\n",
       "      <td>...</td>\n",
       "      <td>...</td>\n",
       "      <td>...</td>\n",
       "      <td>...</td>\n",
       "      <td>...</td>\n",
       "      <td>...</td>\n",
       "      <td>...</td>\n",
       "      <td>...</td>\n",
       "      <td>...</td>\n",
       "      <td>...</td>\n",
       "      <td>...</td>\n",
       "      <td>...</td>\n",
       "      <td>...</td>\n",
       "      <td>...</td>\n",
       "      <td>...</td>\n",
       "      <td>...</td>\n",
       "      <td>...</td>\n",
       "    </tr>\n",
       "    <tr>\n",
       "      <th>118837</th>\n",
       "      <td>118835</td>\n",
       "      <td>343.998871</td>\n",
       "      <td>595.079041</td>\n",
       "      <td>0.14976</td>\n",
       "      <td>329.193695</td>\n",
       "      <td>586.031677</td>\n",
       "      <td>0.999763</td>\n",
       "      <td>330.713409</td>\n",
       "      <td>595.607788</td>\n",
       "      <td>0.999944</td>\n",
       "      <td>299.266541</td>\n",
       "      <td>568.322632</td>\n",
       "      <td>0.999999</td>\n",
       "      <td>306.718719</td>\n",
       "      <td>603.800842</td>\n",
       "      <td>0.999998</td>\n",
       "      <td>260.935425</td>\n",
       "      <td>569.634155</td>\n",
       "      <td>0.999999</td>\n",
       "    </tr>\n",
       "    <tr>\n",
       "      <th>118838</th>\n",
       "      <td>118836</td>\n",
       "      <td>344.303162</td>\n",
       "      <td>594.466248</td>\n",
       "      <td>0.165518</td>\n",
       "      <td>328.777496</td>\n",
       "      <td>585.25293</td>\n",
       "      <td>0.9997</td>\n",
       "      <td>331.973969</td>\n",
       "      <td>595.049133</td>\n",
       "      <td>0.999925</td>\n",
       "      <td>298.638489</td>\n",
       "      <td>568.470459</td>\n",
       "      <td>0.999999</td>\n",
       "      <td>307.432526</td>\n",
       "      <td>604.421143</td>\n",
       "      <td>0.999998</td>\n",
       "      <td>260.625732</td>\n",
       "      <td>569.857422</td>\n",
       "      <td>0.999999</td>\n",
       "    </tr>\n",
       "    <tr>\n",
       "      <th>118839</th>\n",
       "      <td>118837</td>\n",
       "      <td>344.075287</td>\n",
       "      <td>595.058777</td>\n",
       "      <td>0.406713</td>\n",
       "      <td>328.589264</td>\n",
       "      <td>585.034119</td>\n",
       "      <td>0.999699</td>\n",
       "      <td>332.068542</td>\n",
       "      <td>594.917664</td>\n",
       "      <td>0.999915</td>\n",
       "      <td>298.72345</td>\n",
       "      <td>568.304077</td>\n",
       "      <td>0.999999</td>\n",
       "      <td>307.172058</td>\n",
       "      <td>604.40033</td>\n",
       "      <td>0.999998</td>\n",
       "      <td>260.606232</td>\n",
       "      <td>570.308167</td>\n",
       "      <td>0.999998</td>\n",
       "    </tr>\n",
       "    <tr>\n",
       "      <th>118840</th>\n",
       "      <td>118838</td>\n",
       "      <td>344.174988</td>\n",
       "      <td>594.75647</td>\n",
       "      <td>0.331331</td>\n",
       "      <td>328.698669</td>\n",
       "      <td>585.20105</td>\n",
       "      <td>0.999706</td>\n",
       "      <td>332.049713</td>\n",
       "      <td>594.941345</td>\n",
       "      <td>0.99994</td>\n",
       "      <td>298.805542</td>\n",
       "      <td>568.23407</td>\n",
       "      <td>0.999999</td>\n",
       "      <td>307.120514</td>\n",
       "      <td>604.299316</td>\n",
       "      <td>0.999999</td>\n",
       "      <td>260.647247</td>\n",
       "      <td>569.757751</td>\n",
       "      <td>0.999999</td>\n",
       "    </tr>\n",
       "    <tr>\n",
       "      <th>118841</th>\n",
       "      <td>118839</td>\n",
       "      <td>344.218567</td>\n",
       "      <td>594.962708</td>\n",
       "      <td>0.583031</td>\n",
       "      <td>328.523712</td>\n",
       "      <td>584.666138</td>\n",
       "      <td>0.999615</td>\n",
       "      <td>331.658905</td>\n",
       "      <td>594.259216</td>\n",
       "      <td>0.999937</td>\n",
       "      <td>298.753937</td>\n",
       "      <td>568.450989</td>\n",
       "      <td>0.999999</td>\n",
       "      <td>307.200806</td>\n",
       "      <td>604.49292</td>\n",
       "      <td>0.999998</td>\n",
       "      <td>260.51828</td>\n",
       "      <td>570.142273</td>\n",
       "      <td>0.999997</td>\n",
       "    </tr>\n",
       "  </tbody>\n",
       "</table>\n",
       "<p>118842 rows × 19 columns</p>\n",
       "</div>"
      ],
      "text/plain": [
       "           scorer DLC_resnet50_bottomup_clearSep21shuffle1_1030000  \\\n",
       "0       bodyparts                                            snout   \n",
       "1          coords                                                x   \n",
       "2               0                                683.7763061523438   \n",
       "3               1                                  684.24560546875   \n",
       "4               2                                684.6790161132812   \n",
       "...           ...                                              ...   \n",
       "118837     118835                                       343.998871   \n",
       "118838     118836                                       344.303162   \n",
       "118839     118837                                       344.075287   \n",
       "118840     118838                                       344.174988   \n",
       "118841     118839                                       344.218567   \n",
       "\n",
       "       DLC_resnet50_bottomup_clearSep21shuffle1_1030000.1  \\\n",
       "0                                                   snout   \n",
       "1                                                       y   \n",
       "2                                      500.68756103515625   \n",
       "3                                           500.392578125   \n",
       "4                                       500.3468933105469   \n",
       "...                                                   ...   \n",
       "118837                                         595.079041   \n",
       "118838                                         594.466248   \n",
       "118839                                         595.058777   \n",
       "118840                                          594.75647   \n",
       "118841                                         594.962708   \n",
       "\n",
       "       DLC_resnet50_bottomup_clearSep21shuffle1_1030000.2  \\\n",
       "0                                                   snout   \n",
       "1                                              likelihood   \n",
       "2                                      0.9999992847442627   \n",
       "3                                       0.999998927116394   \n",
       "4                                      0.9999992847442627   \n",
       "...                                                   ...   \n",
       "118837                                            0.14976   \n",
       "118838                                           0.165518   \n",
       "118839                                           0.406713   \n",
       "118840                                           0.331331   \n",
       "118841                                           0.583031   \n",
       "\n",
       "       DLC_resnet50_bottomup_clearSep21shuffle1_1030000.3  \\\n",
       "0                                           right-forepaw   \n",
       "1                                                       x   \n",
       "2                                       682.2798461914062   \n",
       "3                                       683.3619384765625   \n",
       "4                                        683.275634765625   \n",
       "...                                                   ...   \n",
       "118837                                         329.193695   \n",
       "118838                                         328.777496   \n",
       "118839                                         328.589264   \n",
       "118840                                         328.698669   \n",
       "118841                                         328.523712   \n",
       "\n",
       "       DLC_resnet50_bottomup_clearSep21shuffle1_1030000.4  \\\n",
       "0                                           right-forepaw   \n",
       "1                                                       y   \n",
       "2                                       543.3304443359375   \n",
       "3                                       542.7285766601562   \n",
       "4                                       543.0970458984375   \n",
       "...                                                   ...   \n",
       "118837                                         586.031677   \n",
       "118838                                          585.25293   \n",
       "118839                                         585.034119   \n",
       "118840                                          585.20105   \n",
       "118841                                         584.666138   \n",
       "\n",
       "       DLC_resnet50_bottomup_clearSep21shuffle1_1030000.5  \\\n",
       "0                                           right-forepaw   \n",
       "1                                              likelihood   \n",
       "2                                      0.9999940395355225   \n",
       "3                                      0.9999885559082031   \n",
       "4                                      0.9999860525131226   \n",
       "...                                                   ...   \n",
       "118837                                           0.999763   \n",
       "118838                                             0.9997   \n",
       "118839                                           0.999699   \n",
       "118840                                           0.999706   \n",
       "118841                                           0.999615   \n",
       "\n",
       "       DLC_resnet50_bottomup_clearSep21shuffle1_1030000.6  \\\n",
       "0                                            left-forepaw   \n",
       "1                                                       x   \n",
       "2                                       700.0860595703125   \n",
       "3                                       702.4534912109375   \n",
       "4                                         702.44580078125   \n",
       "...                                                   ...   \n",
       "118837                                         330.713409   \n",
       "118838                                         331.973969   \n",
       "118839                                         332.068542   \n",
       "118840                                         332.049713   \n",
       "118841                                         331.658905   \n",
       "\n",
       "       DLC_resnet50_bottomup_clearSep21shuffle1_1030000.7  \\\n",
       "0                                            left-forepaw   \n",
       "1                                                       y   \n",
       "2                                       561.3426513671875   \n",
       "3                                        558.818603515625   \n",
       "4                                       558.0687866210938   \n",
       "...                                                   ...   \n",
       "118837                                         595.607788   \n",
       "118838                                         595.049133   \n",
       "118839                                         594.917664   \n",
       "118840                                         594.941345   \n",
       "118841                                         594.259216   \n",
       "\n",
       "       DLC_resnet50_bottomup_clearSep21shuffle1_1030000.8  \\\n",
       "0                                            left-forepaw   \n",
       "1                                              likelihood   \n",
       "2                                      0.9998348951339722   \n",
       "3                                      0.9999836683273315   \n",
       "4                                      0.9999896287918091   \n",
       "...                                                   ...   \n",
       "118837                                           0.999944   \n",
       "118838                                           0.999925   \n",
       "118839                                           0.999915   \n",
       "118840                                            0.99994   \n",
       "118841                                           0.999937   \n",
       "\n",
       "       DLC_resnet50_bottomup_clearSep21shuffle1_1030000.9  \\\n",
       "0                                           right-hindpaw   \n",
       "1                                                       x   \n",
       "2                                       663.5510864257812   \n",
       "3                                          664.4501953125   \n",
       "4                                       664.5399169921875   \n",
       "...                                                   ...   \n",
       "118837                                         299.266541   \n",
       "118838                                         298.638489   \n",
       "118839                                          298.72345   \n",
       "118840                                         298.805542   \n",
       "118841                                         298.753937   \n",
       "\n",
       "       DLC_resnet50_bottomup_clearSep21shuffle1_1030000.10  \\\n",
       "0                                           right-hindpaw    \n",
       "1                                                       y    \n",
       "2                                       557.3751220703125    \n",
       "3                                       557.2879028320312    \n",
       "4                                       557.9651489257812    \n",
       "...                                                   ...    \n",
       "118837                                         568.322632    \n",
       "118838                                         568.470459    \n",
       "118839                                         568.304077    \n",
       "118840                                          568.23407    \n",
       "118841                                         568.450989    \n",
       "\n",
       "       DLC_resnet50_bottomup_clearSep21shuffle1_1030000.11  \\\n",
       "0                                           right-hindpaw    \n",
       "1                                              likelihood    \n",
       "2                                      0.9999860525131226    \n",
       "3                                      0.9999616146087646    \n",
       "4                                      0.9999501705169678    \n",
       "...                                                   ...    \n",
       "118837                                           0.999999    \n",
       "118838                                           0.999999    \n",
       "118839                                           0.999999    \n",
       "118840                                           0.999999    \n",
       "118841                                           0.999999    \n",
       "\n",
       "       DLC_resnet50_bottomup_clearSep21shuffle1_1030000.12  \\\n",
       "0                                            left-hindpaw    \n",
       "1                                                       x    \n",
       "2                                       664.8436279296875    \n",
       "3                                         665.45849609375    \n",
       "4                                       665.2615356445312    \n",
       "...                                                   ...    \n",
       "118837                                         306.718719    \n",
       "118838                                         307.432526    \n",
       "118839                                         307.172058    \n",
       "118840                                         307.120514    \n",
       "118841                                         307.200806    \n",
       "\n",
       "       DLC_resnet50_bottomup_clearSep21shuffle1_1030000.13  \\\n",
       "0                                            left-hindpaw    \n",
       "1                                                       y    \n",
       "2                                       601.7637329101562    \n",
       "3                                       602.2630004882812    \n",
       "4                                       602.9714965820312    \n",
       "...                                                   ...    \n",
       "118837                                         603.800842    \n",
       "118838                                         604.421143    \n",
       "118839                                          604.40033    \n",
       "118840                                         604.299316    \n",
       "118841                                          604.49292    \n",
       "\n",
       "       DLC_resnet50_bottomup_clearSep21shuffle1_1030000.14  \\\n",
       "0                                            left-hindpaw    \n",
       "1                                              likelihood    \n",
       "2                                      0.9999971389770508    \n",
       "3                                      0.9999973773956299    \n",
       "4                                      0.9999967813491821    \n",
       "...                                                   ...    \n",
       "118837                                           0.999998    \n",
       "118838                                           0.999998    \n",
       "118839                                           0.999998    \n",
       "118840                                           0.999999    \n",
       "118841                                           0.999998    \n",
       "\n",
       "       DLC_resnet50_bottomup_clearSep21shuffle1_1030000.15  \\\n",
       "0                                               tail-base    \n",
       "1                                                       x    \n",
       "2                                       631.6176147460938    \n",
       "3                                       631.0234985351562    \n",
       "4                                       631.1380004882812    \n",
       "...                                                   ...    \n",
       "118837                                         260.935425    \n",
       "118838                                         260.625732    \n",
       "118839                                         260.606232    \n",
       "118840                                         260.647247    \n",
       "118841                                          260.51828    \n",
       "\n",
       "       DLC_resnet50_bottomup_clearSep21shuffle1_1030000.16  \\\n",
       "0                                               tail-base    \n",
       "1                                                       y    \n",
       "2                                       589.6014404296875    \n",
       "3                                       589.3690185546875    \n",
       "4                                       589.1498413085938    \n",
       "...                                                   ...    \n",
       "118837                                         569.634155    \n",
       "118838                                         569.857422    \n",
       "118839                                         570.308167    \n",
       "118840                                         569.757751    \n",
       "118841                                         570.142273    \n",
       "\n",
       "       DLC_resnet50_bottomup_clearSep21shuffle1_1030000.17  \n",
       "0                                               tail-base   \n",
       "1                                              likelihood   \n",
       "2                                      0.9999939203262329   \n",
       "3                                      0.9999988079071045   \n",
       "4                                       0.999998927116394   \n",
       "...                                                   ...   \n",
       "118837                                           0.999999   \n",
       "118838                                           0.999999   \n",
       "118839                                           0.999998   \n",
       "118840                                           0.999999   \n",
       "118841                                           0.999997   \n",
       "\n",
       "[118842 rows x 19 columns]"
      ]
     },
     "execution_count": 10,
     "metadata": {},
     "output_type": "execute_result"
    }
   ],
   "source": [
    "df"
   ]
  },
  {
   "cell_type": "code",
   "execution_count": 11,
   "metadata": {},
   "outputs": [
    {
     "name": "stderr",
     "output_type": "stream",
     "text": [
      "C:\\Users\\Yttri-Lab\\anaconda3\\lib\\site-packages\\sklearn\\base.py:329: UserWarning: Trying to unpickle estimator DecisionTreeClassifier from version 1.1.3 when using version 0.23.2. This might lead to breaking code or invalid results. Use at your own risk.\n",
      "  warnings.warn(\n",
      "C:\\Users\\Yttri-Lab\\anaconda3\\lib\\site-packages\\sklearn\\base.py:329: UserWarning: Trying to unpickle estimator RandomForestClassifier from version 1.1.3 when using version 0.23.2. This might lead to breaking code or invalid results. Use at your own risk.\n",
      "  warnings.warn(\n"
     ]
    }
   ],
   "source": [
    "with open('../../../model/clf.pkl', 'rb') as fr:\n",
    "    clf = pickle.load(fr)"
   ]
  },
  {
   "cell_type": "code",
   "execution_count": 12,
   "metadata": {},
   "outputs": [
    {
     "name": "stderr",
     "output_type": "stream",
     "text": [
      "100%|██████████| 6/6 [00:04<00:00,  1.31it/s]\n"
     ]
    }
   ],
   "source": [
    "# filter likelihood (smoothing)\n",
    "csv_array_filtered, perc_filtered = adp_filt(df, np.arange(18))\n",
    "f_integrated = feature_extraction([csv_array_filtered.copy()])"
   ]
  },
  {
   "cell_type": "code",
   "execution_count": 13,
   "metadata": {},
   "outputs": [],
   "source": [
    "X = f_integrated.T.copy()\n",
    "predictions = clf.predict(X)"
   ]
  },
  {
   "cell_type": "code",
   "execution_count": 22,
   "metadata": {},
   "outputs": [
    {
     "name": "stdout",
     "output_type": "stream",
     "text": [
      "face groom has 10 bouts within 0.0s-->300.0s\n"
     ]
    }
   ],
   "source": [
    "# 100ms, so 3000 * 0.1s is actually 300s\n",
    "class_of_interest = 3 # locomotion\n",
    "behavior_names = ['left', 'right', 'locomotion', 'face groom', 'other grooms', 'all other']\n",
    "start = 0 \n",
    "stop = 3000\n",
    "\n",
    "first_5min_pred = predictions[start:stop] # first 5 minutes (300*10 at 10fps)\n",
    "idx_end = np.hstack([np.where(np.diff(first_5min_pred) != 0)[0], len(first_5min_pred)-1])\n",
    "class_id, class_count = np.unique(first_5min_pred[idx_end], return_counts=True)\n",
    "print(f'{behavior_names[class_of_interest]} has {class_count[class_of_interest]} bouts within {start/10}s-->{stop/10}s')"
   ]
  },
  {
   "cell_type": "code",
   "execution_count": null,
   "metadata": {},
   "outputs": [],
   "source": []
  },
  {
   "cell_type": "code",
   "execution_count": null,
   "metadata": {},
   "outputs": [],
   "source": []
  },
  {
   "cell_type": "code",
   "execution_count": null,
   "metadata": {},
   "outputs": [],
   "source": []
  },
  {
   "cell_type": "code",
   "execution_count": null,
   "metadata": {},
   "outputs": [],
   "source": []
  },
  {
   "cell_type": "code",
   "execution_count": 23,
   "metadata": {},
   "outputs": [],
   "source": [
    "fileoutname = str.join('', (infile.rpartition('DLC')[0], '_posthoc-predictions.npy'))\n",
    "np.save(fileoutname, predictions)"
   ]
  },
  {
   "cell_type": "code",
   "execution_count": 53,
   "metadata": {},
   "outputs": [
    {
     "data": {
      "text/plain": [
       "array([5., 5., 5., ..., 5., 5., 5.])"
      ]
     },
     "execution_count": 53,
     "metadata": {},
     "output_type": "execute_result"
    }
   ],
   "source": [
    "predictions #  100ms"
   ]
  },
  {
   "cell_type": "code",
   "execution_count": 54,
   "metadata": {},
   "outputs": [],
   "source": [
    "realtime_vector = np.load('../../../raw_data/realtime_vector.npy')"
   ]
  },
  {
   "cell_type": "code",
   "execution_count": 55,
   "metadata": {},
   "outputs": [],
   "source": [
    "realtime_vector_s = realtime_vector*10"
   ]
  },
  {
   "cell_type": "code",
   "execution_count": 56,
   "metadata": {},
   "outputs": [],
   "source": [
    "realtime_vector_int = np.int64(realtime_vector_s)"
   ]
  },
  {
   "cell_type": "code",
   "execution_count": 57,
   "metadata": {},
   "outputs": [
    {
     "data": {
      "text/plain": [
       "array([  144,   187,   393,   411,   420,   430,   434,   440,   473,\n",
       "         587,   620,   747,   750,   841,  1056,  1120,  1496,  1672,\n",
       "        1692,  1696,  1819,  1824,  1954,  1984,  2109,  2155,  2161,\n",
       "        2179,  2209,  2338,  2592,  2596,  2686,  2866,  2924,  3038,\n",
       "        3131,  3213,  3249,  3316,  3321,  3325,  3328,  3342,  4028,\n",
       "        4176,  4270,  4323,  4478,  4485,  4534,  4550,  4597,  4708,\n",
       "        4755,  4794,  4845,  5002,  5170,  5281,  5299,  5757,  5931,\n",
       "        6048,  6090,  6125,  7028,  7092,  7107,  7387,  7391,  7800,\n",
       "        7952,  7954,  8108,  8246,  8429,  8593,  8597,  8793,  8999,\n",
       "        9022,  9314,  9394,  9495,  9510,  9639,  9723,  9734, 10009,\n",
       "       10046, 10062, 10325, 10327, 10358, 10399, 10516, 10524, 10667,\n",
       "       10712, 11085, 11239, 11302, 11309, 11351, 11433, 11465, 11469,\n",
       "       11572, 11752, 11754, 12359, 12439, 12729, 12821, 12855, 13310,\n",
       "       13353, 13433, 13551, 13590, 13679, 13821, 13834, 13848, 14659,\n",
       "       14722, 14729, 14738, 14991, 15056, 15382, 15387, 15428, 15645,\n",
       "       15648, 15927, 15936, 15941, 15972, 16103, 16105, 16186, 16303,\n",
       "       16334, 16460, 16755, 16792, 16798, 16854, 16920, 16926, 16980,\n",
       "       18433, 18504, 18537, 18542, 18552, 18572, 18585, 18589, 18618,\n",
       "       19012, 19045, 19197, 19358, 19396, 19585, 19693, 19698, 19715,\n",
       "       19728, 19778, 19839, 19984, 20047, 20133, 20135, 20261, 20265,\n",
       "       20346, 20425, 20528, 20544, 20720, 20737, 20784, 20791, 20805,\n",
       "       20818, 20903, 20935, 21639, 21645, 21709, 21821, 21832, 21877,\n",
       "       22304, 22824, 22882, 22932, 22964, 22966, 22968, 23136, 23160,\n",
       "       23165, 23186, 23412, 23722, 23815, 23950, 24037, 24107, 24117,\n",
       "       24122, 24128, 24139, 24144, 24177, 24199, 24214, 24232, 24240,\n",
       "       24465, 24620, 24697, 24719, 25113, 25122, 25240, 25274, 25281,\n",
       "       25419, 25422, 25442, 25450, 25569, 25610, 25779, 25783, 25792,\n",
       "       25891, 25922, 26174, 26191, 27599, 27668, 27675, 27806, 27823,\n",
       "       27916, 28049, 28144, 28177, 28188, 28201, 28222, 28233, 28270,\n",
       "       28324, 28339, 28345, 28348, 28352, 28581, 28625, 28639, 28648,\n",
       "       28661, 28693, 28806, 28828, 28897, 29005, 29153, 29163, 29265,\n",
       "       29296, 29375, 29584, 29588, 29592], dtype=int64)"
      ]
     },
     "execution_count": 57,
     "metadata": {},
     "output_type": "execute_result"
    }
   ],
   "source": [
    "realtime_vector_int"
   ]
  },
  {
   "cell_type": "code",
   "execution_count": 58,
   "metadata": {},
   "outputs": [
    {
     "data": {
      "text/plain": [
       "[5.0,\n",
       " 5.0,\n",
       " 5.0,\n",
       " 5.0,\n",
       " 2.0,\n",
       " 2.0,\n",
       " 1.0,\n",
       " 2.0,\n",
       " 1.0,\n",
       " 5.0,\n",
       " 2.0,\n",
       " 5.0,\n",
       " 5.0,\n",
       " 1.0,\n",
       " 5.0,\n",
       " 5.0,\n",
       " 5.0,\n",
       " 5.0,\n",
       " 5.0,\n",
       " 5.0,\n",
       " 1.0,\n",
       " 5.0,\n",
       " 5.0,\n",
       " 5.0,\n",
       " 5.0,\n",
       " 5.0,\n",
       " 5.0,\n",
       " 5.0,\n",
       " 5.0,\n",
       " 5.0,\n",
       " 5.0,\n",
       " 5.0,\n",
       " 2.0,\n",
       " 5.0,\n",
       " 5.0,\n",
       " 5.0,\n",
       " 5.0,\n",
       " 5.0,\n",
       " 0.0,\n",
       " 5.0,\n",
       " 5.0,\n",
       " 2.0,\n",
       " 2.0,\n",
       " 5.0,\n",
       " 5.0,\n",
       " 5.0,\n",
       " 5.0,\n",
       " 5.0,\n",
       " 5.0,\n",
       " 5.0,\n",
       " 5.0,\n",
       " 5.0,\n",
       " 2.0,\n",
       " 5.0,\n",
       " 5.0,\n",
       " 5.0,\n",
       " 5.0,\n",
       " 5.0,\n",
       " 5.0,\n",
       " 5.0,\n",
       " 5.0,\n",
       " 5.0,\n",
       " 5.0,\n",
       " 5.0,\n",
       " 2.0,\n",
       " 2.0,\n",
       " 1.0,\n",
       " 5.0,\n",
       " 2.0,\n",
       " 5.0,\n",
       " 5.0,\n",
       " 5.0,\n",
       " 2.0,\n",
       " 2.0,\n",
       " 5.0,\n",
       " 5.0,\n",
       " 5.0,\n",
       " 5.0,\n",
       " 5.0,\n",
       " 5.0,\n",
       " 5.0,\n",
       " 5.0,\n",
       " 5.0,\n",
       " 5.0,\n",
       " 5.0,\n",
       " 5.0,\n",
       " 5.0,\n",
       " 5.0,\n",
       " 5.0,\n",
       " 5.0,\n",
       " 5.0,\n",
       " 5.0,\n",
       " 5.0,\n",
       " 5.0,\n",
       " 5.0,\n",
       " 5.0,\n",
       " 5.0,\n",
       " 5.0,\n",
       " 5.0,\n",
       " 5.0,\n",
       " 5.0,\n",
       " 5.0,\n",
       " 5.0,\n",
       " 5.0,\n",
       " 4.0,\n",
       " 3.0,\n",
       " 4.0,\n",
       " 4.0,\n",
       " 4.0,\n",
       " 3.0,\n",
       " 3.0,\n",
       " 5.0,\n",
       " 4.0,\n",
       " 5.0,\n",
       " 5.0,\n",
       " 5.0,\n",
       " 4.0,\n",
       " 4.0,\n",
       " 4.0,\n",
       " 5.0,\n",
       " 5.0,\n",
       " 5.0,\n",
       " 5.0,\n",
       " 5.0,\n",
       " 5.0,\n",
       " 5.0,\n",
       " 5.0,\n",
       " 2.0,\n",
       " 2.0,\n",
       " 5.0,\n",
       " 5.0,\n",
       " 5.0,\n",
       " 5.0,\n",
       " 2.0,\n",
       " 0.0,\n",
       " 2.0,\n",
       " 5.0,\n",
       " 5.0,\n",
       " 5.0,\n",
       " 5.0,\n",
       " 5.0,\n",
       " 5.0,\n",
       " 5.0,\n",
       " 5.0,\n",
       " 5.0,\n",
       " 5.0,\n",
       " 3.0,\n",
       " 5.0,\n",
       " 5.0,\n",
       " 5.0,\n",
       " 3.0,\n",
       " 5.0,\n",
       " 5.0,\n",
       " 4.0,\n",
       " 5.0,\n",
       " 5.0,\n",
       " 5.0,\n",
       " 5.0,\n",
       " 5.0,\n",
       " 5.0,\n",
       " 5.0,\n",
       " 5.0,\n",
       " 5.0,\n",
       " 5.0,\n",
       " 4.0,\n",
       " 4.0,\n",
       " 4.0,\n",
       " 3.0,\n",
       " 3.0,\n",
       " 3.0,\n",
       " 3.0,\n",
       " 3.0,\n",
       " 3.0,\n",
       " 3.0,\n",
       " 3.0,\n",
       " 5.0,\n",
       " 3.0,\n",
       " 3.0,\n",
       " 4.0,\n",
       " 4.0,\n",
       " 3.0,\n",
       " 4.0,\n",
       " 5.0,\n",
       " 5.0,\n",
       " 5.0,\n",
       " 5.0,\n",
       " 5.0,\n",
       " 5.0,\n",
       " 5.0,\n",
       " 5.0,\n",
       " 4.0,\n",
       " 4.0,\n",
       " 4.0,\n",
       " 5.0,\n",
       " 5.0,\n",
       " 3.0,\n",
       " 3.0,\n",
       " 4.0,\n",
       " 5.0,\n",
       " 5.0,\n",
       " 5.0,\n",
       " 5.0,\n",
       " 4.0,\n",
       " 3.0,\n",
       " 5.0,\n",
       " 5.0,\n",
       " 0.0,\n",
       " 5.0,\n",
       " 2.0,\n",
       " 5.0,\n",
       " 5.0,\n",
       " 5.0,\n",
       " 5.0,\n",
       " 5.0,\n",
       " 5.0,\n",
       " 5.0,\n",
       " 5.0,\n",
       " 5.0,\n",
       " 5.0,\n",
       " 5.0,\n",
       " 5.0,\n",
       " 5.0,\n",
       " 5.0,\n",
       " 5.0,\n",
       " 5.0,\n",
       " 5.0,\n",
       " 5.0,\n",
       " 3.0,\n",
       " 5.0,\n",
       " 5.0,\n",
       " 5.0,\n",
       " 5.0,\n",
       " 5.0,\n",
       " 5.0,\n",
       " 5.0,\n",
       " 5.0,\n",
       " 5.0,\n",
       " 5.0,\n",
       " 5.0,\n",
       " 5.0,\n",
       " 5.0,\n",
       " 5.0,\n",
       " 5.0,\n",
       " 5.0,\n",
       " 5.0,\n",
       " 5.0,\n",
       " 5.0,\n",
       " 5.0,\n",
       " 5.0,\n",
       " 5.0,\n",
       " 5.0,\n",
       " 5.0,\n",
       " 5.0,\n",
       " 5.0,\n",
       " 5.0,\n",
       " 5.0,\n",
       " 5.0,\n",
       " 5.0,\n",
       " 5.0,\n",
       " 5.0,\n",
       " 5.0,\n",
       " 5.0,\n",
       " 5.0,\n",
       " 5.0,\n",
       " 5.0,\n",
       " 5.0,\n",
       " 5.0,\n",
       " 5.0,\n",
       " 5.0,\n",
       " 5.0,\n",
       " 5.0,\n",
       " 5.0,\n",
       " 5.0,\n",
       " 5.0,\n",
       " 5.0,\n",
       " 5.0,\n",
       " 5.0,\n",
       " 5.0,\n",
       " 5.0,\n",
       " 5.0,\n",
       " 5.0,\n",
       " 5.0,\n",
       " 5.0,\n",
       " 5.0]"
      ]
     },
     "execution_count": 58,
     "metadata": {},
     "output_type": "execute_result"
    }
   ],
   "source": [
    "[predictions[i] for i in realtime_vector_int+3]"
   ]
  },
  {
   "cell_type": "code",
   "execution_count": null,
   "metadata": {},
   "outputs": [],
   "source": []
  },
  {
   "cell_type": "code",
   "execution_count": 59,
   "metadata": {},
   "outputs": [
    {
     "data": {
      "text/plain": [
       "0.06338028169014084"
      ]
     },
     "execution_count": 59,
     "metadata": {},
     "output_type": "execute_result"
    }
   ],
   "source": [
    "len(np.where(np.array([predictions[i] for i in realtime_vector_int])==2)[0])/len([predictions[i] for i in realtime_vector_int])"
   ]
  },
  {
   "cell_type": "code",
   "execution_count": 60,
   "metadata": {},
   "outputs": [
    {
     "data": {
      "text/plain": [
       "array([ 85, 100, 106, 109, 110, 143, 167, 168, 169, 170, 171, 172, 173,\n",
       "       174, 175, 176, 177, 180, 194, 195, 196, 202, 203, 227], dtype=int64)"
      ]
     },
     "execution_count": 60,
     "metadata": {},
     "output_type": "execute_result"
    }
   ],
   "source": [
    "np.where(np.array([predictions[i] for i in realtime_vector_int])==3)[0]"
   ]
  },
  {
   "cell_type": "code",
   "execution_count": 61,
   "metadata": {},
   "outputs": [
    {
     "data": {
      "text/plain": [
       "284"
      ]
     },
     "execution_count": 61,
     "metadata": {},
     "output_type": "execute_result"
    }
   ],
   "source": [
    "len([predictions[i] for i in realtime_vector_int])"
   ]
  },
  {
   "cell_type": "code",
   "execution_count": 62,
   "metadata": {},
   "outputs": [
    {
     "name": "stdout",
     "output_type": "stream",
     "text": [
      "[5. 1. 1. 5. 5. 5. 5. 5. 5. 1. 1. 1. 1. 5. 5. 5. 5. 5. 5. 5. 5. 5. 5. 5.\n",
      " 5. 2. 5. 5. 5. 5. 1. 1. 2. 2. 2. 2. 2. 2. 2. 2. 2. 2. 2. 2. 2. 2. 2. 2.\n",
      " 2. 2. 5. 5. 5. 5. 5. 5. 5. 5. 5. 5. 5. 5. 5. 5. 5. 5. 5. 5. 5. 5. 5. 5.\n",
      " 5. 5. 5. 5. 5. 5. 5. 5. 5. 5. 5. 5. 5. 5. 5.]\n"
     ]
    }
   ],
   "source": [
    "print(first_5min_pred[-87:])"
   ]
  },
  {
   "cell_type": "code",
   "execution_count": 63,
   "metadata": {},
   "outputs": [
    {
     "name": "stdout",
     "output_type": "stream",
     "text": [
      "(3000,) (2999,)\n"
     ]
    }
   ],
   "source": [
    "first_5min_pred = predictions[:3000] # first 5 minutes (300*10 at 10fps)\n",
    "print(first_5min_pred.shape, np.diff(first_5min_pred).shape)\n",
    "idx_end = np.hstack([np.where(np.diff(first_5min_pred) != 0)[0], len(first_5min_pred)-1])\n",
    "\n",
    "# np."
   ]
  },
  {
   "cell_type": "code",
   "execution_count": 64,
   "metadata": {},
   "outputs": [
    {
     "data": {
      "text/plain": [
       "array([5., 5., 5., ..., 5., 5., 5.])"
      ]
     },
     "execution_count": 64,
     "metadata": {},
     "output_type": "execute_result"
    }
   ],
   "source": [
    "predictions"
   ]
  },
  {
   "cell_type": "code",
   "execution_count": 65,
   "metadata": {},
   "outputs": [
    {
     "name": "stdout",
     "output_type": "stream",
     "text": [
      "(3000,) (2999,)\n"
     ]
    }
   ],
   "source": [
    "since_40min_pred = predictions[15000:18000] # first 5 minutes (300*10 at 10fps)\n",
    "print(since_40min_pred.shape, np.diff(since_40min_pred).shape)\n",
    "idx_end = np.hstack([np.where(np.diff(since_40min_pred) != 0)[0], len(since_40min_pred)-1])\n",
    "\n",
    "# np."
   ]
  },
  {
   "cell_type": "code",
   "execution_count": 66,
   "metadata": {},
   "outputs": [
    {
     "data": {
      "text/plain": [
       "15.0"
      ]
     },
     "execution_count": 66,
     "metadata": {},
     "output_type": "execute_result"
    }
   ],
   "source": [
    "9000/(10*60)"
   ]
  },
  {
   "cell_type": "code",
   "execution_count": 67,
   "metadata": {},
   "outputs": [
    {
     "data": {
      "text/plain": [
       "292"
      ]
     },
     "execution_count": 67,
     "metadata": {},
     "output_type": "execute_result"
    }
   ],
   "source": [
    "len(idx_end)"
   ]
  },
  {
   "cell_type": "code",
   "execution_count": 68,
   "metadata": {},
   "outputs": [
    {
     "data": {
      "text/plain": [
       "array([5., 5.])"
      ]
     },
     "execution_count": 68,
     "metadata": {},
     "output_type": "execute_result"
    }
   ],
   "source": [
    "first_5min_pred[idx_end[-2:]]"
   ]
  },
  {
   "cell_type": "code",
   "execution_count": 69,
   "metadata": {},
   "outputs": [
    {
     "data": {
      "text/plain": [
       "0.7"
      ]
     },
     "execution_count": 69,
     "metadata": {},
     "output_type": "execute_result"
    }
   ],
   "source": [
    "35/50"
   ]
  },
  {
   "cell_type": "code",
   "execution_count": 70,
   "metadata": {},
   "outputs": [
    {
     "data": {
      "text/plain": [
       "0.7894736842105263"
      ]
     },
     "execution_count": 70,
     "metadata": {},
     "output_type": "execute_result"
    }
   ],
   "source": [
    "30/38"
   ]
  },
  {
   "cell_type": "code",
   "execution_count": 71,
   "metadata": {},
   "outputs": [
    {
     "data": {
      "text/plain": [
       "0.3736842105263158"
      ]
     },
     "execution_count": 71,
     "metadata": {},
     "output_type": "execute_result"
    }
   ],
   "source": [
    "71/190"
   ]
  },
  {
   "cell_type": "code",
   "execution_count": 72,
   "metadata": {},
   "outputs": [
    {
     "data": {
      "text/plain": [
       "(array([0., 1., 2., 5.]), array([  2,   6,  38, 246], dtype=int64))"
      ]
     },
     "execution_count": 72,
     "metadata": {},
     "output_type": "execute_result"
    }
   ],
   "source": [
    "np.unique(first_5min_pred[idx_end], return_counts=True)"
   ]
  },
  {
   "cell_type": "code",
   "execution_count": 73,
   "metadata": {},
   "outputs": [
    {
     "data": {
      "text/plain": [
       "(array([0., 1., 2., 3., 4., 5.]),\n",
       " array([ 16,  10,  25,  80,  21, 140], dtype=int64))"
      ]
     },
     "execution_count": 73,
     "metadata": {},
     "output_type": "execute_result"
    }
   ],
   "source": [
    "np.unique(since_40min_pred[idx_end], return_counts=True)"
   ]
  },
  {
   "cell_type": "code",
   "execution_count": 74,
   "metadata": {},
   "outputs": [
    {
     "name": "stdout",
     "output_type": "stream",
     "text": [
      "[5. 5. 5. 5. 5. 5. 5. 5. 5. 5. 5. 5. 5. 5. 5. 5. 5. 5. 5. 5. 5. 5. 5. 5.\n",
      " 5. 5. 5. 5. 5. 5. 5. 5. 5. 5. 5. 5. 5. 5. 5. 5. 5. 5. 5. 5. 5. 5. 5. 5.\n",
      " 5. 5. 5. 5. 5. 5. 5. 5. 5. 5. 5. 5. 5. 3. 5. 3. 5. 3. 3. 3. 3. 3. 5. 5.\n",
      " 5. 5. 5. 5. 5. 5. 5. 5. 5. 5. 5. 5. 5. 5. 5. 5. 5. 5. 5. 5. 5. 5. 5. 5.\n",
      " 5. 5. 5. 5. 5. 5. 5. 5. 5. 5. 5. 5. 5. 5. 5. 5. 5. 5. 5. 5. 5. 5. 5. 5.\n",
      " 5. 5. 5. 5. 5. 5. 5. 5. 5. 5. 5. 5. 5. 5. 5. 5. 5. 5. 5. 5. 5. 5. 5. 5.\n",
      " 5. 5. 5. 5. 5. 5. 5. 5. 5. 5. 5. 5. 5. 5. 5. 5.]\n"
     ]
    }
   ],
   "source": [
    "print(predictions[:160])"
   ]
  },
  {
   "cell_type": "code",
   "execution_count": 75,
   "metadata": {},
   "outputs": [
    {
     "name": "stdout",
     "output_type": "stream",
     "text": [
      "[5. 5. 5. 5. 5. 5. 5. 5. 5. 5. 5. 5. 5. 5. 5. 5. 5. 5. 5. 5. 5. 5. 0. 0.\n",
      " 5. 5. 0. 5. 5. 5. 0. 0. 0. 0. 5. 5. 5. 5. 5. 5.]\n"
     ]
    }
   ],
   "source": [
    "print(predictions[170:210])"
   ]
  },
  {
   "cell_type": "code",
   "execution_count": 76,
   "metadata": {},
   "outputs": [
    {
     "name": "stdout",
     "output_type": "stream",
     "text": [
      "[5. 5. 2. 2. 2.]\n"
     ]
    }
   ],
   "source": [
    "print(predictions[395:400])"
   ]
  },
  {
   "cell_type": "code",
   "execution_count": 77,
   "metadata": {},
   "outputs": [
    {
     "name": "stdout",
     "output_type": "stream",
     "text": [
      "[2. 5. 2. 2. 5. 5. 2. 2. 2. 5.]\n"
     ]
    }
   ],
   "source": [
    "print(predictions[405:415])"
   ]
  },
  {
   "cell_type": "code",
   "execution_count": 78,
   "metadata": {},
   "outputs": [
    {
     "name": "stdout",
     "output_type": "stream",
     "text": [
      "[2. 2. 5. 5. 2. 5. 2. 2. 2. 2. 5. 5. 5. 5. 5.]\n"
     ]
    }
   ],
   "source": [
    "print(predictions[415:430])"
   ]
  },
  {
   "cell_type": "code",
   "execution_count": 79,
   "metadata": {},
   "outputs": [
    {
     "data": {
      "text/plain": [
       "5.0"
      ]
     },
     "execution_count": 79,
     "metadata": {},
     "output_type": "execute_result"
    }
   ],
   "source": [
    "transition_frame = np.where(np.diff(predictions)!=0)[0]\n",
    "predictions[transition_frame[0]]\n"
   ]
  },
  {
   "cell_type": "markdown",
   "metadata": {},
   "source": [
    "## put the below code in another notebook \n",
    "#### loop through all .npy files once analyzed"
   ]
  },
  {
   "cell_type": "code",
   "execution_count": null,
   "metadata": {},
   "outputs": [],
   "source": [
    "all_predictions = []\n",
    "for _ in range(6):\n",
    "    # join duplicates of the same array\n",
    "    predictions = np.load(fileoutname)\n",
    "    all_predictions.append(predictions)\n",
    "# all_predictions\n",
    "all_predictions_arr = np.hstack(all_predictions)"
   ]
  },
  {
   "cell_type": "code",
   "execution_count": null,
   "metadata": {},
   "outputs": [],
   "source": [
    "class_of_interest=17\n",
    "jitter=0.5\n",
    "fig, ax = plt.subplots(1, 1, figsize=(6, 4))\n",
    "ax.hlines(class_of_interest-jitter, 0, len(all_predictions_arr), 'r', alpha=0.7)\n",
    "ax.hlines(class_of_interest+jitter, 0, len(all_predictions_arr), 'r', alpha=0.7)\n",
    "ax.vlines(0-jitter, class_of_interest-jitter, class_of_interest+jitter, 'r', alpha=0.7)\n",
    "ax.vlines(len(all_predictions_arr)+jitter, class_of_interest-jitter, class_of_interest+jitter, 'r', alpha=0.7)\n",
    "ax.scatter(np.arange(len(all_predictions_arr)), all_predictions_arr, s=0.5, color='k', alpha=0.3)\n",
    "ax.set_xticks(np.arange(0, len(all_predictions_arr), 300))\n",
    "ax.set_xticklabels(np.arange(0, len(all_predictions_arr)/10, 30))\n",
    "ax.set_ylabel('behavior ID')\n",
    "ax.set_xlabel('time (s)')\n",
    "fig.savefig('./test.png', dpi=600)"
   ]
  },
  {
   "cell_type": "code",
   "execution_count": null,
   "metadata": {},
   "outputs": [],
   "source": [
    "all_predictions_arr.shape"
   ]
  },
  {
   "cell_type": "code",
   "execution_count": null,
   "metadata": {},
   "outputs": [],
   "source": [
    "bin_start = np.arange(0, np.max(len(all_predictions_arr)), 600)\n",
    "bin_end = np.arange(600, np.max(len(all_predictions_arr))+600, 600)\n",
    "print(bin_start, bin_end)\n",
    "binned_predictions = []\n",
    "for b in range(len(bin_start)):\n",
    "    binned_predictions.append(all_predictions_arr[bin_start[b]:bin_end[b]])\n"
   ]
  },
  {
   "cell_type": "code",
   "execution_count": null,
   "metadata": {},
   "outputs": [],
   "source": [
    "class_interest_binned = [len(np.where(binned_predictions[b] == class_of_interest)[0]) for b in range(len(binned_predictions))]\n",
    "\n",
    "plt.bar(np.arange(len(class_interest_binned)), class_interest_binned)"
   ]
  },
  {
   "cell_type": "code",
   "execution_count": null,
   "metadata": {},
   "outputs": [],
   "source": [
    "np.arange(0, len(predictions), 300), np.arange(0, len(predictions)/10, 30)"
   ]
  }
 ],
 "metadata": {
  "kernelspec": {
   "display_name": "Python 3 (ipykernel)",
   "language": "python",
   "name": "python3"
  },
  "language_info": {
   "codemirror_mode": {
    "name": "ipython",
    "version": 3
   },
   "file_extension": ".py",
   "mimetype": "text/x-python",
   "name": "python",
   "nbconvert_exporter": "python",
   "pygments_lexer": "ipython3",
   "version": "3.8.5"
  }
 },
 "nbformat": 4,
 "nbformat_minor": 5
}
