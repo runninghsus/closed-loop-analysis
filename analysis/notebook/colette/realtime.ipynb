{
 "cells": [
  {
   "cell_type": "code",
   "execution_count": 11,
   "metadata": {
    "ExecuteTime": {
     "end_time": "2023-07-11T18:41:02.501886Z",
     "start_time": "2023-07-11T18:41:02.499932Z"
    }
   },
   "outputs": [],
   "source": [
    "import pandas as pd\n",
    "import numpy as np\n",
    "import matplotlib.pyplot as plt"
   ]
  },
  {
   "cell_type": "code",
   "execution_count": 26,
   "metadata": {
    "ExecuteTime": {
     "end_time": "2023-07-11T18:41:02.871180Z",
     "start_time": "2023-07-11T18:41:02.862005Z"
    }
   },
   "outputs": [],
   "source": [
    "df = pd.read_csv('Z:/KayCei/20230627_09_28_10.csv')"
   ]
  },
  {
   "cell_type": "code",
   "execution_count": 27,
   "metadata": {
    "ExecuteTime": {
     "end_time": "2023-07-11T18:41:03.206991Z",
     "start_time": "2023-07-11T18:41:03.203081Z"
    },
    "scrolled": true
   },
   "outputs": [
    {
     "data": {
      "text/html": [
       "<div>\n",
       "<style scoped>\n",
       "    .dataframe tbody tr th:only-of-type {\n",
       "        vertical-align: middle;\n",
       "    }\n",
       "\n",
       "    .dataframe tbody tr th {\n",
       "        vertical-align: top;\n",
       "    }\n",
       "\n",
       "    .dataframe thead th {\n",
       "        text-align: right;\n",
       "    }\n",
       "</style>\n",
       "<table border=\"1\" class=\"dataframe\">\n",
       "  <thead>\n",
       "    <tr style=\"text-align: right;\">\n",
       "      <th></th>\n",
       "      <th>Experiment_Start</th>\n",
       "      <th>(6, 'Stim_Start')</th>\n",
       "      <th>(7, 'Stim_Start')</th>\n",
       "      <th>(8, 'Stim_Start')</th>\n",
       "      <th>(9, 'Stim_Start')</th>\n",
       "      <th>(10, 'Stim_Start')</th>\n",
       "      <th>(11, 'Stim_Start')</th>\n",
       "      <th>(12, 'Stim_Start')</th>\n",
       "      <th>(13, 'Stim_Start')</th>\n",
       "      <th>(14, 'Stim_Start')</th>\n",
       "      <th>...</th>\n",
       "      <th>(212, 'Stim_Start')</th>\n",
       "      <th>(213, 'Stim_Start')</th>\n",
       "      <th>(214, 'Stim_Start')</th>\n",
       "      <th>(215, 'Stim_Start')</th>\n",
       "      <th>(216, 'Stim_Start')</th>\n",
       "      <th>(217, 'Stim_Start')</th>\n",
       "      <th>(218, 'Stim_Start')</th>\n",
       "      <th>(219, 'Stim_Start')</th>\n",
       "      <th>(220, 'Stim_Start')</th>\n",
       "      <th>(221, 'Stim_Start')</th>\n",
       "    </tr>\n",
       "  </thead>\n",
       "  <tbody>\n",
       "    <tr>\n",
       "      <th>0</th>\n",
       "      <td>1.687872e+09</td>\n",
       "      <td>1.687873e+09</td>\n",
       "      <td>1.687873e+09</td>\n",
       "      <td>1.687873e+09</td>\n",
       "      <td>1.687873e+09</td>\n",
       "      <td>1.687873e+09</td>\n",
       "      <td>1.687873e+09</td>\n",
       "      <td>1.687873e+09</td>\n",
       "      <td>1.687873e+09</td>\n",
       "      <td>1.687873e+09</td>\n",
       "      <td>...</td>\n",
       "      <td>1.687874e+09</td>\n",
       "      <td>1.687874e+09</td>\n",
       "      <td>1.687874e+09</td>\n",
       "      <td>1.687874e+09</td>\n",
       "      <td>1.687874e+09</td>\n",
       "      <td>1.687874e+09</td>\n",
       "      <td>1.687874e+09</td>\n",
       "      <td>1.687874e+09</td>\n",
       "      <td>1.687874e+09</td>\n",
       "      <td>1.687874e+09</td>\n",
       "    </tr>\n",
       "  </tbody>\n",
       "</table>\n",
       "<p>1 rows × 217 columns</p>\n",
       "</div>"
      ],
      "text/plain": [
       "   Experiment_Start  (6, 'Stim_Start')  (7, 'Stim_Start')  (8, 'Stim_Start')  \\\n",
       "0      1.687872e+09       1.687873e+09       1.687873e+09       1.687873e+09   \n",
       "\n",
       "   (9, 'Stim_Start')  (10, 'Stim_Start')  (11, 'Stim_Start')  \\\n",
       "0       1.687873e+09        1.687873e+09        1.687873e+09   \n",
       "\n",
       "   (12, 'Stim_Start')  (13, 'Stim_Start')  (14, 'Stim_Start')  ...  \\\n",
       "0        1.687873e+09        1.687873e+09        1.687873e+09  ...   \n",
       "\n",
       "   (212, 'Stim_Start')  (213, 'Stim_Start')  (214, 'Stim_Start')  \\\n",
       "0         1.687874e+09         1.687874e+09         1.687874e+09   \n",
       "\n",
       "   (215, 'Stim_Start')  (216, 'Stim_Start')  (217, 'Stim_Start')  \\\n",
       "0         1.687874e+09         1.687874e+09         1.687874e+09   \n",
       "\n",
       "   (218, 'Stim_Start')  (219, 'Stim_Start')  (220, 'Stim_Start')  \\\n",
       "0         1.687874e+09         1.687874e+09         1.687874e+09   \n",
       "\n",
       "   (221, 'Stim_Start')  \n",
       "0         1.687874e+09  \n",
       "\n",
       "[1 rows x 217 columns]"
      ]
     },
     "execution_count": 27,
     "metadata": {},
     "output_type": "execute_result"
    }
   ],
   "source": [
    "df"
   ]
  },
  {
   "cell_type": "code",
   "execution_count": 28,
   "metadata": {
    "ExecuteTime": {
     "end_time": "2023-07-11T18:41:03.789252Z",
     "start_time": "2023-07-11T18:41:03.771700Z"
    }
   },
   "outputs": [
    {
     "data": {
      "text/plain": [
       "114.86268472671509"
      ]
     },
     "execution_count": 28,
     "metadata": {},
     "output_type": "execute_result"
    }
   ],
   "source": [
    "df.iloc[0, 1] - df.iloc[0, 0]"
   ]
  },
  {
   "cell_type": "code",
   "execution_count": 29,
   "metadata": {
    "ExecuteTime": {
     "end_time": "2023-07-11T18:41:04.232654Z",
     "start_time": "2023-07-11T18:41:04.225904Z"
    }
   },
   "outputs": [
    {
     "name": "stdout",
     "output_type": "stream",
     "text": [
      "[[1.14862685e+02 4.33373451e-01 6.24103150e+01 1.23620081e+00\n",
      "  1.78942438e+02 6.77446122e+01 4.28893805e-01 2.74425983e-01\n",
      "  1.21577165e+01 6.73604012e-01 1.40842462e+00 7.37029791e-01\n",
      "  4.31758165e-01 2.76079934e+02 1.14739799e+00 2.60277987e-01\n",
      "  6.72248363e-01 2.14446902e+00 4.14348364e-01 1.32944536e+00\n",
      "  6.76730585e+00 1.82476854e+00 3.88652945e+00 9.24932957e-01\n",
      "  2.05198052e+01 2.10774732e+00 3.76044559e+00 1.85777128e+02\n",
      "  6.87494683e+00 3.01568985e+00 2.69539795e+01 3.12051294e+01\n",
      "  4.92825985e-01 9.77398157e-01 2.07809758e+00 1.74480677e+00\n",
      "  8.59345675e-01 3.09330225e-01 5.28763738e+01 8.83151054e-01\n",
      "  2.32029414e+00 1.10235724e+01 7.71022868e+00 4.38760805e+00\n",
      "  1.13610220e+00 1.71036267e+00 2.01480651e+00 8.95279408e-01\n",
      "  9.76424217e-01 4.49652767e+00 2.78691101e+00 1.26237202e+00\n",
      "  5.44497967e-01 4.22397709e+00 5.62587738e-01 9.08672810e-01\n",
      "  1.19893909e+00 1.61701012e+00 9.02529550e+00 2.39918852e+00\n",
      "  4.48714018e-01 4.90687847e-01 1.74795318e+00 2.91225386e+00\n",
      "  1.80723953e+00 1.14882421e+00 5.27739763e-01 7.42692471e-01\n",
      "  6.06613398e-01 1.70561137e+01 2.84725022e+00 1.80628633e+00\n",
      "  1.68153453e+00 2.17827106e+00 1.02846079e+01 8.49807024e-01\n",
      "  6.21834040e-01 8.80245209e-01 6.00059843e+00 3.37271452e-01\n",
      "  2.71767378e-01 2.90743399e+00 2.94189215e-01 3.17836285e-01\n",
      "  7.55280256e-01 6.83680058e-01 9.92377996e-01 4.16832924e-01\n",
      "  1.32752419e+00 3.01196098e-01 2.75155067e-01 4.33809519e-01\n",
      "  1.27773809e+00 1.40488672e+00 7.06758499e-01 4.98291016e-01\n",
      "  2.41467929e+00 2.65433331e+01 1.12347524e+01 1.34041381e+00\n",
      "  9.60434437e-01 2.73374319e-01 8.45481634e-01 9.95339632e-01\n",
      "  5.19563007e+00 1.04436827e+00 8.01193714e-01 8.62163067e+00\n",
      "  8.70455503e+00 1.43191502e+01 4.28648820e+01 1.31176877e+00\n",
      "  3.98979664e-01 2.41050916e+02 5.24808602e+01 3.66170883e-01\n",
      "  2.81525540e+00 4.19067469e+01 1.07085419e+00 7.67500639e-01\n",
      "  1.16823363e+00 2.39809275e-01 4.16051817e+00 4.00878191e-01\n",
      "  1.00867145e+01 3.82975101e-01 2.76775002e+00 7.35081196e-01\n",
      "  6.07555628e-01 1.91966844e+00 5.93996525e-01 3.11965728e+00\n",
      "  1.57986403e+00 3.89209986e-01 8.47036362e-01 3.68694544e-01\n",
      "  1.27925658e+00 1.00783920e+00 1.60131550e+00 3.67372751e-01\n",
      "  6.03417873e-01 2.43344069e-01 4.91357613e+00 1.71324968e+00\n",
      "  1.09786010e+00 7.87894487e-01 1.10209513e+00 7.02194929e-01\n",
      "  2.57985616e+00 5.76828718e-01 3.67223978e-01 3.68052006e-01\n",
      "  2.23919392e-01 1.48730326e+00 9.60605621e-01 3.99494648e-01\n",
      "  5.10889292e-01 8.65736485e-01 1.10332012e+00 5.12680292e-01\n",
      "  1.87220430e+00 4.32859182e-01 1.27719522e+00 1.56872821e+00\n",
      "  9.43430901e-01 2.70802259e-01 6.08450413e-01 1.26494265e+00\n",
      "  6.08333349e-01 9.89117861e-01 7.55498409e-01 2.68232822e-01\n",
      "  5.31848907e-01 4.61484909e-01 9.79376554e-01 7.65889168e-01\n",
      "  1.64998388e+00 6.71736956e-01 1.50386834e+00 4.32280064e-01\n",
      "  1.15221596e+00 1.53464580e+00 4.97670650e-01 3.04072618e-01\n",
      "  1.88212514e+00 8.68801832e-01 7.68943548e-01 7.34147549e-01\n",
      "  2.65714455e+00 1.13516450e+00 4.00999069e-01 1.27873182e+00\n",
      "  2.72289515e-01 2.88272381e-01 5.76345682e-01 1.03866220e+00\n",
      "  4.33724642e-01 1.58374810e+00 7.04081535e-01 2.88134599e+00\n",
      "  2.70278692e-01 5.92203140e-01 4.79719639e-01 5.30436993e-01\n",
      "  7.02929020e-01 2.09740195e+01 3.67018938e-01 1.05762728e+02\n",
      "  1.95352178e+01 3.88991857e+00 1.30994749e+00 5.12037301e+00\n",
      "  2.12161822e+01 4.31891918e-01 5.74495792e-01 5.63387012e+00]]\n"
     ]
    }
   ],
   "source": [
    "time_diff = np.diff(np.array(df))\n",
    "print(time_diff)"
   ]
  },
  {
   "cell_type": "code",
   "execution_count": 38,
   "metadata": {
    "ExecuteTime": {
     "end_time": "2023-07-11T18:41:04.838153Z",
     "start_time": "2023-07-11T18:41:04.835625Z"
    }
   },
   "outputs": [
    {
     "name": "stdout",
     "output_type": "stream",
     "text": [
      "216\n",
      "[ 114.86268473  115.29605818  177.70637321  178.94257402  357.88501191\n",
      "  425.62962413  426.05851793  426.33294392  438.49066043  439.16426444\n",
      "  440.57268906  441.30971885  441.74147701  717.82141113  718.96880913\n",
      "  719.22908711  719.90133548  722.0458045   722.46015286  723.78959823\n",
      "  730.55690408  732.38167262  736.26820207  737.19313502  757.71294022\n",
      "  759.82068753  763.58113313  949.35826135  956.23320818  959.24889803\n",
      "  986.20287752 1017.40800691 1017.90083289 1018.87823105 1020.95632863\n",
      " 1022.7011354  1023.56048107 1023.8698113  1076.74618506 1077.62933612\n",
      " 1079.94963026 1090.97320271 1098.68343139 1103.07103944 1104.20714164\n",
      " 1105.91750431 1107.93231082 1108.82759023 1109.80401444 1114.30054212\n",
      " 1117.08745313 1118.34982514 1118.89432311 1123.1183002  1123.68088794\n",
      " 1124.58956075 1125.78849983 1127.40550995 1136.43080544 1138.82999396\n",
      " 1139.27870798 1139.76939583 1141.517349   1144.42960286 1146.23684239\n",
      " 1147.38566661 1147.91340637 1148.65609884 1149.26271224 1166.31882596\n",
      " 1169.16607618 1170.97236252 1172.65389705 1174.8321681  1185.11677599\n",
      " 1185.96658301 1186.58841705 1187.46866226 1193.46926069 1193.80653214\n",
      " 1194.07829952 1196.98573351 1197.27992272 1197.59775901 1198.35303926\n",
      " 1199.03671932 1200.02909732 1200.44593024 1201.77345443 1202.07465053\n",
      " 1202.34980559 1202.78361511 1204.06135321 1205.46623993 1206.17299843\n",
      " 1206.67128944 1209.08596873 1235.62930179 1246.8640542  1248.20446801\n",
      " 1249.16490245 1249.43827677 1250.2837584  1251.27909803 1256.47472811\n",
      " 1257.51909637 1258.32029009 1266.94192076 1275.64647579 1289.965626\n",
      " 1332.83050799 1334.14227676 1334.54125643 1575.59217215 1628.07303238\n",
      " 1628.43920326 1631.25445867 1673.16120553 1674.23205972 1674.99956036\n",
      " 1676.16779399 1676.40760326 1680.56812143 1680.96899962 1691.05571413\n",
      " 1691.43868923 1694.20643926 1694.94152045 1695.54907608 1697.46874452\n",
      " 1698.06274104 1701.18239832 1702.76226234 1703.15147233 1703.99850869\n",
      " 1704.36720324 1705.64645982 1706.65429902 1708.25561452 1708.62298727\n",
      " 1709.22640514 1709.46974921 1714.38332534 1716.09657502 1717.19443512\n",
      " 1717.98232961 1719.08442473 1719.78661966 1722.36647582 1722.94330454\n",
      " 1723.31052852 1723.67858052 1723.90249991 1725.38980317 1726.35040879\n",
      " 1726.74990344 1727.26079273 1728.12652922 1729.22984934 1729.74252963\n",
      " 1731.61473393 1732.04759312 1733.32478833 1734.89351654 1735.83694744\n",
      " 1736.1077497  1736.71620011 1737.98114276 1738.58947611 1739.57859397\n",
      " 1740.33409238 1740.6023252  1741.13417411 1741.59565902 1742.57503557\n",
      " 1743.34092474 1744.99090862 1745.66264558 1747.16651392 1747.59879398\n",
      " 1748.75100994 1750.28565574 1750.78332639 1751.08739901 1752.96952415\n",
      " 1753.83832598 1754.60726953 1755.34141707 1757.99856162 1759.13372612\n",
      " 1759.53472519 1760.81345701 1761.08574653 1761.37401891 1761.95036459\n",
      " 1762.98902678 1763.42275143 1765.00649953 1765.71058106 1768.59192705\n",
      " 1768.86220574 1769.45440888 1769.93412852 1770.46456552 1771.16749454\n",
      " 1792.14151406 1792.508533   1898.27126074 1917.8064785  1921.69639707\n",
      " 1923.00634456 1928.12671757 1949.3428998  1949.77479172 1950.34928751\n",
      " 1955.98315763]\n"
     ]
    }
   ],
   "source": [
    "time_since = np.cumsum(np.diff(np.array(df)))\n",
    "print(len(time_since))\n",
    "print(time_since)"
   ]
  },
  {
   "cell_type": "code",
   "execution_count": 31,
   "metadata": {
    "ExecuteTime": {
     "end_time": "2023-07-11T18:41:15.105786Z",
     "start_time": "2023-07-11T18:41:15.089831Z"
    }
   },
   "outputs": [
    {
     "data": {
      "text/plain": [
       "32.59971929391225"
      ]
     },
     "execution_count": 31,
     "metadata": {},
     "output_type": "execute_result"
    }
   ],
   "source": [
    "np.max(time_since)/60"
   ]
  },
  {
   "cell_type": "code",
   "execution_count": 32,
   "metadata": {
    "ExecuteTime": {
     "end_time": "2023-07-11T17:24:02.805690Z",
     "start_time": "2023-07-11T17:24:02.739204Z"
    }
   },
   "outputs": [
    {
     "data": {
      "text/plain": [
       "Text(0, 0.5, 'time since start (s)')"
      ]
     },
     "execution_count": 32,
     "metadata": {},
     "output_type": "execute_result"
    },
    {
     "data": {
      "image/png": "[encoded data removed]",
      "text/plain": [
       "<Figure size 288x216 with 1 Axes>"
      ]
     },
     "metadata": {
      "needs_background": "light"
     },
     "output_type": "display_data"
    }
   ],
   "source": [
    "fig, ax = plt.subplots(1, 1, figsize=(4, 3))\n",
    "\n",
    "ax.plot(np.arange(len(time_since)), time_since)\n",
    "ax.set_xlabel('count')\n",
    "ax.set_ylabel('time since start (s)')\n"
   ]
  },
  {
   "cell_type": "code",
   "execution_count": 39,
   "metadata": {
    "ExecuteTime": {
     "end_time": "2023-07-11T18:48:43.454787Z",
     "start_time": "2023-07-11T18:48:43.451950Z"
    }
   },
   "outputs": [
    {
     "data": {
      "text/plain": [
       "(212,)"
      ]
     },
     "execution_count": 39,
     "metadata": {},
     "output_type": "execute_result"
    }
   ],
   "source": [
    "time_since[(time_since > 300) & (time_since < 2100)].shape"
   ]
  },
  {
   "cell_type": "code",
   "execution_count": 34,
   "metadata": {
    "ExecuteTime": {
     "end_time": "2023-07-11T18:14:37.719320Z",
     "start_time": "2023-07-11T18:14:37.716990Z"
    }
   },
   "outputs": [],
   "source": [
    "np.save('../../../raw_data/realtime_vector', time_since)"
   ]
  },
  {
   "cell_type": "markdown",
   "metadata": {},
   "source": [
    "#### find minimum of diff"
   ]
  },
  {
   "cell_type": "code",
   "execution_count": 35,
   "metadata": {
    "ExecuteTime": {
     "end_time": "2023-07-11T17:30:22.114683Z",
     "start_time": "2023-07-11T17:30:22.110828Z"
    }
   },
   "outputs": [
    {
     "data": {
      "text/plain": [
       "(1, 216)"
      ]
     },
     "execution_count": 35,
     "metadata": {},
     "output_type": "execute_result"
    }
   ],
   "source": [
    "time_diff.shape"
   ]
  },
  {
   "cell_type": "code",
   "execution_count": 36,
   "metadata": {
    "ExecuteTime": {
     "end_time": "2023-07-11T17:32:24.407998Z",
     "start_time": "2023-07-11T17:32:24.329590Z"
    }
   },
   "outputs": [
    {
     "data": {
      "text/plain": [
       "Text(0.5, 0, 'time interval between bouts (s)')"
      ]
     },
     "execution_count": 36,
     "metadata": {},
     "output_type": "execute_result"
    },
    {
     "data": {
      "image/png": "[encoded data removed]",
      "text/plain": [
       "<Figure size 288x216 with 1 Axes>"
      ]
     },
     "metadata": {
      "needs_background": "light"
     },
     "output_type": "display_data"
    }
   ],
   "source": [
    "fig, ax = plt.subplots(1, 1, figsize=(4, 3))\n",
    "ax.hist(time_diff.reshape(-1, ), bins=np.arange(0, 50, 3), density=True)\n",
    "ax.set_ylabel('probability')\n",
    "ax.set_xlabel('time interval between bouts (s)')"
   ]
  },
  {
   "cell_type": "code",
   "execution_count": 37,
   "metadata": {
    "ExecuteTime": {
     "end_time": "2023-07-11T17:32:41.186044Z",
     "start_time": "2023-07-11T17:32:41.115836Z"
    }
   },
   "outputs": [
    {
     "data": {
      "text/plain": [
       "Text(0.5, 0, 'time interval between bouts (s)')"
      ]
     },
     "execution_count": 37,
     "metadata": {},
     "output_type": "execute_result"
    },
    {
     "data": {
      "image/png": "[encoded data removed]",
      "text/plain": [
       "<Figure size 288x216 with 1 Axes>"
      ]
     },
     "metadata": {
      "needs_background": "light"
     },
     "output_type": "display_data"
    }
   ],
   "source": [
    "fig, ax = plt.subplots(1, 1, figsize=(4, 3))\n",
    "ax.hist(time_diff.reshape(-1, ), bins=np.arange(0, 50, 3), density=True, cumulative=True)\n",
    "ax.set_ylabel('probability')\n",
    "ax.set_xlabel('time interval between bouts (s)')"
   ]
  },
  {
   "cell_type": "code",
   "execution_count": null,
   "metadata": {},
   "outputs": [],
   "source": []
  },
  {
   "cell_type": "code",
   "execution_count": null,
   "metadata": {},
   "outputs": [],
   "source": []
  }
 ],
 "metadata": {
  "kernelspec": {
   "display_name": "Python 3 (ipykernel)",
   "language": "python",
   "name": "python3"
  },
  "language_info": {
   "codemirror_mode": {
    "name": "ipython",
    "version": 3
   },
   "file_extension": ".py",
   "mimetype": "text/x-python",
   "name": "python",
   "nbconvert_exporter": "python",
   "pygments_lexer": "ipython3",
   "version": "3.8.5"
  }
 },
 "nbformat": 4,
 "nbformat_minor": 1
}
