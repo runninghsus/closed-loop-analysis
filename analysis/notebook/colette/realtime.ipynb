{
 "cells": [
  {
   "cell_type": "code",
   "execution_count": 1,
   "metadata": {
    "ExecuteTime": {
     "end_time": "2023-07-11T18:41:02.501886Z",
     "start_time": "2023-07-11T18:41:02.499932Z"
    }
   },
   "outputs": [],
   "source": [
    "import pandas as pd\n",
    "import numpy as np\n",
    "import matplotlib.pyplot as plt"
   ]
  },
  {
   "cell_type": "code",
   "execution_count": 3,
   "metadata": {
    "ExecuteTime": {
     "end_time": "2023-07-11T18:41:02.871180Z",
     "start_time": "2023-07-11T18:41:02.862005Z"
    }
   },
   "outputs": [],
   "source": [
    "df = pd.read_csv('Z:/KayCei/AD10-D1/VIDEOS/100423-rt ipsilateral/100423-rt ipsilateral20231004_17_01_29.csv')"
   ]
  },
  {
   "cell_type": "code",
   "execution_count": 4,
   "metadata": {
    "ExecuteTime": {
     "end_time": "2023-07-11T18:41:03.206991Z",
     "start_time": "2023-07-11T18:41:03.203081Z"
    },
    "scrolled": true
   },
   "outputs": [
    {
     "data": {
      "text/html": [
       "<div>\n",
       "<style scoped>\n",
       "    .dataframe tbody tr th:only-of-type {\n",
       "        vertical-align: middle;\n",
       "    }\n",
       "\n",
       "    .dataframe tbody tr th {\n",
       "        vertical-align: top;\n",
       "    }\n",
       "\n",
       "    .dataframe thead th {\n",
       "        text-align: right;\n",
       "    }\n",
       "</style>\n",
       "<table border=\"1\" class=\"dataframe\">\n",
       "  <thead>\n",
       "    <tr style=\"text-align: right;\">\n",
       "      <th></th>\n",
       "      <th>Experiment_Start</th>\n",
       "      <th>(6, 'Stim_Start')</th>\n",
       "      <th>(7, 'Stim_Start')</th>\n",
       "      <th>(8, 'Stim_Start')</th>\n",
       "      <th>(9, 'Stim_Start')</th>\n",
       "      <th>(10, 'Stim_Start')</th>\n",
       "      <th>(11, 'Stim_Start')</th>\n",
       "      <th>(12, 'Stim_Start')</th>\n",
       "      <th>(13, 'Stim_Start')</th>\n",
       "      <th>(14, 'Stim_Start')</th>\n",
       "      <th>...</th>\n",
       "      <th>(172, 'Stim_Start')</th>\n",
       "      <th>(173, 'Stim_Start')</th>\n",
       "      <th>(174, 'Stim_Start')</th>\n",
       "      <th>(175, 'Stim_Start')</th>\n",
       "      <th>(176, 'Stim_Start')</th>\n",
       "      <th>(177, 'Stim_Start')</th>\n",
       "      <th>(178, 'Stim_Start')</th>\n",
       "      <th>(179, 'Stim_Start')</th>\n",
       "      <th>(180, 'Stim_Start')</th>\n",
       "      <th>(181, 'Stim_Start')</th>\n",
       "    </tr>\n",
       "  </thead>\n",
       "  <tbody>\n",
       "    <tr>\n",
       "      <th>0</th>\n",
       "      <td>1.696453e+09</td>\n",
       "      <td>1.696453e+09</td>\n",
       "      <td>1.696453e+09</td>\n",
       "      <td>1.696453e+09</td>\n",
       "      <td>1.696453e+09</td>\n",
       "      <td>1.696453e+09</td>\n",
       "      <td>1.696453e+09</td>\n",
       "      <td>1.696453e+09</td>\n",
       "      <td>1.696453e+09</td>\n",
       "      <td>1.696453e+09</td>\n",
       "      <td>...</td>\n",
       "      <td>1.696455e+09</td>\n",
       "      <td>1.696455e+09</td>\n",
       "      <td>1.696455e+09</td>\n",
       "      <td>1.696455e+09</td>\n",
       "      <td>1.696455e+09</td>\n",
       "      <td>1.696455e+09</td>\n",
       "      <td>1.696455e+09</td>\n",
       "      <td>1.696455e+09</td>\n",
       "      <td>1.696455e+09</td>\n",
       "      <td>1.696455e+09</td>\n",
       "    </tr>\n",
       "  </tbody>\n",
       "</table>\n",
       "<p>1 rows × 177 columns</p>\n",
       "</div>"
      ],
      "text/plain": [
       "   Experiment_Start  (6, 'Stim_Start')  (7, 'Stim_Start')  (8, 'Stim_Start')  \\\n",
       "0      1.696453e+09       1.696453e+09       1.696453e+09       1.696453e+09   \n",
       "\n",
       "   (9, 'Stim_Start')  (10, 'Stim_Start')  (11, 'Stim_Start')  \\\n",
       "0       1.696453e+09        1.696453e+09        1.696453e+09   \n",
       "\n",
       "   (12, 'Stim_Start')  (13, 'Stim_Start')  (14, 'Stim_Start')  ...  \\\n",
       "0        1.696453e+09        1.696453e+09        1.696453e+09  ...   \n",
       "\n",
       "   (172, 'Stim_Start')  (173, 'Stim_Start')  (174, 'Stim_Start')  \\\n",
       "0         1.696455e+09         1.696455e+09         1.696455e+09   \n",
       "\n",
       "   (175, 'Stim_Start')  (176, 'Stim_Start')  (177, 'Stim_Start')  \\\n",
       "0         1.696455e+09         1.696455e+09         1.696455e+09   \n",
       "\n",
       "   (178, 'Stim_Start')  (179, 'Stim_Start')  (180, 'Stim_Start')  \\\n",
       "0         1.696455e+09         1.696455e+09         1.696455e+09   \n",
       "\n",
       "   (181, 'Stim_Start')  \n",
       "0         1.696455e+09  \n",
       "\n",
       "[1 rows x 177 columns]"
      ]
     },
     "execution_count": 4,
     "metadata": {},
     "output_type": "execute_result"
    }
   ],
   "source": [
    "df"
   ]
  },
  {
   "cell_type": "code",
   "execution_count": 5,
   "metadata": {
    "ExecuteTime": {
     "end_time": "2023-07-11T18:41:03.789252Z",
     "start_time": "2023-07-11T18:41:03.771700Z"
    }
   },
   "outputs": [
    {
     "data": {
      "text/plain": [
       "30.417999267578125"
      ]
     },
     "execution_count": 5,
     "metadata": {},
     "output_type": "execute_result"
    }
   ],
   "source": [
    "df.iloc[0, 1] - df.iloc[0, 0]"
   ]
  },
  {
   "cell_type": "code",
   "execution_count": 6,
   "metadata": {
    "ExecuteTime": {
     "end_time": "2023-07-11T18:41:04.232654Z",
     "start_time": "2023-07-11T18:41:04.225904Z"
    }
   },
   "outputs": [
    {
     "name": "stdout",
     "output_type": "stream",
     "text": [
      "[[30.41799927  0.28806829  3.1535306  22.70357943 46.78311324  0.70438576\n",
      "   7.7448771   0.27234364  0.49464273 13.00956464  0.42998457 28.89248204\n",
      "   6.59770918  6.08098865 44.90530252  9.22143459  8.87954259  0.89461327\n",
      "  18.5456996   2.87870002  0.83285928 11.87121201  4.12730837 13.90482306\n",
      "   1.98445821 17.88695979  6.67358828 15.61466599  8.51215529 19.98398829\n",
      "  14.67276192 29.29259706 48.94840407  2.26715398 14.81944728 12.73547792\n",
      "   0.37106419  3.77298093 58.56289434  3.08720541 20.74722219 48.80446219\n",
      "  24.25589991  0.51164198 18.97512054 24.73779392  0.6569109   5.96536851\n",
      "   8.14272499  0.27538514  2.60749197  0.38400626  4.5438962   6.57626057\n",
      "   4.15999293  0.55951953  5.69618392 16.92674756  0.44734931  6.73546481\n",
      "   0.67522836  6.76468325 13.10709405  0.26929712  9.28170848  0.36707234\n",
      "   6.89738655 18.26875615  2.47922111  1.84512138  9.99816418 14.52584767\n",
      "  12.94786     2.99034977 12.62267613  5.10600138  6.52534795  8.22277069\n",
      "  26.14516997 23.45806527 19.30944777 29.89115477  1.00920773  5.96355987\n",
      "   1.01229286 14.63927269  8.320508   11.9141407  11.07724404  4.84317017\n",
      "   1.34667611  7.98663235  7.8079617   2.30257988 26.99278855  3.16817713\n",
      "   0.68540788  1.40987062  0.25735259  8.31974101 13.10352755  5.48841\n",
      "   7.7109313   1.18679261  1.77435493  3.55173182 18.33444834  0.36866403\n",
      "  10.25685477 12.7349472   6.15839481 25.20446682 26.99035788  9.71260738\n",
      "   8.68683314  6.45926356  1.29912281  1.72863674  0.49872661  7.90320826\n",
      "   9.88709521  3.96495533  6.05199409 14.38235044  4.2219491   4.53030825\n",
      "  11.66392398  2.01542807  0.43301201  3.72598505 19.29532146 19.44375896\n",
      "   2.28717065 42.68723726 11.60025883  9.95167446  2.78452992  2.68396711\n",
      "   3.31385708  2.25384188  6.83676338 20.77855897 22.22933912  6.56159496\n",
      "  11.7244482   6.81707716 10.38504457 29.66463876  6.06262326  5.23371935\n",
      "   8.26677299  9.65205526  6.750489    0.25830936  2.04679918  2.29084897\n",
      "   1.13255954 17.15343308  3.7590785   0.43293285  5.20103955  0.43185449\n",
      "  13.97834468  6.99580908  0.54464197  0.57645965 14.30398703 14.51141691\n",
      "  29.45857549  0.70313883  3.55151033  1.1190083   4.01378727 13.84107566\n",
      "  21.85679913  6.40131998]]\n"
     ]
    }
   ],
   "source": [
    "time_diff = np.diff(np.array(df))\n",
    "print(time_diff)"
   ]
  },
  {
   "cell_type": "code",
   "execution_count": 7,
   "metadata": {
    "ExecuteTime": {
     "end_time": "2023-07-11T18:41:04.838153Z",
     "start_time": "2023-07-11T18:41:04.835625Z"
    }
   },
   "outputs": [
    {
     "name": "stdout",
     "output_type": "stream",
     "text": [
      "176\n",
      "[  30.41799927   30.70606756   33.85959816   56.56317759  103.34629083\n",
      "  104.05067658  111.79555368  112.06789732  112.56254005  125.57210469\n",
      "  126.00208926  154.8945713   161.49228048  167.57326913  212.47857165\n",
      "  221.70000625  230.57954884  231.4741621   250.0198617   252.89856172\n",
      "  253.73142099  265.602633    269.72994137  283.63476443  285.61922264\n",
      "  303.50618243  310.17977071  325.79443669  334.30659199  354.29058027\n",
      "  368.96334219  398.25593925  447.20434332  449.4714973   464.29094458\n",
      "  477.0264225   477.39748669  481.17046762  539.73336196  542.82056737\n",
      "  563.56778955  612.37225175  636.62815166  637.13979363  656.11491418\n",
      "  680.8527081   681.509619    687.47498751  695.6177125   695.89309764\n",
      "  698.50058961  698.88459587  703.42849207  710.00475264  714.16474557\n",
      "  714.7242651   720.42044902  737.34719658  737.79454589  744.5300107\n",
      "  745.20523906  751.9699223   765.07701635  765.34631348  774.62802196\n",
      "  774.9950943   781.89248085  800.161237    802.64045811  804.48557949\n",
      "  814.48374367  829.00959134  841.95745134  844.94780111  857.57047725\n",
      "  862.67647862  869.20182657  877.42459726  903.56976724  927.02783251\n",
      "  946.33728027  976.22843504  977.23764277  983.20120263  984.21349549\n",
      "  998.85276818 1007.17327619 1019.08741689 1030.16466093 1035.0078311\n",
      " 1036.35450721 1044.34113955 1052.14910126 1054.45168114 1081.44446969\n",
      " 1084.61264682 1085.2980547  1086.70792532 1086.96527791 1095.28501892\n",
      " 1108.38854647 1113.87695646 1121.58788776 1122.77468038 1124.54903531\n",
      " 1128.10076714 1146.43521547 1146.8038795  1157.06073427 1169.79568148\n",
      " 1175.95407629 1201.15854311 1228.14890099 1237.86150837 1246.54834151\n",
      " 1253.00760508 1254.30672789 1256.03536463 1256.53409123 1264.43729949\n",
      " 1274.3243947  1278.28935003 1284.34134412 1298.72369456 1302.94564366\n",
      " 1307.47595191 1319.13987589 1321.15530396 1321.58831596 1325.31430101\n",
      " 1344.60962248 1364.05338144 1366.34055209 1409.02778935 1420.62804818\n",
      " 1430.57972264 1433.36425257 1436.04821968 1439.36207676 1441.61591864\n",
      " 1448.45268202 1469.23124099 1491.46058011 1498.02217507 1509.74662328\n",
      " 1516.56370044 1526.94874501 1556.61338377 1562.67600703 1567.90972638\n",
      " 1576.17649937 1585.82855463 1592.57904363 1592.83735299 1594.88415217\n",
      " 1597.17500114 1598.30756068 1615.46099377 1619.22007227 1619.65300512\n",
      " 1624.85404468 1625.28589916 1639.26424384 1646.26005292 1646.80469489\n",
      " 1647.38115454 1661.68514156 1676.19655848 1705.65513396 1706.35827279\n",
      " 1709.90978312 1711.02879143 1715.0425787  1728.88365436 1750.74045348\n",
      " 1757.14177346]\n"
     ]
    }
   ],
   "source": [
    "time_since = np.cumsum(np.diff(np.array(df)))\n",
    "print(len(time_since))\n",
    "print(time_since)"
   ]
  },
  {
   "cell_type": "code",
   "execution_count": 59,
   "metadata": {
    "ExecuteTime": {
     "end_time": "2023-07-11T18:41:15.105786Z",
     "start_time": "2023-07-11T18:41:15.089831Z"
    }
   },
   "outputs": [
    {
     "data": {
      "text/plain": [
       "33.31821401913961"
      ]
     },
     "execution_count": 59,
     "metadata": {},
     "output_type": "execute_result"
    }
   ],
   "source": [
    "np.max(time_since)/60"
   ]
  },
  {
   "cell_type": "code",
   "execution_count": 60,
   "metadata": {
    "ExecuteTime": {
     "end_time": "2023-07-11T17:24:02.805690Z",
     "start_time": "2023-07-11T17:24:02.739204Z"
    }
   },
   "outputs": [
    {
     "data": {
      "text/plain": [
       "Text(0, 0.5, 'time since start (s)')"
      ]
     },
     "execution_count": 60,
     "metadata": {},
     "output_type": "execute_result"
    },
    {
     "data": {
      "image/png": "[encoded data removed]",
      "text/plain": [
       "<Figure size 288x216 with 1 Axes>"
      ]
     },
     "metadata": {
      "needs_background": "light"
     },
     "output_type": "display_data"
    }
   ],
   "source": [
    "fig, ax = plt.subplots(1, 1, figsize=(4, 3))\n",
    "\n",
    "ax.plot(np.arange(len(time_since)), time_since)\n",
    "ax.set_xlabel('count')\n",
    "ax.set_ylabel('time since start (s)')\n"
   ]
  },
  {
   "cell_type": "code",
   "execution_count": 42,
   "metadata": {
    "ExecuteTime": {
     "end_time": "2023-07-11T18:48:43.454787Z",
     "start_time": "2023-07-11T18:48:43.451950Z"
    }
   },
   "outputs": [
    {
     "data": {
      "text/plain": [
       "(69,)"
      ]
     },
     "execution_count": 42,
     "metadata": {},
     "output_type": "execute_result"
    }
   ],
   "source": [
    "time_since[(time_since > 300) & (time_since < 2100)].shape"
   ]
  },
  {
   "cell_type": "code",
   "execution_count": 32,
   "metadata": {
    "ExecuteTime": {
     "end_time": "2023-07-11T18:14:37.719320Z",
     "start_time": "2023-07-11T18:14:37.716990Z"
    }
   },
   "outputs": [],
   "source": [
    "np.save('../../../raw_data/realtime_vector', time_since)"
   ]
  },
  {
   "cell_type": "markdown",
   "metadata": {},
   "source": [
    "#### find minimum of diff"
   ]
  },
  {
   "cell_type": "code",
   "execution_count": 15,
   "metadata": {
    "ExecuteTime": {
     "end_time": "2023-07-11T17:30:22.114683Z",
     "start_time": "2023-07-11T17:30:22.110828Z"
    }
   },
   "outputs": [
    {
     "data": {
      "text/plain": [
       "(1, 45)"
      ]
     },
     "execution_count": 15,
     "metadata": {},
     "output_type": "execute_result"
    }
   ],
   "source": [
    "time_diff.shape"
   ]
  },
  {
   "cell_type": "code",
   "execution_count": 16,
   "metadata": {
    "ExecuteTime": {
     "end_time": "2023-07-11T17:32:24.407998Z",
     "start_time": "2023-07-11T17:32:24.329590Z"
    }
   },
   "outputs": [
    {
     "data": {
      "text/plain": [
       "Text(0.5, 0, 'time interval between bouts (s)')"
      ]
     },
     "execution_count": 16,
     "metadata": {},
     "output_type": "execute_result"
    },
    {
     "data": {
      "image/png": "[encoded data removed]",
      "text/plain": [
       "<Figure size 288x216 with 1 Axes>"
      ]
     },
     "metadata": {
      "needs_background": "light"
     },
     "output_type": "display_data"
    }
   ],
   "source": [
    "fig, ax = plt.subplots(1, 1, figsize=(4, 3))\n",
    "ax.hist(time_diff.reshape(-1, ), bins=np.arange(0, 50, 3), density=True)\n",
    "ax.set_ylabel('probability')\n",
    "ax.set_xlabel('time interval between bouts (s)')"
   ]
  },
  {
   "cell_type": "code",
   "execution_count": 17,
   "metadata": {
    "ExecuteTime": {
     "end_time": "2023-07-11T17:32:41.186044Z",
     "start_time": "2023-07-11T17:32:41.115836Z"
    }
   },
   "outputs": [
    {
     "data": {
      "text/plain": [
       "Text(0.5, 0, 'time interval between bouts (s)')"
      ]
     },
     "execution_count": 17,
     "metadata": {},
     "output_type": "execute_result"
    },
    {
     "data": {
      "image/png": "[encoded data removed]",
      "text/plain": [
       "<Figure size 288x216 with 1 Axes>"
      ]
     },
     "metadata": {
      "needs_background": "light"
     },
     "output_type": "display_data"
    }
   ],
   "source": [
    "fig, ax = plt.subplots(1, 1, figsize=(4, 3))\n",
    "ax.hist(time_diff.reshape(-1, ), bins=np.arange(0, 50, 3), density=True, cumulative=True)\n",
    "ax.set_ylabel('probability')\n",
    "ax.set_xlabel('time interval between bouts (s)')"
   ]
  },
  {
   "cell_type": "code",
   "execution_count": null,
   "metadata": {},
   "outputs": [],
   "source": []
  },
  {
   "cell_type": "code",
   "execution_count": null,
   "metadata": {},
   "outputs": [],
   "source": []
  }
 ],
 "metadata": {
  "kernelspec": {
   "display_name": "Python 3 (ipykernel)",
   "language": "python",
   "name": "python3"
  },
  "language_info": {
   "codemirror_mode": {
    "name": "ipython",
    "version": 3
   },
   "file_extension": ".py",
   "mimetype": "text/x-python",
   "name": "python",
   "nbconvert_exporter": "python",
   "pygments_lexer": "ipython3",
   "version": "3.8.5"
  }
 },
 "nbformat": 4,
 "nbformat_minor": 1
}
