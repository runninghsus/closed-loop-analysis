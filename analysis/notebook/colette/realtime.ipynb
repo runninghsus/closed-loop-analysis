{
 "cells": [
  {
   "cell_type": "code",
   "execution_count": 5,
   "metadata": {
    "collapsed": true,
    "ExecuteTime": {
     "end_time": "2023-07-11T18:41:02.501886Z",
     "start_time": "2023-07-11T18:41:02.499932Z"
    }
   },
   "outputs": [],
   "source": [
    "import pandas as pd\n",
    "import numpy as np\n",
    "import matplotlib.pyplot as plt"
   ]
  },
  {
   "cell_type": "code",
   "execution_count": 6,
   "outputs": [],
   "source": [
    "df = pd.read_csv('../../../raw_data/20230710_12_18_30.csv')"
   ],
   "metadata": {
    "collapsed": false,
    "ExecuteTime": {
     "end_time": "2023-07-11T18:41:02.871180Z",
     "start_time": "2023-07-11T18:41:02.862005Z"
    }
   }
  },
  {
   "cell_type": "code",
   "execution_count": 7,
   "outputs": [
    {
     "data": {
      "text/plain": "   Experiment_Start  (6, 'Stim_Start')  (7, 'Stim_Start')  (8, 'Stim_Start')  \\\n0      1.689006e+09       1.689006e+09       1.689006e+09       1.689006e+09   \n\n   (9, 'Stim_Start')  (10, 'Stim_Start')  (11, 'Stim_Start')  \\\n0       1.689006e+09        1.689006e+09        1.689006e+09   \n\n   (12, 'Stim_Start')  (13, 'Stim_Start')  (14, 'Stim_Start')  ...  \\\n0        1.689006e+09        1.689006e+09        1.689006e+09  ...   \n\n   (280, 'Stim_Start')  (281, 'Stim_Start')  (282, 'Stim_Start')  \\\n0         1.689009e+09         1.689009e+09         1.689009e+09   \n\n   (283, 'Stim_Start')  (284, 'Stim_Start')  (285, 'Stim_Start')  \\\n0         1.689009e+09         1.689009e+09         1.689009e+09   \n\n   (286, 'Stim_Start')  (287, 'Stim_Start')  (288, 'Stim_Start')  \\\n0         1.689009e+09         1.689009e+09         1.689009e+09   \n\n   (289, 'Stim_Start')  \n0         1.689009e+09  \n\n[1 rows x 285 columns]",
      "text/html": "<div>\n<style scoped>\n    .dataframe tbody tr th:only-of-type {\n        vertical-align: middle;\n    }\n\n    .dataframe tbody tr th {\n        vertical-align: top;\n    }\n\n    .dataframe thead th {\n        text-align: right;\n    }\n</style>\n<table border=\"1\" class=\"dataframe\">\n  <thead>\n    <tr style=\"text-align: right;\">\n      <th></th>\n      <th>Experiment_Start</th>\n      <th>(6, 'Stim_Start')</th>\n      <th>(7, 'Stim_Start')</th>\n      <th>(8, 'Stim_Start')</th>\n      <th>(9, 'Stim_Start')</th>\n      <th>(10, 'Stim_Start')</th>\n      <th>(11, 'Stim_Start')</th>\n      <th>(12, 'Stim_Start')</th>\n      <th>(13, 'Stim_Start')</th>\n      <th>(14, 'Stim_Start')</th>\n      <th>...</th>\n      <th>(280, 'Stim_Start')</th>\n      <th>(281, 'Stim_Start')</th>\n      <th>(282, 'Stim_Start')</th>\n      <th>(283, 'Stim_Start')</th>\n      <th>(284, 'Stim_Start')</th>\n      <th>(285, 'Stim_Start')</th>\n      <th>(286, 'Stim_Start')</th>\n      <th>(287, 'Stim_Start')</th>\n      <th>(288, 'Stim_Start')</th>\n      <th>(289, 'Stim_Start')</th>\n    </tr>\n  </thead>\n  <tbody>\n    <tr>\n      <th>0</th>\n      <td>1.689006e+09</td>\n      <td>1.689006e+09</td>\n      <td>1.689006e+09</td>\n      <td>1.689006e+09</td>\n      <td>1.689006e+09</td>\n      <td>1.689006e+09</td>\n      <td>1.689006e+09</td>\n      <td>1.689006e+09</td>\n      <td>1.689006e+09</td>\n      <td>1.689006e+09</td>\n      <td>...</td>\n      <td>1.689009e+09</td>\n      <td>1.689009e+09</td>\n      <td>1.689009e+09</td>\n      <td>1.689009e+09</td>\n      <td>1.689009e+09</td>\n      <td>1.689009e+09</td>\n      <td>1.689009e+09</td>\n      <td>1.689009e+09</td>\n      <td>1.689009e+09</td>\n      <td>1.689009e+09</td>\n    </tr>\n  </tbody>\n</table>\n<p>1 rows × 285 columns</p>\n</div>"
     },
     "execution_count": 7,
     "metadata": {},
     "output_type": "execute_result"
    }
   ],
   "source": [
    "df"
   ],
   "metadata": {
    "collapsed": false,
    "ExecuteTime": {
     "end_time": "2023-07-11T18:41:03.206991Z",
     "start_time": "2023-07-11T18:41:03.203081Z"
    }
   }
  },
  {
   "cell_type": "code",
   "execution_count": 8,
   "outputs": [
    {
     "data": {
      "text/plain": "14.442330360412598"
     },
     "execution_count": 8,
     "metadata": {},
     "output_type": "execute_result"
    }
   ],
   "source": [
    "df.iloc[0, 1] - df.iloc[0, 0]"
   ],
   "metadata": {
    "collapsed": false,
    "ExecuteTime": {
     "end_time": "2023-07-11T18:41:03.789252Z",
     "start_time": "2023-07-11T18:41:03.771700Z"
    }
   }
  },
  {
   "cell_type": "code",
   "execution_count": 9,
   "outputs": [],
   "source": [
    "time_diff = np.diff(np.array(df))"
   ],
   "metadata": {
    "collapsed": false,
    "ExecuteTime": {
     "end_time": "2023-07-11T18:41:04.232654Z",
     "start_time": "2023-07-11T18:41:04.225904Z"
    }
   }
  },
  {
   "cell_type": "code",
   "execution_count": 10,
   "outputs": [],
   "source": [
    "time_since = np.cumsum(np.diff(np.array(df)))"
   ],
   "metadata": {
    "collapsed": false,
    "ExecuteTime": {
     "end_time": "2023-07-11T18:41:04.838153Z",
     "start_time": "2023-07-11T18:41:04.835625Z"
    }
   }
  },
  {
   "cell_type": "code",
   "execution_count": 12,
   "outputs": [
    {
     "data": {
      "text/plain": "49.3212754090627"
     },
     "execution_count": 12,
     "metadata": {},
     "output_type": "execute_result"
    }
   ],
   "source": [
    "np.max(time_since)/60"
   ],
   "metadata": {
    "collapsed": false,
    "ExecuteTime": {
     "end_time": "2023-07-11T18:41:15.105786Z",
     "start_time": "2023-07-11T18:41:15.089831Z"
    }
   }
  },
  {
   "cell_type": "code",
   "execution_count": 14,
   "outputs": [
    {
     "data": {
      "text/plain": "Text(0, 0.5, 'time since start (s)')"
     },
     "execution_count": 14,
     "metadata": {},
     "output_type": "execute_result"
    },
    {
     "data": {
      "text/plain": "<Figure size 400x300 with 1 Axes>",
      "image/png": "[encoded data removed]"
     },
     "metadata": {},
     "output_type": "display_data"
    }
   ],
   "source": [
    "fig, ax = plt.subplots(1, 1, figsize=(4, 3))\n",
    "\n",
    "ax.plot(np.arange(len(time_since)), time_since)\n",
    "ax.set_xlabel('count')\n",
    "ax.set_ylabel('time since start (s)')\n"
   ],
   "metadata": {
    "collapsed": false,
    "ExecuteTime": {
     "end_time": "2023-07-11T17:24:02.805690Z",
     "start_time": "2023-07-11T17:24:02.739204Z"
    }
   }
  },
  {
   "cell_type": "code",
   "execution_count": 16,
   "outputs": [
    {
     "data": {
      "text/plain": "(23,)"
     },
     "execution_count": 16,
     "metadata": {},
     "output_type": "execute_result"
    }
   ],
   "source": [
    "time_since[(time_since > 1500) & (time_since < 1800)].shape"
   ],
   "metadata": {
    "collapsed": false,
    "ExecuteTime": {
     "end_time": "2023-07-11T18:48:43.454787Z",
     "start_time": "2023-07-11T18:48:43.451950Z"
    }
   }
  },
  {
   "cell_type": "code",
   "execution_count": 29,
   "outputs": [],
   "source": [
    "np.save('../../../raw_data/realtime_vector', time_since)"
   ],
   "metadata": {
    "collapsed": false,
    "ExecuteTime": {
     "end_time": "2023-07-11T18:14:37.719320Z",
     "start_time": "2023-07-11T18:14:37.716990Z"
    }
   }
  },
  {
   "cell_type": "markdown",
   "source": [
    "#### find minimum of diff"
   ],
   "metadata": {
    "collapsed": false
   }
  },
  {
   "cell_type": "code",
   "execution_count": 20,
   "outputs": [
    {
     "data": {
      "text/plain": "(1, 284)"
     },
     "execution_count": 20,
     "metadata": {},
     "output_type": "execute_result"
    }
   ],
   "source": [
    "time_diff.shape"
   ],
   "metadata": {
    "collapsed": false,
    "ExecuteTime": {
     "end_time": "2023-07-11T17:30:22.114683Z",
     "start_time": "2023-07-11T17:30:22.110828Z"
    }
   }
  },
  {
   "cell_type": "code",
   "execution_count": 26,
   "outputs": [
    {
     "data": {
      "text/plain": "Text(0.5, 0, 'time interval between bouts (s)')"
     },
     "execution_count": 26,
     "metadata": {},
     "output_type": "execute_result"
    },
    {
     "data": {
      "text/plain": "<Figure size 400x300 with 1 Axes>",
      "image/png": "[encoded data removed]"
     },
     "metadata": {},
     "output_type": "display_data"
    }
   ],
   "source": [
    "fig, ax = plt.subplots(1, 1, figsize=(4, 3))\n",
    "ax.hist(time_diff.reshape(-1, ), bins=np.arange(0, 50, 3), density=True)\n",
    "ax.set_ylabel('probability')\n",
    "ax.set_xlabel('time interval between bouts (s)')"
   ],
   "metadata": {
    "collapsed": false,
    "ExecuteTime": {
     "end_time": "2023-07-11T17:32:24.407998Z",
     "start_time": "2023-07-11T17:32:24.329590Z"
    }
   }
  },
  {
   "cell_type": "code",
   "execution_count": 27,
   "outputs": [
    {
     "data": {
      "text/plain": "Text(0.5, 0, 'time interval between bouts (s)')"
     },
     "execution_count": 27,
     "metadata": {},
     "output_type": "execute_result"
    },
    {
     "data": {
      "text/plain": "<Figure size 400x300 with 1 Axes>",
      "image/png": "[encoded data removed]"
     },
     "metadata": {},
     "output_type": "display_data"
    }
   ],
   "source": [
    "fig, ax = plt.subplots(1, 1, figsize=(4, 3))\n",
    "ax.hist(time_diff.reshape(-1, ), bins=np.arange(0, 50, 3), density=True, cumulative=True)\n",
    "ax.set_ylabel('probability')\n",
    "ax.set_xlabel('time interval between bouts (s)')"
   ],
   "metadata": {
    "collapsed": false,
    "ExecuteTime": {
     "end_time": "2023-07-11T17:32:41.186044Z",
     "start_time": "2023-07-11T17:32:41.115836Z"
    }
   }
  },
  {
   "cell_type": "code",
   "execution_count": null,
   "outputs": [],
   "source": [],
   "metadata": {
    "collapsed": false
   }
  }
 ],
 "metadata": {
  "kernelspec": {
   "display_name": "Python 3",
   "language": "python",
   "name": "python3"
  },
  "language_info": {
   "codemirror_mode": {
    "name": "ipython",
    "version": 2
   },
   "file_extension": ".py",
   "mimetype": "text/x-python",
   "name": "python",
   "nbconvert_exporter": "python",
   "pygments_lexer": "ipython2",
   "version": "2.7.6"
  }
 },
 "nbformat": 4,
 "nbformat_minor": 0
}
