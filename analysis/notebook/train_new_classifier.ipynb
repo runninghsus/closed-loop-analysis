{
 "cells": [
  {
   "cell_type": "code",
   "execution_count": 20,
   "id": "a1cff9a1-c938-4ebd-9726-4e7d7a57ce21",
   "metadata": {},
   "outputs": [],
   "source": [
    "import os\n",
    "import joblib\n",
    "import pandas as pd\n",
    "from sklearn.ensemble import RandomForestClassifier\n",
    "from sklearn.model_selection import train_test_split\n",
    "from sklearn.metrics import f1_score\n",
    "import numpy as np"
   ]
  },
  {
   "cell_type": "code",
   "execution_count": 2,
   "id": "853482b4-fb03-4d9f-8e25-246ed9674e24",
   "metadata": {},
   "outputs": [],
   "source": [
    "def load_feats(path, name):\n",
    "    with open(os.path.join(path, str.join('', (name, '_feats.sav'))), 'rb') as fr:\n",
    "        data = joblib.load(fr)\n",
    "    return [i for i in data]\n",
    "\n",
    "\n",
    "def load_clusters(path, name):\n",
    "    with open(os.path.join(path, str.join('', (name, '_clusters.sav'))), 'rb') as fr:\n",
    "        data = joblib.load(fr)\n",
    "    return [i for i in data]"
   ]
  },
  {
   "cell_type": "code",
   "execution_count": 3,
   "id": "441b965d-20f4-48dc-b88f-efd96f8e4682",
   "metadata": {},
   "outputs": [],
   "source": [
    "path = 'D:/Jack/Project/output/'\n",
    "name = 'Sep-07-2022'\n",
    "features, scaled_features = load_feats(path, name)"
   ]
  },
  {
   "cell_type": "code",
   "execution_count": 5,
   "id": "c349b15f-5c6f-405b-a054-0cc0a00d8303",
   "metadata": {},
   "outputs": [],
   "source": [
    "[_, assignments, _, soft_assignments] = load_clusters(path, name)"
   ]
  },
  {
   "cell_type": "code",
   "execution_count": 25,
   "id": "2069c076-25de-4b5a-af12-16f0f2ebdb52",
   "metadata": {},
   "outputs": [
    {
     "data": {
      "text/html": [
       "<div>\n",
       "<style scoped>\n",
       "    .dataframe tbody tr th:only-of-type {\n",
       "        vertical-align: middle;\n",
       "    }\n",
       "\n",
       "    .dataframe tbody tr th {\n",
       "        vertical-align: top;\n",
       "    }\n",
       "\n",
       "    .dataframe thead th {\n",
       "        text-align: right;\n",
       "    }\n",
       "</style>\n",
       "<table border=\"1\" class=\"dataframe\">\n",
       "  <thead>\n",
       "    <tr style=\"text-align: right;\">\n",
       "      <th></th>\n",
       "      <th>0</th>\n",
       "      <th>1</th>\n",
       "      <th>2</th>\n",
       "      <th>3</th>\n",
       "      <th>4</th>\n",
       "      <th>5</th>\n",
       "      <th>6</th>\n",
       "      <th>7</th>\n",
       "      <th>8</th>\n",
       "      <th>9</th>\n",
       "      <th>...</th>\n",
       "      <th>26</th>\n",
       "      <th>27</th>\n",
       "      <th>28</th>\n",
       "      <th>29</th>\n",
       "      <th>30</th>\n",
       "      <th>31</th>\n",
       "      <th>32</th>\n",
       "      <th>33</th>\n",
       "      <th>34</th>\n",
       "      <th>35</th>\n",
       "    </tr>\n",
       "  </thead>\n",
       "  <tbody>\n",
       "    <tr>\n",
       "      <th>0</th>\n",
       "      <td>28.251890</td>\n",
       "      <td>37.353091</td>\n",
       "      <td>74.132391</td>\n",
       "      <td>97.581141</td>\n",
       "      <td>119.250010</td>\n",
       "      <td>28.810101</td>\n",
       "      <td>46.219590</td>\n",
       "      <td>78.472473</td>\n",
       "      <td>93.500601</td>\n",
       "      <td>53.565737</td>\n",
       "      <td>...</td>\n",
       "      <td>-0.370150</td>\n",
       "      <td>-0.980581</td>\n",
       "      <td>-0.835089</td>\n",
       "      <td>-1.472400</td>\n",
       "      <td>4.836097</td>\n",
       "      <td>2.811972</td>\n",
       "      <td>1.994454</td>\n",
       "      <td>0.777261</td>\n",
       "      <td>0.859837</td>\n",
       "      <td>1.432244</td>\n",
       "    </tr>\n",
       "    <tr>\n",
       "      <th>1</th>\n",
       "      <td>17.660453</td>\n",
       "      <td>40.345334</td>\n",
       "      <td>55.111148</td>\n",
       "      <td>92.610339</td>\n",
       "      <td>104.876809</td>\n",
       "      <td>24.998461</td>\n",
       "      <td>43.785940</td>\n",
       "      <td>75.737268</td>\n",
       "      <td>90.486857</td>\n",
       "      <td>51.170218</td>\n",
       "      <td>...</td>\n",
       "      <td>7.305572</td>\n",
       "      <td>0.703636</td>\n",
       "      <td>4.959827</td>\n",
       "      <td>2.077367</td>\n",
       "      <td>16.221747</td>\n",
       "      <td>2.360729</td>\n",
       "      <td>8.419852</td>\n",
       "      <td>1.661657</td>\n",
       "      <td>2.494970</td>\n",
       "      <td>5.345820</td>\n",
       "    </tr>\n",
       "    <tr>\n",
       "      <th>2</th>\n",
       "      <td>41.260998</td>\n",
       "      <td>33.104164</td>\n",
       "      <td>67.603430</td>\n",
       "      <td>94.890587</td>\n",
       "      <td>113.251746</td>\n",
       "      <td>23.769351</td>\n",
       "      <td>32.349420</td>\n",
       "      <td>54.682663</td>\n",
       "      <td>72.875555</td>\n",
       "      <td>55.824477</td>\n",
       "      <td>...</td>\n",
       "      <td>5.202205</td>\n",
       "      <td>-21.012716</td>\n",
       "      <td>-5.874874</td>\n",
       "      <td>-0.072087</td>\n",
       "      <td>13.910119</td>\n",
       "      <td>7.588711</td>\n",
       "      <td>10.402583</td>\n",
       "      <td>21.608048</td>\n",
       "      <td>4.369871</td>\n",
       "      <td>11.745376</td>\n",
       "    </tr>\n",
       "    <tr>\n",
       "      <th>3</th>\n",
       "      <td>38.410512</td>\n",
       "      <td>39.488726</td>\n",
       "      <td>67.150482</td>\n",
       "      <td>86.467953</td>\n",
       "      <td>114.531206</td>\n",
       "      <td>25.420594</td>\n",
       "      <td>30.183348</td>\n",
       "      <td>54.750079</td>\n",
       "      <td>76.802259</td>\n",
       "      <td>44.322776</td>\n",
       "      <td>...</td>\n",
       "      <td>5.199740</td>\n",
       "      <td>36.743331</td>\n",
       "      <td>8.572212</td>\n",
       "      <td>20.096432</td>\n",
       "      <td>7.989317</td>\n",
       "      <td>29.319428</td>\n",
       "      <td>3.405875</td>\n",
       "      <td>7.109486</td>\n",
       "      <td>34.457089</td>\n",
       "      <td>13.923869</td>\n",
       "    </tr>\n",
       "    <tr>\n",
       "      <th>4</th>\n",
       "      <td>25.191220</td>\n",
       "      <td>32.773055</td>\n",
       "      <td>86.794620</td>\n",
       "      <td>73.072302</td>\n",
       "      <td>116.195550</td>\n",
       "      <td>12.820155</td>\n",
       "      <td>62.239943</td>\n",
       "      <td>52.313367</td>\n",
       "      <td>91.875073</td>\n",
       "      <td>58.980104</td>\n",
       "      <td>...</td>\n",
       "      <td>-9.742632</td>\n",
       "      <td>0.885024</td>\n",
       "      <td>2.956705</td>\n",
       "      <td>-9.581491</td>\n",
       "      <td>26.577718</td>\n",
       "      <td>34.821585</td>\n",
       "      <td>20.108117</td>\n",
       "      <td>3.965679</td>\n",
       "      <td>4.547231</td>\n",
       "      <td>12.715968</td>\n",
       "    </tr>\n",
       "    <tr>\n",
       "      <th>...</th>\n",
       "      <td>...</td>\n",
       "      <td>...</td>\n",
       "      <td>...</td>\n",
       "      <td>...</td>\n",
       "      <td>...</td>\n",
       "      <td>...</td>\n",
       "      <td>...</td>\n",
       "      <td>...</td>\n",
       "      <td>...</td>\n",
       "      <td>...</td>\n",
       "      <td>...</td>\n",
       "      <td>...</td>\n",
       "      <td>...</td>\n",
       "      <td>...</td>\n",
       "      <td>...</td>\n",
       "      <td>...</td>\n",
       "      <td>...</td>\n",
       "      <td>...</td>\n",
       "      <td>...</td>\n",
       "      <td>...</td>\n",
       "      <td>...</td>\n",
       "    </tr>\n",
       "    <tr>\n",
       "      <th>33830</th>\n",
       "      <td>60.232202</td>\n",
       "      <td>25.611382</td>\n",
       "      <td>69.665247</td>\n",
       "      <td>25.015322</td>\n",
       "      <td>77.917309</td>\n",
       "      <td>35.860028</td>\n",
       "      <td>46.159767</td>\n",
       "      <td>50.366972</td>\n",
       "      <td>87.035698</td>\n",
       "      <td>48.393428</td>\n",
       "      <td>...</td>\n",
       "      <td>-1.502727</td>\n",
       "      <td>3.789255</td>\n",
       "      <td>-3.160873</td>\n",
       "      <td>0.049830</td>\n",
       "      <td>12.987166</td>\n",
       "      <td>3.011070</td>\n",
       "      <td>3.598596</td>\n",
       "      <td>1.696568</td>\n",
       "      <td>8.391045</td>\n",
       "      <td>3.825294</td>\n",
       "    </tr>\n",
       "    <tr>\n",
       "      <th>33831</th>\n",
       "      <td>63.167394</td>\n",
       "      <td>36.675551</td>\n",
       "      <td>81.643533</td>\n",
       "      <td>40.335489</td>\n",
       "      <td>84.064737</td>\n",
       "      <td>27.178552</td>\n",
       "      <td>33.943540</td>\n",
       "      <td>42.811808</td>\n",
       "      <td>69.724225</td>\n",
       "      <td>47.519219</td>\n",
       "      <td>...</td>\n",
       "      <td>-13.077600</td>\n",
       "      <td>-5.265384</td>\n",
       "      <td>-5.920696</td>\n",
       "      <td>-14.812852</td>\n",
       "      <td>19.990315</td>\n",
       "      <td>28.336750</td>\n",
       "      <td>3.495055</td>\n",
       "      <td>7.638469</td>\n",
       "      <td>2.458407</td>\n",
       "      <td>12.856823</td>\n",
       "    </tr>\n",
       "    <tr>\n",
       "      <th>33832</th>\n",
       "      <td>64.018438</td>\n",
       "      <td>43.772505</td>\n",
       "      <td>93.217416</td>\n",
       "      <td>80.174845</td>\n",
       "      <td>106.017654</td>\n",
       "      <td>32.674521</td>\n",
       "      <td>38.896723</td>\n",
       "      <td>36.583068</td>\n",
       "      <td>63.123134</td>\n",
       "      <td>51.396357</td>\n",
       "      <td>...</td>\n",
       "      <td>-24.714242</td>\n",
       "      <td>-82.282710</td>\n",
       "      <td>-78.939645</td>\n",
       "      <td>-32.088993</td>\n",
       "      <td>22.733418</td>\n",
       "      <td>28.508055</td>\n",
       "      <td>10.364843</td>\n",
       "      <td>65.665006</td>\n",
       "      <td>3.023926</td>\n",
       "      <td>21.981141</td>\n",
       "    </tr>\n",
       "    <tr>\n",
       "      <th>33833</th>\n",
       "      <td>58.902005</td>\n",
       "      <td>59.474777</td>\n",
       "      <td>94.136296</td>\n",
       "      <td>74.244998</td>\n",
       "      <td>107.256925</td>\n",
       "      <td>19.851812</td>\n",
       "      <td>36.582906</td>\n",
       "      <td>36.343877</td>\n",
       "      <td>59.456353</td>\n",
       "      <td>38.882895</td>\n",
       "      <td>...</td>\n",
       "      <td>-2.200982</td>\n",
       "      <td>-6.391898</td>\n",
       "      <td>-7.120537</td>\n",
       "      <td>0.486852</td>\n",
       "      <td>11.306153</td>\n",
       "      <td>13.501843</td>\n",
       "      <td>8.590168</td>\n",
       "      <td>13.903899</td>\n",
       "      <td>4.480267</td>\n",
       "      <td>6.603114</td>\n",
       "    </tr>\n",
       "    <tr>\n",
       "      <th>33834</th>\n",
       "      <td>49.970422</td>\n",
       "      <td>49.297066</td>\n",
       "      <td>79.575368</td>\n",
       "      <td>76.211424</td>\n",
       "      <td>105.145595</td>\n",
       "      <td>16.317145</td>\n",
       "      <td>30.327996</td>\n",
       "      <td>38.603472</td>\n",
       "      <td>60.300710</td>\n",
       "      <td>35.859553</td>\n",
       "      <td>...</td>\n",
       "      <td>-23.553022</td>\n",
       "      <td>-30.839280</td>\n",
       "      <td>-36.419032</td>\n",
       "      <td>-30.706937</td>\n",
       "      <td>17.414044</td>\n",
       "      <td>28.389159</td>\n",
       "      <td>20.252927</td>\n",
       "      <td>20.510122</td>\n",
       "      <td>2.735736</td>\n",
       "      <td>18.486990</td>\n",
       "    </tr>\n",
       "  </tbody>\n",
       "</table>\n",
       "<p>33835 rows × 36 columns</p>\n",
       "</div>"
      ],
      "text/plain": [
       "              0          1          2          3           4          5   \\\n",
       "0      28.251890  37.353091  74.132391  97.581141  119.250010  28.810101   \n",
       "1      17.660453  40.345334  55.111148  92.610339  104.876809  24.998461   \n",
       "2      41.260998  33.104164  67.603430  94.890587  113.251746  23.769351   \n",
       "3      38.410512  39.488726  67.150482  86.467953  114.531206  25.420594   \n",
       "4      25.191220  32.773055  86.794620  73.072302  116.195550  12.820155   \n",
       "...          ...        ...        ...        ...         ...        ...   \n",
       "33830  60.232202  25.611382  69.665247  25.015322   77.917309  35.860028   \n",
       "33831  63.167394  36.675551  81.643533  40.335489   84.064737  27.178552   \n",
       "33832  64.018438  43.772505  93.217416  80.174845  106.017654  32.674521   \n",
       "33833  58.902005  59.474777  94.136296  74.244998  107.256925  19.851812   \n",
       "33834  49.970422  49.297066  79.575368  76.211424  105.145595  16.317145   \n",
       "\n",
       "              6          7          8          9   ...         26         27  \\\n",
       "0      46.219590  78.472473  93.500601  53.565737  ...  -0.370150  -0.980581   \n",
       "1      43.785940  75.737268  90.486857  51.170218  ...   7.305572   0.703636   \n",
       "2      32.349420  54.682663  72.875555  55.824477  ...   5.202205 -21.012716   \n",
       "3      30.183348  54.750079  76.802259  44.322776  ...   5.199740  36.743331   \n",
       "4      62.239943  52.313367  91.875073  58.980104  ...  -9.742632   0.885024   \n",
       "...          ...        ...        ...        ...  ...        ...        ...   \n",
       "33830  46.159767  50.366972  87.035698  48.393428  ...  -1.502727   3.789255   \n",
       "33831  33.943540  42.811808  69.724225  47.519219  ... -13.077600  -5.265384   \n",
       "33832  38.896723  36.583068  63.123134  51.396357  ... -24.714242 -82.282710   \n",
       "33833  36.582906  36.343877  59.456353  38.882895  ...  -2.200982  -6.391898   \n",
       "33834  30.327996  38.603472  60.300710  35.859553  ... -23.553022 -30.839280   \n",
       "\n",
       "              28         29         30         31         32         33  \\\n",
       "0      -0.835089  -1.472400   4.836097   2.811972   1.994454   0.777261   \n",
       "1       4.959827   2.077367  16.221747   2.360729   8.419852   1.661657   \n",
       "2      -5.874874  -0.072087  13.910119   7.588711  10.402583  21.608048   \n",
       "3       8.572212  20.096432   7.989317  29.319428   3.405875   7.109486   \n",
       "4       2.956705  -9.581491  26.577718  34.821585  20.108117   3.965679   \n",
       "...          ...        ...        ...        ...        ...        ...   \n",
       "33830  -3.160873   0.049830  12.987166   3.011070   3.598596   1.696568   \n",
       "33831  -5.920696 -14.812852  19.990315  28.336750   3.495055   7.638469   \n",
       "33832 -78.939645 -32.088993  22.733418  28.508055  10.364843  65.665006   \n",
       "33833  -7.120537   0.486852  11.306153  13.501843   8.590168  13.903899   \n",
       "33834 -36.419032 -30.706937  17.414044  28.389159  20.252927  20.510122   \n",
       "\n",
       "              34         35  \n",
       "0       0.859837   1.432244  \n",
       "1       2.494970   5.345820  \n",
       "2       4.369871  11.745376  \n",
       "3      34.457089  13.923869  \n",
       "4       4.547231  12.715968  \n",
       "...          ...        ...  \n",
       "33830   8.391045   3.825294  \n",
       "33831   2.458407  12.856823  \n",
       "33832   3.023926  21.981141  \n",
       "33833   4.480267   6.603114  \n",
       "33834   2.735736  18.486990  \n",
       "\n",
       "[33835 rows x 36 columns]"
      ]
     },
     "execution_count": 25,
     "metadata": {},
     "output_type": "execute_result"
    }
   ],
   "source": [
    "features_df = pd.DataFrame(features.T[assignments>=0, :])\n",
    "features_df"
   ]
  },
  {
   "cell_type": "code",
   "execution_count": 24,
   "id": "89f1d5a1-5457-4bd7-ac5b-5cc5501ce974",
   "metadata": {},
   "outputs": [
    {
     "data": {
      "text/html": [
       "<div>\n",
       "<style scoped>\n",
       "    .dataframe tbody tr th:only-of-type {\n",
       "        vertical-align: middle;\n",
       "    }\n",
       "\n",
       "    .dataframe tbody tr th {\n",
       "        vertical-align: top;\n",
       "    }\n",
       "\n",
       "    .dataframe thead th {\n",
       "        text-align: right;\n",
       "    }\n",
       "</style>\n",
       "<table border=\"1\" class=\"dataframe\">\n",
       "  <thead>\n",
       "    <tr style=\"text-align: right;\">\n",
       "      <th></th>\n",
       "      <th>0</th>\n",
       "    </tr>\n",
       "  </thead>\n",
       "  <tbody>\n",
       "    <tr>\n",
       "      <th>0</th>\n",
       "      <td>10</td>\n",
       "    </tr>\n",
       "    <tr>\n",
       "      <th>1</th>\n",
       "      <td>10</td>\n",
       "    </tr>\n",
       "    <tr>\n",
       "      <th>2</th>\n",
       "      <td>17</td>\n",
       "    </tr>\n",
       "    <tr>\n",
       "      <th>3</th>\n",
       "      <td>12</td>\n",
       "    </tr>\n",
       "    <tr>\n",
       "      <th>4</th>\n",
       "      <td>18</td>\n",
       "    </tr>\n",
       "    <tr>\n",
       "      <th>...</th>\n",
       "      <td>...</td>\n",
       "    </tr>\n",
       "    <tr>\n",
       "      <th>33830</th>\n",
       "      <td>12</td>\n",
       "    </tr>\n",
       "    <tr>\n",
       "      <th>33831</th>\n",
       "      <td>8</td>\n",
       "    </tr>\n",
       "    <tr>\n",
       "      <th>33832</th>\n",
       "      <td>12</td>\n",
       "    </tr>\n",
       "    <tr>\n",
       "      <th>33833</th>\n",
       "      <td>10</td>\n",
       "    </tr>\n",
       "    <tr>\n",
       "      <th>33834</th>\n",
       "      <td>18</td>\n",
       "    </tr>\n",
       "  </tbody>\n",
       "</table>\n",
       "<p>33835 rows × 1 columns</p>\n",
       "</div>"
      ],
      "text/plain": [
       "        0\n",
       "0      10\n",
       "1      10\n",
       "2      17\n",
       "3      12\n",
       "4      18\n",
       "...    ..\n",
       "33830  12\n",
       "33831   8\n",
       "33832  12\n",
       "33833  10\n",
       "33834  18\n",
       "\n",
       "[33835 rows x 1 columns]"
      ]
     },
     "execution_count": 24,
     "metadata": {},
     "output_type": "execute_result"
    }
   ],
   "source": [
    "assign_df = pd.DataFrame(assignments[assignments>=0])\n",
    "assign_df"
   ]
  },
  {
   "cell_type": "code",
   "execution_count": 40,
   "id": "2bce9179-0fd2-4543-88a4-47d31bdd254b",
   "metadata": {},
   "outputs": [],
   "source": [
    "assign_df.iloc[np.where(assign_df != 17)[0]] = 0"
   ]
  },
  {
   "cell_type": "code",
   "execution_count": 43,
   "id": "53986bde-7a14-41f3-9df0-0b99d75bb363",
   "metadata": {},
   "outputs": [
    {
     "data": {
      "text/plain": [
       "array([ 0, 17], dtype=int64)"
      ]
     },
     "execution_count": 43,
     "metadata": {},
     "output_type": "execute_result"
    }
   ],
   "source": [
    "np.unique(assign_df)"
   ]
  },
  {
   "cell_type": "code",
   "execution_count": 59,
   "id": "6368b830-6bed-4494-bc89-f9d9a4361a9a",
   "metadata": {},
   "outputs": [
    {
     "data": {
      "text/plain": [
       "2104"
      ]
     },
     "execution_count": 59,
     "metadata": {},
     "output_type": "execute_result"
    }
   ],
   "source": [
    "sampled_idx_of_interest = np.where(assign_df>0)[0]\n",
    "size_of_target =len(sampled_idx_of_interest)\n",
    "size_of_target"
   ]
  },
  {
   "cell_type": "code",
   "execution_count": 60,
   "id": "602aac93-d5b3-4015-9662-6032030557d4",
   "metadata": {},
   "outputs": [
    {
     "data": {
      "text/plain": [
       "(2104,)"
      ]
     },
     "execution_count": 60,
     "metadata": {},
     "output_type": "execute_result"
    }
   ],
   "source": [
    "sampled_idx_of_noninterest = np.random.choice(np.where(assign_df == 0)[0], size_of_target, replace=False)\n",
    "sampled_idx_of_noninterest.shape"
   ]
  },
  {
   "cell_type": "code",
   "execution_count": 71,
   "id": "8079f098-303b-4119-b8d5-cbc7bb2dcc19",
   "metadata": {},
   "outputs": [
    {
     "name": "stdout",
     "output_type": "stream",
     "text": [
      "(3366, 36) (842, 36)\n"
     ]
    }
   ],
   "source": [
    "X, y = features_df, assign_df\n",
    "X_sub, y_sub = np.vstack([X.iloc[sampled_idx_of_interest, :], X.iloc[sampled_idx_of_noninterest, :]]), np.vstack([y.iloc[sampled_idx_of_interest], y.iloc[sampled_idx_of_noninterest]])\n",
    "random_forest_clf = RandomForestClassifier(random_state=42)\n",
    "X_train, X_test, y_train, y_test = train_test_split(X_sub, y_sub, test_size=0.2, random_state=42)\n",
    "print(X_train.shape, X_test.shape)"
   ]
  },
  {
   "cell_type": "code",
   "execution_count": 72,
   "id": "2b901da6-cf87-4171-bd1e-69520df91507",
   "metadata": {},
   "outputs": [
    {
     "data": {
      "text/plain": [
       "(array([ 0, 17], dtype=int64), array([ 0, 17], dtype=int64))"
      ]
     },
     "execution_count": 72,
     "metadata": {},
     "output_type": "execute_result"
    }
   ],
   "source": [
    "np.unique(y_train), np.unique(y_test)"
   ]
  },
  {
   "cell_type": "code",
   "execution_count": 73,
   "id": "cc9b46a7-aa87-4bca-945c-88987f6e2020",
   "metadata": {},
   "outputs": [
    {
     "name": "stderr",
     "output_type": "stream",
     "text": [
      "C:\\Users\\jimi\\AppData\\Local\\Temp\\ipykernel_14540\\2185478983.py:1: DataConversionWarning: A column-vector y was passed when a 1d array was expected. Please change the shape of y to (n_samples,), for example using ravel().\n",
      "  random_forest_clf.fit(X_train, y_train)\n"
     ]
    },
    {
     "data": {
      "text/html": [
       "<style>#sk-container-id-4 {color: black;background-color: white;}#sk-container-id-4 pre{padding: 0;}#sk-container-id-4 div.sk-toggleable {background-color: white;}#sk-container-id-4 label.sk-toggleable__label {cursor: pointer;display: block;width: 100%;margin-bottom: 0;padding: 0.3em;box-sizing: border-box;text-align: center;}#sk-container-id-4 label.sk-toggleable__label-arrow:before {content: \"▸\";float: left;margin-right: 0.25em;color: #696969;}#sk-container-id-4 label.sk-toggleable__label-arrow:hover:before {color: black;}#sk-container-id-4 div.sk-estimator:hover label.sk-toggleable__label-arrow:before {color: black;}#sk-container-id-4 div.sk-toggleable__content {max-height: 0;max-width: 0;overflow: hidden;text-align: left;background-color: #f0f8ff;}#sk-container-id-4 div.sk-toggleable__content pre {margin: 0.2em;color: black;border-radius: 0.25em;background-color: #f0f8ff;}#sk-container-id-4 input.sk-toggleable__control:checked~div.sk-toggleable__content {max-height: 200px;max-width: 100%;overflow: auto;}#sk-container-id-4 input.sk-toggleable__control:checked~label.sk-toggleable__label-arrow:before {content: \"▾\";}#sk-container-id-4 div.sk-estimator input.sk-toggleable__control:checked~label.sk-toggleable__label {background-color: #d4ebff;}#sk-container-id-4 div.sk-label input.sk-toggleable__control:checked~label.sk-toggleable__label {background-color: #d4ebff;}#sk-container-id-4 input.sk-hidden--visually {border: 0;clip: rect(1px 1px 1px 1px);clip: rect(1px, 1px, 1px, 1px);height: 1px;margin: -1px;overflow: hidden;padding: 0;position: absolute;width: 1px;}#sk-container-id-4 div.sk-estimator {font-family: monospace;background-color: #f0f8ff;border: 1px dotted black;border-radius: 0.25em;box-sizing: border-box;margin-bottom: 0.5em;}#sk-container-id-4 div.sk-estimator:hover {background-color: #d4ebff;}#sk-container-id-4 div.sk-parallel-item::after {content: \"\";width: 100%;border-bottom: 1px solid gray;flex-grow: 1;}#sk-container-id-4 div.sk-label:hover label.sk-toggleable__label {background-color: #d4ebff;}#sk-container-id-4 div.sk-serial::before {content: \"\";position: absolute;border-left: 1px solid gray;box-sizing: border-box;top: 0;bottom: 0;left: 50%;z-index: 0;}#sk-container-id-4 div.sk-serial {display: flex;flex-direction: column;align-items: center;background-color: white;padding-right: 0.2em;padding-left: 0.2em;position: relative;}#sk-container-id-4 div.sk-item {position: relative;z-index: 1;}#sk-container-id-4 div.sk-parallel {display: flex;align-items: stretch;justify-content: center;background-color: white;position: relative;}#sk-container-id-4 div.sk-item::before, #sk-container-id-4 div.sk-parallel-item::before {content: \"\";position: absolute;border-left: 1px solid gray;box-sizing: border-box;top: 0;bottom: 0;left: 50%;z-index: -1;}#sk-container-id-4 div.sk-parallel-item {display: flex;flex-direction: column;z-index: 1;position: relative;background-color: white;}#sk-container-id-4 div.sk-parallel-item:first-child::after {align-self: flex-end;width: 50%;}#sk-container-id-4 div.sk-parallel-item:last-child::after {align-self: flex-start;width: 50%;}#sk-container-id-4 div.sk-parallel-item:only-child::after {width: 0;}#sk-container-id-4 div.sk-dashed-wrapped {border: 1px dashed gray;margin: 0 0.4em 0.5em 0.4em;box-sizing: border-box;padding-bottom: 0.4em;background-color: white;}#sk-container-id-4 div.sk-label label {font-family: monospace;font-weight: bold;display: inline-block;line-height: 1.2em;}#sk-container-id-4 div.sk-label-container {text-align: center;}#sk-container-id-4 div.sk-container {/* jupyter's `normalize.less` sets `[hidden] { display: none; }` but bootstrap.min.css set `[hidden] { display: none !important; }` so we also need the `!important` here to be able to override the default hidden behavior on the sphinx rendered scikit-learn.org. See: https://github.com/scikit-learn/scikit-learn/issues/21755 */display: inline-block !important;position: relative;}#sk-container-id-4 div.sk-text-repr-fallback {display: none;}</style><div id=\"sk-container-id-4\" class=\"sk-top-container\"><div class=\"sk-text-repr-fallback\"><pre>RandomForestClassifier(random_state=42)</pre><b>In a Jupyter environment, please rerun this cell to show the HTML representation or trust the notebook. <br />On GitHub, the HTML representation is unable to render, please try loading this page with nbviewer.org.</b></div><div class=\"sk-container\" hidden><div class=\"sk-item\"><div class=\"sk-estimator sk-toggleable\"><input class=\"sk-toggleable__control sk-hidden--visually\" id=\"sk-estimator-id-4\" type=\"checkbox\" checked><label for=\"sk-estimator-id-4\" class=\"sk-toggleable__label sk-toggleable__label-arrow\">RandomForestClassifier</label><div class=\"sk-toggleable__content\"><pre>RandomForestClassifier(random_state=42)</pre></div></div></div></div></div>"
      ],
      "text/plain": [
       "RandomForestClassifier(random_state=42)"
      ]
     },
     "execution_count": 73,
     "metadata": {},
     "output_type": "execute_result"
    }
   ],
   "source": [
    "random_forest_clf.fit(X_train, y_train)"
   ]
  },
  {
   "cell_type": "code",
   "execution_count": 74,
   "id": "53aef9d2-eb36-45b3-91d2-33e85caa4fbd",
   "metadata": {},
   "outputs": [
    {
     "name": "stdout",
     "output_type": "stream",
     "text": [
      "(842,)\n"
     ]
    }
   ],
   "source": [
    "y_predict = random_forest_clf.predict(X_test)\n",
    "print(y_predict.shape)"
   ]
  },
  {
   "cell_type": "code",
   "execution_count": 75,
   "id": "8f22fc1b-a849-451a-8282-5eeccfe42dcf",
   "metadata": {},
   "outputs": [
    {
     "data": {
      "text/plain": [
       "array([ 0, 17], dtype=int64)"
      ]
     },
     "execution_count": 75,
     "metadata": {},
     "output_type": "execute_result"
    }
   ],
   "source": [
    "np.unique(y_predict)"
   ]
  },
  {
   "cell_type": "code",
   "execution_count": 76,
   "id": "16fd99de-6e3f-4960-b6df-c38df1c8ed9d",
   "metadata": {},
   "outputs": [
    {
     "data": {
      "text/plain": [
       "array([0.53095238, 0.53317536])"
      ]
     },
     "execution_count": 76,
     "metadata": {},
     "output_type": "execute_result"
    }
   ],
   "source": [
    "f1_score(y_test, y_predict, average=None)"
   ]
  },
  {
   "cell_type": "code",
   "execution_count": null,
   "id": "49e7bc41-a94e-4713-995a-78d5e617c9c7",
   "metadata": {},
   "outputs": [],
   "source": []
  }
 ],
 "metadata": {
  "kernelspec": {
   "display_name": "Python 3 (ipykernel)",
   "language": "python",
   "name": "python3"
  },
  "language_info": {
   "codemirror_mode": {
    "name": "ipython",
    "version": 3
   },
   "file_extension": ".py",
   "mimetype": "text/x-python",
   "name": "python",
   "nbconvert_exporter": "python",
   "pygments_lexer": "ipython3",
   "version": "3.8.0"
  }
 },
 "nbformat": 4,
 "nbformat_minor": 5
}
