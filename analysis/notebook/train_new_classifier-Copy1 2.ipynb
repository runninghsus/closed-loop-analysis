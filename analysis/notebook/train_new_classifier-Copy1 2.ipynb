{
 "cells": [
  {
   "cell_type": "code",
   "execution_count": 5,
   "id": "a1cff9a1-c938-4ebd-9726-4e7d7a57ce21",
   "metadata": {},
   "outputs": [],
   "source": [
    "import os\n",
    "import joblib\n",
    "import pandas as pd\n",
    "from sklearn.ensemble import RandomForestClassifier\n",
    "from sklearn.model_selection import train_test_split\n",
    "from sklearn.metrics import f1_score\n",
    "import numpy as np\n",
    "from sklearn.preprocessing import StandardScaler"
   ]
  },
  {
   "cell_type": "code",
   "execution_count": 8,
   "id": "d9295725",
   "metadata": {},
   "outputs": [
    {
     "name": "stderr",
     "output_type": "stream",
     "text": [
      "C:\\Users\\jimi\\AppData\\Roaming\\Python\\Python38\\site-packages\\sklearn\\base.py:329: UserWarning: Trying to unpickle estimator DecisionTreeClassifier from version 1.1.2 when using version 1.1.3. This might lead to breaking code or invalid results. Use at your own risk. For more info please refer to:\n",
      "https://scikit-learn.org/stable/model_persistence.html#security-maintainability-limitations\n",
      "  warnings.warn(\n",
      "C:\\Users\\jimi\\AppData\\Roaming\\Python\\Python38\\site-packages\\sklearn\\base.py:329: UserWarning: Trying to unpickle estimator RandomForestClassifier from version 1.1.2 when using version 1.1.3. This might lead to breaking code or invalid results. Use at your own risk. For more info please refer to:\n",
      "https://scikit-learn.org/stable/model_persistence.html#security-maintainability-limitations\n",
      "  warnings.warn(\n"
     ]
    }
   ],
   "source": [
    "filename = 'Z:/temp/iterX.sav'\n",
    "clf_file = joblib.load(filename)"
   ]
  },
  {
   "cell_type": "code",
   "execution_count": 6,
   "id": "7de7aa1f",
   "metadata": {},
   "outputs": [
    {
     "name": "stderr",
     "output_type": "stream",
     "text": [
      "C:\\Users\\jimi\\AppData\\Roaming\\Python\\Python38\\site-packages\\sklearn\\base.py:329: UserWarning: Trying to unpickle estimator StandardScaler from version 1.1.2 when using version 1.1.3. This might lead to breaking code or invalid results. Use at your own risk. For more info please refer to:\n",
      "https://scikit-learn.org/stable/model_persistence.html#security-maintainability-limitations\n",
      "  warnings.warn(\n"
     ]
    },
    {
     "data": {
      "text/html": [
       "<style>#sk-container-id-3 {color: black;background-color: white;}#sk-container-id-3 pre{padding: 0;}#sk-container-id-3 div.sk-toggleable {background-color: white;}#sk-container-id-3 label.sk-toggleable__label {cursor: pointer;display: block;width: 100%;margin-bottom: 0;padding: 0.3em;box-sizing: border-box;text-align: center;}#sk-container-id-3 label.sk-toggleable__label-arrow:before {content: \"▸\";float: left;margin-right: 0.25em;color: #696969;}#sk-container-id-3 label.sk-toggleable__label-arrow:hover:before {color: black;}#sk-container-id-3 div.sk-estimator:hover label.sk-toggleable__label-arrow:before {color: black;}#sk-container-id-3 div.sk-toggleable__content {max-height: 0;max-width: 0;overflow: hidden;text-align: left;background-color: #f0f8ff;}#sk-container-id-3 div.sk-toggleable__content pre {margin: 0.2em;color: black;border-radius: 0.25em;background-color: #f0f8ff;}#sk-container-id-3 input.sk-toggleable__control:checked~div.sk-toggleable__content {max-height: 200px;max-width: 100%;overflow: auto;}#sk-container-id-3 input.sk-toggleable__control:checked~label.sk-toggleable__label-arrow:before {content: \"▾\";}#sk-container-id-3 div.sk-estimator input.sk-toggleable__control:checked~label.sk-toggleable__label {background-color: #d4ebff;}#sk-container-id-3 div.sk-label input.sk-toggleable__control:checked~label.sk-toggleable__label {background-color: #d4ebff;}#sk-container-id-3 input.sk-hidden--visually {border: 0;clip: rect(1px 1px 1px 1px);clip: rect(1px, 1px, 1px, 1px);height: 1px;margin: -1px;overflow: hidden;padding: 0;position: absolute;width: 1px;}#sk-container-id-3 div.sk-estimator {font-family: monospace;background-color: #f0f8ff;border: 1px dotted black;border-radius: 0.25em;box-sizing: border-box;margin-bottom: 0.5em;}#sk-container-id-3 div.sk-estimator:hover {background-color: #d4ebff;}#sk-container-id-3 div.sk-parallel-item::after {content: \"\";width: 100%;border-bottom: 1px solid gray;flex-grow: 1;}#sk-container-id-3 div.sk-label:hover label.sk-toggleable__label {background-color: #d4ebff;}#sk-container-id-3 div.sk-serial::before {content: \"\";position: absolute;border-left: 1px solid gray;box-sizing: border-box;top: 0;bottom: 0;left: 50%;z-index: 0;}#sk-container-id-3 div.sk-serial {display: flex;flex-direction: column;align-items: center;background-color: white;padding-right: 0.2em;padding-left: 0.2em;position: relative;}#sk-container-id-3 div.sk-item {position: relative;z-index: 1;}#sk-container-id-3 div.sk-parallel {display: flex;align-items: stretch;justify-content: center;background-color: white;position: relative;}#sk-container-id-3 div.sk-item::before, #sk-container-id-3 div.sk-parallel-item::before {content: \"\";position: absolute;border-left: 1px solid gray;box-sizing: border-box;top: 0;bottom: 0;left: 50%;z-index: -1;}#sk-container-id-3 div.sk-parallel-item {display: flex;flex-direction: column;z-index: 1;position: relative;background-color: white;}#sk-container-id-3 div.sk-parallel-item:first-child::after {align-self: flex-end;width: 50%;}#sk-container-id-3 div.sk-parallel-item:last-child::after {align-self: flex-start;width: 50%;}#sk-container-id-3 div.sk-parallel-item:only-child::after {width: 0;}#sk-container-id-3 div.sk-dashed-wrapped {border: 1px dashed gray;margin: 0 0.4em 0.5em 0.4em;box-sizing: border-box;padding-bottom: 0.4em;background-color: white;}#sk-container-id-3 div.sk-label label {font-family: monospace;font-weight: bold;display: inline-block;line-height: 1.2em;}#sk-container-id-3 div.sk-label-container {text-align: center;}#sk-container-id-3 div.sk-container {/* jupyter's `normalize.less` sets `[hidden] { display: none; }` but bootstrap.min.css set `[hidden] { display: none !important; }` so we also need the `!important` here to be able to override the default hidden behavior on the sphinx rendered scikit-learn.org. See: https://github.com/scikit-learn/scikit-learn/issues/21755 */display: inline-block !important;position: relative;}#sk-container-id-3 div.sk-text-repr-fallback {display: none;}</style><div id=\"sk-container-id-3\" class=\"sk-top-container\"><div class=\"sk-text-repr-fallback\"><pre>StandardScaler()</pre><b>In a Jupyter environment, please rerun this cell to show the HTML representation or trust the notebook. <br />On GitHub, the HTML representation is unable to render, please try loading this page with nbviewer.org.</b></div><div class=\"sk-container\" hidden><div class=\"sk-item\"><div class=\"sk-estimator sk-toggleable\"><input class=\"sk-toggleable__control sk-hidden--visually\" id=\"sk-estimator-id-3\" type=\"checkbox\" checked><label for=\"sk-estimator-id-3\" class=\"sk-toggleable__label sk-toggleable__label-arrow\">StandardScaler</label><div class=\"sk-toggleable__content\"><pre>StandardScaler()</pre></div></div></div></div></div>"
      ],
      "text/plain": [
       "StandardScaler()"
      ]
     },
     "execution_count": 6,
     "metadata": {},
     "output_type": "execute_result"
    }
   ],
   "source": [
    "filename_scaler = 'Z:/temp/feats_targets.sav'\n",
    "[_, _, scalar, _] = joblib.load(filename_scaler)\n",
    "scalar"
   ]
  },
  {
   "cell_type": "code",
   "execution_count": null,
   "id": "87d29a5f",
   "metadata": {},
   "outputs": [],
   "source": [
    "scalar.inverse_transform()"
   ]
  },
  {
   "cell_type": "code",
   "execution_count": 9,
   "id": "5381e31a",
   "metadata": {},
   "outputs": [],
   "source": [
    "X, Y = clf_file[1], clf_file[2]\n",
    "X_raw = scalar.inverse_transform(X[-1][0])\n",
    "\n",
    "rf_clf = RandomForestClassifier(class_weight='balanced_subsample', max_features='auto', n_estimators=200, n_jobs=-1, random_state=42)\n",
    "# rf_clf.fit"
   ]
  },
  {
   "cell_type": "code",
   "execution_count": 10,
   "id": "331addc1",
   "metadata": {},
   "outputs": [
    {
     "data": {
      "text/plain": [
       "(array([[ 27.44868645,  28.20444771,  65.58478974, ...,   1.01228383,\n",
       "           2.28760586,   4.13699032],\n",
       "        [617.57789025,  66.73055254,  62.08257739, ...,   6.45924807,\n",
       "          93.2859406 , 213.81691246],\n",
       "        [ 13.27867595,  46.75063435,  59.0888369 , ...,   2.99326308,\n",
       "           4.10967483,   4.00874562],\n",
       "        ...,\n",
       "        [ 48.42368689, 429.47889305, 487.80107751, ...,   7.96155689,\n",
       "           1.33646029,   0.85033778],\n",
       "        [ 33.80464569,  62.86508694, 110.19434414, ...,  19.73277847,\n",
       "          58.73014351,  13.84272545],\n",
       "        [145.09035224,  71.73349046, 119.95648372, ...,   7.76803992,\n",
       "          23.80943508,  17.81352439]]),\n",
       " array([[-0.67840423, -0.4315427 , -0.33803949, ..., -0.21529077,\n",
       "         -0.17494437, -0.33930274],\n",
       "        [ 2.32668927, -0.01931271, -0.39677991, ..., -0.14850527,\n",
       "          1.54545891,  4.50317542],\n",
       "        [-0.75056166, -0.23309818, -0.44699204, ..., -0.19100188,\n",
       "         -0.14049656, -0.3422645 ],\n",
       "        ...,\n",
       "        [-0.57159399,  3.86210084,  6.74353023, ..., -0.13008538,\n",
       "         -0.19292661, -0.41520673],\n",
       "        [-0.64603801, -0.06067326,  0.41016866, ...,  0.01424216,\n",
       "          0.89215128, -0.11515247],\n",
       "        [-0.07934185,  0.03421881,  0.57390293, ..., -0.1324581 ,\n",
       "          0.23194468, -0.02344838]]))"
      ]
     },
     "execution_count": 10,
     "metadata": {},
     "output_type": "execute_result"
    }
   ],
   "source": [
    "X_raw, X[-1][0]"
   ]
  },
  {
   "cell_type": "code",
   "execution_count": 11,
   "id": "e3339226",
   "metadata": {},
   "outputs": [
    {
     "name": "stderr",
     "output_type": "stream",
     "text": [
      "C:\\Users\\jimi\\AppData\\Roaming\\Python\\Python38\\site-packages\\sklearn\\ensemble\\_forest.py:427: FutureWarning: `max_features='auto'` has been deprecated in 1.1 and will be removed in 1.3. To keep the past behaviour, explicitly set `max_features='sqrt'` or remove this parameter as it is also the default value for RandomForestClassifiers and ExtraTreesClassifiers.\n",
      "  warn(\n"
     ]
    },
    {
     "data": {
      "text/html": [
       "<style>#sk-container-id-4 {color: black;background-color: white;}#sk-container-id-4 pre{padding: 0;}#sk-container-id-4 div.sk-toggleable {background-color: white;}#sk-container-id-4 label.sk-toggleable__label {cursor: pointer;display: block;width: 100%;margin-bottom: 0;padding: 0.3em;box-sizing: border-box;text-align: center;}#sk-container-id-4 label.sk-toggleable__label-arrow:before {content: \"▸\";float: left;margin-right: 0.25em;color: #696969;}#sk-container-id-4 label.sk-toggleable__label-arrow:hover:before {color: black;}#sk-container-id-4 div.sk-estimator:hover label.sk-toggleable__label-arrow:before {color: black;}#sk-container-id-4 div.sk-toggleable__content {max-height: 0;max-width: 0;overflow: hidden;text-align: left;background-color: #f0f8ff;}#sk-container-id-4 div.sk-toggleable__content pre {margin: 0.2em;color: black;border-radius: 0.25em;background-color: #f0f8ff;}#sk-container-id-4 input.sk-toggleable__control:checked~div.sk-toggleable__content {max-height: 200px;max-width: 100%;overflow: auto;}#sk-container-id-4 input.sk-toggleable__control:checked~label.sk-toggleable__label-arrow:before {content: \"▾\";}#sk-container-id-4 div.sk-estimator input.sk-toggleable__control:checked~label.sk-toggleable__label {background-color: #d4ebff;}#sk-container-id-4 div.sk-label input.sk-toggleable__control:checked~label.sk-toggleable__label {background-color: #d4ebff;}#sk-container-id-4 input.sk-hidden--visually {border: 0;clip: rect(1px 1px 1px 1px);clip: rect(1px, 1px, 1px, 1px);height: 1px;margin: -1px;overflow: hidden;padding: 0;position: absolute;width: 1px;}#sk-container-id-4 div.sk-estimator {font-family: monospace;background-color: #f0f8ff;border: 1px dotted black;border-radius: 0.25em;box-sizing: border-box;margin-bottom: 0.5em;}#sk-container-id-4 div.sk-estimator:hover {background-color: #d4ebff;}#sk-container-id-4 div.sk-parallel-item::after {content: \"\";width: 100%;border-bottom: 1px solid gray;flex-grow: 1;}#sk-container-id-4 div.sk-label:hover label.sk-toggleable__label {background-color: #d4ebff;}#sk-container-id-4 div.sk-serial::before {content: \"\";position: absolute;border-left: 1px solid gray;box-sizing: border-box;top: 0;bottom: 0;left: 50%;z-index: 0;}#sk-container-id-4 div.sk-serial {display: flex;flex-direction: column;align-items: center;background-color: white;padding-right: 0.2em;padding-left: 0.2em;position: relative;}#sk-container-id-4 div.sk-item {position: relative;z-index: 1;}#sk-container-id-4 div.sk-parallel {display: flex;align-items: stretch;justify-content: center;background-color: white;position: relative;}#sk-container-id-4 div.sk-item::before, #sk-container-id-4 div.sk-parallel-item::before {content: \"\";position: absolute;border-left: 1px solid gray;box-sizing: border-box;top: 0;bottom: 0;left: 50%;z-index: -1;}#sk-container-id-4 div.sk-parallel-item {display: flex;flex-direction: column;z-index: 1;position: relative;background-color: white;}#sk-container-id-4 div.sk-parallel-item:first-child::after {align-self: flex-end;width: 50%;}#sk-container-id-4 div.sk-parallel-item:last-child::after {align-self: flex-start;width: 50%;}#sk-container-id-4 div.sk-parallel-item:only-child::after {width: 0;}#sk-container-id-4 div.sk-dashed-wrapped {border: 1px dashed gray;margin: 0 0.4em 0.5em 0.4em;box-sizing: border-box;padding-bottom: 0.4em;background-color: white;}#sk-container-id-4 div.sk-label label {font-family: monospace;font-weight: bold;display: inline-block;line-height: 1.2em;}#sk-container-id-4 div.sk-label-container {text-align: center;}#sk-container-id-4 div.sk-container {/* jupyter's `normalize.less` sets `[hidden] { display: none; }` but bootstrap.min.css set `[hidden] { display: none !important; }` so we also need the `!important` here to be able to override the default hidden behavior on the sphinx rendered scikit-learn.org. See: https://github.com/scikit-learn/scikit-learn/issues/21755 */display: inline-block !important;position: relative;}#sk-container-id-4 div.sk-text-repr-fallback {display: none;}</style><div id=\"sk-container-id-4\" class=\"sk-top-container\"><div class=\"sk-text-repr-fallback\"><pre>RandomForestClassifier(class_weight=&#x27;balanced_subsample&#x27;, max_features=&#x27;auto&#x27;,\n",
       "                       n_estimators=200, n_jobs=-1, random_state=42)</pre><b>In a Jupyter environment, please rerun this cell to show the HTML representation or trust the notebook. <br />On GitHub, the HTML representation is unable to render, please try loading this page with nbviewer.org.</b></div><div class=\"sk-container\" hidden><div class=\"sk-item\"><div class=\"sk-estimator sk-toggleable\"><input class=\"sk-toggleable__control sk-hidden--visually\" id=\"sk-estimator-id-4\" type=\"checkbox\" checked><label for=\"sk-estimator-id-4\" class=\"sk-toggleable__label sk-toggleable__label-arrow\">RandomForestClassifier</label><div class=\"sk-toggleable__content\"><pre>RandomForestClassifier(class_weight=&#x27;balanced_subsample&#x27;, max_features=&#x27;auto&#x27;,\n",
       "                       n_estimators=200, n_jobs=-1, random_state=42)</pre></div></div></div></div></div>"
      ],
      "text/plain": [
       "RandomForestClassifier(class_weight='balanced_subsample', max_features='auto',\n",
       "                       n_estimators=200, n_jobs=-1, random_state=42)"
      ]
     },
     "execution_count": 11,
     "metadata": {},
     "output_type": "execute_result"
    }
   ],
   "source": [
    "rf_clf.fit(X_raw,Y[-1][0])"
   ]
  },
  {
   "cell_type": "code",
   "execution_count": null,
   "id": "9f54d185",
   "metadata": {},
   "outputs": [],
   "source": [
    "new_clf_file = [rf_clf, clf_file[1], clf_file[2], clf_file[3], clf_file[4], clf_file[5]]"
   ]
  },
  {
   "cell_type": "code",
   "execution_count": null,
   "id": "99598d6d",
   "metadata": {},
   "outputs": [],
   "source": [
    "fileoutname1 = 'D:/DeepLabStream/iterX_usable.sav'\n",
    "old_file = joblib.load(fileoutname1)\n",
    "old_file[0]"
   ]
  },
  {
   "cell_type": "code",
   "execution_count": null,
   "id": "ec423280",
   "metadata": {
    "scrolled": true
   },
   "outputs": [],
   "source": [
    "fileoutname2 = 'D:/DeepLabStream/iterX_usable_new.sav'\n",
    "new_file = joblib.load(fileoutname2)\n",
    "new_file[0]"
   ]
  },
  {
   "cell_type": "code",
   "execution_count": null,
   "id": "04892b55",
   "metadata": {},
   "outputs": [],
   "source": [
    "fileoutname2 = 'D:/DeepLabStream/iterX_usable_new.sav'\n",
    "joblib.dump(new_clf_file, fileoutname2)\n",
    "# new_file[0]"
   ]
  },
  {
   "cell_type": "code",
   "execution_count": 2,
   "id": "eb787206",
   "metadata": {},
   "outputs": [],
   "source": [
    "def load_classifier(path_to_sav):\n",
    "    \"\"\"Load saved classifier\"\"\"\n",
    "    import joblib\n",
    "\n",
    "    # file = open(path_to_sav, \"rb\")\n",
    "    # [_, _, _, clf, _, predictions] = joblib.load(file)\n",
    "    [clf, _, _, _, _, _] = joblib.load(path_to_sav)\n",
    "    # file.close()\n",
    "    return clf"
   ]
  },
  {
   "cell_type": "code",
   "execution_count": 3,
   "id": "b8f0a834",
   "metadata": {},
   "outputs": [
    {
     "name": "stderr",
     "output_type": "stream",
     "text": [
      "C:\\Users\\jimi\\AppData\\Roaming\\Python\\Python38\\site-packages\\sklearn\\base.py:329: UserWarning: Trying to unpickle estimator DecisionTreeClassifier from version 0.24.1 when using version 1.1.3. This might lead to breaking code or invalid results. Use at your own risk. For more info please refer to:\n",
      "https://scikit-learn.org/stable/model_persistence.html#security-maintainability-limitations\n",
      "  warnings.warn(\n",
      "C:\\Users\\jimi\\AppData\\Roaming\\Python\\Python38\\site-packages\\sklearn\\base.py:329: UserWarning: Trying to unpickle estimator RandomForestClassifier from version 0.24.1 when using version 1.1.3. This might lead to breaking code or invalid results. Use at your own risk. For more info please refer to:\n",
      "https://scikit-learn.org/stable/model_persistence.html#security-maintainability-limitations\n",
      "  warnings.warn(\n"
     ]
    },
    {
     "data": {
      "text/html": [
       "<style>#sk-container-id-1 {color: black;background-color: white;}#sk-container-id-1 pre{padding: 0;}#sk-container-id-1 div.sk-toggleable {background-color: white;}#sk-container-id-1 label.sk-toggleable__label {cursor: pointer;display: block;width: 100%;margin-bottom: 0;padding: 0.3em;box-sizing: border-box;text-align: center;}#sk-container-id-1 label.sk-toggleable__label-arrow:before {content: \"▸\";float: left;margin-right: 0.25em;color: #696969;}#sk-container-id-1 label.sk-toggleable__label-arrow:hover:before {color: black;}#sk-container-id-1 div.sk-estimator:hover label.sk-toggleable__label-arrow:before {color: black;}#sk-container-id-1 div.sk-toggleable__content {max-height: 0;max-width: 0;overflow: hidden;text-align: left;background-color: #f0f8ff;}#sk-container-id-1 div.sk-toggleable__content pre {margin: 0.2em;color: black;border-radius: 0.25em;background-color: #f0f8ff;}#sk-container-id-1 input.sk-toggleable__control:checked~div.sk-toggleable__content {max-height: 200px;max-width: 100%;overflow: auto;}#sk-container-id-1 input.sk-toggleable__control:checked~label.sk-toggleable__label-arrow:before {content: \"▾\";}#sk-container-id-1 div.sk-estimator input.sk-toggleable__control:checked~label.sk-toggleable__label {background-color: #d4ebff;}#sk-container-id-1 div.sk-label input.sk-toggleable__control:checked~label.sk-toggleable__label {background-color: #d4ebff;}#sk-container-id-1 input.sk-hidden--visually {border: 0;clip: rect(1px 1px 1px 1px);clip: rect(1px, 1px, 1px, 1px);height: 1px;margin: -1px;overflow: hidden;padding: 0;position: absolute;width: 1px;}#sk-container-id-1 div.sk-estimator {font-family: monospace;background-color: #f0f8ff;border: 1px dotted black;border-radius: 0.25em;box-sizing: border-box;margin-bottom: 0.5em;}#sk-container-id-1 div.sk-estimator:hover {background-color: #d4ebff;}#sk-container-id-1 div.sk-parallel-item::after {content: \"\";width: 100%;border-bottom: 1px solid gray;flex-grow: 1;}#sk-container-id-1 div.sk-label:hover label.sk-toggleable__label {background-color: #d4ebff;}#sk-container-id-1 div.sk-serial::before {content: \"\";position: absolute;border-left: 1px solid gray;box-sizing: border-box;top: 0;bottom: 0;left: 50%;z-index: 0;}#sk-container-id-1 div.sk-serial {display: flex;flex-direction: column;align-items: center;background-color: white;padding-right: 0.2em;padding-left: 0.2em;position: relative;}#sk-container-id-1 div.sk-item {position: relative;z-index: 1;}#sk-container-id-1 div.sk-parallel {display: flex;align-items: stretch;justify-content: center;background-color: white;position: relative;}#sk-container-id-1 div.sk-item::before, #sk-container-id-1 div.sk-parallel-item::before {content: \"\";position: absolute;border-left: 1px solid gray;box-sizing: border-box;top: 0;bottom: 0;left: 50%;z-index: -1;}#sk-container-id-1 div.sk-parallel-item {display: flex;flex-direction: column;z-index: 1;position: relative;background-color: white;}#sk-container-id-1 div.sk-parallel-item:first-child::after {align-self: flex-end;width: 50%;}#sk-container-id-1 div.sk-parallel-item:last-child::after {align-self: flex-start;width: 50%;}#sk-container-id-1 div.sk-parallel-item:only-child::after {width: 0;}#sk-container-id-1 div.sk-dashed-wrapped {border: 1px dashed gray;margin: 0 0.4em 0.5em 0.4em;box-sizing: border-box;padding-bottom: 0.4em;background-color: white;}#sk-container-id-1 div.sk-label label {font-family: monospace;font-weight: bold;display: inline-block;line-height: 1.2em;}#sk-container-id-1 div.sk-label-container {text-align: center;}#sk-container-id-1 div.sk-container {/* jupyter's `normalize.less` sets `[hidden] { display: none; }` but bootstrap.min.css set `[hidden] { display: none !important; }` so we also need the `!important` here to be able to override the default hidden behavior on the sphinx rendered scikit-learn.org. See: https://github.com/scikit-learn/scikit-learn/issues/21755 */display: inline-block !important;position: relative;}#sk-container-id-1 div.sk-text-repr-fallback {display: none;}</style><div id=\"sk-container-id-1\" class=\"sk-top-container\"><div class=\"sk-text-repr-fallback\"><pre>RandomForestClassifier(class_weight=&#x27;balanced_subsample&#x27;, max_features=&#x27;auto&#x27;,\n",
       "                       n_estimators=200, n_jobs=-1, random_state=42)</pre><b>In a Jupyter environment, please rerun this cell to show the HTML representation or trust the notebook. <br />On GitHub, the HTML representation is unable to render, please try loading this page with nbviewer.org.</b></div><div class=\"sk-container\" hidden><div class=\"sk-item\"><div class=\"sk-estimator sk-toggleable\"><input class=\"sk-toggleable__control sk-hidden--visually\" id=\"sk-estimator-id-1\" type=\"checkbox\" checked><label for=\"sk-estimator-id-1\" class=\"sk-toggleable__label sk-toggleable__label-arrow\">RandomForestClassifier</label><div class=\"sk-toggleable__content\"><pre>RandomForestClassifier(class_weight=&#x27;balanced_subsample&#x27;, max_features=&#x27;auto&#x27;,\n",
       "                       n_estimators=200, n_jobs=-1, random_state=42)</pre></div></div></div></div></div>"
      ],
      "text/plain": [
       "RandomForestClassifier(class_weight='balanced_subsample', max_features='auto',\n",
       "                       n_estimators=200, n_jobs=-1, random_state=42)"
      ]
     },
     "execution_count": 3,
     "metadata": {},
     "output_type": "execute_result"
    }
   ],
   "source": [
    "path_to_classifier = 'D:\\DeepLabStream\\iterX_usable_new.sav'\n",
    "load_classifier(path_to_classifier)\n"
   ]
  },
  {
   "cell_type": "code",
   "execution_count": null,
   "id": "63652485",
   "metadata": {
    "scrolled": true
   },
   "outputs": [],
   "source": [
    "path_to_classifier = 'D:\\DeepLabStream\\iterX_usable.sav'\n",
    "load_classifier(path_to_classifier)\n"
   ]
  },
  {
   "cell_type": "code",
   "execution_count": null,
   "id": "d24d1db8",
   "metadata": {},
   "outputs": [],
   "source": [
    "clf_file = joblib.load(fileoutname)\n",
    "len(clf_file)"
   ]
  },
  {
   "cell_type": "code",
   "execution_count": null,
   "id": "853482b4-fb03-4d9f-8e25-246ed9674e24",
   "metadata": {},
   "outputs": [],
   "source": [
    "def load_feats(path, name):\n",
    "    with open(os.path.join(path, str.join('', (name, '_feats.sav'))), 'rb') as fr:\n",
    "        data = joblib.load(fr)\n",
    "    return [i for i in data]\n",
    "\n",
    "\n",
    "def load_clusters(path, name):\n",
    "    with open(os.path.join(path, str.join('', (name, '_clusters.sav'))), 'rb') as fr:\n",
    "        data = joblib.load(fr)\n",
    "    return [i for i in data]"
   ]
  },
  {
   "cell_type": "code",
   "execution_count": null,
   "id": "441b965d-20f4-48dc-b88f-efd96f8e4682",
   "metadata": {},
   "outputs": [],
   "source": [
    "path = 'D:/Jack/Project/output/'\n",
    "name = 'Sep-07-2022'\n",
    "features, scaled_features = load_feats(path, name)"
   ]
  },
  {
   "cell_type": "code",
   "execution_count": null,
   "id": "c349b15f-5c6f-405b-a054-0cc0a00d8303",
   "metadata": {},
   "outputs": [],
   "source": [
    "[_, assignments, _, soft_assignments] = load_clusters(path, name)"
   ]
  },
  {
   "cell_type": "code",
   "execution_count": null,
   "id": "2069c076-25de-4b5a-af12-16f0f2ebdb52",
   "metadata": {},
   "outputs": [],
   "source": [
    "features_df = pd.DataFrame(features.T[assignments>=0, :])\n",
    "features_df"
   ]
  },
  {
   "cell_type": "code",
   "execution_count": null,
   "id": "89f1d5a1-5457-4bd7-ac5b-5cc5501ce974",
   "metadata": {},
   "outputs": [],
   "source": [
    "assign_df = pd.DataFrame(assignments[assignments>=0])\n",
    "assign_df"
   ]
  },
  {
   "cell_type": "code",
   "execution_count": null,
   "id": "5c0f63d5-216c-4dec-8910-1fe2382df6ff",
   "metadata": {},
   "outputs": [],
   "source": [
    "np.unique(assign_df)"
   ]
  },
  {
   "cell_type": "code",
   "execution_count": null,
   "id": "a72f62eb-6e08-40e0-ad42-79d231172a32",
   "metadata": {},
   "outputs": [],
   "source": [
    "sampled_idx_of_interest = np.where(assign_df==17)[0]\n",
    "size_of_target =len(sampled_idx_of_interest)\n",
    "size_of_target"
   ]
  },
  {
   "cell_type": "code",
   "execution_count": null,
   "id": "3a7a2b8a-d295-40be-aa3b-28385e5f252f",
   "metadata": {},
   "outputs": [],
   "source": [
    "sampled_idx_of_noninterest = np.random.choice(np.where(assign_df != 17)[0], size_of_target, replace=False)\n",
    "sampled_idx_of_noninterest.shape"
   ]
  },
  {
   "cell_type": "code",
   "execution_count": null,
   "id": "49bf7196-b593-4272-86cb-f8a6f427261a",
   "metadata": {},
   "outputs": [],
   "source": [
    "X, y = features_df, assign_df\n",
    "X_sub, y_sub = np.vstack([X.iloc[sampled_idx_of_interest, :], X.iloc[sampled_idx_of_noninterest, :]]), np.vstack([y.iloc[sampled_idx_of_interest], y.iloc[sampled_idx_of_noninterest]])\n",
    "random_forest_clf = RandomForestClassifier(random_state=42)\n",
    "X_train, X_test, y_train, y_test = train_test_split(X_sub, y_sub, test_size=0.2, random_state=42)\n",
    "print(X_train.shape, X_test.shape)"
   ]
  },
  {
   "cell_type": "code",
   "execution_count": null,
   "id": "07618596-197a-4de7-977e-d081c71453e2",
   "metadata": {},
   "outputs": [],
   "source": [
    "random_forest_clf.fit(X_train, y_train)"
   ]
  },
  {
   "cell_type": "code",
   "execution_count": null,
   "id": "ec25e951-b52b-4c57-8b95-384536153ba4",
   "metadata": {},
   "outputs": [],
   "source": [
    "y_predict = random_forest_clf.predict(X_test)\n",
    "print(y_predict.shape)"
   ]
  },
  {
   "cell_type": "code",
   "execution_count": null,
   "id": "341a748d-fc5a-4976-8d66-420637af8131",
   "metadata": {},
   "outputs": [],
   "source": [
    "np.unique(y_predict)"
   ]
  },
  {
   "cell_type": "code",
   "execution_count": null,
   "id": "42053f6a-72f2-4c8d-852f-335944b199a7",
   "metadata": {},
   "outputs": [],
   "source": [
    "f1_score(y_test, y_predict, average=None)"
   ]
  },
  {
   "cell_type": "code",
   "execution_count": null,
   "id": "26408b0d-dc7e-4750-bb71-636ceeca7bbd",
   "metadata": {},
   "outputs": [],
   "source": []
  },
  {
   "cell_type": "code",
   "execution_count": null,
   "id": "2bce9179-0fd2-4543-88a4-47d31bdd254b",
   "metadata": {},
   "outputs": [],
   "source": [
    "random_labels = np.random.randint(0, 17, size=len(np.where(assign_df != 17)[0]))\n",
    "print(random_labels)\n",
    "assign_df.iloc[np.where(assign_df != 17)[0]] = random_labels.reshape(random_labels.shape[0], 1)"
   ]
  },
  {
   "cell_type": "code",
   "execution_count": null,
   "id": "53986bde-7a14-41f3-9df0-0b99d75bb363",
   "metadata": {},
   "outputs": [],
   "source": [
    "np.unique(assign_df)"
   ]
  },
  {
   "cell_type": "code",
   "execution_count": null,
   "id": "6368b830-6bed-4494-bc89-f9d9a4361a9a",
   "metadata": {},
   "outputs": [],
   "source": [
    "sampled_idx_of_interest = np.where(assign_df==17)[0]\n",
    "size_of_target =len(sampled_idx_of_interest)\n",
    "size_of_target"
   ]
  },
  {
   "cell_type": "code",
   "execution_count": null,
   "id": "602aac93-d5b3-4015-9662-6032030557d4",
   "metadata": {},
   "outputs": [],
   "source": [
    "sampled_idx_of_noninterest = np.random.choice(np.where(assign_df != 17)[0], size_of_target, replace=False)\n",
    "sampled_idx_of_noninterest.shape"
   ]
  },
  {
   "cell_type": "code",
   "execution_count": null,
   "id": "8079f098-303b-4119-b8d5-cbc7bb2dcc19",
   "metadata": {},
   "outputs": [],
   "source": [
    "X, y = features_df, assign_df\n",
    "X_sub, y_sub = np.vstack([X.iloc[sampled_idx_of_interest, :], X.iloc[sampled_idx_of_noninterest, :]]), np.vstack([y.iloc[sampled_idx_of_interest], y.iloc[sampled_idx_of_noninterest]])\n",
    "random_forest_clf = RandomForestClassifier(random_state=42)\n",
    "X_train, X_test, y_train, y_test = train_test_split(X_sub, y_sub, test_size=0.2, random_state=42)\n",
    "print(X_train.shape, X_test.shape)"
   ]
  },
  {
   "cell_type": "code",
   "execution_count": null,
   "id": "2b901da6-cf87-4171-bd1e-69520df91507",
   "metadata": {},
   "outputs": [],
   "source": [
    "np.unique(y_train), np.unique(y_test)"
   ]
  },
  {
   "cell_type": "code",
   "execution_count": null,
   "id": "cc9b46a7-aa87-4bca-945c-88987f6e2020",
   "metadata": {},
   "outputs": [],
   "source": [
    "random_forest_clf.fit(X_train, y_train)"
   ]
  },
  {
   "cell_type": "code",
   "execution_count": null,
   "id": "53aef9d2-eb36-45b3-91d2-33e85caa4fbd",
   "metadata": {},
   "outputs": [],
   "source": [
    "y_predict = random_forest_clf.predict(X_test)\n",
    "print(y_predict.shape)"
   ]
  },
  {
   "cell_type": "code",
   "execution_count": null,
   "id": "8f22fc1b-a849-451a-8282-5eeccfe42dcf",
   "metadata": {},
   "outputs": [],
   "source": [
    "np.unique(y_predict)"
   ]
  },
  {
   "cell_type": "code",
   "execution_count": null,
   "id": "16fd99de-6e3f-4960-b6df-c38df1c8ed9d",
   "metadata": {},
   "outputs": [],
   "source": [
    "f1_score(y_test, y_predict, average=None)"
   ]
  },
  {
   "cell_type": "code",
   "execution_count": null,
   "id": "49e7bc41-a94e-4713-995a-78d5e617c9c7",
   "metadata": {},
   "outputs": [],
   "source": []
  }
 ],
 "metadata": {
  "kernelspec": {
   "display_name": "Python 3 (ipykernel)",
   "language": "python",
   "name": "python3"
  },
  "language_info": {
   "codemirror_mode": {
    "name": "ipython",
    "version": 3
   },
   "file_extension": ".py",
   "mimetype": "text/x-python",
   "name": "python",
   "nbconvert_exporter": "python",
   "pygments_lexer": "ipython3",
   "version": "3.8.0"
  }
 },
 "nbformat": 4,
 "nbformat_minor": 5
}
