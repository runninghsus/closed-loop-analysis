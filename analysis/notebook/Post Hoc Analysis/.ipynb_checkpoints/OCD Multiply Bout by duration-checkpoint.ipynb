{
 "cells": [
  {
   "cell_type": "code",
   "execution_count": 3,
   "id": "b95b5ca3",
   "metadata": {},
   "outputs": [],
   "source": [
    "import csv\n",
    "import tkinter as tk\n",
    "from tkinter import filedialog\n",
    "import os"
   ]
  },
  {
   "cell_type": "code",
   "execution_count": 29,
   "id": "53190441",
   "metadata": {
    "scrolled": true
   },
   "outputs": [
    {
     "name": "stdout",
     "output_type": "stream",
     "text": [
      "/Users/kaycei/K on Server (NoMachine)/KayCei/HDC/AH4-KO/120523-LIGHTS OFF\n",
      "3903.201\n",
      "Sorted result with 'Total Time (minutes)' row preserved saved to '/Users/kaycei/K on Server (NoMachine)/KayCei/HDC/AH4-KO/120523-LIGHTS OFF/sorted_result.csv'.\n",
      "Locomotion 1309.152 33.54\n",
      "Investigate Type 2 1182.0079999999998 30.28\n",
      "Ipsi-Orient 314.55600000000004 8.06\n",
      "insignificant 311.652 7.98\n",
      "Contra-Orient 229.026 5.87\n",
      "Investigate Type 1 131.76 3.38\n",
      "Contra-Itch 113.389 2.91\n",
      "Investigate Type 3 111.552 2.86\n",
      "Face Groom Type 1 64.41 1.65\n",
      "Dive/Scrunch 57.599999999999994 1.48\n",
      "Rear 27.029 0.69\n",
      "Ipsi-Itch Type 1 23.296 0.6\n",
      "Head Groom 8.58 0.22\n",
      "Ipsi-Body Groom 7.704 0.2\n",
      "Contra-Body Groom 4.4 0.11\n",
      "Paw-Groom 3.993 0.1\n",
      "Total Time (minutes) 65.05335\n"
     ]
    }
   ],
   "source": [
    "# Function to read a CSV file and return it as a list of rows\n",
    "def read_csv(filename):\n",
    "    rows = []\n",
    "    with open(filename, 'r') as csv_file:\n",
    "        csv_reader = csv.reader(csv_file)\n",
    "        for row in csv_reader:\n",
    "            rows.append(row)\n",
    "    return rows\n",
    "\n",
    "# Create a tkinter root window (hidden)\n",
    "root = tk.Tk()\n",
    "root.withdraw()\n",
    "\n",
    "# Ask the user to select multiple CSV files\n",
    "csv_files = filedialog.askopenfilenames(\n",
    "    title=\"Select CSV files to process\",\n",
    "    filetypes=[(\"CSV Files\", \"*.csv\")]\n",
    ")\n",
    "\n",
    "if not csv_files:\n",
    "    print(\"No CSV files selected. Exiting.\")\n",
    "    exit()\n",
    "\n",
    "# Get the directory path from one of the selected CSV files\n",
    "output_directory = os.path.dirname(csv_files[0])\n",
    "print(output_directory)\n",
    "\n",
    "# Read the selected CSV files into lists of rows\n",
    "csv_data = []\n",
    "for csv_file in csv_files:\n",
    "    csv_data.append(read_csv(csv_file))\n",
    "    \n",
    "# Create a new list to store the result rows\n",
    "result_rows = []\n",
    "\n",
    "# Ensure all CSV files have the same number of rows\n",
    "num_rows = len(csv_data[0])\n",
    "for data in csv_data[1:]:\n",
    "    if len(data) != num_rows:\n",
    "        print(\"Error: CSV files do not have the same number of rows.\")\n",
    "        exit()\n",
    "\n",
    "# Multiply corresponding rows from all CSV files and create result rows\n",
    "for i in range(2, num_rows):  # Start from row 3 (index 2)\n",
    "    result_row = [csv_data[0][i][0]]  # Set the key from the first CSV file\n",
    "    product = 1.0  # Initialize the product to 1.0\n",
    "    for data in csv_data:\n",
    "        value = float(data[i][1])\n",
    "        product *= value\n",
    "    result_row.append(product)  # Add the product to the result row\n",
    "    result_rows.append(result_row)\n",
    "\n",
    "# Calculate the total sum of values in column 2 of the result_rows list\n",
    "total_sum = sum(result_row[1] for result_row in result_rows)\n",
    "print(total_sum)\n",
    "# Calculate the percent of time spent during the session and round to two decimal places\n",
    "for result_row in result_rows:\n",
    "    percent_of_time = (result_row[1] / total_sum) * 100\n",
    "    result_row.append(round(percent_of_time, 2))\n",
    "    \n",
    "# Calculate the \"Total Time (minutes)\"\n",
    "total_time_minutes = total_sum / 60\n",
    "\n",
    "# Add \"Total Time (minutes)\" row at the end of the result_rows list\n",
    "total_time_row = [\"Total Time (minutes)\", total_time_minutes]\n",
    "\n",
    "# Separate the \"Total Time (minutes)\" row from the result_rows\n",
    "data_to_sort = result_rows[:-1]  # Exclude the last row for sorting\n",
    "\n",
    "# Sort data_to_sort based on the third column (index 2) if it exists\n",
    "sorted_data = sorted(data_to_sort, key=lambda x: x[2] if len(x) > 2 else 0, reverse=True)\n",
    "\n",
    "# Combine the sorted data and the \"Total Time (minutes)\" row\n",
    "sorted_result_rows = sorted_data + [total_time_row]\n",
    "\n",
    "# Save the sorted result to a CSV file\n",
    "sorted_output_csv_file = os.path.join(output_directory, 'sorted_result.csv')\n",
    "with open(sorted_output_csv_file, 'w', newline='') as sorted_output_csv:\n",
    "    csv_writer = csv.writer(sorted_output_csv)\n",
    "    csv_writer.writerow(['Key', 'Time (seconds)', 'Percent of Time Spent'])  # Write headers\n",
    "    csv_writer.writerows(sorted_result_rows)\n",
    "\n",
    "print(f\"Sorted result with 'Total Time (minutes)' row preserved saved to '{sorted_output_csv_file}'.\")\n",
    "\n",
    "# Print the sorted result\n",
    "for row in sorted_result_rows:\n",
    "    if len(row) >= 3:\n",
    "        print(row[0], row[1], row[2])\n",
    "    else:\n",
    "        print(row[0], row[1])\n",
    "\n"
   ]
  },
  {
   "cell_type": "code",
   "execution_count": 30,
   "id": "0d643d54",
   "metadata": {},
   "outputs": [
    {
     "name": "stdout",
     "output_type": "stream",
     "text": [
      "19\n"
     ]
    }
   ],
   "source": [
    "print(num_rows)"
   ]
  },
  {
   "cell_type": "code",
   "execution_count": null,
   "id": "200db196",
   "metadata": {},
   "outputs": [],
   "source": []
  },
  {
   "cell_type": "code",
   "execution_count": null,
   "id": "7c8df72b",
   "metadata": {},
   "outputs": [],
   "source": []
  }
 ],
 "metadata": {
  "kernelspec": {
   "display_name": "Python 3 (ipykernel)",
   "language": "python",
   "name": "python3"
  },
  "language_info": {
   "codemirror_mode": {
    "name": "ipython",
    "version": 3
   },
   "file_extension": ".py",
   "mimetype": "text/x-python",
   "name": "python",
   "nbconvert_exporter": "python",
   "pygments_lexer": "ipython3",
   "version": "3.10.4"
  }
 },
 "nbformat": 4,
 "nbformat_minor": 5
}
