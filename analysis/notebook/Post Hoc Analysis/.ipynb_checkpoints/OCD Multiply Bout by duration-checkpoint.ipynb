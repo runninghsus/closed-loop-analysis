{
 "cells": [
  {
   "cell_type": "code",
   "execution_count": 1,
   "id": "53190441",
   "metadata": {},
   "outputs": [
    {
     "name": "stdout",
     "output_type": "stream",
     "text": [
      "Result saved to '/Users/kaycei/K on Server (NoMachine)/KayCei/AD6-D2/videos/071823-rt bilateral sham/result.csv'.\n",
      "Ipsi-Body Groom 227.37\n",
      "Locomotion 349.12800000000004\n",
      "insignificant 1559.9009999999998\n",
      "Contra-Orient 101.50699999999999\n",
      "Investigate Type 2 1036.742\n",
      "Contra-Itch 123.29100000000001\n",
      "Ipsi-Orient 132.464\n",
      "Rear 72.45\n",
      "Face Groom Type 1 71.82000000000001\n",
      "Ipsi-Itch Type 1 25.272\n",
      "Contra-Body Groom 104.804\n",
      "Investigate Type 3 61.71\n",
      "Dive/Scrunch 18.88\n",
      "Investigate Type 1 1.7039999999999997\n",
      "Head Groom 13.596\n",
      "Paw-Groom 0.2\n",
      "Total Time in seconds 65.01398333333334\n"
     ]
    }
   ],
   "source": [
    "import csv\n",
    "import tkinter as tk\n",
    "from tkinter import filedialog\n",
    "import os\n",
    "\n",
    "# Function to read a CSV file and return it as a list of rows\n",
    "def read_csv(filename):\n",
    "    rows = []\n",
    "    with open(filename, 'r') as csv_file:\n",
    "        csv_reader = csv.reader(csv_file)\n",
    "        for row in csv_reader:\n",
    "            rows.append(row)\n",
    "    return rows\n",
    "\n",
    "# Create a tkinter root window (hidden)\n",
    "root = tk.Tk()\n",
    "root.withdraw()\n",
    "\n",
    "# Ask the user to select multiple CSV files\n",
    "csv_files = filedialog.askopenfilenames(\n",
    "    title=\"Select CSV files to process\",\n",
    "    filetypes=[(\"CSV Files\", \"*.csv\")]\n",
    ")\n",
    "\n",
    "if not csv_files:\n",
    "    print(\"No CSV files selected. Exiting.\")\n",
    "    exit()\n",
    "\n",
    "# Read the selected CSV files into lists of rows\n",
    "csv_data = []\n",
    "for csv_file in csv_files:\n",
    "    csv_data.append(read_csv(csv_file))\n",
    "    \n",
    "# Create a new list to store the result rows\n",
    "result_rows = []\n",
    "\n",
    "# Ensure all CSV files have the same number of rows\n",
    "num_rows = len(csv_data[0])\n",
    "for data in csv_data[1:]:\n",
    "    if len(data) != num_rows:\n",
    "        print(\"Error: CSV files do not have the same number of rows.\")\n",
    "        exit()\n",
    "\n",
    "# Multiply corresponding rows from all CSV files and create result rows\n",
    "for i in range(2, num_rows):  # Start from row 3 (index 2)\n",
    "    result_row = [csv_data[0][i][0]]  # Set the key from the first CSV file\n",
    "    product = 1.0  # Initialize the product to 1.0\n",
    "    for data in csv_data:\n",
    "        value = float(data[i][1])\n",
    "        product *= value\n",
    "    result_row.append(product)  # Add the product to the result row\n",
    "    result_rows.append(result_row)\n",
    "\n",
    "# Calculate the total sum of values in column 2 of the result_rows list\n",
    "total_sum = sum(result_row[1] for result_row in result_rows)\n",
    "\n",
    "# Convert the total sum to \"Total Time in seconds\" (divide by 60)\n",
    "total_time_minutes = total_sum / 60\n",
    "\n",
    "# Append the \"Total Time in seconds\" row to the result_rows list\n",
    "result_rows.append([\"Total Time in minutes\", total_time_minutes])\n",
    "\n",
    "# Ask the user to select a directory to save the result CSV file\n",
    "output_directory = filedialog.askdirectory(title=\"Select a directory to save the result CSV file\")\n",
    "if not output_directory:\n",
    "    print(\"No output directory selected. Exiting.\")\n",
    "    exit()\n",
    "\n",
    "# Write the result rows to a single CSV file in the selected directory\n",
    "output_csv_file = os.path.join(output_directory, 'result.csv')\n",
    "with open(output_csv_file, 'w', newline='') as output_csv:\n",
    "    csv_writer = csv.writer(output_csv)\n",
    "    csv_writer.writerow(['Key', 'Value'])  # Write headers\n",
    "    csv_writer.writerows(result_rows)\n",
    "\n",
    "print(f\"Result saved to '{output_csv_file}'.\")\n",
    "\n",
    "# Close the tkinter root window\n",
    "root.destroy()\n",
    "\n",
    "# Print the CSV data as well\n",
    "for row in result_rows:\n",
    "    print(row[0], row[1])\n"
   ]
  },
  {
   "cell_type": "code",
   "execution_count": 12,
   "id": "0d643d54",
   "metadata": {},
   "outputs": [
    {
     "name": "stdout",
     "output_type": "stream",
     "text": [
      "19\n"
     ]
    }
   ],
   "source": [
    "print(num_rows)"
   ]
  },
  {
   "cell_type": "code",
   "execution_count": null,
   "id": "5ccc90f1",
   "metadata": {},
   "outputs": [],
   "source": []
  },
  {
   "cell_type": "code",
   "execution_count": null,
   "id": "200db196",
   "metadata": {},
   "outputs": [],
   "source": []
  },
  {
   "cell_type": "code",
   "execution_count": null,
   "id": "7c8df72b",
   "metadata": {},
   "outputs": [],
   "source": []
  }
 ],
 "metadata": {
  "kernelspec": {
   "display_name": "Python 3 (ipykernel)",
   "language": "python",
   "name": "python3"
  },
  "language_info": {
   "codemirror_mode": {
    "name": "ipython",
    "version": 3
   },
   "file_extension": ".py",
   "mimetype": "text/x-python",
   "name": "python",
   "nbconvert_exporter": "python",
   "pygments_lexer": "ipython3",
   "version": "3.11.5"
  }
 },
 "nbformat": 4,
 "nbformat_minor": 5
}
