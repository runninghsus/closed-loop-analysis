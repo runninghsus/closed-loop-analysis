{
 "cells": [
  {
   "cell_type": "markdown",
   "metadata": {},
   "source": [
    "# Bout, Stim, and Duration Post Hoc Analysis"
   ]
  },
  {
   "cell_type": "code",
   "execution_count": 383,
   "metadata": {},
   "outputs": [],
   "source": [
    "import joblib\n",
    "import os\n",
    "import pandas as pd\n",
    "from sklearn.ensemble import RandomForestClassifier\n",
    "import numpy as np\n",
    "from datetime import datetime\n",
    "import matplotlib.pyplot as plt\n",
    "import pickle\n",
    "import time\n",
    "from tkinter import *\n",
    "import tkinter as tk\n",
    "from tkinter import filedialog\n",
    "from tqdm import tqdm\n",
    "from tqdm import notebook\n",
    "import itertools\n",
    "import math\n",
    "import seaborn as sns\n",
    "import statistics \n",
    "from collections import OrderedDict\n",
    "import csv"
   ]
  },
  {
   "cell_type": "code",
   "execution_count": 382,
   "metadata": {},
   "outputs": [],
   "source": [
    "# Create Tk root\n",
    "root = Tk()\n",
    "# Hide the main window\n",
    "root.withdraw()\n",
    "root.call('wm', 'attributes', '.', '-topmost', True)\n",
    "infiles = filedialog.askopenfilename(multiple=True, title='load posthoc-predictions.npy')\n",
    "\n",
    "%gui tk"
   ]
  },
  {
   "cell_type": "code",
   "execution_count": 384,
   "metadata": {},
   "outputs": [
    {
     "data": {
      "text/plain": [
       "('Z:/KayCei/AD6-D2/videos/051223-face groom/VideoOutputCamera 0-12052023-163811_posthoc-predictions.npy',)"
      ]
     },
     "execution_count": 384,
     "metadata": {},
     "output_type": "execute_result"
    }
   ],
   "source": [
    "infiles"
   ]
  },
  {
   "cell_type": "code",
   "execution_count": 385,
   "metadata": {},
   "outputs": [],
   "source": [
    "Random_List = [] #creates a array known as random list \n",
    "for f in range(len(infiles)):\n",
    "    arr = np.load(infiles[f])\n",
    "    Random_List.extend(arr) "
   ]
  },
  {
   "cell_type": "markdown",
   "metadata": {},
   "source": [
    "# Total Time of Video in deciseconds"
   ]
  },
  {
   "cell_type": "code",
   "execution_count": 386,
   "metadata": {
    "scrolled": true
   },
   "outputs": [
    {
     "name": "stdout",
     "output_type": "stream",
     "text": [
      "This video is  44935  deciseconds, which is 74.89166666666667 minutes\n",
      "\n"
     ]
    }
   ],
   "source": [
    "print('This video is ', len(Random_List), ' deciseconds, which is', (len(Random_List)/600), 'minutes' )\n",
    "print()\n",
    "#print(Random_List)"
   ]
  },
  {
   "cell_type": "markdown",
   "metadata": {},
   "source": [
    "# This is to remove any time period after 65 minutes"
   ]
  },
  {
   "cell_type": "code",
   "execution_count": 387,
   "metadata": {},
   "outputs": [
    {
     "name": "stdout",
     "output_type": "stream",
     "text": [
      "How long was the session in minutes?65\n",
      "39000\n"
     ]
    }
   ],
   "source": [
    "length_of_session = (int(input(\"How long was the session in minutes?\"))) * 600\n",
    "print(length_of_session)\n",
    "Random_List = Random_List[:(length_of_session)]"
   ]
  },
  {
   "cell_type": "code",
   "execution_count": 388,
   "metadata": {},
   "outputs": [
    {
     "name": "stdout",
     "output_type": "stream",
     "text": [
      "This video is  39000  deciseconds, which is 65.0 minutes\n",
      "\n"
     ]
    }
   ],
   "source": [
    "print('This video is ', len(Random_List), ' deciseconds, which is', (len(Random_List)/600), 'minutes' )\n",
    "print()\n",
    "#print(Random_List)"
   ]
  },
  {
   "cell_type": "markdown",
   "metadata": {},
   "source": [
    "# Creates an array with tuples of (behavior type, stim count) "
   ]
  },
  {
   "cell_type": "code",
   "execution_count": 389,
   "metadata": {},
   "outputs": [],
   "source": [
    "behavior_type_and_duration = [] #this section of code creates a array with tuples that show (behavior type, duration(aka stim cont))\n",
    "current_value = Random_List[0]\n",
    "count = 0\n",
    "for value in Random_List:\n",
    "    if value==current_value:\n",
    "        count += 1\n",
    "    else:\n",
    "        behavior_type_and_duration.append((current_value, count))\n",
    "        current_value = value\n",
    "        count = 1\n",
    "\n",
    "# Append the final (current_value, count) pair outside the loop\n",
    "behavior_type_and_duration.append((current_value, count))\n",
    "\n",
    "# Make a copy of the original behavior_type_and_duration list\n",
    "original_behavior_type_and_duration = list(behavior_type_and_duration)\n"
   ]
  },
  {
   "cell_type": "code",
   "execution_count": 390,
   "metadata": {
    "scrolled": true
   },
   "outputs": [],
   "source": [
    "#print(original_behavior_type_and_duration)"
   ]
  },
  {
   "cell_type": "markdown",
   "metadata": {},
   "source": [
    "# Filtering Out Based on 3 Frame Rate"
   ]
  },
  {
   "cell_type": "code",
   "execution_count": 391,
   "metadata": {},
   "outputs": [],
   "source": [
    "behavior_type_and_duration = [(behavior, duration) for behavior, duration in behavior_type_and_duration if duration >= 3]"
   ]
  },
  {
   "cell_type": "code",
   "execution_count": 392,
   "metadata": {
    "scrolled": true
   },
   "outputs": [],
   "source": [
    "#print(behavior_type_and_duration)"
   ]
  },
  {
   "cell_type": "code",
   "execution_count": 393,
   "metadata": {},
   "outputs": [],
   "source": [
    "desired_order = {\n",
    "    0.0: \"Left Turns\",\n",
    "    1.0: \"Right Turns\",\n",
    "    2.0: \"Locomotion\",\n",
    "    3.0: \"Face Groom\",\n",
    "    4.0: \"All Other Groom\",\n",
    "    5.0: \"All Other\",\n",
    "}\n"
   ]
  },
  {
   "cell_type": "code",
   "execution_count": 394,
   "metadata": {
    "scrolled": true
   },
   "outputs": [],
   "source": [
    "indexed_behavior_type_and_duration = []\n",
    "index_position = None\n",
    "for behavior_name, behavior_duration in original_behavior_type_and_duration:\n",
    "    if behavior_name in desired_order:\n",
    "        if index_position is None:\n",
    "            index_position = behavior_duration\n",
    "        else:\n",
    "            index_position += behavior_duration\n",
    "        indexed_behavior_type_and_duration.append(((behavior_name, behavior_duration), index_position))\n",
    "\n",
    "# Print the results\n",
    "#for (behavior_name, behavior_duration), index_pos in indexed_behavior_type_and_duration:\n",
    "    #print(\"Index:\", index_pos, \"- Behavior:\", behavior_labels[behavior_name], \"- Stim Count:\", behavior_duration)"
   ]
  },
  {
   "cell_type": "markdown",
   "metadata": {},
   "source": [
    "## Dictionary Mappings "
   ]
  },
  {
   "cell_type": "code",
   "execution_count": 395,
   "metadata": {},
   "outputs": [],
   "source": [
    "behavior_labels = {\n",
    "    0.0: \"Left Turns\",\n",
    "    1.0: \"Right Turns\",\n",
    "    2.0: \"Locomotion\",\n",
    "    3.0: \"Face Groom\",\n",
    "    4.0: \"All Other Groom\",\n",
    "    5.0: \"All Other\",\n",
    "}"
   ]
  },
  {
   "cell_type": "markdown",
   "metadata": {},
   "source": [
    "#  Total Bouts of Every Behavior in a Session"
   ]
  },
  {
   "cell_type": "code",
   "execution_count": 396,
   "metadata": {},
   "outputs": [
    {
     "name": "stdout",
     "output_type": "stream",
     "text": [
      "360 bout(s) of Left Turns\n",
      "240 bout(s) of Right Turns\n",
      "556 bout(s) of Locomotion\n",
      "180 bout(s) of Face Groom\n",
      "59 bout(s) of All Other Groom\n",
      "1609 bout(s) of All Other\n",
      "dict_keys(['All Other', 'Left Turns', 'Locomotion', 'Face Groom', 'All Other Groom', 'Right Turns'])\n"
     ]
    }
   ],
   "source": [
    "\n",
    "# Create a dictionary to store the number of bouts for each behavior\n",
    "behavior_bouts = {}\n",
    "for behavior_name, behavior_duration in behavior_type_and_duration:\n",
    "    behavior_name_str = desired_order.get(behavior_name, \"Unknown Behavior\")\n",
    "    if behavior_name_str not in behavior_bouts:\n",
    "        behavior_bouts[behavior_name_str] = 0  # Initialize the counter for each behavior to zero\n",
    "    behavior_bouts[behavior_name_str] += 1  # Increment the counter for the current behavior\n",
    "\n",
    "# Print the results in the desired order\n",
    "for behavior_name in desired_order.values():\n",
    "    if behavior_name in behavior_bouts:\n",
    "        count = behavior_bouts[behavior_name]\n",
    "        print(count, \"bout(s) of\", behavior_name)\n",
    "keys_list = behavior_bouts.keys()\n",
    "print(keys_list)"
   ]
  },
  {
   "cell_type": "code",
   "execution_count": 397,
   "metadata": {},
   "outputs": [
    {
     "name": "stdout",
     "output_type": "stream",
     "text": [
      "238 bout(s) of Left Turns during 30 minute stimulation block\n",
      "170 bout(s) of Right Turns during 30 minute stimulation block\n",
      "386 bout(s) of Locomotion during 30 minute stimulation block\n",
      "53 bout(s) of Face Groom during 30 minute stimulation block\n",
      "46 bout(s) of All Other Groom during 30 minute stimulation block\n",
      "973 bout(s) of All Other during 30 minute stimulation block\n"
     ]
    }
   ],
   "source": [
    "# Define the range limits for index position\n",
    "min_index_position = 3000\n",
    "max_index_position = 21000\n",
    "\n",
    "# Filter behavior_type_and_duration to remove behaviors with duration less than 3\n",
    "behavior_type_and_duration_filtered = [(behavior, duration) for behavior, duration in behavior_type_and_duration if duration >= 3]\n",
    "\n",
    "# Create a dictionary to store the number of bouts for each behavior type in the desired range\n",
    "behavior_bouts_in_range = {}\n",
    "\n",
    "for (behavior_name, behavior_duration), index_pos in indexed_behavior_type_and_duration:\n",
    "    # Check if the behavior has a duration of 3 or more\n",
    "    if behavior_duration >= 3:\n",
    "        # Check if the index position falls within the desired range\n",
    "        if min_index_position <= index_pos <= max_index_position:\n",
    "            behavior_name_str = desired_order.get(behavior_name, \"Unknown Behavior\")\n",
    "            if behavior_name_str not in behavior_bouts_in_range:\n",
    "                behavior_bouts_in_range[behavior_name_str] = 0  # Initialize the counter for each behavior to zero\n",
    "            behavior_bouts_in_range[behavior_name_str] += 1  # Increment the counter for the current behavior\n",
    "\n",
    "# Print the results of bouts for each behavior type within the range\n",
    "for behavior_name in desired_order.values():\n",
    "    if behavior_name in behavior_bouts_in_range:\n",
    "        count = behavior_bouts_in_range[behavior_name]\n",
    "        print(count, \"bout(s) of\", behavior_name, \"during 30 minute stimulation block\")\n"
   ]
  },
  {
   "cell_type": "code",
   "execution_count": 398,
   "metadata": {},
   "outputs": [
    {
     "name": "stdout",
     "output_type": "stream",
     "text": [
      "dict_keys([5.0, 0.0, 2.0, 3.0, 4.0, 1.0])\n",
      "dict_keys([5.0, 0.0, 2.0, 3.0, 4.0, 1.0])\n",
      "Behavior: Left Turns\n",
      "Total Stimulations: 1550\n",
      "Average Duration: 0.4305555555555556 seconds\n",
      "\n",
      "Behavior: Right Turns\n",
      "Total Stimulations: 1033\n",
      "Average Duration: 0.43041666666666667 seconds\n",
      "\n",
      "Behavior: Locomotion\n",
      "Total Stimulations: 3378\n",
      "Average Duration: 0.6075539568345324 seconds\n",
      "\n",
      "Behavior: Face Groom\n",
      "Total Stimulations: 1214\n",
      "Average Duration: 0.6744444444444444 seconds\n",
      "\n",
      "Behavior: All Other Groom\n",
      "Total Stimulations: 272\n",
      "Average Duration: 0.4610169491525424 seconds\n",
      "\n",
      "Behavior: All Other\n",
      "Total Stimulations: 26795\n",
      "Average Duration: 1.6653200745804848 seconds\n",
      "\n"
     ]
    }
   ],
   "source": [
    "# Initialize dictionaries to store total duration and count for each behavior\n",
    "behavior_duration_dict = {}\n",
    "behavior_count_dict = {}\n",
    "\n",
    "# Loop through the behavior_type_and_duration list\n",
    "for x in behavior_type_and_duration:\n",
    "    behavior_type = x[0]\n",
    "    duration = x[1]\n",
    "    \n",
    "    # Check if the behavior_type already exists in the dictionaries\n",
    "    if behavior_type in behavior_duration_dict:\n",
    "        behavior_duration_dict[behavior_type] += duration\n",
    "        behavior_count_dict[behavior_type] += 1\n",
    "    else:\n",
    "        behavior_duration_dict[behavior_type] = duration\n",
    "        behavior_count_dict[behavior_type] = 1\n",
    "my_keys=behavior_duration_dict.keys()\n",
    "print(my_keys)\n",
    "\n",
    "# Initialize a dictionary to store the average duration for each behavior\n",
    "behavior_average_duration_dict = {}\n",
    "\n",
    "# Calculate the average duration for each behavior and store it in the dictionary\n",
    "for behavior_type, total_duration in behavior_duration_dict.items():\n",
    "    count = behavior_count_dict[behavior_type]\n",
    "    average_duration = total_duration / (count * 10)  # Divide by 10 to convert deciseconds to seconds\n",
    "    behavior_average_duration_dict[float(behavior_type)] = average_duration  # Convert the key to float\n",
    "my_keys=behavior_average_duration_dict.keys()\n",
    "print(my_keys)\n",
    "\n",
    "# Print the results for all behaviors in the desired order\n",
    "for behavior_type, behavior_name in desired_order.items():\n",
    "    behavior_duration = behavior_duration_dict.get(behavior_type, 0)\n",
    "    average_duration = behavior_average_duration_dict.get(behavior_type, 0)\n",
    "    print(\"Behavior:\", behavior_name)\n",
    "    print(\"Total Stimulations:\", behavior_duration)\n",
    "    print(\"Average Duration:\", average_duration, \"seconds\")\n",
    "    print()\n"
   ]
  },
  {
   "cell_type": "code",
   "execution_count": 400,
   "metadata": {},
   "outputs": [
    {
     "name": "stdout",
     "output_type": "stream",
     "text": [
      "Behavior: Left Turns\n",
      "Stimulations During 30-minute Stim Block: 1010\n",
      "\n",
      "Behavior: Right Turns\n",
      "Stimulations During 30-minute Stim Block: 719\n",
      "\n",
      "Behavior: Locomotion\n",
      "Stimulations During 30-minute Stim Block: 2277\n",
      "\n",
      "Behavior: Face Groom\n",
      "Stimulations During 30-minute Stim Block: 341\n",
      "\n",
      "Behavior: All Other Groom\n",
      "Stimulations During 30-minute Stim Block: 221\n",
      "\n",
      "Behavior: All Other\n",
      "Stimulations During 30-minute Stim Block: 10436\n",
      "\n"
     ]
    }
   ],
   "source": [
    "# Initialize a dictionary to store stimulation count during the 30-minute Stim Block\n",
    "stimulation_count_dict = {}\n",
    "\n",
    "# Loop through indexed_behavior_type_and_duration list again to find stimulations in the 30-minute Stim Block\n",
    "for (behavior_type, behavior_duration), index_pos in indexed_behavior_type_and_duration:\n",
    "    if behavior_duration >= 3 and 3000 <= index_pos <= 21000:\n",
    "        if behavior_type in stimulation_count_dict:\n",
    "            stimulation_count_dict[behavior_type] += behavior_duration\n",
    "        else:\n",
    "            stimulation_count_dict[behavior_type] = behavior_duration\n",
    "\n",
    "# Print the stimulations during the 30-minute Stim Block for each behavior\n",
    "for behavior_type, behavior_name in desired_order.items():\n",
    "    stimulations = stimulation_count_dict.get(behavior_type, 0)\n",
    "    print(\"Behavior:\", behavior_name)\n",
    "    print(\"Stimulations During 30-minute Stim Block:\", stimulations)\n",
    "    print()\n"
   ]
  },
  {
   "cell_type": "raw",
   "metadata": {},
   "source": [
    "# Prepare data for plotting\n",
    "behavior_names = []\n",
    "total_stimulations = []\n",
    "average_durations = []\n",
    "total_bouts = []\n",
    "\n",
    "for behavior_type, average_duration in ordered_behavior_average_duration_dict.items():\n",
    "    behavior_label = behavior_labels.get(behavior_type, \"Unknown Behavior\")\n",
    "    behavior_names.append(behavior_label)\n",
    "    total_stimulations.append(behavior_duration_dict[behavior_type])\n",
    "    average_durations.append(average_duration)\n",
    "    behavior_name_str = desired_order.get(behavior_type, \"All Other\")\n",
    "    total_bouts.append(behavior_bouts.get(behavior_name_str, 0))\n",
    "\n",
    "# Create a scatter plot for Total Stimulations vs. Average Duration\n",
    "plt.figure(figsize=(10, 6))\n",
    "for i, behavior in enumerate(behavior_names):\n",
    "    plt.scatter(total_stimulations[i], average_durations[i], marker='o', label=behavior, alpha=0.7)\n",
    "plt.xlabel('Total Stimulations')\n",
    "plt.ylabel('Average Duration (s)')\n",
    "plt.title('Total Stimulations vs. Average Duration')\n",
    "plt.grid(True)\n",
    "plt.legend(loc='upper right', bbox_to_anchor=(1.2, 1))\n",
    "plt.tight_layout()\n",
    "\n",
    "# Create a scatter plot for Total Bouts vs. Average Duration\n",
    "plt.figure(figsize=(10, 6))\n",
    "for i, behavior in enumerate(behavior_names):\n",
    "    plt.scatter(total_bouts[i], average_durations[i], marker='o', label=behavior, alpha=0.7)\n",
    "plt.xlabel('Total Bouts')\n",
    "plt.ylabel('Average Duration (s)')\n",
    "plt.title('Total Bouts vs. Average Duration')\n",
    "plt.grid(True)\n",
    "plt.legend(loc='upper right', bbox_to_anchor=(1.2, 1))\n",
    "plt.tight_layout()\n",
    "\n",
    "plt.show()\n"
   ]
  },
  {
   "cell_type": "markdown",
   "metadata": {},
   "source": [
    "# Setting Behavior of Interest and File Info"
   ]
  },
  {
   "cell_type": "markdown",
   "metadata": {},
   "source": [
    "trigger key \n",
    "0 left turns \n",
    "1 right turns\n",
    "2 locomotion \n",
    "3 face grooms \n",
    "4 all other grooms \n",
    "5 all other behavior "
   ]
  },
  {
   "cell_type": "code",
   "execution_count": 399,
   "metadata": {
    "scrolled": true
   },
   "outputs": [
    {
     "name": "stdout",
     "output_type": "stream",
     "text": [
      "Please select the behavior of interest:\n",
      "0: Left Turn \n",
      "1: Right Turn \n",
      "2: Locomotion \n",
      "3: Face Groom \n",
      "4: All Other Groom \n",
      "5: All Other \n",
      "Enter the number corresponding to the behavior of interest: 3\n",
      "Selected behavior of interest: Face Groom \n"
     ]
    }
   ],
   "source": [
    "behavior_mapping = {\n",
    "    0: \"Left Turn \",\n",
    "    1: \"Right Turn \",\n",
    "    2: \"Locomotion \",\n",
    "    3: \"Face Groom \",\n",
    "    4: \"All Other Groom \",\n",
    "    5: \"All Other \"\n",
    "}\n",
    "\n",
    "print(\"Please select the behavior of interest:\")\n",
    "for key, value in behavior_mapping.items():\n",
    "    print(f\"{key}: {value}\")\n",
    "\n",
    "behavior_of_interest = int(input(\"Enter the number corresponding to the behavior of interest: \"))\n",
    "\n",
    "behavior_name_2 = behavior_mapping.get(behavior_of_interest, \"Unknown\")\n",
    "\n",
    "print(\"Selected behavior of interest:\", behavior_name_2)\n"
   ]
  },
  {
   "cell_type": "code",
   "execution_count": 401,
   "metadata": {
    "scrolled": true
   },
   "outputs": [
    {
     "name": "stdout",
     "output_type": "stream",
     "text": [
      "Please enter the type of fiber connection for the trial (B for Bilateral, I for Ipsilateral, C for Contralateral): b\n",
      "Selected type of fiber connection: Bilateral\n"
     ]
    }
   ],
   "source": [
    "selection = input(\"Please enter the type of fiber connection for the trial (B for Bilateral, I for Ipsilateral, C for Contralateral): \")\n",
    "\n",
    "if selection == 'b':\n",
    "    type_of_fiber_connection = 'Bilateral'\n",
    "elif selection == 'i':\n",
    "    type_of_fiber_connection = 'Ipsilateral'\n",
    "elif selection == 'c':\n",
    "    type_of_fiber_connection = 'Contralateral'\n",
    "else:\n",
    "    type_of_fiber_connection = 'Unknown'\n",
    "\n",
    "print(\"Selected type of fiber connection:\", type_of_fiber_connection)\n"
   ]
  },
  {
   "cell_type": "code",
   "execution_count": 402,
   "metadata": {},
   "outputs": [
    {
     "name": "stdout",
     "output_type": "stream",
     "text": [
      "Is it a Sham session? (y/n): n\n"
     ]
    }
   ],
   "source": [
    "trial_type = \"\"\n",
    "\n",
    "sham_session = input(\"Is it a Sham session? (y/n): \")\n",
    "\n",
    "if sham_session.lower() == \"y\":\n",
    "    trial_type = \"Sham Session\""
   ]
  },
  {
   "cell_type": "code",
   "execution_count": 403,
   "metadata": {
    "scrolled": true
   },
   "outputs": [
    {
     "name": "stdout",
     "output_type": "stream",
     "text": [
      "180 bout(s) of Face Groom \n"
     ]
    }
   ],
   "source": [
    "#finds the number of bouts of a certain action\n",
    "count = 0 #sets counter to zero\n",
    "for x in behavior_type_and_duration:\n",
    "    if x[0]==behavior_of_interest:\n",
    "        count +=1\n",
    "    \n",
    "print(count,\"bout(s) of\",behavior_name_2) #print the bouts found \n"
   ]
  },
  {
   "cell_type": "markdown",
   "metadata": {},
   "source": [
    "### Duration and Count for a Session"
   ]
  },
  {
   "cell_type": "code",
   "execution_count": 404,
   "metadata": {},
   "outputs": [
    {
     "name": "stdout",
     "output_type": "stream",
     "text": [
      "Face Groom  was stimmed 1214 times\n",
      "The average duration of Face Groom  is 0.6744444444444444  seconds\n"
     ]
    }
   ],
   "source": [
    "Duration_of_behavior_type=[]\n",
    "count=0 #set counter to zero\n",
    "for x in behavior_type_and_duration: # sets x equal to the elements in behavior type and duration \n",
    "    if x[0] == behavior_of_interest:  # if the first element of x is equal to the behavior of interest\n",
    "        Duration_of_behavior_type.append((x[1])) #add the second element(count) of x to the array Duration of behavior type \n",
    "#print(Duration_of_behavior_type)        #this is to make sure you have the right values selected for \n",
    "\n",
    "#stim count calculation\n",
    "Stim_count=(sum(Duration_of_behavior_type))\n",
    "print(behavior_name_2,\"was stimmed\", Stim_count, \"times\")\n",
    "\n",
    "duration_average= ((Stim_count/(len(Duration_of_behavior_type)))/10) # there are 10 deciseconds in a second. Thats why its divided by 10 \n",
    "print(\"The average duration of\", behavior_name_2, \"is\", duration_average, ' seconds')"
   ]
  },
  {
   "cell_type": "markdown",
   "metadata": {},
   "source": [
    "### Integrating Time"
   ]
  },
  {
   "cell_type": "code",
   "execution_count": 405,
   "metadata": {
    "scrolled": true
   },
   "outputs": [],
   "source": [
    "time_array=original_behavior_type_and_duration.copy()\n",
    "time_array.insert(0, (0, 0))\n",
    "#print(time_array)\n"
   ]
  },
  {
   "cell_type": "code",
   "execution_count": 406,
   "metadata": {},
   "outputs": [],
   "source": [
    "time_array_and_behavior = []\n",
    "for i, tuple in enumerate(time_array):\n",
    "    if i > 0:\n",
    "        previous_tuple = time_array_and_behavior[i-1]\n",
    "        new_tuple = tuple + (tuple[1] + previous_tuple[2],)\n",
    "    else:\n",
    "        new_tuple = tuple + (tuple[1],)\n",
    "    time_array_and_behavior.append(new_tuple)\n",
    "#This block of code creates a list where the tuple are (behavior,duration, index of last element in the bout)"
   ]
  },
  {
   "cell_type": "code",
   "execution_count": 407,
   "metadata": {},
   "outputs": [],
   "source": [
    "#time_array_and_behavior = [(sub_tuple[0], sub_tuple[1], index) for index, sub_tuple in enumerate(time_array)]\n",
    "\n",
    "#print(time_array_and_behavior)\n"
   ]
  },
  {
   "cell_type": "markdown",
   "metadata": {},
   "source": [
    "# Visual of Stim Count  "
   ]
  },
  {
   "cell_type": "code",
   "execution_count": 408,
   "metadata": {
    "scrolled": true
   },
   "outputs": [
    {
     "name": "stdout",
     "output_type": "stream",
     "text": [
      "Do you want to change the time increment? (y/n): n\n",
      "Number Of Face Groom  in 30 min Stimulation Block: 341\n"
     ]
    },
    {
     "data": {
      "image/png": "[encoded data removed]",
      "text/plain": [
       "<Figure size 3168x432 with 1 Axes>"
      ]
     },
     "metadata": {
      "needs_background": "light"
     },
     "output_type": "display_data"
    }
   ],
   "source": [
    "### Check if the user wants to change the time increment\n",
    "change_time_increment = input(\"Do you want to change the time increment? (y/n): \")\n",
    "\n",
    "if change_time_increment.lower() == \"y\":\n",
    "    # Ask the user to input the time interval in minutes\n",
    "    while True:\n",
    "        try:\n",
    "            time_interval = float(input(\"Enter the time interval (in minutes): \"))\n",
    "            break\n",
    "        except ValueError:\n",
    "            print(\"Invalid input. Please enter a numeric value.\")\n",
    "\n",
    "    # Set the time start and increase based on the user input\n",
    "    time_interval_start = int(time_interval * 600)\n",
    "    time_increase = int(time_interval * 600)\n",
    "else:\n",
    "    # Default time increment of 5 minutes\n",
    "    time_interval_start = 3000\n",
    "    time_increase = 3000\n",
    "    time_interval = 5\n",
    "    \n",
    "# Define the required first element value\n",
    "required_first_element = behavior_of_interest #sets the variable first element to be eqaul to the behavior of interest \n",
    "\n",
    "# Filter the tuples based on the required first element value\n",
    "filtered_taab = [(sub_tuple[0], sub_tuple[1], sub_tuple[2]) for sub_tuple in time_array_and_behavior if sub_tuple[0] == required_first_element and sub_tuple[1]>=3]\n",
    "#filtered_taab = [(sub_tuple[0], sub_tuple[1], sub_tuple[2]) for sub_tuple in time_array_and_behavior if sub_tuple[0] == required_first_element]\n",
    "#####################3\n",
    "####################\n",
    "#print(filtered_taab)\n",
    "\n",
    "binned_elements = []\n",
    "current_bin = []\n",
    "last_interval = None\n",
    "\n",
    "for x in filtered_taab:\n",
    "    if x[2] <= time_interval_start:\n",
    "        current_bin.append(x[1])\n",
    "    else:\n",
    "        while x[2] > time_interval_start:\n",
    "            if current_bin:\n",
    "                binned_elements.append((time_interval_start, current_bin))\n",
    "                current_bin = []  # Clear the current_bin after appending it\n",
    "            else:\n",
    "                binned_elements.append((time_interval_start, [0]))\n",
    "            last_interval = time_interval_start\n",
    "\n",
    "            time_interval_start += time_increase\n",
    "\n",
    "            if x[2] <= time_interval_start:\n",
    "                break\n",
    "\n",
    "        current_bin.append(x[1])\n",
    "\n",
    "# Append the last time interval with elements or zero\n",
    "if current_bin:\n",
    "    binned_elements.append((time_interval_start, current_bin))\n",
    "else:\n",
    "    binned_elements.append((time_interval_start, [0]))\n",
    "\n",
    "# Print the time start intervals and their elements\n",
    "#for interval, elements in binned_elements:\n",
    "#    print(\"Interval:\", interval)\n",
    "#    print(\"Elements:\", elements)\n",
    "#    print()\n",
    "\n",
    "\n",
    "# Count the stims in each bin   \n",
    "interval_counts_1 = [sum(elements) for interval,elements in binned_elements]\n",
    "#print(interval_counts_1)\n",
    "\n",
    "stimulation_stim_count = sum([sum(elements) for interval, elements in binned_elements if 3000 < interval <= 21000])\n",
    "\n",
    "print('Number Of',behavior_name_2,'in 30 min Stimulation Block:', stimulation_stim_count)\n",
    "\n",
    "\n",
    "\n",
    "interval_counts = [((index * time_interval) + time_interval,count) for index,count in enumerate(interval_counts_1)]\n",
    "#print(interval_counts)\n",
    "\n",
    "# Calculate the bar width based on the time interval\n",
    "bar_width = time_interval * 0.8\n",
    "\n",
    "# Increase the figure size\n",
    "plt.figure(figsize=((len(interval_counts) * bar_width), 6))\n",
    "\n",
    "# Plotting the bar graph\n",
    "x_values = [interval[0] for interval in interval_counts]\n",
    "y_values = [interval[1] for interval in interval_counts]\n",
    "# Limit x-axis value to 65\n",
    "#x_values = [min(x, ((int(length_of_session))/600)) for x in x_values]\n",
    "\n",
    "# Create a bar chart with custom colors and adjusted bar width\n",
    "color_base = '#5d8aa8'\n",
    "color_stim = '#4cb5f5'\n",
    "color_post = '#004242'\n",
    "\n",
    "color_map = []\n",
    "for interval in interval_counts:\n",
    "    if interval[0] <= 5:\n",
    "        color_map.append(color_base)\n",
    "    elif 5 < interval[0] < 40:\n",
    "        color_map.append(color_stim)\n",
    "    else:\n",
    "        color_map.append(color_post)\n",
    "\n",
    "plt.bar(x_values, y_values, width=bar_width, color=color_map)\n",
    "\n",
    "# Add labels and title\n",
    "plt.xlabel('Minutes')\n",
    "plt.ylabel('Number of Stims') \n",
    "title_text = behavior_name_2 + str(type_of_fiber_connection) + ' Stims Over Time'\n",
    "if trial_type:\n",
    "    title_text += ' ' + trial_type\n",
    "\n",
    "plt.title(title_text)\n",
    "\n",
    "# Set x-axis tick labels\n",
    "if time_interval < 1:\n",
    "    tick_positions = np.arange(5, ((math.ceil(length_of_session/600))+time_interval), 5)  # Tick labels starting from 5 and increasing by 5\n",
    "    tick_labels = [str(int(time)) for time in tick_positions]\n",
    "else:\n",
    "    tick_positions = np.arange(time_interval, ((math.ceil(length_of_session/600))+time_interval), time_interval)  # Tick labels starting from time_interval and increasing by time_interval\n",
    "    tick_labels = [f'{time:.1f}' for time in tick_positions]\n",
    "\n",
    "plt.xticks(tick_positions, tick_labels, fontsize=8)\n",
    "plt.xticks(tick_positions, tick_labels, fontsize=8)\n",
    "plt.yticks(fontsize=10)\n",
    "\n",
    "# Set the x-axis limits to only include the minimum and maximum x-axis values\n",
    "x_min = min((x - 1) for x in x_values)\n",
    "x_max = max((x +1) for x in x_values)\n",
    "plt.xlim(x_min, x_max)\n",
    "\n",
    "root = tk.Tk()\n",
    "root.withdraw()\n",
    "folder_path = filedialog.askdirectory()\n",
    "\n",
    "if folder_path:\n",
    "    # Save the histogram to the selected folder\n",
    "    # Get the title as the file name\n",
    "    title_text = plt.gca().get_title()\n",
    "    file_name = title_text + '.png'\n",
    "    save_path = os.path.join(folder_path, file_name)\n",
    "    \n",
    "    plt.savefig(save_path)\n",
    "    # Show the plot\n",
    "    plt.show()"
   ]
  },
  {
   "cell_type": "markdown",
   "metadata": {},
   "source": [
    "# Duration vs Time "
   ]
  },
  {
   "cell_type": "code",
   "execution_count": 409,
   "metadata": {},
   "outputs": [
    {
     "name": "stdout",
     "output_type": "stream",
     "text": [
      "The average duration: 0.6744444444444444  seconds\n"
     ]
    },
    {
     "data": {
      "image/png": "[encoded data removed]",
      "text/plain": [
       "<Figure size 432x288 with 1 Axes>"
      ]
     },
     "metadata": {
      "needs_background": "light"
     },
     "output_type": "display_data"
    }
   ],
   "source": [
    "# Calculate the average of each bin\n",
    "interval_duration = [sum(elements) / len(elements) for interval, elements in binned_elements if any(element > 0 for element in elements)]\n",
    "#print(interval_duration)\n",
    "print('The average duration:',duration_average, ' seconds')\n",
    "\n",
    "interval_duration = [sum(elements) / len(elements) for interval, elements in binned_elements]\n",
    "#print(interval_duration)\n",
    "\n",
    "#for i, (interval, _) in enumerate(binned_elements):\n",
    "    #if any(element > 0 for element in binned_elements[i][1]):\n",
    "        #print(\"Interval:\", interval / 600)  # Divide by 600 to convert to minutes\n",
    "        #print(\"Duration:\", interval_duration[i])\n",
    "        #print()\n",
    "\n",
    "color_map = []\n",
    "intervals = [interval / 600 for interval, _ in binned_elements]  # Divide by 600 to convert to minutes\n",
    "for interval in intervals:\n",
    "    if interval <= 5:\n",
    "        color_map.append(color_base)\n",
    "    elif 5 < interval < 40:\n",
    "        color_map.append(color_stim)\n",
    "    else:\n",
    "        color_map.append(color_post)\n",
    "\n",
    "\n",
    "plt.bar([(i * time_interval) + time_interval for i in range(len(interval_duration))], interval_duration, color=color_map)\n",
    "max_duration = max(interval_duration)\n",
    "\n",
    "# Add labels and title\n",
    "plt.xlabel('Minutes')\n",
    "plt.ylabel('Average Duration')\n",
    "title_text = 'Average Duration of ' + behavior_name_2 + ' Over Time'\n",
    "\n",
    "if trial_type:\n",
    "    title_text += ' ' + trial_type\n",
    "\n",
    "plt.title(title_text)\n",
    "\n",
    "# Set the x-axis ticks\n",
    "tick_positions = [i * 5 for i in range(len(interval_duration)+1)] # Added 1 to include the last tick\n",
    "plt.xticks(tick_positions)\n",
    "\n",
    "# Limit the x-axis range to 65 minutes\n",
    "plt.xlim(0, 70)\n",
    "# Set the y-axis limits to include 0\n",
    "plt.ylim(bottom=0)\n",
    "# Select the folder using a file dialog\n",
    "root = tk.Tk()\n",
    "root.withdraw()\n",
    "folder_path = filedialog.askdirectory()\n",
    "\n",
    "if folder_path:\n",
    "    # Save the histogram to the selected folder\n",
    "    # Get the title as the file name\n",
    "    title_text = plt.gca().get_title()\n",
    "    file_name = title_text + '.png'\n",
    "    save_path = os.path.join(folder_path, file_name)\n",
    "    \n",
    "    plt.savefig(save_path)\n",
    "    # Show the plot\n",
    "    plt.show()"
   ]
  },
  {
   "cell_type": "markdown",
   "metadata": {},
   "source": [
    "# Duration vs Time for 1 specific time period"
   ]
  },
  {
   "cell_type": "markdown",
   "metadata": {},
   "source": [
    "# Select the specific interval you want to plot (e.g., first interval)\n",
    "interval_index = 1\n",
    "\n",
    "if interval_index < len(binned_elements):\n",
    "    selected_interval = binned_elements[interval_index]\n",
    "\n",
    "    # Generate x-axis values for the time window of 0-5 minutes\n",
    "    x_values = np.linspace(5, 10, len(selected_interval)) #change the numbers here for whatever time frame youre look at currently it is 5 minutes to 10 minutes\n",
    "\n",
    "    # Plot the selected interval\n",
    "    plt.plot(x_values, selected_interval)\n",
    "\n",
    "    # Add labels and title\n",
    "    plt.xlabel('Time (minutes)')\n",
    "    plt.ylabel('Duration')\n",
    "    plt.title('Duration of Behavior ' + str(behavior_of_interest) + ' - Interval ' + str(interval_index + 1))\n",
    "else:\n",
    "    print(\"No binned elements in the selected interval.\")\n",
    "\n",
    "# Select the folder using a file dialog\n",
    "root = tk.Tk()\n",
    "root.withdraw()\n",
    "folder_path = filedialog.askdirectory()\n",
    "\n",
    "if folder_path:\n",
    "    # Save the plot to the selected folder\n",
    "    # Get the title as the file name\n",
    "    title_text = plt.gca().get_title()\n",
    "    file_name = title_text + '.png'\n",
    "    save_path = os.path.join(folder_path, file_name)\n",
    "    \n",
    "    plt.savefig(save_path)\n",
    "\n",
    "# Display the plot or message\n",
    "plt.show()\n"
   ]
  },
  {
   "cell_type": "markdown",
   "metadata": {},
   "source": [
    "# Bout vs Time "
   ]
  },
  {
   "cell_type": "code",
   "execution_count": 410,
   "metadata": {},
   "outputs": [
    {
     "name": "stdout",
     "output_type": "stream",
     "text": [
      "Total Number Of Bouts: 180\n",
      "Total Bouts During Stimulation Period: 53\n"
     ]
    },
    {
     "data": {
      "image/png": "[encoded data removed]",
      "text/plain": [
       "<Figure size 432x288 with 1 Axes>"
      ]
     },
     "metadata": {
      "needs_background": "light"
     },
     "output_type": "display_data"
    }
   ],
   "source": [
    "interval_lengths = [(interval, len(elements), elements) for interval, elements in binned_elements if all(element > 0 for element in elements)]\n",
    "#for interval, length, elements in interval_lengths:\n",
    "    #print(\"Interval:\", interval)\n",
    "    #print(\"Number of Bouts:\", length)\n",
    "    #print(\"Duration:\", elements)\n",
    "    #print()\n",
    "stimulation_bout_total = sum(length for interval, length, _ in interval_lengths if 3000 < interval <= 21000)\n",
    "total_bouts = sum(length for _, length, _ in interval_lengths)\n",
    "Percentage_of_bouts_during_stim_block= round((stimulation_bout_total/total_bouts)*100)\n",
    "print('Total Number Of Bouts:', total_bouts)\n",
    "print('Total Bouts During Stimulation Period:', stimulation_bout_total)\n",
    "#print('Percentage of Bouts occuring during Stimulation Block:',Percentage_of_bouts_during_stim_block,'%' )\n",
    "intervals = [interval/600 for interval, _, _ in interval_lengths]\n",
    "num_bouts = [length for _, length, _ in interval_lengths]\n",
    "\n",
    "bar_width = 0.8  # Adjust this value to change the width of the bars\n",
    "\n",
    "# Assuming you have the intervals and the corresponding number of bouts in separate lists\n",
    "intervals = [interval / 600 for interval, _, _ in interval_lengths]\n",
    "num_bouts = [length for _, length, _ in interval_lengths]\n",
    "\n",
    "\n",
    "# Create a color map based on the intervals\n",
    "color_map = []\n",
    "for interval in intervals:\n",
    "    if interval <= 5:\n",
    "        color_map.append(color_base)  \n",
    "    elif 5 < interval < 40:\n",
    "        color_map.append(color_stim)  \n",
    "    else:\n",
    "        color_map.append(color_post)  \n",
    "\n",
    "# Plotting the data as a bar plot with custom colors\n",
    "plt.bar(intervals, num_bouts, width=bar_width, align='center', color=color_map)\n",
    "# Set the labels and title\n",
    "plt.xlabel('Minutes')\n",
    "plt.ylabel('Bouts')\n",
    "title_text = behavior_name_2 + type_of_fiber_connection + ' Bouts Over Time'\n",
    "\n",
    "if trial_type:\n",
    "    title_text += ' ' + trial_type\n",
    "\n",
    "plt.title(title_text)\n",
    "\n",
    "tick_positions = np.arange(5, 70, 5)\n",
    "plt.xticks(tick_positions)\n",
    "\n",
    "root = tk.Tk()\n",
    "root.withdraw()\n",
    "folder_path = filedialog.askdirectory()\n",
    "\n",
    "if folder_path:\n",
    "    # Save the histogram to the selected folder\n",
    "    # Get the title as the file name\n",
    "    title_text = plt.gca().get_title()\n",
    "    file_name = title_text + '.png'\n",
    "    save_path = os.path.join(folder_path, file_name)\n",
    "    \n",
    "    plt.savefig(save_path)\n",
    "    # Show the plot\n",
    "    plt.show()"
   ]
  },
  {
   "cell_type": "code",
   "execution_count": 411,
   "metadata": {},
   "outputs": [
    {
     "name": "stdout",
     "output_type": "stream",
     "text": [
      "['Z:', 'KayCei', 'AD6-D2', 'videos', '051223-face groom']\n",
      "Data has been successfully written to the CSV file.\n"
     ]
    }
   ],
   "source": [
    "data_dict = {}\n",
    "session_numbers = {}\n",
    "\n",
    "# Iterate through each file in infiles\n",
    "for file_path in infiles: # if taking from Z Drive \n",
    "    folders = (os.path.dirname(file_path)).split('/')\n",
    "    print(folders)\n",
    "    # Extract the mouse name from the file path\n",
    "    mouse_name = folders[2].split('-')[0]\n",
    "    # Extract the genotype from the file path\n",
    "    genotype = folders[2].split('-')[1]\n",
    "    # Extract the date from the file path\n",
    "    date = folders[-1].split('-')[0]\n",
    "#for file_path in infiles:   #if taking files from D drive\n",
    "    #folders = (os.path.dirname(file_path)).split('/')\n",
    "    #print(folders)\n",
    "    # Extract the mouse name from the file path\n",
    "    #mouse_name = folders[6].split('-')[0]\n",
    "    # Extract the genotype from the file path\n",
    "    #genotype = folders[6].split('-')[1]\n",
    "    # Extract the date from the file path\n",
    "    #date = folders[-1].split('-')[0]    \n",
    "# Determine the session number for this mouse and stim behavior\n",
    "    key = (mouse_name, behavior_name_2, type_of_fiber_connection)\n",
    "    if key not in session_numbers:\n",
    "        session_numbers[key] = 1\n",
    "    else:\n",
    "        session_numbers[key] += 1\n",
    "    session_number = session_numbers[key]\n",
    "    \n",
    "    # Retrieve the relevant statistics from the dictionaries\n",
    "    right_turn_bout_count = behavior_bouts.get(\"Right Turns\", 0)\n",
    "    right_turn_stim_count = behavior_duration_dict.get(1.0, 0)\n",
    "    average_duration_right_turn = behavior_average_duration_dict.get(1.0, 0)\n",
    "    right_turn_stim_30min = stimulation_count_dict.get(1.0, 0)\n",
    "    \n",
    "    loc_bout_count = behavior_bouts.get(\"Locomotion\", 0)\n",
    "    loc_stim_count = behavior_duration_dict.get(2.0, 0)\n",
    "    average_duration_loc = behavior_average_duration_dict.get(2.0, 0)\n",
    "    loc_stim_30min = stimulation_count_dict.get(2.0, 0)\n",
    "    \n",
    "    face_groom_bout_count = behavior_bouts.get(\"Face Groom\", 0)\n",
    "    face_groom_stim_count = behavior_duration_dict.get(3.0, 0)\n",
    "    average_duration_face_groom = behavior_average_duration_dict.get(3.0, 0)\n",
    "    face_groom_stim_30min = stimulation_count_dict.get(3.0, 0)\n",
    "    \n",
    "    all_other_groom_bout_count = behavior_bouts.get(\"All Other Groom\", 0)\n",
    "    all_other_groom_stim_count = behavior_duration_dict.get(4.0, 0)\n",
    "    average_duration_all_other_groom = behavior_average_duration_dict.get(4.0, 0)\n",
    "    all_other_groom_stim_30min = stimulation_count_dict.get(4.0, 0)\n",
    "    \n",
    "    all_other_bout_count = behavior_bouts.get(\"All Other\", 0)\n",
    "    all_other_stim_count = behavior_duration_dict.get(5.0, 0)\n",
    "    average_duration_all_other = behavior_average_duration_dict.get(5.0, 0)\n",
    "    all_other_stim_30min = stimulation_count_dict.get(5.0, 0)\n",
    "    \n",
    "    mouse_data = {\n",
    "        \"Mouse\": mouse_name,\n",
    "        \"Genotype\": genotype,\n",
    "        \"Date\": date,\n",
    "        \"Stim Behavior\": behavior_name_2,\n",
    "        \"Sham y/n\": sham_session,  \n",
    "        \"Session Number\": session_number,\n",
    "        \"Fiber Connection\": type_of_fiber_connection,\n",
    "        \"Right-turn Bout Count\": right_turn_bout_count,\n",
    "        \"Right-turn Stim Count\": right_turn_stim_count,\n",
    "        \"Average Duration of right-turn\": average_duration_right_turn,\n",
    "        \"Right-turn Stim in 30 min period\": right_turn_stim_30min,\n",
    "        \"Locomotion Bout Count\": loc_bout_count,\n",
    "        \"Locomotion Stim Count\": loc_stim_count,\n",
    "        \"Average Duration of Locomotion\": average_duration_loc,\n",
    "        \"Locomotion Stim in 30 min period\": loc_stim_30min,\n",
    "        \"Face-groom Bout Count\": face_groom_bout_count,\n",
    "        \"Face-groom Stim Count\": face_groom_stim_count,\n",
    "        \"Average Duration of Face-groom\": average_duration_face_groom,\n",
    "        \"Face-groom Stim in 30 min period\": face_groom_stim_30min,\n",
    "        \"All Other Groom Bout Count\": all_other_groom_bout_count,\n",
    "        \"All Other Groom Stim Count\": all_other_groom_stim_count,\n",
    "        \"Average Duration of All Other Groom\": average_duration_all_other_groom,\n",
    "        \"All Other Groom Stim in 30 min period\": all_other_groom_stim_30min,\n",
    "        \"All Other Bout Count\": all_other_bout_count,\n",
    "        \"All Other Stim Count\": all_other_stim_count,\n",
    "        \"Average Duration of All Other\": average_duration_all_other,\n",
    "        \"All Other Stim in 30 min period\": all_other_stim_30min,\n",
    "    }\n",
    "\n",
    "    data_dict[mouse_name]=mouse_data\n",
    "\n",
    "# Specify the file path for the CSV file\n",
    "csv_file_path = \"Z:/KayCei/test.csv\"\n",
    "\n",
    "# Define the headers for the CSV file\n",
    "headers = [\"Mouse\", \"Genotype\", \"Date\", \"Stim Behavior\", \"Sham y/n\", \"Session Number\", \"Fiber Connection\",\n",
    "           \"Right-turn Bout Count\", \"Right-turn Stim Count\", \"Average Duration of right-turn\",\n",
    "           \"Right-turn Stim in 30 min period\", \"Locomotion Bout Count\", \"Locomotion Stim Count\",\n",
    "           \"Average Duration of Locomotion\", \"Locomotion Stim in 30 min period\", \"Face-groom Bout Count\",\n",
    "           \"Face-groom Stim Count\", \"Average Duration of Face-groom\", \"Face-groom Stim in 30 min period\",\n",
    "           \"All Other Groom Bout Count\", \"All Other Groom Stim Count\", \"Average Duration of All Other Groom\",\n",
    "           \"All Other Groom Stim in 30 min period\", \"All Other Bout Count\", \"All Other Stim Count\",\n",
    "           \"Average Duration of All Other\", \"All Other Stim in 30 min period\"]\n",
    "\n",
    "if os.path.exists(csv_file_path):\n",
    "    # Keep track of existing entries in the CSV to avoid duplicates\n",
    "    existing_entries = set()\n",
    "    entry_key2_session_numbers = {}\n",
    "\n",
    "    # Read existing data from the CSV and add it to the set\n",
    "    with open(csv_file_path, 'r') as csvfile:\n",
    "        reader = csv.DictReader(csvfile)\n",
    "        for row in reader:\n",
    "            entry_key = (row[\"Mouse\"], row[\"Stim Behavior\"], row[\"Fiber Connection\"], row[\"Date\"])\n",
    "            entry_key2 = (row[\"Mouse\"], row[\"Stim Behavior\"], row[\"Fiber Connection\"])\n",
    "            existing_entries.add(entry_key)\n",
    "            entry_key2_session_numbers[entry_key2] = int(row[\"Session Number\"])\n",
    "\n",
    "# Define the set before the if statement\n",
    "else:\n",
    "    existing_entries = set()\n",
    "    entry_key2_session_numbers = {}\n",
    "\n",
    "# Write the data from data_dict to the CSV file (in append mode 'a')\n",
    "with open(csv_file_path, 'a', newline='') as csvfile:\n",
    "    writer = csv.DictWriter(csvfile, fieldnames=headers)\n",
    "\n",
    "    # Check if the file is empty, if so, write the header\n",
    "    if csvfile.tell() == 0:\n",
    "        writer.writeheader()\n",
    "\n",
    "    # Write the data for each mouse\n",
    "    for mouse_data in data_dict.values():\n",
    "        entry_key = (mouse_data[\"Mouse\"], mouse_data[\"Stim Behavior\"], mouse_data[\"Fiber Connection\"], mouse_data[\"Date\"])\n",
    "        entry_key2 = (mouse_data[\"Mouse\"], mouse_data[\"Stim Behavior\"], mouse_data[\"Fiber Connection\"])\n",
    "\n",
    "        # Check if the entry already exists in the CSV, if not, write it\n",
    "        if entry_key not in existing_entries:\n",
    "            # Get the session number based on entry_key2\n",
    "            mouse_data[\"Session Number\"] = entry_key2_session_numbers.get(entry_key2, 0) + 1\n",
    "            writer.writerow(mouse_data)\n",
    "            existing_entries.add(entry_key)\n",
    "            entry_key2_session_numbers[entry_key2] = mouse_data[\"Session Number\"]\n",
    "        else:\n",
    "            print(\"Entry already exists in the CSV:\", entry_key)\n",
    "\n",
    "print(\"Data has been successfully written to the CSV file.\")"
   ]
  },
  {
   "cell_type": "code",
   "execution_count": null,
   "metadata": {},
   "outputs": [],
   "source": []
  }
 ],
 "metadata": {
  "kernelspec": {
   "display_name": "Python 3 (ipykernel)",
   "language": "python",
   "name": "python3"
  },
  "language_info": {
   "codemirror_mode": {
    "name": "ipython",
    "version": 3
   },
   "file_extension": ".py",
   "mimetype": "text/x-python",
   "name": "python",
   "nbconvert_exporter": "python",
   "pygments_lexer": "ipython3",
   "version": "3.8.5"
  }
 },
 "nbformat": 4,
 "nbformat_minor": 4
}
