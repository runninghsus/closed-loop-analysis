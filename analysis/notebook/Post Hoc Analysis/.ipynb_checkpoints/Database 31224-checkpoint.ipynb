{
 "cells": [
  {
   "cell_type": "code",
   "execution_count": 15,
   "id": "2bc864d7",
   "metadata": {},
   "outputs": [],
   "source": [
    "import pandas as pd\n",
    "from tkinter import Tk, filedialog\n",
    "import ast\n",
    "import os\n",
    "import numpy as np\n",
    "import matplotlib.pyplot as plt\n",
    "import pandas as pd\n",
    "from scipy import stats\n",
    "from tabulate import tabulate\n",
    "import pprint \n",
    "import json\n",
    "import scipy.stats as stats\n",
    "import json\n",
    "import pickle\n",
    "import ipywidgets as widgets\n",
    "from IPython.display import display"
   ]
  },
  {
   "cell_type": "markdown",
   "id": "85857f1a",
   "metadata": {},
   "source": [
    "## Upload Database and Filter"
   ]
  },
  {
   "cell_type": "code",
   "execution_count": 16,
   "id": "a709f34b",
   "metadata": {},
   "outputs": [
    {
     "name": "stdout",
     "output_type": "stream",
     "text": [
      "JSON strings in columns with 'Array' in their names have been successfully parsed.\n"
     ]
    }
   ],
   "source": [
    "# Load the DataFrame from the pkl file\n",
    "file_path = '/Users/kaycei/K on Server (NoMachine)/KayCei/Naturalistic.pkl'\n",
    "with open(file_path, 'rb') as f:\n",
    "    df = pickle.load(f)\n",
    "\n",
    "# Identify columns with 'Array' in their names and parse JSON strings in those columns into Python objects\n",
    "columns_to_parse = [col for col in df.columns if 'Array' in col]\n",
    "for col in columns_to_parse:\n",
    "    df[col] = df[col].apply(json.loads)\n",
    "\n",
    "# Check if parsing was successful and print a statement accordingly\n",
    "if all(isinstance(item, (list, dict)) for col in columns_to_parse for item in df[col]):\n",
    "    print(\"JSON strings in columns with 'Array' in their names have been successfully parsed.\")\n",
    "else:\n",
    "    print(\"Parsing of JSON strings in columns with 'Array' in their names was unsuccessful.\")"
   ]
  },
  {
   "cell_type": "code",
   "execution_count": 91,
   "id": "fd62a9c4",
   "metadata": {
    "scrolled": false
   },
   "outputs": [
    {
     "name": "stdout",
     "output_type": "stream",
     "text": [
      "\u001b[1;33m1 .Mouse                           \u001b[0m \u001b[1;33m14.Total Left Turn Bout Count      \u001b[0m \u001b[1;33m27.\u001b[1;32mFace Groom Average Duration in S\u001b[0m \n",
      "\u001b[1;33m2 .Genotype                        \u001b[0m \u001b[1;33m15.\u001b[1;32mAverage Duration of Left Turn(se\u001b[0m \u001b[1;33m28.All Other Groom Array           \u001b[0m \n",
      "\u001b[1;33m3 .Date                            \u001b[0m \u001b[1;33m16.\u001b[1;32mTotal Left Turn Bouts in Stim Bl\u001b[0m \u001b[1;33m29.Total All Other Groom Bout Count\u001b[0m \n",
      "\u001b[1;33m4 .Selected Behavior               \u001b[0m \u001b[1;33m17.\u001b[1;32mLeft Turn Average Duration in St\u001b[0m \u001b[1;33m30.\u001b[1;32mAverage Duration of All Other Gr\u001b[0m \n",
      "\u001b[1;33m5 .Session Type                    \u001b[0m \u001b[1;33m18.Locomotion Array                \u001b[0m \u001b[1;33m31.\u001b[1;32mTotal All Other Groom Bouts in S\u001b[0m \n",
      "\u001b[1;33m6 .Session Number                  \u001b[0m \u001b[1;33m19.Total Locomotion Bout Count     \u001b[0m \u001b[1;33m32.\u001b[1;32mAll Other Groom Average Duration\u001b[0m \n",
      "\u001b[1;33m7 .Fiber Connection                \u001b[0m \u001b[1;33m20.\u001b[1;32mAverage Duration of Locomotion(s\u001b[0m \u001b[1;33m33.All Other Array                 \u001b[0m \n",
      "\u001b[1;33m8 .Right Turn Array                \u001b[0m \u001b[1;33m21.\u001b[1;32mTotal Locomotion Bouts in Stim B\u001b[0m \u001b[1;33m34.Total All Other Bout Count      \u001b[0m \n",
      "\u001b[1;33m9 .Total Right Turn Bout Count     \u001b[0m \u001b[1;33m22.\u001b[1;32mLocomotion Average Duration in S\u001b[0m \u001b[1;33m35.\u001b[1;32mAverage Duration of All Other(se\u001b[0m \n",
      "\u001b[1;33m10.\u001b[1;32mAverage Duration of Right Turn(s\u001b[0m \u001b[1;33m23.Face Groom Array                \u001b[0m \u001b[1;33m36.\u001b[1;32mTotal All Other Bouts in Stim Bl\u001b[0m \n",
      "\u001b[1;33m11.\u001b[1;32mTotal Right Turn Bouts in Stim B\u001b[0m \u001b[1;33m24.Total Face Groom Bout Count     \u001b[0m \u001b[1;33m37.\u001b[1;32mAll Other Average Duration in St\u001b[0m \n",
      "\u001b[1;33m12.\u001b[1;32mRight Turn Average Duration in S\u001b[0m \u001b[1;33m25.\u001b[1;32mAverage Duration of Face Groom(s\u001b[0m \n",
      "\u001b[1;33m13.Left Turn Array                 \u001b[0m \u001b[1;33m26.\u001b[1;32mTotal Face Groom Bouts in Stim B\u001b[0m \n",
      "Enter the number corresponding to the header: 2\n",
      "Enter the value to filter by Genotype: D1\n",
      "2\n"
     ]
    },
    {
     "ename": "NameError",
     "evalue": "name 'filter_criteria' is not defined",
     "output_type": "error",
     "traceback": [
      "\u001b[0;31m---------------------------------------------------------------------------\u001b[0m",
      "\u001b[0;31mNameError\u001b[0m                                 Traceback (most recent call last)",
      "Input \u001b[0;32mIn [91]\u001b[0m, in \u001b[0;36m<cell line: 18>\u001b[0;34m()\u001b[0m\n\u001b[1;32m     54\u001b[0m \u001b[38;5;28mprint\u001b[39m(\u001b[38;5;28mlen\u001b[39m(filtering_criteria))\n\u001b[1;32m     55\u001b[0m iteration \u001b[38;5;241m=\u001b[39m[]\n\u001b[0;32m---> 57\u001b[0m \u001b[38;5;28;01mif\u001b[39;00m \u001b[38;5;28mlen\u001b[39m(\u001b[43mfilter_criteria\u001b[49m)\u001b[38;5;241m==\u001b[39m\u001b[38;5;241m1\u001b[39m:\n\u001b[1;32m     58\u001b[0m     current_match\u001b[38;5;241m=\u001b[39mdf[df[selected_header] \u001b[38;5;241m==\u001b[39m filter_value]\n\u001b[1;32m     59\u001b[0m \u001b[38;5;28;01melse\u001b[39;00m:\n",
      "\u001b[0;31mNameError\u001b[0m: name 'filter_criteria' is not defined"
     ]
    }
   ],
   "source": [
    "# Define a list to store all selections and filtering criteria\n",
    "filtering_criteria = []\n",
    "\n",
    "# Display available columns in groups of 3 with aligned numbering\n",
    "num_columns = 3\n",
    "columns = df.columns.tolist()\n",
    "num_options = len(columns)\n",
    "\n",
    "# Calculate the width of each column\n",
    "column_width = 32\n",
    "\n",
    "# Define the number of spaces for tab spacing\n",
    "tab_space = 1\n",
    "\n",
    "# Set the number of rows for displaying column options\n",
    "num_rows = 13\n",
    "\n",
    "while columns:  # Continue filtering until all headers are filtered\n",
    "    for i in range(num_rows):\n",
    "        for j in range(i, len(columns), num_rows):\n",
    "            col_num = j + 1\n",
    "            col_name = columns[j]\n",
    "            # Adjust font size for smaller font\n",
    "            if len(col_name) > column_width:\n",
    "                print(f\"\\033[1;33m{col_num:<2}.\\033[1;32m{col_name[:column_width]:<{column_width}}\\033[0m\", end=\" \" * tab_space)  # Yellow color for smaller font size\n",
    "            else:\n",
    "                print(f\"\\033[1;33m{col_num:<2}.{col_name:<{column_width}}\\033[0m\", end=\" \" * tab_space)\n",
    "        print()\n",
    "\n",
    "    # Prompt user to enter the number corresponding to the header\n",
    "    selected_option = None\n",
    "    while not selected_option:\n",
    "        try:\n",
    "            selected_option = int(input(\"Enter the number corresponding to the header: \"))\n",
    "            if selected_option < 1 or selected_option > len(columns):\n",
    "                raise ValueError\n",
    "        except ValueError:\n",
    "            print(f\"Invalid input. Please enter a number between 1 and {len(columns)}.\")\n",
    "            selected_option = None\n",
    "\n",
    "    selected_header = columns[selected_option - 1]\n",
    "    \n",
    "    # Append the selected header to filtering_criteria\n",
    "    filtering_criteria.append(f\"Selected Header: {selected_header}\")\n",
    "\n",
    "    # Remove the selected header from the list of available columns\n",
    "    headers_removed=[]\n",
    "    columns.remove(selected_header)\n",
    "    headers_removed.append(selected_header)\n",
    "\n",
    "    # Prompt user for filter value\n",
    "    filter_value = input(f\"Enter the value to filter by {selected_header}: \")\n",
    "\n",
    "    # Append the filter value to filtering_criteria\n",
    "    filtering_criteria.append(f\"Filter Value: {filter_value}\")\n",
    "    \n",
    "    if len(filtering_criteria)==2:\n",
    "        if current_match=df[df[selected_header] == filter_value]:\n",
    "            iteration=1\n",
    "            filtering_criteria.append(f\"Iteration: {iteration}\")\n",
    "    else:\n",
    "        previous_match=current_match\n",
    "        current_match=df[df[selected_header] == filter_value]\n",
    "        iteration=+1\n",
    "        filtering_criteria.append(f\"Iteration: {iteration}\")\n",
    "        \n",
    "    \n",
    "    # Extracting the headers in the original order from the DataFrame\n",
    "    original_headers = current_match.columns.tolist()\n",
    "\n",
    "    print(\"\\nMatching Rows:\")\n",
    "    print(matching_rows)\n",
    "\n",
    "    # Display all selections and filtering criteria\n",
    "    print(\"\\nAll Selections and Filtering Criteria:\")\n",
    "    for criterion in filtering_criteria:\n",
    "        print(criterion)\n",
    "    \n",
    "    # Ask user if they want to continue filtering\n",
    "    continue_filtering = input(\"\\nDo you want to continue filtering? (yes/no): \")\n",
    "    if continue_filtering.lower() != 'yes':\n",
    "        break  # Exit the loop if the user chooses not to continue filtering\n"
   ]
  },
  {
   "cell_type": "code",
   "execution_count": null,
   "id": "1fbac912",
   "metadata": {},
   "outputs": [],
   "source": []
  }
 ],
 "metadata": {
  "kernelspec": {
   "display_name": "Python 3 (ipykernel)",
   "language": "python",
   "name": "python3"
  },
  "language_info": {
   "codemirror_mode": {
    "name": "ipython",
    "version": 3
   },
   "file_extension": ".py",
   "mimetype": "text/x-python",
   "name": "python",
   "nbconvert_exporter": "python",
   "pygments_lexer": "ipython3",
   "version": "3.10.4"
  }
 },
 "nbformat": 4,
 "nbformat_minor": 5
}
