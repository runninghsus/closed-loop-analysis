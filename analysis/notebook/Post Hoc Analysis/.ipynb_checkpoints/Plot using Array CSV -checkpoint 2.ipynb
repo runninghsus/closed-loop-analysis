{
 "cells": [
  {
   "cell_type": "code",
   "execution_count": null,
   "metadata": {},
   "outputs": [],
   "source": [
    "from tkinter import Tk, filedialog, Label, StringVar, OptionMenu, Text, Scrollbar, LEFT, RIGHT, Y, BOTH, END, Button\n",
    "import pandas as pd\n",
    "\n",
    "def display_selected_column(event):\n",
    "    selected_header = selected_header_var.get()\n",
    "\n",
    "    if selected_header:\n",
    "        selected_column = data[selected_header]\n",
    "        text_widget.delete(1.0, END)\n",
    "        text_widget.insert(END, selected_column.to_string(index=False))\n",
    "\n",
    "root = Tk()\n",
    "root.withdraw()\n",
    "root.call('wm', 'attributes', '.', '-topmost', True)\n",
    "\n",
    "csv_paths = filedialog.askopenfilename(multiple=True, title='Select CSV files', filetypes=[('CSV files', '*.csv')])\n",
    "\n",
    "if csv_paths:\n",
    "    for csv_path in csv_paths:\n",
    "        data = pd.read_csv(csv_path)\n",
    "\n",
    "        header_names = list(data.columns)\n",
    "        selected_header_var = StringVar()\n",
    "        selected_header_var.set(header_names[0])\n",
    "\n",
    "        header_label = Label(root, text=\"Select Header:\")\n",
    "        header_label.pack()\n",
    "\n",
    "        header_menu = OptionMenu(root, selected_header_var, *header_names)\n",
    "        header_menu.pack()\n",
    "\n",
    "        display_button = Button(root, text=\"Display Column Data\")\n",
    "        display_button.bind(\"<Button-1>\", display_selected_column)\n",
    "        display_button.pack()\n",
    "\n",
    "        text_widget = Text(root)\n",
    "        text_widget.pack(fill=BOTH, expand=True)\n",
    "\n",
    "        scrollbar = Scrollbar(root, command=text_widget.yview)\n",
    "        scrollbar.pack(side=RIGHT, fill=Y)\n",
    "        text_widget.config(yscrollcommand=scrollbar.set)\n",
    "\n",
    "else:\n",
    "    print(\"No files selected.\")\n",
    "\n",
    "root.mainloop()\n"
   ]
  },
  {
   "cell_type": "code",
   "execution_count": null,
   "metadata": {},
   "outputs": [],
   "source": []
  }
 ],
 "metadata": {
  "kernelspec": {
   "display_name": "Python 3 (ipykernel)",
   "language": "python",
   "name": "python3"
  },
  "language_info": {
   "codemirror_mode": {
    "name": "ipython",
    "version": 3
   },
   "file_extension": ".py",
   "mimetype": "text/x-python",
   "name": "python",
   "nbconvert_exporter": "python",
   "pygments_lexer": "ipython3",
   "version": "3.8.5"
  }
 },
 "nbformat": 4,
 "nbformat_minor": 4
}
