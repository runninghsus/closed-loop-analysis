{
 "cells": [
  {
   "cell_type": "code",
   "execution_count": 1,
   "metadata": {},
   "outputs": [],
   "source": [
    "import pandas as pd\n",
    "import numpy as np\n",
    "from datetime import datetime\n",
    "import matplotlib.pyplot as plt\n",
    "import pickle\n",
    "import time\n",
    "from tkinter import *\n",
    "from tkinter import filedialog\n",
    "import joblib\n",
    "import os\n",
    "from sklearn.ensemble import RandomForestClassifier\n",
    "import numpy as np\n",
    "from tqdm import tqdm\n",
    "from tqdm import notebook\n",
    "import itertools\n",
    "import math\n",
    "import seaborn as sns"
   ]
  },
  {
   "cell_type": "markdown",
   "metadata": {},
   "source": [
    "# Load Time Stamp Data "
   ]
  },
  {
   "cell_type": "code",
   "execution_count": 26,
   "metadata": {},
   "outputs": [],
   "source": [
    "# Create Tk root\n",
    "root = Tk()\n",
    "# Hide the main window\n",
    "root.withdraw()\n",
    "root.call('wm', 'attributes', '.', '-topmost', True)\n",
    "infiles = filedialog.askopenfilename(multiple=True, title='load timestamp csv')\n",
    "\n",
    "%gui tk"
   ]
  },
  {
   "cell_type": "code",
   "execution_count": 27,
   "metadata": {},
   "outputs": [
    {
     "data": {
      "text/html": [
       "<div>\n",
       "<style scoped>\n",
       "    .dataframe tbody tr th:only-of-type {\n",
       "        vertical-align: middle;\n",
       "    }\n",
       "\n",
       "    .dataframe tbody tr th {\n",
       "        vertical-align: top;\n",
       "    }\n",
       "\n",
       "    .dataframe thead th {\n",
       "        text-align: right;\n",
       "    }\n",
       "</style>\n",
       "<table border=\"1\" class=\"dataframe\">\n",
       "  <thead>\n",
       "    <tr style=\"text-align: right;\">\n",
       "      <th></th>\n",
       "      <th>Experiment_Start</th>\n",
       "      <th>(6, 'Stim_Start')</th>\n",
       "      <th>(7, 'Stim_Start')</th>\n",
       "      <th>(8, 'Stim_Start')</th>\n",
       "      <th>(9, 'Stim_Start')</th>\n",
       "      <th>(10, 'Stim_Start')</th>\n",
       "      <th>(11, 'Stim_Start')</th>\n",
       "      <th>(12, 'Stim_Start')</th>\n",
       "      <th>(13, 'Stim_Start')</th>\n",
       "      <th>(14, 'Stim_Start')</th>\n",
       "      <th>...</th>\n",
       "      <th>(495, 'Stim_Start')</th>\n",
       "      <th>(496, 'Stim_Start')</th>\n",
       "      <th>(497, 'Stim_Start')</th>\n",
       "      <th>(498, 'Stim_Start')</th>\n",
       "      <th>(499, 'Stim_Start')</th>\n",
       "      <th>(500, 'Stim_Start')</th>\n",
       "      <th>(501, 'Stim_Start')</th>\n",
       "      <th>(502, 'Stim_Start')</th>\n",
       "      <th>(503, 'Stim_Start')</th>\n",
       "      <th>(504, 'Stim_Start')</th>\n",
       "    </tr>\n",
       "  </thead>\n",
       "  <tbody>\n",
       "    <tr>\n",
       "      <th>0</th>\n",
       "      <td>1.690292e+09</td>\n",
       "      <td>1.690292e+09</td>\n",
       "      <td>1.690292e+09</td>\n",
       "      <td>1.690292e+09</td>\n",
       "      <td>1.690292e+09</td>\n",
       "      <td>1.690292e+09</td>\n",
       "      <td>1.690292e+09</td>\n",
       "      <td>1.690292e+09</td>\n",
       "      <td>1.690292e+09</td>\n",
       "      <td>1.690292e+09</td>\n",
       "      <td>...</td>\n",
       "      <td>1.690294e+09</td>\n",
       "      <td>1.690294e+09</td>\n",
       "      <td>1.690294e+09</td>\n",
       "      <td>1.690294e+09</td>\n",
       "      <td>1.690294e+09</td>\n",
       "      <td>1.690294e+09</td>\n",
       "      <td>1.690294e+09</td>\n",
       "      <td>1.690294e+09</td>\n",
       "      <td>1.690294e+09</td>\n",
       "      <td>1.690294e+09</td>\n",
       "    </tr>\n",
       "  </tbody>\n",
       "</table>\n",
       "<p>1 rows × 500 columns</p>\n",
       "</div>"
      ],
      "text/plain": [
       "   Experiment_Start  (6, 'Stim_Start')  (7, 'Stim_Start')  (8, 'Stim_Start')  \\\n",
       "0      1.690292e+09       1.690292e+09       1.690292e+09       1.690292e+09   \n",
       "\n",
       "   (9, 'Stim_Start')  (10, 'Stim_Start')  (11, 'Stim_Start')  \\\n",
       "0       1.690292e+09        1.690292e+09        1.690292e+09   \n",
       "\n",
       "   (12, 'Stim_Start')  (13, 'Stim_Start')  (14, 'Stim_Start')  ...  \\\n",
       "0        1.690292e+09        1.690292e+09        1.690292e+09  ...   \n",
       "\n",
       "   (495, 'Stim_Start')  (496, 'Stim_Start')  (497, 'Stim_Start')  \\\n",
       "0         1.690294e+09         1.690294e+09         1.690294e+09   \n",
       "\n",
       "   (498, 'Stim_Start')  (499, 'Stim_Start')  (500, 'Stim_Start')  \\\n",
       "0         1.690294e+09         1.690294e+09         1.690294e+09   \n",
       "\n",
       "   (501, 'Stim_Start')  (502, 'Stim_Start')  (503, 'Stim_Start')  \\\n",
       "0         1.690294e+09         1.690294e+09         1.690294e+09   \n",
       "\n",
       "   (504, 'Stim_Start')  \n",
       "0         1.690294e+09  \n",
       "\n",
       "[1 rows x 500 columns]"
      ]
     },
     "execution_count": 27,
     "metadata": {},
     "output_type": "execute_result"
    }
   ],
   "source": [
    "df = pd.read_csv(infiles[0])\n",
    "df.tail(50)"
   ]
  },
  {
   "cell_type": "code",
   "execution_count": 28,
   "metadata": {},
   "outputs": [
    {
     "name": "stdout",
     "output_type": "stream",
     "text": [
      "1690292416.727955\n",
      "1820.4039192199707\n",
      "Elasped Time between beginning and end 30.340065320332844 minutes\n",
      "The number of Real Time Stims are:  499\n"
     ]
    }
   ],
   "source": [
    "# fmt = '%Y%m%d_%H:%M:%S:%f'\n",
    "stim_time = []\n",
    "tstamp_0 = df.iloc[0, 0]\n",
    "print(tstamp_0)\n",
    "for i in range(1, np.array(df).shape[1]):\n",
    "#     print(i)\n",
    "    try:\n",
    "        \n",
    "#         tstamp2 = datetime.strptime(np.array(df)[0, i], fmt)\n",
    "        tstamp2 = np.array(df)[0, i]\n",
    "        time_elapsed = tstamp2-tstamp_0\n",
    "        stim_time.append(time_elapsed)\n",
    "    except:\n",
    "        pass\n",
    "\n",
    "num_of_rtstim=(len(stim_time))\n",
    "Elapsed_time=(stim_time[-1])\n",
    "\n",
    "print(Elapsed_time)\n",
    "print ('Elasped Time between beginning and end', (Elapsed_time/60),'minutes' )\n",
    "print('The number of Real Time Stims are: ', num_of_rtstim)\n",
    "#print(stim_time)"
   ]
  },
  {
   "cell_type": "markdown",
   "metadata": {},
   "source": [
    "# Load Post Hoc Analysis "
   ]
  },
  {
   "cell_type": "code",
   "execution_count": 29,
   "metadata": {},
   "outputs": [],
   "source": [
    "# Create Tk root\n",
    "root = Tk()\n",
    "# Hide the main window\n",
    "root.withdraw()\n",
    "root.call('wm', 'attributes', '.', '-topmost', True)\n",
    "infiles = filedialog.askopenfilename(multiple=True, title='load posthoc-predictions.npy')\n",
    "\n",
    "%gui tk"
   ]
  },
  {
   "cell_type": "code",
   "execution_count": 30,
   "metadata": {},
   "outputs": [
    {
     "data": {
      "text/plain": [
       "('C:/Users/Yttri-Lab/Desktop/D on Server (NoMachine)/KayCei/P22-D1/VIDEOS/072523-locomotion/VideoOutputCamera 0-25072023-094016_posthoc-predictions.npy',)"
      ]
     },
     "execution_count": 30,
     "metadata": {},
     "output_type": "execute_result"
    }
   ],
   "source": [
    "infiles"
   ]
  },
  {
   "cell_type": "code",
   "execution_count": 31,
   "metadata": {},
   "outputs": [
    {
     "name": "stdout",
     "output_type": "stream",
     "text": [
      "39301\n"
     ]
    }
   ],
   "source": [
    "Random_List = [0] #creates a array known as random list \n",
    "for f in range(len(infiles)):\n",
    "    arr = np.load(infiles[f])\n",
    "    Random_List.extend(arr) \n",
    "print(len(Random_List))"
   ]
  },
  {
   "cell_type": "code",
   "execution_count": 32,
   "metadata": {},
   "outputs": [
    {
     "name": "stdout",
     "output_type": "stream",
     "text": [
      "Enter the behavior of interest: 2\n"
     ]
    }
   ],
   "source": [
    "behavior_of_interest = int(input(\"Enter the behavior of interest: \"))"
   ]
  },
  {
   "cell_type": "code",
   "execution_count": 33,
   "metadata": {
    "scrolled": true
   },
   "outputs": [],
   "source": [
    "selected_behavior = []\n",
    "for index, behavior in enumerate(Random_List):\n",
    "    if behavior == behavior_of_interest:\n",
    "        selected_behavior.append(index)\n",
    "\n",
    "#print(selected_behavior)\n"
   ]
  },
  {
   "cell_type": "code",
   "execution_count": 34,
   "metadata": {},
   "outputs": [
    {
     "name": "stdout",
     "output_type": "stream",
     "text": [
      "This video is  39301  deciseconds, which is 65.50166666666667 minuutes\n",
      "\n"
     ]
    }
   ],
   "source": [
    "print('This video is ', len(Random_List), ' deciseconds, which is', (len(Random_List)/600), 'minuutes' )\n",
    "print()\n",
    "#print(Random_List)"
   ]
  },
  {
   "cell_type": "code",
   "execution_count": null,
   "metadata": {},
   "outputs": [],
   "source": []
  },
  {
   "cell_type": "code",
   "execution_count": 35,
   "metadata": {
    "scrolled": true
   },
   "outputs": [],
   "source": [
    "time_array= selected_behavior\n",
    "\n",
    "#print(time_array)\n"
   ]
  },
  {
   "cell_type": "code",
   "execution_count": 36,
   "metadata": {},
   "outputs": [
    {
     "name": "stdout",
     "output_type": "stream",
     "text": [
      "The total count of matching stims: 400\n",
      "Matching indices: [27, 30, 34, 35, 36, 39, 45, 49, 51, 53, 54, 60, 62, 63, 65, 66, 67, 68, 69, 74, 75, 86, 91, 96, 101, 102, 104, 105, 109, 141, 142, 145, 148, 149, 150, 154, 155, 159, 160, 161, 162, 163, 164, 165, 166, 169, 171, 172, 173, 176, 177, 186, 190, 191, 192, 193, 195, 200, 203, 212, 213, 214, 218, 222, 236, 237, 238, 242, 243, 248, 249, 254, 256, 257, 264, 265, 268, 276, 277, 283, 284, 291, 293, 294, 311, 312, 340, 346, 347, 348, 349, 353, 354, 355, 356, 361, 362, 366, 368, 370, 371, 374, 375, 376, 381, 382, 385, 388, 391, 392, 403, 404, 405, 412, 413, 419, 420, 421, 423, 427, 433, 434, 440, 442, 443, 444, 446, 448, 449, 451, 452, 453, 454, 455, 456, 462, 463, 464, 465, 467, 471, 473, 474, 475, 477, 478, 479, 486, 487, 492, 493, 494, 498, 500, 506, 510, 512, 513, 518, 521, 522, 524, 537, 538, 539, 542, 543, 544, 549, 550, 562, 565, 584, 588, 591, 594, 595, 596, 599, 600, 602, 605, 608, 617, 618, 620, 621, 624, 625, 632, 640, 641, 642, 657, 710, 711, 712, 748, 750, 752, 753, 754, 755, 757, 762, 763, 775, 776, 777, 778, 779, 784, 802, 803, 804, 806, 809, 814, 815, 822, 823, 824, 829, 830, 834, 858, 862, 863, 869, 882, 884, 891, 900, 915, 921, 924, 925, 928, 930, 931, 934, 935, 937, 939, 940, 941, 943, 944, 946, 949, 950, 951, 952, 954, 960, 967, 968, 971, 972, 973, 974, 992, 994, 998, 1001, 1002, 1005, 1006, 1009, 1010, 1013, 1014, 1015, 1016, 1029, 1030, 1031, 1032, 1040, 1041, 1045, 1067, 1068, 1069, 1092, 1094, 1096, 1097, 1136, 1139, 1142, 1143, 1144, 1169, 1171, 1172, 1173, 1174, 1175, 1176, 1177, 1183, 1184, 1186, 1189, 1206, 1207, 1348, 1349, 1351, 1352, 1353, 1357, 1358, 1359, 1360, 1361, 1369, 1371, 1374, 1376, 1378, 1379, 1380, 1381, 1395, 1403, 1404, 1425, 1426, 1427, 1428, 1432, 1437, 1464, 1465, 1466, 1467, 1470, 1471, 1477, 1503, 1558, 1572, 1573, 1574, 1575, 1576, 1582, 1583, 1592, 1619, 1622, 1642, 1643, 1644, 1651, 1652, 1655, 1656, 1658, 1662, 1663, 1664, 1674, 1681, 1691, 1692, 1693, 1700, 1701, 1703, 1704, 1716, 1717, 1718, 1723, 1725, 1730, 1732, 1738, 1739, 1740, 1754, 1755, 1756, 1762, 1771, 1776, 1789, 1790, 1793, 1794, 1797, 1800, 1804, 1805, 1817, 1818, 1820]\n"
     ]
    }
   ],
   "source": [
    "matches = []\n",
    "realtime = []\n",
    "count = 0\n",
    "\n",
    "checked_indices = set()  # Set to store the checked indices\n",
    "\n",
    "for index in range(len(time_array)):\n",
    "    if index <= (Elapsed_time*10):\n",
    "        index_str = str(index)\n",
    "        if index_str not in checked_indices:\n",
    "            checked_indices.add(index_str)\n",
    "            #count += time_array[index]\n",
    "    else:\n",
    "        break\n",
    "    if index not in checked_indices:\n",
    "        for stim_time_value in stim_time:\n",
    "            current_time_str = str(int(stim_time_value))[:4]\n",
    "\n",
    "            if index_str == current_time_str:\n",
    "                matches.append(index)\n",
    "                realtime.append(current_time_str)\n",
    "                count += 1\n",
    "                checked_indices.add(index)  # Add the checked index to the set\n",
    "                break  # Exit the inner loop once a match is found for the current index\n",
    "\n",
    "print('The total count of matching stims:', count)\n",
    "print('Matching indices:', matches)\n"
   ]
  },
  {
   "cell_type": "raw",
   "metadata": {},
   "source": [
    "matches = []\n",
    "realtime = []\n",
    "count = 0\n",
    "\n",
    "checked_indices = set()  # Set to store the checked indices\n",
    "\n",
    "for index in time_array:\n",
    "    if index <= (Elapsed_time*10):\n",
    "        index_str = str(index)\n",
    "\n",
    "    if index not in checked_indices:\n",
    "        for stim_time_value in stim_time:\n",
    "            current_time_str = str(int(stim_time_value))[:4]\n",
    "\n",
    "            if index_str == current_time_str:\n",
    "                matches.append(index)\n",
    "                realtime.append(current_time_str)\n",
    "                count += 1\n",
    "                checked_indices.add(index)  # Add the checked index to the set\n",
    "                break  # Exit the inner loop once a match is found for the current index\n",
    "\n",
    "print('The total count of matching stims:', count)\n",
    "print('Matching indices:', matches)\n"
   ]
  },
  {
   "cell_type": "raw",
   "metadata": {
    "scrolled": true
   },
   "source": [
    "matches = []\n",
    "realtime = []\n",
    "count = 0\n",
    "\n",
    "checked_indices = set()  # Set to store the checked indices\n",
    "\n",
    "for index, _ in time_array:\n",
    "    if index <= (Elapsed_time*10):\n",
    "        index_str = str(index)\n",
    "\n",
    "    if index not in checked_indices:\n",
    "        for stim_time_value in stim_time:\n",
    "            current_time_str = str(int(stim_time_value))[:4]\n",
    "\n",
    "            if index_str == current_time_str:\n",
    "                matches.append(index)\n",
    "                realtime.append(current_time_str)\n",
    "                count += 1\n",
    "                checked_indices.add(index)  # Add the checked index to the set\n",
    "                break  # Exit the inner loop once a match is found for the current index\n",
    "\n",
    "print('The total count of matching stims:', count)\n",
    "print('Matching indices:', matches)\n"
   ]
  },
  {
   "cell_type": "raw",
   "metadata": {},
   "source": [
    "matches = []\n",
    "realtime = []\n",
    "count = 0\n",
    "\n",
    "checked_indices = set()  # Set to store the checked indices\n",
    "\n",
    "for index, _ in time_array:\n",
    "    if index <= (Elapsed_time*10):\n",
    "        index_str = str(index)\n",
    "\n",
    "    if index not in checked_indices:\n",
    "        for stim_time_value in stim_time:\n",
    "            current_time_str = str(int(stim_time_value))[:4]\n",
    "\n",
    "            if index_str == current_time_str:\n",
    "                matches.append(index)\n",
    "                realtime.append(current_time_str)\n",
    "                count += 1\n",
    "                checked_indices.add(index)  # Add the checked index to the set\n",
    "                break  # Exit the inner loop once a match is found for the current index\n",
    "\n",
    "print('The total count of matching stims:', count)\n",
    "print('Matching indices:', matches)\n",
    "\n"
   ]
  },
  {
   "cell_type": "code",
   "execution_count": 37,
   "metadata": {},
   "outputs": [
    {
     "name": "stdout",
     "output_type": "stream",
     "text": [
      "The Real Time Model was accurate by:  80.16032064128257 %\n"
     ]
    }
   ],
   "source": [
    "percentage_of_acurately_id_stim= ((count/num_of_rtstim)*100)\n",
    "\n",
    "print('The Real Time Model was accurate by: ',percentage_of_acurately_id_stim,'%')"
   ]
  },
  {
   "cell_type": "code",
   "execution_count": null,
   "metadata": {},
   "outputs": [],
   "source": []
  },
  {
   "cell_type": "code",
   "execution_count": null,
   "metadata": {},
   "outputs": [],
   "source": []
  },
  {
   "cell_type": "code",
   "execution_count": null,
   "metadata": {},
   "outputs": [],
   "source": []
  }
 ],
 "metadata": {
  "kernelspec": {
   "display_name": "Python 3 (ipykernel)",
   "language": "python",
   "name": "python3"
  },
  "language_info": {
   "codemirror_mode": {
    "name": "ipython",
    "version": 3
   },
   "file_extension": ".py",
   "mimetype": "text/x-python",
   "name": "python",
   "nbconvert_exporter": "python",
   "pygments_lexer": "ipython3",
   "version": "3.8.5"
  }
 },
 "nbformat": 4,
 "nbformat_minor": 4
}
