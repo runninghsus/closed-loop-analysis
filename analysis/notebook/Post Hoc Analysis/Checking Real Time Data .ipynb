{
 "cells": [
  {
   "cell_type": "code",
   "execution_count": 1,
   "metadata": {},
   "outputs": [],
   "source": [
    "import pandas as pd\n",
    "import numpy as np\n",
    "from datetime import datetime\n",
    "import matplotlib.pyplot as plt\n",
    "import pickle\n",
    "import time\n",
    "from tkinter import *\n",
    "from tkinter import filedialog\n",
    "import joblib\n",
    "import os\n",
    "from sklearn.ensemble import RandomForestClassifier\n",
    "import numpy as np\n",
    "from tqdm import tqdm\n",
    "from tqdm import notebook\n",
    "import itertools\n",
    "import math\n",
    "import seaborn as sns"
   ]
  },
  {
   "cell_type": "markdown",
   "metadata": {},
   "source": [
    "# Load Time Stamp Data "
   ]
  },
  {
   "cell_type": "code",
   "execution_count": 2,
   "metadata": {},
   "outputs": [],
   "source": [
    "# Create Tk root\n",
    "root = Tk()\n",
    "# Hide the main window\n",
    "root.withdraw()\n",
    "root.call('wm', 'attributes', '.', '-topmost', True)\n",
    "infiles = filedialog.askopenfilename(multiple=True, title='load timestamp csv')\n",
    "\n",
    "%gui tk"
   ]
  },
  {
   "cell_type": "code",
   "execution_count": 3,
   "metadata": {},
   "outputs": [
    {
     "data": {
      "text/html": [
       "<div>\n",
       "<style scoped>\n",
       "    .dataframe tbody tr th:only-of-type {\n",
       "        vertical-align: middle;\n",
       "    }\n",
       "\n",
       "    .dataframe tbody tr th {\n",
       "        vertical-align: top;\n",
       "    }\n",
       "\n",
       "    .dataframe thead th {\n",
       "        text-align: right;\n",
       "    }\n",
       "</style>\n",
       "<table border=\"1\" class=\"dataframe\">\n",
       "  <thead>\n",
       "    <tr style=\"text-align: right;\">\n",
       "      <th></th>\n",
       "      <th>Experiment_Start</th>\n",
       "      <th>(6, 'Stim_Start')</th>\n",
       "      <th>(7, 'Stim_Start')</th>\n",
       "      <th>(8, 'Stim_Start')</th>\n",
       "      <th>(9, 'Stim_Start')</th>\n",
       "      <th>(10, 'Stim_Start')</th>\n",
       "      <th>(11, 'Stim_Start')</th>\n",
       "      <th>(12, 'Stim_Start')</th>\n",
       "      <th>(13, 'Stim_Start')</th>\n",
       "      <th>(14, 'Stim_Start')</th>\n",
       "      <th>...</th>\n",
       "      <th>(41, 'Stim_Start')</th>\n",
       "      <th>(42, 'Stim_Start')</th>\n",
       "      <th>(43, 'Stim_Start')</th>\n",
       "      <th>(44, 'Stim_Start')</th>\n",
       "      <th>(45, 'Stim_Start')</th>\n",
       "      <th>(46, 'Stim_Start')</th>\n",
       "      <th>(47, 'Stim_Start')</th>\n",
       "      <th>(48, 'Stim_Start')</th>\n",
       "      <th>(49, 'Stim_Start')</th>\n",
       "      <th>(50, 'Stim_Start')</th>\n",
       "    </tr>\n",
       "  </thead>\n",
       "  <tbody>\n",
       "    <tr>\n",
       "      <th>0</th>\n",
       "      <td>1.696284e+09</td>\n",
       "      <td>1.696284e+09</td>\n",
       "      <td>1.696284e+09</td>\n",
       "      <td>1.696284e+09</td>\n",
       "      <td>1.696284e+09</td>\n",
       "      <td>1.696284e+09</td>\n",
       "      <td>1.696284e+09</td>\n",
       "      <td>1.696284e+09</td>\n",
       "      <td>1.696284e+09</td>\n",
       "      <td>1.696284e+09</td>\n",
       "      <td>...</td>\n",
       "      <td>1.696286e+09</td>\n",
       "      <td>1.696286e+09</td>\n",
       "      <td>1.696286e+09</td>\n",
       "      <td>1.696286e+09</td>\n",
       "      <td>1.696286e+09</td>\n",
       "      <td>1.696286e+09</td>\n",
       "      <td>1.696286e+09</td>\n",
       "      <td>1.696286e+09</td>\n",
       "      <td>1.696286e+09</td>\n",
       "      <td>1.696286e+09</td>\n",
       "    </tr>\n",
       "  </tbody>\n",
       "</table>\n",
       "<p>1 rows × 46 columns</p>\n",
       "</div>"
      ],
      "text/plain": [
       "   Experiment_Start  (6, 'Stim_Start')  (7, 'Stim_Start')  (8, 'Stim_Start')  \\\n",
       "0      1.696284e+09       1.696284e+09       1.696284e+09       1.696284e+09   \n",
       "\n",
       "   (9, 'Stim_Start')  (10, 'Stim_Start')  (11, 'Stim_Start')  \\\n",
       "0       1.696284e+09        1.696284e+09        1.696284e+09   \n",
       "\n",
       "   (12, 'Stim_Start')  (13, 'Stim_Start')  (14, 'Stim_Start')  ...  \\\n",
       "0        1.696284e+09        1.696284e+09        1.696284e+09  ...   \n",
       "\n",
       "   (41, 'Stim_Start')  (42, 'Stim_Start')  (43, 'Stim_Start')  \\\n",
       "0        1.696286e+09        1.696286e+09        1.696286e+09   \n",
       "\n",
       "   (44, 'Stim_Start')  (45, 'Stim_Start')  (46, 'Stim_Start')  \\\n",
       "0        1.696286e+09        1.696286e+09        1.696286e+09   \n",
       "\n",
       "   (47, 'Stim_Start')  (48, 'Stim_Start')  (49, 'Stim_Start')  \\\n",
       "0        1.696286e+09        1.696286e+09        1.696286e+09   \n",
       "\n",
       "   (50, 'Stim_Start')  \n",
       "0        1.696286e+09  \n",
       "\n",
       "[1 rows x 46 columns]"
      ]
     },
     "execution_count": 3,
     "metadata": {},
     "output_type": "execute_result"
    }
   ],
   "source": [
    "df = pd.read_csv(infiles[0])\n",
    "df.tail(50)"
   ]
  },
  {
   "cell_type": "code",
   "execution_count": 4,
   "metadata": {},
   "outputs": [
    {
     "name": "stdout",
     "output_type": "stream",
     "text": [
      "1696283716.8007624\n",
      "2211.2732944488525\n",
      "Elasped Time between beginning and end 36.854554907480875 minutes\n",
      "The number of Real Time Stims are:  45\n"
     ]
    }
   ],
   "source": [
    "# fmt = '%Y%m%d_%H:%M:%S:%f'\n",
    "stim_time = []\n",
    "tstamp_0 = df.iloc[0, 0]\n",
    "print(tstamp_0)\n",
    "for i in range(1, np.array(df).shape[1]):\n",
    "#     print(i)\n",
    "    try:\n",
    "        \n",
    "#         tstamp2 = datetime.strptime(np.array(df)[0, i], fmt)\n",
    "        tstamp2 = np.array(df)[0, i]\n",
    "        time_elapsed = tstamp2-tstamp_0\n",
    "        stim_time.append(time_elapsed)\n",
    "    except:\n",
    "        pass\n",
    "\n",
    "num_of_rtstim=(len(stim_time))\n",
    "Elapsed_time=(stim_time[-1])\n",
    "\n",
    "print(Elapsed_time)\n",
    "print ('Elasped Time between beginning and end', (Elapsed_time/60),'minutes' )\n",
    "print('The number of Real Time Stims are: ', num_of_rtstim)\n",
    "#print(stim_time)"
   ]
  },
  {
   "cell_type": "markdown",
   "metadata": {},
   "source": [
    "# Load Post Hoc Analysis "
   ]
  },
  {
   "cell_type": "code",
   "execution_count": 5,
   "metadata": {},
   "outputs": [],
   "source": [
    "# Create Tk root\n",
    "root = Tk()\n",
    "# Hide the main window\n",
    "root.withdraw()\n",
    "root.call('wm', 'attributes', '.', '-topmost', True)\n",
    "infiles = filedialog.askopenfilename(multiple=True, title='load posthoc-predictions.npy')\n",
    "\n",
    "%gui tk"
   ]
  },
  {
   "cell_type": "code",
   "execution_count": 6,
   "metadata": {},
   "outputs": [
    {
     "data": {
      "text/plain": [
       "('Z:/KayCei/AD10-D1/VIDEOS/100123-face groom/VideoOutputCamera 0-02102023-175516_posthoc-predictions.npy',)"
      ]
     },
     "execution_count": 6,
     "metadata": {},
     "output_type": "execute_result"
    }
   ],
   "source": [
    "infiles"
   ]
  },
  {
   "cell_type": "code",
   "execution_count": 7,
   "metadata": {},
   "outputs": [
    {
     "name": "stdout",
     "output_type": "stream",
     "text": [
      "41598\n"
     ]
    }
   ],
   "source": [
    "Random_List = [0] #creates a array known as random list \n",
    "for f in range(len(infiles)):\n",
    "    arr = np.load(infiles[f])\n",
    "    Random_List.extend(arr) \n",
    "print(len(Random_List))"
   ]
  },
  {
   "cell_type": "code",
   "execution_count": 8,
   "metadata": {},
   "outputs": [
    {
     "name": "stdout",
     "output_type": "stream",
     "text": [
      "Enter the behavior of interest: 3\n"
     ]
    }
   ],
   "source": [
    "behavior_of_interest = int(input(\"Enter the behavior of interest: \"))"
   ]
  },
  {
   "cell_type": "code",
   "execution_count": 9,
   "metadata": {
    "scrolled": true
   },
   "outputs": [],
   "source": [
    "selected_behavior = []\n",
    "for index, behavior in enumerate(Random_List):\n",
    "    if behavior == behavior_of_interest:\n",
    "        selected_behavior.append(index)\n",
    "\n",
    "#print(selected_behavior)\n"
   ]
  },
  {
   "cell_type": "code",
   "execution_count": 10,
   "metadata": {},
   "outputs": [
    {
     "name": "stdout",
     "output_type": "stream",
     "text": [
      "This video is  41598  deciseconds, which is 69.33 minuutes\n",
      "\n"
     ]
    }
   ],
   "source": [
    "print('This video is ', len(Random_List), ' deciseconds, which is', (len(Random_List)/600), 'minuutes' )\n",
    "print()\n",
    "#print(Random_List)"
   ]
  },
  {
   "cell_type": "code",
   "execution_count": null,
   "metadata": {},
   "outputs": [],
   "source": []
  },
  {
   "cell_type": "code",
   "execution_count": 11,
   "metadata": {
    "scrolled": true
   },
   "outputs": [],
   "source": [
    "time_array= selected_behavior\n",
    "\n",
    "#print(time_array)\n"
   ]
  },
  {
   "cell_type": "code",
   "execution_count": 12,
   "metadata": {},
   "outputs": [
    {
     "name": "stdout",
     "output_type": "stream",
     "text": [
      "The total count of matching stims: 14\n",
      "Matching indices: [157, 158, 164, 165, 166, 172, 191, 260, 329, 333, 335, 338, 421, 422]\n"
     ]
    }
   ],
   "source": [
    "matches = []\n",
    "realtime = []\n",
    "count = 0\n",
    "\n",
    "checked_indices = set()  # Set to store the checked indices\n",
    "\n",
    "for index in range(len(time_array)):\n",
    "    if index <= (Elapsed_time*10):\n",
    "        index_str = str(index)\n",
    "        if index_str not in checked_indices:\n",
    "            checked_indices.add(index_str)\n",
    "            #count += time_array[index]\n",
    "    else:\n",
    "        break\n",
    "    if index not in checked_indices:\n",
    "        for stim_time_value in stim_time:\n",
    "            current_time_str = str(int(stim_time_value))[:4]\n",
    "\n",
    "            if index_str == current_time_str:\n",
    "                matches.append(index)\n",
    "                realtime.append(current_time_str)\n",
    "                count += 1\n",
    "                checked_indices.add(index)  # Add the checked index to the set\n",
    "                break  # Exit the inner loop once a match is found for the current index\n",
    "\n",
    "print('The total count of matching stims:', count)\n",
    "print('Matching indices:', matches)\n"
   ]
  },
  {
   "cell_type": "raw",
   "metadata": {},
   "source": [
    "matches = []\n",
    "realtime = []\n",
    "count = 0\n",
    "\n",
    "checked_indices = set()  # Set to store the checked indices\n",
    "\n",
    "for index in time_array:\n",
    "    if index <= (Elapsed_time*10):\n",
    "        index_str = str(index)\n",
    "\n",
    "    if index not in checked_indices:\n",
    "        for stim_time_value in stim_time:\n",
    "            current_time_str = str(int(stim_time_value))[:4]\n",
    "\n",
    "            if index_str == current_time_str:\n",
    "                matches.append(index)\n",
    "                realtime.append(current_time_str)\n",
    "                count += 1\n",
    "                checked_indices.add(index)  # Add the checked index to the set\n",
    "                break  # Exit the inner loop once a match is found for the current index\n",
    "\n",
    "print('The total count of matching stims:', count)\n",
    "print('Matching indices:', matches)\n"
   ]
  },
  {
   "cell_type": "raw",
   "metadata": {
    "scrolled": true
   },
   "source": [
    "matches = []\n",
    "realtime = []\n",
    "count = 0\n",
    "\n",
    "checked_indices = set()  # Set to store the checked indices\n",
    "\n",
    "for index, _ in time_array:\n",
    "    if index <= (Elapsed_time*10):\n",
    "        index_str = str(index)\n",
    "\n",
    "    if index not in checked_indices:\n",
    "        for stim_time_value in stim_time:\n",
    "            current_time_str = str(int(stim_time_value))[:4]\n",
    "\n",
    "            if index_str == current_time_str:\n",
    "                matches.append(index)\n",
    "                realtime.append(current_time_str)\n",
    "                count += 1\n",
    "                checked_indices.add(index)  # Add the checked index to the set\n",
    "                break  # Exit the inner loop once a match is found for the current index\n",
    "\n",
    "print('The total count of matching stims:', count)\n",
    "print('Matching indices:', matches)\n"
   ]
  },
  {
   "cell_type": "raw",
   "metadata": {},
   "source": [
    "matches = []\n",
    "realtime = []\n",
    "count = 0\n",
    "\n",
    "checked_indices = set()  # Set to store the checked indices\n",
    "\n",
    "for index, _ in time_array:\n",
    "    if index <= (Elapsed_time*10):\n",
    "        index_str = str(index)\n",
    "\n",
    "    if index not in checked_indices:\n",
    "        for stim_time_value in stim_time:\n",
    "            current_time_str = str(int(stim_time_value))[:4]\n",
    "\n",
    "            if index_str == current_time_str:\n",
    "                matches.append(index)\n",
    "                realtime.append(current_time_str)\n",
    "                count += 1\n",
    "                checked_indices.add(index)  # Add the checked index to the set\n",
    "                break  # Exit the inner loop once a match is found for the current index\n",
    "\n",
    "print('The total count of matching stims:', count)\n",
    "print('Matching indices:', matches)\n",
    "\n"
   ]
  },
  {
   "cell_type": "code",
   "execution_count": 13,
   "metadata": {},
   "outputs": [
    {
     "name": "stdout",
     "output_type": "stream",
     "text": [
      "The Real Time Model was accurate by:  31.11111111111111 %\n"
     ]
    }
   ],
   "source": [
    "percentage_of_acurately_id_stim= ((count/num_of_rtstim)*100)\n",
    "\n",
    "print('The Real Time Model was accurate by: ',percentage_of_acurately_id_stim,'%')"
   ]
  },
  {
   "cell_type": "code",
   "execution_count": null,
   "metadata": {},
   "outputs": [],
   "source": []
  },
  {
   "cell_type": "code",
   "execution_count": null,
   "metadata": {},
   "outputs": [],
   "source": []
  },
  {
   "cell_type": "code",
   "execution_count": null,
   "metadata": {},
   "outputs": [],
   "source": []
  }
 ],
 "metadata": {
  "kernelspec": {
   "display_name": "Python 3 (ipykernel)",
   "language": "python",
   "name": "python3"
  },
  "language_info": {
   "codemirror_mode": {
    "name": "ipython",
    "version": 3
   },
   "file_extension": ".py",
   "mimetype": "text/x-python",
   "name": "python",
   "nbconvert_exporter": "python",
   "pygments_lexer": "ipython3",
   "version": "3.8.5"
  }
 },
 "nbformat": 4,
 "nbformat_minor": 4
}
