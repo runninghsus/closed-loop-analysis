{
 "cells": [
  {
   "cell_type": "markdown",
   "metadata": {},
   "source": [
    "# Bout, Stim, and Duration Post Hoc Analysis(CSV for Database) "
   ]
  },
  {
   "cell_type": "code",
   "execution_count": 1543,
   "metadata": {},
   "outputs": [],
   "source": [
    "import joblib\n",
    "import os\n",
    "import pandas as pd\n",
    "from sklearn.ensemble import RandomForestClassifier\n",
    "import numpy as np\n",
    "from datetime import datetime\n",
    "import matplotlib.pyplot as plt\n",
    "import pickle\n",
    "import time\n",
    "from tkinter import *\n",
    "import tkinter as tk\n",
    "from tkinter import filedialog\n",
    "from tqdm import tqdm\n",
    "from tqdm import notebook\n",
    "import itertools\n",
    "import math\n",
    "import seaborn as sns\n",
    "import statistics \n",
    "from collections import OrderedDict\n",
    "import csv"
   ]
  },
  {
   "cell_type": "code",
   "execution_count": 1542,
   "metadata": {},
   "outputs": [],
   "source": [
    "# Create Tk root\n",
    "root = Tk()\n",
    "# Hide the main window\n",
    "root.withdraw()\n",
    "root.call('wm', 'attributes', '.', '-topmost', True)\n",
    "infiles = filedialog.askopenfilename(multiple=True, title='load posthoc-predictions.npy')\n",
    "\n",
    "%gui tk"
   ]
  },
  {
   "cell_type": "code",
   "execution_count": 1544,
   "metadata": {},
   "outputs": [
    {
     "data": {
      "text/plain": [
       "''"
      ]
     },
     "execution_count": 1544,
     "metadata": {},
     "output_type": "execute_result"
    }
   ],
   "source": [
    "infiles"
   ]
  },
  {
   "cell_type": "code",
   "execution_count": 1545,
   "metadata": {},
   "outputs": [],
   "source": [
    "Random_List = [] #creates a array known as random list \n",
    "for f in range(len(infiles)):\n",
    "    arr = np.load(infiles[f])\n",
    "    Random_List.extend(arr) "
   ]
  },
  {
   "cell_type": "markdown",
   "metadata": {},
   "source": [
    "# Total Time of Video in deciseconds"
   ]
  },
  {
   "cell_type": "code",
   "execution_count": 1546,
   "metadata": {
    "scrolled": true
   },
   "outputs": [
    {
     "name": "stdout",
     "output_type": "stream",
     "text": [
      "This video is 0 deciseconds, which is 0.0 minutes, which is 0 frames\n"
     ]
    }
   ],
   "source": [
    "duration_in_deciseconds = len(Random_List)\n",
    "duration_in_minutes = duration_in_deciseconds / 600\n",
    "duration_in_frames = duration_in_deciseconds * 3\n",
    "\n",
    "print('This video is', duration_in_deciseconds, 'deciseconds, which is', duration_in_minutes, 'minutes, which is', duration_in_frames, 'frames')\n",
    "#print(Random_List)"
   ]
  },
  {
   "cell_type": "markdown",
   "metadata": {},
   "source": [
    "## Creating Array"
   ]
  },
  {
   "cell_type": "markdown",
   "metadata": {},
   "source": [
    "## Time Integration (deciseconds) "
   ]
  },
  {
   "cell_type": "code",
   "execution_count": 1547,
   "metadata": {},
   "outputs": [],
   "source": [
    "BehaviorTime = []\n",
    "\n",
    "for index, value in enumerate(Random_List):\n",
    "    BehaviorTime.append((value, index ))"
   ]
  },
  {
   "cell_type": "code",
   "execution_count": 1548,
   "metadata": {
    "scrolled": true
   },
   "outputs": [],
   "source": [
    "#print(BehaviorTime)"
   ]
  },
  {
   "cell_type": "markdown",
   "metadata": {},
   "source": [
    "### Ensures you only analyze expected length of  Session "
   ]
  },
  {
   "cell_type": "code",
   "execution_count": 1549,
   "metadata": {},
   "outputs": [
    {
     "ename": "KeyboardInterrupt",
     "evalue": "Interrupted by user",
     "output_type": "error",
     "traceback": [
      "\u001b[1;31m---------------------------------------------------------------------------\u001b[0m",
      "\u001b[1;31mKeyboardInterrupt\u001b[0m                         Traceback (most recent call last)",
      "Input \u001b[1;32mIn [1549]\u001b[0m, in \u001b[0;36m<cell line: 1>\u001b[1;34m()\u001b[0m\n\u001b[1;32m----> 1\u001b[0m length_of_session \u001b[38;5;241m=\u001b[39m (\u001b[38;5;28mint\u001b[39m(\u001b[38;5;28;43minput\u001b[39;49m\u001b[43m(\u001b[49m\u001b[38;5;124;43m\"\u001b[39;49m\u001b[38;5;124;43mHow long was the session in minutes?\u001b[39;49m\u001b[38;5;124;43m\"\u001b[39;49m\u001b[43m)\u001b[49m)) \u001b[38;5;241m*\u001b[39m \u001b[38;5;241m600\u001b[39m\n\u001b[0;32m      2\u001b[0m \u001b[38;5;28mprint\u001b[39m(length_of_session)\n\u001b[0;32m      3\u001b[0m BehaviorTime \u001b[38;5;241m=\u001b[39m BehaviorTime[:(length_of_session)]\n",
      "File \u001b[1;32m~\\anaconda3\\lib\\site-packages\\ipykernel\\kernelbase.py:1075\u001b[0m, in \u001b[0;36mKernel.raw_input\u001b[1;34m(self, prompt)\u001b[0m\n\u001b[0;32m   1071\u001b[0m \u001b[38;5;28;01mif\u001b[39;00m \u001b[38;5;129;01mnot\u001b[39;00m \u001b[38;5;28mself\u001b[39m\u001b[38;5;241m.\u001b[39m_allow_stdin:\n\u001b[0;32m   1072\u001b[0m     \u001b[38;5;28;01mraise\u001b[39;00m StdinNotImplementedError(\n\u001b[0;32m   1073\u001b[0m         \u001b[38;5;124m\"\u001b[39m\u001b[38;5;124mraw_input was called, but this frontend does not support input requests.\u001b[39m\u001b[38;5;124m\"\u001b[39m\n\u001b[0;32m   1074\u001b[0m     )\n\u001b[1;32m-> 1075\u001b[0m \u001b[38;5;28;01mreturn\u001b[39;00m \u001b[38;5;28;43mself\u001b[39;49m\u001b[38;5;241;43m.\u001b[39;49m\u001b[43m_input_request\u001b[49m\u001b[43m(\u001b[49m\n\u001b[0;32m   1076\u001b[0m \u001b[43m    \u001b[49m\u001b[38;5;28;43mstr\u001b[39;49m\u001b[43m(\u001b[49m\u001b[43mprompt\u001b[49m\u001b[43m)\u001b[49m\u001b[43m,\u001b[49m\n\u001b[0;32m   1077\u001b[0m \u001b[43m    \u001b[49m\u001b[38;5;28;43mself\u001b[39;49m\u001b[38;5;241;43m.\u001b[39;49m\u001b[43m_parent_ident\u001b[49m\u001b[43m[\u001b[49m\u001b[38;5;124;43m\"\u001b[39;49m\u001b[38;5;124;43mshell\u001b[39;49m\u001b[38;5;124;43m\"\u001b[39;49m\u001b[43m]\u001b[49m\u001b[43m,\u001b[49m\n\u001b[0;32m   1078\u001b[0m \u001b[43m    \u001b[49m\u001b[38;5;28;43mself\u001b[39;49m\u001b[38;5;241;43m.\u001b[39;49m\u001b[43mget_parent\u001b[49m\u001b[43m(\u001b[49m\u001b[38;5;124;43m\"\u001b[39;49m\u001b[38;5;124;43mshell\u001b[39;49m\u001b[38;5;124;43m\"\u001b[39;49m\u001b[43m)\u001b[49m\u001b[43m,\u001b[49m\n\u001b[0;32m   1079\u001b[0m \u001b[43m    \u001b[49m\u001b[43mpassword\u001b[49m\u001b[38;5;241;43m=\u001b[39;49m\u001b[38;5;28;43;01mFalse\u001b[39;49;00m\u001b[43m,\u001b[49m\n\u001b[0;32m   1080\u001b[0m \u001b[43m\u001b[49m\u001b[43m)\u001b[49m\n",
      "File \u001b[1;32m~\\anaconda3\\lib\\site-packages\\ipykernel\\kernelbase.py:1120\u001b[0m, in \u001b[0;36mKernel._input_request\u001b[1;34m(self, prompt, ident, parent, password)\u001b[0m\n\u001b[0;32m   1117\u001b[0m             \u001b[38;5;28;01mbreak\u001b[39;00m\n\u001b[0;32m   1118\u001b[0m \u001b[38;5;28;01mexcept\u001b[39;00m \u001b[38;5;167;01mKeyboardInterrupt\u001b[39;00m:\n\u001b[0;32m   1119\u001b[0m     \u001b[38;5;66;03m# re-raise KeyboardInterrupt, to truncate traceback\u001b[39;00m\n\u001b[1;32m-> 1120\u001b[0m     \u001b[38;5;28;01mraise\u001b[39;00m \u001b[38;5;167;01mKeyboardInterrupt\u001b[39;00m(\u001b[38;5;124m\"\u001b[39m\u001b[38;5;124mInterrupted by user\u001b[39m\u001b[38;5;124m\"\u001b[39m) \u001b[38;5;28;01mfrom\u001b[39;00m \u001b[38;5;28mNone\u001b[39m\n\u001b[0;32m   1121\u001b[0m \u001b[38;5;28;01mexcept\u001b[39;00m \u001b[38;5;167;01mException\u001b[39;00m:\n\u001b[0;32m   1122\u001b[0m     \u001b[38;5;28mself\u001b[39m\u001b[38;5;241m.\u001b[39mlog\u001b[38;5;241m.\u001b[39mwarning(\u001b[38;5;124m\"\u001b[39m\u001b[38;5;124mInvalid Message:\u001b[39m\u001b[38;5;124m\"\u001b[39m, exc_info\u001b[38;5;241m=\u001b[39m\u001b[38;5;28;01mTrue\u001b[39;00m)\n",
      "\u001b[1;31mKeyboardInterrupt\u001b[0m: Interrupted by user"
     ]
    }
   ],
   "source": [
    "\n",
    "length_of_session = (int(input(\"How long was the session in minutes?\"))) * 600\n",
    "print(length_of_session)\n",
    "BehaviorTime = BehaviorTime[:(length_of_session)]"
   ]
  },
  {
   "cell_type": "markdown",
   "metadata": {},
   "source": [
    "#### Removes all info after selected end time "
   ]
  },
  {
   "cell_type": "code",
   "execution_count": null,
   "metadata": {},
   "outputs": [],
   "source": [
    "print('This video is ', len(BehaviorTime), ' deciseconds, which is', (len(BehaviorTime)/600), 'minutes' )\n",
    "print()\n",
    "print(BehaviorTime)"
   ]
  },
  {
   "cell_type": "markdown",
   "metadata": {},
   "source": [
    "## Adds Stim Count and Frame Rate to Array "
   ]
  },
  {
   "cell_type": "code",
   "execution_count": null,
   "metadata": {},
   "outputs": [],
   "source": [
    "for z in BehaviorTime:\n",
    "    behavior = z[0]\n",
    "    time= z[1]\n",
    "behavior_type_and_duration = []\n",
    "current_behavior = BehaviorTime[0][0]\n",
    "current_time = BehaviorTime[0][1]  # Initialize with the first time\n",
    "count = 0\n",
    "frame_rate = 0\n",
    "start_time = 0\n",
    "\n",
    "for behavior, time in BehaviorTime:\n",
    "    if behavior == current_behavior:\n",
    "        count += 1\n",
    "        if count == 1:\n",
    "            start_time= current_time\n",
    "            current_time = time + 1 # Update the current time for the ongoing behavior\n",
    "            frame_rate= count * 3\n",
    "        else:\n",
    "            current_time = time + 1 # Update the current time for the ongoing behavior\n",
    "            frame_rate= count * 3\n",
    "    else:\n",
    "        behavior_type_and_duration.append((current_behavior, count,frame_rate, start_time, current_time))\n",
    "        current_behavior = behavior\n",
    "        current_time = time + 0.01  #Update the current time for new behavior\n",
    "        start_time= current_time\n",
    "        count = 1\n",
    "        frame_rate= count * 3\n",
    "        \n",
    "# Append the final (current_behavior, current_time, count) tuple outside the loop\n",
    "behavior_type_and_duration.append((current_behavior, count, frame_rate, start_time, current_time))\n",
    "\n",
    "# Make a copy of the original behavior_type_and_duration list\n",
    "behaviortdt= list(behavior_type_and_duration)"
   ]
  },
  {
   "cell_type": "code",
   "execution_count": null,
   "metadata": {
    "scrolled": true
   },
   "outputs": [],
   "source": [
    "#print(behaviortdt)\n",
    "#print(len(behaviortdt))"
   ]
  },
  {
   "cell_type": "raw",
   "metadata": {},
   "source": [
    "This now have Behavior, Stim Count, frame rate, start Time, and end time in one array grouped into tuples "
   ]
  },
  {
   "cell_type": "markdown",
   "metadata": {},
   "source": [
    "## Add Bout Count to the Array "
   ]
  },
  {
   "cell_type": "code",
   "execution_count": null,
   "metadata": {
    "scrolled": true
   },
   "outputs": [],
   "source": [
    "enumerated_behaviortdt = []\n",
    "behavior_index = {}  # Dictionary to store behavior and its corresponding index\n",
    "\n",
    "for behavior, stim_count, frame_rate, start_time, end_time in behaviortdt:\n",
    "    if behavior not in behavior_index:\n",
    "        behavior_index[behavior] = 1\n",
    "    else:\n",
    "        behavior_index[behavior] += 1\n",
    "    \n",
    "    bout = behavior_index[behavior]\n",
    "    enumerated_behaviortdt.append((behavior, stim_count,frame_rate, bout, start_time,end_time))\n",
    "\n",
    "print(enumerated_behaviortdt)"
   ]
  },
  {
   "cell_type": "markdown",
   "metadata": {},
   "source": [
    "# Duration Calcultaion"
   ]
  },
  {
   "cell_type": "code",
   "execution_count": null,
   "metadata": {},
   "outputs": [],
   "source": [
    "# Calculate durations and update enumerated_behaviortdt\n",
    "BCBDT = []\n",
    "\n",
    "for behavior, stim_count,frame_rate, bout, start_time, end_time in enumerated_behaviortdt:\n",
    "    duration = (frame_rate * (1/30))*10\n",
    "    BCBDT.append((behavior, stim_count, frame_rate, bout, duration,start_time, end_time))\n",
    "\n",
    "print(BCBDT)\n",
    "BCBDST=BCBDT"
   ]
  },
  {
   "cell_type": "code",
   "execution_count": null,
   "metadata": {},
   "outputs": [],
   "source": [
    "behavior_labels = {\n",
    "    0.0: \"Left Turns\",\n",
    "    1.0: \"Right Turns\",\n",
    "    2.0: \"Locomotion\",\n",
    "    3.0: \"Face Groom\",\n",
    "    4.0: \"All Other Groom\",\n",
    "    5.0: \"All Other\",\n",
    "}\n",
    "\n",
    "bdbt_dict = {}  # Dictionary to store lists of behaviors\n",
    "\n",
    "for behavior, stim_count, frame_rate, bout, duration, start_time,end_time in BCBDST:\n",
    "    behavior_label = behavior_labels.get(behavior, \"Unknown Behavior\")\n",
    "    if behavior_label not in bdbt_dict:\n",
    "        bdbt_dict[behavior_label] = []\n",
    "    bdbt_dict[behavior_label].append((behavior, stim_count, frame_rate, bout, duration, start_time,end_time))\n"
   ]
  },
  {
   "cell_type": "code",
   "execution_count": null,
   "metadata": {
    "scrolled": true
   },
   "outputs": [],
   "source": [
    "#print(bdbt_dict)"
   ]
  },
  {
   "cell_type": "code",
   "execution_count": null,
   "metadata": {},
   "outputs": [],
   "source": [
    "keys_list = bdbt_dict.keys()\n",
    "#print(keys_list)"
   ]
  },
  {
   "cell_type": "raw",
   "metadata": {},
   "source": [
    "bdbt_dict is a dictionary that contains the enumerated behaviortdt . It contains keys: \n",
    "    'All Other', 'Left Turns', 'Locomotion', 'Face Groom', 'All Other Groom', 'Right Turns'\n",
    "The tuples are structed as behavior, duration/stim count, bout, time(deciseconds) "
   ]
  },
  {
   "cell_type": "markdown",
   "metadata": {},
   "source": [
    "## Stim Count and Average Duration "
   ]
  },
  {
   "cell_type": "code",
   "execution_count": null,
   "metadata": {},
   "outputs": [],
   "source": [
    "from tabulate import tabulate\n",
    "stimcount_by_key = {}\n",
    "\n",
    "def round_float(value):\n",
    "    return round(value, 3)\n",
    "\n",
    "for key, tuples_list in bdbt_dict.items():\n",
    "    stimcount = [tuple_item[1] for tuple_item in tuples_list]\n",
    "    sum_of_stimcount = sum(stimcount)\n",
    "    stimcount_by_key[key] = sum_of_stimcount\n",
    "\n",
    "table_data = [(key, round_float(sum_value)) for key, sum_value in stimcount_by_key.items()]\n",
    "headers = [\"Key\", \"Total Number of Stimulations\"]\n",
    "\n",
    "table = tabulate(table_data, headers, tablefmt=\"pretty\")\n",
    "print(table)\n",
    "\n",
    "average_duration_by_key = {}\n",
    "\n",
    "for key, tuples_list in bdbt_dict.items():\n",
    "    durations = [tuple_item[4] for tuple_item in tuples_list]\n",
    "    average_duration = ((sum(durations) / len(durations))/10)\n",
    "    average_duration_by_key[key] = round_float(average_duration)\n",
    "\n",
    "table_data = [(key, avg_duration) for key, avg_duration in average_duration_by_key.items()]\n",
    "headers = [\"Key\", \"Average Duration(seconds)\"]\n",
    "\n",
    "table = tabulate(table_data, headers, tablefmt=\"pretty\")\n",
    "print(table)\n",
    "\n",
    "stim_block_stim_count_by_key = {}\n",
    "\n",
    "for key, tuples_list in bdbt_dict.items():\n",
    "    sum_of_stimcount = 0\n",
    "    for tuple_item in tuples_list:\n",
    "        if 3000 <= tuple_item[5] and tuple_item[6] <= 21000:  # Check the fourth element's value\n",
    "            sum_of_stimcount += tuple_item[1]\n",
    "    stim_block_stim_count_by_key[key] = sum_of_stimcount\n",
    "\n",
    "table_data = [(key, round_float(sum_value)) for key, sum_value in stim_block_stim_count_by_key.items()]\n",
    "headers = [\"Key\", \"Total Stimulations during 30-Min Stim Block\"]\n",
    "#for (key, value) in stim_block_stim_count_by_key:\n",
    "    #print(key)\n",
    "    #print(value)\n",
    "table = tabulate(table_data, headers, tablefmt=\"pretty\")\n",
    "print(table)\n",
    "\n",
    "average_duration_30min_by_key = {}\n",
    "\n",
    "for key, tuples_list in bdbt_dict.items():\n",
    "    sum_of_duration = 0\n",
    "    for tuple_item in tuples_list:\n",
    "        if 3000 <= tuple_item[5] and tuple_item[6] <= 21000:  # Check the fourth element's value\n",
    "            sum_of_duration += tuple_item[3]\n",
    "    average_duration = ((sum_of_duration / (len(tuples_list)) )/ 10)  # Use len(tuples_list) instead of len(sum_of_stimcount)\n",
    "    average_duration_30min_by_key[key] = round_float(average_duration)\n",
    "\n",
    "table_data = [(key, avg_duration) for key, avg_duration in average_duration_30min_by_key.items()]\n",
    "headers = [\"Key\", \"Average Duration During 30 Min Stim Block(seconds)\"]\n",
    "    \n",
    "table = tabulate(table_data, headers, tablefmt=\"pretty\")\n",
    "print(table)\n",
    "\n"
   ]
  },
  {
   "cell_type": "markdown",
   "metadata": {},
   "source": [
    "##  Number of Bouts"
   ]
  },
  {
   "cell_type": "code",
   "execution_count": null,
   "metadata": {},
   "outputs": [],
   "source": [
    "bout_by_key = {}\n",
    "\n",
    "for key, tuples_list in bdbt_dict.items():\n",
    "    bouts = [tuple_item[3] for tuple_item in tuples_list]\n",
    "    sum_of_bouts = len(bouts)\n",
    "    bout_by_key[key] = sum_of_bouts\n",
    "\n",
    "table_data = [(key, sum_value) for key, sum_value in bout_by_key.items()]\n",
    "headers = [\"Key\", \"Total Bouts\"]\n",
    "\n",
    "table = tabulate(table_data, headers, tablefmt=\"pretty\")\n",
    "print(table)\n",
    "\n",
    "stim_block_bout_count_by_key = {}\n",
    "\n",
    "for key, tuples_list in bdbt_dict.items():\n",
    "    bout_count = sum(1 for tuple_item in tuples_list if 3000 <= tuple_item[5] and tuple_item[6] <= 21000)\n",
    "    stim_block_bout_count_by_key[key] = bout_count\n",
    "\n",
    "table_data = [(key, count) for key, count in stim_block_bout_count_by_key.items()]\n",
    "headers = [\"Key\", \"30 minute Stim Block Bout Count\"]\n",
    "\n",
    "table = tabulate(table_data, headers, tablefmt=\"pretty\")\n",
    "print(table)"
   ]
  },
  {
   "cell_type": "markdown",
   "metadata": {},
   "source": [
    "## Behavior of Interest"
   ]
  },
  {
   "cell_type": "code",
   "execution_count": null,
   "metadata": {},
   "outputs": [],
   "source": [
    "behavior_mapping = {\n",
    "    0: \"Left Turn \",\n",
    "    1: \"Right Turn \",\n",
    "    2: \"Locomotion \",\n",
    "    3: \"Face Groom \",\n",
    "    4: \"All Other Groom \",\n",
    "    5: \"All Other \"\n",
    "}\n",
    "\n",
    "print(\"Please select the behavior of interest:\")\n",
    "for key, value in behavior_mapping.items():\n",
    "    print(f\"{key}: {value}\")\n",
    "\n",
    "behavior_of_interest_1 = int(input(\"Enter the number corresponding to the behavior of interest: \"))\n",
    "\n",
    "behavior_name_2 = behavior_mapping.get(behavior_of_interest_1, \"Unknown\")\n",
    "\n",
    "print(\"Selected behavior of interest:\", behavior_name_2)\n"
   ]
  },
  {
   "cell_type": "markdown",
   "metadata": {},
   "source": [
    "## Type of Fiber Connection"
   ]
  },
  {
   "cell_type": "code",
   "execution_count": null,
   "metadata": {},
   "outputs": [],
   "source": []
  },
  {
   "cell_type": "code",
   "execution_count": null,
   "metadata": {
    "scrolled": true
   },
   "outputs": [],
   "source": [
    "selection = input(\"Please enter the type of fiber connection for the trial (B for Bilateral, I for Ipsilateral, C for Contralateral): \")\n",
    "\n",
    "if selection == 'b':\n",
    "    type_of_fiber_connection = 'Bilateral'\n",
    "elif selection == 'i':\n",
    "    type_of_fiber_connection = 'Ipsilateral'\n",
    "elif selection == 'c':\n",
    "    type_of_fiber_connection = 'Contralateral'\n",
    "else:\n",
    "    type_of_fiber_connection = 'Unknown'\n",
    "\n",
    "print(\"Selected type of fiber connection:\", type_of_fiber_connection)\n"
   ]
  },
  {
   "cell_type": "markdown",
   "metadata": {},
   "source": [
    "## Session Type "
   ]
  },
  {
   "cell_type": "code",
   "execution_count": null,
   "metadata": {},
   "outputs": [],
   "source": [
    "trial_type = \"\"\n",
    "\n",
    "sham_session = input(\"Is it a Sham session? (y/n): \")\n",
    "\n",
    "if sham_session.lower() == \"y\":\n",
    "    trial_type = \"Sham Session\""
   ]
  },
  {
   "cell_type": "markdown",
   "metadata": {},
   "source": [
    "## Creating CSV"
   ]
  },
  {
   "cell_type": "code",
   "execution_count": null,
   "metadata": {},
   "outputs": [],
   "source": [
    "rounded_dict = {}\n",
    "\n",
    "for key, value_list in bdbt_dict.items():\n",
    "    rounded_values = [\n",
    "        (\n",
    "            round(v[0]),     # Rounding and converting to integer\n",
    "            v[1], v[2], v[3], # Keeping other integer values as they are\n",
    "            round(v[4]),     # Rounding and converting to integer\n",
    "            round(v[5], 2),  # Rounding the sixth float value\n",
    "            round(v[6], 2)   # Rounding the seventh float value\n",
    "        )\n",
    "        for v in value_list\n",
    "    ]\n",
    "    rounded_dict[key] = rounded_values\n",
    "\n",
    "#print(rounded_dict)\n",
    "\n",
    "bdbt_dict=rounded_dict\n",
    "#print(bdbt_dict)"
   ]
  },
  {
   "cell_type": "code",
   "execution_count": null,
   "metadata": {},
   "outputs": [],
   "source": [
    "from json import dumps\n",
    "string_bdbt_dict=dumps(bdbt_dict)"
   ]
  },
  {
   "cell_type": "raw",
   "metadata": {},
   "source": [
    "print(string_bdbt_dict)\n",
    "print(len(string_bdbt_dict))"
   ]
  },
  {
   "cell_type": "code",
   "execution_count": null,
   "metadata": {},
   "outputs": [],
   "source": [
    "# Find the start index of the first '{' character\n",
    "start_index = string_bdbt_dict.index('{')\n",
    "\n",
    "# Find the end index of the last '}' character\n",
    "end_index = string_bdbt_dict.rindex('}') + 1\n",
    "\n",
    "# Extract the dictionary portion of the string\n",
    "dict_str = string_bdbt_dict[start_index:end_index]\n",
    "\n",
    "# Find the start indices of key-value pairs using '\":'\n",
    "key_value_end = []\n",
    "for pos, char in enumerate(dict_str):\n",
    "    if dict_str[pos:pos+3] == '\": ':\n",
    "        key_value_end.append(pos)\n",
    "        \n",
    "#print(key_value_end)      \n",
    "\n",
    "# Initialize lists to store extracted keys and values\n",
    "keys = []\n",
    "values = []\n",
    "value_ends=[]\n",
    "\n",
    "# Iterate through the start indices of key-value pairs\n",
    "for key_value_start in key_value_end:\n",
    "    # Find the start index of the value by searching for '[[' after the key-value pair\n",
    "    value_start = dict_str.find('[[', key_value_start) + 1\n",
    "    \n",
    "    # Find the end index of the value by searching for ']]' after the value_start\n",
    "    value_end = dict_str.find(']]', value_start)+ 2\n",
    "    value_ends.append(value_end)\n",
    "\n",
    "    # Extract the value using the calculated start and end indices\n",
    "    value = dict_str[value_start:value_end]\n",
    "    values.append(value)\n",
    "    # Extract the key using the portion of the string before the '\":'\n",
    "    if key_value_start == key_value_end[0]:\n",
    "        key = dict_str[2:key_value_start].strip()\n",
    "        keys.append(key)\n",
    "    else:\n",
    "        key = dict_str[value_ends[-2]+ 3:key_value_start].strip()\n",
    "        keys.append(key)\n",
    "        \n",
    "#print(values)\n",
    "#print(value_ends)\n",
    "modified_values = {}  # Initialize an empty dictionary to store modified values\n",
    "\n",
    "# Iterate through the keys and values\n",
    "for key, value in zip(keys, values):\n",
    "    modified_value = value.replace(\" \", \"\").replace(\"],\", \"]\").replace(\"]]\",\"]\")\n",
    "    modified_values[key] = modified_value"
   ]
  },
  {
   "cell_type": "code",
   "execution_count": null,
   "metadata": {
    "scrolled": false
   },
   "outputs": [],
   "source": [
    "import os\n",
    "import csv\n",
    "\n",
    "keys_to_write = [\"Right Turns\", \"Locomotion\", \"Face Groom\"]\n",
    "\n",
    "# Create a dictionary to hold cleaned and possibly split values\n",
    "cleaned_values = {}\n",
    "\n",
    "# Iterate through the keys and values, cleaning and splitting if needed\n",
    "for key in keys_to_write:\n",
    "    value = modified_values[key].strip()\n",
    "    if len(value) > 32500:\n",
    "        split_index = value.rfind(\"]\", 0, 32500)  # Find the last \"]\" before 32500 characters\n",
    "        if split_index != -1:  # If \"]\" is found before the limit\n",
    "            cleaned_values[key] = value[:split_index + 1]  # Include the last \"]\"\n",
    "            cleaned_values[f\"{key} Continue\"] = value[split_index + 1:]  # Continue from after the \"]\"\n",
    "        else:\n",
    "            # If \"]\" is not found, just store the value as it is\n",
    "            cleaned_values[key] = value\n",
    "    else:\n",
    "        cleaned_values[key] = value\n",
    "\n",
    "# Format specific values in cleaned_values dictionary\n",
    "formatted_values = {'\"{}\"'.format(key): value for key, value in cleaned_values.items()}\n",
    "\n",
    "    \n",
    "# Specify the output path for the CSV file\n",
    "output_path = r\"Z:\\KayCei\\Database 1.csv\"\n",
    "\n",
    "data_dict = {}\n",
    "session_numbers = {}\n",
    "\n",
    "# Iterate through each file in infiles\n",
    "for file_path in infiles: # if taking from Z Drive \n",
    "    folders = (os.path.dirname(file_path)).split('/')\n",
    "    print(folders)\n",
    "    # Extract the mouse name from the file path\n",
    "    mouse_name = folders[2].split('-')[0]\n",
    "    # Extract the genotype from the file path\n",
    "    genotype = folders[2].split('-')[1]\n",
    "    # Extract the date from the file path\n",
    "    date = folders[-1].split('-')[0]\n",
    "#for file_path in infiles:   #if taking files from D drive\n",
    "    #folders = (os.path.dirname(file_path)).split('/')\n",
    "    #print(folders)\n",
    "    # Extract the mouse name from the file path\n",
    "    #mouse_name = folders[6].split('-')[0]\n",
    "    # Extract the genotype from the file path\n",
    "    #genotype = folders[6].split('-')[1]\n",
    "    # Extract the date from the file path\n",
    "    #date = folders[-1].split('-')[0]    \n",
    "# Determine the session number for this mouse and stim behavior\n",
    "    key = (mouse_name, behavior_name_2, type_of_fiber_connection)\n",
    "    if key not in session_numbers:\n",
    "        session_numbers[key] = 1\n",
    "    else:\n",
    "        session_numbers[key] += 1\n",
    "    session_number = session_numbers[key]\n",
    "\n",
    "    # Retrieve the relevant statistics from the dictionaries\n",
    "    right_turn_bdbt=cleaned_values.get(\"Right Turns\",0)\n",
    "    right_turn_bout_count = bout_by_key.get(\"Right Turns\", 0)\n",
    "    right_turn_stim_count = stimcount_by_key.get(\"Right Turns\", 0)\n",
    "    average_duration_right_turn = average_duration_by_key.get(\"Right Turns\", 0)\n",
    "    right_turn_bout_30min=stim_block_bout_count_by_key.get(\"Right Turns\", 0)\n",
    "    right_turn_stim_30min = stim_block_stim_count_by_key.get(\"Right Turns\", 0)\n",
    "    right_turn_duration_30min=average_duration_30min_by_key.get(\"Right Turns\", 0)\n",
    "    \n",
    "    loc_bdbt = cleaned_values.get(\"Locomotion\",0)\n",
    "    loc_bout_count = bout_by_key.get(\"Locomotion\", 0)\n",
    "    loc_stim_count = stimcount_by_key.get(\"Locomotion\",0)\n",
    "    average_duration_loc = average_duration_by_key.get(\"Locomotion\",0)\n",
    "    loc_stim_30min = stim_block_stim_count_by_key.get(\"Locomotion\",0)\n",
    "    loc_bout_30min=stim_block_bout_count_by_key.get(\"Locomotion\",0)\n",
    "    loc_duration_30min=average_duration_30min_by_key.get(\"Locomotion\",0)\n",
    "    \n",
    "    face_groom_bdbt = cleaned_values.get(\"Face Groom\",0)\n",
    "    face_groom_bout_count = bout_by_key.get(\"Face Groom\", 0)\n",
    "    face_groom_stim_count = stimcount_by_key.get(\"Face Groom\", 0)\n",
    "    average_duration_face_groom =average_duration_by_key.get(\"Face Groom\", 0)\n",
    "    face_groom_bout_30min=stim_block_bout_count_by_key.get(\"Face Groom\", 0)\n",
    "    face_groom_stim_30min = stim_block_stim_count_by_key.get(\"Face Groom\", 0)\n",
    "    face_groom_duration_30min=average_duration_30min_by_key.get(\"Face Groom\", 0)\n",
    "    \n",
    "    # Apply cleaning and splitting logic to the arrays\n",
    "    cleaned_right_turn_bdbt = right_turn_bdbt.strip()\n",
    "    cleaned_loc_bdbt = loc_bdbt.strip()\n",
    "    cleaned_face_groom_bdbt = face_groom_bdbt.strip()\n",
    "    rt_array_cont=cleaned_values.get(\"Right Turns Continue\",0)\n",
    "    loc_cont=cleaned_values.get(\"Locomotion Continue\",0)\n",
    "    fg_cont=cleaned_values.get(\"Face Groom Continue\",0)\n",
    "    \n",
    "    mouse_data = {\n",
    "        \"Mouse\": mouse_name,\n",
    "        \"Genotype\": genotype,\n",
    "        \"Date\": date,\n",
    "        \"Selected Behavior\": behavior_name_2,\n",
    "        \"Sham\": sham_session,  \n",
    "        \"Session Number\": session_number,\n",
    "        \"Fiber Connection\": type_of_fiber_connection,\n",
    "        \"Right Turn Array\": cleaned_right_turn_bdbt,\n",
    "        \"Right Turn Array Continue\":rt_array_cont,\n",
    "        \"Total Right Turn Bout Count\": right_turn_bout_count,\n",
    "        \"Total Right Turn Stim Count\": right_turn_stim_count,\n",
    "        \"Average Duration of Right Turn\": average_duration_right_turn,\n",
    "        \"Total Right Turn Stim in Stim Block\": right_turn_stim_30min,\n",
    "        \"Total Right Turn Bouts in Stim Block\":right_turn_bout_30min,\n",
    "        \"Right Turn Average Duration in Stim Block\":right_turn_duration_30min,\n",
    "        \"Locomotion Array\": cleaned_loc_bdbt,\n",
    "        \"Locomotion Array Continue\": loc_cont,\n",
    "        \"Total Locomotion Bout Count\": loc_bout_count,\n",
    "        \"Total Locomotion Stim Count\": loc_stim_count,\n",
    "        \"Average Duration of Locomotion\": average_duration_loc,\n",
    "        \"Total Locomotion Stim in Stim Block\": loc_stim_30min,\n",
    "        \"Total Locomotion Bouts in Stim Block\":loc_bout_30min,\n",
    "        \"Locomotion Average Duration in Stim Block\":loc_duration_30min,\n",
    "        \"Face Groom Array\": cleaned_face_groom_bdbt,\n",
    "        \"Face Groom Array Continue\": fg_cont,\n",
    "        \"Total Face Groom Bout Count\": face_groom_bout_count,\n",
    "        \"Total Face Groom Stim Count\": face_groom_stim_count,\n",
    "        \"Average Duration of Face Groom\": average_duration_face_groom,\n",
    "        \"Total Face Groom Stim in Stim Block\": face_groom_stim_30min,\n",
    "        \"Total Face Groom Bouts in Stim Block\":face_groom_bout_30min,\n",
    "        \"Face Groom Average Duration in Stim Block\":face_groom_duration_30min,\n",
    "    }\n",
    "\n",
    "    data_dict[mouse_name] = mouse_data\n",
    "\n",
    "# Define the headers for the CSV file\n",
    "headers = [\"Mouse\", \"Genotype\", \"Date\", \"Selected Behavior\", \"Sham\", \"Session Number\", \"Fiber Connection\",\n",
    "           \"Right Turn Array\",\"Right Turn Array Continue\",\"Total Right Turn Bout Count\", \"Total Right Turn Stim Count\", \"Average Duration of Right Turn\",\n",
    "           \"Total Right Turn Stim in Stim Block\",\"Total Right Turn Bouts in Stim Block\",\"Right Turn Average Duration in Stim Block\",\n",
    "           \"Locomotion Array\",\"Locomotion Array Continue\",\"Total Locomotion Bout Count\",\"Total Locomotion Stim Count\", \"Average Duration of Locomotion\",\n",
    "           \"Total Locomotion Stim in Stim Block\",\"Total Locomotion Bouts in Stim Block\",\"Locomotion Average Duration in Stim Block\",\n",
    "           \"Face Groom Array\",\"Face Groom Array Continue\",\"Total Face Groom Bout Count\",\"Total Face Groom Stim Count\",\"Average Duration of Face Groom\",\n",
    "           \"Total Face Groom Stim in Stim Block\",\"Total Face Groom Bouts in Stim Block\",\"Face Groom Average Duration in Stim Block\",\n",
    "          ]\n",
    "\n",
    "if os.path.exists(output_path):\n",
    "    # Keep track of existing entries in the CSV to avoid duplicates\n",
    "    existing_entries = set()\n",
    "    entry_key2_session_numbers = {}\n",
    "    sorted_entries = []\n",
    "\n",
    "    # Read existing data from the CSV and add it to the set\n",
    "    with open(output_path, 'r') as csvfile:\n",
    "        reader = csv.DictReader(csvfile, delimiter=';')\n",
    "        for row in reader:\n",
    "            entry_key = (row[\"Mouse\"], row[\"Selected Behavior\"], row[\"Fiber Connection\"], row[\"Date\"])\n",
    "            entry_key2 = (row[\"Mouse\"], row[\"Selected Behavior\"], row[\"Fiber Connection\"], row[\"Sham\"])\n",
    "            existing_entries.add(entry_key)\n",
    "            entry_key2_session_numbers[entry_key2] = int(row[\"Session Number\"])\n",
    "            sorted_entries.append(row)\n",
    "        \n",
    "else:\n",
    "    existing_entries = set()\n",
    "    entry_key2_session_numbers = {}\n",
    "    \n",
    "# Ensure the output directory exists before writing the CSV file\n",
    "output_dir = os.path.dirname(output_path)\n",
    "os.makedirs(output_dir, exist_ok=True)\n",
    "\n",
    "# Write the data from data_dict to the CSV file (in append mode 'a')\n",
    "with open(output_path, 'a', newline='') as csvfile:\n",
    "    writer = csv.DictWriter(csvfile, fieldnames=headers, delimiter=';')\n",
    "\n",
    "    # Check if the file is empty, if so, write the header\n",
    "    if csvfile.tell() == 0:\n",
    "        writer.writeheader()\n",
    "\n",
    "for mouse_data in data_dict.values():\n",
    "    entry_key = (mouse_data[\"Mouse\"], mouse_data[\"Selected Behavior\"], mouse_data[\"Fiber Connection\"], mouse_data[\"Date\"])\n",
    "    entry_key2 = (mouse_data[\"Mouse\"], mouse_data[\"Selected Behavior\"], mouse_data[\"Fiber Connection\"], mouse_data[\"Sham\"])\n",
    "\n",
    "    # Check if the entry already exists in the CSV\n",
    "    if entry_key not in existing_entries:\n",
    "        session_number = entry_key2_session_numbers.get(entry_key2, 0) + 1\n",
    "        existing_entries.add(entry_key)\n",
    "        entry_key2_session_numbers[entry_key2] = session_number\n",
    "\n",
    "        for formatted_key in [\"Right Turn Array\", \"Right Turn Array Continue\", \"Locomotion Array\", \"Locomotion Array Continue\"]:\n",
    "            if formatted_key in formatted_values:\n",
    "                mouse_data[formatted_key] = formatted_values[formatted_key]\n",
    "\n",
    "        # Write the complete mouse data to the CSV\n",
    "        sorted_entries.append(mouse_data)  # Add the new entry\n",
    "\n",
    "        print(\"Entry added Successfully:\", entry_key)\n",
    "    else:\n",
    "        print(\"Entry already exists in the CSV:\", entry_key)\n",
    "\n",
    "# Sort the entries based on date within each group of entries that share the same entry_key2\n",
    "sorted_entries.sort(key=lambda x: (x[\"Mouse\"], x[\"Selected Behavior\"], x[\"Fiber Connection\"], x[\"Sham\"], x[\"Date\"]))\n",
    "\n",
    "# Update the session numbers based on the sorted order\n",
    "entry_key2_counter = {}  # To track the session numbers within each entry_key2 group\n",
    "\n",
    "for entry in sorted_entries:\n",
    "    entry_key2 = (entry[\"Mouse\"], entry[\"Selected Behavior\"], entry[\"Fiber Connection\"], entry[\"Sham\"])\n",
    "    \n",
    "    if entry_key2 not in entry_key2_counter:\n",
    "        entry_key2_counter[entry_key2] = 1\n",
    "    else:\n",
    "        entry_key2_counter[entry_key2] += 1\n",
    "    \n",
    "    entry[\"Session Number\"] = entry_key2_counter[entry_key2]\n",
    "    \n",
    "# Sort the entries based on date within each group of entries that share the same entry_key2\n",
    "sorted_entries.sort(key=lambda x: (x[\"Mouse\"], x[\"Selected Behavior\"], x[\"Fiber Connection\"], x[\"Sham\"], x[\"Date\"]))\n",
    "\n",
    "# Rewrite the CSV file with sorted and formatted entries\n",
    "with open(output_path, 'w', newline='') as csvfile:\n",
    "    writer = csv.DictWriter(csvfile, fieldnames=headers, delimiter=';')\n",
    "    writer.writeheader()\n",
    "    writer.writerows(sorted_entries)"
   ]
  },
  {
   "cell_type": "code",
   "execution_count": null,
   "metadata": {},
   "outputs": [],
   "source": []
  },
  {
   "cell_type": "code",
   "execution_count": null,
   "metadata": {},
   "outputs": [],
   "source": []
  }
 ],
 "metadata": {
  "kernelspec": {
   "display_name": "Python 3 (ipykernel)",
   "language": "python",
   "name": "python3"
  },
  "language_info": {
   "codemirror_mode": {
    "name": "ipython",
    "version": 3
   },
   "file_extension": ".py",
   "mimetype": "text/x-python",
   "name": "python",
   "nbconvert_exporter": "python",
   "pygments_lexer": "ipython3",
   "version": "3.8.5"
  }
 },
 "nbformat": 4,
 "nbformat_minor": 4
}
