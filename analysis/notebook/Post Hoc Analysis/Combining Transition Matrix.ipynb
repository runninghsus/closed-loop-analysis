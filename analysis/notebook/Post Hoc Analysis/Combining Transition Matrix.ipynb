{
 "cells": [
  {
   "cell_type": "code",
   "execution_count": 19,
   "id": "d3a5f351",
   "metadata": {},
   "outputs": [],
   "source": [
    "import pandas as pd\n",
    "import numpy as np\n",
    "import matplotlib.pyplot as plt\n",
    "import seaborn as sns\n",
    "import tkinter as tk\n",
    "from tkinter import filedialog\n",
    "from matplotlib.colors import LinearSegmentedColormap\n",
    "import os"
   ]
  },
  {
   "cell_type": "code",
   "execution_count": 20,
   "id": "3a93416e",
   "metadata": {},
   "outputs": [],
   "source": [
    "# Create a Tkinter root window (this will not be shown)\n",
    "root = tk.Tk()\n",
    "root.withdraw()\n",
    "\n",
    "# Ask the user to select the first CSV file\n",
    "csv_file1 = filedialog.askopenfilename(title=\"Select the first CSV file\", filetypes=[(\"CSV files\", \"*.csv\")])\n",
    "\n",
    "# Ask the user to select the second CSV file\n",
    "csv_file2 = filedialog.askopenfilename(title=\"Select the second CSV file\", filetypes=[(\"CSV files\", \"*.csv\")])"
   ]
  },
  {
   "cell_type": "code",
   "execution_count": 21,
   "id": "5579447a",
   "metadata": {},
   "outputs": [
    {
     "name": "stdout",
     "output_type": "stream",
     "text": [
      "['', 'Users', 'kaycei', 'K on Server (NoMachine)', 'KayCei', 'HDC', 'AH1-KO']\n",
      "/Users/kaycei/K on Server (NoMachine)/KayCei/HDC\n",
      "HDC\n"
     ]
    }
   ],
   "source": [
    "# Get the directory path for the selected files\n",
    "path = os.path.dirname(csv_file1)\n",
    "path_1 = path.split('/')[:-1]\n",
    "directory_path='/'.join(path.split('/')[:-2])\n",
    "Animal_name= path_1[-2]\n",
    "print(path_1)\n",
    "print(directory_path)\n",
    "print(Animal_name)"
   ]
  },
  {
   "cell_type": "code",
   "execution_count": 22,
   "id": "1f91377d",
   "metadata": {},
   "outputs": [
    {
     "name": "stdout",
     "output_type": "stream",
     "text": [
      "Column names in DataFrame 1:\n",
      "Index(['Current Behavior Label', 'Previous Behavior Label', 'Count'], dtype='object')\n",
      "\n",
      "Column names in DataFrame 2:\n",
      "Index(['Current Behavior Label', 'Previous Behavior Label', 'Count'], dtype='object')\n",
      "    Current Behavior Label Previous Behavior Label  Count_1  Count_2  \\\n",
      "0        Contra-Body Groom             Contra-Itch     48.0     73.0   \n",
      "1        Contra-Body Groom           Contra-Orient     22.0     15.0   \n",
      "2        Contra-Body Groom              Head Groom      NaN      1.0   \n",
      "3        Contra-Body Groom      Investigate Type 1      NaN      1.0   \n",
      "4        Contra-Body Groom      Investigate Type 2     14.0     36.0   \n",
      "..                     ...                     ...      ...      ...   \n",
      "184                   Rear      Investigate Type 2     32.0    129.0   \n",
      "185                   Rear         Ipsi-Body Groom      1.0      NaN   \n",
      "186                   Rear        Ipsi-Itch Type 1      NaN      2.0   \n",
      "187                   Rear             Ipsi-Orient      7.0     11.0   \n",
      "188                   Rear              Locomotion     22.0     28.0   \n",
      "\n",
      "     Count Average  \n",
      "0             60.5  \n",
      "1             18.5  \n",
      "2              1.0  \n",
      "3              1.0  \n",
      "4             25.0  \n",
      "..             ...  \n",
      "184           80.5  \n",
      "185            1.0  \n",
      "186            2.0  \n",
      "187            9.0  \n",
      "188           25.0  \n",
      "\n",
      "[189 rows x 5 columns]\n"
     ]
    }
   ],
   "source": [
    "# Check if the user canceled file selection\n",
    "if csv_file1 is None or csv_file2 is None:\n",
    "    print(\"File selection canceled.\")\n",
    "else:\n",
    "    # Load the selected CSV files into pandas DataFrames\n",
    "    df1 = pd.read_csv(csv_file1, sep=',')\n",
    "    df2 = pd.read_csv(csv_file2, sep=',')\n",
    "    \n",
    "    # Display the column names for each DataFrame\n",
    "    print(\"Column names in DataFrame 1:\")\n",
    "    print(df1.columns)\n",
    "\n",
    "    print(\"\\nColumn names in DataFrame 2:\")\n",
    "    print(df2.columns)\n",
    "\n",
    "    # Merge the two DataFrames based on the behavior labels\n",
    "    merged_df = pd.merge(df1, df2, on=['Current Behavior Label', 'Previous Behavior Label'], suffixes=('_1', '_2'), how='outer')\n",
    "   \n",
    "    \n",
    "    # Calculate the difference by subtracting counts_2 from counts_1\n",
    "    # Calculate the average of counts, handling cases where one count is missing\n",
    "    merged_df['Count Average'] = (merged_df['Count_1'].fillna(0) + merged_df['Count_2'].fillna(0)) / (merged_df['Count_1'].notnull().astype(int) + merged_df['Count_2'].notnull().astype(int))\n",
    "    print(merged_df)"
   ]
  },
  {
   "cell_type": "code",
   "execution_count": 23,
   "id": "de3ea09c",
   "metadata": {},
   "outputs": [
    {
     "name": "stdout",
     "output_type": "stream",
     "text": [
      "Merged DataFrame saved to: /Users/kaycei/K on Server (NoMachine)/KayCei/HDC/HDC_Tube_merged.csv\n"
     ]
    }
   ],
   "source": [
    " # Save the merged DataFrame\n",
    "merged_filename = f\"{Animal_name}_Tube_merged.csv\"\n",
    "merged_file_path = os.path.join(directory_path, merged_filename)\n",
    "merged_df.to_csv(merged_file_path, index=False)\n",
    "print(f\"Merged DataFrame saved to: {merged_file_path}\")"
   ]
  },
  {
   "cell_type": "code",
   "execution_count": null,
   "id": "f5e8ec6f",
   "metadata": {},
   "outputs": [],
   "source": []
  }
 ],
 "metadata": {
  "kernelspec": {
   "display_name": "Python 3 (ipykernel)",
   "language": "python",
   "name": "python3"
  },
  "language_info": {
   "codemirror_mode": {
    "name": "ipython",
    "version": 3
   },
   "file_extension": ".py",
   "mimetype": "text/x-python",
   "name": "python",
   "nbconvert_exporter": "python",
   "pygments_lexer": "ipython3",
   "version": "3.10.4"
  }
 },
 "nbformat": 4,
 "nbformat_minor": 5
}
