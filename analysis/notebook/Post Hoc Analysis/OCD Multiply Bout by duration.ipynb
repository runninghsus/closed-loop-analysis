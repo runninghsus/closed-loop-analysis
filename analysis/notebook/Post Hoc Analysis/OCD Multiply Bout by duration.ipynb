{
 "cells": [
  {
   "cell_type": "code",
   "execution_count": 14,
   "id": "53190441",
   "metadata": {},
   "outputs": [
    {
     "name": "stdout",
     "output_type": "stream",
     "text": [
      "No CSV files selected. Exiting.\n",
      "[]\n"
     ]
    },
    {
     "ename": "IndexError",
     "evalue": "list index out of range",
     "output_type": "error",
     "traceback": [
      "\u001b[0;31m---------------------------------------------------------------------------\u001b[0m",
      "\u001b[0;31mIndexError\u001b[0m                                Traceback (most recent call last)",
      "Input \u001b[0;32mIn [14]\u001b[0m, in \u001b[0;36m<cell line: 39>\u001b[0;34m()\u001b[0m\n\u001b[1;32m     36\u001b[0m result_rows \u001b[38;5;241m=\u001b[39m []\n\u001b[1;32m     38\u001b[0m \u001b[38;5;66;03m# Ensure all CSV files have the same number of rows\u001b[39;00m\n\u001b[0;32m---> 39\u001b[0m num_rows \u001b[38;5;241m=\u001b[39m \u001b[38;5;28mlen\u001b[39m(\u001b[43mcsv_data\u001b[49m\u001b[43m[\u001b[49m\u001b[38;5;241;43m0\u001b[39;49m\u001b[43m]\u001b[49m)\n\u001b[1;32m     40\u001b[0m \u001b[38;5;28;01mfor\u001b[39;00m data \u001b[38;5;129;01min\u001b[39;00m csv_data[\u001b[38;5;241m1\u001b[39m:]:\n\u001b[1;32m     41\u001b[0m     \u001b[38;5;28;01mif\u001b[39;00m \u001b[38;5;28mlen\u001b[39m(data) \u001b[38;5;241m!=\u001b[39m num_rows:\n",
      "\u001b[0;31mIndexError\u001b[0m: list index out of range"
     ]
    }
   ],
   "source": [
    "import csv\n",
    "import tkinter as tk\n",
    "from tkinter import filedialog\n",
    "import os\n",
    "\n",
    "# Function to read a CSV file and return it as a list of rows\n",
    "def read_csv(filename):\n",
    "    rows = []\n",
    "    with open(filename, 'r') as csv_file:\n",
    "        csv_reader = csv.reader(csv_file)\n",
    "        for row in csv_reader:\n",
    "            rows.append(row)\n",
    "    return rows\n",
    "\n",
    "# Create a tkinter root window (hidden)\n",
    "root = tk.Tk()\n",
    "root.withdraw()\n",
    "\n",
    "# Ask the user to select multiple CSV files\n",
    "csv_files = filedialog.askopenfilenames(\n",
    "    title=\"Select CSV files to process\",\n",
    "    filetypes=[(\"CSV Files\", \"*.csv\")]\n",
    ")\n",
    "\n",
    "if not csv_files:\n",
    "    print(\"No CSV files selected. Exiting.\")\n",
    "    exit()\n",
    "\n",
    "# Read the selected CSV files into lists of rows\n",
    "csv_data = []\n",
    "for csv_file in csv_files:\n",
    "    csv_data.append(read_csv(csv_file))\n",
    "    \n",
    "print(csv_data)\n",
    "# Create a new list to store the result rows\n",
    "result_rows = []\n",
    "\n",
    "# Ensure all CSV files have the same number of rows\n",
    "num_rows = len(csv_data[0])\n",
    "for data in csv_data[1:]:\n",
    "    if len(data) != num_rows:\n",
    "        print(\"Error: CSV files do not have the same number of rows.\")\n",
    "        exit()\n",
    "\n",
    "# Multiply corresponding rows from all CSV files and create result rows\n",
    "for i in range(2, num_rows):  # Start from row 3 (index 2)\n",
    "    result_row = [csv_data[0][i][0]]  # Set the key from the first CSV file\n",
    "    product = 1.0  # Initialize the product to 1.0\n",
    "    for data in csv_data:\n",
    "        value = float(data[i][1])\n",
    "        product *= value\n",
    "    result_row.append(product)  # Add the product to the result row\n",
    "    result_rows.append(result_row)\n",
    "    \n",
    "# Ask the user to select a directory to save the result CSV file\n",
    "output_directory = filedialog.askdirectory(title=\"Select a directory to save the result CSV file\")\n",
    "if not output_directory:\n",
    "    print(\"No output directory selected. Exiting.\")\n",
    "    exit()\n",
    "\n",
    "# Write the result rows to a single CSV file in the selected directory\n",
    "output_csv_file = os.path.join(output_directory, 'result.csv')\n",
    "with open(output_csv_file, 'w', newline='') as output_csv:\n",
    "    csv_writer = csv.writer(output_csv)\n",
    "    csv_writer.writerow(['Key', 'Value'])  # Write headers\n",
    "    csv_writer.writerows(result_rows)\n",
    "\n",
    "print(f\"Result saved to '{output_csv_file}'.\")\n",
    "\n",
    "# Close the tkinter root window\n",
    "root.destroy()\n"
   ]
  },
  {
   "cell_type": "code",
   "execution_count": 12,
   "id": "0d643d54",
   "metadata": {},
   "outputs": [
    {
     "name": "stdout",
     "output_type": "stream",
     "text": [
      "19\n"
     ]
    }
   ],
   "source": [
    "print(num_rows)"
   ]
  },
  {
   "cell_type": "code",
   "execution_count": null,
   "id": "7c8df72b",
   "metadata": {},
   "outputs": [],
   "source": []
  }
 ],
 "metadata": {
  "kernelspec": {
   "display_name": "Python 3 (ipykernel)",
   "language": "python",
   "name": "python3"
  },
  "language_info": {
   "codemirror_mode": {
    "name": "ipython",
    "version": 3
   },
   "file_extension": ".py",
   "mimetype": "text/x-python",
   "name": "python",
   "nbconvert_exporter": "python",
   "pygments_lexer": "ipython3",
   "version": "3.10.4"
  }
 },
 "nbformat": 4,
 "nbformat_minor": 5
}
