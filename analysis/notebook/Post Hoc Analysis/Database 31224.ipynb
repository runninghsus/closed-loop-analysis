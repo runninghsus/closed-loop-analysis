{
 "cells": [
  {
   "cell_type": "code",
   "execution_count": null,
   "id": "2bc864d7",
   "metadata": {},
   "outputs": [],
   "source": [
    "import pandas as pd\n",
    "from tkinter import Tk, filedialog\n",
    "import ast\n",
    "import os\n",
    "import numpy as np\n",
    "import matplotlib.pyplot as plt\n",
    "import pandas as pd\n",
    "from scipy import stats\n",
    "from tabulate import tabulate\n",
    "import pprint \n",
    "import json\n",
    "import scipy.stats as stats"
   ]
  },
  {
   "cell_type": "markdown",
   "id": "85857f1a",
   "metadata": {},
   "source": [
    "## Upload Database and Create Dataframe"
   ]
  },
  {
   "cell_type": "code",
   "execution_count": null,
   "id": "0add7398",
   "metadata": {},
   "outputs": [],
   "source": [
    "# Create Tk root\n",
    "root = Tk()\n",
    "\n",
    "# Hide the main window\n",
    "root.withdraw()\n",
    "\n",
    "# Set the main window to be always on top\n",
    "root.call('wm', 'attributes', '.', '-topmost', True)\n",
    "\n",
    "# Ask user to select CSV files\n",
    "csv_paths = filedialog.askopenfilename(multiple=True, title='Select CSV files', filetypes=[('CSV files', '*.csv')])\n",
    "\n",
    "# Initialize a list to store DataFrames for each selected CSV file\n",
    "data_frames = []\n",
    "\n",
    "# Iterate over each selected CSV file path\n",
    "for csv_path in csv_paths:\n",
    "    df = pd.read_csv(csv_path, sep=';')\n",
    "    data_frames.append(df)\n",
    "\n",
    "# Concatenate all DataFrames into a single DataFrame\n",
    "original_df = pd.concat(data_frames, ignore_index=True)\n",
    "original_df.update(combined_df.apply(lambda x: x.str.strip() if x.dtype == \"object\" else x))\n",
    "\n",
    "\n",
    "# Now combined_df contains data from all selected CSV files\n",
    "#print(original_df)"
   ]
  }
 ],
 "metadata": {
  "kernelspec": {
   "display_name": "Python 3 (ipykernel)",
   "language": "python",
   "name": "python3"
  },
  "language_info": {
   "codemirror_mode": {
    "name": "ipython",
    "version": 3
   },
   "file_extension": ".py",
   "mimetype": "text/x-python",
   "name": "python",
   "nbconvert_exporter": "python",
   "pygments_lexer": "ipython3",
   "version": "3.10.4"
  }
 },
 "nbformat": 4,
 "nbformat_minor": 5
}
