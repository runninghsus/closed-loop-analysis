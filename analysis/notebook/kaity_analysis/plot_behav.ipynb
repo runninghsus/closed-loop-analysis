{
 "cells": [
  {
   "cell_type": "code",
   "execution_count": 3,
   "metadata": {},
   "outputs": [],
   "source": [
    "import joblib\n",
    "import os\n",
    "import pandas as pd\n",
    "from sklearn.ensemble import RandomForestClassifier\n",
    "import numpy as np\n",
    "from datetime import datetime\n",
    "import matplotlib.pyplot as plt\n",
    "import pickle\n",
    "import time\n",
    "from tkinter import *\n",
    "from tkinter import filedialog\n",
    "from tqdm import tqdm\n",
    "from tqdm import notebook\n",
    "import itertools\n",
    "import math\n",
    "import seaborn as sns"
   ]
  },
  {
   "cell_type": "code",
   "execution_count": 4,
   "metadata": {},
   "outputs": [],
   "source": [
    "# Create Tk root\n",
    "root = Tk()\n",
    "# Hide the main window\n",
    "root.withdraw()\n",
    "root.call('wm', 'attributes', '.', '-topmost', True)\n",
    "infiles = filedialog.askopenfilename(multiple=True, title='load posthoc-predictions.npy')\n",
    "\n",
    "%gui tk"
   ]
  },
  {
   "cell_type": "code",
   "execution_count": 5,
   "metadata": {},
   "outputs": [
    {
     "data": {
      "text/plain": [
       "('C:/Users/Yttri-Lab/Desktop/D on Server (NoMachine)/kaycei/T14/032223-locomotion/VideoOutputCamera 0-22032023-113602_posthoc-predictions.npy',)"
      ]
     },
     "execution_count": 5,
     "metadata": {},
     "output_type": "execute_result"
    }
   ],
   "source": [
    "infiles"
   ]
  },
  {
   "cell_type": "code",
   "execution_count": 6,
   "metadata": {},
   "outputs": [],
   "source": [
    "predictions = []\n",
    "for f in range(len(infiles)):\n",
    "    predictions.append(np.load(infiles[f]))"
   ]
  },
  {
   "cell_type": "code",
   "execution_count": 7,
   "metadata": {},
   "outputs": [
    {
     "data": {
      "text/plain": [
       "(40038, 'tenths of seconds in video')"
      ]
     },
     "execution_count": 7,
     "metadata": {},
     "output_type": "execute_result"
    }
   ],
   "source": [
    "#(totaltime of ms1, totaltime of ms2) ... in tenths of seconds\n",
    "#if two videos \n",
    "#(len(predictions[0]), len(predictions[1]))\n",
    "\n",
    "len(predictions[0]), \"tenths of seconds in video\"\n",
    "\n",
    "#sns.barplot(data=df, x=\"behavior\", y=\"animal\")"
   ]
  },
  {
   "cell_type": "code",
   "execution_count": 8,
   "metadata": {},
   "outputs": [
    {
     "data": {
      "text/html": [
       "<div>\n",
       "<style scoped>\n",
       "    .dataframe tbody tr th:only-of-type {\n",
       "        vertical-align: middle;\n",
       "    }\n",
       "\n",
       "    .dataframe tbody tr th {\n",
       "        vertical-align: top;\n",
       "    }\n",
       "\n",
       "    .dataframe thead th {\n",
       "        text-align: right;\n",
       "    }\n",
       "</style>\n",
       "<table border=\"1\" class=\"dataframe\">\n",
       "  <thead>\n",
       "    <tr style=\"text-align: right;\">\n",
       "      <th></th>\n",
       "      <th>animal</th>\n",
       "      <th>behavior</th>\n",
       "    </tr>\n",
       "  </thead>\n",
       "  <tbody>\n",
       "    <tr>\n",
       "      <th>0</th>\n",
       "      <td>22032023-113602</td>\n",
       "      <td>5.0</td>\n",
       "    </tr>\n",
       "    <tr>\n",
       "      <th>1</th>\n",
       "      <td>22032023-113602</td>\n",
       "      <td>5.0</td>\n",
       "    </tr>\n",
       "    <tr>\n",
       "      <th>2</th>\n",
       "      <td>22032023-113602</td>\n",
       "      <td>5.0</td>\n",
       "    </tr>\n",
       "    <tr>\n",
       "      <th>3</th>\n",
       "      <td>22032023-113602</td>\n",
       "      <td>5.0</td>\n",
       "    </tr>\n",
       "    <tr>\n",
       "      <th>4</th>\n",
       "      <td>22032023-113602</td>\n",
       "      <td>5.0</td>\n",
       "    </tr>\n",
       "    <tr>\n",
       "      <th>...</th>\n",
       "      <td>...</td>\n",
       "      <td>...</td>\n",
       "    </tr>\n",
       "    <tr>\n",
       "      <th>40033</th>\n",
       "      <td>22032023-113602</td>\n",
       "      <td>2.0</td>\n",
       "    </tr>\n",
       "    <tr>\n",
       "      <th>40034</th>\n",
       "      <td>22032023-113602</td>\n",
       "      <td>2.0</td>\n",
       "    </tr>\n",
       "    <tr>\n",
       "      <th>40035</th>\n",
       "      <td>22032023-113602</td>\n",
       "      <td>2.0</td>\n",
       "    </tr>\n",
       "    <tr>\n",
       "      <th>40036</th>\n",
       "      <td>22032023-113602</td>\n",
       "      <td>2.0</td>\n",
       "    </tr>\n",
       "    <tr>\n",
       "      <th>40037</th>\n",
       "      <td>22032023-113602</td>\n",
       "      <td>2.0</td>\n",
       "    </tr>\n",
       "  </tbody>\n",
       "</table>\n",
       "<p>40038 rows × 2 columns</p>\n",
       "</div>"
      ],
      "text/plain": [
       "                animal  behavior\n",
       "0      22032023-113602       5.0\n",
       "1      22032023-113602       5.0\n",
       "2      22032023-113602       5.0\n",
       "3      22032023-113602       5.0\n",
       "4      22032023-113602       5.0\n",
       "...                ...       ...\n",
       "40033  22032023-113602       2.0\n",
       "40034  22032023-113602       2.0\n",
       "40035  22032023-113602       2.0\n",
       "40036  22032023-113602       2.0\n",
       "40037  22032023-113602       2.0\n",
       "\n",
       "[40038 rows x 2 columns]"
      ]
     },
     "execution_count": 8,
     "metadata": {},
     "output_type": "execute_result"
    }
   ],
   "source": [
    "# for f in range(len(infiles)):\n",
    "data_dict = {'animal':np.hstack(([np.repeat(infiles[f].rpartition('_post')[0].rpartition('/')[2].rpartition(' 0-')[2], len(predictions[f])) \n",
    "                                  for f in range(len(infiles))])),\n",
    "             'behavior': np.hstack([predictions[f] for f in range(len(predictions))])}\n",
    "data_dict\n",
    "                                                                    \n",
    "df = pd.DataFrame(data = data_dict)\n",
    "df"
   ]
  },
  {
   "cell_type": "code",
   "execution_count": 9,
   "metadata": {},
   "outputs": [
    {
     "data": {
      "text/plain": [
       "<AxesSubplot:xlabel='behavior', ylabel='Count'>"
      ]
     },
     "execution_count": 9,
     "metadata": {},
     "output_type": "execute_result"
    },
    {
     "data": {
      "image/png": "[encoded data removed]",
      "text/plain": [
       "<Figure size 432x288 with 1 Axes>"
      ]
     },
     "metadata": {
      "needs_background": "light"
     },
     "output_type": "display_data"
    }
   ],
   "source": [
    "sns.histplot(data=df, x=\"behavior\", hue=\"animal\", \n",
    "             multiple=\"dodge\", shrink=.8)"
   ]
  },
  {
   "cell_type": "code",
   "execution_count": 10,
   "metadata": {},
   "outputs": [
    {
     "data": {
      "text/plain": [
       "<AxesSubplot:xlabel='behavior', ylabel='Probability'>"
      ]
     },
     "execution_count": 10,
     "metadata": {},
     "output_type": "execute_result"
    },
    {
     "data": {
      "image/png": "[encoded data removed]",
      "text/plain": [
       "<Figure size 432x288 with 1 Axes>"
      ]
     },
     "metadata": {
      "needs_background": "light"
     },
     "output_type": "display_data"
    }
   ],
   "source": [
    "sns.histplot(data=df, x=\"behavior\",\n",
    "             stat='probability',\n",
    "             multiple=\"dodge\", shrink=.8)"
   ]
  },
  {
   "cell_type": "code",
   "execution_count": 11,
   "metadata": {},
   "outputs": [
    {
     "data": {
      "text/html": [
       "<div>\n",
       "<style scoped>\n",
       "    .dataframe tbody tr th:only-of-type {\n",
       "        vertical-align: middle;\n",
       "    }\n",
       "\n",
       "    .dataframe tbody tr th {\n",
       "        vertical-align: top;\n",
       "    }\n",
       "\n",
       "    .dataframe thead th {\n",
       "        text-align: right;\n",
       "    }\n",
       "</style>\n",
       "<table border=\"1\" class=\"dataframe\">\n",
       "  <thead>\n",
       "    <tr style=\"text-align: right;\">\n",
       "      <th></th>\n",
       "      <th>time</th>\n",
       "      <th>locomotion count</th>\n",
       "    </tr>\n",
       "  </thead>\n",
       "  <tbody>\n",
       "    <tr>\n",
       "      <th>40</th>\n",
       "      <td>40</td>\n",
       "      <td>2.0</td>\n",
       "    </tr>\n",
       "    <tr>\n",
       "      <th>137</th>\n",
       "      <td>137</td>\n",
       "      <td>2.0</td>\n",
       "    </tr>\n",
       "    <tr>\n",
       "      <th>138</th>\n",
       "      <td>138</td>\n",
       "      <td>2.0</td>\n",
       "    </tr>\n",
       "    <tr>\n",
       "      <th>139</th>\n",
       "      <td>139</td>\n",
       "      <td>2.0</td>\n",
       "    </tr>\n",
       "    <tr>\n",
       "      <th>140</th>\n",
       "      <td>140</td>\n",
       "      <td>2.0</td>\n",
       "    </tr>\n",
       "    <tr>\n",
       "      <th>...</th>\n",
       "      <td>...</td>\n",
       "      <td>...</td>\n",
       "    </tr>\n",
       "    <tr>\n",
       "      <th>40033</th>\n",
       "      <td>40033</td>\n",
       "      <td>2.0</td>\n",
       "    </tr>\n",
       "    <tr>\n",
       "      <th>40034</th>\n",
       "      <td>40034</td>\n",
       "      <td>2.0</td>\n",
       "    </tr>\n",
       "    <tr>\n",
       "      <th>40035</th>\n",
       "      <td>40035</td>\n",
       "      <td>2.0</td>\n",
       "    </tr>\n",
       "    <tr>\n",
       "      <th>40036</th>\n",
       "      <td>40036</td>\n",
       "      <td>2.0</td>\n",
       "    </tr>\n",
       "    <tr>\n",
       "      <th>40037</th>\n",
       "      <td>40037</td>\n",
       "      <td>2.0</td>\n",
       "    </tr>\n",
       "  </tbody>\n",
       "</table>\n",
       "<p>5042 rows × 2 columns</p>\n",
       "</div>"
      ],
      "text/plain": [
       "        time  locomotion count\n",
       "40        40               2.0\n",
       "137      137               2.0\n",
       "138      138               2.0\n",
       "139      139               2.0\n",
       "140      140               2.0\n",
       "...      ...               ...\n",
       "40033  40033               2.0\n",
       "40034  40034               2.0\n",
       "40035  40035               2.0\n",
       "40036  40036               2.0\n",
       "40037  40037               2.0\n",
       "\n",
       "[5042 rows x 2 columns]"
      ]
     },
     "execution_count": 11,
     "metadata": {},
     "output_type": "execute_result"
    }
   ],
   "source": [
    "#behavior plot over time for ms1 only \n",
    "\n",
    "ms1 = predictions[0]\n",
    "data_dict2 = {'time': np.hstack([f for f in range(len(predictions[0]))]),\n",
    "              'locomotion count': np.hstack([predictions[0][f] for f in range(len(ms1))])}\n",
    "\n",
    "df2 = pd.DataFrame(data= data_dict2) \n",
    "#Keep only the rows that include the behavior of interest \n",
    "behav_interest = 2\n",
    "df3 = df2.loc[df2[\"locomotion count\"] == behav_interest]\n",
    "df3"
   ]
  },
  {
   "cell_type": "code",
   "execution_count": 12,
   "metadata": {},
   "outputs": [
    {
     "data": {
      "text/plain": [
       "<AxesSubplot:xlabel='time', ylabel='Count'>"
      ]
     },
     "execution_count": 12,
     "metadata": {},
     "output_type": "execute_result"
    },
    {
     "data": {
      "image/png": "[encoded data removed]",
      "text/plain": [
       "<Figure size 432x288 with 1 Axes>"
      ]
     },
     "metadata": {
      "needs_background": "light"
     },
     "output_type": "display_data"
    }
   ],
   "source": [
    "sns.histplot(data=df3, x='time', \n",
    "             stat='count',\n",
    "             multiple='dodge', shrink=.8, bins=8)\n",
    "#3000 tenths of a second = 5 minutes\n",
    "#There doesn't seem to be a great difference in locomotion count that relates\n",
    "# to interjection of stim\n",
    "# The first bin represents the first 5 minutes of pre-stime, \n",
    "# which oddly shows the highest count of locomotive bouts"
   ]
  },
  {
   "cell_type": "markdown",
   "metadata": {},
   "source": [
    "## Analysis of bouts "
   ]
  },
  {
   "cell_type": "code",
   "execution_count": 13,
   "metadata": {},
   "outputs": [],
   "source": [
    "#data_dict3 = {'time': np.hstack([f for f in range(len(predictions[0]))]),\n",
    "#              'bouts': np.hstack([0 for f in range(len(predictions[0]))])}\n",
    "#\n",
    "#df4 = pd.DataFrame(data= data_dict3) \n",
    "#df4"
   ]
  },
  {
   "cell_type": "code",
   "execution_count": 14,
   "metadata": {},
   "outputs": [
    {
     "data": {
      "text/plain": [
       "40"
      ]
     },
     "execution_count": 14,
     "metadata": {},
     "output_type": "execute_result"
    }
   ],
   "source": [
    "np.where(predictions[0] == 2)[0][0]"
   ]
  },
  {
   "cell_type": "code",
   "execution_count": 15,
   "metadata": {},
   "outputs": [
    {
     "data": {
      "text/plain": [
       "'There are 1 number of behavior of interest bouts in second 5 minutes'"
      ]
     },
     "execution_count": 15,
     "metadata": {},
     "output_type": "execute_result"
    }
   ],
   "source": [
    "#OLD VERSION ~!\n",
    "array_an1 = predictions[0].copy()\n",
    "\n",
    "count = 0\n",
    "\n",
    "#index of where the behavior changes gives us where each bout begins \n",
    "behav_start_an1 = np.where(np.diff(array_an1) != 0)\n",
    "# bin every 5 minutes (3000 * 100ms)\n",
    "time_ranges = [[i*3000, (i+1)*3000] for i in range(195)]\n",
    "\n",
    "#constrain it to behavior of interest\n",
    "behav_interest = 2\n",
    "counts_5min_bins = []\n",
    "when_occurred_5min_bins = []\n",
    "for _, idx in enumerate(behav_start_an1[0]):\n",
    "    if array_an1[idx+1] == behav_interest: \n",
    "        count = 0\n",
    "        when_occurred = []\n",
    "        for time_range in time_ranges:\n",
    "            if ((idx > time_range[0]) and (idx < time_range[1])):\n",
    "                # print(time_range)\n",
    "                count += 1 \n",
    "                when_occurred.append(idx)\n",
    "        counts_5min_bins.append(count)\n",
    "        when_occurred_5min_bins.append(when_occurred)\n",
    "#count is now number of behavior of interest bouts ! \n",
    "\n",
    "f\"There are {counts_5min_bins[2]} number of behavior of interest bouts in second 5 minutes\"\n",
    "\n",
    "#data_dict3 = {'time': np.hstack([f for f in range(len(array_an1))]), \n",
    "#              'behav_interest bouts': np.hstack([(count+1) for i in range(len(behav_start_an1[0])) (if array_an1[i+1] == behav_interest)]) }\n",
    "#df4 = pd.DataFrame(data=data_dict3)\n"
   ]
  },
  {
   "cell_type": "code",
   "execution_count": 16,
   "metadata": {},
   "outputs": [
    {
     "name": "stdout",
     "output_type": "stream",
     "text": [
      "[42, 2, 37, 85, 75, 97, 98, 130, 152] 9\n"
     ]
    },
    {
     "data": {
      "text/plain": [
       "'There are 37 number of behavior of interest bouts in second 5-minute-bin'"
      ]
     },
     "execution_count": 16,
     "metadata": {},
     "output_type": "execute_result"
    }
   ],
   "source": [
    "array_an1 = predictions[0].copy()\n",
    "\n",
    "count = 0\n",
    "\n",
    "#index of where the behavior changes gives us where each bout begins \n",
    "behav_start_an1 = np.where(np.diff(array_an1) != 0)\n",
    "# bin every 5 minutes (3000 * 100ms)\n",
    "time_ranges = [[i*3000, (i+1)*3000] for i in range(9)]\n",
    "\n",
    "#constrain it to behavior of interest\n",
    "behav_interest = 2\n",
    "counts_5min_bins = []\n",
    "when_occurred_5min_bins = []\n",
    "when_occurred = []\n",
    "\n",
    "for time_range in time_ranges: \n",
    "    count = 0\n",
    "    for _, idx in enumerate(behav_start_an1[0]):\n",
    "        if ((idx > time_range[0]) and (idx < time_range[1])): # if in the correct 5 min bin\n",
    "            if array_an1[idx+1] == behav_interest: # if the value at bout index is behav_interest, add to count\n",
    "                count += 1 \n",
    "                when_occurred.append(idx)\n",
    "    counts_5min_bins.append(count) \n",
    "when_occurred_5min_bins.append(when_occurred) \n",
    "#Count is the number of behavior of interest bouts! \n",
    "            \n",
    "    \n",
    "print(counts_5min_bins, len(counts_5min_bins))\n",
    "f\"There are {counts_5min_bins[2]} number of behavior of interest bouts in second 5-minute-bin\"\n"
   ]
  },
  {
   "cell_type": "code",
   "execution_count": 17,
   "metadata": {},
   "outputs": [
    {
     "data": {
      "text/plain": [
       "[[0, 3000],\n",
       " [3000, 6000],\n",
       " [6000, 9000],\n",
       " [9000, 12000],\n",
       " [12000, 15000],\n",
       " [15000, 18000],\n",
       " [18000, 21000],\n",
       " [21000, 24000],\n",
       " [24000, 27000]]"
      ]
     },
     "execution_count": 17,
     "metadata": {},
     "output_type": "execute_result"
    }
   ],
   "source": [
    "time_ranges = [[i*3000, (i+1)*3000] for i in range(9)]\n",
    "time_ranges"
   ]
  },
  {
   "cell_type": "code",
   "execution_count": 18,
   "metadata": {},
   "outputs": [
    {
     "data": {
      "text/plain": [
       "[<matplotlib.lines.Line2D at 0x26394059b20>]"
      ]
     },
     "execution_count": 18,
     "metadata": {},
     "output_type": "execute_result"
    },
    {
     "data": {
      "image/png": "[encoded data removed]",
      "text/plain": [
       "<Figure size 432x288 with 1 Axes>"
      ]
     },
     "metadata": {
      "needs_background": "light"
     },
     "output_type": "display_data"
    }
   ],
   "source": [
    "plt.plot(np.array(when_occurred)/10)\n",
    "\n",
    "# x-axis represents the bout number\n",
    "# y-axis represents the temporal position of bout\n",
    "# Steeper slope means longer duration of bouts.\n",
    "# Longer run means shorter duration of bouts."
   ]
  },
  {
   "cell_type": "code",
   "execution_count": 19,
   "metadata": {},
   "outputs": [
    {
     "data": {
      "text/html": [
       "<div>\n",
       "<style scoped>\n",
       "    .dataframe tbody tr th:only-of-type {\n",
       "        vertical-align: middle;\n",
       "    }\n",
       "\n",
       "    .dataframe tbody tr th {\n",
       "        vertical-align: top;\n",
       "    }\n",
       "\n",
       "    .dataframe thead th {\n",
       "        text-align: right;\n",
       "    }\n",
       "</style>\n",
       "<table border=\"1\" class=\"dataframe\">\n",
       "  <thead>\n",
       "    <tr style=\"text-align: right;\">\n",
       "      <th></th>\n",
       "      <th>time</th>\n",
       "      <th>locomotive bouts count</th>\n",
       "    </tr>\n",
       "  </thead>\n",
       "  <tbody>\n",
       "    <tr>\n",
       "      <th>0</th>\n",
       "      <td>0</td>\n",
       "      <td>42</td>\n",
       "    </tr>\n",
       "    <tr>\n",
       "      <th>1</th>\n",
       "      <td>3000</td>\n",
       "      <td>2</td>\n",
       "    </tr>\n",
       "    <tr>\n",
       "      <th>2</th>\n",
       "      <td>6000</td>\n",
       "      <td>37</td>\n",
       "    </tr>\n",
       "    <tr>\n",
       "      <th>3</th>\n",
       "      <td>9000</td>\n",
       "      <td>85</td>\n",
       "    </tr>\n",
       "    <tr>\n",
       "      <th>4</th>\n",
       "      <td>12000</td>\n",
       "      <td>75</td>\n",
       "    </tr>\n",
       "    <tr>\n",
       "      <th>5</th>\n",
       "      <td>15000</td>\n",
       "      <td>97</td>\n",
       "    </tr>\n",
       "    <tr>\n",
       "      <th>6</th>\n",
       "      <td>18000</td>\n",
       "      <td>98</td>\n",
       "    </tr>\n",
       "    <tr>\n",
       "      <th>7</th>\n",
       "      <td>21000</td>\n",
       "      <td>130</td>\n",
       "    </tr>\n",
       "    <tr>\n",
       "      <th>8</th>\n",
       "      <td>24000</td>\n",
       "      <td>152</td>\n",
       "    </tr>\n",
       "  </tbody>\n",
       "</table>\n",
       "</div>"
      ],
      "text/plain": [
       "    time  locomotive bouts count\n",
       "0      0                      42\n",
       "1   3000                       2\n",
       "2   6000                      37\n",
       "3   9000                      85\n",
       "4  12000                      75\n",
       "5  15000                      97\n",
       "6  18000                      98\n",
       "7  21000                     130\n",
       "8  24000                     152"
      ]
     },
     "execution_count": 19,
     "metadata": {},
     "output_type": "execute_result"
    }
   ],
   "source": [
    "data_dict_bout = {'time': np.hstack([time_ranges[f][0] for f in range(len(time_ranges))]),\n",
    "              'locomotive bouts count': np.hstack([counts_5min_bins[f] for f in range(len(counts_5min_bins))])}\n",
    "\n",
    "df4 = pd.DataFrame(data= data_dict_bout) \n",
    "df4"
   ]
  },
  {
   "cell_type": "code",
   "execution_count": 20,
   "metadata": {},
   "outputs": [
    {
     "data": {
      "text/plain": [
       "<AxesSubplot:xlabel='time', ylabel='locomotive bouts count'>"
      ]
     },
     "execution_count": 20,
     "metadata": {},
     "output_type": "execute_result"
    },
    {
     "data": {
      "image/png": "[encoded data removed]",
      "text/plain": [
       "<Figure size 432x288 with 1 Axes>"
      ]
     },
     "metadata": {
      "needs_background": "light"
     },
     "output_type": "display_data"
    }
   ],
   "source": [
    "sns.barplot(data=df4, x=\"time\", y=\"locomotive bouts count\", color='skyblue')"
   ]
  },
  {
   "cell_type": "code",
   "execution_count": null,
   "metadata": {},
   "outputs": [],
   "source": []
  }
 ],
 "metadata": {
  "kernelspec": {
   "display_name": "Python 3 (ipykernel)",
   "language": "python",
   "name": "python3"
  },
  "language_info": {
   "codemirror_mode": {
    "name": "ipython",
    "version": 3
   },
   "file_extension": ".py",
   "mimetype": "text/x-python",
   "name": "python",
   "nbconvert_exporter": "python",
   "pygments_lexer": "ipython3",
   "version": "3.8.5"
  }
 },
 "nbformat": 4,
 "nbformat_minor": 5
}
