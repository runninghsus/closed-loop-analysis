{
 "cells": [
  {
   "cell_type": "code",
   "execution_count": 1,
   "metadata": {},
   "outputs": [],
   "source": [
    "import joblib\n",
    "import os\n",
    "import pandas as pd\n",
    "from sklearn.ensemble import RandomForestClassifier\n",
    "import numpy as np\n",
    "from datetime import datetime\n",
    "import matplotlib.pyplot as plt\n",
    "import pickle\n",
    "import time\n",
    "from tkinter import *\n",
    "from tkinter import filedialog\n",
    "from tqdm import tqdm\n",
    "from tqdm import notebook\n",
    "import itertools\n",
    "import math\n",
    "import seaborn as sns"
   ]
  },
  {
   "cell_type": "code",
   "execution_count": 2,
   "metadata": {},
   "outputs": [],
   "source": [
    "# Create Tk root\n",
    "root = Tk()\n",
    "# Hide the main window\n",
    "root.withdraw()\n",
    "root.call('wm', 'attributes', '.', '-topmost', True)\n",
    "infiles = filedialog.askopenfilename(multiple=True, title='load posthoc-predictions.npy')\n",
    "\n",
    "%gui tk"
   ]
  },
  {
   "cell_type": "code",
   "execution_count": 3,
   "metadata": {},
   "outputs": [
    {
     "data": {
      "text/plain": [
<<<<<<< Updated upstream
       "('C:/Users/Yttri-Lab/Desktop/D on Server (NoMachine)/kaycei/T14/032223-locomotion/VideoOutputCamera 0-22032023-113602_posthoc-predictions.npy',)"
=======
       "('C:/Users/Yttri-Lab/Desktop/D on Server (NoMachine)/KayCei/AD11-D1/videos/051223-locomotion/VideoOutputCamera 0-12052023-152404_posthoc-predictions.npy',)"
>>>>>>> Stashed changes
      ]
     },
     "execution_count": 3,
     "metadata": {},
     "output_type": "execute_result"
    }
   ],
   "source": [
    "infiles"
   ]
  },
  {
   "cell_type": "code",
   "execution_count": 4,
   "metadata": {},
   "outputs": [],
   "source": [
    "predictions = []\n",
    "for f in range(len(infiles)):\n",
    "    predictions.append(np.load(infiles[f]))\n",
    "#print(predictions) #attempt to see what predictions was "
   ]
  },
  {
   "cell_type": "code",
<<<<<<< Updated upstream
   "execution_count": 5,
=======
   "execution_count": 6,
   "metadata": {},
   "outputs": [
    {
     "name": "stdout",
     "output_type": "stream",
     "text": [
      "Mean duration for Behavior 2 in tenths of seconds: 12.602739726027398\n"
     ]
    }
   ],
   "source": [
    "# Create a DataFrame from the predictions\n",
    "data_dict = {'animal': np.hstack(([np.repeat(infiles[f].rpartition('_post')[0].rpartition('/')[2].rpartition(' 0-')[2], len(predictions[f])) \n",
    "                                  for f in range(len(infiles))])),\n",
    "             'behavior': np.hstack([predictions[f] for f in range(len(predictions))])}\n",
    "df = pd.DataFrame(data=data_dict)\n",
    "\n",
    "# Calculate the duration of a behavior of interest using time\n",
    "behavior_of_interest = 2\n",
    "durations = []\n",
    "for animal_name in df['animal'].unique():\n",
    "    animal_df = df[df['animal'] == animal_name]\n",
    "    behavior_indices = np.where(animal_df['behavior'] == behavior_of_interest)[0]\n",
    "    if len(behavior_indices) >= 2:\n",
    "        duration = np.diff(behavior_indices).mean()\n",
    "        durations.append(duration)\n",
    "\n",
    "mean_duration = np.mean(durations)\n",
    "\n",
    "print(\"Mean duration for Behavior\", behavior_of_interest, \"in tenths of seconds:\", mean_duration)\n"
   ]
  },
  {
   "cell_type": "code",
   "execution_count": 7,
   "metadata": {},
   "outputs": [
    {
     "ename": "NameError",
     "evalue": "name 'average_duration' is not defined",
     "output_type": "error",
     "traceback": [
      "\u001b[1;31m---------------------------------------------------------------------------\u001b[0m",
      "\u001b[1;31mNameError\u001b[0m                                 Traceback (most recent call last)",
      "Input \u001b[1;32mIn [7]\u001b[0m, in \u001b[0;36m<cell line: 4>\u001b[1;34m()\u001b[0m\n\u001b[0;32m      2\u001b[0m behavior_interest \u001b[38;5;241m=\u001b[39m \u001b[38;5;241m2\u001b[39m\n\u001b[0;32m      3\u001b[0m duration_behavior \u001b[38;5;241m=\u001b[39m \u001b[38;5;28msum\u001b[39m([np\u001b[38;5;241m.\u001b[39msum(pred \u001b[38;5;241m==\u001b[39m behavior_interest) \u001b[38;5;28;01mfor\u001b[39;00m pred \u001b[38;5;129;01min\u001b[39;00m predictions])\n\u001b[1;32m----> 4\u001b[0m \u001b[38;5;28mprint\u001b[39m(\u001b[38;5;124m\"\u001b[39m\u001b[38;5;124mAverage duration for Behavior\u001b[39m\u001b[38;5;124m\"\u001b[39m, behavior_interest, \u001b[38;5;124m\"\u001b[39m\u001b[38;5;124min tenths of seconds:\u001b[39m\u001b[38;5;124m\"\u001b[39m, \u001b[43maverage_duration\u001b[49m)\n",
      "\u001b[1;31mNameError\u001b[0m: name 'average_duration' is not defined"
     ]
    }
   ],
   "source": [
    "# Calculate the duration\n",
    "#behavior_interest = 2\n",
    "#duration_behavior = sum([np.sum(pred == behavior_interest) for pred in predictions])\n",
    "#print(\"Average duration for Behavior\", behavior_interest, \"in tenths of seconds:\", average_duration)"
   ]
  },
  {
   "cell_type": "code",
   "execution_count": 9,
   "metadata": {},
   "outputs": [
    {
     "name": "stdout",
     "output_type": "stream",
     "text": [
      "Average duration of 2 behavior in the first 5 minutes: 7.321148825065274 tenths of a second\n",
      "Average duration of 2 behavior from 30 to 65 minutes: 15.203918722786648 tenths of a second\n",
      "Average duration of 2 behavior from 5 to 30 minutes: 11.327217125382264 tenths of a second\n",
      "Difference in average duration from 5 minutes to 30 minutes: 4.00606830031699 tenths of a second\n"
     ]
    },
    {
     "data": {
      "image/png": "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\n",
      "text/plain": [
       "<Figure size 432x288 with 1 Axes>"
      ]
     },
     "metadata": {
      "needs_background": "light"
     },
     "output_type": "display_data"
    }
   ],
   "source": [
    "# Convert predictions to DataFrame\n",
    "data_dict = {'animal': np.hstack(([np.repeat(infiles[f].rpartition('_post')[0].rpartition('/')[2].rpartition(' 0-')[2], len(predictions[f]))\n",
    "                                  for f in range(len(infiles))])),\n",
    "             'behavior': np.hstack([predictions[f] for f in range(len(predictions))])}\n",
    "\n",
    "df = pd.DataFrame(data=data_dict)\n",
    "\n",
    "# Add the 'time' column to the DataFrame\n",
    "df['time'] = np.arange(len(df))\n",
    "\n",
    "# Set the time frames of interest\n",
    "first_5_min_end = 3000  # End time of the first 5 minutes in tenths of a second\n",
    "thirty_min_end = 18000  # End time of 30 minutes in tenths of a second\n",
    "sixty_five_min_end = 39000  # End time of 65 minutes in tenths of a second\n",
    "\n",
    "# Filter the DataFrame for the first 5 minutes\n",
    "df_first_5_min = df[df['time'] <= first_5_min_end]\n",
    "\n",
    "# Filter the DataFrame for the time frame from 30 minutes to 65 minutes\n",
    "df_30_to_65_min = df[(df['time'] > thirty_min_end) & (df['time'] <= sixty_five_min_end)]\n",
    "\n",
    "# Filter the DataFrame for the time frame from 30 minutes to 65 minutes\n",
    "df_5_to_30_min = df[(df['time'] > first_5_min_end) & (df['time'] <= thirty_min_end)]\n",
    "\n",
    "# Define the behavior of interest\n",
    "behavior_of_interest = 2\n",
    "\n",
    "# Check if there are instances of the behavior of interest in the first 5 minutes\n",
    "if behavior_of_interest in df_first_5_min['behavior'].unique():\n",
    "    # Calculate the average duration for the first 5 minutes\n",
    "    avg_duration_first_5_min = np.mean(np.diff(np.where(df_first_5_min['behavior'] == behavior_of_interest)[0]))\n",
    "else:\n",
    "    avg_duration_first_5_min = 0\n",
    "\n",
    "# Check if there are instances of the behavior of interest in the first 5 minutes\n",
    "if behavior_of_interest in df_first_5_min['behavior'].unique():\n",
    "    # Calculate the average duration for the first 5 minutes\n",
    "    avg_duration_first_5_min = np.mean(np.diff(np.where(df_first_5_min['behavior'] == behavior_of_interest)[0]))\n",
    "else:\n",
    "    avg_duration_first_5_min = 0\n",
    "\n",
    "# Check if there are instances of the behavior of interest from 30 to 65 minutes\n",
    "if behavior_of_interest in df_30_to_65_min['behavior'].unique():\n",
    "    # Calculate the average duration from 30 to 65 minutes\n",
    "    avg_duration_30_to_65_min = np.mean(np.diff(np.where(df_30_to_65_min['behavior'] == behavior_of_interest)[0]))\n",
    "else:\n",
    "    avg_duration_30_to_65_min = 0\n",
    "\n",
    "# Print the average durations\n",
    "print(f\"Average duration of {behavior_of_interest} behavior in the first 5 minutes: {avg_duration_first_5_min} tenths of a second\")\n",
    "print(f\"Average duration of {behavior_of_interest} behavior from 30 to 65 minutes: {avg_duration_30_to_65_min} tenths of a second\")\n",
    "\n",
    "# Calculate the differences in average durations\n",
    "diff_5_to_30_min = avg_duration_30_to_65_min - avg_duration_first_5_min\n",
    "diff_5_to_65_min = avg_duration_30_to_65_min - avg_duration_first_5_min\n",
    "\n",
    "# Filter the DataFrame for the time frame from 5 minutes to 30 minutes\n",
    "df_5_to_30_min = df[(df['time'] > first_5_min_end) & (df['time'] <= thirty_min_end)]\n",
    "\n",
    "# Check if there are instances of the behavior of interest from 5 to 30 minutes\n",
    "if behavior_of_interest in df_5_to_30_min['behavior'].unique():\n",
    "    # Calculate the average duration from 5 to 30 minutes\n",
    "    avg_duration_5_to_30_min = np.mean(np.diff(np.where(df_5_to_30_min['behavior'] == behavior_of_interest)[0]))\n",
    "else:\n",
    "    avg_duration_5_to_30_min = 0\n",
    "\n",
    "# Print the average duration from 5 to 30 minutes\n",
    "print(f\"Average duration of {behavior_of_interest} behavior from 5 to 30 minutes: {avg_duration_5_to_30_min} tenths of a second\")\n",
    "\n",
    "# Calculate the difference in average duration from 5 minutes to 30 minutes\n",
    "diff_5_to_30_min = avg_duration_5_to_30_min - avg_duration_first_5_min\n",
    "\n",
    "# Print the difference in average duration from 5 minutes to 30 minutes\n",
    "print(f\"Difference in average duration from 5 minutes to 30 minutes: {diff_5_to_30_min} tenths of a second\")\n",
    "#makes graph showing information \n",
    "import matplotlib.pyplot as plt\n",
    "\n",
    "# Define the labels and values for the bar plot\n",
    "labels = ['First 5 min', '5 min to 30 min','30 min to 65 min']\n",
    "values = [avg_duration_first_5_min, avg_duration_5_to_30_min, avg_duration_30_to_65_min]\n",
    "\n",
    "# Create a bar plot\n",
    "plt.bar(labels, values)\n",
    "plt.xlabel('Time Frames')\n",
    "plt.ylabel('Average Duration (tenths of a second)')\n",
    "plt.title(f'Average Duration of Behavior {behavior_of_interest} Bilateral Stimulation')\n",
    "\n",
    "# Display the plot\n",
    "plt.show()"
   ]
  },
  {
   "cell_type": "code",
   "execution_count": 11,
>>>>>>> Stashed changes
   "metadata": {},
   "outputs": [
    {
     "data": {
      "text/plain": [
       "(39827, 'tenths of seconds in video')"
      ]
     },
<<<<<<< Updated upstream
     "execution_count": 5,
=======
     "execution_count": 11,
>>>>>>> Stashed changes
     "metadata": {},
     "output_type": "execute_result"
    }
   ],
   "source": [
    "#(totaltime of ms1, totaltime of ms2) ... in tenths of seconds\n",
    "#if two videos \n",
    "#(len(predictions[0]), len(predictions[1]))\n",
    "\n",
    "len(predictions[0]), \"tenths of seconds in video\"\n",
    "\n",
    "#sns.barplot(data=df, x=\"behavior\", y=\"animal\")"
   ]
  },
  {
   "cell_type": "code",
<<<<<<< Updated upstream
   "execution_count": 6,
=======
   "execution_count": 13,
>>>>>>> Stashed changes
   "metadata": {},
   "outputs": [
    {
     "data": {
      "text/html": [
       "<div>\n",
       "<style scoped>\n",
       "    .dataframe tbody tr th:only-of-type {\n",
       "        vertical-align: middle;\n",
       "    }\n",
       "\n",
       "    .dataframe tbody tr th {\n",
       "        vertical-align: top;\n",
       "    }\n",
       "\n",
       "    .dataframe thead th {\n",
       "        text-align: right;\n",
       "    }\n",
       "</style>\n",
       "<table border=\"1\" class=\"dataframe\">\n",
       "  <thead>\n",
       "    <tr style=\"text-align: right;\">\n",
       "      <th></th>\n",
       "      <th>animal</th>\n",
       "      <th>behavior</th>\n",
       "    </tr>\n",
       "  </thead>\n",
       "  <tbody>\n",
       "    <tr>\n",
       "      <th>0</th>\n",
       "      <td>12052023-152404</td>\n",
       "      <td>5.0</td>\n",
       "    </tr>\n",
       "    <tr>\n",
       "      <th>1</th>\n",
       "      <td>12052023-152404</td>\n",
       "      <td>5.0</td>\n",
       "    </tr>\n",
       "    <tr>\n",
       "      <th>2</th>\n",
       "      <td>12052023-152404</td>\n",
       "      <td>5.0</td>\n",
       "    </tr>\n",
       "    <tr>\n",
       "      <th>3</th>\n",
       "      <td>12052023-152404</td>\n",
       "      <td>5.0</td>\n",
       "    </tr>\n",
       "    <tr>\n",
       "      <th>4</th>\n",
       "      <td>12052023-152404</td>\n",
       "      <td>3.0</td>\n",
       "    </tr>\n",
       "    <tr>\n",
       "      <th>...</th>\n",
       "      <td>...</td>\n",
       "      <td>...</td>\n",
       "    </tr>\n",
       "    <tr>\n",
       "      <th>39822</th>\n",
       "      <td>12052023-152404</td>\n",
       "      <td>5.0</td>\n",
       "    </tr>\n",
       "    <tr>\n",
       "      <th>39823</th>\n",
       "      <td>12052023-152404</td>\n",
       "      <td>5.0</td>\n",
       "    </tr>\n",
       "    <tr>\n",
       "      <th>39824</th>\n",
       "      <td>12052023-152404</td>\n",
       "      <td>5.0</td>\n",
       "    </tr>\n",
       "    <tr>\n",
       "      <th>39825</th>\n",
       "      <td>12052023-152404</td>\n",
       "      <td>5.0</td>\n",
       "    </tr>\n",
       "    <tr>\n",
       "      <th>39826</th>\n",
       "      <td>12052023-152404</td>\n",
       "      <td>5.0</td>\n",
       "    </tr>\n",
       "  </tbody>\n",
       "</table>\n",
       "<p>39827 rows × 2 columns</p>\n",
       "</div>"
      ],
      "text/plain": [
       "                animal  behavior\n",
       "0      12052023-152404       5.0\n",
       "1      12052023-152404       5.0\n",
       "2      12052023-152404       5.0\n",
       "3      12052023-152404       5.0\n",
       "4      12052023-152404       3.0\n",
       "...                ...       ...\n",
       "39822  12052023-152404       5.0\n",
       "39823  12052023-152404       5.0\n",
       "39824  12052023-152404       5.0\n",
       "39825  12052023-152404       5.0\n",
       "39826  12052023-152404       5.0\n",
       "\n",
       "[39827 rows x 2 columns]"
      ]
     },
<<<<<<< Updated upstream
     "execution_count": 6,
=======
     "execution_count": 13,
>>>>>>> Stashed changes
     "metadata": {},
     "output_type": "execute_result"
    }
   ],
   "source": [
    "# for f in range(len(infiles)):\n",
    "data_dict = {'animal':np.hstack(([np.repeat(infiles[f].rpartition('_post')[0].rpartition('/')[2].rpartition(' 0-')[2], len(predictions[f])) \n",
    "                                  for f in range(len(infiles))])),\n",
    "             'behavior': np.hstack([predictions[f] for f in range(len(predictions))])}\n",
    "data_dict\n",
    "                                                                    \n",
    "df = pd.DataFrame(data = data_dict)\n",
    "df"
   ]
  },
  {
   "cell_type": "code",
<<<<<<< Updated upstream
   "execution_count": 7,
=======
   "execution_count": 20,
   "metadata": {
    "scrolled": true
   },
   "outputs": [
    {
     "data": {
      "image/png": "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\n",
      "text/plain": [
       "<Figure size 432x288 with 1 Axes>"
      ]
     },
     "metadata": {
      "needs_background": "light"
     },
     "output_type": "display_data"
    },
    {
     "name": "stdout",
     "output_type": "stream",
     "text": [
      "Count of '2' for 'AD6': 3140\n"
     ]
    }
   ],
   "source": [
    "import seaborn as sns\n",
    "import matplotlib.pyplot as plt\n",
    "\n",
    "# Update the name of the animal\n",
    "animal_name = \"AD6\"\n",
    "\n",
    "# Create the histplot\n",
    "sns.histplot(data=df, x=\"behavior\", hue=\"animal\", multiple=\"dodge\", shrink=.8)\n",
    "\n",
    "# Add title to the plot\n",
    "plt.title(\"Behavior Distribution by Animal\")\n",
    "\n",
    "# Display the plot\n",
    "plt.show()\n",
    "\n",
    "# Compute the count of the behavior of interest\n",
    "behavior_of_interest = 2\n",
    "count = df[df['behavior'] == behavior_of_interest].shape[0]\n",
    "\n",
    "# Print the count of the behavior of interest\n",
    "print(f\"Count of '{behavior_of_interest}' for '{animal_name}': {count}\")"
   ]
  },
  {
   "cell_type": "code",
   "execution_count": 21,
   "metadata": {},
   "outputs": [],
   "source": [
    "#original behavior distribution\n",
    "#sns.histplot(data=df, x=\"behavior\", hue=\"animal\", \n",
    "             #multiple=\"dodge\", shrink=.8)"
   ]
  },
  {
   "cell_type": "code",
   "execution_count": 22,
>>>>>>> Stashed changes
   "metadata": {},
   "outputs": [
    {
     "data": {
      "image/png": "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\n",
      "text/plain": [
       "<Figure size 432x288 with 1 Axes>"
      ]
     },
<<<<<<< Updated upstream
     "execution_count": 7,
     "metadata": {},
     "output_type": "execute_result"
    },
    {
     "data": {
      "image/png": "iVBORw0KGgoAAAANSUhEUgAAAZIAAAEGCAYAAABPdROvAAAAOXRFWHRTb2Z0d2FyZQBNYXRwbG90bGliIHZlcnNpb24zLjUuMSwgaHR0cHM6Ly9tYXRwbG90bGliLm9yZy/YYfK9AAAACXBIWXMAAAsTAAALEwEAmpwYAAAfzElEQVR4nO3dfZRU1Z3u8e9Dg7wIGEBwIQ1CBq7yjtAixBuiEgUxV3wX5UZz5Q5iyGiuE2c0WSaaNUxiVkaNiUJIZAnEEbgagXFQ8A29ZFTSKEEFVGbEdEuPvEhETECa+d0/6nRb3RRN26eri7afz1q1+tSvzj61t2A/nLNP7VJEYGZm1lCtCt0BMzNr3hwkZmaWioPEzMxScZCYmVkqDhIzM0uldaE70NSOP/746Nu3b6G7YWbWrKxbt25nRHTP9VqLC5K+fftSWlpa6G6YmTUrkt493Gu+tGVmZqk4SMzMLBUHiZmZpdLi5khyOXDgAOXl5ezbt6/QXbECaNeuHcXFxbRp06bQXTFrlhwkQHl5OZ06daJv375IKnR3rAlFBLt27aK8vJx+/foVujtmzZIvbQH79u2jW7duDpEWSBLdunXz2ahZCg6ShEOk5fKfvVk6DhIzM0vFQdICzZkzhwULFjTKsfr27cvOnTsb5Vhm1jx5sr0FmjFjRqG7YGYN1Kt3H7aVlzWo7YnFvXmv7I+N3KM8BomkdsALQNvkfR6JiB9I6gosBvoCW4HLI2J30uZWYBpwELghIlYm9VHAg0B7YAVwY0SEpLbAAmAUsAu4IiK25mtMR7MLL7yQsrIy9u3bx4033sj06dPp2LEjN954I48//jjt27dn2bJlnHDCCdx+++107NiR73znO5x55pmceuqprFu3jh07drBgwQJ+9KMf8dprr3HFFVfwD//wD4c9vpk1vW3lZVzxy39rUNvF132pkXuTkc9LW/uBsyNiODACmChpDHAL8ExEDACeSZ4jaRAwBRgMTATul1SUHGs2MB0YkDwmJvVpwO6I6A/cDdyZx/Ec1ebNm8e6desoLS3l3nvvZdeuXXz88ceMGTOGP/zhD4wbN45f/epXOdsec8wxvPDCC8yYMYPJkydz33338frrr/Pggw+ya9euwx7fzAzyGCSRsTd52iZ5BDAZmJ/U5wMXJtuTgUURsT8i3gG2AKMl9QQ6R8SLkfmC+QW12lQd6xFgvFroLTj33nsvw4cPZ8yYMZSVlfH2229zzDHH8LWvfQ2AUaNGsXXr1pxtL7jgAgCGDh3K4MGD6dmzJ23btuWLX/wiZWVlhz2+mRnkeY4kOaNYB/QH7ouIlyWdEBEVABFRIalHsnsv4KWs5uVJ7UCyXbte1aYsOValpA+BbkCN2V9J08mc0dCnT5/GG+BRYvXq1Tz99NO8+OKLdOjQgTPPPJN9+/bRpk2b6ltbi4qKqKyszNm+bdu2ALRq1ap6u+p5ZWXlYY9vZgZ5vmsrIg5GxAigmMzZxZA6ds91JhF11OtqU7sfcyOiJCJKunfPuZx+s/bhhx/SpUsXOnTowObNm3nppZeO3OgoOr6ZNW9NcvtvRPwJWE1mbuP95HIVyc/tyW7lQO+sZsXAtqRenKNeo42k1sBxwAf5GMPRbOLEiVRWVjJs2DBuu+02xowZ06yOb2bNmzLTDnk4sNQdOBARf5LUHlhFZjL8K8CuiPixpFuArhHxd5IGA/8MjAZOJDMRPyAiDkr6PfA3wMtk7tr6eUSskDQTGBoRMyRNAS6OiMvr6ldJSUnU/mKrTZs2MXDgwMYcvjUz/jtgzYWkVHdtNfR3vqR1EVGS67V8zpH0BOYn8yStgCUR8bikF4ElkqYBfwQuA4iINyQtATYClcDMiDiYHOt6Pr3994nkAfAAsFDSFjJnIlPyOB4zM8shb0ESERuAU3PUdwHjD9NmFjArR70UOGR+JSL2kQSRmZkVhpdIMTOzVBwkZmaWioPEzMxScZCYmVkqDpIcevXug6RGe/TqfeRP05eVlXHWWWcxcOBABg8ezM9+9jMAbr75Zk455RSGDRvGRRddxJ/+9KfqNj/60Y/o378/J598MitXrqyuT5w4keHDhzN48GBmzJjBwYOZm9/uuusuBg0axLBhwxg/fjzvvvtudZv58+czYMAABgwYwPz586vrU6dO5eSTT2bIkCFce+21HDhwAIBly5YxbNgwRowYQUlJCWvWrMk5rs2bNzN27Fjatm3LT3/60xqvXXvttfTo0YMhQ2reR3HbbbdVH/vcc89l27Zt1a9t2LCBsWPHMnjwYIYOHVr9Cft169YxdOhQ+vfvzw033FB9i2NdYzazxpG3z5EcrerzOZI092nnUp97tysqKqioqGDkyJF89NFHjBo1iqVLl1JeXs7ZZ59N69at+fu//3sA7rzzTjZu3MiVV17J2rVr2bZtG1/96ld56623KCoqYs+ePXTu3JmI4NJLL+Wyyy5jypQpPPfcc5x++ul06NCB2bNns3r1ahYvXswHH3xASUkJpaWlSGLUqFGsW7eOLl26sGLFCs477zwArrrqKsaNG8f111/P3r17OfbYY5HEhg0buPzyy9m8efMh49q+fTvvvvsuS5cupUuXLnznO9+pfu2FF16gY8eOXH311bz++uvV9ar+Q2aNr40bNzJnzhwqKysZOXIkCxcuZPjw4ezatYsvfOELFBUVMXr0aH72s58xZswYJk2axA033MB555132DHX5s+RWHNxNH6OxGckR4mePXsycuRIADp16sTAgQN57733OPfcc2ndOnOX9pgxYygvzyw7tmzZMqZMmULbtm3p168f/fv3Z+3atQDVv4QrKyv55JNPqtfbOuuss+jQocMhx1q5ciXnnHMOXbt2pUuXLpxzzjk8+eSTAEyaNKn6zGr06NHVbTp27Fh93I8//viwX1fbo0cPTjvtNNq0aXPIa+PGjaNr166H1Kv6X/vYq1atYtiwYQwfPhyAbt26UVRUREVFBXv27GHs2LFI4uqrr2bp0qV1jtnMGo+D5Ci0detWXn31VU4//fQa9Xnz5lWfHbz33nv07v3pijLFxcW899571c8nTJhAjx496NSpE5deeukh7/HAAw/U+1gABw4cYOHChUycOLG69thjj3HKKadw/vnnM2/evBQjPtT3vvc9evfuzUMPPcQPf/hDAN566y0kMWHCBEaOHMlPfvKT6v4XF3+6ik6u/kPNMZtZ43GQHGX27t3LJZdcwj333FPjX+azZs2idevWTJ06FSDn6Wn2WcHKlSupqKhg//79PPvsszX2+81vfkNpaSk333xzvY4F8M1vfpNx48bx5S9/ubp20UUXsXnzZpYuXcptt93WgNEe3qxZsygrK2Pq1Kn84he/ADJnWGvWrOGhhx5izZo1PPbYYzzzzDP16n/tMZtZ43GQHEUOHDjAJZdcwtSpU7n44our6/Pnz+fxxx/noYceqv4FWVxcXP1dIQDl5eWceOKJNY7Xrl07LrjgApYtW1Zde/rpp5k1axbLly+vXjL+SMe644472LFjB3fddVfOfo8bN45///d/Z+fOndx3332MGDGCESNG1Jgkb6irrrqKRx99tLqfX/nKVzj++OPp0KEDkyZN4pVXXqG4uLjGJava/c81ZjNrPA6So0REMG3aNAYOHMhNN91UXX/yySe58847Wb58efW1fsh8GdWiRYvYv38/77zzDm+//TajR49m7969VFRUAJl/wa9YsYJTTjkFgFdffZXrrruO5cuX06NHj+pjTZgwgVWrVrF79252797NqlWrmDBhAgC//vWvWblyJQ8//DCtWn3612XLli3VZwKvvPIKn3zyCd26dWPmzJmsX7+e9evXHxJs9ZX9pVnLly+v7v+ECRPYsGEDf/7zn6msrOT5559n0KBB9OzZk06dOvHSSy8RESxYsIDJkyfXOWYzazx5/WKr5urE4t6N+t3GJxb3PuI+v/vd71i4cCFDhw5lxIgRAPzjP/4jN9xwA/v37+ecc84BMhPGc+bMYfDgwVx++eUMGjSI1q1bc99991FUVMTHH3/MBRdcwP79+zl48CBnn302M2bMADK3Eu/du5fLLsssT9anTx+WL19O165due222zjttNMA+P73v189CT5jxgxOOukkxo4dC8DFF1/M97//fR599FEWLFhAmzZtaN++PYsXL8454f6f//mflJSUsGfPHlq1asU999zDxo0b6dy5M1deeSWrV69m586dFBcXc8cddzBt2jRuueUW3nzzTVq1asVJJ53EnDlzAOjSpQs33XQTp512GpKYNGkS559/PgCzZ8/mG9/4Bn/5y18477zzqudCDjdmM2s8vv0X3/pp/jtgzYdv/zUzs88dB4mZmaXiIEm0tEt89in/2Zul4yAhc5vsrl27/AulBYoIdu3aRbt27QrdFbNmy3dtQfXnEHbs2FHorlgBtGvXrsYn483ss3GQAG3atKFfv36F7oaZWbPkS1tmZpaKg8TMzFJxkJiZWSoOEjMzS8VBYmZmqThIzMwslbwFiaTekp6TtEnSG5JuTOq3S3pP0vrkMSmrza2Stkh6U9KErPooSa8lr92rZJlZSW0lLU7qL0vqm6/xmJlZbvk8I6kE/jYiBgJjgJmSBiWv3R0RI5LHCoDktSnAYGAicL+komT/2cB0YEDyqPq+12nA7ojoD9wN3JnH8ZiZWQ55C5KIqIiIV5Ltj4BNQK86mkwGFkXE/oh4B9gCjJbUE+gcES9GZg2TBcCFWW3mJ9uPAOOrzlbMzKxpNMkcSXLJ6VTg5aT0LUkbJM2T1CWp9QLKspqVJ7VeyXbteo02EVEJfAh0y/H+0yWVSir1MihmZo0r70EiqSPwKPDtiNhD5jLVXwEjgArgn6p2zdE86qjX1aZmIWJuRJREREn37t0/2wDMzKxOeQ0SSW3IhMhDEfFbgIh4PyIORsR/Ab8CRie7lwPZ30lbDGxL6sU56jXaSGoNHAd8kJ/RmJlZLvm8a0vAA8CmiLgrq94za7eLgNeT7eXAlOROrH5kJtXXRkQF8JGkMckxrwaWZbW5Jtm+FHg2vBa8mVmTyufqv2cAXwdek7Q+qX0XuFLSCDKXoLYC1wFExBuSlgAbydzxNTMiDibtrgceBNoDTyQPyATVQklbyJyJTMnjeMzMLIe8BUlErCH3HMaKOtrMAmblqJcCQ3LU9wGXpeimmZml5E+2m5lZKg4SMzNLxUFiZmapOEjMzCwVB4mZmaXiIDEzs1QcJGZmloqDxMzMUnGQmJlZKg4SMzNLxUFiZmapOEjMzCwVB4mZmaXiIDEzs1QcJGZmloqDxMzMUnGQmJlZKg4SMzNLxUFiZmapOEjMzCwVB4mZmaXiIDEzs1QcJGZmloqDxMzMUnGQmJlZKnkLEkm9JT0naZOkNyTdmNS7SnpK0tvJzy5ZbW6VtEXSm5ImZNVHSXotee1eSUrqbSUtTuovS+qbr/GYmVlu+TwjqQT+NiIGAmOAmZIGAbcAz0TEAOCZ5DnJa1OAwcBE4H5JRcmxZgPTgQHJY2JSnwbsjoj+wN3AnXkcj5mZ5ZC3IImIioh4Jdn+CNgE9AImA/OT3eYDFybbk4FFEbE/It4BtgCjJfUEOkfEixERwIJabaqO9QgwvupsxczMmkaTzJEkl5xOBV4GToiICsiEDdAj2a0XUJbVrDyp9Uq2a9drtImISuBDoFuO958uqVRS6Y4dOxppVGZmBk0QJJI6Ao8C346IPXXtmqMWddTralOzEDE3IkoioqR79+5H6rKZmX0GeQ0SSW3IhMhDEfHbpPx+crmK5Of2pF4O9M5qXgxsS+rFOeo12khqDRwHfND4IzEzs8PJ511bAh4ANkXEXVkvLQeuSbavAZZl1ackd2L1IzOpvja5/PWRpDHJMa+u1abqWJcCzybzKGZm1kRa5/HYZwBfB16TtD6pfRf4MbBE0jTgj8BlABHxhqQlwEYyd3zNjIiDSbvrgQeB9sATyQMyQbVQ0hYyZyJT8jgeMzPLIW9BEhFryD2HATD+MG1mAbNy1EuBITnq+0iCyMzMCsOfbDczs1QcJGZmloqDxMzMUnGQmJlZKg4SMzNLxUFiZmapOEjMzCwVB4mZmaVSryCRdEZ9amZm1vLU94zk5/WsmZlZC1PnEimSxgJfArpLuinrpc5AUe5WZmbWkhxpra1jgI7Jfp2y6nvIrLZrZmYtXJ1BEhHPA89LejAi3m2iPpmZWTNS39V/20qaC/TNbhMRZ+ejU2Zm1nzUN0j+LzAH+DVw8Aj7mplZC1LfIKmMiNl57YmZmTVL9b39918kfVNST0ldqx557ZmZmTUL9T0jqfpe9JuzagF8sXG7Y2ZmzU29giQi+uW7I2Zm1jzVK0gkXZ2rHhELGrc7ZmbW3NT30tZpWdvtgPHAK4CDxMyshavvpa2/yX4u6ThgYV56ZGZmzUpDl5H/MzCgMTtiZmbNU33nSP6FzF1akFmscSCwJF+dMjOz5qO+cyQ/zdquBN6NiPK6GkiaB3wN2B4RQ5La7cBfAzuS3b4bESuS124FppH55PwNEbEyqY8CHgTaAyuAGyMiJLUlM0czCtgFXBERW+s5HjMzayT1urSVLN64mcwKwF2AT+rR7EFgYo763RExInlUhcggYAowOGlzv6SqZepnA9PJXEobkHXMacDuiOgP3A3cWZ+xmJlZ46rvNyReDqwFLgMuB16WVOcy8hHxAvBBPfsxGVgUEfsj4h1gCzBaUk+gc0S8GBFB5gzkwqw285PtR4DxklTP9zMzs0ZS30tb3wNOi4jtAJK6A0+T+QX+WX0r+VxKKfC3EbEb6AW8lLVPeVI7kGzXrpP8LAOIiEpJHwLdgJ2131DSdDJnNfTp06cBXTYzs8Op711brapCJLHrM7TNNhv4K2AEUAH8U1LPdSYRddTranNoMWJuRJREREn37t0/U4fNzKxu9T0jeVLSSuDh5PkVZCa+P5OIeL9qW9KvgMeTp+VA76xdi4FtSb04Rz27Tbmk1sBx1P9SmpmZNZI6zyok9Zd0RkTcDPwSGAYMB14E5n7WN0vmPKpcBLyebC8HpkhqK6kfmUn1tRFRAXwkaUwy/3E1sCyrTdVikpcCzybzKGZm1oSOdEZyD/BdgIj4LfBbAEklyWv/43ANJT0MnAkcL6kc+AFwpqQRZC5BbQWuS479hqQlwEYytxfPjIiqL9C6nk9v/30ieQA8ACyUtIXMmciU+gzYzMwa15GCpG9EbKhdjIhSSX3rahgRV+YoP1DH/rOAWbneCxiSo76PzF1kZmZWQEeaMG9Xx2vtG7MjZmbWPB0pSH4v6a9rFyVNA9blp0tmZtacHOnS1reBxyRN5dPgKAGOITNZbmZmLVydQZLcrvslSWfx6TzFv0bEs3nvmZmZNQv1/T6S54Dn8twXMzNrhhr6fSRmZmaAg8TMzFJykJiZWSoOEjMzS8VBYmZmqThIzMwsFQeJmZml4iAxM7NUHCRmZpaKg8TMzFJxkJiZWSoOEjMzS8VBYmZmqThIzMwsFQeJmZml4iAxM7NUHCRmZpaKg8TMzFJxkJiZWSoOEjMzSyVvQSJpnqTtkl7PqnWV9JSkt5OfXbJeu1XSFklvSpqQVR8l6bXktXslKam3lbQ4qb8sqW++xmJmZoeXzzOSB4GJtWq3AM9ExADgmeQ5kgYBU4DBSZv7JRUlbWYD04EByaPqmNOA3RHRH7gbuDNvIzEzs8PKW5BExAvAB7XKk4H5yfZ84MKs+qKI2B8R7wBbgNGSegKdI+LFiAhgQa02Vcd6BBhfdbZiZmZNp6nnSE6IiAqA5GePpN4LKMvarzyp9Uq2a9drtImISuBDoFuuN5U0XVKppNIdO3Y00lDMzAyOnsn2XGcSUUe9rjaHFiPmRkRJRJR07969gV00M7NcmjpI3k8uV5H83J7Uy4HeWfsVA9uSenGOeo02kloDx3HopTQzM8uzpg6S5cA1yfY1wLKs+pTkTqx+ZCbV1yaXvz6SNCaZ/7i6VpuqY10KPJvMo5iZWRNqna8DS3oYOBM4XlI58APgx8ASSdOAPwKXAUTEG5KWABuBSmBmRBxMDnU9mTvA2gNPJA+AB4CFkraQOROZkq+xmJnZ4eUtSCLiysO8NP4w+88CZuWolwJDctT3kQSRmZkVztEy2W5mZs2Ug8TMzFJxkJiZWSoOEjMzS8VBYmZmqThIzMwsFQeJmZml4iAxM7NUHCRmZpaKg8TMzFJxkJiZWSoOEjMzS8VBYmZmqThIzMwsFQeJmZml4iAxM7NUHCRmZpaKg8TMzFJxkJiZWSoOEjMzS8VBYmZmqThIzMwsFQeJmZml4iAxM7NUHCRmZpZKQYJE0lZJr0laL6k0qXWV9JSkt5OfXbL2v1XSFklvSpqQVR+VHGeLpHslqRDjMTNryQp5RnJWRIyIiJLk+S3AMxExAHgmeY6kQcAUYDAwEbhfUlHSZjYwHRiQPCY2Yf/NzIyj69LWZGB+sj0fuDCrvigi9kfEO8AWYLSknkDniHgxIgJYkNXGzMyaSKGCJIBVktZJmp7UToiICoDkZ4+k3gsoy2pbntR6Jdu164eQNF1SqaTSHTt2NOIw7GjXq3cfJH3mR6/efQrddbNmo3WB3veMiNgmqQfwlKTNdeyba94j6qgfWoyYC8wFKCkpybmPfT5tKy/jil/+22dut/i6L+WhN2afTwU5I4mIbcnP7cBjwGjg/eRyFcnP7cnu5UDvrObFwLakXpyjbmZmTajJg0TSsZI6VW0D5wKvA8uBa5LdrgGWJdvLgSmS2krqR2ZSfW1y+esjSWOSu7WuzmpjZmZNpBCXtk4AHkvu1G0N/HNEPCnp98ASSdOAPwKXAUTEG5KWABuBSmBmRBxMjnU98CDQHngieZiZWRNq8iCJiP8Ahueo7wLGH6bNLGBWjnopMKSx+2hmZvV3NN3+a2ZmzZCDxMzMUnGQmJlZKg4SMzNLxUFiZmapOEjMzCwVB4mZmaXiIDEzs1QcJGZmloqDxMzMUnGQmJlZKg4SMzNLxUFiZmapOEjMzCwVB4kB/m5zM2u4Qn1ne7PUq3cftpWXNajticW9ea/sj43co8bj7zY3s4ZykHwGDf1lC/6Fa2afX760ZWZmqThIzMwsFQeJmZml4iAxM7NUHCRmZpaKg8TMzFJxkJiZWSoOEjMzS6XZB4mkiZLelLRF0i2F7o+ZWUvTrINEUhFwH3AeMAi4UtKgwvbKzKxladZBAowGtkTEf0TEJ8AiYHKB+2TWbDR0sc7msGCnFyJtOoqIQvehwSRdCkyMiP+dPP86cHpEfKvWftOB6cnTk4E3j3Do44Gdjdzd5qAljrsljhk87pakscZ8UkR0z/VCc1+0UTlqhyRjRMwF5tb7oFJpRJSk6Vhz1BLH3RLHDB53ofvRlJpizM390lY50DvreTGwrUB9MTNrkZp7kPweGCCpn6RjgCnA8gL3ycysRWnWl7YiolLSt4CVQBEwLyLeaIRD1/sy2OdMSxx3SxwzeNwtSd7H3Kwn283MrPCa+6UtMzMrMAeJmZml4iCppSUuuSJpnqTtkl4vdF+aiqTekp6TtEnSG5JuLHSf8k1SO0lrJf0hGfMdhe5TU5JUJOlVSY8Xui9NRdJWSa9JWi+pNG/v4zmSTyVLrrwFnEPm1uLfA1dGxMaCdizPJI0D9gILImJIofvTFCT1BHpGxCuSOgHrgAs/z3/WkgQcGxF7JbUB1gA3RsRLBe5ak5B0E1ACdI6IrxW6P01B0lagJCLy+iFMn5HU1CKXXImIF4APCt2PphQRFRHxSrL9EbAJ6FXYXuVXZOxNnrZJHi3iX5KSioHzgV8Xui+fRw6SmnoBZVnPy/mc/3IxkNQXOBV4ucBdybvk8s56YDvwVER87secuAf4O+C/CtyPphbAKknrkqWi8sJBUlO9llyxzw9JHYFHgW9HxJ5C9yffIuJgRIwgswrEaEmf+0uZkr4GbI+IdYXuSwGcEREjyayQPjO5jN3oHCQ1ecmVFiSZJ3gUeCgiflvo/jSliPgTsBqYWNieNIkzgAuS+YJFwNmSflPYLjWNiNiW/NwOPEbm8n2jc5DU5CVXWohk4vkBYFNE3FXo/jQFSd0lfSHZbg98Fdhc0E41gYi4NSKKI6Ivmf+nn42I/1ngbuWdpGOTG0mQdCxwLpCXOzMdJFkiohKoWnJlE7CkkZZcOapJehh4EThZUrmkaYXuUxM4A/g6mX+drk8ekwrdqTzrCTwnaQOZfzQ9FREt5lbYFugEYI2kPwBrgX+NiCfz8Ua+/dfMzFLxGYmZmaXiIDEzs1QcJGZmloqDxMzMUnGQmJlZKg4SswaQ1PezrJYsabWkkkZ43xJJ96Y9jlljatZftWvW0kREKVDv5cAltU4+H2WWNz4jMWu41pLmS9og6RFJHSSNkvR8skjeymS5+iqXJd8H8pakL0P1mc3/k/RK8vhSUl+c/QFJSQ9KukTSmVXfpyGpq6Slyfu/JGlYUr9d0lxJq4AFTfefw1oqB4lZw50MzI2IYcAeYCbwc+DSiBgFzANmZe3fOiJGA98GfpDUtgPnJAvrXQFUXbZalDwnWa5nPLCi1vvfAbyavP93qRkao4DJEXFVI4zTrE6+tGXWcGUR8btk+zdkfpkPAZ7KLOVFEVCRtX/VwpDrgL7JdhvgF5JGAAeB/5bUnwDuldSWzMKKL0TEX5LjVvnvwCUAEfGspG6SjkteWx4Rf2mMQZodiYPErOFqry/0EfBGRIw9zP77k58H+fT/vf8DvA8MJ3OFYB9AROyTtBqYQObM5OEcx6vraw8+rkf/zRqFL22ZNVwfSVWhcSXwEtC9qiapjaTBRzjGcUBFRPwXmUUki7JeWwT8L+DLZBYSre0FYGryXmcCO1vCd6rY0cdBYtZwm4BrktV0u5LMjwB3Jiuurge+dIRj3J8c4yUyl7WyzyRWAeOAp5Ovfq7tdqAkef8fA9c0fChmDefVf83MLBWfkZiZWSoOEjMzS8VBYmZmqThIzMwsFQeJmZml4iAxM7NUHCRmZpbK/wf3xlKHVcwVCwAAAABJRU5ErkJggg==\n",
      "text/plain": [
       "<Figure size 432x288 with 1 Axes>"
      ]
     },
     "metadata": {
      "needs_background": "light"
     },
     "output_type": "display_data"
=======
     "metadata": {
      "needs_background": "light"
     },
     "output_type": "display_data"
    },
    {
     "name": "stdout",
     "output_type": "stream",
     "text": [
      "Probability of '2': 0.0788409872699425\n"
     ]
>>>>>>> Stashed changes
    }
   ],
   "source": [
    "import seaborn as sns\n",
    "import matplotlib.pyplot as plt\n",
    "\n",
    "# Create the histplot with probability\n",
    "sns.histplot(data=df, x=\"behavior\", stat='probability', multiple=\"dodge\", shrink=.8)\n",
    "\n",
    "# Add title to the plot\n",
    "plt.title(\"Behavior Distribution Probability\")\n",
    "\n",
    "# Display the plot\n",
    "plt.show()\n",
    "\n",
    "# Compute and print the probability of the behavior of interest\n",
    "behavior_of_interest = 2\n",
    "behavior_count = df[df['behavior'] == behavior_of_interest].shape[0]\n",
    "total_count = df.shape[0]\n",
    "probability = behavior_count / total_count\n",
    "\n",
    "print(f\"Probability of '{behavior_of_interest}': {probability}\")"
   ]
  },
  {
   "cell_type": "code",
<<<<<<< Updated upstream
   "execution_count": 8,
   "metadata": {},
   "outputs": [
    {
     "data": {
      "text/plain": [
       "<AxesSubplot:xlabel='behavior', ylabel='Probability'>"
      ]
     },
     "execution_count": 8,
     "metadata": {},
     "output_type": "execute_result"
    },
    {
     "data": {
      "image/png": "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\n",
      "text/plain": [
       "<Figure size 432x288 with 1 Axes>"
      ]
     },
     "metadata": {
      "needs_background": "light"
     },
     "output_type": "display_data"
    }
   ],
=======
   "execution_count": 23,
   "metadata": {},
   "outputs": [],
>>>>>>> Stashed changes
   "source": [
    "#original probability calculation \n",
    "#sns.histplot(data=df, x=\"behavior\",\n",
    "             #stat='probability',\n",
    "             #multiple=\"dodge\", shrink=.8)"
   ]
  },
  {
   "cell_type": "code",
<<<<<<< Updated upstream
   "execution_count": 9,
   "metadata": {},
=======
   "execution_count": 24,
   "metadata": {
    "scrolled": true
   },
>>>>>>> Stashed changes
   "outputs": [
    {
     "data": {
      "text/html": [
       "<div>\n",
       "<style scoped>\n",
       "    .dataframe tbody tr th:only-of-type {\n",
       "        vertical-align: middle;\n",
       "    }\n",
       "\n",
       "    .dataframe tbody tr th {\n",
       "        vertical-align: top;\n",
       "    }\n",
       "\n",
       "    .dataframe thead th {\n",
       "        text-align: right;\n",
       "    }\n",
       "</style>\n",
       "<table border=\"1\" class=\"dataframe\">\n",
       "  <thead>\n",
       "    <tr style=\"text-align: right;\">\n",
       "      <th></th>\n",
       "      <th>time</th>\n",
       "      <th>locomotion count</th>\n",
       "    </tr>\n",
       "  </thead>\n",
       "  <tbody>\n",
       "    <tr>\n",
       "      <th>165</th>\n",
       "      <td>165</td>\n",
       "      <td>2.0</td>\n",
       "    </tr>\n",
       "    <tr>\n",
       "      <th>166</th>\n",
       "      <td>166</td>\n",
       "      <td>2.0</td>\n",
       "    </tr>\n",
       "    <tr>\n",
       "      <th>182</th>\n",
       "      <td>182</td>\n",
       "      <td>2.0</td>\n",
       "    </tr>\n",
       "    <tr>\n",
       "      <th>183</th>\n",
       "      <td>183</td>\n",
       "      <td>2.0</td>\n",
       "    </tr>\n",
       "    <tr>\n",
       "      <th>184</th>\n",
       "      <td>184</td>\n",
       "      <td>2.0</td>\n",
       "    </tr>\n",
       "    <tr>\n",
       "      <th>...</th>\n",
       "      <td>...</td>\n",
       "      <td>...</td>\n",
       "    </tr>\n",
       "    <tr>\n",
       "      <th>39671</th>\n",
       "      <td>39671</td>\n",
       "      <td>2.0</td>\n",
       "    </tr>\n",
       "    <tr>\n",
       "      <th>39722</th>\n",
       "      <td>39722</td>\n",
       "      <td>2.0</td>\n",
       "    </tr>\n",
       "    <tr>\n",
       "      <th>39723</th>\n",
       "      <td>39723</td>\n",
       "      <td>2.0</td>\n",
       "    </tr>\n",
       "    <tr>\n",
       "      <th>39724</th>\n",
       "      <td>39724</td>\n",
       "      <td>2.0</td>\n",
       "    </tr>\n",
       "    <tr>\n",
       "      <th>39725</th>\n",
       "      <td>39725</td>\n",
       "      <td>2.0</td>\n",
       "    </tr>\n",
       "  </tbody>\n",
       "</table>\n",
       "<p>3140 rows × 2 columns</p>\n",
       "</div>"
      ],
      "text/plain": [
       "        time  locomotion count\n",
       "165      165               2.0\n",
       "166      166               2.0\n",
       "182      182               2.0\n",
       "183      183               2.0\n",
       "184      184               2.0\n",
       "...      ...               ...\n",
       "39671  39671               2.0\n",
       "39722  39722               2.0\n",
       "39723  39723               2.0\n",
       "39724  39724               2.0\n",
       "39725  39725               2.0\n",
       "\n",
       "[3140 rows x 2 columns]"
      ]
     },
     "execution_count": 9,
     "metadata": {},
     "output_type": "execute_result"
    }
   ],
   "source": [
    "#behavior plot over time for ms1 only \n",
    "\n",
    "ms1 = predictions[0]\n",
    "data_dict2 = {'time': np.hstack([f for f in range(len(predictions[0]))]),\n",
    "              'locomotion count': np.hstack([predictions[0][f] for f in range(len(ms1))])}\n",
    "\n",
    "df2 = pd.DataFrame(data= data_dict2) \n",
    "#Keep only the rows that include the behavior of interest \n",
    "behav_interest = 2\n",
    "df3 = df2.loc[df2[\"locomotion count\"] == behav_interest]\n",
    "df3"
   ]
  },
  {
   "cell_type": "code",
<<<<<<< Updated upstream
   "execution_count": 19,
=======
   "execution_count": 25,
   "metadata": {
    "scrolled": false
   },
   "outputs": [
    {
     "data": {
      "image/png": "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\n",
      "text/plain": [
       "<Figure size 432x288 with 1 Axes>"
      ]
     },
     "metadata": {
      "needs_background": "light"
     },
     "output_type": "display_data"
    }
   ],
   "source": [
    "import seaborn as sns\n",
    "\n",
    "sns.histplot(data=df3, x='time',\n",
    "             stat='count',\n",
    "             multiple='dodge', shrink=.6, bins=13)\n",
    "\n",
    "# Set the x-axis limits\n",
    "plt.xlim(0, 40000)\n",
    "\n",
    "# Show the plot\n",
    "plt.show()"
   ]
  },
  {
   "cell_type": "code",
   "execution_count": 26,
   "metadata": {},
   "outputs": [
    {
     "name": "stdout",
     "output_type": "stream",
     "text": [
      "Index(['time', 'locomotion count'], dtype='object')\n"
     ]
    }
   ],
   "source": [
    "print(df3.columns)"
   ]
  },
  {
   "cell_type": "code",
   "execution_count": 27,
   "metadata": {
    "scrolled": true
   },
   "outputs": [
    {
     "data": {
      "image/png": "iVBORw0KGgoAAAANSUhEUgAAAZUAAAEWCAYAAACufwpNAAAAOXRFWHRTb2Z0d2FyZQBNYXRwbG90bGliIHZlcnNpb24zLjUuMSwgaHR0cHM6Ly9tYXRwbG90bGliLm9yZy/YYfK9AAAACXBIWXMAAAsTAAALEwEAmpwYAAAbAUlEQVR4nO3debQkZZ2n8ecrqwrKVmABdhcqKjTHtVzApW3RbkBbYI4oriUHG3vc9ynkqHhm8OCMw2C3W9Nu5dIquLQorl1uYw+CBYJSXSCiiEhZVZYCpdgo8Js/Ii4k13tv5a0buVU9n3PuycxYMn4ZNzO/EW9EvpGqQpKkLtxl1AVIkrYehookqTOGiiSpM4aKJKkzhookqTOGiiSpM4bKBEjy3iRv7HPaDyX5H4OuaRwleUOS97X3lySpJNuPui7Ytv4v83m/bsFzX53kSVs47+OSXNF1TbozQ2UMtB+U3yf5bZJftl9Au0yNr6q/r6r/3tGyKsn9Zhn3hraG3yb5zyS39jxe3cXyt6SuflXVW6vqhVuw7CckuXYhy16oJIuTvD/J2iSbklye5C1J7j7g5Z6a5KObmeaxSf5fkhuS/DrJvyd5RDvuBUm+0zt9l+/XhZj+nqqq/1tVDxhlTdsCQ2V8/G1V7QI8BHgocPKwC2i/lHdp6/h74Pypx1X1F/0+z7jsHQzLQl9vkj2A84G7AodW1a7Ak4HdgPsuuMAFSHIP4AvAPwJ7APsBbwFuHmVdGl+Gypipql8CX6EJF+BPm06SvL7dor0uyQtn2MrfPcl57RbvBUnu28737Xb8pe3exzP7rWv6MnprmtrST/LfkvwS+GC7BXx2kg+3daxOsrTPZT0yyaokNyZZl+SMdvhUk9ZJ7Wtfm+Q1PfPNutWd5IQka9pafpLkRe3wuwNfAvbt2SvbN8ldkixPclWSje1r2WNaHScmuQb4ejv8nHZP84Yk307SbxC/GtgEPLeqrgaoqp9X1Suq6gftcx+W5Hvtc38vyWE9r+1OTUK966Gn1mVJrknyqySntOOOAN4APLN93ZfOUNv923o+XlW3VtXvq+qrVfWDJAcB7wUObee/vn3emd4br0+yvv2fHZPkqCQ/avd83tBT+/T3+qx7ke375Pwk17fP+84kO7bj/uS9Pv25khyU5Jvt/KuTPG1aHe+a6XOkuRkqYybJ/sCRwI9nGX8EzZfQk4D7AX85w2TPotma3L19ntMAqurx7fgHt3sfn+yw9HvRbMn+OXBSO+xpwCdotrjPBd7Z53O9A3hHVd2DZkv97Gnj/wo4EPhrYHn6a2NfDzwVuAdwAvB/kjysqn5Hs76v69kruw54OXAMzfrdF/gN8K5pz/mXwEHA37SPv9TWtTdwMfCxPl/vk4DPVNVtM41sw+w84B+APYEzgPOS7Nnn8wM8FngAcDjwpiQHVdWXgbcCn2xf94NnmO9HwK1JViQ5MsnuUyOqag133qPdbZZl3wvYmWYv503APwPPBR4OPK6t5z7zeC1TbgVeBewFHNq+the3tc35Xk+yA/B54Ks0/6+XAR9L0ts8NuPnSHMzVMbHvybZBPyc5gvwzbNM9wzgg1W1uqpuonnTT/eZqrqwqm6h+WJ7yCAKnuY24M1VdXNV/b4d9p2q+mJV3Qp8BJjpS2smfwTul2SvqvptVX132vi3VNXvquqHwAdpPvxzqqrzquqqanyL5svkcXPM8iLglKq6tqpuBk4Fnp47N3Wd2tbx+3YZH6iqTT3TPzjJPft4vXsCa+cY/xTgyqr6SFXdUlUfBy4H/raP557ylnYv41LgUvr8X1TVjTSBVDRhsCHJuUn2mcey/wicVlV/pNnI2Itmo2FTVa0GVgMPmsfzTdV2UVV9t10nVwP/xMwbWTN5NLALcHpV/aGqvk7TzNf7XhrF52jiGSrj45i2Lf0JwANpPngz2ZcmeKb8fIZpftlz/yaaD8+gbaiq/9xMHTunv+MPJ9I0u1zeNvU8ddr43tf8M5p1Mqd2K/u7bXPL9cBRzL6Oodnj+mzbNHI9sIZmy7j3y/T2OpJsl+T0trnsRuDqdtRcy5iyEVg8x/h9aV5nr5/RbPn3a4vfE1W1pqpeUFX7A4e09Zw5j2VvbDcsAKY2ONb1jP/9fOqZkuT+Sb7QNjneSLPX1c/6hvZzNG3vcPo6HcXnaOIZKmOm3Yr+EPD2WSZZC+zf8/jeg66pdRNwt57H95o2vrPurqvqyqp6Fk2zxNuAT+XOZ0H1vuY/A66b6/mS7AR8mmad7tM203wRyNQiZ5jt58CRVbVbz9/OVfWL3lJ77j8bOJqmKeuewJKpxc9VW+vfgGOTzPZ5vI4m5Hr9GTBVy++Y+38zl3n936rqcpr35yFbMn8f5vNa3kOzx3Zg21T6Bvpb39Cs03tPW+e961RbyFAZT2cCT07ykBnGnQ2c0B5kvBtNG/V8rAO2pP36EuDZ7Rb5EfTfzDBvSZ6bZFG7FXl9O/jWnknemORu7YHwE4DNHRvaEdgJ2ADckuRImuMxU9YBe05rqnovcFqSP29rWpTk6DmWsSvNGVEbab4U37qZmnqdQXOsZ0XP8vZLckaSB9EE4P2TPDvJ9mlOsDiYprkGmv/N8Ul2SHMyxNPnsex1wJLZAi3JA5O8pj3WR5J70zQRfbdn/v2nDpB34BLgqCR7JLkX8Mo5pt0VuBH4bZIHAv912vi53usX0ATY69v19gSa5sRPbHHlAgyVsVRVG4APA3/yA7Kq+hLNAdtv0Bw8PL8d1e8pnqfSfHldn+QZ8yjrFTQfuuuB5wD/Oo955+sIYHWS39IctD9+WtPat2he+0rg7VX11bmerKo20Rx4P5vmgPuzaU4cmBp/OfBx4Cftetm3Xe65wFfbY13fBR41x2I+TNN88gvgP7jjS3ezqurXwGE0xx4uaJe3ErgB+HFVbaQ5yeA1NKH1euCpVfWr9ineSHNCw29ojrH9S7/LBs5pbzcmuXiG8ZtoXvcFSX7Xvq7L2lqgOfNtNfDLJL+aYf75+gjNMZ+raY57zbXB8Fqa/+UmmuM906c9lVne61X1B5oTSY4EfgW8G3h++17QAsSLdE22NKd1Xgbs1B5Q3GolWQL8FNhha3+t0qRyT2UCJTk2yY7t6Z1vAz7vl6ykcWCoTKYX0RwfuIrmWMP0tmRJGgmbvyRJnXFPRZLUmYnu+G+vvfaqJUuWjLoMSZooF1100a+qatEgnntgoZLkAzSnQa6vqkPaYXvQnPa3hOaUwWdU1W/acSfT/JL6VuDlVfWVzS1jyZIlrFq1aiD1S9LWKsn0Hho6M8jmrw/R/N6g13JgZVUdSHMe/nKAJAcDxwN/0c7z7iTbDbA2SdIADCxUqurbwK+nDT4aWNHeX0HTC+zU8E+0nRH+lOaHbY8cVG2SpMEY9oH6fapqLUB7u3c7fD/u3EngtczSWV6aa2msSrJqw4YNAy1WkjQ/43L210ydwM14rnNVnVVVS6tq6aJFAznOJEnaQsMOlXVJFkNzTW6a64ZAs2fS2/Ps/mym51lJ0vgZdqicCyxr7y8DPtcz/PgkOyU5gObqeRcOuTZJ0gIN8pTij9NccGqv9rrQbwZOB85OciJwDXAcQFWtTnI2Te+utwAv6bmojyRpQgwsVNqLLM3k8FmmPw2vAS1JE21cDtRLkrYCE91Ny5Z6yrHHsXb9xlnHL957T8777DmzjpckzWybDJW16zdy/2Wzt7T9aMUpQ6xGkrYeNn9JkjpjqEiSOmOoSJI6Y6hIkjpjqEiSOmOoSJI6Y6hIkjpjqEiSOmOoSJI6Y6hIkjpjqEiSOmOoSJI6Y6hIkjqzTfZSrOGY6xIDXl5A2joZKhqYuS4x4OUFpK3TxIeKF9ySpPEx8aHiBbckaXx4oF6S1BlDRZLUGUNFktQZQ0WS1BlDRZLUGUNFktSZiT+lWPPnb3skDYqhsg3ytz2SBsXmL0lSZwwVSVJnDBVJUmcMFUlSZwwVSVJnPPtL0mZ5wTX1ayShkuRVwAuBAn4InADcDfgksAS4GnhGVf1mFPVJujMvuKZ+Db35K8l+wMuBpVV1CLAdcDywHFhZVQcCK9vHkqQJMqpjKtsDd02yPc0eynXA0cCKdvwK4JjRlCZJ2lJDD5Wq+gXwduAaYC1wQ1V9Fdinqta206wF9p5p/iQnJVmVZNWGDRuGVbYkqQ+jaP7anWav5ABgX+DuSZ7b7/xVdVZVLa2qpYsWLRpUmZKkLTCK5q8nAT+tqg1V9UfgM8BhwLokiwHa2/UjqE2StACjCJVrgEcnuVuSAIcDa4BzgWXtNMuAz42gNknSAgz9lOKquiDJp4CLgVuA7wNnAbsAZyc5kSZ4jht2bZKkhRnJ71Sq6s3Am6cNvplmr0WSNKHspkWS1BlDRZLUGUNFktQZO5SUpDEwV6edMDkddxoqkjQG5uq0Eyan405DRZIm1DheksBQkaQJNY6XJPBAvSSpM4aKJKkzhookqTOGiiSpMx6ol9S5reU3F5o/Q0VS57aW31xo/mz+kiR1xlCRJHXG5q8JZ9v1ePL/om2VoTLhbLseT/5ftK0yVPrklqe0dRjH/rK2JoZKn9zylLYO49hf1tbEA/WSpM4YKpKkzhgqkqTOeExFffHgpqR+GCrqiwc3JfXDUJGkOfhzgvkxVCRpDv6cYH48UC9J6oyhIknqjM1f0gSzvV/jxlCRJpjt/Ro3Nn9JkjpjqEiSOmOoSJI6Y6hIkjozklBJsluSTyW5PMmaJIcm2SPJ15Jc2d7uPoraJElbblR7Ku8AvlxVDwQeDKwBlgMrq+pAYGX7WJI0QYYeKknuATweeD9AVf2hqq4HjgZWtJOtAI4Zdm2SpIUZxZ7KfYANwAeTfD/J+5LcHdinqtYCtLd7zzRzkpOSrEqyasOGDcOrWpK0WaMIle2BhwHvqaqHAr9jHk1dVXVWVS2tqqWLFi0aVI2SpC0wil/UXwtcW1UXtI8/RRMq65Isrqq1SRYD60dQm0bILkekyTf0UKmqXyb5eZIHVNUVwOHAf7R/y4DT29vPDbs2jZZdjkiTb1R9f70M+FiSHYGfACfQNMWdneRE4BrguBHVpq2ce0TS4IwkVKrqEmDpDKMOH3Ip2ga5RyQNjr+olyR1pq9QSfKYfoZJkrZt/e6p/GOfwyRJ27A5j6kkORQ4DFiU5NU9o+4BbDfIwiRJk2dzB+p3BHZpp9u1Z/iNwNMHVZQkaTLNGSpV9S3gW0k+VFU/G1JNkqQJ1e8pxTslOQtY0jtPVT1xEEVJkiZTv6FyDvBe4H3ArYMrZ+sy14/s/IGdRsX3pQap31C5pareM9BKtkJz/cjOH9hpVHxfapD6PaX480lenGRxe4XGPZLsMdDKJEkTp989lWXt7et6hhXNtVEkSQL6DJWqOmDQhUiSJl9foZLk+TMNr6oPd1uOJGmS9dv89Yie+zvT9CZ8MWCoSJJu12/z18t6Hye5J/CRgVQkSZpYW3o9lZuAA7ssRF48alvn/19bg36PqXye5mwvaDqSPAg4e1BFbau8eNS2zf+/tgb97qm8vef+LcDPquraAdQjSZpgff34se1Y8nKanop3B/4wyKIkSZOp3ys/PgO4EDgOeAZwQRK7vpck3Um/zV+nAI+oqvUASRYB/wZ8alCFSZImT7+hcpepQGltpP9+w6SB8Ywpabz0GypfTvIV4OPt42cCXxxMSVL/PGNKGi+bu0b9/YB9qup1Sf4L8FggwPnAx4ZQnyRpgmyuCetMYBNAVX2mql5dVa+i2Us5c7ClSZImzeZCZUlV/WD6wKpaRXNpYUmSbre5UNl5jnF37bIQSdLk21yofC/J300fmORE4KLBlCRJmlSbO/vrlcBnkzyHO0JkKbAjcOwA65IkTaA5Q6Wq1gGHJfkr4JB28HlV9fWBVyZJmjj9Xk/lG8A3BlyLJGnC+at4SVJnDBVJUmdGFipJtkvy/SRfaB/vkeRrSa5sb3cfVW2SpC0zyj2VVwBreh4vB1ZW1YHAyvaxJGmCjCRUkuwPPAV4X8/go4EV7f0VwDFDLkuStECj2lM5E3g9cFvPsH2qai1Ae7v3TDMmOSnJqiSrNmzYMPBCJUn9G3qoJHkqsL6qtugX+VV1VlUtraqlixYt6rg6SdJC9Hs9lS49BnhakqNo+ha7R5KPAuuSLK6qtUkWA+vnfBZJ0tgZ+p5KVZ1cVftX1RLgeODrVfVc4FxgWTvZMuBzw65NkrQw4/Q7ldOBJye5Enhy+1iSNEFG0fx1u6r6JvDN9v5G4PBR1iNpsjzl2ONYu37jrOMX770n5332nCFWpJGGiiQtxNr1G7n/stNmHf+jFacMsRrBeDV/SZImnKEiSeqMoSJJ6oyhIknqjAfqpT7MdZaRZxhJdzBUpD7MdZaRZxhJd7D5S5LUGUNFktQZQ0WS1BlDRZLUGUNFktQZQ0WS1BlDRZLUGUNFktQZQ0WS1BlDRZLUGUNFktQZQ0WS1BlDRZLUGUNFktQZQ0WS1BlDRZLUGUNFktQZr/woaSzMdclm8LLNk8JQkTQW5rpkM3jZ5klh85ckqTOGiiSpM4aKJKkzhookqTOGiiSpM4aKJKkzhookqTOGiiSpM0MPlST3TvKNJGuSrE7yinb4Hkm+luTK9nb3YdcmSVqYUeyp3AK8pqoOAh4NvCTJwcByYGVVHQisbB9LkibI0EOlqtZW1cXt/U3AGmA/4GhgRTvZCuCYYdcmSVqYkR5TSbIEeChwAbBPVa2FJniAvWeZ56Qkq5Ks2rBhw9BqlSRt3shCJckuwKeBV1bVjf3OV1VnVdXSqlq6aNGiwRUoSZq3kYRKkh1oAuVjVfWZdvC6JIvb8YuB9aOoTZK05UZx9leA9wNrquqMnlHnAsva+8uAzw27NknSwozieiqPAZ4H/DDJJe2wNwCnA2cnORG4BjhuBLVJkhZg6KFSVd8BMsvow4dZiySpW/6iXpLUGUNFktQZQ0WS1BlDRZLUGUNFktQZQ0WS1BlDRZLUGUNFktQZQ0WS1BlDRZLUGUNFktQZQ0WS1BlDRZLUGUNFktQZQ0WS1BlDRZLUGUNFktQZQ0WS1BlDRZLUGUNFktSZ7UddgCRtbZ5y7HGsXb9x1vGL996T8z57zhArGh5DRZI6tnb9Ru6/7LRZx/9oxSlDrGa4bP6SJHXGUJEkdcZQkSR1xlCRJHXGUJEkdcZQkSR1xlCRJHXGUJEkdcZQkSR1xlCRJHXGUJEkdcZQkSR1ZuxCJckRSa5I8uMky0ddjySpf2MVKkm2A94FHAkcDDwrycGjrUqS1K+xChXgkcCPq+onVfUH4BPA0SOuSZLUp1TVqGu4XZKnA0dU1Qvbx88DHlVVL+2Z5iTgpPbhIcBlQy90/vYCfjXqIvpgnd2yzu5MQo0wOXU+oKp2HcQTj9tFujLDsDulXlWdBZwFkGRVVS0dRmELYZ3dss5uTUKdk1AjTFadg3rucWv+uha4d8/j/YHrRlSLJGmexi1UvgccmOSAJDsCxwPnjrgmSVKfxqr5q6puSfJS4CvAdsAHqmr1HLOcNZzKFsw6u2Wd3ZqEOiehRrDO8TpQL0mabOPW/CVJmmCGiiSpMxMbKqPuziXJ1Ul+mOSSqdPzkuyR5GtJrmxvd++Z/uS21iuS/E3P8Ie3z/PjJP+QZKbTqudT1weSrE9yWc+wzupKslOST7bDL0iypMM6T03yi3adXpLkqDGo895JvpFkTZLVSV7RDh+bdTpHjWO1PpPsnOTCJJe2db5l3NblZuocq/XZs4ztknw/yRfax6Ndn1U1cX80B/GvAu4D7AhcChw85BquBvaaNux/Asvb+8uBt7X3D25r3Ak4oK19u3bchcChNL/R+RJw5ALrejzwMOCyQdQFvBh4b3v/eOCTHdZ5KvDaGaYdZZ2LgYe193cFftTWMzbrdI4ax2p9ts+5S3t/B+AC4NHjtC43U+dYrc+e5b8a+BfgC+PweR/KF3DXf+2L/0rP45OBk4dcw9X8aahcASxu7y8GrpipPpqz2w5tp7m8Z/izgH/qoLYl3PnLurO6pqZp729P8+vhdFTnbB/akdY5rZbPAU8e13U6rcaxXZ/A3YCLgUeN+brsrXPs1ifNb/lWAk/kjlAZ6fqc1Oav/YCf9zy+th02TAV8NclFabqOAdinqtYCtLd7t8Nnq3e/9v704V3rsq7b56mqW4AbgD07rPWlSX6Qpnlsard9LOpsd/0fSrPlOpbrdFqNMGbrs22quQRYD3ytqsZyXc5SJ4zZ+gTOBF4P3NYzbKTrc1JDZbPduQzBY6rqYTQ9Kr8kyePnmHa2ekf9OrakrkHW/B7gvsBDgLXA/97MModWZ5JdgE8Dr6yqG+eadJblDrzWGWocu/VZVbdW1UNotrAfmeSQOSYftzrHan0meSqwvqou6neWWZbZaZ2TGioj786lqq5rb9cDn6XpYXldksUA7e36dvLZ6r22vT99eNe6rOv2eZJsD9wT+HUXRVbVuvbDfBvwzzTrdOR1JtmB5sv6Y1X1mXbwWK3TmWoc1/XZ1nY98E3gCMZsXc5W5xiuz8cAT0tyNU2P7k9M8lFGvD4nNVRG2p1Lkrsn2XXqPvDXNL0lnwssaydbRtO2TTv8+PZMigOAA4EL213TTUke3Z5t8fyeebrUZV29z/V04OvVNrgu1NQHoXUsd/RAPbI62+d9P7Cmqs7oGTU263S2GsdtfSZZlGS39v5dgScBlzNG63KuOsdtfVbVyVW1f1UtofkO/HpVPZdRr88tPYA16j/gKJqzXK4CThnysu9DcxbFpcDqqeXTtDWuBK5sb/fomeeUttYr6DnDC1hK8+a8CngnCzyYDHycZtf8jzRbGSd2WRewM3AO8GOaM0bu02GdHwF+CPygfTMvHoM6H0uzu/8D4JL276hxWqdz1DhW6xN4EPD9tp7LgDd1/bkZcJ1jtT6n1fwE7jhQP9L1aTctkqTOTGrzlyRpDBkqkqTOGCqSpM4YKpKkzhgqkqTOGCrSPCTZLcmL2/v7JvnUqGuSxomnFEvz0Pat9YWqmqt7EWmbNVbXqJcmwOnAfdvOBq8EDqqqQ5K8ADiG5rIMh9D0C7Uj8DzgZuCoqvp1kvsC7wIWATcBf1dVlw/7RUiDYvOXND/Lgauq6WzwddPGHQI8m6ZPqNOAm6rqocD5NF1fAJwFvKyqHg68Fnj3MIqWhsU9Fak736iqTTT9KN0AfL4d/kPgQW0vwocB5+SOC3zuNPwypcExVKTu3Nxz/7aex7fRfNbuAlzf7uVIWyWbv6T52URzyd55q+YaJz9Nchw0vQsneXCXxUmjZqhI81BVG4F/T3IZ8L+24CmeA5yYZKqH66O7rE8aNU8pliR1xj0VSVJnDBVJUmcMFUlSZwwVSVJnDBVJUmcMFUlSZwwVSVJn/j/qnbs0xOlabQAAAABJRU5ErkJggg==\n",
      "text/plain": [
       "<Figure size 432x288 with 1 Axes>"
      ]
     },
     "metadata": {
      "needs_background": "light"
     },
     "output_type": "display_data"
    },
    {
     "name": "stdout",
     "output_type": "stream",
     "text": [
      "Approximate slope: -2.495821314951181e-20\n",
      "Count number of specified time: 643\n"
     ]
    }
   ],
   "source": [
    "import seaborn as sns\n",
    "import numpy as np\n",
    "import matplotlib.pyplot as plt\n",
    "\n",
    "# Set the behavior of interest\n",
    "behavior_of_interest = 1\n",
    "\n",
    "# Filter the DataFrame for the behavior of interest\n",
    "df_interest = df2[df2['locomotion count'] == behavior_of_interest]\n",
    "\n",
    "# Plot the histogram\n",
    "sns.histplot(data=df_interest, x='time',\n",
    "             stat='count',\n",
    "             multiple='dodge', shrink=.6, bins=26)\n",
    "\n",
    "# Set the x-axis limits\n",
    "plt.xlim(0, 40000)\n",
    "\n",
    "# Add title to the plot\n",
    "plt.title(\"Right Turn Ispilateral Count Stimulation\")\n",
    "\n",
    "# Show the plot\n",
    "plt.show()\n",
    "\n",
    "# Extract the relevant range\n",
    "range_start = 3000\n",
    "range_end = 18000\n",
    "relevant_data = df_interest[(df_interest['time'] >= range_start) & (df_interest['time'] <= range_end)]\n",
    "\n",
    "# Calculate the approximate slope\n",
    "x = relevant_data['time']\n",
    "y = relevant_data['locomotion count']\n",
    "\n",
    "# Perform linear regression and obtain the slope\n",
    "slope = np.polyfit(x, y, 1)[0]\n",
    "\n",
    "# Calculate the count number\n",
    "count_number = relevant_data['locomotion count'].count()\n",
    "\n",
    "print(\"Approximate slope:\", slope)\n",
    "print(\"Count number of specified time:\", count_number)"
   ]
  },
  {
   "cell_type": "code",
   "execution_count": 29,
   "metadata": {},
   "outputs": [
    {
     "data": {
      "image/png": "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\n",
      "text/plain": [
       "<Figure size 432x288 with 1 Axes>"
      ]
     },
     "metadata": {
      "needs_background": "light"
     },
     "output_type": "display_data"
    },
    {
     "name": "stdout",
     "output_type": "stream",
     "text": [
      "Approximate slope: -1.9029668964691342e-20\n",
      "Count number of specified time: 1447\n"
     ]
    }
   ],
   "source": [
    "import seaborn as sns\n",
    "import numpy as np\n",
    "import matplotlib.pyplot as plt\n",
    "\n",
    "# Plot the histogram\n",
    "sns.histplot(data=df3, x='time',\n",
    "             stat='count',\n",
    "             multiple='dodge', shrink=.5, bins=26)\n",
    "\n",
    "# Set the x-axis limits\n",
    "plt.xlim(3000, 40000)\n",
    "\n",
    "# Add title to the plot\n",
    "plt.title(\"Stim Count of D1 Face Groom\")\n",
    "\n",
    "# Show the plot\n",
    "plt.show()\n",
    "\n",
    "# Extract the relevant range\n",
    "range_start = 18000\n",
    "range_end = 40000\n",
    "relevant_data = df3[(df3['time'] >= range_start) & (df3['time'] <= range_end)]\n",
    "\n",
    "# Calculate the approximate slope\n",
    "x = relevant_data['time']\n",
    "y = relevant_data['locomotion count']\n",
    "\n",
    "# Perform linear regression and obtain the slope\n",
    "slope = np.polyfit(x, y, 1)[0]\n",
    "\n",
    "# Calculate the count number\n",
    "count_number = relevant_data['locomotion count'].count()\n",
    "\n",
    "print(\"Approximate slope:\", slope)\n",
    "print(\"Count number of specified time:\", count_number)"
   ]
  },
  {
   "cell_type": "code",
   "execution_count": 30,
>>>>>>> Stashed changes
   "metadata": {},
   "outputs": [
    {
     "data": {
      "text/plain": [
       "<AxesSubplot:xlabel='time', ylabel='Count'>"
      ]
     },
<<<<<<< Updated upstream
     "execution_count": 19,
=======
     "execution_count": 30,
>>>>>>> Stashed changes
     "metadata": {},
     "output_type": "execute_result"
    },
    {
     "data": {
<<<<<<< Updated upstream
      "image/png": "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\n",
=======
      "image/png": "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\n",
>>>>>>> Stashed changes
      "text/plain": [
       "<Figure size 432x288 with 1 Axes>"
      ]
     },
     "metadata": {
      "needs_background": "light"
     },
     "output_type": "display_data"
    }
   ],
   "source": [
    "sns.histplot(data=df3, x='time', \n",
    "             stat='count',\n",
<<<<<<< Updated upstream
    "             multiple='dodge', shrink=.8, bins=8)\n",
=======
    "             multiple='dodge', shrink=.6, bins=13)\n",
>>>>>>> Stashed changes
    "#3000 tenths of a second = 5 minutes\n",
    "#There doesn't seem to be a great difference in locomotion count that relates\n",
    "# to interjection of stim\n",
    "# The first bin represents the first 5 minutes of pre-stime, \n",
    "# which oddly shows the highest count of locomotive bouts"
   ]
  },
  {
   "cell_type": "markdown",
   "metadata": {},
   "source": [
    "## Analysis of bouts "
   ]
  },
  {
   "cell_type": "code",
<<<<<<< Updated upstream
   "execution_count": 20,
=======
   "execution_count": 31,
>>>>>>> Stashed changes
   "metadata": {},
   "outputs": [],
   "source": [
    "#data_dict3 = {'time': np.hstack([f for f in range(len(predictions[0]))]),\n",
    "#              'bouts': np.hstack([0 for f in range(len(predictions[0]))])}\n",
    "#\n",
    "#df4 = pd.DataFrame(data= data_dict3) \n",
    "#df4"
   ]
  },
  {
   "cell_type": "code",
<<<<<<< Updated upstream
   "execution_count": 21,
=======
   "execution_count": 32,
>>>>>>> Stashed changes
   "metadata": {},
   "outputs": [
    {
     "data": {
      "text/plain": [
       "165"
      ]
     },
<<<<<<< Updated upstream
     "execution_count": 21,
=======
     "execution_count": 32,
>>>>>>> Stashed changes
     "metadata": {},
     "output_type": "execute_result"
    }
   ],
   "source": [
    "np.where(predictions[0] == 2)[0][0]"
   ]
  },
  {
   "cell_type": "code",
<<<<<<< Updated upstream
   "execution_count": 23,
=======
   "execution_count": 34,
>>>>>>> Stashed changes
   "metadata": {},
   "outputs": [
    {
     "data": {
      "text/plain": [
       "'There are 1 number of behavior of interest bouts in second 5 minutes'"
      ]
     },
<<<<<<< Updated upstream
     "execution_count": 23,
=======
     "execution_count": 34,
>>>>>>> Stashed changes
     "metadata": {},
     "output_type": "execute_result"
    }
   ],
   "source": [
    "#OLD VERSION ~!\n",
    "array_an1 = predictions[0].copy()\n",
    "\n",
    "count = 0\n",
    "\n",
    "#index of where the behavior changes gives us where each bout begins \n",
    "behav_start_an1 = np.where(np.diff(array_an1) != 0)\n",
    "# bin every 5 minutes (3000 * 100ms)\n",
<<<<<<< Updated upstream
    "time_ranges = [[i*200, (i+1)*200] for i in range(16)]\n",
=======
    "time_ranges = [[i*3000, (i+1)*3000] for i in range(13)]\n",
>>>>>>> Stashed changes
    "\n",
    "#constrain it to behavior of interest\n",
    "behav_interest = 2\n",
    "counts_5min_bins = []\n",
    "when_occurred_5min_bins = []\n",
    "for _, idx in enumerate(behav_start_an1[0]):\n",
    "    if array_an1[idx+1] == behav_interest: \n",
    "        count = 0\n",
    "        when_occurred = []\n",
    "        for time_range in time_ranges:\n",
    "            if ((idx > time_range[0]) and (idx < time_range[1])):\n",
    "                # print(time_range)\n",
    "                count += 1 \n",
    "                when_occurred.append(idx)\n",
    "        counts_5min_bins.append(count)\n",
    "        when_occurred_5min_bins.append(when_occurred)\n",
    "#count is now number of behavior of interest bouts ! \n",
    "\n",
    "f\"There are {counts_5min_bins[3]} number of behavior of interest bouts in second 5 minutes\"\n",
    "\n",
    "#data_dict3 = {'time': np.hstack([f for f in range(len(array_an1))]), \n",
    "#              'behav_interest bouts': np.hstack([(count+1) for i in range(len(behav_start_an1[0])) (if array_an1[i+1] == behav_interest)]) }\n",
    "#df4 = pd.DataFrame(data=data_dict3)\n"
   ]
  },
  {
   "cell_type": "code",
<<<<<<< Updated upstream
   "execution_count": 24,
=======
   "execution_count": 36,
>>>>>>> Stashed changes
   "metadata": {},
   "outputs": [
    {
     "name": "stdout",
     "output_type": "stream",
     "text": [
<<<<<<< Updated upstream
      "[5, 0, 5, 9, 4, 1, 4, 0, 0, 6, 8, 0, 0, 0, 0, 0] 16\n"
=======
      "[106, 89, 80, 78, 73, 70, 53, 66, 68, 65, 56, 45, 60] 13\n"
>>>>>>> Stashed changes
     ]
    },
    {
     "data": {
      "text/plain": [
<<<<<<< Updated upstream
       "'There are 5 number of behavior of interest bouts in second 5-minute-bin'"
      ]
     },
     "execution_count": 24,
=======
       "'There are 78 number of behavior of interest bouts in second 5-minute-bin'"
      ]
     },
     "execution_count": 36,
>>>>>>> Stashed changes
     "metadata": {},
     "output_type": "execute_result"
    }
   ],
   "source": [
    "array_an1 = predictions[0].copy()\n",
    "\n",
    "count = 0\n",
    "\n",
    "#index of where the behavior changes gives us where each bout begins \n",
    "behav_start_an1 = np.where(np.diff(array_an1) != 0)\n",
    "# bin every 5 minutes (3000 * 100ms)\n",
<<<<<<< Updated upstream
    "time_ranges = [[i*200, (i+1)*200] for i in range(16)]\n",
=======
    "time_ranges = [[i*3000, (i+1)*3000] for i in range(13)]\n",
>>>>>>> Stashed changes
    "\n",
    "#constrain it to behavior of interest\n",
    "behav_interest = 2\n",
    "counts_5min_bins = []\n",
    "when_occurred_5min_bins = []\n",
    "when_occurred = []\n",
    "\n",
    "for time_range in time_ranges: \n",
    "    count = 0\n",
    "    for _, idx in enumerate(behav_start_an1[0]):\n",
    "        if ((idx > time_range[0]) and (idx < time_range[1])): # if in the correct 5 min bin\n",
    "            if array_an1[idx+1] == behav_interest: # if the value at bout index is behav_interest, add to count\n",
    "                count += 1 \n",
    "                when_occurred.append(idx)\n",
    "    counts_5min_bins.append(count) \n",
    "when_occurred_5min_bins.append(when_occurred) \n",
    "#Count is the number of behavior of interest bouts! \n",
    "            \n",
    "    \n",
    "print(counts_5min_bins, len(counts_5min_bins))\n",
    "f\"There are {counts_5min_bins[3]} number of behavior of interest bouts in second 5-minute-bin\"\n"
   ]
  },
  {
   "cell_type": "code",
<<<<<<< Updated upstream
   "execution_count": 25,
=======
   "execution_count": 37,
>>>>>>> Stashed changes
   "metadata": {},
   "outputs": [
    {
     "data": {
      "text/plain": [
<<<<<<< Updated upstream
       "[[0, 200],\n",
       " [200, 400],\n",
       " [400, 600],\n",
       " [600, 800],\n",
       " [800, 1000],\n",
       " [1000, 1200],\n",
       " [1200, 1400],\n",
       " [1400, 1600],\n",
       " [1600, 1800],\n",
       " [1800, 2000],\n",
       " [2000, 2200],\n",
       " [2200, 2400],\n",
       " [2400, 2600],\n",
       " [2600, 2800],\n",
       " [2800, 3000],\n",
       " [3000, 3200]]"
      ]
     },
     "execution_count": 25,
=======
       "[[0, 3000],\n",
       " [3000, 6000],\n",
       " [6000, 9000],\n",
       " [9000, 12000],\n",
       " [12000, 15000],\n",
       " [15000, 18000],\n",
       " [18000, 21000],\n",
       " [21000, 24000],\n",
       " [24000, 27000],\n",
       " [27000, 30000],\n",
       " [30000, 33000],\n",
       " [33000, 36000],\n",
       " [36000, 39000]]"
      ]
     },
     "execution_count": 37,
>>>>>>> Stashed changes
     "metadata": {},
     "output_type": "execute_result"
    }
   ],
   "source": [
<<<<<<< Updated upstream
    "time_ranges = [[i*200, (i+1)*200] for i in range(16)]\n",
    "time_ranges"
=======
    "time_ranges = [[i*3000, (i+1)*3000] for i in range(13)]\n",
    "time_ranges\n"
>>>>>>> Stashed changes
   ]
  },
  {
   "cell_type": "code",
<<<<<<< Updated upstream
   "execution_count": 36,
=======
   "execution_count": 39,
>>>>>>> Stashed changes
   "metadata": {
    "scrolled": true
   },
   "outputs": [
    {
     "data": {
      "text/plain": [
<<<<<<< Updated upstream
       "[<matplotlib.lines.Line2D at 0x2092f015130>]"
=======
       "[<matplotlib.lines.Line2D at 0x29799457b80>]"
>>>>>>> Stashed changes
      ]
     },
     "execution_count": 36,
     "metadata": {},
     "output_type": "execute_result"
    },
    {
     "data": {
<<<<<<< Updated upstream
      "image/png": "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\n",
=======
      "image/png": "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\n",
>>>>>>> Stashed changes
      "text/plain": [
       "<Figure size 432x288 with 1 Axes>"
      ]
     },
     "metadata": {
      "needs_background": "light"
     },
     "output_type": "display_data"
    }
   ],
   "source": [
    "plt.plot(np.array(when_occurred)/13)\n",
    "\n",
    "# x-axis represents the bout number\n",
    "# y-axis represents the temporal position of bout\n",
    "# Steeper slope means longer duration of bouts.\n",
    "# Longer run means shorter duration of bouts."
   ]
  },
  {
   "cell_type": "code",
<<<<<<< Updated upstream
   "execution_count": 34,
   "metadata": {},
=======
   "execution_count": 40,
   "metadata": {
    "scrolled": true
   },
>>>>>>> Stashed changes
   "outputs": [
    {
     "data": {
      "text/html": [
       "<div>\n",
       "<style scoped>\n",
       "    .dataframe tbody tr th:only-of-type {\n",
       "        vertical-align: middle;\n",
       "    }\n",
       "\n",
       "    .dataframe tbody tr th {\n",
       "        vertical-align: top;\n",
       "    }\n",
       "\n",
       "    .dataframe thead th {\n",
       "        text-align: right;\n",
       "    }\n",
       "</style>\n",
       "<table border=\"1\" class=\"dataframe\">\n",
       "  <thead>\n",
       "    <tr style=\"text-align: right;\">\n",
       "      <th></th>\n",
       "      <th>time</th>\n",
<<<<<<< Updated upstream
       "      <th>locomotive bout count</th>\n",
=======
       "      <th>locomotive bouts count</th>\n",
>>>>>>> Stashed changes
       "    </tr>\n",
       "  </thead>\n",
       "  <tbody>\n",
       "    <tr>\n",
       "      <th>0</th>\n",
       "      <td>0</td>\n",
<<<<<<< Updated upstream
       "      <td>5</td>\n",
       "    </tr>\n",
       "    <tr>\n",
       "      <th>1</th>\n",
       "      <td>200</td>\n",
       "      <td>0</td>\n",
       "    </tr>\n",
       "    <tr>\n",
       "      <th>2</th>\n",
       "      <td>400</td>\n",
       "      <td>5</td>\n",
       "    </tr>\n",
       "    <tr>\n",
       "      <th>3</th>\n",
       "      <td>600</td>\n",
       "      <td>9</td>\n",
       "    </tr>\n",
       "    <tr>\n",
       "      <th>4</th>\n",
       "      <td>800</td>\n",
       "      <td>4</td>\n",
       "    </tr>\n",
       "    <tr>\n",
       "      <th>5</th>\n",
       "      <td>1000</td>\n",
       "      <td>1</td>\n",
       "    </tr>\n",
       "    <tr>\n",
       "      <th>6</th>\n",
       "      <td>1200</td>\n",
       "      <td>4</td>\n",
       "    </tr>\n",
       "    <tr>\n",
       "      <th>7</th>\n",
       "      <td>1400</td>\n",
       "      <td>0</td>\n",
       "    </tr>\n",
       "    <tr>\n",
       "      <th>8</th>\n",
       "      <td>1600</td>\n",
       "      <td>0</td>\n",
       "    </tr>\n",
       "    <tr>\n",
       "      <th>9</th>\n",
       "      <td>1800</td>\n",
       "      <td>6</td>\n",
       "    </tr>\n",
       "    <tr>\n",
       "      <th>10</th>\n",
       "      <td>2000</td>\n",
       "      <td>8</td>\n",
       "    </tr>\n",
       "    <tr>\n",
       "      <th>11</th>\n",
       "      <td>2200</td>\n",
       "      <td>0</td>\n",
       "    </tr>\n",
       "    <tr>\n",
       "      <th>12</th>\n",
       "      <td>2400</td>\n",
       "      <td>0</td>\n",
       "    </tr>\n",
       "    <tr>\n",
       "      <th>13</th>\n",
       "      <td>2600</td>\n",
       "      <td>0</td>\n",
       "    </tr>\n",
       "    <tr>\n",
       "      <th>14</th>\n",
       "      <td>2800</td>\n",
       "      <td>0</td>\n",
       "    </tr>\n",
       "    <tr>\n",
       "      <th>15</th>\n",
       "      <td>3000</td>\n",
       "      <td>0</td>\n",
=======
       "      <td>106</td>\n",
       "    </tr>\n",
       "    <tr>\n",
       "      <th>1</th>\n",
       "      <td>3000</td>\n",
       "      <td>89</td>\n",
       "    </tr>\n",
       "    <tr>\n",
       "      <th>2</th>\n",
       "      <td>6000</td>\n",
       "      <td>80</td>\n",
       "    </tr>\n",
       "    <tr>\n",
       "      <th>3</th>\n",
       "      <td>9000</td>\n",
       "      <td>78</td>\n",
       "    </tr>\n",
       "    <tr>\n",
       "      <th>4</th>\n",
       "      <td>12000</td>\n",
       "      <td>73</td>\n",
       "    </tr>\n",
       "    <tr>\n",
       "      <th>5</th>\n",
       "      <td>15000</td>\n",
       "      <td>70</td>\n",
       "    </tr>\n",
       "    <tr>\n",
       "      <th>6</th>\n",
       "      <td>18000</td>\n",
       "      <td>53</td>\n",
       "    </tr>\n",
       "    <tr>\n",
       "      <th>7</th>\n",
       "      <td>21000</td>\n",
       "      <td>66</td>\n",
       "    </tr>\n",
       "    <tr>\n",
       "      <th>8</th>\n",
       "      <td>24000</td>\n",
       "      <td>68</td>\n",
       "    </tr>\n",
       "    <tr>\n",
       "      <th>9</th>\n",
       "      <td>27000</td>\n",
       "      <td>65</td>\n",
       "    </tr>\n",
       "    <tr>\n",
       "      <th>10</th>\n",
       "      <td>30000</td>\n",
       "      <td>56</td>\n",
       "    </tr>\n",
       "    <tr>\n",
       "      <th>11</th>\n",
       "      <td>33000</td>\n",
       "      <td>45</td>\n",
       "    </tr>\n",
       "    <tr>\n",
       "      <th>12</th>\n",
       "      <td>36000</td>\n",
       "      <td>60</td>\n",
>>>>>>> Stashed changes
       "    </tr>\n",
       "  </tbody>\n",
       "</table>\n",
       "</div>"
      ],
      "text/plain": [
<<<<<<< Updated upstream
       "    time  locomotive bout count\n",
       "0      0                      5\n",
       "1    200                      0\n",
       "2    400                      5\n",
       "3    600                      9\n",
       "4    800                      4\n",
       "5   1000                      1\n",
       "6   1200                      4\n",
       "7   1400                      0\n",
       "8   1600                      0\n",
       "9   1800                      6\n",
       "10  2000                      8\n",
       "11  2200                      0\n",
       "12  2400                      0\n",
       "13  2600                      0\n",
       "14  2800                      0\n",
       "15  3000                      0"
      ]
     },
     "execution_count": 34,
=======
       "     time  locomotive bouts count\n",
       "0       0                     106\n",
       "1    3000                      89\n",
       "2    6000                      80\n",
       "3    9000                      78\n",
       "4   12000                      73\n",
       "5   15000                      70\n",
       "6   18000                      53\n",
       "7   21000                      66\n",
       "8   24000                      68\n",
       "9   27000                      65\n",
       "10  30000                      56\n",
       "11  33000                      45\n",
       "12  36000                      60"
      ]
     },
     "execution_count": 40,
>>>>>>> Stashed changes
     "metadata": {},
     "output_type": "execute_result"
    }
   ],
<<<<<<< Updated upstream
=======
   "source": [
    "data_dict_bout = {'time': np.hstack([time_ranges[f][0] for f in range(len(time_ranges))]),\n",
    "              'locomotive bouts count': np.hstack([counts_5min_bins[f] for f in range(len(counts_5min_bins))])}\n",
    "\n",
    "df4 = pd.DataFrame(data= data_dict_bout) \n",
    "df4"
   ]
  },
  {
   "cell_type": "code",
   "execution_count": 41,
   "metadata": {},
   "outputs": [
    {
     "data": {
      "image/png": "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\n",
      "text/plain": [
       "<Figure size 432x288 with 1 Axes>"
      ]
     },
     "metadata": {
      "needs_background": "light"
     },
     "output_type": "display_data"
    }
   ],
   "source": [
    "sns.barplot(data=df4, x=\"time\", y=\"locomotive bouts count\", color='skyblue')\n",
    "\n",
    "# Add title to the plot\n",
    "plt.title(\"Number of Right Turn Ipsilateral Bouts\")\n",
    "\n",
    "# Show the plot\n",
    "plt.show()"
   ]
  },
  {
   "cell_type": "markdown",
   "metadata": {},
   "source": [
    "## KayCei\n",
    "Look at first 5 minutes of the video and count locomotive bouts in 20 second bins"
   ]
  },
  {
   "cell_type": "code",
   "execution_count": 205,
   "metadata": {},
   "outputs": [
    {
     "name": "stdout",
     "output_type": "stream",
     "text": [
      "[0, 0, 0, 0, 0, 0, 0, 0, 0, 0, 0, 0, 0, 0, 0, 0, 0, 0, 0, 0, 0, 0, 0, 0, 0, 0, 0, 0, 0, 0, 0, 0, 0, 0, 0, 0, 0, 0, 0, 0, 0, 0, 0, 0, 0, 0, 0, 0, 0, 0, 0, 0, 0, 0, 0, 0, 0, 0, 0, 0, 0, 0, 0, 0, 0, 0, 0, 0, 0, 0, 0, 0, 0, 0, 0, 0, 0, 0, 0, 0, 0, 0, 0, 0, 0, 0, 0, 0, 0, 0, 0, 0, 0, 0, 0, 0, 0, 0, 0, 0, 0, 0, 0, 0, 0, 0, 0, 0, 0, 0, 0, 0, 0, 0, 0, 0, 1, 0, 0, 0, 0, 0, 0, 0, 0, 0, 0, 0, 0, 0, 0, 0, 0, 0, 0, 0, 0, 0, 0, 0, 0, 0, 0, 0, 0, 0, 0, 0, 0, 0, 0, 0, 0, 0, 0, 0, 0, 0, 0, 0, 0, 0, 0, 0, 0, 0, 0, 0, 0, 0, 0, 0, 0, 0, 0, 0, 0, 0, 0, 0, 0, 0, 0, 0, 0, 0, 0, 0, 0, 0, 0, 0, 0, 0, 0, 0, 0, 0, 0, 0, 0, 0, 0, 0, 0, 0, 0, 0, 0, 0, 0, 0, 0, 0, 0, 0, 0, 0, 0, 0, 0, 0, 0, 0, 0, 0, 0, 0, 0, 0, 0, 0, 0, 0, 0, 0, 0, 0, 0, 0, 0, 0, 0, 0, 0, 0, 0, 0, 0, 0, 0, 0, 0, 0, 0, 0, 0, 0, 0, 0, 0, 0, 0, 0, 0, 0, 0, 0, 0, 0, 0, 0, 0, 0, 0, 0, 0, 0, 0, 0, 0, 0, 0, 0, 0, 0, 1, 0, 0, 0, 0, 0, 0, 0, 0, 0, 0, 0, 0, 0, 0, 0, 0, 0, 0, 0, 0, 0, 0, 0, 0, 0, 0, 0, 0, 0, 0, 0, 1, 0, 0, 1, 0, 0, 0, 0, 0, 0, 1, 0, 0, 0, 0, 0, 0, 0, 0, 0, 0, 0, 0, 0, 0, 0, 0, 0, 1, 0, 0, 0, 0, 0, 0, 0, 0, 0, 0, 0, 0, 0, 0, 0, 0, 0, 0, 0, 0, 0, 0, 0, 0, 0, 0, 0, 0, 0, 0, 0, 0, 0, 0, 0, 0, 0, 0, 0, 1, 0, 0, 0, 0, 0, 0, 0, 0, 0, 0, 0, 0, 0, 0, 0, 0, 0, 0, 0, 0, 0, 0, 0, 0, 0, 0, 0, 0, 0, 0, 0, 0, 0, 0, 0, 0, 0, 0, 0, 0, 0, 0, 0, 0, 0, 0, 0, 0, 0, 0, 0, 0, 0, 0, 0, 0, 0, 0, 0, 0, 0, 0, 0, 0, 0, 0, 1, 0, 0, 0, 0, 1, 0, 0, 0, 0, 1, 0, 0, 0, 0, 0, 0, 0, 0, 0, 0, 0, 0, 0, 0, 0, 0, 0, 0, 0, 0, 0, 0, 0, 0, 0, 0, 0, 0, 0, 0, 0, 0, 0, 0, 0, 0, 0, 0, 0, 0, 0, 0, 0, 0, 0, 0, 0, 0, 0, 0, 0, 0, 0, 0, 0, 0, 0, 0, 0, 0, 0, 0, 0, 0, 0, 0, 0, 0, 0, 0, 0, 0, 0, 0, 0, 0, 0, 0, 0, 0, 0, 0, 0, 0, 0, 0, 0, 0, 0, 0, 0, 0, 0, 0, 0, 0, 0, 0, 0, 0, 0, 0, 0, 0, 0, 0, 0, 0, 0, 0, 0, 0, 0, 0, 0, 0, 0, 0, 0, 0, 0, 0, 0, 0, 0, 0, 0, 0, 0, 0, 0, 0, 0, 0, 0, 0, 0, 0, 0, 0, 0, 0, 0, 0, 0, 0, 0, 0, 0, 0, 0, 0, 1, 0, 0, 0, 0, 1, 0, 0, 0, 0, 0, 0, 0, 0, 0, 0, 0, 0, 0, 0, 0, 0, 0, 0, 0, 0, 0, 0, 0, 0, 0, 0, 0, 0, 0, 0, 0, 0, 0, 0, 0, 0, 0, 0, 0, 0, 0, 0, 0, 0, 0, 0, 0, 0, 0, 0, 0, 0, 0, 0, 0, 0, 0, 0, 0, 0, 0, 0, 0, 0, 0, 0, 0, 0, 0, 0, 0, 0, 0, 0, 0, 0, 0, 0, 0, 0, 0, 0, 0, 0, 0, 0, 0, 0, 0, 0, 0, 0, 0, 0, 0, 0, 0, 0, 0, 0, 0, 0, 0, 0, 0, 0, 0, 0, 0, 0, 0, 0, 0, 0, 0, 0, 0, 0, 0, 0, 0, 0, 0, 0, 1, 0, 0, 0, 0, 0, 0, 0, 0, 0, 0, 0, 0, 0, 0, 1, 0, 0, 0, 0, 0, 0, 0, 0, 0, 0, 0, 0, 0, 0, 0, 0, 0, 0, 0, 0, 0, 0, 0, 0, 0, 0, 0, 0, 0, 0, 0, 0, 0, 0, 0, 0, 0, 0, 0, 0, 0, 0, 0, 0, 0, 0, 0, 0, 0, 0, 0, 0, 0, 0, 0, 0, 0, 0, 0, 0, 0, 0, 0, 0, 0, 0, 0, 0, 0, 0, 0, 0, 0, 0, 0, 0, 0, 0, 0, 0, 0, 0, 0, 0, 0, 0, 0, 0, 0, 0, 0, 0, 0, 0, 0, 0, 0, 0, 0, 0, 0, 0, 0, 0, 0, 0, 0, 0, 0, 0, 0, 0, 0, 0, 0, 0, 0, 0, 0, 0, 0, 0, 0, 0, 0, 0, 0, 0, 0, 0, 0, 0, 0, 0, 0, 0, 0, 0, 0, 0, 0, 0, 0, 0, 0, 0, 0, 0, 0, 0, 0, 0, 0, 0, 0, 0, 0, 0, 0, 0, 0, 0, 0, 0, 0, 0, 0, 0, 0, 0, 0, 0, 0, 0, 0, 0, 1, 0, 0, 0, 0, 0, 0, 0, 0, 0, 0, 0, 0, 0, 0, 0, 0, 0, 0, 0, 0, 0, 0, 0, 0, 0, 0, 0, 0, 0, 0, 0, 0, 0, 0, 0, 0, 0, 0, 0, 0, 0, 0, 0, 0, 0, 0, 0, 0, 0, 0, 0, 0, 0, 0, 0, 0, 0, 0, 0, 0, 0, 0, 0, 0, 0, 0, 0, 0, 0, 0, 0, 0, 0, 0, 0, 0, 0, 0, 0, 0, 0, 0, 0, 0, 0, 0, 0, 0, 0, 0, 0, 0, 1, 0, 0, 0, 0, 0, 0, 0, 0, 0, 1, 0, 0, 0, 0, 1, 0, 0, 0, 0, 0, 0, 1, 0, 0, 0, 0, 0, 0, 0, 0, 0, 0, 0, 0, 0, 0, 0, 0, 0, 0, 0, 0, 0, 0, 0, 0, 0, 0, 0, 0, 0, 0, 0, 0, 0, 0, 0, 0, 0, 0, 0, 0, 0, 0, 0, 0, 0, 0, 0, 0, 0, 0, 0, 0, 0, 0, 0, 0, 0, 0, 0, 0, 0, 0, 0, 0, 0, 0, 0, 0, 0, 0, 0, 0, 0, 0, 0, 0, 0, 0, 0, 1, 0, 0, 0, 0, 0, 0, 0, 0, 0, 0, 0, 0, 0, 0, 0, 0, 0, 0, 0, 0, 0, 0, 0, 0, 0, 0, 0, 0, 0, 0, 0, 0, 0, 0, 0, 0, 0, 0, 0, 0, 0, 0, 0, 0, 0, 0, 0, 1, 0, 0, 0, 0, 0, 0, 0, 0, 0, 0, 0, 0, 0, 0, 0, 0, 0, 0, 0, 0, 0, 0, 0, 0, 0, 0, 0, 0, 0, 0, 0, 0, 0, 0, 0, 0, 0, 0, 0, 0, 0, 0, 0, 0, 0, 0, 0, 0, 0, 0, 0, 0, 0, 0, 0, 0, 0, 0, 0, 0, 0, 0, 0, 0, 0, 0, 0, 0, 0, 0, 0, 0, 0, 0, 0, 0, 0, 0, 0, 0, 0, 0, 0, 0, 0, 0, 0, 0, 0, 0, 0, 0, 0, 0, 0, 0, 0, 0, 0, 0, 0, 0, 0, 0, 0, 0, 0, 0, 0, 0, 0, 0, 0, 0, 0, 0, 0, 0, 0, 0, 0, 0, 0, 0, 0, 0, 0, 0, 0, 1, 0, 0, 0, 0, 0, 0, 0, 0, 0, 0, 0, 0, 0, 0, 0, 0, 0, 0, 0, 0, 0, 0, 0, 0, 0, 0, 0, 0, 0, 0, 0, 0, 0, 0, 0, 0, 0, 0, 0, 1, 0, 0, 0, 0, 0, 0, 0, 0, 0, 0, 0, 0, 0, 0, 0, 0, 0, 0, 0, 0, 0, 0, 0, 0, 0, 0, 1, 0, 0, 0, 0, 0, 0, 0, 1, 0, 0, 0, 0, 0, 0, 0, 0, 0, 0, 0, 0, 0, 0, 0, 0, 0, 0, 0, 0, 0, 0, 0, 0, 0, 0, 0, 0, 0, 0, 0, 0, 0, 0, 0, 0, 0, 0, 0, 0, 0, 0, 0, 0, 0, 0, 0, 0, 0, 0, 0, 0, 0, 0, 0, 0, 0, 0, 0, 0, 0, 0, 0, 0, 0, 0, 0, 0, 0, 0, 0, 0, 0, 0, 0, 0, 0, 0, 0, 0, 0, 0, 0, 0, 0, 0, 0, 0, 0, 0, 0, 0, 0, 0, 0, 0, 0, 0, 0, 0, 0, 0, 0, 0, 0, 0, 0, 0, 0, 0, 0, 0, 0, 0, 0, 0, 0, 0, 0, 0, 0, 0, 0, 0, 0, 0, 0, 0, 0, 0, 0, 0, 0, 0, 0, 0, 0, 0, 0, 0, 0, 0, 0, 0, 0, 0, 0, 0, 0, 0, 0, 0, 0, 0, 0, 0, 0, 0, 0, 0, 0, 0, 0, 0, 0, 0, 1, 0, 0, 0, 0, 0, 0, 0, 1, 0, 0, 0, 0, 0, 0, 0, 0, 0, 0, 0, 0, 0, 0, 0, 0, 0, 0, 0, 0, 0, 0, 0, 0, 0, 0, 0, 0, 0, 0, 0, 0, 0, 0, 0, 0, 0, 0, 0, 0, 0, 0, 0, 0, 0, 0, 0, 0, 0, 0, 0, 0, 0, 0, 0, 0, 0, 0, 0, 0, 0, 0, 0, 0, 0, 0, 0, 0, 0, 0, 0, 0, 0, 0, 0, 0, 0, 0, 0, 0, 0, 0, 0, 0, 0, 0, 0, 0, 0, 1, 0, 0, 0, 0, 1, 0, 0, 0, 0, 0, 0, 0, 0, 0, 0, 0, 0, 0, 0, 0, 0, 0, 0, 0, 0, 0, 0, 0, 0, 0, 0, 0, 0, 0, 0, 0, 0, 0, 0, 0, 0, 0, 0, 0, 1, 0, 0, 0, 0, 0, 0, 0, 0, 0, 0, 0, 0, 0, 0, 0, 0, 0, 0, 0, 0, 0, 0, 0, 0, 0, 0, 0, 0, 0, 0, 0, 0, 0, 0, 0, 0, 0, 0, 0, 0, 0, 0, 0, 0, 0, 0, 0, 0, 0, 0, 0, 0, 0, 0, 0, 0, 0, 0, 0, 0, 0, 0, 0, 0, 0, 0, 0, 0, 0, 0, 0, 0, 0, 0, 0, 0, 0, 0, 0, 0, 0, 0, 0, 0, 0, 0, 0, 0, 0, 0, 0, 0, 0, 0, 0, 0, 0, 0, 0, 0, 0, 0, 0, 0, 0, 0, 0, 0, 0, 0, 0, 0, 0, 0, 0, 0, 0, 0, 0, 0, 0, 0, 0, 0, 0, 0, 0, 0, 0, 0, 0, 0, 0, 0, 0, 0, 0, 0, 0, 0, 0, 0, 0, 0, 0, 0, 0, 0, 0, 0, 0, 0, 0, 0, 0, 0, 0, 0, 0, 0, 0, 0, 0, 0, 0, 0, 1, 0, 0, 0, 0, 0, 0, 0, 0, 0, 0, 0, 0, 0, 0, 0, 0, 0, 0, 0, 0, 0, 0, 0, 0, 0, 0, 0, 0, 0, 0, 0, 0, 0, 0, 0, 0, 0, 0, 0, 0, 0, 0, 0, 0, 0, 0, 0, 0, 0, 0, 0, 0, 0, 0, 0, 0, 0, 0, 0, 0, 0, 0, 1, 0, 0, 0, 0, 0, 0, 0, 0, 0, 0, 0, 0, 0, 0, 0, 0, 0, 0, 0, 0, 0, 0, 0, 0, 0, 0, 0, 0, 0, 0, 0, 0, 0, 0, 1, 0, 0, 0, 0, 0, 0, 0, 0, 0, 0, 0, 0, 0, 0, 0, 0, 0, 0, 0, 0, 0, 0, 0, 0, 0, 0, 0, 0, 0, 0, 0, 0, 0, 0, 0, 0, 0, 0] 2000\n"
     ]
    },
    {
     "data": {
      "text/plain": [
       "'There are 0 number of behavior of interest bouts in second 2-sec-bin'"
      ]
     },
     "execution_count": 205,
     "metadata": {},
     "output_type": "execute_result"
    }
   ],
   "source": [
    "array_an1 = predictions[0].copy()\n",
    "\n",
    "count = 0\n",
    "\n",
    "#index of where the behavior changes gives us where each bout begins \n",
    "behav_start_an1 = np.where(np.diff(array_an1) != 0)\n",
    "# bin every 20 seconds\n",
    "time_ranges = [[i*.600, (i+1)*.600] for i in range(2000)] #How many 600 millsecond bins in 5 minutes\n",
    "\n",
    "#constrain it to behavior of interest\n",
    "behav_interest = 2\n",
    "counts_bins = []\n",
    "when_occurred_bins = []\n",
    "when_occurred = []\n",
    "\n",
    "for time_range in time_ranges: \n",
    "    count = 0\n",
    "    for _, idx in enumerate(behav_start_an1[0]):\n",
    "        if ((idx > time_range[0]) and (idx < time_range[1])): # if in the correct bin\n",
    "            if array_an1[idx+1] == behav_interest: # if the value at bout index is behav_interest, add to count\n",
    "                count += 1 \n",
    "                when_occurred.append(idx)\n",
    "    counts_bins.append(count) \n",
    "when_occurred_bins.append(when_occurred) \n",
    "#Count is the number of behavior of interest bouts! \n",
    "            \n",
    "    \n",
    "print(counts_bins, len(counts_bins))\n",
    "f\"There are {counts_bins[2]} number of behavior of interest bouts in second 2-sec-bin\"\n"
   ]
  },
  {
   "cell_type": "code",
   "execution_count": null,
   "metadata": {},
   "outputs": [],
>>>>>>> Stashed changes
   "source": [
    "data_dict_bout = {'time': np.hstack([time_ranges[f][0] for f in range(len(time_ranges))]),\n",
    "              'locomotive bout count': np.hstack([counts_5min_bins[f] for f in range(len(counts_5min_bins))])}\n",
    "\n",
    "df4 = pd.DataFrame(data= data_dict_bout) \n",
    "df4"
   ]
  },
  {
   "cell_type": "code",
<<<<<<< Updated upstream
   "execution_count": 32,
   "metadata": {},
   "outputs": [
    {
     "data": {
      "text/plain": [
       "<AxesSubplot:xlabel='time', ylabel='locomotive bout count'>"
      ]
     },
     "execution_count": 32,
     "metadata": {},
     "output_type": "execute_result"
    },
    {
     "data": {
      "image/png": "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\n",
      "text/plain": [
       "<Figure size 432x288 with 1 Axes>"
      ]
     },
     "metadata": {
      "needs_background": "light"
     },
     "output_type": "display_data"
=======
   "execution_count": 206,
   "metadata": {},
   "outputs": [
    {
     "ename": "NameError",
     "evalue": "name 'df5' is not defined",
     "output_type": "error",
     "traceback": [
      "\u001b[1;31m---------------------------------------------------------------------------\u001b[0m",
      "\u001b[1;31mNameError\u001b[0m                                 Traceback (most recent call last)",
      "Input \u001b[1;32mIn [206]\u001b[0m, in \u001b[0;36m<cell line: 1>\u001b[1;34m()\u001b[0m\n\u001b[1;32m----> 1\u001b[0m sns\u001b[38;5;241m.\u001b[39mbarplot(data\u001b[38;5;241m=\u001b[39m\u001b[43mdf5\u001b[49m, x\u001b[38;5;241m=\u001b[39m\u001b[38;5;124m\"\u001b[39m\u001b[38;5;124mtime\u001b[39m\u001b[38;5;124m\"\u001b[39m, y\u001b[38;5;241m=\u001b[39m\u001b[38;5;124m\"\u001b[39m\u001b[38;5;124mlocomotive bouts count\u001b[39m\u001b[38;5;124m\"\u001b[39m, color\u001b[38;5;241m=\u001b[39m\u001b[38;5;124m'\u001b[39m\u001b[38;5;124mskyblue\u001b[39m\u001b[38;5;124m'\u001b[39m)\n",
      "\u001b[1;31mNameError\u001b[0m: name 'df5' is not defined"
     ]
>>>>>>> Stashed changes
    }
   ],
   "source": [
    "sns.barplot(data=df4, x=\"time\", y=\"locomotive bout count\", color='skyblue')"
   ]
  },
  {
   "cell_type": "code",
   "execution_count": null,
   "metadata": {},
   "outputs": [],
   "source": []
  }
 ],
 "metadata": {
  "kernelspec": {
   "display_name": "Python 3 (ipykernel)",
   "language": "python",
   "name": "python3"
  },
  "language_info": {
   "codemirror_mode": {
    "name": "ipython",
    "version": 3
   },
   "file_extension": ".py",
   "mimetype": "text/x-python",
   "name": "python",
   "nbconvert_exporter": "python",
   "pygments_lexer": "ipython3",
   "version": "3.8.5"
  }
 },
 "nbformat": 4,
 "nbformat_minor": 5
}
