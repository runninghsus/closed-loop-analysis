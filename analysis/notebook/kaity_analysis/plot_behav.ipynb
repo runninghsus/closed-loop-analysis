{
 "cells": [
  {
   "cell_type": "code",
   "execution_count": 1,
   "id": "47721f35-419c-412f-8fc2-9a9162f71879",
   "metadata": {},
   "outputs": [],
   "source": [
    "import joblib\n",
    "import os\n",
    "import pandas as pd\n",
    "from sklearn.ensemble import RandomForestClassifier\n",
    "import numpy as np\n",
    "from datetime import datetime\n",
    "import matplotlib.pyplot as plt\n",
    "import pickle\n",
    "import time\n",
    "from tkinter import *\n",
    "from tkinter import filedialog\n",
    "from tqdm import tqdm\n",
    "from tqdm import notebook\n",
    "import itertools\n",
    "import math\n",
    "import seaborn as sns"
   ]
  },
  {
   "cell_type": "code",
   "execution_count": 2,
   "id": "bfb504c9-1ed7-477f-b821-3bbd7287a618",
   "metadata": {},
   "outputs": [
    {
     "name": "stderr",
     "output_type": "stream",
     "text": [
      "objc[2751]: Class FIFinderSyncExtensionHost is implemented in both /System/Library/PrivateFrameworks/FinderKit.framework/Versions/A/FinderKit (0x7fff948123f0) and /System/Library/PrivateFrameworks/FileProvider.framework/OverrideBundles/FinderSyncCollaborationFileProviderOverride.bundle/Contents/MacOS/FinderSyncCollaborationFileProviderOverride (0x12cceef50). One of the two will be used. Which one is undefined.\n"
     ]
    }
   ],
   "source": [
    "# Create Tk root\n",
    "root = Tk()\n",
    "# Hide the main window\n",
    "root.withdraw()\n",
    "root.call('wm', 'attributes', '.', '-topmost', True)\n",
    "infiles = filedialog.askopenfilename(multiple=True, title='load posthoc-predictions.npy')\n",
    "\n",
    "%gui tk"
   ]
  },
  {
   "cell_type": "code",
   "execution_count": 3,
   "id": "0d2f3221-1c72-4717-a736-4385f24153e5",
   "metadata": {},
   "outputs": [
    {
     "data": {
      "text/plain": [
       "('/Volumes/yttri/temp/VideoOutputCamera 0-06022023-162543_posthoc-predictions.npy',)"
      ]
     },
     "execution_count": 3,
     "metadata": {},
     "output_type": "execute_result"
    }
   ],
   "source": [
    "infiles"
   ]
  },
  {
   "cell_type": "code",
   "execution_count": 4,
   "id": "ee8c49c3-e5dc-4cc9-934b-3bfbdfcbce8a",
   "metadata": {},
   "outputs": [],
   "source": [
    "predictions = []\n",
    "for f in range(len(infiles)):\n",
    "    predictions.append(np.load(infiles[f]))"
   ]
  },
  {
   "cell_type": "code",
   "execution_count": 5,
   "id": "aef48d01-8f92-4eac-9701-bdc1d52ce3c7",
   "metadata": {},
   "outputs": [
    {
     "data": {
      "text/plain": [
       "(27465, 'tenths of seconds in video')"
      ]
     },
     "execution_count": 5,
     "metadata": {},
     "output_type": "execute_result"
    }
   ],
   "source": [
    "#(totaltime of ms1, totaltime of ms2) ... in tenths of seconds\n",
    "#if two videos \n",
    "#(len(predictions[0]), len(predictions[1]))\n",
    "\n",
    "len(predictions[0]), \"tenths of seconds in video\"\n",
    "\n",
    "#sns.barplot(data=df, x=\"behavior\", y=\"animal\")"
   ]
  },
  {
   "cell_type": "code",
   "execution_count": 6,
   "id": "46e4831a-5e26-47f3-a8eb-431656508ce4",
   "metadata": {},
   "outputs": [
    {
     "data": {
      "text/html": [
       "<div>\n",
       "<style scoped>\n",
       "    .dataframe tbody tr th:only-of-type {\n",
       "        vertical-align: middle;\n",
       "    }\n",
       "\n",
       "    .dataframe tbody tr th {\n",
       "        vertical-align: top;\n",
       "    }\n",
       "\n",
       "    .dataframe thead th {\n",
       "        text-align: right;\n",
       "    }\n",
       "</style>\n",
       "<table border=\"1\" class=\"dataframe\">\n",
       "  <thead>\n",
       "    <tr style=\"text-align: right;\">\n",
       "      <th></th>\n",
       "      <th>animal</th>\n",
       "      <th>behavior</th>\n",
       "    </tr>\n",
       "  </thead>\n",
       "  <tbody>\n",
       "    <tr>\n",
       "      <th>0</th>\n",
       "      <td>06022023-162543</td>\n",
       "      <td>5.0</td>\n",
       "    </tr>\n",
       "    <tr>\n",
       "      <th>1</th>\n",
       "      <td>06022023-162543</td>\n",
       "      <td>5.0</td>\n",
       "    </tr>\n",
       "    <tr>\n",
       "      <th>2</th>\n",
       "      <td>06022023-162543</td>\n",
       "      <td>5.0</td>\n",
       "    </tr>\n",
       "    <tr>\n",
       "      <th>3</th>\n",
       "      <td>06022023-162543</td>\n",
       "      <td>5.0</td>\n",
       "    </tr>\n",
       "    <tr>\n",
       "      <th>4</th>\n",
       "      <td>06022023-162543</td>\n",
       "      <td>5.0</td>\n",
       "    </tr>\n",
       "    <tr>\n",
       "      <th>...</th>\n",
       "      <td>...</td>\n",
       "      <td>...</td>\n",
       "    </tr>\n",
       "    <tr>\n",
       "      <th>27460</th>\n",
       "      <td>06022023-162543</td>\n",
       "      <td>5.0</td>\n",
       "    </tr>\n",
       "    <tr>\n",
       "      <th>27461</th>\n",
       "      <td>06022023-162543</td>\n",
       "      <td>1.0</td>\n",
       "    </tr>\n",
       "    <tr>\n",
       "      <th>27462</th>\n",
       "      <td>06022023-162543</td>\n",
       "      <td>5.0</td>\n",
       "    </tr>\n",
       "    <tr>\n",
       "      <th>27463</th>\n",
       "      <td>06022023-162543</td>\n",
       "      <td>5.0</td>\n",
       "    </tr>\n",
       "    <tr>\n",
       "      <th>27464</th>\n",
       "      <td>06022023-162543</td>\n",
       "      <td>5.0</td>\n",
       "    </tr>\n",
       "  </tbody>\n",
       "</table>\n",
       "<p>27465 rows × 2 columns</p>\n",
       "</div>"
      ],
      "text/plain": [
       "                animal  behavior\n",
       "0      06022023-162543       5.0\n",
       "1      06022023-162543       5.0\n",
       "2      06022023-162543       5.0\n",
       "3      06022023-162543       5.0\n",
       "4      06022023-162543       5.0\n",
       "...                ...       ...\n",
       "27460  06022023-162543       5.0\n",
       "27461  06022023-162543       1.0\n",
       "27462  06022023-162543       5.0\n",
       "27463  06022023-162543       5.0\n",
       "27464  06022023-162543       5.0\n",
       "\n",
       "[27465 rows x 2 columns]"
      ]
     },
     "execution_count": 6,
     "metadata": {},
     "output_type": "execute_result"
    }
   ],
   "source": [
    "# for f in range(len(infiles)):\n",
    "data_dict = {'animal':np.hstack(([np.repeat(infiles[f].rpartition('_post')[0].rpartition('/')[2].rpartition(' 0-')[2], len(predictions[f])) \n",
    "                                  for f in range(len(infiles))])),\n",
    "             'behavior': np.hstack([predictions[f] for f in range(len(predictions))])}\n",
    "data_dict\n",
    "                                                                    \n",
    "df = pd.DataFrame(data = data_dict)\n",
    "df"
   ]
  },
  {
   "cell_type": "code",
   "execution_count": 7,
   "id": "df9117f3-bc9e-4b21-9155-3de866b79364",
   "metadata": {},
   "outputs": [
    {
     "data": {
      "text/plain": [
       "<AxesSubplot:xlabel='behavior', ylabel='Count'>"
      ]
     },
     "execution_count": 7,
     "metadata": {},
     "output_type": "execute_result"
    },
    {
     "data": {
      "image/png": "[encoded data removed]",
      "text/plain": [
       "<Figure size 640x480 with 1 Axes>"
      ]
     },
     "metadata": {},
     "output_type": "display_data"
    }
   ],
   "source": [
    "sns.histplot(data=df, x=\"behavior\", hue=\"animal\", \n",
    "             multiple=\"dodge\", shrink=.8)"
   ]
  },
  {
   "cell_type": "code",
   "execution_count": 8,
   "id": "72452e27-a6be-4a9f-b975-27a899596a97",
   "metadata": {},
   "outputs": [
    {
     "data": {
      "text/plain": [
       "<AxesSubplot:xlabel='behavior', ylabel='Probability'>"
      ]
     },
     "execution_count": 8,
     "metadata": {},
     "output_type": "execute_result"
    },
    {
     "data": {
      "image/png": "[encoded data removed]",
      "text/plain": [
       "<Figure size 640x480 with 1 Axes>"
      ]
     },
     "metadata": {},
     "output_type": "display_data"
    }
   ],
   "source": [
    "sns.histplot(data=df, x=\"behavior\",\n",
    "             stat='probability',\n",
    "             multiple=\"dodge\", shrink=.8)"
   ]
  },
  {
   "cell_type": "code",
   "execution_count": 9,
   "id": "d86a405b-ddc3-4283-8c54-de045d0cc853",
   "metadata": {},
   "outputs": [
    {
     "data": {
      "text/html": [
       "<div>\n",
       "<style scoped>\n",
       "    .dataframe tbody tr th:only-of-type {\n",
       "        vertical-align: middle;\n",
       "    }\n",
       "\n",
       "    .dataframe tbody tr th {\n",
       "        vertical-align: top;\n",
       "    }\n",
       "\n",
       "    .dataframe thead th {\n",
       "        text-align: right;\n",
       "    }\n",
       "</style>\n",
       "<table border=\"1\" class=\"dataframe\">\n",
       "  <thead>\n",
       "    <tr style=\"text-align: right;\">\n",
       "      <th></th>\n",
       "      <th>time</th>\n",
       "      <th>locomotion count</th>\n",
       "    </tr>\n",
       "  </thead>\n",
       "  <tbody>\n",
       "    <tr>\n",
       "      <th>3001</th>\n",
       "      <td>3001</td>\n",
       "      <td>2.0</td>\n",
       "    </tr>\n",
       "    <tr>\n",
       "      <th>3002</th>\n",
       "      <td>3002</td>\n",
       "      <td>2.0</td>\n",
       "    </tr>\n",
       "    <tr>\n",
       "      <th>3003</th>\n",
       "      <td>3003</td>\n",
       "      <td>2.0</td>\n",
       "    </tr>\n",
       "    <tr>\n",
       "      <th>3005</th>\n",
       "      <td>3005</td>\n",
       "      <td>2.0</td>\n",
       "    </tr>\n",
       "    <tr>\n",
       "      <th>3010</th>\n",
       "      <td>3010</td>\n",
       "      <td>2.0</td>\n",
       "    </tr>\n",
       "    <tr>\n",
       "      <th>...</th>\n",
       "      <td>...</td>\n",
       "      <td>...</td>\n",
       "    </tr>\n",
       "    <tr>\n",
       "      <th>27396</th>\n",
       "      <td>27396</td>\n",
       "      <td>2.0</td>\n",
       "    </tr>\n",
       "    <tr>\n",
       "      <th>27399</th>\n",
       "      <td>27399</td>\n",
       "      <td>2.0</td>\n",
       "    </tr>\n",
       "    <tr>\n",
       "      <th>27428</th>\n",
       "      <td>27428</td>\n",
       "      <td>2.0</td>\n",
       "    </tr>\n",
       "    <tr>\n",
       "      <th>27429</th>\n",
       "      <td>27429</td>\n",
       "      <td>2.0</td>\n",
       "    </tr>\n",
       "    <tr>\n",
       "      <th>27433</th>\n",
       "      <td>27433</td>\n",
       "      <td>2.0</td>\n",
       "    </tr>\n",
       "  </tbody>\n",
       "</table>\n",
       "<p>1887 rows × 2 columns</p>\n",
       "</div>"
      ],
      "text/plain": [
       "        time  locomotion count\n",
       "3001    3001               2.0\n",
       "3002    3002               2.0\n",
       "3003    3003               2.0\n",
       "3005    3005               2.0\n",
       "3010    3010               2.0\n",
       "...      ...               ...\n",
       "27396  27396               2.0\n",
       "27399  27399               2.0\n",
       "27428  27428               2.0\n",
       "27429  27429               2.0\n",
       "27433  27433               2.0\n",
       "\n",
       "[1887 rows x 2 columns]"
      ]
     },
     "execution_count": 9,
     "metadata": {},
     "output_type": "execute_result"
    }
   ],
   "source": [
    "#behavior plot over time for ms1 only \n",
    "\n",
    "ms1 = predictions[0]\n",
    "data_dict2 = {'time': np.hstack([f for f in range(len(predictions[0]))]),\n",
    "              'locomotion count': np.hstack([predictions[0][f] for f in range(len(ms1))])}\n",
    "\n",
    "df2 = pd.DataFrame(data= data_dict2) \n",
    "#Keep only the rows that include the behavior of interest \n",
    "behav_interest = 2\n",
    "df3 = df2.loc[df2[\"locomotion count\"] == behav_interest]\n",
    "df3"
   ]
  },
  {
   "cell_type": "code",
   "execution_count": null,
   "id": "a4079e48-0ed7-47df-84b0-b8f9a22103d2",
   "metadata": {},
   "outputs": [
    {
     "data": {
      "text/plain": [
       "<AxesSubplot:xlabel='time', ylabel='Count'>"
      ]
     },
     "execution_count": 10,
     "metadata": {},
     "output_type": "execute_result"
    },
    {
     "data": {
      "image/png": "[encoded data removed]",
      "text/plain": [
       "<Figure size 640x480 with 1 Axes>"
      ]
     },
     "metadata": {},
     "output_type": "display_data"
    }
   ],
   "source": [
    "sns.histplot(data=df3, x='time', \n",
    "             stat='count',\n",
    "             multiple='dodge', shrink=.8, bins=8)\n",
    "#3000 tenths of a second = 5 minutes\n",
    "#There doesn't seem to be a great difference in locomotion count that relates\n",
    "# to interjection of stim\n",
    "# The first bin represents the first 5 minutes of pre-stime, \n",
    "# which oddly shows the highest count of locomotive bouts"
   ]
  },
  {
   "cell_type": "markdown",
   "id": "358a1dbf-c404-4f6a-9f38-6f73b8413a58",
   "metadata": {},
   "source": [
    "## Analysis of bouts "
   ]
  },
  {
   "cell_type": "code",
   "execution_count": 52,
   "id": "4b5dfbea-1f1a-476c-9bfa-02587eb55aaf",
   "metadata": {},
   "outputs": [],
   "source": [
    "#data_dict3 = {'time': np.hstack([f for f in range(len(predictions[0]))]),\n",
    "#              'bouts': np.hstack([0 for f in range(len(predictions[0]))])}\n",
    "#\n",
    "#df4 = pd.DataFrame(data= data_dict3) \n",
    "#df4"
   ]
  },
  {
   "cell_type": "code",
   "execution_count": 11,
   "id": "ce39d26b-57eb-45fc-9046-b24eb1c4e1f0",
   "metadata": {},
   "outputs": [
    {
     "data": {
      "text/plain": [
       "3001"
      ]
     },
     "execution_count": 11,
     "metadata": {},
     "output_type": "execute_result"
    }
   ],
   "source": [
    "np.where(predictions[0] == 2)[0][0]"
   ]
  },
  {
   "cell_type": "code",
   "execution_count": 12,
   "id": "9870fe47-3799-4985-bf50-0573c44f346c",
   "metadata": {},
   "outputs": [
    {
     "data": {
      "text/plain": [
       "'There are 1 number of behavior of interest bouts in second 5 minutes'"
      ]
     },
     "execution_count": 12,
     "metadata": {},
     "output_type": "execute_result"
    }
   ],
   "source": [
    "#OLD VERSION ~!\n",
    "array_an1 = predictions[0].copy()\n",
    "\n",
    "count = 0\n",
    "\n",
    "#index of where the behavior changes gives us where each bout begins \n",
    "behav_start_an1 = np.where(np.diff(array_an1) != 0)\n",
    "# bin every 5 minutes (3000 * 100ms)\n",
    "time_ranges = [[i*3000, (i+1)*3000] for i in range(9)]\n",
    "\n",
    "#constrain it to behavior of interest\n",
    "behav_interest = 2\n",
    "counts_5min_bins = []\n",
    "when_occurred_5min_bins = []\n",
    "for _, idx in enumerate(behav_start_an1[0]):\n",
    "    if array_an1[idx+1] == behav_interest: \n",
    "        count = 0\n",
    "        when_occurred = []\n",
    "        for time_range in time_ranges:\n",
    "            if ((idx > time_range[0]) and (idx < time_range[1])):\n",
    "                # print(time_range)\n",
    "                count += 1 \n",
    "                when_occurred.append(idx)\n",
    "        counts_5min_bins.append(count)\n",
    "        when_occurred_5min_bins.append(when_occurred)\n",
    "#count is now number of behavior of interest bouts ! \n",
    "\n",
    "f\"There are {counts_5min_bins[2]} number of behavior of interest bouts in second 5 minutes\"\n",
    "\n",
    "#data_dict3 = {'time': np.hstack([f for f in range(len(array_an1))]), \n",
    "#              'behav_interest bouts': np.hstack([(count+1) for i in range(len(behav_start_an1[0])) (if array_an1[i+1] == behav_interest)]) }\n",
    "#df4 = pd.DataFrame(data=data_dict3)\n"
   ]
  },
  {
   "cell_type": "code",
   "execution_count": 12,
   "id": "cea0eca6-ea67-4185-a7c4-5f937cdd74d5",
   "metadata": {},
   "outputs": [
    {
     "name": "stdout",
     "output_type": "stream",
     "text": [
      "[0, 44, 51, 52, 21, 68, 78, 34, 50] 9\n"
     ]
    },
    {
     "data": {
      "text/plain": [
       "'There are 51 number of behavior of interest bouts in second 5-minute-bin'"
      ]
     },
     "execution_count": 12,
     "metadata": {},
     "output_type": "execute_result"
    }
   ],
   "source": [
    "array_an1 = predictions[0].copy()\n",
    "\n",
    "count = 0\n",
    "\n",
    "#index of where the behavior changes gives us where each bout begins \n",
    "behav_start_an1 = np.where(np.diff(array_an1) != 0)\n",
    "# bin every 5 minutes (3000 * 100ms)\n",
    "time_ranges = [[i*3000, (i+1)*3000] for i in range(9)]\n",
    "\n",
    "#constrain it to behavior of interest\n",
    "behav_interest = 2\n",
    "counts_5min_bins = []\n",
    "when_occurred_5min_bins = []\n",
    "when_occurred = []\n",
    "\n",
    "for time_range in time_ranges: \n",
    "    count = 0\n",
    "    for _, idx in enumerate(behav_start_an1[0]):\n",
    "        if ((idx > time_range[0]) and (idx < time_range[1])): # if in the correct 5 min bin\n",
    "            if array_an1[idx+1] == behav_interest: # if the value at bout index is behav_interest, add to count\n",
    "                count += 1 \n",
    "                when_occurred.append(idx)\n",
    "    counts_5min_bins.append(count) \n",
    "when_occurred_5min_bins.append(when_occurred) \n",
    "#Count is the number of behavior of interest bouts! \n",
    "            \n",
    "    \n",
    "print(counts_5min_bins, len(counts_5min_bins))\n",
    "f\"There are {counts_5min_bins[2]} number of behavior of interest bouts in second 5-minute-bin\"\n"
   ]
  },
  {
   "cell_type": "code",
   "execution_count": 13,
   "id": "5772a713-9e2f-4dc3-98f1-f53e16e37841",
   "metadata": {},
   "outputs": [
    {
     "data": {
      "text/plain": [
       "[[0, 3000],\n",
       " [3000, 6000],\n",
       " [6000, 9000],\n",
       " [9000, 12000],\n",
       " [12000, 15000],\n",
       " [15000, 18000],\n",
       " [18000, 21000],\n",
       " [21000, 24000],\n",
       " [24000, 27000]]"
      ]
     },
     "execution_count": 13,
     "metadata": {},
     "output_type": "execute_result"
    }
   ],
   "source": [
    "time_ranges = [[i*3000, (i+1)*3000] for i in range(9)]\n",
    "time_ranges"
   ]
  },
  {
   "cell_type": "code",
   "execution_count": 14,
   "id": "77b92cd1-0b10-42c2-97d3-6b4e317a97dc",
   "metadata": {},
   "outputs": [
    {
     "data": {
      "text/plain": [
       "[<matplotlib.lines.Line2D at 0x12bd91250>]"
      ]
     },
     "execution_count": 14,
     "metadata": {},
     "output_type": "execute_result"
    },
    {
     "data": {
      "image/png": "[encoded data removed]",
      "text/plain": [
       "<Figure size 640x480 with 1 Axes>"
      ]
     },
     "metadata": {},
     "output_type": "display_data"
    }
   ],
   "source": [
    "plt.plot(np.array(when_occurred)/10)\n",
    "\n",
    "# x-axis represents the bout number\n",
    "# y-axis represents the temporal position of bout\n",
    "# Steeper slope means longer duration of bouts.\n",
    "# Longer run means shorter duration of bouts."
   ]
  },
  {
   "cell_type": "code",
   "execution_count": 15,
   "id": "6b7744e3-c85e-42e2-b682-731f110aa3b8",
   "metadata": {},
   "outputs": [
    {
     "data": {
      "text/html": [
       "<div>\n",
       "<style scoped>\n",
       "    .dataframe tbody tr th:only-of-type {\n",
       "        vertical-align: middle;\n",
       "    }\n",
       "\n",
       "    .dataframe tbody tr th {\n",
       "        vertical-align: top;\n",
       "    }\n",
       "\n",
       "    .dataframe thead th {\n",
       "        text-align: right;\n",
       "    }\n",
       "</style>\n",
       "<table border=\"1\" class=\"dataframe\">\n",
       "  <thead>\n",
       "    <tr style=\"text-align: right;\">\n",
       "      <th></th>\n",
       "      <th>time</th>\n",
       "      <th>locomotive bouts count</th>\n",
       "    </tr>\n",
       "  </thead>\n",
       "  <tbody>\n",
       "    <tr>\n",
       "      <th>0</th>\n",
       "      <td>0</td>\n",
       "      <td>0</td>\n",
       "    </tr>\n",
       "    <tr>\n",
       "      <th>1</th>\n",
       "      <td>3000</td>\n",
       "      <td>44</td>\n",
       "    </tr>\n",
       "    <tr>\n",
       "      <th>2</th>\n",
       "      <td>6000</td>\n",
       "      <td>51</td>\n",
       "    </tr>\n",
       "    <tr>\n",
       "      <th>3</th>\n",
       "      <td>9000</td>\n",
       "      <td>52</td>\n",
       "    </tr>\n",
       "    <tr>\n",
       "      <th>4</th>\n",
       "      <td>12000</td>\n",
       "      <td>21</td>\n",
       "    </tr>\n",
       "    <tr>\n",
       "      <th>5</th>\n",
       "      <td>15000</td>\n",
       "      <td>68</td>\n",
       "    </tr>\n",
       "    <tr>\n",
       "      <th>6</th>\n",
       "      <td>18000</td>\n",
       "      <td>78</td>\n",
       "    </tr>\n",
       "    <tr>\n",
       "      <th>7</th>\n",
       "      <td>21000</td>\n",
       "      <td>34</td>\n",
       "    </tr>\n",
       "    <tr>\n",
       "      <th>8</th>\n",
       "      <td>24000</td>\n",
       "      <td>50</td>\n",
       "    </tr>\n",
       "  </tbody>\n",
       "</table>\n",
       "</div>"
      ],
      "text/plain": [
       "    time  locomotive bouts count\n",
       "0      0                       0\n",
       "1   3000                      44\n",
       "2   6000                      51\n",
       "3   9000                      52\n",
       "4  12000                      21\n",
       "5  15000                      68\n",
       "6  18000                      78\n",
       "7  21000                      34\n",
       "8  24000                      50"
      ]
     },
     "execution_count": 15,
     "metadata": {},
     "output_type": "execute_result"
    }
   ],
   "source": [
    "data_dict_bout = {'time': np.hstack([time_ranges[f][0] for f in range(len(time_ranges))]),\n",
    "              'locomotive bouts count': np.hstack([counts_5min_bins[f] for f in range(len(counts_5min_bins))])}\n",
    "\n",
    "df4 = pd.DataFrame(data= data_dict_bout) \n",
    "df4"
   ]
  },
  {
   "cell_type": "code",
   "execution_count": 16,
   "id": "9aa62894-924d-4fa8-af5b-a98e40016e43",
   "metadata": {},
   "outputs": [
    {
     "data": {
      "text/plain": [
       "<AxesSubplot:xlabel='time', ylabel='locomotive bouts count'>"
      ]
     },
     "execution_count": 16,
     "metadata": {},
     "output_type": "execute_result"
    },
    {
     "data": {
      "image/png": "[encoded data removed]",
      "text/plain": [
       "<Figure size 640x480 with 1 Axes>"
      ]
     },
     "metadata": {},
     "output_type": "display_data"
    }
   ],
   "source": [
    "sns.barplot(data=df4, x=\"time\", y=\"locomotive bouts count\", color='skyblue')"
   ]
  },
  {
   "cell_type": "code",
   "execution_count": null,
   "id": "31697868-3261-4191-88eb-616d803a8bfe",
   "metadata": {},
   "outputs": [],
   "source": []
  }
 ],
 "metadata": {
  "kernelspec": {
   "display_name": "Python 3 (ipykernel)",
   "language": "python",
   "name": "python3"
  },
  "language_info": {
   "codemirror_mode": {
    "name": "ipython",
    "version": 3
   },
   "file_extension": ".py",
   "mimetype": "text/x-python",
   "name": "python",
   "nbconvert_exporter": "python",
   "pygments_lexer": "ipython3",
   "version": "3.8.0"
  }
 },
 "nbformat": 4,
 "nbformat_minor": 5
}
