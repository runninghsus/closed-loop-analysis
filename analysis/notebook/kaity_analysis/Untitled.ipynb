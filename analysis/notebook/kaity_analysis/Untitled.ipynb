{
 "cells": [
  {
   "cell_type": "code",
   "execution_count": 1,
   "id": "f96a9a7c-d634-46da-baab-31e60398fcc4",
   "metadata": {},
   "outputs": [],
   "source": [
    "import joblib\n",
    "import os\n",
    "import pandas as pd\n",
    "from sklearn.ensemble import RandomForestClassifier\n",
    "import numpy as np\n",
    "from datetime import datetime\n",
    "import matplotlib.pyplot as plt\n",
    "import pickle\n",
    "import time\n",
    "from tkinter import *\n",
    "from tkinter import filedialog\n",
    "from tqdm import tqdm\n",
    "from tqdm import notebook\n",
    "import itertools\n",
    "import math\n",
    "import seaborn as sns"
   ]
  },
  {
   "cell_type": "code",
   "execution_count": 7,
   "id": "8710e163-99dd-4a24-a75d-0ca9580270a6",
   "metadata": {},
   "outputs": [],
   "source": [
    "# Create Tk root\n",
    "root = Tk()\n",
    "# Hide the main window\n",
    "root.withdraw()\n",
    "root.call('wm', 'attributes', '.', '-topmost', True)\n",
    "infiles = filedialog.askopenfilename(multiple=True, title='load posthoc-predictions.npy')\n",
    "\n",
    "%gui tk"
   ]
  },
  {
   "cell_type": "code",
   "execution_count": 8,
   "id": "a1952b41-af83-42fd-a911-556b1e7eefae",
   "metadata": {},
   "outputs": [
    {
     "data": {
      "text/plain": [
       "('Z:/temp/VideoOutputCamera 0-03022023-111235_posthoc-predictions.npy',\n",
       " 'Z:/temp/VideoOutputCamera 0-03022023-130237_posthoc-predictions.npy')"
      ]
     },
     "execution_count": 8,
     "metadata": {},
     "output_type": "execute_result"
    }
   ],
   "source": [
    "infiles"
   ]
  },
  {
   "cell_type": "code",
   "execution_count": 9,
   "id": "62c73f1f-b001-4650-878e-2bff1be85d49",
   "metadata": {},
   "outputs": [],
   "source": [
    "predictions = []\n",
    "for f in range(len(infiles)):\n",
    "    predictions.append(np.load(infiles[f]))"
   ]
  },
  {
   "cell_type": "code",
   "execution_count": 21,
   "id": "edf6b09f-ee01-4385-a5d1-4f3e7cf567e3",
   "metadata": {},
   "outputs": [
    {
     "data": {
      "text/plain": [
       "(29581, 16657)"
      ]
     },
     "execution_count": 21,
     "metadata": {},
     "output_type": "execute_result"
    }
   ],
   "source": [
    "#(totaltime of ms1, totaltime of ms2) ... in tenths of seconds \n",
    "(len(predictions[0]), len(predictions[1]))"
   ]
  },
  {
   "cell_type": "code",
   "execution_count": 10,
   "id": "dddf613e-7751-4dd8-8fb4-f752ba36d112",
   "metadata": {
    "scrolled": false
   },
   "outputs": [
    {
     "data": {
      "text/html": [
       "<div>\n",
       "<style scoped>\n",
       "    .dataframe tbody tr th:only-of-type {\n",
       "        vertical-align: middle;\n",
       "    }\n",
       "\n",
       "    .dataframe tbody tr th {\n",
       "        vertical-align: top;\n",
       "    }\n",
       "\n",
       "    .dataframe thead th {\n",
       "        text-align: right;\n",
       "    }\n",
       "</style>\n",
       "<table border=\"1\" class=\"dataframe\">\n",
       "  <thead>\n",
       "    <tr style=\"text-align: right;\">\n",
       "      <th></th>\n",
       "      <th>animal</th>\n",
       "      <th>behavior</th>\n",
       "    </tr>\n",
       "  </thead>\n",
       "  <tbody>\n",
       "    <tr>\n",
       "      <th>0</th>\n",
       "      <td>03022023-111235</td>\n",
       "      <td>5.0</td>\n",
       "    </tr>\n",
       "    <tr>\n",
       "      <th>1</th>\n",
       "      <td>03022023-111235</td>\n",
       "      <td>5.0</td>\n",
       "    </tr>\n",
       "    <tr>\n",
       "      <th>2</th>\n",
       "      <td>03022023-111235</td>\n",
       "      <td>5.0</td>\n",
       "    </tr>\n",
       "    <tr>\n",
       "      <th>3</th>\n",
       "      <td>03022023-111235</td>\n",
       "      <td>5.0</td>\n",
       "    </tr>\n",
       "    <tr>\n",
       "      <th>4</th>\n",
       "      <td>03022023-111235</td>\n",
       "      <td>5.0</td>\n",
       "    </tr>\n",
       "    <tr>\n",
       "      <th>...</th>\n",
       "      <td>...</td>\n",
       "      <td>...</td>\n",
       "    </tr>\n",
       "    <tr>\n",
       "      <th>46233</th>\n",
       "      <td>03022023-130237</td>\n",
       "      <td>5.0</td>\n",
       "    </tr>\n",
       "    <tr>\n",
       "      <th>46234</th>\n",
       "      <td>03022023-130237</td>\n",
       "      <td>5.0</td>\n",
       "    </tr>\n",
       "    <tr>\n",
       "      <th>46235</th>\n",
       "      <td>03022023-130237</td>\n",
       "      <td>5.0</td>\n",
       "    </tr>\n",
       "    <tr>\n",
       "      <th>46236</th>\n",
       "      <td>03022023-130237</td>\n",
       "      <td>5.0</td>\n",
       "    </tr>\n",
       "    <tr>\n",
       "      <th>46237</th>\n",
       "      <td>03022023-130237</td>\n",
       "      <td>5.0</td>\n",
       "    </tr>\n",
       "  </tbody>\n",
       "</table>\n",
       "<p>46238 rows × 2 columns</p>\n",
       "</div>"
      ],
      "text/plain": [
       "                animal  behavior\n",
       "0      03022023-111235       5.0\n",
       "1      03022023-111235       5.0\n",
       "2      03022023-111235       5.0\n",
       "3      03022023-111235       5.0\n",
       "4      03022023-111235       5.0\n",
       "...                ...       ...\n",
       "46233  03022023-130237       5.0\n",
       "46234  03022023-130237       5.0\n",
       "46235  03022023-130237       5.0\n",
       "46236  03022023-130237       5.0\n",
       "46237  03022023-130237       5.0\n",
       "\n",
       "[46238 rows x 2 columns]"
      ]
     },
     "execution_count": 10,
     "metadata": {},
     "output_type": "execute_result"
    }
   ],
   "source": [
    "# for f in range(len(infiles)):\n",
    "data_dict = {'animal':np.hstack(([np.repeat(infiles[f].rpartition('_post')[0].rpartition('/')[2].rpartition(' 0-')[2], len(predictions[f])) \n",
    "                                  for f in range(len(infiles))])),\n",
    "             'behavior': np.hstack([predictions[f] for f in range(len(predictions))])}\n",
    "data_dict\n",
    "                                                                    \n",
    "df = pd.DataFrame(data = data_dict)\n",
    "df"
   ]
  },
  {
   "cell_type": "code",
   "execution_count": 11,
   "id": "099f734f-4a6b-46f1-a4a4-e1927f0f34be",
   "metadata": {
    "scrolled": false
   },
   "outputs": [
    {
     "data": {
      "text/plain": [
       "<AxesSubplot: xlabel='behavior', ylabel='Count'>"
      ]
     },
     "execution_count": 11,
     "metadata": {},
     "output_type": "execute_result"
    },
    {
     "data": {
      "image/png": "[encoded data removed]",
      "text/plain": [
       "<Figure size 640x480 with 1 Axes>"
      ]
     },
     "metadata": {},
     "output_type": "display_data"
    }
   ],
   "source": [
    "sns.histplot(data=df, x=\"behavior\", hue=\"animal\", \n",
    "             multiple=\"dodge\", shrink=.8)"
   ]
  },
  {
   "cell_type": "raw",
   "id": "387abe5d",
   "metadata": {},
   "source": [
    "sns.histplot(data=df, x=\"behavior\",\n",
    "             stat='probability',\n",
    "             multiple=\"dodge\", shrink=.8)"
   ]
  },
  {
   "cell_type": "code",
   "execution_count": 41,
   "id": "ff0f1bc2-fbfd-4f04-95c0-94a04895dad3",
   "metadata": {},
   "outputs": [
    {
     "data": {
      "text/plain": [
       "(        time  behavior\n",
       " 0          0       5.0\n",
       " 1          1       5.0\n",
       " 2          2       5.0\n",
       " 3          3       5.0\n",
       " 4          4       5.0\n",
       " ...      ...       ...\n",
       " 29576  29576       5.0\n",
       " 29577  29577       5.0\n",
       " 29578  29578       5.0\n",
       " 29579  29579       5.0\n",
       " 29580  29580       5.0\n",
       " \n",
       " [29581 rows x 2 columns],\n",
       "         time  behavior\n",
       " 16        16       2.0\n",
       " 17        17       2.0\n",
       " 18        18       2.0\n",
       " 19        19       2.0\n",
       " 20        20       2.0\n",
       " ...      ...       ...\n",
       " 29568  29568       2.0\n",
       " 29569  29569       2.0\n",
       " 29570  29570       2.0\n",
       " 29571  29571       2.0\n",
       " 29573  29573       2.0\n",
       " \n",
       " [2926 rows x 2 columns])"
      ]
     },
     "execution_count": 41,
     "metadata": {},
     "output_type": "execute_result"
    }
   ],
   "source": [
    "#behavior plot over time for ms1 only (49 min video)\n",
    "\n",
    "ms1 = predictions[0]\n",
    "data_dict2 = {'time': np.hstack([f for f in range(len(predictions[0]))]), \n",
    "              'locomotion count': np.hstack([predictions[0][f] for f in range(len(ms1))])}\n",
    "\n",
    "\n",
    "df2 = pd.DataFrame(data = data_dict2)\n",
    "df3 = df2[df2.behavior == 2]\n",
    "df2, df3\n",
    "\n",
    "        "
   ]
  },
  {
   "cell_type": "code",
   "execution_count": 61,
   "id": "10377e60",
   "metadata": {},
   "outputs": [
    {
     "data": {
      "text/plain": [
       "<AxesSubplot: xlabel='time', ylabel='Count'>"
      ]
     },
     "execution_count": 61,
     "metadata": {},
     "output_type": "execute_result"
    },
    {
     "data": {
      "image/png": "[encoded data removed]",
      "text/plain": [
       "<Figure size 640x480 with 1 Axes>"
      ]
     },
     "metadata": {},
     "output_type": "display_data"
    }
   ],
   "source": [
    "sns.histplot(data=df3, x=\"time\",\n",
    "             stat='count',\n",
    "             multiple=\"dodge\", shrink=.8, bins=13) #3000 tenths of a second = 5 mins\n",
    "\n",
    "#There doesn't seem to be a great difference in locomotion count that relates to interjection of stim.\n",
    "#The first bin represents the first 5 minutes of pre-stim, which oddly shows the highest count of locomotion bouts. \n"
   ]
  },
  {
   "cell_type": "code",
   "execution_count": null,
   "id": "2901ef39",
   "metadata": {},
   "outputs": [],
   "source": []
  }
 ],
 "metadata": {
  "kernelspec": {
   "display_name": "Python 3 (ipykernel)",
   "language": "python",
   "name": "python3"
  },
  "language_info": {
   "codemirror_mode": {
    "name": "ipython",
    "version": 3
   },
   "file_extension": ".py",
   "mimetype": "text/x-python",
   "name": "python",
   "nbconvert_exporter": "python",
   "pygments_lexer": "ipython3",
   "version": "3.8.0"
  }
 },
 "nbformat": 4,
 "nbformat_minor": 5
}
