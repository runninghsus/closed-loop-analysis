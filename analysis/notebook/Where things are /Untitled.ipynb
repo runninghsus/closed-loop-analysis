{
 "cells": [
  {
   "cell_type": "code",
   "execution_count": 19,
   "id": "581bfeb3",
   "metadata": {},
   "outputs": [
    {
     "name": "stdout",
     "output_type": "stream",
     "text": [
      "Requirement already satisfied: Pyreadstat in /Users/kaycei/anaconda3/envs/closed-loop/lib/python3.10/site-packages (1.2.7)\n",
      "Requirement already satisfied: pandas>=1.2.0 in /Users/kaycei/anaconda3/envs/closed-loop/lib/python3.10/site-packages (from Pyreadstat) (2.2.0)\n",
      "Requirement already satisfied: numpy<2,>=1.22.4 in /Users/kaycei/anaconda3/envs/closed-loop/lib/python3.10/site-packages (from pandas>=1.2.0->Pyreadstat) (1.26.3)\n",
      "Requirement already satisfied: python-dateutil>=2.8.2 in /Users/kaycei/anaconda3/envs/closed-loop/lib/python3.10/site-packages (from pandas>=1.2.0->Pyreadstat) (2.8.2)\n",
      "Requirement already satisfied: pytz>=2020.1 in /Users/kaycei/anaconda3/envs/closed-loop/lib/python3.10/site-packages (from pandas>=1.2.0->Pyreadstat) (2023.4)\n",
      "Requirement already satisfied: tzdata>=2022.7 in /Users/kaycei/anaconda3/envs/closed-loop/lib/python3.10/site-packages (from pandas>=1.2.0->Pyreadstat) (2023.4)\n",
      "Requirement already satisfied: six>=1.5 in /Users/kaycei/anaconda3/envs/closed-loop/lib/python3.10/site-packages (from python-dateutil>=2.8.2->pandas>=1.2.0->Pyreadstat) (1.16.0)\n"
     ]
    }
   ],
   "source": [
    "!pip install Pyreadstat"
   ]
  },
  {
   "cell_type": "code",
   "execution_count": 17,
   "id": "c32a59f8",
   "metadata": {},
   "outputs": [],
   "source": [
    "import pandas as pd\n",
    "import pyreadstat\n",
    "\n"
   ]
  },
  {
   "cell_type": "code",
   "execution_count": 18,
   "id": "9de138db",
   "metadata": {},
   "outputs": [
    {
     "ename": "ReadstatError",
     "evalue": "Invalid file, or file has unsupported features",
     "output_type": "error",
     "traceback": [
      "\u001b[0;31m---------------------------------------------------------------------------\u001b[0m",
      "\u001b[0;31mReadstatError\u001b[0m                             Traceback (most recent call last)",
      "Input \u001b[0;32mIn [18]\u001b[0m, in \u001b[0;36m<cell line: 1>\u001b[0;34m()\u001b[0m\n\u001b[0;32m----> 1\u001b[0m df \u001b[38;5;241m=\u001b[39m \u001b[43mpd\u001b[49m\u001b[38;5;241;43m.\u001b[39;49m\u001b[43mread_spss\u001b[49m\u001b[43m(\u001b[49m\u001b[38;5;124;43m'\u001b[39;49m\u001b[38;5;124;43m/Users/kaycei/K on Server (NoMachine)/KayCei/Naturalistic Closed Loop/temp/iterX_usable_new.sav\u001b[39;49m\u001b[38;5;124;43m'\u001b[39;49m\u001b[43m)\u001b[49m\n\u001b[1;32m      2\u001b[0m \u001b[38;5;28mtype\u001b[39m(df)\n",
      "File \u001b[0;32m~/anaconda3/envs/closed-loop/lib/python3.10/site-packages/pandas/io/spss.py:66\u001b[0m, in \u001b[0;36mread_spss\u001b[0;34m(path, usecols, convert_categoricals, dtype_backend)\u001b[0m\n\u001b[1;32m     63\u001b[0m         \u001b[38;5;28;01mraise\u001b[39;00m \u001b[38;5;167;01mTypeError\u001b[39;00m(\u001b[38;5;124m\"\u001b[39m\u001b[38;5;124musecols must be list-like.\u001b[39m\u001b[38;5;124m\"\u001b[39m)\n\u001b[1;32m     64\u001b[0m     usecols \u001b[38;5;241m=\u001b[39m \u001b[38;5;28mlist\u001b[39m(usecols)  \u001b[38;5;66;03m# pyreadstat requires a list\u001b[39;00m\n\u001b[0;32m---> 66\u001b[0m df, metadata \u001b[38;5;241m=\u001b[39m \u001b[43mpyreadstat\u001b[49m\u001b[38;5;241;43m.\u001b[39;49m\u001b[43mread_sav\u001b[49m\u001b[43m(\u001b[49m\n\u001b[1;32m     67\u001b[0m \u001b[43m    \u001b[49m\u001b[43mstringify_path\u001b[49m\u001b[43m(\u001b[49m\u001b[43mpath\u001b[49m\u001b[43m)\u001b[49m\u001b[43m,\u001b[49m\u001b[43m \u001b[49m\u001b[43musecols\u001b[49m\u001b[38;5;241;43m=\u001b[39;49m\u001b[43musecols\u001b[49m\u001b[43m,\u001b[49m\u001b[43m \u001b[49m\u001b[43mapply_value_formats\u001b[49m\u001b[38;5;241;43m=\u001b[39;49m\u001b[43mconvert_categoricals\u001b[49m\n\u001b[1;32m     68\u001b[0m \u001b[43m\u001b[49m\u001b[43m)\u001b[49m\n\u001b[1;32m     69\u001b[0m df\u001b[38;5;241m.\u001b[39mattrs \u001b[38;5;241m=\u001b[39m metadata\u001b[38;5;241m.\u001b[39m\u001b[38;5;18m__dict__\u001b[39m\n\u001b[1;32m     70\u001b[0m \u001b[38;5;28;01mif\u001b[39;00m dtype_backend \u001b[38;5;129;01mis\u001b[39;00m \u001b[38;5;129;01mnot\u001b[39;00m lib\u001b[38;5;241m.\u001b[39mno_default:\n",
      "File \u001b[0;32mpyreadstat/pyreadstat.pyx:389\u001b[0m, in \u001b[0;36mpyreadstat.pyreadstat.read_sav\u001b[0;34m()\u001b[0m\n",
      "File \u001b[0;32mpyreadstat/_readstat_parser.pyx:1137\u001b[0m, in \u001b[0;36mpyreadstat._readstat_parser.run_conversion\u001b[0;34m()\u001b[0m\n",
      "File \u001b[0;32mpyreadstat/_readstat_parser.pyx:882\u001b[0m, in \u001b[0;36mpyreadstat._readstat_parser.run_readstat_parser\u001b[0;34m()\u001b[0m\n",
      "File \u001b[0;32mpyreadstat/_readstat_parser.pyx:804\u001b[0m, in \u001b[0;36mpyreadstat._readstat_parser.check_exit_status\u001b[0;34m()\u001b[0m\n",
      "\u001b[0;31mReadstatError\u001b[0m: Invalid file, or file has unsupported features"
     ]
    }
   ],
   "source": [
    "df, meta = pyreadstat.read_sav('/Users/kaycei/K on Server (NoMachine)/KayCei/Naturalistic Closed Loop/temp/iterX_usable_new.sav')\n",
    "type(df)"
   ]
  },
  {
   "cell_type": "code",
   "execution_count": null,
   "id": "7503ac9a",
   "metadata": {},
   "outputs": [],
   "source": []
  }
 ],
 "metadata": {
  "kernelspec": {
   "display_name": "Python 3 (ipykernel)",
   "language": "python",
   "name": "python3"
  },
  "language_info": {
   "codemirror_mode": {
    "name": "ipython",
    "version": 3
   },
   "file_extension": ".py",
   "mimetype": "text/x-python",
   "name": "python",
   "nbconvert_exporter": "python",
   "pygments_lexer": "ipython3",
   "version": "3.10.4"
  }
 },
 "nbformat": 4,
 "nbformat_minor": 5
}
