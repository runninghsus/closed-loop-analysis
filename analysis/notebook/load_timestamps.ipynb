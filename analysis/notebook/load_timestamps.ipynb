{
 "cells": [
  {
   "cell_type": "markdown",
   "metadata": {
    "tags": []
   },
   "source": [
    "## import dependencies"
   ]
  },
  {
   "cell_type": "code",
   "execution_count": 1,
   "metadata": {},
   "outputs": [],
   "source": [
    "import pandas as pd\n",
    "import numpy as np\n",
    "from datetime import datetime\n",
    "import matplotlib.pyplot as plt\n",
    "import pickle\n",
    "import time\n",
    "from tkinter import *\n",
    "from tkinter import filedialog"
   ]
  },
  {
   "cell_type": "markdown",
   "metadata": {
    "tags": []
   },
   "source": [
    "## load file using the gui popup"
   ]
  },
  {
   "cell_type": "code",
   "execution_count": 2,
   "metadata": {},
   "outputs": [
    {
     "name": "stderr",
     "output_type": "stream",
     "text": [
      "objc[1946]: Class FIFinderSyncExtensionHost is implemented in both /System/Library/PrivateFrameworks/FinderKit.framework/Versions/A/FinderKit (0x7fff937673f0) and /System/Library/PrivateFrameworks/FileProvider.framework/OverrideBundles/FinderSyncCollaborationFileProviderOverride.bundle/Contents/MacOS/FinderSyncCollaborationFileProviderOverride (0x115853f50). One of the two will be used. Which one is undefined.\n"
     ]
    }
   ],
   "source": [
    "# Create Tk root\n",
    "root = Tk()\n",
    "# Hide the main window\n",
    "root.withdraw()\n",
    "root.call('wm', 'attributes', '.', '-topmost', True)\n",
    "infiles = filedialog.askopenfilename(multiple=True, title='load timestamp csv')\n",
    "\n",
    "%gui tk"
   ]
  },
  {
   "cell_type": "code",
   "execution_count": 12,
   "metadata": {},
   "outputs": [
    {
     "data": {
      "text/html": [
       "<div>\n",
       "<style scoped>\n",
       "    .dataframe tbody tr th:only-of-type {\n",
       "        vertical-align: middle;\n",
       "    }\n",
       "\n",
       "    .dataframe tbody tr th {\n",
       "        vertical-align: top;\n",
       "    }\n",
       "\n",
       "    .dataframe thead th {\n",
       "        text-align: right;\n",
       "    }\n",
       "</style>\n",
       "<table border=\"1\" class=\"dataframe\">\n",
       "  <thead>\n",
       "    <tr style=\"text-align: right;\">\n",
       "      <th></th>\n",
       "      <th>Experiment_Start</th>\n",
       "      <th>Stim_Start</th>\n",
       "      <th>Stim_End</th>\n",
       "      <th>(6, 'Stim_Start')</th>\n",
       "      <th>(7, 'Stim_Start')</th>\n",
       "      <th>(8, 'Stim_Start')</th>\n",
       "      <th>(9, 'Stim_Start')</th>\n",
       "      <th>(10, 'Stim_Start')</th>\n",
       "      <th>(11, 'Stim_Start')</th>\n",
       "      <th>(12, 'Stim_Start')</th>\n",
       "      <th>...</th>\n",
       "      <th>(1485, 'Stim_Start')</th>\n",
       "      <th>(1486, 'Stim_Start')</th>\n",
       "      <th>(1487, 'Stim_Start')</th>\n",
       "      <th>(1488, 'Stim_Start')</th>\n",
       "      <th>(1489, 'Stim_Start')</th>\n",
       "      <th>(1490, 'Stim_Start')</th>\n",
       "      <th>(1491, 'Stim_Start')</th>\n",
       "      <th>(1492, 'Stim_Start')</th>\n",
       "      <th>(1493, 'Stim_Start')</th>\n",
       "      <th>(1494, 'Stim_Start')</th>\n",
       "    </tr>\n",
       "  </thead>\n",
       "  <tbody>\n",
       "    <tr>\n",
       "      <th>0</th>\n",
       "      <td>20220901_14:09:47:487600</td>\n",
       "      <td>NaN</td>\n",
       "      <td>NaN</td>\n",
       "      <td>1.662056e+09</td>\n",
       "      <td>1.662056e+09</td>\n",
       "      <td>1.662056e+09</td>\n",
       "      <td>1.662056e+09</td>\n",
       "      <td>1.662056e+09</td>\n",
       "      <td>1.662056e+09</td>\n",
       "      <td>1.662056e+09</td>\n",
       "      <td>...</td>\n",
       "      <td>1.662058e+09</td>\n",
       "      <td>1.662058e+09</td>\n",
       "      <td>1.662058e+09</td>\n",
       "      <td>1.662058e+09</td>\n",
       "      <td>1.662058e+09</td>\n",
       "      <td>1.662058e+09</td>\n",
       "      <td>1.662058e+09</td>\n",
       "      <td>1.662058e+09</td>\n",
       "      <td>1.662058e+09</td>\n",
       "      <td>1.662058e+09</td>\n",
       "    </tr>\n",
       "  </tbody>\n",
       "</table>\n",
       "<p>1 rows × 1492 columns</p>\n",
       "</div>"
      ],
      "text/plain": [
       "           Experiment_Start  Stim_Start  Stim_End  (6, 'Stim_Start')  \\\n",
       "0  20220901_14:09:47:487600         NaN       NaN       1.662056e+09   \n",
       "\n",
       "   (7, 'Stim_Start')  (8, 'Stim_Start')  (9, 'Stim_Start')  \\\n",
       "0       1.662056e+09       1.662056e+09       1.662056e+09   \n",
       "\n",
       "   (10, 'Stim_Start')  (11, 'Stim_Start')  (12, 'Stim_Start')  ...  \\\n",
       "0        1.662056e+09        1.662056e+09        1.662056e+09  ...   \n",
       "\n",
       "   (1485, 'Stim_Start')  (1486, 'Stim_Start')  (1487, 'Stim_Start')  \\\n",
       "0          1.662058e+09          1.662058e+09          1.662058e+09   \n",
       "\n",
       "   (1488, 'Stim_Start')  (1489, 'Stim_Start')  (1490, 'Stim_Start')  \\\n",
       "0          1.662058e+09          1.662058e+09          1.662058e+09   \n",
       "\n",
       "   (1491, 'Stim_Start')  (1492, 'Stim_Start')  (1493, 'Stim_Start')  \\\n",
       "0          1.662058e+09          1.662058e+09          1.662058e+09   \n",
       "\n",
       "   (1494, 'Stim_Start')  \n",
       "0          1.662058e+09  \n",
       "\n",
       "[1 rows x 1492 columns]"
      ]
     },
     "execution_count": 12,
     "metadata": {},
     "output_type": "execute_result"
    }
   ],
   "source": [
    "df = pd.read_csv(infiles[0])\n",
    "df.tail()"
   ]
  },
  {
   "cell_type": "markdown",
   "metadata": {
    "tags": []
   },
   "source": [
    "## compute time elapsed (detectable behavior start times)"
   ]
  },
  {
   "cell_type": "code",
   "execution_count": 40,
   "metadata": {},
   "outputs": [],
   "source": [
    "# fmt = '%Y%m%d_%H:%M:%S:%f'\n",
    "stim_time = []\n",
    "tstamp_0 = time.mktime(date_time.timetuple())\n",
    "for i in range(3, np.array(df).shape[1]):\n",
    "#     print(i)\n",
    "    try:\n",
    "        \n",
    "#         tstamp2 = datetime.strptime(np.array(df)[0, i], fmt)\n",
    "        tstamp2 = np.array(df)[0, i]\n",
    "        time_elapsed = tstamp2-tstamp_0\n",
    "        stim_time.append(time_elapsed)\n",
    "    except:\n",
    "        pass"
   ]
  },
  {
   "cell_type": "code",
   "execution_count": 43,
   "metadata": {},
   "outputs": [
    {
     "data": {
      "text/plain": [
       "(0.0, 1812.013240814209)"
      ]
     },
     "execution_count": 43,
     "metadata": {},
     "output_type": "execute_result"
    },
    {
     "data": {
      "image/png": "[encoded data removed]",
      "text/plain": [
       "<Figure size 432x288 with 1 Axes>"
      ]
     },
     "metadata": {
      "needs_background": "light"
     },
     "output_type": "display_data"
    }
   ],
   "source": [
    "fig, ax = plt.subplots(1, 1)\n",
    "ax.plot(np.array(stim_time))\n",
    "ax.set_xlabel('stim counts')\n",
    "ax.set_ylabel('second since start')\n",
    "# ax.vlines(np.where(np.array(stim_time) > 300)[0][0], 0, (np.array(stim_time)).max())\n",
    "ax.set_ylim([0, (np.array(stim_time)).max()])"
   ]
  },
  {
   "cell_type": "markdown",
   "metadata": {
    "tags": []
   },
   "source": [
    "### plot, and save"
   ]
  },
  {
   "cell_type": "code",
   "execution_count": 9,
   "metadata": {},
   "outputs": [],
   "source": [
    "np.save('../tmp/realtime_trial1_orientL.npy', np.array(stim_time))"
   ]
  },
  {
   "cell_type": "code",
   "execution_count": 44,
   "metadata": {},
   "outputs": [
    {
     "data": {
      "text/plain": [
       "<matplotlib.collections.PathCollection at 0x1a50eeb8448>"
      ]
     },
     "execution_count": 44,
     "metadata": {},
     "output_type": "execute_result"
    },
    {
     "data": {
      "image/png": "[encoded data removed]",
      "text/plain": [
       "<Figure size 432x288 with 1 Axes>"
      ]
     },
     "metadata": {
      "needs_background": "light"
     },
     "output_type": "display_data"
    }
   ],
   "source": [
    "plt.scatter(np.arange(len(stim_time)), stim_time, c='k', s=0.3, alpha=0.3)"
   ]
  },
  {
   "cell_type": "code",
   "execution_count": 45,
   "metadata": {},
   "outputs": [
    {
     "name": "stdout",
     "output_type": "stream",
     "text": [
      "[   0.   60.  120.  180.  240.  300.  360.  420.  480.  540.  600.  660.\n",
      "  720.  780.  840.  900.  960. 1020. 1080. 1140. 1200. 1260. 1320. 1380.\n",
      " 1440. 1500. 1560. 1620. 1680. 1740. 1800.] [  60.  120.  180.  240.  300.  360.  420.  480.  540.  600.  660.  720.\n",
      "  780.  840.  900.  960. 1020. 1080. 1140. 1200. 1260. 1320. 1380. 1440.\n",
      " 1500. 1560. 1620. 1680. 1740. 1800. 1860.]\n"
     ]
    }
   ],
   "source": [
    "bin_start = np.arange(0, np.max(stim_time), 60)\n",
    "bin_end = np.arange(60, np.max(stim_time)+60, 60)\n",
    "print(bin_start, bin_end)\n",
    "stim_binned_counts = []\n",
    "for b in range(len(bin_start)):\n",
    "    stim_binned_counts.append(len(np.where((stim_time >= bin_start[b]) & (stim_time < bin_end[b]))[0]))"
   ]
  },
  {
   "cell_type": "code",
   "execution_count": 46,
   "metadata": {},
   "outputs": [
    {
     "data": {
      "text/plain": [
       "<BarContainer object of 31 artists>"
      ]
     },
     "execution_count": 46,
     "metadata": {},
     "output_type": "execute_result"
    },
    {
     "data": {
      "image/png": "[encoded data removed]",
      "text/plain": [
       "<Figure size 432x288 with 1 Axes>"
      ]
     },
     "metadata": {
      "needs_background": "light"
     },
     "output_type": "display_data"
    }
   ],
   "source": [
    "plt.bar(np.arange(len(stim_binned_counts)), stim_binned_counts)"
   ]
  },
  {
   "cell_type": "code",
   "execution_count": 48,
   "metadata": {},
   "outputs": [
    {
     "name": "stdout",
     "output_type": "stream",
     "text": [
      "animal performs this behavior around 0.8005376344086022Hz\n"
     ]
    }
   ],
   "source": [
    "print(f'animal performs this behavior around {np.mean(stim_binned_counts)/60}Hz')"
   ]
  },
  {
   "cell_type": "code",
   "execution_count": null,
   "metadata": {},
   "outputs": [],
   "source": []
  },
  {
   "cell_type": "code",
   "execution_count": null,
   "metadata": {},
   "outputs": [],
   "source": []
  },
  {
   "cell_type": "code",
   "execution_count": null,
   "metadata": {},
   "outputs": [],
   "source": []
  },
  {
   "cell_type": "markdown",
   "metadata": {},
   "source": [
    "## start time"
   ]
  },
  {
   "cell_type": "code",
   "execution_count": 26,
   "metadata": {},
   "outputs": [
    {
     "name": "stdout",
     "output_type": "stream",
     "text": [
      "11:51:37:909643\n"
     ]
    }
   ],
   "source": [
    "start_time = df.iloc[0, 0]\n",
    "tt = start_time\n",
    "print(tt.rpartition('_')[2])"
   ]
  },
  {
   "cell_type": "code",
   "execution_count": 27,
   "metadata": {},
   "outputs": [
    {
     "name": "stdout",
     "output_type": "stream",
     "text": [
      "start hour: 11; minute: 51; second: 37 \n"
     ]
    }
   ],
   "source": [
    "start_seconds = tt.rpartition('_')[2].rpartition(':')[0].rpartition(':')[-1]\n",
    "start_min = tt.rpartition('_')[2].rpartition(':')[0].rpartition(':')[0].rpartition(':')[-1]\n",
    "start_hour = tt.rpartition('_')[2].rpartition(':')[0].rpartition(':')[0].rpartition(':')[0].rpartition(':')[-1]\n",
    "print(f'start hour: {start_hour}; minute: {start_min}; second: {start_seconds} ')"
   ]
  },
  {
   "cell_type": "markdown",
   "metadata": {},
   "source": [
    "## first stim"
   ]
  },
  {
   "cell_type": "code",
   "execution_count": 28,
   "metadata": {},
   "outputs": [
    {
     "name": "stdout",
     "output_type": "stream",
     "text": [
      "11:51:44:693849\n"
     ]
    }
   ],
   "source": [
    "stim1_time = df.iloc[0, 3]\n",
    "tt1 = stim1_time\n",
    "print(tt1.rpartition('_')[2])"
   ]
  },
  {
   "cell_type": "code",
   "execution_count": 32,
   "metadata": {},
   "outputs": [
    {
     "name": "stdout",
     "output_type": "stream",
     "text": [
      "first stim hour: 11; minute: 51; second: 44 \n"
     ]
    }
   ],
   "source": [
    "stim1_seconds = tt1.rpartition('_')[2].rpartition(':')[0].rpartition(':')[-1]\n",
    "stim1_min = tt1.rpartition('_')[2].rpartition(':')[0].rpartition(':')[0].rpartition(':')[-1]\n",
    "stim1_hour = tt1.rpartition('_')[2].rpartition(':')[0].rpartition(':')[0].rpartition(':')[0].rpartition(':')[-1]\n",
    "print(f'first stim hour: {stim1_hour}; minute: {stim1_min}; second: {stim1_seconds} ')"
   ]
  },
  {
   "cell_type": "code",
   "execution_count": 37,
   "metadata": {},
   "outputs": [
    {
     "name": "stdout",
     "output_type": "stream",
     "text": [
      "First stim since start: 0; minute: 0; second: 7 \n"
     ]
    }
   ],
   "source": [
    "diff_hour = int(stim1_hour) - int(start_hour)\n",
    "diff_min = int(stim1_min) - int(start_min)\n",
    "diff_sec = int(stim1_seconds) - int(start_seconds)\n",
    "print(f'First stim since start: {diff_hour}; minute: {diff_min}; second: {diff_sec} ')"
   ]
  },
  {
   "cell_type": "code",
   "execution_count": 34,
   "metadata": {},
   "outputs": [
    {
     "data": {
      "text/plain": [
       "'11'"
      ]
     },
     "execution_count": 34,
     "metadata": {},
     "output_type": "execute_result"
    }
   ],
   "source": [
    "stim1_hour"
   ]
  }
 ],
 "metadata": {
  "kernelspec": {
   "display_name": "Python 3 (ipykernel)",
   "language": "python",
   "name": "python3"
  },
  "language_info": {
   "codemirror_mode": {
    "name": "ipython",
    "version": 3
   },
   "file_extension": ".py",
   "mimetype": "text/x-python",
   "name": "python",
   "nbconvert_exporter": "python",
   "pygments_lexer": "ipython3",
   "version": "3.8.0"
  }
 },
 "nbformat": 4,
 "nbformat_minor": 4
}
