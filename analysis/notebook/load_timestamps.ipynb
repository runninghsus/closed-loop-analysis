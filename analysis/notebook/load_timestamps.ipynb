{
 "cells": [
  {
   "cell_type": "markdown",
   "metadata": {
    "tags": []
   },
   "source": [
    "## import dependencies"
   ]
  },
  {
   "cell_type": "code",
   "execution_count": 1,
   "metadata": {},
   "outputs": [],
   "source": [
    "import pandas as pd\n",
    "import numpy as np\n",
    "from datetime import datetime\n",
    "import matplotlib.pyplot as plt\n",
    "import pickle\n",
    "import time\n",
    "from tkinter import *\n",
    "from tkinter import filedialog"
   ]
  },
  {
   "cell_type": "markdown",
   "metadata": {
    "tags": []
   },
   "source": [
    "## load file using the gui popup"
   ]
  },
  {
   "cell_type": "code",
   "execution_count": 2,
   "metadata": {},
   "outputs": [],
   "source": [
    "# Create Tk root\n",
    "root = Tk()\n",
    "# Hide the main window\n",
    "root.withdraw()\n",
    "root.call('wm', 'attributes', '.', '-topmost', True)\n",
    "infiles = filedialog.askopenfilename(multiple=True, title='load timestamp csv')\n",
    "\n",
    "%gui tk"
   ]
  },
  {
   "cell_type": "code",
   "execution_count": 58,
   "metadata": {},
   "outputs": [
    {
     "data": {
      "text/html": [
       "<div>\n",
       "<style scoped>\n",
       "    .dataframe tbody tr th:only-of-type {\n",
       "        vertical-align: middle;\n",
       "    }\n",
       "\n",
       "    .dataframe tbody tr th {\n",
       "        vertical-align: top;\n",
       "    }\n",
       "\n",
       "    .dataframe thead th {\n",
       "        text-align: right;\n",
       "    }\n",
       "</style>\n",
       "<table border=\"1\" class=\"dataframe\">\n",
       "  <thead>\n",
       "    <tr style=\"text-align: right;\">\n",
       "      <th></th>\n",
       "      <th>Experiment_Start</th>\n",
       "      <th>(6, 'Stim_Start')</th>\n",
       "      <th>(7, 'Stim_Start')</th>\n",
       "      <th>(8, 'Stim_Start')</th>\n",
       "      <th>(9, 'Stim_Start')</th>\n",
       "      <th>(10, 'Stim_Start')</th>\n",
       "      <th>(11, 'Stim_Start')</th>\n",
       "      <th>(12, 'Stim_Start')</th>\n",
       "      <th>(13, 'Stim_Start')</th>\n",
       "      <th>(14, 'Stim_Start')</th>\n",
       "      <th>...</th>\n",
       "      <th>(966, 'Stim_Start')</th>\n",
       "      <th>(967, 'Stim_Start')</th>\n",
       "      <th>(968, 'Stim_Start')</th>\n",
       "      <th>(969, 'Stim_Start')</th>\n",
       "      <th>(970, 'Stim_Start')</th>\n",
       "      <th>(971, 'Stim_Start')</th>\n",
       "      <th>(972, 'Stim_Start')</th>\n",
       "      <th>(973, 'Stim_Start')</th>\n",
       "      <th>(974, 'Stim_Start')</th>\n",
       "      <th>(975, 'Stim_Start')</th>\n",
       "    </tr>\n",
       "  </thead>\n",
       "  <tbody>\n",
       "    <tr>\n",
       "      <th>0</th>\n",
       "      <td>1.663787e+09</td>\n",
       "      <td>1.663787e+09</td>\n",
       "      <td>1.663787e+09</td>\n",
       "      <td>1.663787e+09</td>\n",
       "      <td>1.663787e+09</td>\n",
       "      <td>1.663787e+09</td>\n",
       "      <td>1.663787e+09</td>\n",
       "      <td>1.663787e+09</td>\n",
       "      <td>1.663787e+09</td>\n",
       "      <td>1.663787e+09</td>\n",
       "      <td>...</td>\n",
       "      <td>1.663788e+09</td>\n",
       "      <td>1.663788e+09</td>\n",
       "      <td>1.663788e+09</td>\n",
       "      <td>1.663788e+09</td>\n",
       "      <td>1.663788e+09</td>\n",
       "      <td>1.663788e+09</td>\n",
       "      <td>1.663788e+09</td>\n",
       "      <td>1.663788e+09</td>\n",
       "      <td>1.663788e+09</td>\n",
       "      <td>1.663788e+09</td>\n",
       "    </tr>\n",
       "  </tbody>\n",
       "</table>\n",
       "<p>1 rows × 971 columns</p>\n",
       "</div>"
      ],
      "text/plain": [
       "   Experiment_Start  (6, 'Stim_Start')  (7, 'Stim_Start')  (8, 'Stim_Start')  \\\n",
       "0      1.663787e+09       1.663787e+09       1.663787e+09       1.663787e+09   \n",
       "\n",
       "   (9, 'Stim_Start')  (10, 'Stim_Start')  (11, 'Stim_Start')  \\\n",
       "0       1.663787e+09        1.663787e+09        1.663787e+09   \n",
       "\n",
       "   (12, 'Stim_Start')  (13, 'Stim_Start')  (14, 'Stim_Start')  ...  \\\n",
       "0        1.663787e+09        1.663787e+09        1.663787e+09  ...   \n",
       "\n",
       "   (966, 'Stim_Start')  (967, 'Stim_Start')  (968, 'Stim_Start')  \\\n",
       "0         1.663788e+09         1.663788e+09         1.663788e+09   \n",
       "\n",
       "   (969, 'Stim_Start')  (970, 'Stim_Start')  (971, 'Stim_Start')  \\\n",
       "0         1.663788e+09         1.663788e+09         1.663788e+09   \n",
       "\n",
       "   (972, 'Stim_Start')  (973, 'Stim_Start')  (974, 'Stim_Start')  \\\n",
       "0         1.663788e+09         1.663788e+09         1.663788e+09   \n",
       "\n",
       "   (975, 'Stim_Start')  \n",
       "0         1.663788e+09  \n",
       "\n",
       "[1 rows x 971 columns]"
      ]
     },
     "execution_count": 58,
     "metadata": {},
     "output_type": "execute_result"
    }
   ],
   "source": [
    "df = pd.read_csv(infiles[0])\n",
    "df.tail(50)"
   ]
  },
  {
   "cell_type": "markdown",
   "metadata": {
    "tags": []
   },
   "source": [
    "## compute time elapsed (detectable behavior start times)"
   ]
  },
  {
   "cell_type": "code",
   "execution_count": 59,
   "metadata": {},
   "outputs": [],
   "source": [
    "# fmt = '%Y%m%d_%H:%M:%S:%f'\n",
    "stim_time = []\n",
    "tstamp_0 = df.iloc[0, 0]\n",
    "for i in range(1, np.array(df).shape[1]):\n",
    "#     print(i)\n",
    "    try:\n",
    "        \n",
    "#         tstamp2 = datetime.strptime(np.array(df)[0, i], fmt)\n",
    "        tstamp2 = np.array(df)[0, i]\n",
    "        time_elapsed = tstamp2-tstamp_0\n",
    "        stim_time.append(time_elapsed)\n",
    "    except:\n",
    "        pass"
   ]
  },
  {
   "cell_type": "code",
   "execution_count": 60,
   "metadata": {},
   "outputs": [
    {
     "data": {
      "text/plain": [
       "(0.0, 1312.9417197704315)"
      ]
     },
     "execution_count": 60,
     "metadata": {},
     "output_type": "execute_result"
    },
    {
     "data": {
      "image/png": "[encoded data removed]",
      "text/plain": [
       "<Figure size 640x480 with 1 Axes>"
      ]
     },
     "metadata": {},
     "output_type": "display_data"
    }
   ],
   "source": [
    "fig, ax = plt.subplots(1, 1)\n",
    "ax.plot(np.array(stim_time), np.arange(len(stim_time)))\n",
    "ax.set_ylabel('stim counts')\n",
    "ax.set_xlabel('second since start')\n",
    "# ax.vlines(np.where(np.array(stim_time) > 300)[0][0], 0, (np.array(stim_time)).max())\n",
    "ax.set_xlim([0, (np.array(stim_time)).max()])"
   ]
  },
  {
   "cell_type": "markdown",
   "metadata": {
    "tags": []
   },
   "source": [
    "### plot, and save"
   ]
  },
  {
   "cell_type": "code",
   "execution_count": 61,
   "metadata": {},
   "outputs": [],
   "source": [
    "np.save('D:\\Jack\\Project\\T14/092122/realtime_trial1_orientL_3.npy', np.array(stim_time))"
   ]
  },
  {
   "cell_type": "code",
   "execution_count": 62,
   "metadata": {},
   "outputs": [
    {
     "data": {
      "text/plain": [
       "<matplotlib.collections.PathCollection at 0x19a70582400>"
      ]
     },
     "execution_count": 62,
     "metadata": {},
     "output_type": "execute_result"
    },
    {
     "data": {
      "image/png": "[encoded data removed]",
      "text/plain": [
       "<Figure size 640x480 with 1 Axes>"
      ]
     },
     "metadata": {},
     "output_type": "display_data"
    }
   ],
   "source": [
    "plt.scatter(stim_time, np.arange(len(stim_time)), c='k', s=0.3, alpha=0.3)"
   ]
  },
  {
   "cell_type": "code",
   "execution_count": 63,
   "metadata": {},
   "outputs": [
    {
     "name": "stdout",
     "output_type": "stream",
     "text": [
      "[   0.   60.  120.  180.  240.  300.  360.  420.  480.  540.  600.  660.\n",
      "  720.  780.  840.  900.  960. 1020. 1080. 1140. 1200. 1260.] [  60.  120.  180.  240.  300.  360.  420.  480.  540.  600.  660.  720.\n",
      "  780.  840.  900.  960. 1020. 1080. 1140. 1200. 1260. 1320.]\n"
     ]
    }
   ],
   "source": [
    "bin_start = np.arange(0, np.max(stim_time), 60)\n",
    "bin_end = np.arange(60, np.max(stim_time)+60, 60)\n",
    "print(bin_start, bin_end)\n",
    "stim_binned_counts = []\n",
    "for b in range(len(bin_start)):\n",
    "    stim_binned_counts.append(len(np.where((stim_time >= bin_start[b]) & (stim_time < bin_end[b]))[0]))"
   ]
  },
  {
   "cell_type": "code",
   "execution_count": 64,
   "metadata": {},
   "outputs": [
    {
     "data": {
      "text/plain": [
       "<BarContainer object of 22 artists>"
      ]
     },
     "execution_count": 64,
     "metadata": {},
     "output_type": "execute_result"
    },
    {
     "data": {
      "image/png": "[encoded data removed]",
      "text/plain": [
       "<Figure size 640x480 with 1 Axes>"
      ]
     },
     "metadata": {},
     "output_type": "display_data"
    }
   ],
   "source": [
    "plt.bar(np.arange(len(stim_binned_counts)), stim_binned_counts)"
   ]
  },
  {
   "cell_type": "code",
   "execution_count": 55,
   "metadata": {},
   "outputs": [
    {
     "data": {
      "text/plain": [
       "10"
      ]
     },
     "execution_count": 55,
     "metadata": {},
     "output_type": "execute_result"
    }
   ],
   "source": [
    "len(stim_binned_counts)"
   ]
  },
  {
   "cell_type": "code",
   "execution_count": 56,
   "metadata": {},
   "outputs": [
    {
     "name": "stdout",
     "output_type": "stream",
     "text": [
      "animal performs this behavior around 0.6483333333333333Hz\n"
     ]
    }
   ],
   "source": [
    "print(f'animal performs this behavior around {np.mean(stim_binned_counts)/60}Hz')"
   ]
  },
  {
   "cell_type": "code",
   "execution_count": null,
   "metadata": {},
   "outputs": [],
   "source": []
  },
  {
   "cell_type": "code",
   "execution_count": null,
   "metadata": {},
   "outputs": [],
   "source": []
  },
  {
   "cell_type": "code",
   "execution_count": null,
   "metadata": {},
   "outputs": [],
   "source": []
  },
  {
   "cell_type": "markdown",
   "metadata": {},
   "source": [
    "## start time"
   ]
  },
  {
   "cell_type": "code",
   "execution_count": 26,
   "metadata": {},
   "outputs": [
    {
     "name": "stdout",
     "output_type": "stream",
     "text": [
      "11:51:37:909643\n"
     ]
    }
   ],
   "source": [
    "start_time = df.iloc[0, 0]\n",
    "tt = start_time\n",
    "print(tt.rpartition('_')[2])"
   ]
  },
  {
   "cell_type": "code",
   "execution_count": 27,
   "metadata": {},
   "outputs": [
    {
     "name": "stdout",
     "output_type": "stream",
     "text": [
      "start hour: 11; minute: 51; second: 37 \n"
     ]
    }
   ],
   "source": [
    "start_seconds = tt.rpartition('_')[2].rpartition(':')[0].rpartition(':')[-1]\n",
    "start_min = tt.rpartition('_')[2].rpartition(':')[0].rpartition(':')[0].rpartition(':')[-1]\n",
    "start_hour = tt.rpartition('_')[2].rpartition(':')[0].rpartition(':')[0].rpartition(':')[0].rpartition(':')[-1]\n",
    "print(f'start hour: {start_hour}; minute: {start_min}; second: {start_seconds} ')"
   ]
  },
  {
   "cell_type": "markdown",
   "metadata": {},
   "source": [
    "## first stim"
   ]
  },
  {
   "cell_type": "code",
   "execution_count": 28,
   "metadata": {},
   "outputs": [
    {
     "name": "stdout",
     "output_type": "stream",
     "text": [
      "11:51:44:693849\n"
     ]
    }
   ],
   "source": [
    "stim1_time = df.iloc[0, 3]\n",
    "tt1 = stim1_time\n",
    "print(tt1.rpartition('_')[2])"
   ]
  },
  {
   "cell_type": "code",
   "execution_count": 32,
   "metadata": {},
   "outputs": [
    {
     "name": "stdout",
     "output_type": "stream",
     "text": [
      "first stim hour: 11; minute: 51; second: 44 \n"
     ]
    }
   ],
   "source": [
    "stim1_seconds = tt1.rpartition('_')[2].rpartition(':')[0].rpartition(':')[-1]\n",
    "stim1_min = tt1.rpartition('_')[2].rpartition(':')[0].rpartition(':')[0].rpartition(':')[-1]\n",
    "stim1_hour = tt1.rpartition('_')[2].rpartition(':')[0].rpartition(':')[0].rpartition(':')[0].rpartition(':')[-1]\n",
    "print(f'first stim hour: {stim1_hour}; minute: {stim1_min}; second: {stim1_seconds} ')"
   ]
  },
  {
   "cell_type": "code",
   "execution_count": 37,
   "metadata": {},
   "outputs": [
    {
     "name": "stdout",
     "output_type": "stream",
     "text": [
      "First stim since start: 0; minute: 0; second: 7 \n"
     ]
    }
   ],
   "source": [
    "diff_hour = int(stim1_hour) - int(start_hour)\n",
    "diff_min = int(stim1_min) - int(start_min)\n",
    "diff_sec = int(stim1_seconds) - int(start_seconds)\n",
    "print(f'First stim since start: {diff_hour}; minute: {diff_min}; second: {diff_sec} ')"
   ]
  },
  {
   "cell_type": "code",
   "execution_count": 34,
   "metadata": {},
   "outputs": [
    {
     "data": {
      "text/plain": [
       "'11'"
      ]
     },
     "execution_count": 34,
     "metadata": {},
     "output_type": "execute_result"
    }
   ],
   "source": [
    "stim1_hour"
   ]
  }
 ],
 "metadata": {
  "kernelspec": {
   "display_name": "Python 3 (ipykernel)",
   "language": "python",
   "name": "python3"
  },
  "language_info": {
   "codemirror_mode": {
    "name": "ipython",
    "version": 3
   },
   "file_extension": ".py",
   "mimetype": "text/x-python",
   "name": "python",
   "nbconvert_exporter": "python",
   "pygments_lexer": "ipython3",
   "version": "3.8.0"
  }
 },
 "nbformat": 4,
 "nbformat_minor": 4
}
