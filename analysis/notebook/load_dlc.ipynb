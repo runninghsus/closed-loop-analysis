{
 "cells": [
  {
   "cell_type": "code",
   "execution_count": 1,
   "metadata": {},
   "outputs": [],
   "source": [
    "import pandas as pd\n",
    "from sklearn.ensemble import RandomForestClassifier\n",
    "import joblib\n",
    "import numpy as np\n",
    "import matplotlib.pyplot as plt\n",
    "import math\n",
    "import itertools\n",
    "from tqdm import tqdm"
   ]
  },
  {
   "cell_type": "code",
   "execution_count": 2,
   "metadata": {
    "scrolled": true
   },
   "outputs": [
    {
     "data": {
      "text/html": [
       "<div>\n",
       "<style scoped>\n",
       "    .dataframe tbody tr th:only-of-type {\n",
       "        vertical-align: middle;\n",
       "    }\n",
       "\n",
       "    .dataframe tbody tr th {\n",
       "        vertical-align: top;\n",
       "    }\n",
       "\n",
       "    .dataframe thead th {\n",
       "        text-align: right;\n",
       "    }\n",
       "</style>\n",
       "<table border=\"1\" class=\"dataframe\">\n",
       "  <thead>\n",
       "    <tr style=\"text-align: right;\">\n",
       "      <th></th>\n",
       "      <th>scorer</th>\n",
       "      <th>DLC_resnet50_OpenFieldHighResApr8shuffle1_600000</th>\n",
       "      <th>DLC_resnet50_OpenFieldHighResApr8shuffle1_600000.1</th>\n",
       "      <th>DLC_resnet50_OpenFieldHighResApr8shuffle1_600000.2</th>\n",
       "      <th>DLC_resnet50_OpenFieldHighResApr8shuffle1_600000.3</th>\n",
       "      <th>DLC_resnet50_OpenFieldHighResApr8shuffle1_600000.4</th>\n",
       "      <th>DLC_resnet50_OpenFieldHighResApr8shuffle1_600000.5</th>\n",
       "      <th>DLC_resnet50_OpenFieldHighResApr8shuffle1_600000.6</th>\n",
       "      <th>DLC_resnet50_OpenFieldHighResApr8shuffle1_600000.7</th>\n",
       "      <th>DLC_resnet50_OpenFieldHighResApr8shuffle1_600000.8</th>\n",
       "      <th>DLC_resnet50_OpenFieldHighResApr8shuffle1_600000.9</th>\n",
       "      <th>DLC_resnet50_OpenFieldHighResApr8shuffle1_600000.10</th>\n",
       "      <th>DLC_resnet50_OpenFieldHighResApr8shuffle1_600000.11</th>\n",
       "      <th>DLC_resnet50_OpenFieldHighResApr8shuffle1_600000.12</th>\n",
       "      <th>DLC_resnet50_OpenFieldHighResApr8shuffle1_600000.13</th>\n",
       "      <th>DLC_resnet50_OpenFieldHighResApr8shuffle1_600000.14</th>\n",
       "      <th>DLC_resnet50_OpenFieldHighResApr8shuffle1_600000.15</th>\n",
       "      <th>DLC_resnet50_OpenFieldHighResApr8shuffle1_600000.16</th>\n",
       "      <th>DLC_resnet50_OpenFieldHighResApr8shuffle1_600000.17</th>\n",
       "    </tr>\n",
       "  </thead>\n",
       "  <tbody>\n",
       "    <tr>\n",
       "      <th>0</th>\n",
       "      <td>bodyparts</td>\n",
       "      <td>Snout</td>\n",
       "      <td>Snout</td>\n",
       "      <td>Snout</td>\n",
       "      <td>Front Paw R</td>\n",
       "      <td>Front Paw R</td>\n",
       "      <td>Front Paw R</td>\n",
       "      <td>Front Paw L</td>\n",
       "      <td>Front Paw L</td>\n",
       "      <td>Front Paw L</td>\n",
       "      <td>Hind Paw R</td>\n",
       "      <td>Hind Paw R</td>\n",
       "      <td>Hind Paw R</td>\n",
       "      <td>Hind Paw L</td>\n",
       "      <td>Hind Paw L</td>\n",
       "      <td>Hind Paw L</td>\n",
       "      <td>Butt/Proximal Tail</td>\n",
       "      <td>Butt/Proximal Tail</td>\n",
       "      <td>Butt/Proximal Tail</td>\n",
       "    </tr>\n",
       "    <tr>\n",
       "      <th>1</th>\n",
       "      <td>coords</td>\n",
       "      <td>x</td>\n",
       "      <td>y</td>\n",
       "      <td>likelihood</td>\n",
       "      <td>x</td>\n",
       "      <td>y</td>\n",
       "      <td>likelihood</td>\n",
       "      <td>x</td>\n",
       "      <td>y</td>\n",
       "      <td>likelihood</td>\n",
       "      <td>x</td>\n",
       "      <td>y</td>\n",
       "      <td>likelihood</td>\n",
       "      <td>x</td>\n",
       "      <td>y</td>\n",
       "      <td>likelihood</td>\n",
       "      <td>x</td>\n",
       "      <td>y</td>\n",
       "      <td>likelihood</td>\n",
       "    </tr>\n",
       "    <tr>\n",
       "      <th>2</th>\n",
       "      <td>0</td>\n",
       "      <td>747.4931030273438</td>\n",
       "      <td>482.8681335449219</td>\n",
       "      <td>0.950119137763977</td>\n",
       "      <td>751.8052978515625</td>\n",
       "      <td>517.184326171875</td>\n",
       "      <td>0.5268877148628235</td>\n",
       "      <td>737.616943359375</td>\n",
       "      <td>540.3986206054688</td>\n",
       "      <td>0.6786713600158691</td>\n",
       "      <td>737.3895874023438</td>\n",
       "      <td>537.3734741210938</td>\n",
       "      <td>0.07680091261863708</td>\n",
       "      <td>738.25537109375</td>\n",
       "      <td>583.082275390625</td>\n",
       "      <td>0.3334735929965973</td>\n",
       "      <td>339.0918884277344</td>\n",
       "      <td>610.551513671875</td>\n",
       "      <td>0.03713107109069824</td>\n",
       "    </tr>\n",
       "    <tr>\n",
       "      <th>3</th>\n",
       "      <td>1</td>\n",
       "      <td>289.4408264160156</td>\n",
       "      <td>40.26938247680664</td>\n",
       "      <td>0.5673515796661377</td>\n",
       "      <td>755.5013427734375</td>\n",
       "      <td>491.0885009765625</td>\n",
       "      <td>0.4936246871948242</td>\n",
       "      <td>750.6339111328125</td>\n",
       "      <td>523.2803955078125</td>\n",
       "      <td>0.8640628457069397</td>\n",
       "      <td>738.3594360351562</td>\n",
       "      <td>582.1358032226562</td>\n",
       "      <td>0.08540964126586914</td>\n",
       "      <td>738.1847534179688</td>\n",
       "      <td>581.8896484375</td>\n",
       "      <td>0.7125677466392517</td>\n",
       "      <td>710.4632568359375</td>\n",
       "      <td>545.8712158203125</td>\n",
       "      <td>0.07977747917175293</td>\n",
       "    </tr>\n",
       "    <tr>\n",
       "      <th>4</th>\n",
       "      <td>2</td>\n",
       "      <td>724.7617797851562</td>\n",
       "      <td>483.935546875</td>\n",
       "      <td>0.6089091897010803</td>\n",
       "      <td>753.478271484375</td>\n",
       "      <td>516.918701171875</td>\n",
       "      <td>0.842714786529541</td>\n",
       "      <td>753.7506103515625</td>\n",
       "      <td>519.5599975585938</td>\n",
       "      <td>0.5110982060432434</td>\n",
       "      <td>756.7841796875</td>\n",
       "      <td>488.5967102050781</td>\n",
       "      <td>0.6270039677619934</td>\n",
       "      <td>738.1229248046875</td>\n",
       "      <td>581.4165649414062</td>\n",
       "      <td>0.9227966070175171</td>\n",
       "      <td>729.0597534179688</td>\n",
       "      <td>484.3116760253906</td>\n",
       "      <td>0.7873262166976929</td>\n",
       "    </tr>\n",
       "    <tr>\n",
       "      <th>...</th>\n",
       "      <td>...</td>\n",
       "      <td>...</td>\n",
       "      <td>...</td>\n",
       "      <td>...</td>\n",
       "      <td>...</td>\n",
       "      <td>...</td>\n",
       "      <td>...</td>\n",
       "      <td>...</td>\n",
       "      <td>...</td>\n",
       "      <td>...</td>\n",
       "      <td>...</td>\n",
       "      <td>...</td>\n",
       "      <td>...</td>\n",
       "      <td>...</td>\n",
       "      <td>...</td>\n",
       "      <td>...</td>\n",
       "      <td>...</td>\n",
       "      <td>...</td>\n",
       "      <td>...</td>\n",
       "    </tr>\n",
       "    <tr>\n",
       "      <th>16510</th>\n",
       "      <td>16508</td>\n",
       "      <td>717.9221801757812</td>\n",
       "      <td>584.45458984375</td>\n",
       "      <td>0.9828971028327942</td>\n",
       "      <td>759.28662109375</td>\n",
       "      <td>564.950927734375</td>\n",
       "      <td>0.9822357296943665</td>\n",
       "      <td>751.4193725585938</td>\n",
       "      <td>564.9307861328125</td>\n",
       "      <td>0.9919966459274292</td>\n",
       "      <td>770.3936767578125</td>\n",
       "      <td>517.8088989257812</td>\n",
       "      <td>0.9989598393440247</td>\n",
       "      <td>733.9376831054688</td>\n",
       "      <td>548.0542602539062</td>\n",
       "      <td>0.997972309589386</td>\n",
       "      <td>735.56396484375</td>\n",
       "      <td>495.17364501953125</td>\n",
       "      <td>0.9982150793075562</td>\n",
       "    </tr>\n",
       "    <tr>\n",
       "      <th>16511</th>\n",
       "      <td>16509</td>\n",
       "      <td>716.5028686523438</td>\n",
       "      <td>584.0814819335938</td>\n",
       "      <td>0.9815191626548767</td>\n",
       "      <td>760.1832275390625</td>\n",
       "      <td>566.277587890625</td>\n",
       "      <td>0.9898059368133545</td>\n",
       "      <td>751.159912109375</td>\n",
       "      <td>565.8387451171875</td>\n",
       "      <td>0.9855007529258728</td>\n",
       "      <td>769.2095336914062</td>\n",
       "      <td>517.1781616210938</td>\n",
       "      <td>0.9989617466926575</td>\n",
       "      <td>735.4276733398438</td>\n",
       "      <td>548.477783203125</td>\n",
       "      <td>0.9978716373443604</td>\n",
       "      <td>735.2315063476562</td>\n",
       "      <td>496.9817199707031</td>\n",
       "      <td>0.9984485507011414</td>\n",
       "    </tr>\n",
       "    <tr>\n",
       "      <th>16512</th>\n",
       "      <td>16510</td>\n",
       "      <td>714.3448486328125</td>\n",
       "      <td>581.1865844726562</td>\n",
       "      <td>0.9835890531539917</td>\n",
       "      <td>761.5081176757812</td>\n",
       "      <td>568.0121459960938</td>\n",
       "      <td>0.9919307231903076</td>\n",
       "      <td>752.5736694335938</td>\n",
       "      <td>567.316650390625</td>\n",
       "      <td>0.9755645990371704</td>\n",
       "      <td>770.0189208984375</td>\n",
       "      <td>517.3814086914062</td>\n",
       "      <td>0.9987304210662842</td>\n",
       "      <td>735.4203491210938</td>\n",
       "      <td>548.6294555664062</td>\n",
       "      <td>0.9903181791305542</td>\n",
       "      <td>738.1747436523438</td>\n",
       "      <td>500.1313781738281</td>\n",
       "      <td>0.998762309551239</td>\n",
       "    </tr>\n",
       "    <tr>\n",
       "      <th>16513</th>\n",
       "      <td>16511</td>\n",
       "      <td>712.0139770507812</td>\n",
       "      <td>576.58154296875</td>\n",
       "      <td>0.937470555305481</td>\n",
       "      <td>761.8499755859375</td>\n",
       "      <td>567.767333984375</td>\n",
       "      <td>0.9774643182754517</td>\n",
       "      <td>749.21923828125</td>\n",
       "      <td>568.908203125</td>\n",
       "      <td>0.9918744564056396</td>\n",
       "      <td>768.6072387695312</td>\n",
       "      <td>516.42138671875</td>\n",
       "      <td>0.9984499216079712</td>\n",
       "      <td>735.49658203125</td>\n",
       "      <td>549.3140258789062</td>\n",
       "      <td>0.994964599609375</td>\n",
       "      <td>738.3170166015625</td>\n",
       "      <td>499.11517333984375</td>\n",
       "      <td>0.9985163807868958</td>\n",
       "    </tr>\n",
       "    <tr>\n",
       "      <th>16514</th>\n",
       "      <td>16512</td>\n",
       "      <td>709.4578247070312</td>\n",
       "      <td>577.9877319335938</td>\n",
       "      <td>0.8661514520645142</td>\n",
       "      <td>762.821044921875</td>\n",
       "      <td>567.3056030273438</td>\n",
       "      <td>0.9894346594810486</td>\n",
       "      <td>738.8720092773438</td>\n",
       "      <td>571.072265625</td>\n",
       "      <td>0.9851174354553223</td>\n",
       "      <td>768.5849609375</td>\n",
       "      <td>517.74755859375</td>\n",
       "      <td>0.9988628625869751</td>\n",
       "      <td>735.21826171875</td>\n",
       "      <td>548.3484497070312</td>\n",
       "      <td>0.9967666864395142</td>\n",
       "      <td>737.4031372070312</td>\n",
       "      <td>498.400146484375</td>\n",
       "      <td>0.9975578784942627</td>\n",
       "    </tr>\n",
       "  </tbody>\n",
       "</table>\n",
       "<p>16515 rows × 19 columns</p>\n",
       "</div>"
      ],
      "text/plain": [
       "          scorer DLC_resnet50_OpenFieldHighResApr8shuffle1_600000  \\\n",
       "0      bodyparts                                            Snout   \n",
       "1         coords                                                x   \n",
       "2              0                                747.4931030273438   \n",
       "3              1                                289.4408264160156   \n",
       "4              2                                724.7617797851562   \n",
       "...          ...                                              ...   \n",
       "16510      16508                                717.9221801757812   \n",
       "16511      16509                                716.5028686523438   \n",
       "16512      16510                                714.3448486328125   \n",
       "16513      16511                                712.0139770507812   \n",
       "16514      16512                                709.4578247070312   \n",
       "\n",
       "      DLC_resnet50_OpenFieldHighResApr8shuffle1_600000.1  \\\n",
       "0                                                  Snout   \n",
       "1                                                      y   \n",
       "2                                      482.8681335449219   \n",
       "3                                      40.26938247680664   \n",
       "4                                          483.935546875   \n",
       "...                                                  ...   \n",
       "16510                                    584.45458984375   \n",
       "16511                                  584.0814819335938   \n",
       "16512                                  581.1865844726562   \n",
       "16513                                    576.58154296875   \n",
       "16514                                  577.9877319335938   \n",
       "\n",
       "      DLC_resnet50_OpenFieldHighResApr8shuffle1_600000.2  \\\n",
       "0                                                  Snout   \n",
       "1                                             likelihood   \n",
       "2                                      0.950119137763977   \n",
       "3                                     0.5673515796661377   \n",
       "4                                     0.6089091897010803   \n",
       "...                                                  ...   \n",
       "16510                                 0.9828971028327942   \n",
       "16511                                 0.9815191626548767   \n",
       "16512                                 0.9835890531539917   \n",
       "16513                                  0.937470555305481   \n",
       "16514                                 0.8661514520645142   \n",
       "\n",
       "      DLC_resnet50_OpenFieldHighResApr8shuffle1_600000.3  \\\n",
       "0                                            Front Paw R   \n",
       "1                                                      x   \n",
       "2                                      751.8052978515625   \n",
       "3                                      755.5013427734375   \n",
       "4                                       753.478271484375   \n",
       "...                                                  ...   \n",
       "16510                                    759.28662109375   \n",
       "16511                                  760.1832275390625   \n",
       "16512                                  761.5081176757812   \n",
       "16513                                  761.8499755859375   \n",
       "16514                                   762.821044921875   \n",
       "\n",
       "      DLC_resnet50_OpenFieldHighResApr8shuffle1_600000.4  \\\n",
       "0                                            Front Paw R   \n",
       "1                                                      y   \n",
       "2                                       517.184326171875   \n",
       "3                                      491.0885009765625   \n",
       "4                                       516.918701171875   \n",
       "...                                                  ...   \n",
       "16510                                   564.950927734375   \n",
       "16511                                   566.277587890625   \n",
       "16512                                  568.0121459960938   \n",
       "16513                                   567.767333984375   \n",
       "16514                                  567.3056030273438   \n",
       "\n",
       "      DLC_resnet50_OpenFieldHighResApr8shuffle1_600000.5  \\\n",
       "0                                            Front Paw R   \n",
       "1                                             likelihood   \n",
       "2                                     0.5268877148628235   \n",
       "3                                     0.4936246871948242   \n",
       "4                                      0.842714786529541   \n",
       "...                                                  ...   \n",
       "16510                                 0.9822357296943665   \n",
       "16511                                 0.9898059368133545   \n",
       "16512                                 0.9919307231903076   \n",
       "16513                                 0.9774643182754517   \n",
       "16514                                 0.9894346594810486   \n",
       "\n",
       "      DLC_resnet50_OpenFieldHighResApr8shuffle1_600000.6  \\\n",
       "0                                            Front Paw L   \n",
       "1                                                      x   \n",
       "2                                       737.616943359375   \n",
       "3                                      750.6339111328125   \n",
       "4                                      753.7506103515625   \n",
       "...                                                  ...   \n",
       "16510                                  751.4193725585938   \n",
       "16511                                   751.159912109375   \n",
       "16512                                  752.5736694335938   \n",
       "16513                                    749.21923828125   \n",
       "16514                                  738.8720092773438   \n",
       "\n",
       "      DLC_resnet50_OpenFieldHighResApr8shuffle1_600000.7  \\\n",
       "0                                            Front Paw L   \n",
       "1                                                      y   \n",
       "2                                      540.3986206054688   \n",
       "3                                      523.2803955078125   \n",
       "4                                      519.5599975585938   \n",
       "...                                                  ...   \n",
       "16510                                  564.9307861328125   \n",
       "16511                                  565.8387451171875   \n",
       "16512                                   567.316650390625   \n",
       "16513                                      568.908203125   \n",
       "16514                                      571.072265625   \n",
       "\n",
       "      DLC_resnet50_OpenFieldHighResApr8shuffle1_600000.8  \\\n",
       "0                                            Front Paw L   \n",
       "1                                             likelihood   \n",
       "2                                     0.6786713600158691   \n",
       "3                                     0.8640628457069397   \n",
       "4                                     0.5110982060432434   \n",
       "...                                                  ...   \n",
       "16510                                 0.9919966459274292   \n",
       "16511                                 0.9855007529258728   \n",
       "16512                                 0.9755645990371704   \n",
       "16513                                 0.9918744564056396   \n",
       "16514                                 0.9851174354553223   \n",
       "\n",
       "      DLC_resnet50_OpenFieldHighResApr8shuffle1_600000.9  \\\n",
       "0                                             Hind Paw R   \n",
       "1                                                      x   \n",
       "2                                      737.3895874023438   \n",
       "3                                      738.3594360351562   \n",
       "4                                         756.7841796875   \n",
       "...                                                  ...   \n",
       "16510                                  770.3936767578125   \n",
       "16511                                  769.2095336914062   \n",
       "16512                                  770.0189208984375   \n",
       "16513                                  768.6072387695312   \n",
       "16514                                     768.5849609375   \n",
       "\n",
       "      DLC_resnet50_OpenFieldHighResApr8shuffle1_600000.10  \\\n",
       "0                                             Hind Paw R    \n",
       "1                                                      y    \n",
       "2                                      537.3734741210938    \n",
       "3                                      582.1358032226562    \n",
       "4                                      488.5967102050781    \n",
       "...                                                  ...    \n",
       "16510                                  517.8088989257812    \n",
       "16511                                  517.1781616210938    \n",
       "16512                                  517.3814086914062    \n",
       "16513                                    516.42138671875    \n",
       "16514                                    517.74755859375    \n",
       "\n",
       "      DLC_resnet50_OpenFieldHighResApr8shuffle1_600000.11  \\\n",
       "0                                             Hind Paw R    \n",
       "1                                             likelihood    \n",
       "2                                    0.07680091261863708    \n",
       "3                                    0.08540964126586914    \n",
       "4                                     0.6270039677619934    \n",
       "...                                                  ...    \n",
       "16510                                 0.9989598393440247    \n",
       "16511                                 0.9989617466926575    \n",
       "16512                                 0.9987304210662842    \n",
       "16513                                 0.9984499216079712    \n",
       "16514                                 0.9988628625869751    \n",
       "\n",
       "      DLC_resnet50_OpenFieldHighResApr8shuffle1_600000.12  \\\n",
       "0                                             Hind Paw L    \n",
       "1                                                      x    \n",
       "2                                        738.25537109375    \n",
       "3                                      738.1847534179688    \n",
       "4                                      738.1229248046875    \n",
       "...                                                  ...    \n",
       "16510                                  733.9376831054688    \n",
       "16511                                  735.4276733398438    \n",
       "16512                                  735.4203491210938    \n",
       "16513                                    735.49658203125    \n",
       "16514                                    735.21826171875    \n",
       "\n",
       "      DLC_resnet50_OpenFieldHighResApr8shuffle1_600000.13  \\\n",
       "0                                             Hind Paw L    \n",
       "1                                                      y    \n",
       "2                                       583.082275390625    \n",
       "3                                         581.8896484375    \n",
       "4                                      581.4165649414062    \n",
       "...                                                  ...    \n",
       "16510                                  548.0542602539062    \n",
       "16511                                   548.477783203125    \n",
       "16512                                  548.6294555664062    \n",
       "16513                                  549.3140258789062    \n",
       "16514                                  548.3484497070312    \n",
       "\n",
       "      DLC_resnet50_OpenFieldHighResApr8shuffle1_600000.14  \\\n",
       "0                                             Hind Paw L    \n",
       "1                                             likelihood    \n",
       "2                                     0.3334735929965973    \n",
       "3                                     0.7125677466392517    \n",
       "4                                     0.9227966070175171    \n",
       "...                                                  ...    \n",
       "16510                                  0.997972309589386    \n",
       "16511                                 0.9978716373443604    \n",
       "16512                                 0.9903181791305542    \n",
       "16513                                  0.994964599609375    \n",
       "16514                                 0.9967666864395142    \n",
       "\n",
       "      DLC_resnet50_OpenFieldHighResApr8shuffle1_600000.15  \\\n",
       "0                                     Butt/Proximal Tail    \n",
       "1                                                      x    \n",
       "2                                      339.0918884277344    \n",
       "3                                      710.4632568359375    \n",
       "4                                      729.0597534179688    \n",
       "...                                                  ...    \n",
       "16510                                    735.56396484375    \n",
       "16511                                  735.2315063476562    \n",
       "16512                                  738.1747436523438    \n",
       "16513                                  738.3170166015625    \n",
       "16514                                  737.4031372070312    \n",
       "\n",
       "      DLC_resnet50_OpenFieldHighResApr8shuffle1_600000.16  \\\n",
       "0                                     Butt/Proximal Tail    \n",
       "1                                                      y    \n",
       "2                                       610.551513671875    \n",
       "3                                      545.8712158203125    \n",
       "4                                      484.3116760253906    \n",
       "...                                                  ...    \n",
       "16510                                 495.17364501953125    \n",
       "16511                                  496.9817199707031    \n",
       "16512                                  500.1313781738281    \n",
       "16513                                 499.11517333984375    \n",
       "16514                                   498.400146484375    \n",
       "\n",
       "      DLC_resnet50_OpenFieldHighResApr8shuffle1_600000.17  \n",
       "0                                     Butt/Proximal Tail   \n",
       "1                                             likelihood   \n",
       "2                                    0.03713107109069824   \n",
       "3                                    0.07977747917175293   \n",
       "4                                     0.7873262166976929   \n",
       "...                                                  ...   \n",
       "16510                                 0.9982150793075562   \n",
       "16511                                 0.9984485507011414   \n",
       "16512                                  0.998762309551239   \n",
       "16513                                 0.9985163807868958   \n",
       "16514                                 0.9975578784942627   \n",
       "\n",
       "[16515 rows x 19 columns]"
      ]
     },
     "execution_count": 2,
     "metadata": {},
     "output_type": "execute_result"
    }
   ],
   "source": [
    "df = pd.read_csv(r'Z:/nia_summer_project/data_transfer/videos/VideoOutputCamera 2-29072022-115137DLC_resnet50_OpenFieldHighResApr8shuffle1_600000.csv', low_memory=False)\n",
    "df"
   ]
  },
  {
   "cell_type": "code",
   "execution_count": 5,
   "metadata": {},
   "outputs": [
    {
     "name": "stderr",
     "output_type": "stream",
     "text": [
      "c:\\users\\alexa\\anaconda3\\envs\\bsoid_v2\\lib\\site-packages\\sklearn\\base.py:334: UserWarning: Trying to unpickle estimator DecisionTreeClassifier from version 0.22.2.post1 when using version 0.23.2. This might lead to breaking code or invalid results. Use at your own risk.\n",
      "  UserWarning)\n",
      "c:\\users\\alexa\\anaconda3\\envs\\bsoid_v2\\lib\\site-packages\\sklearn\\base.py:334: UserWarning: Trying to unpickle estimator RandomForestClassifier from version 0.22.2.post1 when using version 0.23.2. This might lead to breaking code or invalid results. Use at your own risk.\n",
      "  UserWarning)\n"
     ]
    }
   ],
   "source": [
    "with open('Z:/nia_summer_project/data_transfer/bsoid_behavioral_model/openfield_60min_N6_randomforest.sav', 'rb') as fr:\n",
    "    random_forest_sav = joblib.load(fr)"
   ]
  },
  {
   "cell_type": "code",
   "execution_count": 6,
   "metadata": {},
   "outputs": [
    {
     "data": {
      "text/plain": [
       "RandomForestClassifier(random_state=42)"
      ]
     },
     "execution_count": 6,
     "metadata": {},
     "output_type": "execute_result"
    }
   ],
   "source": [
    "clf = random_forest_sav[3]\n",
    "clf"
   ]
  },
  {
   "cell_type": "code",
   "execution_count": 7,
   "metadata": {},
   "outputs": [],
   "source": [
    "def adp_filt(currdf: object, pose):\n",
    "    lIndex = []\n",
    "    xIndex = []\n",
    "    yIndex = []\n",
    "    currdf = np.array(currdf[1:])\n",
    "    for header in pose:\n",
    "        if currdf[0][header + 1] == \"likelihood\":\n",
    "            lIndex.append(header)\n",
    "        elif currdf[0][header + 1] == \"x\":\n",
    "            xIndex.append(header)\n",
    "        elif currdf[0][header + 1] == \"y\":\n",
    "            yIndex.append(header)\n",
    "    curr_df1 = currdf[:, 1:]\n",
    "    datax = curr_df1[1:, np.array(xIndex)]\n",
    "    datay = curr_df1[1:, np.array(yIndex)]\n",
    "    data_lh = curr_df1[1:, np.array(lIndex)]\n",
    "    currdf_filt = np.zeros((datax.shape[0], (datax.shape[1]) * 2))\n",
    "    perc_rect = []\n",
    "    for i in range(data_lh.shape[1]):\n",
    "        perc_rect.append(0)\n",
    "    for x in tqdm(range(data_lh.shape[1])):\n",
    "        a, b = np.histogram(data_lh[1:, x].astype(np.float))\n",
    "        rise_a = np.where(np.diff(a) >= 0)\n",
    "        if rise_a[0][0] > 1:\n",
    "            llh = b[rise_a[0][0]]\n",
    "        else:\n",
    "            llh = b[rise_a[0][1]]\n",
    "        llh=0\n",
    "        data_lh_float = data_lh[:, x].astype(np.float)\n",
    "        perc_rect[x] = np.sum(data_lh_float < llh) / data_lh.shape[0]\n",
    "        currdf_filt[0, (2 * x):(2 * x + 2)] = np.hstack([datax[0, x], datay[0, x]])\n",
    "        for i in range(1, data_lh.shape[0]):\n",
    "            if data_lh_float[i] < llh:\n",
    "                currdf_filt[i, (2 * x):(2 * x + 2)] = currdf_filt[i - 1, (2 * x):(2 * x + 2)]\n",
    "            else:\n",
    "                currdf_filt[i, (2 * x):(2 * x + 2)] = np.hstack([datax[i, x], datay[i, x]])\n",
    "    currdf_filt = np.array(currdf_filt)\n",
    "    currdf_filt = currdf_filt.astype(np.float)\n",
    "    return currdf_filt, perc_rect"
   ]
  },
  {
   "cell_type": "code",
   "execution_count": 8,
   "metadata": {},
   "outputs": [
    {
     "name": "stderr",
     "output_type": "stream",
     "text": [
      "100%|████████████████████████████████████████████████████████████████████████████████████| 6/6 [00:01<00:00,  4.08it/s]\n"
     ]
    }
   ],
   "source": [
    "csv_array_filtered, perc_filtered = adp_filt(df, np.arange(18))"
   ]
  },
  {
   "cell_type": "code",
   "execution_count": 9,
   "metadata": {},
   "outputs": [
    {
     "data": {
      "text/plain": [
       "[0.0, 0.0, 0.0, 0.0, 0.0, 0.0]"
      ]
     },
     "execution_count": 9,
     "metadata": {},
     "output_type": "execute_result"
    }
   ],
   "source": [
    "perc_filtered"
   ]
  },
  {
   "cell_type": "code",
   "execution_count": 10,
   "metadata": {},
   "outputs": [],
   "source": [
    "# csv_array.shape\n",
    "processed_input_data = [csv_array_filtered.copy()]"
   ]
  },
  {
   "cell_type": "code",
   "execution_count": 11,
   "metadata": {},
   "outputs": [],
   "source": [
    "framerate=30\n",
    "window = np.int(np.round(0.05 / (1 / framerate)) * 2 - 1)"
   ]
  },
  {
   "cell_type": "code",
   "execution_count": 12,
   "metadata": {},
   "outputs": [],
   "source": [
    "def boxcar_center(a, n):\n",
    "    a1 = pd.Series(a)\n",
    "    moving_avg = np.array(a1.rolling(window=n, min_periods=1, center=True).mean())\n",
    "\n",
    "    return moving_avg"
   ]
  },
  {
   "cell_type": "code",
   "execution_count": 13,
   "metadata": {},
   "outputs": [],
   "source": [
    "a = [1, 2, 1, 2, 1, 2, 3, 4, 5, 4, 3, 2, 1]\n",
    "a_smoothed = boxcar_center(a, n=window)"
   ]
  },
  {
   "cell_type": "code",
   "execution_count": 14,
   "metadata": {},
   "outputs": [
    {
     "data": {
      "text/plain": [
       "[<matplotlib.lines.Line2D at 0x2adf3245908>]"
      ]
     },
     "execution_count": 14,
     "metadata": {},
     "output_type": "execute_result"
    },
    {
     "data": {
      "image/png": "[encoded data removed]",
      "text/plain": [
       "<Figure size 432x288 with 1 Axes>"
      ]
     },
     "metadata": {
      "needs_background": "light"
     },
     "output_type": "display_data"
    }
   ],
   "source": [
    "plt.plot(a)\n",
    "plt.plot(a_smoothed)"
   ]
  },
  {
   "cell_type": "code",
   "execution_count": 15,
   "metadata": {},
   "outputs": [],
   "source": [
    "framerate = 30\n",
    "window = np.int(np.round(0.05 / (1 / framerate)) * 2 - 1)\n",
    "f = []\n",
    "for n in range(len(processed_input_data)):\n",
    "    data_n_len = len(processed_input_data[n])\n",
    "    dxy_list = []\n",
    "    disp_list = []\n",
    "    for r in range(data_n_len):\n",
    "        if r < data_n_len - 1:\n",
    "            disp = []\n",
    "            for c in range(0, processed_input_data[n].shape[1], 2):\n",
    "                disp.append(\n",
    "                    np.linalg.norm(processed_input_data[n][r + 1, c:c + 2] -\n",
    "                                   processed_input_data[n][r, c:c + 2]))\n",
    "            disp_list.append(disp)\n",
    "        dxy = []\n",
    "        for i, j in itertools.combinations(range(0, processed_input_data[n].shape[1], 2), 2):\n",
    "            dxy.append(processed_input_data[n][r, i:i + 2] -\n",
    "                       processed_input_data[n][r, j:j + 2])\n",
    "        dxy_list.append(dxy)\n",
    "    disp_r = np.array(disp_list)\n",
    "    dxy_r = np.array(dxy_list)\n",
    "    disp_boxcar = []\n",
    "    dxy_eu = np.zeros([data_n_len, dxy_r.shape[1]])\n",
    "    ang = np.zeros([data_n_len - 1, dxy_r.shape[1]])\n",
    "    dxy_boxcar = []\n",
    "    ang_boxcar = []\n",
    "    for l in range(disp_r.shape[1]):\n",
    "#         disp_boxcar.append(boxcar_center(disp_r[:, l], window))\n",
    "        disp_boxcar.append(disp_r[:, l])\n",
    "    for k in range(dxy_r.shape[1]):\n",
    "        for kk in range(data_n_len):\n",
    "            dxy_eu[kk, k] = np.linalg.norm(dxy_r[kk, k, :])\n",
    "            if kk < data_n_len - 1:\n",
    "                b_3d = np.hstack([dxy_r[kk + 1, k, :], 0])\n",
    "                a_3d = np.hstack([dxy_r[kk, k, :], 0])\n",
    "                c = np.cross(b_3d, a_3d)\n",
    "                ang[kk, k] = np.dot(np.dot(np.sign(c[2]), 180) / np.pi,\n",
    "                                    math.atan2(np.linalg.norm(c),\n",
    "                                               np.dot(dxy_r[kk, k, :], dxy_r[kk + 1, k, :])))\n",
    "#         dxy_boxcar.append(boxcar_center(dxy_eu[:, k], window))\n",
    "#         ang_boxcar.append(boxcar_center(ang[:, k], window))\n",
    "        dxy_boxcar.append(dxy_eu[:, k])\n",
    "        ang_boxcar.append(ang[:, k])\n",
    "    disp_feat = np.array(disp_boxcar)\n",
    "    dxy_feat = np.array(dxy_boxcar)\n",
    "    ang_feat = np.array(ang_boxcar)\n",
    "    f.append(np.vstack((dxy_feat[:, 1:], ang_feat, disp_feat)))\n",
    "\n",
    "for m in range(0, len(f)):\n",
    "    f_integrated = np.zeros(len(processed_input_data[m]))\n",
    "    for k in range(round(framerate / 10), len(f[m][0]), round(framerate / 10)):\n",
    "        if k > round(framerate / 10):\n",
    "            f_integrated = np.concatenate(\n",
    "                (f_integrated.reshape(f_integrated.shape[0], f_integrated.shape[1]),\n",
    "                 np.hstack((np.mean((f[m][0:dxy_feat.shape[0],\n",
    "                                     range(k - round(framerate / 10), k)]), axis=1),\n",
    "                            np.sum((f[m][dxy_feat.shape[0]:f[m].shape[0],\n",
    "                                    range(k - round(framerate / 10), k)]), axis=1)\n",
    "                            )).reshape(len(f[0]), 1)), axis=1\n",
    "            )\n",
    "        else:\n",
    "            f_integrated = np.hstack(\n",
    "                (np.mean((f[m][0:dxy_feat.shape[0], range(k - round(framerate / 10), k)]), axis=1),\n",
    "                 np.sum((f[m][dxy_feat.shape[0]:f[m].shape[0],\n",
    "                         range(k - round(framerate / 10), k)]), axis=1))).reshape(len(f[0]), 1)\n",
    "    if m > 0:\n",
    "        features = np.concatenate((features, f_integrated), axis=1)\n",
    "    else:\n",
    "        features = f_integrated"
   ]
  },
  {
   "cell_type": "code",
   "execution_count": 16,
   "metadata": {},
   "outputs": [
    {
     "data": {
      "text/plain": [
       "((36, 16512), (5503, 36))"
      ]
     },
     "execution_count": 16,
     "metadata": {},
     "output_type": "execute_result"
    }
   ],
   "source": [
    "f[0].shape, features.T.shape"
   ]
  },
  {
   "cell_type": "code",
   "execution_count": 17,
   "metadata": {},
   "outputs": [],
   "source": [
    "X = features.T.copy()\n",
    "predictions = clf.predict(X)"
   ]
  },
  {
   "cell_type": "code",
   "execution_count": 18,
   "metadata": {},
   "outputs": [
    {
     "data": {
      "text/plain": [
       "<matplotlib.collections.PathCollection at 0x2ad8bfa9708>"
      ]
     },
     "execution_count": 18,
     "metadata": {},
     "output_type": "execute_result"
    },
    {
     "data": {
      "image/png": "[encoded data removed]",
      "text/plain": [
       "<Figure size 432x288 with 1 Axes>"
      ]
     },
     "metadata": {
      "needs_background": "light"
     },
     "output_type": "display_data"
    }
   ],
   "source": [
    "plt.scatter(np.arange(len(predictions)), predictions, s=0.5, color='k', alpha=0.3)"
   ]
  },
  {
   "cell_type": "code",
   "execution_count": 19,
   "metadata": {},
   "outputs": [
    {
     "data": {
      "text/plain": [
       "421"
      ]
     },
     "execution_count": 19,
     "metadata": {},
     "output_type": "execute_result"
    }
   ],
   "source": [
    "len(np.where(predictions==9)[0])\n",
    "len(np.where(np.diff(np.where(predictions==9)[0]) !=1)[0])"
   ]
  },
  {
   "cell_type": "code",
   "execution_count": 20,
   "metadata": {},
   "outputs": [],
   "source": [
    "stim_time = np.where(predictions==9)[0][np.where(np.diff(np.where(predictions==9)[0]) !=1)[0]]"
   ]
  },
  {
   "cell_type": "code",
   "execution_count": 21,
   "metadata": {},
   "outputs": [
    {
     "data": {
      "text/plain": [
       "(0.0, 545.4)"
      ]
     },
     "execution_count": 21,
     "metadata": {},
     "output_type": "execute_result"
    },
    {
     "data": {
      "image/png": "[encoded data removed]",
      "text/plain": [
       "<Figure size 432x288 with 1 Axes>"
      ]
     },
     "metadata": {
      "needs_background": "light"
     },
     "output_type": "display_data"
    }
   ],
   "source": [
    "fig, ax = plt.subplots(1, 1)\n",
    "ax.plot(stim_time/10)\n",
    "ax.set_xlabel('stim counts')\n",
    "ax.set_ylabel('second since start')\n",
    "ax.vlines(np.where(stim_time/10 > 300)[0][0], 0, (stim_time/10).max())\n",
    "ax.set_ylim([0, (stim_time/10).max()])"
   ]
  },
  {
   "cell_type": "code",
   "execution_count": 22,
   "metadata": {},
   "outputs": [],
   "source": [
    "np.save('../tmp/posthoc_trial1_orientL.npy', np.array(stim_time)/10)"
   ]
  },
  {
   "cell_type": "code",
   "execution_count": 20,
   "metadata": {},
   "outputs": [
    {
     "name": "stdout",
     "output_type": "stream",
     "text": [
      "[   0  600 1200 1800 2400 3000 3600 4200 4800 5400] [ 600 1200 1800 2400 3000 3600 4200 4800 5400 6000]\n"
     ]
    }
   ],
   "source": [
    "bin_start = np.arange(0, np.max(stim_time), 600)\n",
    "bin_end = np.arange(600, np.max(stim_time)+600, 600)\n",
    "print(bin_start, bin_end)\n",
    "stim_binned_counts = []\n",
    "for b in range(len(bin_start)):\n",
    "    stim_binned_counts.append(len(np.where((stim_time >= bin_start[b]) \n",
    "                                           & (stim_time < bin_end[b]))[0]))"
   ]
  },
  {
   "cell_type": "code",
   "execution_count": 21,
   "metadata": {},
   "outputs": [
    {
     "data": {
      "text/plain": [
       "<BarContainer object of 10 artists>"
      ]
     },
     "execution_count": 21,
     "metadata": {},
     "output_type": "execute_result"
    },
    {
     "data": {
      "image/png": "[encoded data removed]",
      "text/plain": [
       "<Figure size 432x288 with 1 Axes>"
      ]
     },
     "metadata": {
      "needs_background": "light"
     },
     "output_type": "display_data"
    }
   ],
   "source": [
    "plt.bar(np.arange(len(stim_binned_counts)), stim_binned_counts)"
   ]
  },
  {
   "cell_type": "code",
   "execution_count": 90,
   "metadata": {},
   "outputs": [
    {
     "data": {
      "text/plain": [
       "<BarContainer object of 10 artists>"
      ]
     },
     "execution_count": 90,
     "metadata": {},
     "output_type": "execute_result"
    },
    {
     "data": {
      "image/png": "[encoded data removed]",
      "text/plain": [
       "<Figure size 432x288 with 1 Axes>"
      ]
     },
     "metadata": {
      "needs_background": "light"
     },
     "output_type": "display_data"
    }
   ],
   "source": [
    "plt.bar(np.arange(len(stim_binned_counts)), stim_binned_counts)"
   ]
  },
  {
   "cell_type": "code",
   "execution_count": 106,
   "metadata": {},
   "outputs": [
    {
     "name": "stdout",
     "output_type": "stream",
     "text": [
      "42.0\n"
     ]
    }
   ],
   "source": [
    "print(np.mean(stim_binned_counts))"
   ]
  },
  {
   "cell_type": "code",
   "execution_count": 82,
   "metadata": {},
   "outputs": [
    {
     "data": {
      "text/plain": [
       "array([  0,   3,   4,   5,   6,   7,   8,   9,  10,  11,  12,  14,  16,\n",
       "        18,  20,  21,  23,  27,  28,  29,  31,  33,  35,  37,  38,  40,\n",
       "        42,  44,  45,  47,  50,  52,  54,  55,  57,  60,  61,  65,  66,\n",
       "        67,  68,  70,  71,  72,  74,  75,  77,  78,  79,  81,  82,  83,\n",
       "        85,  88,  91,  95,  96, 101, 102, 104, 105, 106, 107, 110, 111,\n",
       "       113, 116, 119, 120, 122, 124, 125, 126, 130, 134, 135, 138, 140,\n",
       "       142, 143, 144, 150, 151, 152, 153, 154, 155, 157, 158, 162, 164,\n",
       "       165, 166, 168, 169, 170, 171, 174, 175, 176, 177, 180, 182, 184,\n",
       "       186, 190, 193, 194, 195, 196, 197, 198, 200, 202, 205, 206, 208,\n",
       "       209, 210, 211, 215, 216, 218, 219, 220, 221, 226, 227, 229, 230,\n",
       "       231, 234, 235, 238, 239, 241, 242, 243, 244, 245, 249, 250, 251,\n",
       "       252, 256, 257, 258, 259, 261, 262, 264, 266, 268, 270, 271, 272,\n",
       "       274, 275, 276, 277, 279, 280, 282, 283, 285, 286, 287, 289, 290,\n",
       "       291, 293, 294, 295, 296, 299, 300, 301, 302, 303, 304, 305, 308,\n",
       "       310, 311, 314, 316, 317, 318, 320, 323, 325, 326, 327, 328, 329,\n",
       "       331, 332, 333, 335, 336, 339, 341, 344, 345, 346, 347, 348, 350,\n",
       "       351, 352, 353, 358, 359, 361, 363, 364, 365, 366, 367, 369, 372,\n",
       "       374, 375, 376, 377, 378, 379, 380, 381, 383, 384, 385, 386, 388,\n",
       "       389, 392, 395, 396, 397, 400, 404, 405, 406, 407, 409, 410, 412,\n",
       "       413, 414, 415, 416, 418, 419, 420, 421, 423, 424, 427, 429, 431,\n",
       "       433, 436, 437, 442, 443, 444, 445, 446, 448, 449, 452, 453, 456,\n",
       "       458, 460, 461, 462, 463, 464, 465, 466, 469, 471, 473, 475, 476,\n",
       "       477, 478, 479, 480, 481, 483, 484, 485, 486, 488, 491, 492, 493,\n",
       "       494, 496, 497, 501, 502, 503, 505, 506, 507, 508, 512, 516, 518,\n",
       "       519, 521, 522, 523, 524, 526, 530, 531, 533, 535, 536, 538, 539,\n",
       "       540, 541, 542, 543, 544, 547, 548, 549, 550, 551, 552, 554, 555,\n",
       "       556, 557, 559, 560, 561, 562, 563, 564, 565, 566, 567, 568, 569,\n",
       "       570, 571, 573, 574, 575, 576, 577, 578, 580, 581, 583, 584, 585,\n",
       "       588, 589, 592, 593, 594, 597, 598, 601, 602, 603, 604, 606, 607,\n",
       "       608, 609, 610, 611, 614], dtype=int64)"
      ]
     },
     "execution_count": 82,
     "metadata": {},
     "output_type": "execute_result"
    }
   ],
   "source": [
    "np.where(np.diff(np.where(predictions==9)[0]) !=1)[0]"
   ]
  },
  {
   "cell_type": "code",
   "execution_count": null,
   "metadata": {},
   "outputs": [],
   "source": [
    "snout_x = np.array(df.iloc[2:100, 1])\n",
    "snout_y = np.array(df.iloc[2:100, 2])"
   ]
  },
  {
   "cell_type": "code",
   "execution_count": null,
   "metadata": {},
   "outputs": [],
   "source": [
    "import numpy as np\n",
    "import matplotlib.pyplot as plt"
   ]
  },
  {
   "cell_type": "code",
   "execution_count": null,
   "metadata": {},
   "outputs": [],
   "source": [
    "fig = plt.figure()\n",
    "ax = fig.add_subplot(111, projection='3d')\n",
    "ax.scatter(snout_x, snout_y, np.arange(len(snout_x)), s=100, c='k')\n",
    "ax.set_xlim([0, 1000])\n",
    "plt.show()"
   ]
  },
  {
   "cell_type": "code",
   "execution_count": null,
   "metadata": {},
   "outputs": [],
   "source": [
    "snout_x.shape, snout_y.shape, len(snout_x), snout_x, snout_y"
   ]
  }
 ],
 "metadata": {
  "kernelspec": {
   "display_name": "Python 3 (ipykernel)",
   "language": "python",
   "name": "python3"
  },
  "language_info": {
   "codemirror_mode": {
    "name": "ipython",
    "version": 3
   },
   "file_extension": ".py",
   "mimetype": "text/x-python",
   "name": "python",
   "nbconvert_exporter": "python",
   "pygments_lexer": "ipython3",
   "version": "3.8.0"
  }
 },
 "nbformat": 4,
 "nbformat_minor": 4
}
