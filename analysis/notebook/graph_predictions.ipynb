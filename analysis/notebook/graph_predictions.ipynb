{
 "cells": [
  {
   "cell_type": "code",
   "execution_count": null,
   "id": "85c47f7a-437c-49c4-83db-baa209ebfb29",
   "metadata": {},
   "outputs": [],
   "source": [
    "import joblib\n",
    "import os\n",
    "import pandas as pd\n",
    "from sklearn.ensemble import RandomForestClassifier\n",
    "import numpy as np\n",
    "from datetime import datetime\n",
    "import matplotlib.pyplot as plt\n",
    "import pickle\n",
    "import time\n",
    "from tkinter import *\n",
    "from tkinter import filedialog\n",
    "from tqdm import tqdm\n",
    "import itertools\n",
    "import math"
   ]
  },
  {
   "cell_type": "code",
   "execution_count": 3,
   "id": "8fd1f2d3-5fba-4939-952f-193691af6fd9",
   "metadata": {},
   "outputs": [
    {
     "ename": "NameError",
     "evalue": "name 'fileoutname' is not defined",
     "output_type": "error",
     "traceback": [
      "\u001b[1;31m---------------------------------------------------------------------------\u001b[0m",
      "\u001b[1;31mNameError\u001b[0m                                 Traceback (most recent call last)",
      "Input \u001b[1;32mIn [3]\u001b[0m, in \u001b[0;36m<cell line: 2>\u001b[1;34m()\u001b[0m\n\u001b[0;32m      1\u001b[0m all_predictions \u001b[38;5;241m=\u001b[39m []\n\u001b[0;32m      2\u001b[0m \u001b[38;5;28;01mfor\u001b[39;00m _ \u001b[38;5;129;01min\u001b[39;00m \u001b[38;5;28mrange\u001b[39m(\u001b[38;5;241m6\u001b[39m):\n\u001b[0;32m      3\u001b[0m     \u001b[38;5;66;03m# join duplicates of the same array\u001b[39;00m\n\u001b[1;32m----> 4\u001b[0m     predictions \u001b[38;5;241m=\u001b[39m np\u001b[38;5;241m.\u001b[39mload(\u001b[43mfileoutname\u001b[49m)\n\u001b[0;32m      5\u001b[0m     all_predictions\u001b[38;5;241m.\u001b[39mappend(predictions)\n\u001b[0;32m      6\u001b[0m \u001b[38;5;66;03m# all_predictions\u001b[39;00m\n",
      "\u001b[1;31mNameError\u001b[0m: name 'fileoutname' is not defined"
     ]
    }
   ],
   "source": [
    "all_predictions = []\n",
    "for _ in range(6):\n",
    "    # join duplicates of the same array\n",
    "    predictions = np.load(fileoutname)\n",
    "    all_predictions.append(predictions)\n",
    "# all_predictions\n",
    "all_predictions_arr = np.hstack(all_predictions)"
   ]
  },
  {
   "cell_type": "code",
   "execution_count": 4,
   "id": "82a41d91-52bb-427e-99fc-7b9623868d50",
   "metadata": {},
   "outputs": [
    {
     "ename": "NameError",
     "evalue": "name 'all_predictions_arr' is not defined",
     "output_type": "error",
     "traceback": [
      "\u001b[1;31m---------------------------------------------------------------------------\u001b[0m",
      "\u001b[1;31mNameError\u001b[0m                                 Traceback (most recent call last)",
      "Input \u001b[1;32mIn [4]\u001b[0m, in \u001b[0;36m<cell line: 4>\u001b[1;34m()\u001b[0m\n\u001b[0;32m      2\u001b[0m jitter\u001b[38;5;241m=\u001b[39m\u001b[38;5;241m0.5\u001b[39m\n\u001b[0;32m      3\u001b[0m fig, ax \u001b[38;5;241m=\u001b[39m plt\u001b[38;5;241m.\u001b[39msubplots(\u001b[38;5;241m1\u001b[39m, \u001b[38;5;241m1\u001b[39m, figsize\u001b[38;5;241m=\u001b[39m(\u001b[38;5;241m6\u001b[39m, \u001b[38;5;241m4\u001b[39m))\n\u001b[1;32m----> 4\u001b[0m ax\u001b[38;5;241m.\u001b[39mhlines(class_of_interest\u001b[38;5;241m-\u001b[39mjitter, \u001b[38;5;241m0\u001b[39m, \u001b[38;5;28mlen\u001b[39m(\u001b[43mall_predictions_arr\u001b[49m), \u001b[38;5;124m'\u001b[39m\u001b[38;5;124mr\u001b[39m\u001b[38;5;124m'\u001b[39m, alpha\u001b[38;5;241m=\u001b[39m\u001b[38;5;241m0.7\u001b[39m)\n\u001b[0;32m      5\u001b[0m ax\u001b[38;5;241m.\u001b[39mhlines(class_of_interest\u001b[38;5;241m+\u001b[39mjitter, \u001b[38;5;241m0\u001b[39m, \u001b[38;5;28mlen\u001b[39m(all_predictions_arr), \u001b[38;5;124m'\u001b[39m\u001b[38;5;124mr\u001b[39m\u001b[38;5;124m'\u001b[39m, alpha\u001b[38;5;241m=\u001b[39m\u001b[38;5;241m0.7\u001b[39m)\n\u001b[0;32m      6\u001b[0m ax\u001b[38;5;241m.\u001b[39mvlines(\u001b[38;5;241m0\u001b[39m\u001b[38;5;241m-\u001b[39mjitter, class_of_interest\u001b[38;5;241m-\u001b[39mjitter, class_of_interest\u001b[38;5;241m+\u001b[39mjitter, \u001b[38;5;124m'\u001b[39m\u001b[38;5;124mr\u001b[39m\u001b[38;5;124m'\u001b[39m, alpha\u001b[38;5;241m=\u001b[39m\u001b[38;5;241m0.7\u001b[39m)\n",
      "\u001b[1;31mNameError\u001b[0m: name 'all_predictions_arr' is not defined"
     ]
    },
    {
     "data": {
      "image/png": "[encoded data removed]",
      "text/plain": [
       "<Figure size 600x400 with 1 Axes>"
      ]
     },
     "metadata": {},
     "output_type": "display_data"
    }
   ],
   "source": [
    "class_of_interest=17\n",
    "jitter=0.5\n",
    "fig, ax = plt.subplots(1, 1, figsize=(6, 4))\n",
    "ax.hlines(class_of_interest-jitter, 0, len(all_predictions_arr), 'r', alpha=0.7)\n",
    "ax.hlines(class_of_interest+jitter, 0, len(all_predictions_arr), 'r', alpha=0.7)\n",
    "ax.vlines(0-jitter, class_of_interest-jitter, class_of_interest+jitter, 'r', alpha=0.7)\n",
    "ax.vlines(len(all_predictions_arr)+jitter, class_of_interest-jitter, class_of_interest+jitter, 'r', alpha=0.7)\n",
    "ax.scatter(np.arange(len(all_predictions_arr)), all_predictions_arr, s=0.5, color='k', alpha=0.3)\n",
    "ax.set_xticks(np.arange(0, len(all_predictions_arr), 300))\n",
    "ax.set_xticklabels(np.arange(0, len(all_predictions_arr)/10, 30))\n",
    "ax.set_ylabel('behavior ID')\n",
    "ax.set_xlabel('time (s)')\n",
    "fig.savefig('./test.png', dpi=600)"
   ]
  },
  {
   "cell_type": "code",
   "execution_count": 5,
   "id": "211c8d2c-d0ad-4402-85bc-5c3284e917f3",
   "metadata": {},
   "outputs": [
    {
     "ename": "NameError",
     "evalue": "name 'all_predictions_arr' is not defined",
     "output_type": "error",
     "traceback": [
      "\u001b[1;31m---------------------------------------------------------------------------\u001b[0m",
      "\u001b[1;31mNameError\u001b[0m                                 Traceback (most recent call last)",
      "Input \u001b[1;32mIn [5]\u001b[0m, in \u001b[0;36m<cell line: 1>\u001b[1;34m()\u001b[0m\n\u001b[1;32m----> 1\u001b[0m \u001b[43mall_predictions_arr\u001b[49m\u001b[38;5;241m.\u001b[39mshape\n",
      "\u001b[1;31mNameError\u001b[0m: name 'all_predictions_arr' is not defined"
     ]
    }
   ],
   "source": [
    "all_predictions_arr.shape"
   ]
  },
  {
   "cell_type": "code",
   "execution_count": 6,
   "id": "7f29ae94-2161-4e0c-8150-7288b6ee760c",
   "metadata": {},
   "outputs": [
    {
     "ename": "NameError",
     "evalue": "name 'all_predictions_arr' is not defined",
     "output_type": "error",
     "traceback": [
      "\u001b[1;31m---------------------------------------------------------------------------\u001b[0m",
      "\u001b[1;31mNameError\u001b[0m                                 Traceback (most recent call last)",
      "Input \u001b[1;32mIn [6]\u001b[0m, in \u001b[0;36m<cell line: 1>\u001b[1;34m()\u001b[0m\n\u001b[1;32m----> 1\u001b[0m bin_start \u001b[38;5;241m=\u001b[39m np\u001b[38;5;241m.\u001b[39marange(\u001b[38;5;241m0\u001b[39m, np\u001b[38;5;241m.\u001b[39mmax(\u001b[38;5;28mlen\u001b[39m(\u001b[43mall_predictions_arr\u001b[49m)), \u001b[38;5;241m600\u001b[39m)\n\u001b[0;32m      2\u001b[0m bin_end \u001b[38;5;241m=\u001b[39m np\u001b[38;5;241m.\u001b[39marange(\u001b[38;5;241m600\u001b[39m, np\u001b[38;5;241m.\u001b[39mmax(\u001b[38;5;28mlen\u001b[39m(all_predictions_arr))\u001b[38;5;241m+\u001b[39m\u001b[38;5;241m600\u001b[39m, \u001b[38;5;241m600\u001b[39m)\n\u001b[0;32m      3\u001b[0m \u001b[38;5;28mprint\u001b[39m(bin_start, bin_end)\n",
      "\u001b[1;31mNameError\u001b[0m: name 'all_predictions_arr' is not defined"
     ]
    }
   ],
   "source": [
    "bin_start = np.arange(0, np.max(len(all_predictions_arr)), 600)\n",
    "bin_end = np.arange(600, np.max(len(all_predictions_arr))+600, 600)\n",
    "print(bin_start, bin_end)\n",
    "binned_predictions = []\n",
    "for b in range(len(bin_start)):\n",
    "    binned_predictions.append(all_predictions_arr[bin_start[b]:bin_end[b]])\n"
   ]
  },
  {
   "cell_type": "code",
   "execution_count": 7,
   "id": "ce946916-087b-4316-9e0c-c698c8cb0d0b",
   "metadata": {},
   "outputs": [
    {
     "ename": "NameError",
     "evalue": "name 'binned_predictions' is not defined",
     "output_type": "error",
     "traceback": [
      "\u001b[1;31m---------------------------------------------------------------------------\u001b[0m",
      "\u001b[1;31mNameError\u001b[0m                                 Traceback (most recent call last)",
      "Input \u001b[1;32mIn [7]\u001b[0m, in \u001b[0;36m<cell line: 1>\u001b[1;34m()\u001b[0m\n\u001b[1;32m----> 1\u001b[0m class_interest_binned \u001b[38;5;241m=\u001b[39m [\u001b[38;5;28mlen\u001b[39m(np\u001b[38;5;241m.\u001b[39mwhere(binned_predictions[b] \u001b[38;5;241m==\u001b[39m class_of_interest)[\u001b[38;5;241m0\u001b[39m]) \u001b[38;5;28;01mfor\u001b[39;00m b \u001b[38;5;129;01min\u001b[39;00m \u001b[38;5;28mrange\u001b[39m(\u001b[38;5;28mlen\u001b[39m(\u001b[43mbinned_predictions\u001b[49m))]\n\u001b[0;32m      3\u001b[0m plt\u001b[38;5;241m.\u001b[39mbar(np\u001b[38;5;241m.\u001b[39marange(\u001b[38;5;28mlen\u001b[39m(class_interest_binned)), class_interest_binned)\n",
      "\u001b[1;31mNameError\u001b[0m: name 'binned_predictions' is not defined"
     ]
    }
   ],
   "source": [
    "class_interest_binned = [len(np.where(binned_predictions[b] == class_of_interest)[0]) for b in range(len(binned_predictions))]\n",
    "\n",
    "plt.bar(np.arange(len(class_interest_binned)), class_interest_binned)"
   ]
  },
  {
   "cell_type": "code",
   "execution_count": 8,
   "id": "50e46961-a536-4d71-8ed2-980606a5f1d8",
   "metadata": {},
   "outputs": [
    {
     "ename": "NameError",
     "evalue": "name 'predictions' is not defined",
     "output_type": "error",
     "traceback": [
      "\u001b[1;31m---------------------------------------------------------------------------\u001b[0m",
      "\u001b[1;31mNameError\u001b[0m                                 Traceback (most recent call last)",
      "Input \u001b[1;32mIn [8]\u001b[0m, in \u001b[0;36m<cell line: 1>\u001b[1;34m()\u001b[0m\n\u001b[1;32m----> 1\u001b[0m np\u001b[38;5;241m.\u001b[39marange(\u001b[38;5;241m0\u001b[39m, \u001b[38;5;28mlen\u001b[39m(\u001b[43mpredictions\u001b[49m), \u001b[38;5;241m300\u001b[39m), np\u001b[38;5;241m.\u001b[39marange(\u001b[38;5;241m0\u001b[39m, \u001b[38;5;28mlen\u001b[39m(predictions)\u001b[38;5;241m/\u001b[39m\u001b[38;5;241m10\u001b[39m, \u001b[38;5;241m30\u001b[39m)\n",
      "\u001b[1;31mNameError\u001b[0m: name 'predictions' is not defined"
     ]
    }
   ],
   "source": [
    "np.arange(0, len(predictions), 300), np.arange(0, len(predictions)/10, 30)"
   ]
  }
 ],
 "metadata": {
  "kernelspec": {
   "display_name": "Python 3 (ipykernel)",
   "language": "python",
   "name": "python3"
  },
  "language_info": {
   "codemirror_mode": {
    "name": "ipython",
    "version": 3
   },
   "file_extension": ".py",
   "mimetype": "text/x-python",
   "name": "python",
   "nbconvert_exporter": "python",
   "pygments_lexer": "ipython3",
   "version": "3.8.0"
  }
 },
 "nbformat": 4,
 "nbformat_minor": 5
}
